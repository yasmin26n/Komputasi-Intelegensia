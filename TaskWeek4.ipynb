{
  "nbformat": 4,
  "nbformat_minor": 0,
  "metadata": {
    "colab": {
      "provenance": [],
      "collapsed_sections": [
        "BLo4xpV9rU34",
        "v4V9Lqra0hkQ",
        "r3G5fN3f4y_I",
        "i06zgzlz9fMM",
        "kMX0vt9e_BCp",
        "lcpk5VjZAOHj",
        "kJ7OzoErK7TL",
        "QjH-tDwjL4FR"
      ],
      "gpuType": "T4",
      "authorship_tag": "ABX9TyPrM6CgHwGg/qkspKij1Ish",
      "include_colab_link": true
    },
    "kernelspec": {
      "name": "python3",
      "display_name": "Python 3"
    },
    "language_info": {
      "name": "python"
    },
    "accelerator": "GPU"
  },
  "cells": [
    {
      "cell_type": "markdown",
      "metadata": {
        "id": "view-in-github",
        "colab_type": "text"
      },
      "source": [
        "<a href=\"https://colab.research.google.com/github/yasmin26n/Komputasi-Intelegensia/blob/main/TaskWeek4.ipynb\" target=\"_parent\"><img src=\"https://colab.research.google.com/assets/colab-badge.svg\" alt=\"Open In Colab\"/></a>"
      ]
    },
    {
      "cell_type": "markdown",
      "source": [
        "**KOMPUTASI INTELEGENSIA**\n",
        "\n",
        "Nama : Yasmin Nashwa Alifya\n",
        "\n",
        "NPM : 2106725040"
      ],
      "metadata": {
        "id": "WKqLGIw-pd6x"
      }
    },
    {
      "cell_type": "markdown",
      "source": [
        "# 8.1. Deep Convolutional Neural Networks (AlexNet)"
      ],
      "metadata": {
        "id": "NLF40LFKptIL"
      }
    },
    {
      "cell_type": "code",
      "execution_count": 1,
      "metadata": {
        "colab": {
          "base_uri": "https://localhost:8080/"
        },
        "id": "jEGumE6mowVm",
        "outputId": "4b9ea805-a5fe-4fd3-da51-e38a6d525970"
      },
      "outputs": [
        {
          "output_type": "stream",
          "name": "stdout",
          "text": [
            "Requirement already satisfied: d2l in /usr/local/lib/python3.10/dist-packages (1.0.3)\n",
            "Requirement already satisfied: jupyter==1.0.0 in /usr/local/lib/python3.10/dist-packages (from d2l) (1.0.0)\n",
            "Requirement already satisfied: numpy==1.23.5 in /usr/local/lib/python3.10/dist-packages (from d2l) (1.23.5)\n",
            "Requirement already satisfied: matplotlib==3.7.2 in /usr/local/lib/python3.10/dist-packages (from d2l) (3.7.2)\n",
            "Requirement already satisfied: matplotlib-inline==0.1.6 in /usr/local/lib/python3.10/dist-packages (from d2l) (0.1.6)\n",
            "Requirement already satisfied: requests==2.31.0 in /usr/local/lib/python3.10/dist-packages (from d2l) (2.31.0)\n",
            "Requirement already satisfied: pandas==2.0.3 in /usr/local/lib/python3.10/dist-packages (from d2l) (2.0.3)\n",
            "Requirement already satisfied: scipy==1.10.1 in /usr/local/lib/python3.10/dist-packages (from d2l) (1.10.1)\n",
            "Requirement already satisfied: notebook in /usr/local/lib/python3.10/dist-packages (from jupyter==1.0.0->d2l) (6.5.5)\n",
            "Requirement already satisfied: qtconsole in /usr/local/lib/python3.10/dist-packages (from jupyter==1.0.0->d2l) (5.6.0)\n",
            "Requirement already satisfied: jupyter-console in /usr/local/lib/python3.10/dist-packages (from jupyter==1.0.0->d2l) (6.1.0)\n",
            "Requirement already satisfied: nbconvert in /usr/local/lib/python3.10/dist-packages (from jupyter==1.0.0->d2l) (6.5.4)\n",
            "Requirement already satisfied: ipykernel in /usr/local/lib/python3.10/dist-packages (from jupyter==1.0.0->d2l) (5.5.6)\n",
            "Requirement already satisfied: ipywidgets in /usr/local/lib/python3.10/dist-packages (from jupyter==1.0.0->d2l) (7.7.1)\n",
            "Requirement already satisfied: contourpy>=1.0.1 in /usr/local/lib/python3.10/dist-packages (from matplotlib==3.7.2->d2l) (1.3.0)\n",
            "Requirement already satisfied: cycler>=0.10 in /usr/local/lib/python3.10/dist-packages (from matplotlib==3.7.2->d2l) (0.12.1)\n",
            "Requirement already satisfied: fonttools>=4.22.0 in /usr/local/lib/python3.10/dist-packages (from matplotlib==3.7.2->d2l) (4.54.1)\n",
            "Requirement already satisfied: kiwisolver>=1.0.1 in /usr/local/lib/python3.10/dist-packages (from matplotlib==3.7.2->d2l) (1.4.7)\n",
            "Requirement already satisfied: packaging>=20.0 in /usr/local/lib/python3.10/dist-packages (from matplotlib==3.7.2->d2l) (24.1)\n",
            "Requirement already satisfied: pillow>=6.2.0 in /usr/local/lib/python3.10/dist-packages (from matplotlib==3.7.2->d2l) (10.4.0)\n",
            "Requirement already satisfied: pyparsing<3.1,>=2.3.1 in /usr/local/lib/python3.10/dist-packages (from matplotlib==3.7.2->d2l) (3.0.9)\n",
            "Requirement already satisfied: python-dateutil>=2.7 in /usr/local/lib/python3.10/dist-packages (from matplotlib==3.7.2->d2l) (2.8.2)\n",
            "Requirement already satisfied: traitlets in /usr/local/lib/python3.10/dist-packages (from matplotlib-inline==0.1.6->d2l) (5.7.1)\n",
            "Requirement already satisfied: pytz>=2020.1 in /usr/local/lib/python3.10/dist-packages (from pandas==2.0.3->d2l) (2024.2)\n",
            "Requirement already satisfied: tzdata>=2022.1 in /usr/local/lib/python3.10/dist-packages (from pandas==2.0.3->d2l) (2024.2)\n",
            "Requirement already satisfied: charset-normalizer<4,>=2 in /usr/local/lib/python3.10/dist-packages (from requests==2.31.0->d2l) (3.3.2)\n",
            "Requirement already satisfied: idna<4,>=2.5 in /usr/local/lib/python3.10/dist-packages (from requests==2.31.0->d2l) (3.10)\n",
            "Requirement already satisfied: urllib3<3,>=1.21.1 in /usr/local/lib/python3.10/dist-packages (from requests==2.31.0->d2l) (2.2.3)\n",
            "Requirement already satisfied: certifi>=2017.4.17 in /usr/local/lib/python3.10/dist-packages (from requests==2.31.0->d2l) (2024.8.30)\n",
            "Requirement already satisfied: six>=1.5 in /usr/local/lib/python3.10/dist-packages (from python-dateutil>=2.7->matplotlib==3.7.2->d2l) (1.16.0)\n",
            "Requirement already satisfied: ipython-genutils in /usr/local/lib/python3.10/dist-packages (from ipykernel->jupyter==1.0.0->d2l) (0.2.0)\n",
            "Requirement already satisfied: ipython>=5.0.0 in /usr/local/lib/python3.10/dist-packages (from ipykernel->jupyter==1.0.0->d2l) (7.34.0)\n",
            "Requirement already satisfied: jupyter-client in /usr/local/lib/python3.10/dist-packages (from ipykernel->jupyter==1.0.0->d2l) (6.1.12)\n",
            "Requirement already satisfied: tornado>=4.2 in /usr/local/lib/python3.10/dist-packages (from ipykernel->jupyter==1.0.0->d2l) (6.3.3)\n",
            "Requirement already satisfied: widgetsnbextension~=3.6.0 in /usr/local/lib/python3.10/dist-packages (from ipywidgets->jupyter==1.0.0->d2l) (3.6.9)\n",
            "Requirement already satisfied: jupyterlab-widgets>=1.0.0 in /usr/local/lib/python3.10/dist-packages (from ipywidgets->jupyter==1.0.0->d2l) (3.0.13)\n",
            "Requirement already satisfied: prompt-toolkit!=3.0.0,!=3.0.1,<3.1.0,>=2.0.0 in /usr/local/lib/python3.10/dist-packages (from jupyter-console->jupyter==1.0.0->d2l) (3.0.48)\n",
            "Requirement already satisfied: pygments in /usr/local/lib/python3.10/dist-packages (from jupyter-console->jupyter==1.0.0->d2l) (2.18.0)\n",
            "Requirement already satisfied: lxml in /usr/local/lib/python3.10/dist-packages (from nbconvert->jupyter==1.0.0->d2l) (4.9.4)\n",
            "Requirement already satisfied: beautifulsoup4 in /usr/local/lib/python3.10/dist-packages (from nbconvert->jupyter==1.0.0->d2l) (4.12.3)\n",
            "Requirement already satisfied: bleach in /usr/local/lib/python3.10/dist-packages (from nbconvert->jupyter==1.0.0->d2l) (6.1.0)\n",
            "Requirement already satisfied: defusedxml in /usr/local/lib/python3.10/dist-packages (from nbconvert->jupyter==1.0.0->d2l) (0.7.1)\n",
            "Requirement already satisfied: entrypoints>=0.2.2 in /usr/local/lib/python3.10/dist-packages (from nbconvert->jupyter==1.0.0->d2l) (0.4)\n",
            "Requirement already satisfied: jinja2>=3.0 in /usr/local/lib/python3.10/dist-packages (from nbconvert->jupyter==1.0.0->d2l) (3.1.4)\n",
            "Requirement already satisfied: jupyter-core>=4.7 in /usr/local/lib/python3.10/dist-packages (from nbconvert->jupyter==1.0.0->d2l) (5.7.2)\n",
            "Requirement already satisfied: jupyterlab-pygments in /usr/local/lib/python3.10/dist-packages (from nbconvert->jupyter==1.0.0->d2l) (0.3.0)\n",
            "Requirement already satisfied: MarkupSafe>=2.0 in /usr/local/lib/python3.10/dist-packages (from nbconvert->jupyter==1.0.0->d2l) (2.1.5)\n",
            "Requirement already satisfied: mistune<2,>=0.8.1 in /usr/local/lib/python3.10/dist-packages (from nbconvert->jupyter==1.0.0->d2l) (0.8.4)\n",
            "Requirement already satisfied: nbclient>=0.5.0 in /usr/local/lib/python3.10/dist-packages (from nbconvert->jupyter==1.0.0->d2l) (0.10.0)\n",
            "Requirement already satisfied: nbformat>=5.1 in /usr/local/lib/python3.10/dist-packages (from nbconvert->jupyter==1.0.0->d2l) (5.10.4)\n",
            "Requirement already satisfied: pandocfilters>=1.4.1 in /usr/local/lib/python3.10/dist-packages (from nbconvert->jupyter==1.0.0->d2l) (1.5.1)\n",
            "Requirement already satisfied: tinycss2 in /usr/local/lib/python3.10/dist-packages (from nbconvert->jupyter==1.0.0->d2l) (1.3.0)\n",
            "Requirement already satisfied: pyzmq<25,>=17 in /usr/local/lib/python3.10/dist-packages (from notebook->jupyter==1.0.0->d2l) (24.0.1)\n",
            "Requirement already satisfied: argon2-cffi in /usr/local/lib/python3.10/dist-packages (from notebook->jupyter==1.0.0->d2l) (23.1.0)\n",
            "Requirement already satisfied: nest-asyncio>=1.5 in /usr/local/lib/python3.10/dist-packages (from notebook->jupyter==1.0.0->d2l) (1.6.0)\n",
            "Requirement already satisfied: Send2Trash>=1.8.0 in /usr/local/lib/python3.10/dist-packages (from notebook->jupyter==1.0.0->d2l) (1.8.3)\n",
            "Requirement already satisfied: terminado>=0.8.3 in /usr/local/lib/python3.10/dist-packages (from notebook->jupyter==1.0.0->d2l) (0.18.1)\n",
            "Requirement already satisfied: prometheus-client in /usr/local/lib/python3.10/dist-packages (from notebook->jupyter==1.0.0->d2l) (0.21.0)\n",
            "Requirement already satisfied: nbclassic>=0.4.7 in /usr/local/lib/python3.10/dist-packages (from notebook->jupyter==1.0.0->d2l) (1.1.0)\n",
            "Requirement already satisfied: qtpy>=2.4.0 in /usr/local/lib/python3.10/dist-packages (from qtconsole->jupyter==1.0.0->d2l) (2.4.1)\n",
            "Requirement already satisfied: setuptools>=18.5 in /usr/local/lib/python3.10/dist-packages (from ipython>=5.0.0->ipykernel->jupyter==1.0.0->d2l) (71.0.4)\n",
            "Requirement already satisfied: jedi>=0.16 in /usr/local/lib/python3.10/dist-packages (from ipython>=5.0.0->ipykernel->jupyter==1.0.0->d2l) (0.19.1)\n",
            "Requirement already satisfied: decorator in /usr/local/lib/python3.10/dist-packages (from ipython>=5.0.0->ipykernel->jupyter==1.0.0->d2l) (4.4.2)\n",
            "Requirement already satisfied: pickleshare in /usr/local/lib/python3.10/dist-packages (from ipython>=5.0.0->ipykernel->jupyter==1.0.0->d2l) (0.7.5)\n",
            "Requirement already satisfied: backcall in /usr/local/lib/python3.10/dist-packages (from ipython>=5.0.0->ipykernel->jupyter==1.0.0->d2l) (0.2.0)\n",
            "Requirement already satisfied: pexpect>4.3 in /usr/local/lib/python3.10/dist-packages (from ipython>=5.0.0->ipykernel->jupyter==1.0.0->d2l) (4.9.0)\n",
            "Requirement already satisfied: platformdirs>=2.5 in /usr/local/lib/python3.10/dist-packages (from jupyter-core>=4.7->nbconvert->jupyter==1.0.0->d2l) (4.3.6)\n",
            "Requirement already satisfied: notebook-shim>=0.2.3 in /usr/local/lib/python3.10/dist-packages (from nbclassic>=0.4.7->notebook->jupyter==1.0.0->d2l) (0.2.4)\n",
            "Requirement already satisfied: fastjsonschema>=2.15 in /usr/local/lib/python3.10/dist-packages (from nbformat>=5.1->nbconvert->jupyter==1.0.0->d2l) (2.20.0)\n",
            "Requirement already satisfied: jsonschema>=2.6 in /usr/local/lib/python3.10/dist-packages (from nbformat>=5.1->nbconvert->jupyter==1.0.0->d2l) (4.23.0)\n",
            "Requirement already satisfied: wcwidth in /usr/local/lib/python3.10/dist-packages (from prompt-toolkit!=3.0.0,!=3.0.1,<3.1.0,>=2.0.0->jupyter-console->jupyter==1.0.0->d2l) (0.2.13)\n",
            "Requirement already satisfied: ptyprocess in /usr/local/lib/python3.10/dist-packages (from terminado>=0.8.3->notebook->jupyter==1.0.0->d2l) (0.7.0)\n",
            "Requirement already satisfied: argon2-cffi-bindings in /usr/local/lib/python3.10/dist-packages (from argon2-cffi->notebook->jupyter==1.0.0->d2l) (21.2.0)\n",
            "Requirement already satisfied: soupsieve>1.2 in /usr/local/lib/python3.10/dist-packages (from beautifulsoup4->nbconvert->jupyter==1.0.0->d2l) (2.6)\n",
            "Requirement already satisfied: webencodings in /usr/local/lib/python3.10/dist-packages (from bleach->nbconvert->jupyter==1.0.0->d2l) (0.5.1)\n",
            "Requirement already satisfied: parso<0.9.0,>=0.8.3 in /usr/local/lib/python3.10/dist-packages (from jedi>=0.16->ipython>=5.0.0->ipykernel->jupyter==1.0.0->d2l) (0.8.4)\n",
            "Requirement already satisfied: attrs>=22.2.0 in /usr/local/lib/python3.10/dist-packages (from jsonschema>=2.6->nbformat>=5.1->nbconvert->jupyter==1.0.0->d2l) (24.2.0)\n",
            "Requirement already satisfied: jsonschema-specifications>=2023.03.6 in /usr/local/lib/python3.10/dist-packages (from jsonschema>=2.6->nbformat>=5.1->nbconvert->jupyter==1.0.0->d2l) (2023.12.1)\n",
            "Requirement already satisfied: referencing>=0.28.4 in /usr/local/lib/python3.10/dist-packages (from jsonschema>=2.6->nbformat>=5.1->nbconvert->jupyter==1.0.0->d2l) (0.35.1)\n",
            "Requirement already satisfied: rpds-py>=0.7.1 in /usr/local/lib/python3.10/dist-packages (from jsonschema>=2.6->nbformat>=5.1->nbconvert->jupyter==1.0.0->d2l) (0.20.0)\n",
            "Requirement already satisfied: jupyter-server<3,>=1.8 in /usr/local/lib/python3.10/dist-packages (from notebook-shim>=0.2.3->nbclassic>=0.4.7->notebook->jupyter==1.0.0->d2l) (1.24.0)\n",
            "Requirement already satisfied: cffi>=1.0.1 in /usr/local/lib/python3.10/dist-packages (from argon2-cffi-bindings->argon2-cffi->notebook->jupyter==1.0.0->d2l) (1.17.1)\n",
            "Requirement already satisfied: pycparser in /usr/local/lib/python3.10/dist-packages (from cffi>=1.0.1->argon2-cffi-bindings->argon2-cffi->notebook->jupyter==1.0.0->d2l) (2.22)\n",
            "Requirement already satisfied: anyio<4,>=3.1.0 in /usr/local/lib/python3.10/dist-packages (from jupyter-server<3,>=1.8->notebook-shim>=0.2.3->nbclassic>=0.4.7->notebook->jupyter==1.0.0->d2l) (3.7.1)\n",
            "Requirement already satisfied: websocket-client in /usr/local/lib/python3.10/dist-packages (from jupyter-server<3,>=1.8->notebook-shim>=0.2.3->nbclassic>=0.4.7->notebook->jupyter==1.0.0->d2l) (1.8.0)\n",
            "Requirement already satisfied: sniffio>=1.1 in /usr/local/lib/python3.10/dist-packages (from anyio<4,>=3.1.0->jupyter-server<3,>=1.8->notebook-shim>=0.2.3->nbclassic>=0.4.7->notebook->jupyter==1.0.0->d2l) (1.3.1)\n",
            "Requirement already satisfied: exceptiongroup in /usr/local/lib/python3.10/dist-packages (from anyio<4,>=3.1.0->jupyter-server<3,>=1.8->notebook-shim>=0.2.3->nbclassic>=0.4.7->notebook->jupyter==1.0.0->d2l) (1.2.2)\n"
          ]
        }
      ],
      "source": [
        "!pip install d2l\n",
        "import torch\n",
        "from torch import nn\n",
        "from d2l import torch as d2l"
      ]
    },
    {
      "cell_type": "code",
      "source": [
        "class AlexNet(d2l.Classifier):\n",
        "    def __init__(self, lr=0.1, num_classes=10):\n",
        "        super().__init__()\n",
        "        self.save_hyperparameters()\n",
        "        self.net = nn.Sequential(\n",
        "            nn.LazyConv2d(96, kernel_size=11, stride=4, padding=1),\n",
        "            nn.ReLU(), nn.MaxPool2d(kernel_size=3, stride=2),\n",
        "            nn.LazyConv2d(256, kernel_size=5, padding=2), nn.ReLU(),\n",
        "            nn.MaxPool2d(kernel_size=3, stride=2),\n",
        "            nn.LazyConv2d(384, kernel_size=3, padding=1), nn.ReLU(),\n",
        "            nn.LazyConv2d(384, kernel_size=3, padding=1), nn.ReLU(),\n",
        "            nn.LazyConv2d(256, kernel_size=3, padding=1), nn.ReLU(),\n",
        "            nn.MaxPool2d(kernel_size=3, stride=2), nn.Flatten(),\n",
        "            nn.LazyLinear(4096), nn.ReLU(), nn.Dropout(p=0.5),\n",
        "            nn.LazyLinear(4096), nn.ReLU(),nn.Dropout(p=0.5),\n",
        "            nn.LazyLinear(num_classes))\n",
        "        self.net.apply(d2l.init_cnn)"
      ],
      "metadata": {
        "id": "E3acWE6AqJT9"
      },
      "execution_count": 2,
      "outputs": []
    },
    {
      "cell_type": "code",
      "source": [
        "AlexNet().layer_summary((1, 1, 224, 224))"
      ],
      "metadata": {
        "colab": {
          "base_uri": "https://localhost:8080/"
        },
        "id": "Vwq-sKkZqMOa",
        "outputId": "989876da-994b-463d-a964-5de9ff755973"
      },
      "execution_count": 3,
      "outputs": [
        {
          "output_type": "stream",
          "name": "stdout",
          "text": [
            "Conv2d output shape:\t torch.Size([1, 96, 54, 54])\n",
            "ReLU output shape:\t torch.Size([1, 96, 54, 54])\n",
            "MaxPool2d output shape:\t torch.Size([1, 96, 26, 26])\n",
            "Conv2d output shape:\t torch.Size([1, 256, 26, 26])\n",
            "ReLU output shape:\t torch.Size([1, 256, 26, 26])\n",
            "MaxPool2d output shape:\t torch.Size([1, 256, 12, 12])\n",
            "Conv2d output shape:\t torch.Size([1, 384, 12, 12])\n",
            "ReLU output shape:\t torch.Size([1, 384, 12, 12])\n",
            "Conv2d output shape:\t torch.Size([1, 384, 12, 12])\n",
            "ReLU output shape:\t torch.Size([1, 384, 12, 12])\n",
            "Conv2d output shape:\t torch.Size([1, 256, 12, 12])\n",
            "ReLU output shape:\t torch.Size([1, 256, 12, 12])\n",
            "MaxPool2d output shape:\t torch.Size([1, 256, 5, 5])\n",
            "Flatten output shape:\t torch.Size([1, 6400])\n",
            "Linear output shape:\t torch.Size([1, 4096])\n",
            "ReLU output shape:\t torch.Size([1, 4096])\n",
            "Dropout output shape:\t torch.Size([1, 4096])\n",
            "Linear output shape:\t torch.Size([1, 4096])\n",
            "ReLU output shape:\t torch.Size([1, 4096])\n",
            "Dropout output shape:\t torch.Size([1, 4096])\n",
            "Linear output shape:\t torch.Size([1, 10])\n"
          ]
        }
      ]
    },
    {
      "cell_type": "code",
      "source": [
        "model = AlexNet(lr=0.01)\n",
        "data = d2l.FashionMNIST(batch_size=128, resize=(224, 224))\n",
        "trainer = d2l.Trainer(max_epochs=10, num_gpus=1)\n",
        "trainer.fit(model, data)"
      ],
      "metadata": {
        "colab": {
          "base_uri": "https://localhost:8080/",
          "height": 265
        },
        "id": "ePNauZFKqOVK",
        "outputId": "7075d6d3-8c30-4368-9681-4a4a5ff4b436"
      },
      "execution_count": 4,
      "outputs": [
        {
          "output_type": "display_data",
          "data": {
            "text/plain": [
              "<Figure size 350x250 with 1 Axes>"
            ],
            "image/svg+xml": "<?xml version=\"1.0\" encoding=\"utf-8\" standalone=\"no\"?>\n<!DOCTYPE svg PUBLIC \"-//W3C//DTD SVG 1.1//EN\"\n  \"http://www.w3.org/Graphics/SVG/1.1/DTD/svg11.dtd\">\n<svg xmlns:xlink=\"http://www.w3.org/1999/xlink\" width=\"238.965625pt\" height=\"183.35625pt\" viewBox=\"0 0 238.965625 183.35625\" xmlns=\"http://www.w3.org/2000/svg\" version=\"1.1\">\n <metadata>\n  <rdf:RDF xmlns:dc=\"http://purl.org/dc/elements/1.1/\" xmlns:cc=\"http://creativecommons.org/ns#\" xmlns:rdf=\"http://www.w3.org/1999/02/22-rdf-syntax-ns#\">\n   <cc:Work>\n    <dc:type rdf:resource=\"http://purl.org/dc/dcmitype/StillImage\"/>\n    <dc:date>2024-10-04T14:03:44.860273</dc:date>\n    <dc:format>image/svg+xml</dc:format>\n    <dc:creator>\n     <cc:Agent>\n      <dc:title>Matplotlib v3.7.2, https://matplotlib.org/</dc:title>\n     </cc:Agent>\n    </dc:creator>\n   </cc:Work>\n  </rdf:RDF>\n </metadata>\n <defs>\n  <style type=\"text/css\">*{stroke-linejoin: round; stroke-linecap: butt}</style>\n </defs>\n <g id=\"figure_1\">\n  <g id=\"patch_1\">\n   <path d=\"M 0 183.35625 \nL 238.965625 183.35625 \nL 238.965625 0 \nL 0 0 \nz\n\" style=\"fill: #ffffff\"/>\n  </g>\n  <g id=\"axes_1\">\n   <g id=\"patch_2\">\n    <path d=\"M 30.103125 145.8 \nL 225.403125 145.8 \nL 225.403125 7.2 \nL 30.103125 7.2 \nz\n\" style=\"fill: #ffffff\"/>\n   </g>\n   <g id=\"matplotlib.axis_1\">\n    <g id=\"xtick_1\">\n     <g id=\"line2d_1\">\n      <defs>\n       <path id=\"m12c9144173\" d=\"M 0 0 \nL 0 3.5 \n\" style=\"stroke: #000000; stroke-width: 0.8\"/>\n      </defs>\n      <g>\n       <use xlink:href=\"#m12c9144173\" x=\"30.103125\" y=\"145.8\" style=\"stroke: #000000; stroke-width: 0.8\"/>\n      </g>\n     </g>\n     <g id=\"text_1\">\n      <!-- 0 -->\n      <g transform=\"translate(26.921875 160.398438) scale(0.1 -0.1)\">\n       <defs>\n        <path id=\"DejaVuSans-30\" d=\"M 2034 4250 \nQ 1547 4250 1301 3770 \nQ 1056 3291 1056 2328 \nQ 1056 1369 1301 889 \nQ 1547 409 2034 409 \nQ 2525 409 2770 889 \nQ 3016 1369 3016 2328 \nQ 3016 3291 2770 3770 \nQ 2525 4250 2034 4250 \nz\nM 2034 4750 \nQ 2819 4750 3233 4129 \nQ 3647 3509 3647 2328 \nQ 3647 1150 3233 529 \nQ 2819 -91 2034 -91 \nQ 1250 -91 836 529 \nQ 422 1150 422 2328 \nQ 422 3509 836 4129 \nQ 1250 4750 2034 4750 \nz\n\" transform=\"scale(0.015625)\"/>\n       </defs>\n       <use xlink:href=\"#DejaVuSans-30\"/>\n      </g>\n     </g>\n    </g>\n    <g id=\"xtick_2\">\n     <g id=\"line2d_2\">\n      <g>\n       <use xlink:href=\"#m12c9144173\" x=\"69.163125\" y=\"145.8\" style=\"stroke: #000000; stroke-width: 0.8\"/>\n      </g>\n     </g>\n     <g id=\"text_2\">\n      <!-- 2 -->\n      <g transform=\"translate(65.981875 160.398438) scale(0.1 -0.1)\">\n       <defs>\n        <path id=\"DejaVuSans-32\" d=\"M 1228 531 \nL 3431 531 \nL 3431 0 \nL 469 0 \nL 469 531 \nQ 828 903 1448 1529 \nQ 2069 2156 2228 2338 \nQ 2531 2678 2651 2914 \nQ 2772 3150 2772 3378 \nQ 2772 3750 2511 3984 \nQ 2250 4219 1831 4219 \nQ 1534 4219 1204 4116 \nQ 875 4013 500 3803 \nL 500 4441 \nQ 881 4594 1212 4672 \nQ 1544 4750 1819 4750 \nQ 2544 4750 2975 4387 \nQ 3406 4025 3406 3419 \nQ 3406 3131 3298 2873 \nQ 3191 2616 2906 2266 \nQ 2828 2175 2409 1742 \nQ 1991 1309 1228 531 \nz\n\" transform=\"scale(0.015625)\"/>\n       </defs>\n       <use xlink:href=\"#DejaVuSans-32\"/>\n      </g>\n     </g>\n    </g>\n    <g id=\"xtick_3\">\n     <g id=\"line2d_3\">\n      <g>\n       <use xlink:href=\"#m12c9144173\" x=\"108.223125\" y=\"145.8\" style=\"stroke: #000000; stroke-width: 0.8\"/>\n      </g>\n     </g>\n     <g id=\"text_3\">\n      <!-- 4 -->\n      <g transform=\"translate(105.041875 160.398438) scale(0.1 -0.1)\">\n       <defs>\n        <path id=\"DejaVuSans-34\" d=\"M 2419 4116 \nL 825 1625 \nL 2419 1625 \nL 2419 4116 \nz\nM 2253 4666 \nL 3047 4666 \nL 3047 1625 \nL 3713 1625 \nL 3713 1100 \nL 3047 1100 \nL 3047 0 \nL 2419 0 \nL 2419 1100 \nL 313 1100 \nL 313 1709 \nL 2253 4666 \nz\n\" transform=\"scale(0.015625)\"/>\n       </defs>\n       <use xlink:href=\"#DejaVuSans-34\"/>\n      </g>\n     </g>\n    </g>\n    <g id=\"xtick_4\">\n     <g id=\"line2d_4\">\n      <g>\n       <use xlink:href=\"#m12c9144173\" x=\"147.283125\" y=\"145.8\" style=\"stroke: #000000; stroke-width: 0.8\"/>\n      </g>\n     </g>\n     <g id=\"text_4\">\n      <!-- 6 -->\n      <g transform=\"translate(144.101875 160.398438) scale(0.1 -0.1)\">\n       <defs>\n        <path id=\"DejaVuSans-36\" d=\"M 2113 2584 \nQ 1688 2584 1439 2293 \nQ 1191 2003 1191 1497 \nQ 1191 994 1439 701 \nQ 1688 409 2113 409 \nQ 2538 409 2786 701 \nQ 3034 994 3034 1497 \nQ 3034 2003 2786 2293 \nQ 2538 2584 2113 2584 \nz\nM 3366 4563 \nL 3366 3988 \nQ 3128 4100 2886 4159 \nQ 2644 4219 2406 4219 \nQ 1781 4219 1451 3797 \nQ 1122 3375 1075 2522 \nQ 1259 2794 1537 2939 \nQ 1816 3084 2150 3084 \nQ 2853 3084 3261 2657 \nQ 3669 2231 3669 1497 \nQ 3669 778 3244 343 \nQ 2819 -91 2113 -91 \nQ 1303 -91 875 529 \nQ 447 1150 447 2328 \nQ 447 3434 972 4092 \nQ 1497 4750 2381 4750 \nQ 2619 4750 2861 4703 \nQ 3103 4656 3366 4563 \nz\n\" transform=\"scale(0.015625)\"/>\n       </defs>\n       <use xlink:href=\"#DejaVuSans-36\"/>\n      </g>\n     </g>\n    </g>\n    <g id=\"xtick_5\">\n     <g id=\"line2d_5\">\n      <g>\n       <use xlink:href=\"#m12c9144173\" x=\"186.343125\" y=\"145.8\" style=\"stroke: #000000; stroke-width: 0.8\"/>\n      </g>\n     </g>\n     <g id=\"text_5\">\n      <!-- 8 -->\n      <g transform=\"translate(183.161875 160.398438) scale(0.1 -0.1)\">\n       <defs>\n        <path id=\"DejaVuSans-38\" d=\"M 2034 2216 \nQ 1584 2216 1326 1975 \nQ 1069 1734 1069 1313 \nQ 1069 891 1326 650 \nQ 1584 409 2034 409 \nQ 2484 409 2743 651 \nQ 3003 894 3003 1313 \nQ 3003 1734 2745 1975 \nQ 2488 2216 2034 2216 \nz\nM 1403 2484 \nQ 997 2584 770 2862 \nQ 544 3141 544 3541 \nQ 544 4100 942 4425 \nQ 1341 4750 2034 4750 \nQ 2731 4750 3128 4425 \nQ 3525 4100 3525 3541 \nQ 3525 3141 3298 2862 \nQ 3072 2584 2669 2484 \nQ 3125 2378 3379 2068 \nQ 3634 1759 3634 1313 \nQ 3634 634 3220 271 \nQ 2806 -91 2034 -91 \nQ 1263 -91 848 271 \nQ 434 634 434 1313 \nQ 434 1759 690 2068 \nQ 947 2378 1403 2484 \nz\nM 1172 3481 \nQ 1172 3119 1398 2916 \nQ 1625 2713 2034 2713 \nQ 2441 2713 2670 2916 \nQ 2900 3119 2900 3481 \nQ 2900 3844 2670 4047 \nQ 2441 4250 2034 4250 \nQ 1625 4250 1398 4047 \nQ 1172 3844 1172 3481 \nz\n\" transform=\"scale(0.015625)\"/>\n       </defs>\n       <use xlink:href=\"#DejaVuSans-38\"/>\n      </g>\n     </g>\n    </g>\n    <g id=\"xtick_6\">\n     <g id=\"line2d_6\">\n      <g>\n       <use xlink:href=\"#m12c9144173\" x=\"225.403125\" y=\"145.8\" style=\"stroke: #000000; stroke-width: 0.8\"/>\n      </g>\n     </g>\n     <g id=\"text_6\">\n      <!-- 10 -->\n      <g transform=\"translate(219.040625 160.398438) scale(0.1 -0.1)\">\n       <defs>\n        <path id=\"DejaVuSans-31\" d=\"M 794 531 \nL 1825 531 \nL 1825 4091 \nL 703 3866 \nL 703 4441 \nL 1819 4666 \nL 2450 4666 \nL 2450 531 \nL 3481 531 \nL 3481 0 \nL 794 0 \nL 794 531 \nz\n\" transform=\"scale(0.015625)\"/>\n       </defs>\n       <use xlink:href=\"#DejaVuSans-31\"/>\n       <use xlink:href=\"#DejaVuSans-30\" x=\"63.623047\"/>\n      </g>\n     </g>\n    </g>\n    <g id=\"text_7\">\n     <!-- epoch -->\n     <g transform=\"translate(112.525 174.076563) scale(0.1 -0.1)\">\n      <defs>\n       <path id=\"DejaVuSans-65\" d=\"M 3597 1894 \nL 3597 1613 \nL 953 1613 \nQ 991 1019 1311 708 \nQ 1631 397 2203 397 \nQ 2534 397 2845 478 \nQ 3156 559 3463 722 \nL 3463 178 \nQ 3153 47 2828 -22 \nQ 2503 -91 2169 -91 \nQ 1331 -91 842 396 \nQ 353 884 353 1716 \nQ 353 2575 817 3079 \nQ 1281 3584 2069 3584 \nQ 2775 3584 3186 3129 \nQ 3597 2675 3597 1894 \nz\nM 3022 2063 \nQ 3016 2534 2758 2815 \nQ 2500 3097 2075 3097 \nQ 1594 3097 1305 2825 \nQ 1016 2553 972 2059 \nL 3022 2063 \nz\n\" transform=\"scale(0.015625)\"/>\n       <path id=\"DejaVuSans-70\" d=\"M 1159 525 \nL 1159 -1331 \nL 581 -1331 \nL 581 3500 \nL 1159 3500 \nL 1159 2969 \nQ 1341 3281 1617 3432 \nQ 1894 3584 2278 3584 \nQ 2916 3584 3314 3078 \nQ 3713 2572 3713 1747 \nQ 3713 922 3314 415 \nQ 2916 -91 2278 -91 \nQ 1894 -91 1617 61 \nQ 1341 213 1159 525 \nz\nM 3116 1747 \nQ 3116 2381 2855 2742 \nQ 2594 3103 2138 3103 \nQ 1681 3103 1420 2742 \nQ 1159 2381 1159 1747 \nQ 1159 1113 1420 752 \nQ 1681 391 2138 391 \nQ 2594 391 2855 752 \nQ 3116 1113 3116 1747 \nz\n\" transform=\"scale(0.015625)\"/>\n       <path id=\"DejaVuSans-6f\" d=\"M 1959 3097 \nQ 1497 3097 1228 2736 \nQ 959 2375 959 1747 \nQ 959 1119 1226 758 \nQ 1494 397 1959 397 \nQ 2419 397 2687 759 \nQ 2956 1122 2956 1747 \nQ 2956 2369 2687 2733 \nQ 2419 3097 1959 3097 \nz\nM 1959 3584 \nQ 2709 3584 3137 3096 \nQ 3566 2609 3566 1747 \nQ 3566 888 3137 398 \nQ 2709 -91 1959 -91 \nQ 1206 -91 779 398 \nQ 353 888 353 1747 \nQ 353 2609 779 3096 \nQ 1206 3584 1959 3584 \nz\n\" transform=\"scale(0.015625)\"/>\n       <path id=\"DejaVuSans-63\" d=\"M 3122 3366 \nL 3122 2828 \nQ 2878 2963 2633 3030 \nQ 2388 3097 2138 3097 \nQ 1578 3097 1268 2742 \nQ 959 2388 959 1747 \nQ 959 1106 1268 751 \nQ 1578 397 2138 397 \nQ 2388 397 2633 464 \nQ 2878 531 3122 666 \nL 3122 134 \nQ 2881 22 2623 -34 \nQ 2366 -91 2075 -91 \nQ 1284 -91 818 406 \nQ 353 903 353 1747 \nQ 353 2603 823 3093 \nQ 1294 3584 2113 3584 \nQ 2378 3584 2631 3529 \nQ 2884 3475 3122 3366 \nz\n\" transform=\"scale(0.015625)\"/>\n       <path id=\"DejaVuSans-68\" d=\"M 3513 2113 \nL 3513 0 \nL 2938 0 \nL 2938 2094 \nQ 2938 2591 2744 2837 \nQ 2550 3084 2163 3084 \nQ 1697 3084 1428 2787 \nQ 1159 2491 1159 1978 \nL 1159 0 \nL 581 0 \nL 581 4863 \nL 1159 4863 \nL 1159 2956 \nQ 1366 3272 1645 3428 \nQ 1925 3584 2291 3584 \nQ 2894 3584 3203 3211 \nQ 3513 2838 3513 2113 \nz\n\" transform=\"scale(0.015625)\"/>\n      </defs>\n      <use xlink:href=\"#DejaVuSans-65\"/>\n      <use xlink:href=\"#DejaVuSans-70\" x=\"61.523438\"/>\n      <use xlink:href=\"#DejaVuSans-6f\" x=\"125\"/>\n      <use xlink:href=\"#DejaVuSans-63\" x=\"186.181641\"/>\n      <use xlink:href=\"#DejaVuSans-68\" x=\"241.162109\"/>\n     </g>\n    </g>\n   </g>\n   <g id=\"matplotlib.axis_2\">\n    <g id=\"ytick_1\">\n     <g id=\"line2d_7\">\n      <defs>\n       <path id=\"m85d3841dec\" d=\"M 0 0 \nL -3.5 0 \n\" style=\"stroke: #000000; stroke-width: 0.8\"/>\n      </defs>\n      <g>\n       <use xlink:href=\"#m85d3841dec\" x=\"30.103125\" y=\"145.196742\" style=\"stroke: #000000; stroke-width: 0.8\"/>\n      </g>\n     </g>\n     <g id=\"text_8\">\n      <!-- 0.0 -->\n      <g transform=\"translate(7.2 148.99596) scale(0.1 -0.1)\">\n       <defs>\n        <path id=\"DejaVuSans-2e\" d=\"M 684 794 \nL 1344 794 \nL 1344 0 \nL 684 0 \nL 684 794 \nz\n\" transform=\"scale(0.015625)\"/>\n       </defs>\n       <use xlink:href=\"#DejaVuSans-30\"/>\n       <use xlink:href=\"#DejaVuSans-2e\" x=\"63.623047\"/>\n       <use xlink:href=\"#DejaVuSans-30\" x=\"95.410156\"/>\n      </g>\n     </g>\n    </g>\n    <g id=\"ytick_2\">\n     <g id=\"line2d_8\">\n      <g>\n       <use xlink:href=\"#m85d3841dec\" x=\"30.103125\" y=\"116.594233\" style=\"stroke: #000000; stroke-width: 0.8\"/>\n      </g>\n     </g>\n     <g id=\"text_9\">\n      <!-- 0.5 -->\n      <g transform=\"translate(7.2 120.393452) scale(0.1 -0.1)\">\n       <defs>\n        <path id=\"DejaVuSans-35\" d=\"M 691 4666 \nL 3169 4666 \nL 3169 4134 \nL 1269 4134 \nL 1269 2991 \nQ 1406 3038 1543 3061 \nQ 1681 3084 1819 3084 \nQ 2600 3084 3056 2656 \nQ 3513 2228 3513 1497 \nQ 3513 744 3044 326 \nQ 2575 -91 1722 -91 \nQ 1428 -91 1123 -41 \nQ 819 9 494 109 \nL 494 744 \nQ 775 591 1075 516 \nQ 1375 441 1709 441 \nQ 2250 441 2565 725 \nQ 2881 1009 2881 1497 \nQ 2881 1984 2565 2268 \nQ 2250 2553 1709 2553 \nQ 1456 2553 1204 2497 \nQ 953 2441 691 2322 \nL 691 4666 \nz\n\" transform=\"scale(0.015625)\"/>\n       </defs>\n       <use xlink:href=\"#DejaVuSans-30\"/>\n       <use xlink:href=\"#DejaVuSans-2e\" x=\"63.623047\"/>\n       <use xlink:href=\"#DejaVuSans-35\" x=\"95.410156\"/>\n      </g>\n     </g>\n    </g>\n    <g id=\"ytick_3\">\n     <g id=\"line2d_9\">\n      <g>\n       <use xlink:href=\"#m85d3841dec\" x=\"30.103125\" y=\"87.991724\" style=\"stroke: #000000; stroke-width: 0.8\"/>\n      </g>\n     </g>\n     <g id=\"text_10\">\n      <!-- 1.0 -->\n      <g transform=\"translate(7.2 91.790943) scale(0.1 -0.1)\">\n       <use xlink:href=\"#DejaVuSans-31\"/>\n       <use xlink:href=\"#DejaVuSans-2e\" x=\"63.623047\"/>\n       <use xlink:href=\"#DejaVuSans-30\" x=\"95.410156\"/>\n      </g>\n     </g>\n    </g>\n    <g id=\"ytick_4\">\n     <g id=\"line2d_10\">\n      <g>\n       <use xlink:href=\"#m85d3841dec\" x=\"30.103125\" y=\"59.389216\" style=\"stroke: #000000; stroke-width: 0.8\"/>\n      </g>\n     </g>\n     <g id=\"text_11\">\n      <!-- 1.5 -->\n      <g transform=\"translate(7.2 63.188435) scale(0.1 -0.1)\">\n       <use xlink:href=\"#DejaVuSans-31\"/>\n       <use xlink:href=\"#DejaVuSans-2e\" x=\"63.623047\"/>\n       <use xlink:href=\"#DejaVuSans-35\" x=\"95.410156\"/>\n      </g>\n     </g>\n    </g>\n    <g id=\"ytick_5\">\n     <g id=\"line2d_11\">\n      <g>\n       <use xlink:href=\"#m85d3841dec\" x=\"30.103125\" y=\"30.786707\" style=\"stroke: #000000; stroke-width: 0.8\"/>\n      </g>\n     </g>\n     <g id=\"text_12\">\n      <!-- 2.0 -->\n      <g transform=\"translate(7.2 34.585926) scale(0.1 -0.1)\">\n       <use xlink:href=\"#DejaVuSans-32\"/>\n       <use xlink:href=\"#DejaVuSans-2e\" x=\"63.623047\"/>\n       <use xlink:href=\"#DejaVuSans-30\" x=\"95.410156\"/>\n      </g>\n     </g>\n    </g>\n   </g>\n   <g id=\"line2d_12\">\n    <path d=\"M 34.954394 13.5 \n\" clip-path=\"url(#p1e7813492f)\" style=\"fill: none; stroke: #1f77b4; stroke-width: 1.5; stroke-linecap: square\"/>\n   </g>\n   <g id=\"line2d_13\">\n    <path d=\"M 34.954394 13.5 \nL 44.698573 13.574085 \n\" clip-path=\"url(#p1e7813492f)\" style=\"fill: none; stroke: #1f77b4; stroke-width: 1.5; stroke-linecap: square\"/>\n   </g>\n   <g id=\"line2d_14\">\n    <path d=\"M 34.954394 13.5 \nL 44.698573 13.574085 \n\" clip-path=\"url(#p1e7813492f)\" style=\"fill: none; stroke: #1f77b4; stroke-width: 1.5; stroke-linecap: square\"/>\n   </g>\n   <g id=\"line2d_15\">\n    <path d=\"M 49.633125 13.642527 \n\" clip-path=\"url(#p1e7813492f)\" style=\"fill: none; stroke-dasharray: 5.55,2.4; stroke-dashoffset: 0; stroke: #ff7f0e; stroke-width: 1.5\"/>\n   </g>\n   <g id=\"line2d_16\"/>\n   <g id=\"line2d_17\">\n    <path d=\"M 34.954394 13.5 \nL 44.698573 13.574085 \n\" clip-path=\"url(#p1e7813492f)\" style=\"fill: none; stroke: #1f77b4; stroke-width: 1.5; stroke-linecap: square\"/>\n   </g>\n   <g id=\"line2d_18\">\n    <path d=\"M 49.633125 13.642527 \n\" clip-path=\"url(#p1e7813492f)\" style=\"fill: none; stroke-dasharray: 5.55,2.4; stroke-dashoffset: 0; stroke: #ff7f0e; stroke-width: 1.5\"/>\n   </g>\n   <g id=\"line2d_19\">\n    <path d=\"M 49.633125 139.5 \n\" clip-path=\"url(#p1e7813492f)\" style=\"fill: none; stroke-dasharray: 9.6,2.4,1.5,2.4; stroke-dashoffset: 0; stroke: #2ca02c; stroke-width: 1.5\"/>\n   </g>\n   <g id=\"line2d_20\">\n    <path d=\"M 34.954394 13.5 \nL 44.698573 13.574085 \nL 54.442752 13.736179 \n\" clip-path=\"url(#p1e7813492f)\" style=\"fill: none; stroke: #1f77b4; stroke-width: 1.5; stroke-linecap: square\"/>\n   </g>\n   <g id=\"line2d_21\">\n    <path d=\"M 49.633125 13.642527 \n\" clip-path=\"url(#p1e7813492f)\" style=\"fill: none; stroke-dasharray: 5.55,2.4; stroke-dashoffset: 0; stroke: #ff7f0e; stroke-width: 1.5\"/>\n   </g>\n   <g id=\"line2d_22\">\n    <path d=\"M 49.633125 139.5 \n\" clip-path=\"url(#p1e7813492f)\" style=\"fill: none; stroke-dasharray: 9.6,2.4,1.5,2.4; stroke-dashoffset: 0; stroke: #2ca02c; stroke-width: 1.5\"/>\n   </g>\n   <g id=\"line2d_23\">\n    <path d=\"M 34.954394 13.5 \nL 44.698573 13.574085 \nL 54.442752 13.736179 \nL 64.186931 18.791239 \n\" clip-path=\"url(#p1e7813492f)\" style=\"fill: none; stroke: #1f77b4; stroke-width: 1.5; stroke-linecap: square\"/>\n   </g>\n   <g id=\"line2d_24\">\n    <path d=\"M 49.633125 13.642527 \n\" clip-path=\"url(#p1e7813492f)\" style=\"fill: none; stroke-dasharray: 5.55,2.4; stroke-dashoffset: 0; stroke: #ff7f0e; stroke-width: 1.5\"/>\n   </g>\n   <g id=\"line2d_25\">\n    <path d=\"M 49.633125 139.5 \n\" clip-path=\"url(#p1e7813492f)\" style=\"fill: none; stroke-dasharray: 9.6,2.4,1.5,2.4; stroke-dashoffset: 0; stroke: #2ca02c; stroke-width: 1.5\"/>\n   </g>\n   <g id=\"line2d_26\">\n    <path d=\"M 34.954394 13.5 \nL 44.698573 13.574085 \nL 54.442752 13.736179 \nL 64.186931 18.791239 \n\" clip-path=\"url(#p1e7813492f)\" style=\"fill: none; stroke: #1f77b4; stroke-width: 1.5; stroke-linecap: square\"/>\n   </g>\n   <g id=\"line2d_27\">\n    <path d=\"M 49.633125 13.642527 \nL 69.163125 57.072725 \n\" clip-path=\"url(#p1e7813492f)\" style=\"fill: none; stroke-dasharray: 5.55,2.4; stroke-dashoffset: 0; stroke: #ff7f0e; stroke-width: 1.5\"/>\n   </g>\n   <g id=\"line2d_28\">\n    <path d=\"M 49.633125 139.5 \n\" clip-path=\"url(#p1e7813492f)\" style=\"fill: none; stroke-dasharray: 9.6,2.4,1.5,2.4; stroke-dashoffset: 0; stroke: #2ca02c; stroke-width: 1.5\"/>\n   </g>\n   <g id=\"line2d_29\">\n    <path d=\"M 34.954394 13.5 \nL 44.698573 13.574085 \nL 54.442752 13.736179 \nL 64.186931 18.791239 \n\" clip-path=\"url(#p1e7813492f)\" style=\"fill: none; stroke: #1f77b4; stroke-width: 1.5; stroke-linecap: square\"/>\n   </g>\n   <g id=\"line2d_30\">\n    <path d=\"M 49.633125 13.642527 \nL 69.163125 57.072725 \n\" clip-path=\"url(#p1e7813492f)\" style=\"fill: none; stroke-dasharray: 5.55,2.4; stroke-dashoffset: 0; stroke: #ff7f0e; stroke-width: 1.5\"/>\n   </g>\n   <g id=\"line2d_31\">\n    <path d=\"M 49.633125 139.5 \nL 69.163125 121.035089 \n\" clip-path=\"url(#p1e7813492f)\" style=\"fill: none; stroke-dasharray: 9.6,2.4,1.5,2.4; stroke-dashoffset: 0; stroke: #2ca02c; stroke-width: 1.5\"/>\n   </g>\n   <g id=\"line2d_32\">\n    <path d=\"M 34.954394 13.5 \nL 44.698573 13.574085 \nL 54.442752 13.736179 \nL 64.186931 18.791239 \nL 73.93111 76.896449 \n\" clip-path=\"url(#p1e7813492f)\" style=\"fill: none; stroke: #1f77b4; stroke-width: 1.5; stroke-linecap: square\"/>\n   </g>\n   <g id=\"line2d_33\">\n    <path d=\"M 49.633125 13.642527 \nL 69.163125 57.072725 \n\" clip-path=\"url(#p1e7813492f)\" style=\"fill: none; stroke-dasharray: 5.55,2.4; stroke-dashoffset: 0; stroke: #ff7f0e; stroke-width: 1.5\"/>\n   </g>\n   <g id=\"line2d_34\">\n    <path d=\"M 49.633125 139.5 \nL 69.163125 121.035089 \n\" clip-path=\"url(#p1e7813492f)\" style=\"fill: none; stroke-dasharray: 9.6,2.4,1.5,2.4; stroke-dashoffset: 0; stroke: #2ca02c; stroke-width: 1.5\"/>\n   </g>\n   <g id=\"line2d_35\">\n    <path d=\"M 34.954394 13.5 \nL 44.698573 13.574085 \nL 54.442752 13.736179 \nL 64.186931 18.791239 \nL 73.93111 76.896449 \nL 83.675289 90.298494 \n\" clip-path=\"url(#p1e7813492f)\" style=\"fill: none; stroke: #1f77b4; stroke-width: 1.5; stroke-linecap: square\"/>\n   </g>\n   <g id=\"line2d_36\">\n    <path d=\"M 49.633125 13.642527 \nL 69.163125 57.072725 \n\" clip-path=\"url(#p1e7813492f)\" style=\"fill: none; stroke-dasharray: 5.55,2.4; stroke-dashoffset: 0; stroke: #ff7f0e; stroke-width: 1.5\"/>\n   </g>\n   <g id=\"line2d_37\">\n    <path d=\"M 49.633125 139.5 \nL 69.163125 121.035089 \n\" clip-path=\"url(#p1e7813492f)\" style=\"fill: none; stroke-dasharray: 9.6,2.4,1.5,2.4; stroke-dashoffset: 0; stroke: #2ca02c; stroke-width: 1.5\"/>\n   </g>\n   <g id=\"line2d_38\">\n    <path d=\"M 34.954394 13.5 \nL 44.698573 13.574085 \nL 54.442752 13.736179 \nL 64.186931 18.791239 \nL 73.93111 76.896449 \nL 83.675289 90.298494 \n\" clip-path=\"url(#p1e7813492f)\" style=\"fill: none; stroke: #1f77b4; stroke-width: 1.5; stroke-linecap: square\"/>\n   </g>\n   <g id=\"line2d_39\">\n    <path d=\"M 49.633125 13.642527 \nL 69.163125 57.072725 \nL 88.693125 94.369959 \n\" clip-path=\"url(#p1e7813492f)\" style=\"fill: none; stroke-dasharray: 5.55,2.4; stroke-dashoffset: 0; stroke: #ff7f0e; stroke-width: 1.5\"/>\n   </g>\n   <g id=\"line2d_40\">\n    <path d=\"M 49.633125 139.5 \nL 69.163125 121.035089 \n\" clip-path=\"url(#p1e7813492f)\" style=\"fill: none; stroke-dasharray: 9.6,2.4,1.5,2.4; stroke-dashoffset: 0; stroke: #2ca02c; stroke-width: 1.5\"/>\n   </g>\n   <g id=\"line2d_41\">\n    <path d=\"M 34.954394 13.5 \nL 44.698573 13.574085 \nL 54.442752 13.736179 \nL 64.186931 18.791239 \nL 73.93111 76.896449 \nL 83.675289 90.298494 \n\" clip-path=\"url(#p1e7813492f)\" style=\"fill: none; stroke: #1f77b4; stroke-width: 1.5; stroke-linecap: square\"/>\n   </g>\n   <g id=\"line2d_42\">\n    <path d=\"M 49.633125 13.642527 \nL 69.163125 57.072725 \nL 88.693125 94.369959 \n\" clip-path=\"url(#p1e7813492f)\" style=\"fill: none; stroke-dasharray: 5.55,2.4; stroke-dashoffset: 0; stroke: #ff7f0e; stroke-width: 1.5\"/>\n   </g>\n   <g id=\"line2d_43\">\n    <path d=\"M 49.633125 139.5 \nL 69.163125 121.035089 \nL 88.693125 107.158121 \n\" clip-path=\"url(#p1e7813492f)\" style=\"fill: none; stroke-dasharray: 9.6,2.4,1.5,2.4; stroke-dashoffset: 0; stroke: #2ca02c; stroke-width: 1.5\"/>\n   </g>\n   <g id=\"line2d_44\">\n    <path d=\"M 34.954394 13.5 \nL 44.698573 13.574085 \nL 54.442752 13.736179 \nL 64.186931 18.791239 \nL 73.93111 76.896449 \nL 83.675289 90.298494 \nL 93.419468 95.662659 \n\" clip-path=\"url(#p1e7813492f)\" style=\"fill: none; stroke: #1f77b4; stroke-width: 1.5; stroke-linecap: square\"/>\n   </g>\n   <g id=\"line2d_45\">\n    <path d=\"M 49.633125 13.642527 \nL 69.163125 57.072725 \nL 88.693125 94.369959 \n\" clip-path=\"url(#p1e7813492f)\" style=\"fill: none; stroke-dasharray: 5.55,2.4; stroke-dashoffset: 0; stroke: #ff7f0e; stroke-width: 1.5\"/>\n   </g>\n   <g id=\"line2d_46\">\n    <path d=\"M 49.633125 139.5 \nL 69.163125 121.035089 \nL 88.693125 107.158121 \n\" clip-path=\"url(#p1e7813492f)\" style=\"fill: none; stroke-dasharray: 9.6,2.4,1.5,2.4; stroke-dashoffset: 0; stroke: #2ca02c; stroke-width: 1.5\"/>\n   </g>\n   <g id=\"line2d_47\">\n    <path d=\"M 34.954394 13.5 \nL 44.698573 13.574085 \nL 54.442752 13.736179 \nL 64.186931 18.791239 \nL 73.93111 76.896449 \nL 83.675289 90.298494 \nL 93.419468 95.662659 \nL 103.163647 99.248214 \n\" clip-path=\"url(#p1e7813492f)\" style=\"fill: none; stroke: #1f77b4; stroke-width: 1.5; stroke-linecap: square\"/>\n   </g>\n   <g id=\"line2d_48\">\n    <path d=\"M 49.633125 13.642527 \nL 69.163125 57.072725 \nL 88.693125 94.369959 \n\" clip-path=\"url(#p1e7813492f)\" style=\"fill: none; stroke-dasharray: 5.55,2.4; stroke-dashoffset: 0; stroke: #ff7f0e; stroke-width: 1.5\"/>\n   </g>\n   <g id=\"line2d_49\">\n    <path d=\"M 49.633125 139.5 \nL 69.163125 121.035089 \nL 88.693125 107.158121 \n\" clip-path=\"url(#p1e7813492f)\" style=\"fill: none; stroke-dasharray: 9.6,2.4,1.5,2.4; stroke-dashoffset: 0; stroke: #2ca02c; stroke-width: 1.5\"/>\n   </g>\n   <g id=\"line2d_50\">\n    <path d=\"M 34.954394 13.5 \nL 44.698573 13.574085 \nL 54.442752 13.736179 \nL 64.186931 18.791239 \nL 73.93111 76.896449 \nL 83.675289 90.298494 \nL 93.419468 95.662659 \nL 103.163647 99.248214 \n\" clip-path=\"url(#p1e7813492f)\" style=\"fill: none; stroke: #1f77b4; stroke-width: 1.5; stroke-linecap: square\"/>\n   </g>\n   <g id=\"line2d_51\">\n    <path d=\"M 49.633125 13.642527 \nL 69.163125 57.072725 \nL 88.693125 94.369959 \nL 108.223125 102.531756 \n\" clip-path=\"url(#p1e7813492f)\" style=\"fill: none; stroke-dasharray: 5.55,2.4; stroke-dashoffset: 0; stroke: #ff7f0e; stroke-width: 1.5\"/>\n   </g>\n   <g id=\"line2d_52\">\n    <path d=\"M 49.633125 139.5 \nL 69.163125 121.035089 \nL 88.693125 107.158121 \n\" clip-path=\"url(#p1e7813492f)\" style=\"fill: none; stroke-dasharray: 9.6,2.4,1.5,2.4; stroke-dashoffset: 0; stroke: #2ca02c; stroke-width: 1.5\"/>\n   </g>\n   <g id=\"line2d_53\">\n    <path d=\"M 34.954394 13.5 \nL 44.698573 13.574085 \nL 54.442752 13.736179 \nL 64.186931 18.791239 \nL 73.93111 76.896449 \nL 83.675289 90.298494 \nL 93.419468 95.662659 \nL 103.163647 99.248214 \n\" clip-path=\"url(#p1e7813492f)\" style=\"fill: none; stroke: #1f77b4; stroke-width: 1.5; stroke-linecap: square\"/>\n   </g>\n   <g id=\"line2d_54\">\n    <path d=\"M 49.633125 13.642527 \nL 69.163125 57.072725 \nL 88.693125 94.369959 \nL 108.223125 102.531756 \n\" clip-path=\"url(#p1e7813492f)\" style=\"fill: none; stroke-dasharray: 5.55,2.4; stroke-dashoffset: 0; stroke: #ff7f0e; stroke-width: 1.5\"/>\n   </g>\n   <g id=\"line2d_55\">\n    <path d=\"M 49.633125 139.5 \nL 69.163125 121.035089 \nL 88.693125 107.158121 \nL 108.223125 104.097607 \n\" clip-path=\"url(#p1e7813492f)\" style=\"fill: none; stroke-dasharray: 9.6,2.4,1.5,2.4; stroke-dashoffset: 0; stroke: #2ca02c; stroke-width: 1.5\"/>\n   </g>\n   <g id=\"line2d_56\">\n    <path d=\"M 34.954394 13.5 \nL 44.698573 13.574085 \nL 54.442752 13.736179 \nL 64.186931 18.791239 \nL 73.93111 76.896449 \nL 83.675289 90.298494 \nL 93.419468 95.662659 \nL 103.163647 99.248214 \nL 112.907826 102.306094 \n\" clip-path=\"url(#p1e7813492f)\" style=\"fill: none; stroke: #1f77b4; stroke-width: 1.5; stroke-linecap: square\"/>\n   </g>\n   <g id=\"line2d_57\">\n    <path d=\"M 49.633125 13.642527 \nL 69.163125 57.072725 \nL 88.693125 94.369959 \nL 108.223125 102.531756 \n\" clip-path=\"url(#p1e7813492f)\" style=\"fill: none; stroke-dasharray: 5.55,2.4; stroke-dashoffset: 0; stroke: #ff7f0e; stroke-width: 1.5\"/>\n   </g>\n   <g id=\"line2d_58\">\n    <path d=\"M 49.633125 139.5 \nL 69.163125 121.035089 \nL 88.693125 107.158121 \nL 108.223125 104.097607 \n\" clip-path=\"url(#p1e7813492f)\" style=\"fill: none; stroke-dasharray: 9.6,2.4,1.5,2.4; stroke-dashoffset: 0; stroke: #2ca02c; stroke-width: 1.5\"/>\n   </g>\n   <g id=\"line2d_59\">\n    <path d=\"M 34.954394 13.5 \nL 44.698573 13.574085 \nL 54.442752 13.736179 \nL 64.186931 18.791239 \nL 73.93111 76.896449 \nL 83.675289 90.298494 \nL 93.419468 95.662659 \nL 103.163647 99.248214 \nL 112.907826 102.306094 \nL 122.652006 105.989543 \n\" clip-path=\"url(#p1e7813492f)\" style=\"fill: none; stroke: #1f77b4; stroke-width: 1.5; stroke-linecap: square\"/>\n   </g>\n   <g id=\"line2d_60\">\n    <path d=\"M 49.633125 13.642527 \nL 69.163125 57.072725 \nL 88.693125 94.369959 \nL 108.223125 102.531756 \n\" clip-path=\"url(#p1e7813492f)\" style=\"fill: none; stroke-dasharray: 5.55,2.4; stroke-dashoffset: 0; stroke: #ff7f0e; stroke-width: 1.5\"/>\n   </g>\n   <g id=\"line2d_61\">\n    <path d=\"M 49.633125 139.5 \nL 69.163125 121.035089 \nL 88.693125 107.158121 \nL 108.223125 104.097607 \n\" clip-path=\"url(#p1e7813492f)\" style=\"fill: none; stroke-dasharray: 9.6,2.4,1.5,2.4; stroke-dashoffset: 0; stroke: #2ca02c; stroke-width: 1.5\"/>\n   </g>\n   <g id=\"line2d_62\">\n    <path d=\"M 34.954394 13.5 \nL 44.698573 13.574085 \nL 54.442752 13.736179 \nL 64.186931 18.791239 \nL 73.93111 76.896449 \nL 83.675289 90.298494 \nL 93.419468 95.662659 \nL 103.163647 99.248214 \nL 112.907826 102.306094 \nL 122.652006 105.989543 \n\" clip-path=\"url(#p1e7813492f)\" style=\"fill: none; stroke: #1f77b4; stroke-width: 1.5; stroke-linecap: square\"/>\n   </g>\n   <g id=\"line2d_63\">\n    <path d=\"M 49.633125 13.642527 \nL 69.163125 57.072725 \nL 88.693125 94.369959 \nL 108.223125 102.531756 \nL 127.753125 107.347907 \n\" clip-path=\"url(#p1e7813492f)\" style=\"fill: none; stroke-dasharray: 5.55,2.4; stroke-dashoffset: 0; stroke: #ff7f0e; stroke-width: 1.5\"/>\n   </g>\n   <g id=\"line2d_64\">\n    <path d=\"M 49.633125 139.5 \nL 69.163125 121.035089 \nL 88.693125 107.158121 \nL 108.223125 104.097607 \n\" clip-path=\"url(#p1e7813492f)\" style=\"fill: none; stroke-dasharray: 9.6,2.4,1.5,2.4; stroke-dashoffset: 0; stroke: #2ca02c; stroke-width: 1.5\"/>\n   </g>\n   <g id=\"line2d_65\">\n    <path d=\"M 34.954394 13.5 \nL 44.698573 13.574085 \nL 54.442752 13.736179 \nL 64.186931 18.791239 \nL 73.93111 76.896449 \nL 83.675289 90.298494 \nL 93.419468 95.662659 \nL 103.163647 99.248214 \nL 112.907826 102.306094 \nL 122.652006 105.989543 \n\" clip-path=\"url(#p1e7813492f)\" style=\"fill: none; stroke: #1f77b4; stroke-width: 1.5; stroke-linecap: square\"/>\n   </g>\n   <g id=\"line2d_66\">\n    <path d=\"M 49.633125 13.642527 \nL 69.163125 57.072725 \nL 88.693125 94.369959 \nL 108.223125 102.531756 \nL 127.753125 107.347907 \n\" clip-path=\"url(#p1e7813492f)\" style=\"fill: none; stroke-dasharray: 5.55,2.4; stroke-dashoffset: 0; stroke: #ff7f0e; stroke-width: 1.5\"/>\n   </g>\n   <g id=\"line2d_67\">\n    <path d=\"M 49.633125 139.5 \nL 69.163125 121.035089 \nL 88.693125 107.158121 \nL 108.223125 104.097607 \nL 127.753125 102.259036 \n\" clip-path=\"url(#p1e7813492f)\" style=\"fill: none; stroke-dasharray: 9.6,2.4,1.5,2.4; stroke-dashoffset: 0; stroke: #2ca02c; stroke-width: 1.5\"/>\n   </g>\n   <g id=\"line2d_68\">\n    <path d=\"M 34.954394 13.5 \nL 44.698573 13.574085 \nL 54.442752 13.736179 \nL 64.186931 18.791239 \nL 73.93111 76.896449 \nL 83.675289 90.298494 \nL 93.419468 95.662659 \nL 103.163647 99.248214 \nL 112.907826 102.306094 \nL 122.652006 105.989543 \nL 132.396185 108.3699 \n\" clip-path=\"url(#p1e7813492f)\" style=\"fill: none; stroke: #1f77b4; stroke-width: 1.5; stroke-linecap: square\"/>\n   </g>\n   <g id=\"line2d_69\">\n    <path d=\"M 49.633125 13.642527 \nL 69.163125 57.072725 \nL 88.693125 94.369959 \nL 108.223125 102.531756 \nL 127.753125 107.347907 \n\" clip-path=\"url(#p1e7813492f)\" style=\"fill: none; stroke-dasharray: 5.55,2.4; stroke-dashoffset: 0; stroke: #ff7f0e; stroke-width: 1.5\"/>\n   </g>\n   <g id=\"line2d_70\">\n    <path d=\"M 49.633125 139.5 \nL 69.163125 121.035089 \nL 88.693125 107.158121 \nL 108.223125 104.097607 \nL 127.753125 102.259036 \n\" clip-path=\"url(#p1e7813492f)\" style=\"fill: none; stroke-dasharray: 9.6,2.4,1.5,2.4; stroke-dashoffset: 0; stroke: #2ca02c; stroke-width: 1.5\"/>\n   </g>\n   <g id=\"line2d_71\">\n    <path d=\"M 34.954394 13.5 \nL 44.698573 13.574085 \nL 54.442752 13.736179 \nL 64.186931 18.791239 \nL 73.93111 76.896449 \nL 83.675289 90.298494 \nL 93.419468 95.662659 \nL 103.163647 99.248214 \nL 112.907826 102.306094 \nL 122.652006 105.989543 \nL 132.396185 108.3699 \nL 142.140364 110.176237 \n\" clip-path=\"url(#p1e7813492f)\" style=\"fill: none; stroke: #1f77b4; stroke-width: 1.5; stroke-linecap: square\"/>\n   </g>\n   <g id=\"line2d_72\">\n    <path d=\"M 49.633125 13.642527 \nL 69.163125 57.072725 \nL 88.693125 94.369959 \nL 108.223125 102.531756 \nL 127.753125 107.347907 \n\" clip-path=\"url(#p1e7813492f)\" style=\"fill: none; stroke-dasharray: 5.55,2.4; stroke-dashoffset: 0; stroke: #ff7f0e; stroke-width: 1.5\"/>\n   </g>\n   <g id=\"line2d_73\">\n    <path d=\"M 49.633125 139.5 \nL 69.163125 121.035089 \nL 88.693125 107.158121 \nL 108.223125 104.097607 \nL 127.753125 102.259036 \n\" clip-path=\"url(#p1e7813492f)\" style=\"fill: none; stroke-dasharray: 9.6,2.4,1.5,2.4; stroke-dashoffset: 0; stroke: #2ca02c; stroke-width: 1.5\"/>\n   </g>\n   <g id=\"line2d_74\">\n    <path d=\"M 34.954394 13.5 \nL 44.698573 13.574085 \nL 54.442752 13.736179 \nL 64.186931 18.791239 \nL 73.93111 76.896449 \nL 83.675289 90.298494 \nL 93.419468 95.662659 \nL 103.163647 99.248214 \nL 112.907826 102.306094 \nL 122.652006 105.989543 \nL 132.396185 108.3699 \nL 142.140364 110.176237 \n\" clip-path=\"url(#p1e7813492f)\" style=\"fill: none; stroke: #1f77b4; stroke-width: 1.5; stroke-linecap: square\"/>\n   </g>\n   <g id=\"line2d_75\">\n    <path d=\"M 49.633125 13.642527 \nL 69.163125 57.072725 \nL 88.693125 94.369959 \nL 108.223125 102.531756 \nL 127.753125 107.347907 \nL 147.283125 112.37322 \n\" clip-path=\"url(#p1e7813492f)\" style=\"fill: none; stroke-dasharray: 5.55,2.4; stroke-dashoffset: 0; stroke: #ff7f0e; stroke-width: 1.5\"/>\n   </g>\n   <g id=\"line2d_76\">\n    <path d=\"M 49.633125 139.5 \nL 69.163125 121.035089 \nL 88.693125 107.158121 \nL 108.223125 104.097607 \nL 127.753125 102.259036 \n\" clip-path=\"url(#p1e7813492f)\" style=\"fill: none; stroke-dasharray: 9.6,2.4,1.5,2.4; stroke-dashoffset: 0; stroke: #2ca02c; stroke-width: 1.5\"/>\n   </g>\n   <g id=\"line2d_77\">\n    <path d=\"M 34.954394 13.5 \nL 44.698573 13.574085 \nL 54.442752 13.736179 \nL 64.186931 18.791239 \nL 73.93111 76.896449 \nL 83.675289 90.298494 \nL 93.419468 95.662659 \nL 103.163647 99.248214 \nL 112.907826 102.306094 \nL 122.652006 105.989543 \nL 132.396185 108.3699 \nL 142.140364 110.176237 \n\" clip-path=\"url(#p1e7813492f)\" style=\"fill: none; stroke: #1f77b4; stroke-width: 1.5; stroke-linecap: square\"/>\n   </g>\n   <g id=\"line2d_78\">\n    <path d=\"M 49.633125 13.642527 \nL 69.163125 57.072725 \nL 88.693125 94.369959 \nL 108.223125 102.531756 \nL 127.753125 107.347907 \nL 147.283125 112.37322 \n\" clip-path=\"url(#p1e7813492f)\" style=\"fill: none; stroke-dasharray: 5.55,2.4; stroke-dashoffset: 0; stroke: #ff7f0e; stroke-width: 1.5\"/>\n   </g>\n   <g id=\"line2d_79\">\n    <path d=\"M 49.633125 139.5 \nL 69.163125 121.035089 \nL 88.693125 107.158121 \nL 108.223125 104.097607 \nL 127.753125 102.259036 \nL 147.283125 100.296008 \n\" clip-path=\"url(#p1e7813492f)\" style=\"fill: none; stroke-dasharray: 9.6,2.4,1.5,2.4; stroke-dashoffset: 0; stroke: #2ca02c; stroke-width: 1.5\"/>\n   </g>\n   <g id=\"line2d_80\">\n    <path d=\"M 34.954394 13.5 \nL 44.698573 13.574085 \nL 54.442752 13.736179 \nL 64.186931 18.791239 \nL 73.93111 76.896449 \nL 83.675289 90.298494 \nL 93.419468 95.662659 \nL 103.163647 99.248214 \nL 112.907826 102.306094 \nL 122.652006 105.989543 \nL 132.396185 108.3699 \nL 142.140364 110.176237 \nL 151.884543 112.042798 \n\" clip-path=\"url(#p1e7813492f)\" style=\"fill: none; stroke: #1f77b4; stroke-width: 1.5; stroke-linecap: square\"/>\n   </g>\n   <g id=\"line2d_81\">\n    <path d=\"M 49.633125 13.642527 \nL 69.163125 57.072725 \nL 88.693125 94.369959 \nL 108.223125 102.531756 \nL 127.753125 107.347907 \nL 147.283125 112.37322 \n\" clip-path=\"url(#p1e7813492f)\" style=\"fill: none; stroke-dasharray: 5.55,2.4; stroke-dashoffset: 0; stroke: #ff7f0e; stroke-width: 1.5\"/>\n   </g>\n   <g id=\"line2d_82\">\n    <path d=\"M 49.633125 139.5 \nL 69.163125 121.035089 \nL 88.693125 107.158121 \nL 108.223125 104.097607 \nL 127.753125 102.259036 \nL 147.283125 100.296008 \n\" clip-path=\"url(#p1e7813492f)\" style=\"fill: none; stroke-dasharray: 9.6,2.4,1.5,2.4; stroke-dashoffset: 0; stroke: #2ca02c; stroke-width: 1.5\"/>\n   </g>\n   <g id=\"line2d_83\">\n    <path d=\"M 34.954394 13.5 \nL 44.698573 13.574085 \nL 54.442752 13.736179 \nL 64.186931 18.791239 \nL 73.93111 76.896449 \nL 83.675289 90.298494 \nL 93.419468 95.662659 \nL 103.163647 99.248214 \nL 112.907826 102.306094 \nL 122.652006 105.989543 \nL 132.396185 108.3699 \nL 142.140364 110.176237 \nL 151.884543 112.042798 \nL 161.628722 113.784911 \n\" clip-path=\"url(#p1e7813492f)\" style=\"fill: none; stroke: #1f77b4; stroke-width: 1.5; stroke-linecap: square\"/>\n   </g>\n   <g id=\"line2d_84\">\n    <path d=\"M 49.633125 13.642527 \nL 69.163125 57.072725 \nL 88.693125 94.369959 \nL 108.223125 102.531756 \nL 127.753125 107.347907 \nL 147.283125 112.37322 \n\" clip-path=\"url(#p1e7813492f)\" style=\"fill: none; stroke-dasharray: 5.55,2.4; stroke-dashoffset: 0; stroke: #ff7f0e; stroke-width: 1.5\"/>\n   </g>\n   <g id=\"line2d_85\">\n    <path d=\"M 49.633125 139.5 \nL 69.163125 121.035089 \nL 88.693125 107.158121 \nL 108.223125 104.097607 \nL 127.753125 102.259036 \nL 147.283125 100.296008 \n\" clip-path=\"url(#p1e7813492f)\" style=\"fill: none; stroke-dasharray: 9.6,2.4,1.5,2.4; stroke-dashoffset: 0; stroke: #2ca02c; stroke-width: 1.5\"/>\n   </g>\n   <g id=\"line2d_86\">\n    <path d=\"M 34.954394 13.5 \nL 44.698573 13.574085 \nL 54.442752 13.736179 \nL 64.186931 18.791239 \nL 73.93111 76.896449 \nL 83.675289 90.298494 \nL 93.419468 95.662659 \nL 103.163647 99.248214 \nL 112.907826 102.306094 \nL 122.652006 105.989543 \nL 132.396185 108.3699 \nL 142.140364 110.176237 \nL 151.884543 112.042798 \nL 161.628722 113.784911 \n\" clip-path=\"url(#p1e7813492f)\" style=\"fill: none; stroke: #1f77b4; stroke-width: 1.5; stroke-linecap: square\"/>\n   </g>\n   <g id=\"line2d_87\">\n    <path d=\"M 49.633125 13.642527 \nL 69.163125 57.072725 \nL 88.693125 94.369959 \nL 108.223125 102.531756 \nL 127.753125 107.347907 \nL 147.283125 112.37322 \nL 166.813125 114.056067 \n\" clip-path=\"url(#p1e7813492f)\" style=\"fill: none; stroke-dasharray: 5.55,2.4; stroke-dashoffset: 0; stroke: #ff7f0e; stroke-width: 1.5\"/>\n   </g>\n   <g id=\"line2d_88\">\n    <path d=\"M 49.633125 139.5 \nL 69.163125 121.035089 \nL 88.693125 107.158121 \nL 108.223125 104.097607 \nL 127.753125 102.259036 \nL 147.283125 100.296008 \n\" clip-path=\"url(#p1e7813492f)\" style=\"fill: none; stroke-dasharray: 9.6,2.4,1.5,2.4; stroke-dashoffset: 0; stroke: #2ca02c; stroke-width: 1.5\"/>\n   </g>\n   <g id=\"line2d_89\">\n    <path d=\"M 34.954394 13.5 \nL 44.698573 13.574085 \nL 54.442752 13.736179 \nL 64.186931 18.791239 \nL 73.93111 76.896449 \nL 83.675289 90.298494 \nL 93.419468 95.662659 \nL 103.163647 99.248214 \nL 112.907826 102.306094 \nL 122.652006 105.989543 \nL 132.396185 108.3699 \nL 142.140364 110.176237 \nL 151.884543 112.042798 \nL 161.628722 113.784911 \n\" clip-path=\"url(#p1e7813492f)\" style=\"fill: none; stroke: #1f77b4; stroke-width: 1.5; stroke-linecap: square\"/>\n   </g>\n   <g id=\"line2d_90\">\n    <path d=\"M 49.633125 13.642527 \nL 69.163125 57.072725 \nL 88.693125 94.369959 \nL 108.223125 102.531756 \nL 127.753125 107.347907 \nL 147.283125 112.37322 \nL 166.813125 114.056067 \n\" clip-path=\"url(#p1e7813492f)\" style=\"fill: none; stroke-dasharray: 5.55,2.4; stroke-dashoffset: 0; stroke: #ff7f0e; stroke-width: 1.5\"/>\n   </g>\n   <g id=\"line2d_91\">\n    <path d=\"M 49.633125 139.5 \nL 69.163125 121.035089 \nL 88.693125 107.158121 \nL 108.223125 104.097607 \nL 127.753125 102.259036 \nL 147.283125 100.296008 \nL 166.813125 100.001836 \n\" clip-path=\"url(#p1e7813492f)\" style=\"fill: none; stroke-dasharray: 9.6,2.4,1.5,2.4; stroke-dashoffset: 0; stroke: #2ca02c; stroke-width: 1.5\"/>\n   </g>\n   <g id=\"line2d_92\">\n    <path d=\"M 34.954394 13.5 \nL 44.698573 13.574085 \nL 54.442752 13.736179 \nL 64.186931 18.791239 \nL 73.93111 76.896449 \nL 83.675289 90.298494 \nL 93.419468 95.662659 \nL 103.163647 99.248214 \nL 112.907826 102.306094 \nL 122.652006 105.989543 \nL 132.396185 108.3699 \nL 142.140364 110.176237 \nL 151.884543 112.042798 \nL 161.628722 113.784911 \nL 171.372901 115.051772 \n\" clip-path=\"url(#p1e7813492f)\" style=\"fill: none; stroke: #1f77b4; stroke-width: 1.5; stroke-linecap: square\"/>\n   </g>\n   <g id=\"line2d_93\">\n    <path d=\"M 49.633125 13.642527 \nL 69.163125 57.072725 \nL 88.693125 94.369959 \nL 108.223125 102.531756 \nL 127.753125 107.347907 \nL 147.283125 112.37322 \nL 166.813125 114.056067 \n\" clip-path=\"url(#p1e7813492f)\" style=\"fill: none; stroke-dasharray: 5.55,2.4; stroke-dashoffset: 0; stroke: #ff7f0e; stroke-width: 1.5\"/>\n   </g>\n   <g id=\"line2d_94\">\n    <path d=\"M 49.633125 139.5 \nL 69.163125 121.035089 \nL 88.693125 107.158121 \nL 108.223125 104.097607 \nL 127.753125 102.259036 \nL 147.283125 100.296008 \nL 166.813125 100.001836 \n\" clip-path=\"url(#p1e7813492f)\" style=\"fill: none; stroke-dasharray: 9.6,2.4,1.5,2.4; stroke-dashoffset: 0; stroke: #2ca02c; stroke-width: 1.5\"/>\n   </g>\n   <g id=\"line2d_95\">\n    <path d=\"M 34.954394 13.5 \nL 44.698573 13.574085 \nL 54.442752 13.736179 \nL 64.186931 18.791239 \nL 73.93111 76.896449 \nL 83.675289 90.298494 \nL 93.419468 95.662659 \nL 103.163647 99.248214 \nL 112.907826 102.306094 \nL 122.652006 105.989543 \nL 132.396185 108.3699 \nL 142.140364 110.176237 \nL 151.884543 112.042798 \nL 161.628722 113.784911 \nL 171.372901 115.051772 \nL 181.11708 115.515573 \n\" clip-path=\"url(#p1e7813492f)\" style=\"fill: none; stroke: #1f77b4; stroke-width: 1.5; stroke-linecap: square\"/>\n   </g>\n   <g id=\"line2d_96\">\n    <path d=\"M 49.633125 13.642527 \nL 69.163125 57.072725 \nL 88.693125 94.369959 \nL 108.223125 102.531756 \nL 127.753125 107.347907 \nL 147.283125 112.37322 \nL 166.813125 114.056067 \n\" clip-path=\"url(#p1e7813492f)\" style=\"fill: none; stroke-dasharray: 5.55,2.4; stroke-dashoffset: 0; stroke: #ff7f0e; stroke-width: 1.5\"/>\n   </g>\n   <g id=\"line2d_97\">\n    <path d=\"M 49.633125 139.5 \nL 69.163125 121.035089 \nL 88.693125 107.158121 \nL 108.223125 104.097607 \nL 127.753125 102.259036 \nL 147.283125 100.296008 \nL 166.813125 100.001836 \n\" clip-path=\"url(#p1e7813492f)\" style=\"fill: none; stroke-dasharray: 9.6,2.4,1.5,2.4; stroke-dashoffset: 0; stroke: #2ca02c; stroke-width: 1.5\"/>\n   </g>\n   <g id=\"line2d_98\">\n    <path d=\"M 34.954394 13.5 \nL 44.698573 13.574085 \nL 54.442752 13.736179 \nL 64.186931 18.791239 \nL 73.93111 76.896449 \nL 83.675289 90.298494 \nL 93.419468 95.662659 \nL 103.163647 99.248214 \nL 112.907826 102.306094 \nL 122.652006 105.989543 \nL 132.396185 108.3699 \nL 142.140364 110.176237 \nL 151.884543 112.042798 \nL 161.628722 113.784911 \nL 171.372901 115.051772 \nL 181.11708 115.515573 \n\" clip-path=\"url(#p1e7813492f)\" style=\"fill: none; stroke: #1f77b4; stroke-width: 1.5; stroke-linecap: square\"/>\n   </g>\n   <g id=\"line2d_99\">\n    <path d=\"M 49.633125 13.642527 \nL 69.163125 57.072725 \nL 88.693125 94.369959 \nL 108.223125 102.531756 \nL 127.753125 107.347907 \nL 147.283125 112.37322 \nL 166.813125 114.056067 \nL 186.343125 115.893717 \n\" clip-path=\"url(#p1e7813492f)\" style=\"fill: none; stroke-dasharray: 5.55,2.4; stroke-dashoffset: 0; stroke: #ff7f0e; stroke-width: 1.5\"/>\n   </g>\n   <g id=\"line2d_100\">\n    <path d=\"M 49.633125 139.5 \nL 69.163125 121.035089 \nL 88.693125 107.158121 \nL 108.223125 104.097607 \nL 127.753125 102.259036 \nL 147.283125 100.296008 \nL 166.813125 100.001836 \n\" clip-path=\"url(#p1e7813492f)\" style=\"fill: none; stroke-dasharray: 9.6,2.4,1.5,2.4; stroke-dashoffset: 0; stroke: #2ca02c; stroke-width: 1.5\"/>\n   </g>\n   <g id=\"line2d_101\">\n    <path d=\"M 34.954394 13.5 \nL 44.698573 13.574085 \nL 54.442752 13.736179 \nL 64.186931 18.791239 \nL 73.93111 76.896449 \nL 83.675289 90.298494 \nL 93.419468 95.662659 \nL 103.163647 99.248214 \nL 112.907826 102.306094 \nL 122.652006 105.989543 \nL 132.396185 108.3699 \nL 142.140364 110.176237 \nL 151.884543 112.042798 \nL 161.628722 113.784911 \nL 171.372901 115.051772 \nL 181.11708 115.515573 \n\" clip-path=\"url(#p1e7813492f)\" style=\"fill: none; stroke: #1f77b4; stroke-width: 1.5; stroke-linecap: square\"/>\n   </g>\n   <g id=\"line2d_102\">\n    <path d=\"M 49.633125 13.642527 \nL 69.163125 57.072725 \nL 88.693125 94.369959 \nL 108.223125 102.531756 \nL 127.753125 107.347907 \nL 147.283125 112.37322 \nL 166.813125 114.056067 \nL 186.343125 115.893717 \n\" clip-path=\"url(#p1e7813492f)\" style=\"fill: none; stroke-dasharray: 5.55,2.4; stroke-dashoffset: 0; stroke: #ff7f0e; stroke-width: 1.5\"/>\n   </g>\n   <g id=\"line2d_103\">\n    <path d=\"M 49.633125 139.5 \nL 69.163125 121.035089 \nL 88.693125 107.158121 \nL 108.223125 104.097607 \nL 127.753125 102.259036 \nL 147.283125 100.296008 \nL 166.813125 100.001836 \nL 186.343125 99.045779 \n\" clip-path=\"url(#p1e7813492f)\" style=\"fill: none; stroke-dasharray: 9.6,2.4,1.5,2.4; stroke-dashoffset: 0; stroke: #2ca02c; stroke-width: 1.5\"/>\n   </g>\n   <g id=\"line2d_104\">\n    <path d=\"M 34.954394 13.5 \nL 44.698573 13.574085 \nL 54.442752 13.736179 \nL 64.186931 18.791239 \nL 73.93111 76.896449 \nL 83.675289 90.298494 \nL 93.419468 95.662659 \nL 103.163647 99.248214 \nL 112.907826 102.306094 \nL 122.652006 105.989543 \nL 132.396185 108.3699 \nL 142.140364 110.176237 \nL 151.884543 112.042798 \nL 161.628722 113.784911 \nL 171.372901 115.051772 \nL 181.11708 115.515573 \nL 190.861259 117.01993 \n\" clip-path=\"url(#p1e7813492f)\" style=\"fill: none; stroke: #1f77b4; stroke-width: 1.5; stroke-linecap: square\"/>\n   </g>\n   <g id=\"line2d_105\">\n    <path d=\"M 49.633125 13.642527 \nL 69.163125 57.072725 \nL 88.693125 94.369959 \nL 108.223125 102.531756 \nL 127.753125 107.347907 \nL 147.283125 112.37322 \nL 166.813125 114.056067 \nL 186.343125 115.893717 \n\" clip-path=\"url(#p1e7813492f)\" style=\"fill: none; stroke-dasharray: 5.55,2.4; stroke-dashoffset: 0; stroke: #ff7f0e; stroke-width: 1.5\"/>\n   </g>\n   <g id=\"line2d_106\">\n    <path d=\"M 49.633125 139.5 \nL 69.163125 121.035089 \nL 88.693125 107.158121 \nL 108.223125 104.097607 \nL 127.753125 102.259036 \nL 147.283125 100.296008 \nL 166.813125 100.001836 \nL 186.343125 99.045779 \n\" clip-path=\"url(#p1e7813492f)\" style=\"fill: none; stroke-dasharray: 9.6,2.4,1.5,2.4; stroke-dashoffset: 0; stroke: #2ca02c; stroke-width: 1.5\"/>\n   </g>\n   <g id=\"line2d_107\">\n    <path d=\"M 34.954394 13.5 \nL 44.698573 13.574085 \nL 54.442752 13.736179 \nL 64.186931 18.791239 \nL 73.93111 76.896449 \nL 83.675289 90.298494 \nL 93.419468 95.662659 \nL 103.163647 99.248214 \nL 112.907826 102.306094 \nL 122.652006 105.989543 \nL 132.396185 108.3699 \nL 142.140364 110.176237 \nL 151.884543 112.042798 \nL 161.628722 113.784911 \nL 171.372901 115.051772 \nL 181.11708 115.515573 \nL 190.861259 117.01993 \nL 200.605438 117.527351 \n\" clip-path=\"url(#p1e7813492f)\" style=\"fill: none; stroke: #1f77b4; stroke-width: 1.5; stroke-linecap: square\"/>\n   </g>\n   <g id=\"line2d_108\">\n    <path d=\"M 49.633125 13.642527 \nL 69.163125 57.072725 \nL 88.693125 94.369959 \nL 108.223125 102.531756 \nL 127.753125 107.347907 \nL 147.283125 112.37322 \nL 166.813125 114.056067 \nL 186.343125 115.893717 \n\" clip-path=\"url(#p1e7813492f)\" style=\"fill: none; stroke-dasharray: 5.55,2.4; stroke-dashoffset: 0; stroke: #ff7f0e; stroke-width: 1.5\"/>\n   </g>\n   <g id=\"line2d_109\">\n    <path d=\"M 49.633125 139.5 \nL 69.163125 121.035089 \nL 88.693125 107.158121 \nL 108.223125 104.097607 \nL 127.753125 102.259036 \nL 147.283125 100.296008 \nL 166.813125 100.001836 \nL 186.343125 99.045779 \n\" clip-path=\"url(#p1e7813492f)\" style=\"fill: none; stroke-dasharray: 9.6,2.4,1.5,2.4; stroke-dashoffset: 0; stroke: #2ca02c; stroke-width: 1.5\"/>\n   </g>\n   <g id=\"line2d_110\">\n    <path d=\"M 34.954394 13.5 \nL 44.698573 13.574085 \nL 54.442752 13.736179 \nL 64.186931 18.791239 \nL 73.93111 76.896449 \nL 83.675289 90.298494 \nL 93.419468 95.662659 \nL 103.163647 99.248214 \nL 112.907826 102.306094 \nL 122.652006 105.989543 \nL 132.396185 108.3699 \nL 142.140364 110.176237 \nL 151.884543 112.042798 \nL 161.628722 113.784911 \nL 171.372901 115.051772 \nL 181.11708 115.515573 \nL 190.861259 117.01993 \nL 200.605438 117.527351 \n\" clip-path=\"url(#p1e7813492f)\" style=\"fill: none; stroke: #1f77b4; stroke-width: 1.5; stroke-linecap: square\"/>\n   </g>\n   <g id=\"line2d_111\">\n    <path d=\"M 49.633125 13.642527 \nL 69.163125 57.072725 \nL 88.693125 94.369959 \nL 108.223125 102.531756 \nL 127.753125 107.347907 \nL 147.283125 112.37322 \nL 166.813125 114.056067 \nL 186.343125 115.893717 \nL 205.873125 118.148704 \n\" clip-path=\"url(#p1e7813492f)\" style=\"fill: none; stroke-dasharray: 5.55,2.4; stroke-dashoffset: 0; stroke: #ff7f0e; stroke-width: 1.5\"/>\n   </g>\n   <g id=\"line2d_112\">\n    <path d=\"M 49.633125 139.5 \nL 69.163125 121.035089 \nL 88.693125 107.158121 \nL 108.223125 104.097607 \nL 127.753125 102.259036 \nL 147.283125 100.296008 \nL 166.813125 100.001836 \nL 186.343125 99.045779 \n\" clip-path=\"url(#p1e7813492f)\" style=\"fill: none; stroke-dasharray: 9.6,2.4,1.5,2.4; stroke-dashoffset: 0; stroke: #2ca02c; stroke-width: 1.5\"/>\n   </g>\n   <g id=\"line2d_113\">\n    <path d=\"M 34.954394 13.5 \nL 44.698573 13.574085 \nL 54.442752 13.736179 \nL 64.186931 18.791239 \nL 73.93111 76.896449 \nL 83.675289 90.298494 \nL 93.419468 95.662659 \nL 103.163647 99.248214 \nL 112.907826 102.306094 \nL 122.652006 105.989543 \nL 132.396185 108.3699 \nL 142.140364 110.176237 \nL 151.884543 112.042798 \nL 161.628722 113.784911 \nL 171.372901 115.051772 \nL 181.11708 115.515573 \nL 190.861259 117.01993 \nL 200.605438 117.527351 \n\" clip-path=\"url(#p1e7813492f)\" style=\"fill: none; stroke: #1f77b4; stroke-width: 1.5; stroke-linecap: square\"/>\n   </g>\n   <g id=\"line2d_114\">\n    <path d=\"M 49.633125 13.642527 \nL 69.163125 57.072725 \nL 88.693125 94.369959 \nL 108.223125 102.531756 \nL 127.753125 107.347907 \nL 147.283125 112.37322 \nL 166.813125 114.056067 \nL 186.343125 115.893717 \nL 205.873125 118.148704 \n\" clip-path=\"url(#p1e7813492f)\" style=\"fill: none; stroke-dasharray: 5.55,2.4; stroke-dashoffset: 0; stroke: #ff7f0e; stroke-width: 1.5\"/>\n   </g>\n   <g id=\"line2d_115\">\n    <path d=\"M 49.633125 139.5 \nL 69.163125 121.035089 \nL 88.693125 107.158121 \nL 108.223125 104.097607 \nL 127.753125 102.259036 \nL 147.283125 100.296008 \nL 166.813125 100.001836 \nL 186.343125 99.045779 \nL 205.873125 98.151951 \n\" clip-path=\"url(#p1e7813492f)\" style=\"fill: none; stroke-dasharray: 9.6,2.4,1.5,2.4; stroke-dashoffset: 0; stroke: #2ca02c; stroke-width: 1.5\"/>\n   </g>\n   <g id=\"line2d_116\">\n    <path d=\"M 34.954394 13.5 \nL 44.698573 13.574085 \nL 54.442752 13.736179 \nL 64.186931 18.791239 \nL 73.93111 76.896449 \nL 83.675289 90.298494 \nL 93.419468 95.662659 \nL 103.163647 99.248214 \nL 112.907826 102.306094 \nL 122.652006 105.989543 \nL 132.396185 108.3699 \nL 142.140364 110.176237 \nL 151.884543 112.042798 \nL 161.628722 113.784911 \nL 171.372901 115.051772 \nL 181.11708 115.515573 \nL 190.861259 117.01993 \nL 200.605438 117.527351 \nL 210.349618 119.090723 \n\" clip-path=\"url(#p1e7813492f)\" style=\"fill: none; stroke: #1f77b4; stroke-width: 1.5; stroke-linecap: square\"/>\n   </g>\n   <g id=\"line2d_117\">\n    <path d=\"M 49.633125 13.642527 \nL 69.163125 57.072725 \nL 88.693125 94.369959 \nL 108.223125 102.531756 \nL 127.753125 107.347907 \nL 147.283125 112.37322 \nL 166.813125 114.056067 \nL 186.343125 115.893717 \nL 205.873125 118.148704 \n\" clip-path=\"url(#p1e7813492f)\" style=\"fill: none; stroke-dasharray: 5.55,2.4; stroke-dashoffset: 0; stroke: #ff7f0e; stroke-width: 1.5\"/>\n   </g>\n   <g id=\"line2d_118\">\n    <path d=\"M 49.633125 139.5 \nL 69.163125 121.035089 \nL 88.693125 107.158121 \nL 108.223125 104.097607 \nL 127.753125 102.259036 \nL 147.283125 100.296008 \nL 166.813125 100.001836 \nL 186.343125 99.045779 \nL 205.873125 98.151951 \n\" clip-path=\"url(#p1e7813492f)\" style=\"fill: none; stroke-dasharray: 9.6,2.4,1.5,2.4; stroke-dashoffset: 0; stroke: #2ca02c; stroke-width: 1.5\"/>\n   </g>\n   <g id=\"line2d_119\">\n    <path d=\"M 34.954394 13.5 \nL 44.698573 13.574085 \nL 54.442752 13.736179 \nL 64.186931 18.791239 \nL 73.93111 76.896449 \nL 83.675289 90.298494 \nL 93.419468 95.662659 \nL 103.163647 99.248214 \nL 112.907826 102.306094 \nL 122.652006 105.989543 \nL 132.396185 108.3699 \nL 142.140364 110.176237 \nL 151.884543 112.042798 \nL 161.628722 113.784911 \nL 171.372901 115.051772 \nL 181.11708 115.515573 \nL 190.861259 117.01993 \nL 200.605438 117.527351 \nL 210.349618 119.090723 \nL 220.093797 118.842682 \n\" clip-path=\"url(#p1e7813492f)\" style=\"fill: none; stroke: #1f77b4; stroke-width: 1.5; stroke-linecap: square\"/>\n   </g>\n   <g id=\"line2d_120\">\n    <path d=\"M 49.633125 13.642527 \nL 69.163125 57.072725 \nL 88.693125 94.369959 \nL 108.223125 102.531756 \nL 127.753125 107.347907 \nL 147.283125 112.37322 \nL 166.813125 114.056067 \nL 186.343125 115.893717 \nL 205.873125 118.148704 \n\" clip-path=\"url(#p1e7813492f)\" style=\"fill: none; stroke-dasharray: 5.55,2.4; stroke-dashoffset: 0; stroke: #ff7f0e; stroke-width: 1.5\"/>\n   </g>\n   <g id=\"line2d_121\">\n    <path d=\"M 49.633125 139.5 \nL 69.163125 121.035089 \nL 88.693125 107.158121 \nL 108.223125 104.097607 \nL 127.753125 102.259036 \nL 147.283125 100.296008 \nL 166.813125 100.001836 \nL 186.343125 99.045779 \nL 205.873125 98.151951 \n\" clip-path=\"url(#p1e7813492f)\" style=\"fill: none; stroke-dasharray: 9.6,2.4,1.5,2.4; stroke-dashoffset: 0; stroke: #2ca02c; stroke-width: 1.5\"/>\n   </g>\n   <g id=\"line2d_122\">\n    <path d=\"M 34.954394 13.5 \nL 44.698573 13.574085 \nL 54.442752 13.736179 \nL 64.186931 18.791239 \nL 73.93111 76.896449 \nL 83.675289 90.298494 \nL 93.419468 95.662659 \nL 103.163647 99.248214 \nL 112.907826 102.306094 \nL 122.652006 105.989543 \nL 132.396185 108.3699 \nL 142.140364 110.176237 \nL 151.884543 112.042798 \nL 161.628722 113.784911 \nL 171.372901 115.051772 \nL 181.11708 115.515573 \nL 190.861259 117.01993 \nL 200.605438 117.527351 \nL 210.349618 119.090723 \nL 220.093797 118.842682 \n\" clip-path=\"url(#p1e7813492f)\" style=\"fill: none; stroke: #1f77b4; stroke-width: 1.5; stroke-linecap: square\"/>\n   </g>\n   <g id=\"line2d_123\">\n    <path d=\"M 49.633125 13.642527 \nL 69.163125 57.072725 \nL 88.693125 94.369959 \nL 108.223125 102.531756 \nL 127.753125 107.347907 \nL 147.283125 112.37322 \nL 166.813125 114.056067 \nL 186.343125 115.893717 \nL 205.873125 118.148704 \nL 225.403125 119.41231 \n\" clip-path=\"url(#p1e7813492f)\" style=\"fill: none; stroke-dasharray: 5.55,2.4; stroke-dashoffset: 0; stroke: #ff7f0e; stroke-width: 1.5\"/>\n   </g>\n   <g id=\"line2d_124\">\n    <path d=\"M 49.633125 139.5 \nL 69.163125 121.035089 \nL 88.693125 107.158121 \nL 108.223125 104.097607 \nL 127.753125 102.259036 \nL 147.283125 100.296008 \nL 166.813125 100.001836 \nL 186.343125 99.045779 \nL 205.873125 98.151951 \n\" clip-path=\"url(#p1e7813492f)\" style=\"fill: none; stroke-dasharray: 9.6,2.4,1.5,2.4; stroke-dashoffset: 0; stroke: #2ca02c; stroke-width: 1.5\"/>\n   </g>\n   <g id=\"line2d_125\">\n    <path d=\"M 34.954394 13.5 \nL 44.698573 13.574085 \nL 54.442752 13.736179 \nL 64.186931 18.791239 \nL 73.93111 76.896449 \nL 83.675289 90.298494 \nL 93.419468 95.662659 \nL 103.163647 99.248214 \nL 112.907826 102.306094 \nL 122.652006 105.989543 \nL 132.396185 108.3699 \nL 142.140364 110.176237 \nL 151.884543 112.042798 \nL 161.628722 113.784911 \nL 171.372901 115.051772 \nL 181.11708 115.515573 \nL 190.861259 117.01993 \nL 200.605438 117.527351 \nL 210.349618 119.090723 \nL 220.093797 118.842682 \n\" clip-path=\"url(#p1e7813492f)\" style=\"fill: none; stroke: #1f77b4; stroke-width: 1.5; stroke-linecap: square\"/>\n   </g>\n   <g id=\"line2d_126\">\n    <path d=\"M 49.633125 13.642527 \nL 69.163125 57.072725 \nL 88.693125 94.369959 \nL 108.223125 102.531756 \nL 127.753125 107.347907 \nL 147.283125 112.37322 \nL 166.813125 114.056067 \nL 186.343125 115.893717 \nL 205.873125 118.148704 \nL 225.403125 119.41231 \n\" clip-path=\"url(#p1e7813492f)\" style=\"fill: none; stroke-dasharray: 5.55,2.4; stroke-dashoffset: 0; stroke: #ff7f0e; stroke-width: 1.5\"/>\n   </g>\n   <g id=\"line2d_127\">\n    <path d=\"M 49.633125 139.5 \nL 69.163125 121.035089 \nL 88.693125 107.158121 \nL 108.223125 104.097607 \nL 127.753125 102.259036 \nL 147.283125 100.296008 \nL 166.813125 100.001836 \nL 186.343125 99.045779 \nL 205.873125 98.151951 \nL 225.403125 97.524008 \n\" clip-path=\"url(#p1e7813492f)\" style=\"fill: none; stroke-dasharray: 9.6,2.4,1.5,2.4; stroke-dashoffset: 0; stroke: #2ca02c; stroke-width: 1.5\"/>\n   </g>\n   <g id=\"patch_3\">\n    <path d=\"M 30.103125 145.8 \nL 30.103125 7.2 \n\" style=\"fill: none; stroke: #000000; stroke-width: 0.8; stroke-linejoin: miter; stroke-linecap: square\"/>\n   </g>\n   <g id=\"patch_4\">\n    <path d=\"M 225.403125 145.8 \nL 225.403125 7.2 \n\" style=\"fill: none; stroke: #000000; stroke-width: 0.8; stroke-linejoin: miter; stroke-linecap: square\"/>\n   </g>\n   <g id=\"patch_5\">\n    <path d=\"M 30.103125 145.8 \nL 225.403125 145.8 \n\" style=\"fill: none; stroke: #000000; stroke-width: 0.8; stroke-linejoin: miter; stroke-linecap: square\"/>\n   </g>\n   <g id=\"patch_6\">\n    <path d=\"M 30.103125 7.2 \nL 225.403125 7.2 \n\" style=\"fill: none; stroke: #000000; stroke-width: 0.8; stroke-linejoin: miter; stroke-linecap: square\"/>\n   </g>\n   <g id=\"legend_1\">\n    <g id=\"patch_7\">\n     <path d=\"M 138.8125 60.06875 \nL 218.403125 60.06875 \nQ 220.403125 60.06875 220.403125 58.06875 \nL 220.403125 14.2 \nQ 220.403125 12.2 218.403125 12.2 \nL 138.8125 12.2 \nQ 136.8125 12.2 136.8125 14.2 \nL 136.8125 58.06875 \nQ 136.8125 60.06875 138.8125 60.06875 \nz\n\" style=\"fill: #ffffff; opacity: 0.8; stroke: #cccccc; stroke-linejoin: miter\"/>\n    </g>\n    <g id=\"line2d_128\">\n     <path d=\"M 140.8125 20.298438 \nL 150.8125 20.298438 \nL 160.8125 20.298438 \n\" style=\"fill: none; stroke: #1f77b4; stroke-width: 1.5; stroke-linecap: square\"/>\n    </g>\n    <g id=\"text_13\">\n     <!-- train_loss -->\n     <g transform=\"translate(168.8125 23.798438) scale(0.1 -0.1)\">\n      <defs>\n       <path id=\"DejaVuSans-74\" d=\"M 1172 4494 \nL 1172 3500 \nL 2356 3500 \nL 2356 3053 \nL 1172 3053 \nL 1172 1153 \nQ 1172 725 1289 603 \nQ 1406 481 1766 481 \nL 2356 481 \nL 2356 0 \nL 1766 0 \nQ 1100 0 847 248 \nQ 594 497 594 1153 \nL 594 3053 \nL 172 3053 \nL 172 3500 \nL 594 3500 \nL 594 4494 \nL 1172 4494 \nz\n\" transform=\"scale(0.015625)\"/>\n       <path id=\"DejaVuSans-72\" d=\"M 2631 2963 \nQ 2534 3019 2420 3045 \nQ 2306 3072 2169 3072 \nQ 1681 3072 1420 2755 \nQ 1159 2438 1159 1844 \nL 1159 0 \nL 581 0 \nL 581 3500 \nL 1159 3500 \nL 1159 2956 \nQ 1341 3275 1631 3429 \nQ 1922 3584 2338 3584 \nQ 2397 3584 2469 3576 \nQ 2541 3569 2628 3553 \nL 2631 2963 \nz\n\" transform=\"scale(0.015625)\"/>\n       <path id=\"DejaVuSans-61\" d=\"M 2194 1759 \nQ 1497 1759 1228 1600 \nQ 959 1441 959 1056 \nQ 959 750 1161 570 \nQ 1363 391 1709 391 \nQ 2188 391 2477 730 \nQ 2766 1069 2766 1631 \nL 2766 1759 \nL 2194 1759 \nz\nM 3341 1997 \nL 3341 0 \nL 2766 0 \nL 2766 531 \nQ 2569 213 2275 61 \nQ 1981 -91 1556 -91 \nQ 1019 -91 701 211 \nQ 384 513 384 1019 \nQ 384 1609 779 1909 \nQ 1175 2209 1959 2209 \nL 2766 2209 \nL 2766 2266 \nQ 2766 2663 2505 2880 \nQ 2244 3097 1772 3097 \nQ 1472 3097 1187 3025 \nQ 903 2953 641 2809 \nL 641 3341 \nQ 956 3463 1253 3523 \nQ 1550 3584 1831 3584 \nQ 2591 3584 2966 3190 \nQ 3341 2797 3341 1997 \nz\n\" transform=\"scale(0.015625)\"/>\n       <path id=\"DejaVuSans-69\" d=\"M 603 3500 \nL 1178 3500 \nL 1178 0 \nL 603 0 \nL 603 3500 \nz\nM 603 4863 \nL 1178 4863 \nL 1178 4134 \nL 603 4134 \nL 603 4863 \nz\n\" transform=\"scale(0.015625)\"/>\n       <path id=\"DejaVuSans-6e\" d=\"M 3513 2113 \nL 3513 0 \nL 2938 0 \nL 2938 2094 \nQ 2938 2591 2744 2837 \nQ 2550 3084 2163 3084 \nQ 1697 3084 1428 2787 \nQ 1159 2491 1159 1978 \nL 1159 0 \nL 581 0 \nL 581 3500 \nL 1159 3500 \nL 1159 2956 \nQ 1366 3272 1645 3428 \nQ 1925 3584 2291 3584 \nQ 2894 3584 3203 3211 \nQ 3513 2838 3513 2113 \nz\n\" transform=\"scale(0.015625)\"/>\n       <path id=\"DejaVuSans-5f\" d=\"M 3263 -1063 \nL 3263 -1509 \nL -63 -1509 \nL -63 -1063 \nL 3263 -1063 \nz\n\" transform=\"scale(0.015625)\"/>\n       <path id=\"DejaVuSans-6c\" d=\"M 603 4863 \nL 1178 4863 \nL 1178 0 \nL 603 0 \nL 603 4863 \nz\n\" transform=\"scale(0.015625)\"/>\n       <path id=\"DejaVuSans-73\" d=\"M 2834 3397 \nL 2834 2853 \nQ 2591 2978 2328 3040 \nQ 2066 3103 1784 3103 \nQ 1356 3103 1142 2972 \nQ 928 2841 928 2578 \nQ 928 2378 1081 2264 \nQ 1234 2150 1697 2047 \nL 1894 2003 \nQ 2506 1872 2764 1633 \nQ 3022 1394 3022 966 \nQ 3022 478 2636 193 \nQ 2250 -91 1575 -91 \nQ 1294 -91 989 -36 \nQ 684 19 347 128 \nL 347 722 \nQ 666 556 975 473 \nQ 1284 391 1588 391 \nQ 1994 391 2212 530 \nQ 2431 669 2431 922 \nQ 2431 1156 2273 1281 \nQ 2116 1406 1581 1522 \nL 1381 1569 \nQ 847 1681 609 1914 \nQ 372 2147 372 2553 \nQ 372 3047 722 3315 \nQ 1072 3584 1716 3584 \nQ 2034 3584 2315 3537 \nQ 2597 3491 2834 3397 \nz\n\" transform=\"scale(0.015625)\"/>\n      </defs>\n      <use xlink:href=\"#DejaVuSans-74\"/>\n      <use xlink:href=\"#DejaVuSans-72\" x=\"39.208984\"/>\n      <use xlink:href=\"#DejaVuSans-61\" x=\"80.322266\"/>\n      <use xlink:href=\"#DejaVuSans-69\" x=\"141.601562\"/>\n      <use xlink:href=\"#DejaVuSans-6e\" x=\"169.384766\"/>\n      <use xlink:href=\"#DejaVuSans-5f\" x=\"232.763672\"/>\n      <use xlink:href=\"#DejaVuSans-6c\" x=\"282.763672\"/>\n      <use xlink:href=\"#DejaVuSans-6f\" x=\"310.546875\"/>\n      <use xlink:href=\"#DejaVuSans-73\" x=\"371.728516\"/>\n      <use xlink:href=\"#DejaVuSans-73\" x=\"423.828125\"/>\n     </g>\n    </g>\n    <g id=\"line2d_129\">\n     <path d=\"M 140.8125 35.254688 \nL 150.8125 35.254688 \nL 160.8125 35.254688 \n\" style=\"fill: none; stroke-dasharray: 5.55,2.4; stroke-dashoffset: 0; stroke: #ff7f0e; stroke-width: 1.5\"/>\n    </g>\n    <g id=\"text_14\">\n     <!-- val_loss -->\n     <g transform=\"translate(168.8125 38.754688) scale(0.1 -0.1)\">\n      <defs>\n       <path id=\"DejaVuSans-76\" d=\"M 191 3500 \nL 800 3500 \nL 1894 563 \nL 2988 3500 \nL 3597 3500 \nL 2284 0 \nL 1503 0 \nL 191 3500 \nz\n\" transform=\"scale(0.015625)\"/>\n      </defs>\n      <use xlink:href=\"#DejaVuSans-76\"/>\n      <use xlink:href=\"#DejaVuSans-61\" x=\"59.179688\"/>\n      <use xlink:href=\"#DejaVuSans-6c\" x=\"120.458984\"/>\n      <use xlink:href=\"#DejaVuSans-5f\" x=\"148.242188\"/>\n      <use xlink:href=\"#DejaVuSans-6c\" x=\"198.242188\"/>\n      <use xlink:href=\"#DejaVuSans-6f\" x=\"226.025391\"/>\n      <use xlink:href=\"#DejaVuSans-73\" x=\"287.207031\"/>\n      <use xlink:href=\"#DejaVuSans-73\" x=\"339.306641\"/>\n     </g>\n    </g>\n    <g id=\"line2d_130\">\n     <path d=\"M 140.8125 50.210938 \nL 150.8125 50.210938 \nL 160.8125 50.210938 \n\" style=\"fill: none; stroke-dasharray: 9.6,2.4,1.5,2.4; stroke-dashoffset: 0; stroke: #2ca02c; stroke-width: 1.5\"/>\n    </g>\n    <g id=\"text_15\">\n     <!-- val_acc -->\n     <g transform=\"translate(168.8125 53.710938) scale(0.1 -0.1)\">\n      <use xlink:href=\"#DejaVuSans-76\"/>\n      <use xlink:href=\"#DejaVuSans-61\" x=\"59.179688\"/>\n      <use xlink:href=\"#DejaVuSans-6c\" x=\"120.458984\"/>\n      <use xlink:href=\"#DejaVuSans-5f\" x=\"148.242188\"/>\n      <use xlink:href=\"#DejaVuSans-61\" x=\"198.242188\"/>\n      <use xlink:href=\"#DejaVuSans-63\" x=\"259.521484\"/>\n      <use xlink:href=\"#DejaVuSans-63\" x=\"314.501953\"/>\n     </g>\n    </g>\n   </g>\n  </g>\n </g>\n <defs>\n  <clipPath id=\"p1e7813492f\">\n   <rect x=\"30.103125\" y=\"7.2\" width=\"195.3\" height=\"138.6\"/>\n  </clipPath>\n </defs>\n</svg>\n"
          },
          "metadata": {}
        }
      ]
    },
    {
      "cell_type": "markdown",
      "source": [
        "## Exercise"
      ],
      "metadata": {
        "id": "BLo4xpV9rU34"
      }
    },
    {
      "cell_type": "markdown",
      "source": [
        "### 1. Following up on the discussion above, analyze the computational properties of AlexNet."
      ],
      "metadata": {
        "id": "ayml8E1drY6z"
      }
    },
    {
      "cell_type": "markdown",
      "source": [
        "1.1 Compute the memory footprint for convolutions and fully connected layers, respectively. Which one dominates?"
      ],
      "metadata": {
        "id": "nveznsKnrfE7"
      }
    },
    {
      "cell_type": "markdown",
      "source": [
        "Fomula of the number of parameters of convolutions is $∑layers(ci∗co∗kh∗kw+co)$"
      ],
      "metadata": {
        "id": "7hDv5t9Vrw-a"
      }
    },
    {
      "cell_type": "code",
      "source": [
        "3*96*11*11+96+96*256*5*5+256+256*384*3*3+384+384*384*3*3+384+384*256*3*3+256"
      ],
      "metadata": {
        "id": "K633MzMVrftz",
        "colab": {
          "base_uri": "https://localhost:8080/"
        },
        "outputId": "a4c735e1-319c-40f7-8dd2-e8e2e749d166"
      },
      "execution_count": 60,
      "outputs": [
        {
          "output_type": "execute_result",
          "data": {
            "text/plain": [
              "3747200"
            ]
          },
          "metadata": {},
          "execution_count": 60
        }
      ]
    },
    {
      "cell_type": "markdown",
      "source": [
        "Fomula of the number of parameters of fully connected is $∑layers(xi∗xo+xo)$"
      ],
      "metadata": {
        "id": "TLiykV8dr4KK"
      }
    },
    {
      "cell_type": "code",
      "source": [
        "80*80*4096+4096+4096*4096+4096+4096*10+10"
      ],
      "metadata": {
        "id": "RbZee4GQr7t0",
        "colab": {
          "base_uri": "https://localhost:8080/"
        },
        "outputId": "4ff1bf74-34b6-4988-ef6c-142fce6585f9"
      },
      "execution_count": 61,
      "outputs": [
        {
          "output_type": "execute_result",
          "data": {
            "text/plain": [
              "43040778"
            ]
          },
          "metadata": {},
          "execution_count": 61
        }
      ]
    },
    {
      "cell_type": "markdown",
      "source": [
        "The fully connected layers dominates"
      ],
      "metadata": {
        "id": "WVFZCXAgsDhT"
      }
    },
    {
      "cell_type": "code",
      "source": [
        "!jupyter nbconvert --to markdown 8_8_6_Exercises.ipynb"
      ],
      "metadata": {
        "colab": {
          "base_uri": "https://localhost:8080/"
        },
        "id": "_CVrMoXuGmjT",
        "outputId": "a6e69cf1-7f91-4d66-c9fa-371340052b53"
      },
      "execution_count": 69,
      "outputs": [
        {
          "output_type": "stream",
          "name": "stdout",
          "text": [
            "[NbConvertApp] WARNING | pattern '8_8_6_Exercises.ipynb' matched no files\n",
            "This application is used to convert notebook files (*.ipynb)\n",
            "        to various other formats.\n",
            "\n",
            "        WARNING: THE COMMANDLINE INTERFACE MAY CHANGE IN FUTURE RELEASES.\n",
            "\n",
            "Options\n",
            "=======\n",
            "The options below are convenience aliases to configurable class-options,\n",
            "as listed in the \"Equivalent to\" description-line of the aliases.\n",
            "To see all configurable class-options for some <cmd>, use:\n",
            "    <cmd> --help-all\n",
            "\n",
            "--debug\n",
            "    set log level to logging.DEBUG (maximize logging output)\n",
            "    Equivalent to: [--Application.log_level=10]\n",
            "--show-config\n",
            "    Show the application's configuration (human-readable format)\n",
            "    Equivalent to: [--Application.show_config=True]\n",
            "--show-config-json\n",
            "    Show the application's configuration (json format)\n",
            "    Equivalent to: [--Application.show_config_json=True]\n",
            "--generate-config\n",
            "    generate default config file\n",
            "    Equivalent to: [--JupyterApp.generate_config=True]\n",
            "-y\n",
            "    Answer yes to any questions instead of prompting.\n",
            "    Equivalent to: [--JupyterApp.answer_yes=True]\n",
            "--execute\n",
            "    Execute the notebook prior to export.\n",
            "    Equivalent to: [--ExecutePreprocessor.enabled=True]\n",
            "--allow-errors\n",
            "    Continue notebook execution even if one of the cells throws an error and include the error message in the cell output (the default behaviour is to abort conversion). This flag is only relevant if '--execute' was specified, too.\n",
            "    Equivalent to: [--ExecutePreprocessor.allow_errors=True]\n",
            "--stdin\n",
            "    read a single notebook file from stdin. Write the resulting notebook with default basename 'notebook.*'\n",
            "    Equivalent to: [--NbConvertApp.from_stdin=True]\n",
            "--stdout\n",
            "    Write notebook output to stdout instead of files.\n",
            "    Equivalent to: [--NbConvertApp.writer_class=StdoutWriter]\n",
            "--inplace\n",
            "    Run nbconvert in place, overwriting the existing notebook (only\n",
            "            relevant when converting to notebook format)\n",
            "    Equivalent to: [--NbConvertApp.use_output_suffix=False --NbConvertApp.export_format=notebook --FilesWriter.build_directory=]\n",
            "--clear-output\n",
            "    Clear output of current file and save in place,\n",
            "            overwriting the existing notebook.\n",
            "    Equivalent to: [--NbConvertApp.use_output_suffix=False --NbConvertApp.export_format=notebook --FilesWriter.build_directory= --ClearOutputPreprocessor.enabled=True]\n",
            "--no-prompt\n",
            "    Exclude input and output prompts from converted document.\n",
            "    Equivalent to: [--TemplateExporter.exclude_input_prompt=True --TemplateExporter.exclude_output_prompt=True]\n",
            "--no-input\n",
            "    Exclude input cells and output prompts from converted document.\n",
            "            This mode is ideal for generating code-free reports.\n",
            "    Equivalent to: [--TemplateExporter.exclude_output_prompt=True --TemplateExporter.exclude_input=True --TemplateExporter.exclude_input_prompt=True]\n",
            "--allow-chromium-download\n",
            "    Whether to allow downloading chromium if no suitable version is found on the system.\n",
            "    Equivalent to: [--WebPDFExporter.allow_chromium_download=True]\n",
            "--disable-chromium-sandbox\n",
            "    Disable chromium security sandbox when converting to PDF..\n",
            "    Equivalent to: [--WebPDFExporter.disable_sandbox=True]\n",
            "--show-input\n",
            "    Shows code input. This flag is only useful for dejavu users.\n",
            "    Equivalent to: [--TemplateExporter.exclude_input=False]\n",
            "--embed-images\n",
            "    Embed the images as base64 dataurls in the output. This flag is only useful for the HTML/WebPDF/Slides exports.\n",
            "    Equivalent to: [--HTMLExporter.embed_images=True]\n",
            "--sanitize-html\n",
            "    Whether the HTML in Markdown cells and cell outputs should be sanitized..\n",
            "    Equivalent to: [--HTMLExporter.sanitize_html=True]\n",
            "--log-level=<Enum>\n",
            "    Set the log level by value or name.\n",
            "    Choices: any of [0, 10, 20, 30, 40, 50, 'DEBUG', 'INFO', 'WARN', 'ERROR', 'CRITICAL']\n",
            "    Default: 30\n",
            "    Equivalent to: [--Application.log_level]\n",
            "--config=<Unicode>\n",
            "    Full path of a config file.\n",
            "    Default: ''\n",
            "    Equivalent to: [--JupyterApp.config_file]\n",
            "--to=<Unicode>\n",
            "    The export format to be used, either one of the built-in formats\n",
            "            ['asciidoc', 'custom', 'html', 'latex', 'markdown', 'notebook', 'pdf', 'python', 'rst', 'script', 'slides', 'webpdf']\n",
            "            or a dotted object name that represents the import path for an\n",
            "            ``Exporter`` class\n",
            "    Default: ''\n",
            "    Equivalent to: [--NbConvertApp.export_format]\n",
            "--template=<Unicode>\n",
            "    Name of the template to use\n",
            "    Default: ''\n",
            "    Equivalent to: [--TemplateExporter.template_name]\n",
            "--template-file=<Unicode>\n",
            "    Name of the template file to use\n",
            "    Default: None\n",
            "    Equivalent to: [--TemplateExporter.template_file]\n",
            "--theme=<Unicode>\n",
            "    Template specific theme(e.g. the name of a JupyterLab CSS theme distributed\n",
            "    as prebuilt extension for the lab template)\n",
            "    Default: 'light'\n",
            "    Equivalent to: [--HTMLExporter.theme]\n",
            "--sanitize_html=<Bool>\n",
            "    Whether the HTML in Markdown cells and cell outputs should be sanitized.This\n",
            "    should be set to True by nbviewer or similar tools.\n",
            "    Default: False\n",
            "    Equivalent to: [--HTMLExporter.sanitize_html]\n",
            "--writer=<DottedObjectName>\n",
            "    Writer class used to write the\n",
            "                                        results of the conversion\n",
            "    Default: 'FilesWriter'\n",
            "    Equivalent to: [--NbConvertApp.writer_class]\n",
            "--post=<DottedOrNone>\n",
            "    PostProcessor class used to write the\n",
            "                                        results of the conversion\n",
            "    Default: ''\n",
            "    Equivalent to: [--NbConvertApp.postprocessor_class]\n",
            "--output=<Unicode>\n",
            "    overwrite base name use for output files.\n",
            "                can only be used when converting one notebook at a time.\n",
            "    Default: ''\n",
            "    Equivalent to: [--NbConvertApp.output_base]\n",
            "--output-dir=<Unicode>\n",
            "    Directory to write output(s) to. Defaults\n",
            "                                  to output to the directory of each notebook. To recover\n",
            "                                  previous default behaviour (outputting to the current\n",
            "                                  working directory) use . as the flag value.\n",
            "    Default: ''\n",
            "    Equivalent to: [--FilesWriter.build_directory]\n",
            "--reveal-prefix=<Unicode>\n",
            "    The URL prefix for reveal.js (version 3.x).\n",
            "            This defaults to the reveal CDN, but can be any url pointing to a copy\n",
            "            of reveal.js.\n",
            "            For speaker notes to work, this must be a relative path to a local\n",
            "            copy of reveal.js: e.g., \"reveal.js\".\n",
            "            If a relative path is given, it must be a subdirectory of the\n",
            "            current directory (from which the server is run).\n",
            "            See the usage documentation\n",
            "            (https://nbconvert.readthedocs.io/en/latest/usage.html#reveal-js-html-slideshow)\n",
            "            for more details.\n",
            "    Default: ''\n",
            "    Equivalent to: [--SlidesExporter.reveal_url_prefix]\n",
            "--nbformat=<Enum>\n",
            "    The nbformat version to write.\n",
            "            Use this to downgrade notebooks.\n",
            "    Choices: any of [1, 2, 3, 4]\n",
            "    Default: 4\n",
            "    Equivalent to: [--NotebookExporter.nbformat_version]\n",
            "\n",
            "Examples\n",
            "--------\n",
            "\n",
            "    The simplest way to use nbconvert is\n",
            "\n",
            "            > jupyter nbconvert mynotebook.ipynb --to html\n",
            "\n",
            "            Options include ['asciidoc', 'custom', 'html', 'latex', 'markdown', 'notebook', 'pdf', 'python', 'rst', 'script', 'slides', 'webpdf'].\n",
            "\n",
            "            > jupyter nbconvert --to latex mynotebook.ipynb\n",
            "\n",
            "            Both HTML and LaTeX support multiple output templates. LaTeX includes\n",
            "            'base', 'article' and 'report'.  HTML includes 'basic', 'lab' and\n",
            "            'classic'. You can specify the flavor of the format used.\n",
            "\n",
            "            > jupyter nbconvert --to html --template lab mynotebook.ipynb\n",
            "\n",
            "            You can also pipe the output to stdout, rather than a file\n",
            "\n",
            "            > jupyter nbconvert mynotebook.ipynb --stdout\n",
            "\n",
            "            PDF is generated via latex\n",
            "\n",
            "            > jupyter nbconvert mynotebook.ipynb --to pdf\n",
            "\n",
            "            You can get (and serve) a Reveal.js-powered slideshow\n",
            "\n",
            "            > jupyter nbconvert myslides.ipynb --to slides --post serve\n",
            "\n",
            "            Multiple notebooks can be given at the command line in a couple of\n",
            "            different ways:\n",
            "\n",
            "            > jupyter nbconvert notebook*.ipynb\n",
            "            > jupyter nbconvert notebook1.ipynb notebook2.ipynb\n",
            "\n",
            "            or you can specify the notebooks list in a config file, containing::\n",
            "\n",
            "                c.NbConvertApp.notebooks = [\"my_notebook.ipynb\"]\n",
            "\n",
            "            > jupyter nbconvert --config mycfg.py\n",
            "\n",
            "To see all available configurables, use `--help-all`.\n",
            "\n"
          ]
        }
      ]
    },
    {
      "cell_type": "code",
      "source": [
        "import sys\n",
        "import torch.nn as nn\n",
        "import torch\n",
        "import warnings\n",
        "sys.path.append('/home/jovyan/work/d2l_solutions/notebooks/exercises/d2l_utils/')\n",
        "import d2l\n",
        "from torchsummary import summary\n",
        "warnings.filterwarnings(\"ignore\")\n",
        "\n",
        "# Check if d2l.torch has Classifier\n",
        "if hasattr(d2l, 'torch') and hasattr(d2l.torch, 'Classifier'):\n",
        "    d2l_classifier = d2l.torch.Classifier\n",
        "else:\n",
        "    # Check if d2l has Classifier\n",
        "    if hasattr(d2l, 'Classifier'):\n",
        "        d2l_classifier = d2l.Classifier\n",
        "    else:\n",
        "        # Handle the case where Classifier is not found\n",
        "        raise ImportError(\"Classifier not found in d2l or d2l.torch\")\n",
        "\n",
        "class Alexnet(d2l_classifier): # Use d2l_classifier here\n",
        "    def __init__(self,lr=0.1, num_classes=10):\n",
        "        super().__init__()\n",
        "        self.save_hyperparameters()\n",
        "        self.net = nn.Sequential(nn.LazyConv2d(96, kernel_size=11, stride=4, padding=1),\n",
        "                                 nn.ReLU(), nn.MaxPool2d(kernel_size=3, stride=2),\n",
        "                                 nn.LazyConv2d(256, kernel_size=5, padding=2),\n",
        "                                 nn.ReLU(), nn.MaxPool2d(kernel_size=3, stride=2),\n",
        "                                 nn.LazyConv2d(384, kernel_size=3, padding=1),nn.ReLU(),\n",
        "                                 nn.LazyConv2d(384, kernel_size=3, padding=1),nn.ReLU(),\n",
        "                                 nn.LazyConv2d(256, kernel_size=3, padding=1),nn.ReLU(),\n",
        "                                 nn.MaxPool2d(kernel_size=3, stride=2), nn.Flatten(),\n",
        "                                 nn.LazyLinear(4096), nn.ReLU(), nn.Dropout(0.5),\n",
        "                                 nn.LazyLinear(4096), nn.ReLU(), nn.Dropout(0.5),\n",
        "                                 nn.LazyLinear(num_classes)\n",
        "                                 )"
      ],
      "metadata": {
        "id": "XJsdJVqZFqHT"
      },
      "execution_count": 71,
      "outputs": []
    },
    {
      "cell_type": "code",
      "source": [
        "model = Alexnet()\n",
        "X = torch.randn(1,3, 224, 224)\n",
        "_ = model(X)\n",
        "params = {'conv':0, 'lr':0}\n",
        "for idx, module in enumerate(model.net):\n",
        "    if type(module) not in (nn.Linear,nn.Conv2d):\n",
        "        continue\n",
        "    num = sum(p.numel() for p in module.parameters())\n",
        "    # print(f\"Module {idx + 1}: {num} parameters type:{type(module)}\")\n",
        "    if type(module) == nn.Conv2d:\n",
        "        params['conv'] += num\n",
        "\n",
        "    else:\n",
        "        params['lr'] += num\n",
        "\n",
        "params"
      ],
      "metadata": {
        "id": "98hVLyjrr_98",
        "colab": {
          "base_uri": "https://localhost:8080/"
        },
        "outputId": "7d83a366-07ce-451d-9055-06498bb8eb2e"
      },
      "execution_count": 72,
      "outputs": [
        {
          "output_type": "execute_result",
          "data": {
            "text/plain": [
              "{'conv': 3747200, 'lr': 43040778}"
            ]
          },
          "metadata": {},
          "execution_count": 72
        }
      ]
    },
    {
      "cell_type": "code",
      "source": [
        "model = Alexnet()\n",
        "X = torch.randn(1,3, 224, 224)\n",
        "\n",
        "# Move model to the same device as the input data\n",
        "device = torch.device(\"cuda\" if torch.cuda.is_available() else \"cpu\")\n",
        "model.to(device)\n",
        "X = X.to(device)\n",
        "\n",
        "_ = model(X)\n",
        "params = {'conv':0, 'lr':0}\n",
        "for idx, module in enumerate(model.net):\n",
        "    if type(module) not in (nn.Linear,nn.Conv2d):\n",
        "        continue\n",
        "    num = sum(p.numel() for p in module.parameters())\n",
        "    # print(f\"Module {idx + 1}: {num} parameters type:{type(module)}\")\n",
        "    if type(module) == nn.Conv2d:\n",
        "        params['conv'] += num\n",
        "\n",
        "    else:\n",
        "        params['lr'] += num\n",
        "\n",
        "params\n",
        "\n",
        "summary(model, (3, 224, 224)) # Now the model and input are on the same device"
      ],
      "metadata": {
        "id": "WI_LQwb9sEPy",
        "colab": {
          "base_uri": "https://localhost:8080/"
        },
        "outputId": "3b3e8d79-4bae-4af1-aae2-9df633b5884e"
      },
      "execution_count": 74,
      "outputs": [
        {
          "output_type": "stream",
          "name": "stdout",
          "text": [
            "----------------------------------------------------------------\n",
            "        Layer (type)               Output Shape         Param #\n",
            "================================================================\n",
            "            Conv2d-1           [-1, 96, 54, 54]          34,944\n",
            "              ReLU-2           [-1, 96, 54, 54]               0\n",
            "         MaxPool2d-3           [-1, 96, 26, 26]               0\n",
            "            Conv2d-4          [-1, 256, 26, 26]         614,656\n",
            "              ReLU-5          [-1, 256, 26, 26]               0\n",
            "         MaxPool2d-6          [-1, 256, 12, 12]               0\n",
            "            Conv2d-7          [-1, 384, 12, 12]         885,120\n",
            "              ReLU-8          [-1, 384, 12, 12]               0\n",
            "            Conv2d-9          [-1, 384, 12, 12]       1,327,488\n",
            "             ReLU-10          [-1, 384, 12, 12]               0\n",
            "           Conv2d-11          [-1, 256, 12, 12]         884,992\n",
            "             ReLU-12          [-1, 256, 12, 12]               0\n",
            "        MaxPool2d-13            [-1, 256, 5, 5]               0\n",
            "          Flatten-14                 [-1, 6400]               0\n",
            "           Linear-15                 [-1, 4096]      26,218,496\n",
            "             ReLU-16                 [-1, 4096]               0\n",
            "          Dropout-17                 [-1, 4096]               0\n",
            "           Linear-18                 [-1, 4096]      16,781,312\n",
            "             ReLU-19                 [-1, 4096]               0\n",
            "          Dropout-20                 [-1, 4096]               0\n",
            "           Linear-21                   [-1, 10]          40,970\n",
            "================================================================\n",
            "Total params: 46,787,978\n",
            "Trainable params: 46,787,978\n",
            "Non-trainable params: 0\n",
            "----------------------------------------------------------------\n",
            "Input size (MB): 0.57\n",
            "Forward/backward pass size (MB): 10.22\n",
            "Params size (MB): 178.48\n",
            "Estimated Total Size (MB): 189.28\n",
            "----------------------------------------------------------------\n"
          ]
        }
      ]
    },
    {
      "cell_type": "markdown",
      "source": [
        "1.2 Calculate the computational cost for the convolutions and the fully connected layers."
      ],
      "metadata": {
        "id": "bAO604NhsIi-"
      }
    },
    {
      "cell_type": "markdown",
      "source": [
        "Fomula of the computational cost for convolutions is $∑layers(ci∗co∗kh∗kw∗ho∗wo)$"
      ],
      "metadata": {
        "id": "61cl0mKpsOEa"
      }
    },
    {
      "cell_type": "code",
      "source": [
        "3*96*11*11*54*54+96*256*5*5*26*26+256*384*3*3*12*12+384*384*3*3*12*12+384*256*3*3*12*12"
      ],
      "metadata": {
        "id": "927WYYrVsKI3",
        "colab": {
          "base_uri": "https://localhost:8080/"
        },
        "outputId": "6b2d391c-4e07-4162-d3e3-c56c7f0d67d2"
      },
      "execution_count": 64,
      "outputs": [
        {
          "output_type": "execute_result",
          "data": {
            "text/plain": [
              "962858112"
            ]
          },
          "metadata": {},
          "execution_count": 64
        }
      ]
    },
    {
      "cell_type": "markdown",
      "source": [
        "Fomula of the computational cost for fully connected layers is $∑layers(xi∗xo+xo)$"
      ],
      "metadata": {
        "id": "SuYFbF5gsW4J"
      }
    },
    {
      "cell_type": "code",
      "source": [
        "80*80*4096+4096+4096*4096+4096+4096*10+10"
      ],
      "metadata": {
        "id": "cb0mQmBesTFi",
        "colab": {
          "base_uri": "https://localhost:8080/"
        },
        "outputId": "48f4462f-4f4e-4c00-a7dd-137baee5ed21"
      },
      "execution_count": 65,
      "outputs": [
        {
          "output_type": "execute_result",
          "data": {
            "text/plain": [
              "43040778"
            ]
          },
          "metadata": {},
          "execution_count": 65
        }
      ]
    },
    {
      "source": [
        "x = torch.randn(1,3, 224, 224)\n",
        "params = {'conv':0, 'lr':0}\n",
        "# Move the model to the GPU\n",
        "device = torch.device(\"cuda\" if torch.cuda.is_available() else \"cpu\")\n",
        "model.net.to(device)\n",
        "\n",
        "for idx, module in enumerate(model.net):\n",
        "    c_i = x.shape[1]\n",
        "    # Move the input tensor to the same device as the model\n",
        "    x = x.to(device)\n",
        "    x = module(x)\n",
        "    if type(module) == nn.Conv2d:\n",
        "        k = [p.shape for p in module.parameters()]\n",
        "        c_o,h_o,w_o = x.shape[1], x.shape[2], x.shape[3]\n",
        "        params['conv'] += c_i*c_o*h_o*w_o*k[0][-1]*k[0][-2]\n",
        "    if type(module) == nn.Linear:\n",
        "        params['lr'] += sum(p.numel() for p in module.parameters())\n",
        "params"
      ],
      "cell_type": "code",
      "metadata": {
        "colab": {
          "base_uri": "https://localhost:8080/"
        },
        "id": "R34vixANIHLD",
        "outputId": "4605c8e4-24a9-4482-e484-984ccf0ccf49"
      },
      "execution_count": 76,
      "outputs": [
        {
          "output_type": "execute_result",
          "data": {
            "text/plain": [
              "{'conv': 962858112, 'lr': 43040778}"
            ]
          },
          "metadata": {},
          "execution_count": 76
        }
      ]
    },
    {
      "cell_type": "code",
      "source": [
        "X = torch.randn(1,3, 224, 224)\n",
        "# Move the input tensor to the same device as the model\n",
        "X = X.to(device)\n",
        "_ = model(X)\n",
        "total_params = sum(p.numel() for p in model.parameters())\n",
        "print(\"Total parameters:\", total_params)"
      ],
      "metadata": {
        "id": "-wN6YYMbsenz",
        "colab": {
          "base_uri": "https://localhost:8080/"
        },
        "outputId": "353a1384-ac0b-4bfd-be73-62296059ab0e"
      },
      "execution_count": 78,
      "outputs": [
        {
          "output_type": "stream",
          "name": "stdout",
          "text": [
            "Total parameters: 46787978\n"
          ]
        }
      ]
    },
    {
      "cell_type": "markdown",
      "source": [
        "1.3 How does the memory (read and write bandwidth, latency, size) affect computation? Is there any difference in its effects for training and inference?"
      ],
      "metadata": {
        "id": "Sn7Uc9Nwsli7"
      }
    },
    {
      "cell_type": "markdown",
      "source": [
        "Pengaruh Karakteristik Memori pada Komputasi Neural Network\n",
        "\n",
        "**1. Bandwidth Baca dan Tulis:**\n",
        "\n",
        "- Efek:Bandwidth tinggi memungkinkan perpindahan data yang lebih cepat antara memori dan unit pemrosesan.\n",
        "- Dampak:Akses data yang lebih cepat meningkatkan throughput komputasi, mengurangi waktu tunggu, dan mempercepat pelatihan serta inferensi.\n",
        "- Training vs Inference:Keduanya diuntungkan dari bandwidth tinggi, karena perpindahan data sering menjadi bottleneck.\n",
        "\n",
        "**2. Latensi:**\n",
        "\n",
        "- Efek:Latensi rendah mempercepat akses data dari memori.\n",
        "- Dampak: Mengurangi waktu tunggu untuk akses data, sehingga mempercepat pemrosesan.\n",
        "- Training vs Inference: Latensi mempengaruhi keduanya; pelatihan memerlukan akses cepat untuk pembaruan bobot, sementara inferensi membutuhkan respon cepat untuk aplikasi real-time.\n",
        "\n",
        "**3. Ukuran Memori:**\n",
        "\n",
        "- Efek:Ukuran memori menentukan seberapa banyak data yang dapat disimpan.\n",
        "- Dampak: Memori yang cukup mengurangi kebutuhan untuk perpindahan data yang sering, meningkatkan kinerja.\n",
        "- Training vs Inference: Keduanya memerlukan memori yang cukup untuk menyimpan hasil sementara; pelatihan memerlukan ruang untuk gradien dan parameter model, sementara inferensi memerlukan ruang untuk hasil selama proses feedforward.\n",
        "\n",
        "**Perbedaan Antara Training dan Inference:**\n",
        "\n",
        "- Pelatihan: Memerlukan bandwidth tinggi karena seringnya pembaruan bobot dan gradien, terutama dalam pemrosesan batch.\n",
        "- Inferensi: Fokus pada latensi dan waktu respons, dengan kebutuhan bandwidth tinggi tetapi sedikit lebih terbuka terhadap optimasi latensi."
      ],
      "metadata": {
        "id": "A7vuLn8NsnOU"
      }
    },
    {
      "cell_type": "markdown",
      "source": [
        "### 2. You are a chip designer and need to trade off computation and memory bandwidth. For example, a faster chip requires more power and possibly a larger chip area. More memory bandwidth requires more pins and control logic, thus also more area. How do you optimize?\n",
        "\n",
        "Mengoptimalkan trade-off antara komputasi dan bandwidth memori dalam desain chip adalah tugas yang kompleks tetapi sangat penting. Berikut adalah pendekatan yang disederhanakan:\n",
        "\n",
        "**1. Tentukan Tujuan Kinerja:**\n",
        "   Identifikasi kebutuhan aplikasi (misalnya, inferensi real-time, pelatihan batch) dan tetapkan tujuan untuk kecepatan komputasi, kecepatan akses memori, dan efisiensi sistem secara keseluruhan.\n",
        "\n",
        "**2. Profil Beban Kerja:**\n",
        "   Analisis karakteristik beban kerja, termasuk tugas utama, pola akses memori, ukuran data, dan frekuensi komunikasi.\n",
        "\n",
        "**3. Eksplorasi Arsitektur:**\n",
        "   Teliti berbagai opsi arsitektur untuk menyeimbangkan unit komputasi (inti, unit SIMD) dan subsistem memori (hierarki cache, bank memori) dan pertimbangkan trade-off seperti jumlah inti, ukuran cache, dan hierarki memori.\n",
        "\n",
        "**4. Desain Hierarki Memori:**\n",
        "   Rancang hierarki memori yang efektif untuk meminimalkan bottleneck serta tentukan tingkat cache, protokol koherensi, dan jenis memori (SRAM, DRAM).\n",
        "\n",
        "**5. Efisiensi Daya:**\n",
        "   Terapkan teknik untuk mengoptimalkan konsumsi daya, seperti penyesuaian tegangan dan frekuensi dinamis (DVFS) serta akses memori yang efisien.\n",
        "\n",
        "**6. Area Chip dan Integrasi:**\n",
        "   Seimbangkan area chip antara komponen komputasi dan memori berdasarkan kebutuhan kinerja dan batasan biaya dan integrasikan memori dekat dengan unit komputasi untuk mengurangi latensi dan meningkatkan bandwidth.\n",
        "\n",
        "**7. Peningkatan Bandwidth Memori:**\n",
        "   Teliti opsi seperti bus memori lebar dan antarmuka berkecepatan tinggi (misalnya, HBM, GDDR).\n",
        "\n",
        "**8. Paralelisme dan Pipelining:**\n",
        "   Gunakan teknik paralelisme dan pipelining untuk menggabungkan komputasi dan akses memori, mengurangi dampak latensi memori.\n",
        "\n",
        "**9. Simulasi dan Pemodelan:**\n",
        "   Gunakan alat simulasi untuk mengevaluasi pilihan desain, menganalisis metrik kinerja dan konsumsi daya.\n",
        "\n",
        "**10. Umpan Balik:**\n",
        "   Refine desain secara iteratif berdasarkan umpan balik dari simulasi dan benchmark, menyesuaikan trade-off untuk hasil optimal.\n",
        "\n",
        "**11. Validasi dan Pengujian:**\n",
        "   Validasi desain melalui pengujian menyeluruh pada berbagai beban kerja.\n",
        "\n",
        "**12. Batasan Dunia Nyata:**\n",
        "   Pertimbangkan proses manufaktur, batasan biaya, dan tantangan waktu pemasaran."
      ],
      "metadata": {
        "id": "LA138q1kwR2x"
      }
    },
    {
      "cell_type": "markdown",
      "source": [
        "### 3. Why do engineers no longer report performance benchmarks on AlexNet?"
      ],
      "metadata": {
        "id": "dctHOgQMxJLD"
      }
    },
    {
      "cell_type": "markdown",
      "source": [
        "1. Kemajuan Arsitektur\n",
        "Seiring waktu, arsitektur yang lebih canggih seperti VGG, ResNet, Inception, dan model berbasis Transformer (seperti BERT dan GPT) telah muncul dan menjadi lebih populer untuk benchmarking. Model-model ini umumnya menawarkan akurasi dan efisiensi yang lebih baik dibandingkan AlexNet.\n",
        "\n",
        "2. Model Spesifik Domain\n",
        "Tergantung pada bidang aplikasi, insinyur mungkin lebih memilih untuk membenchmark model yang dirancang khusus untuk tugas tertentu. Misalnya, EfficientNet lebih cocok untuk klasifikasi gambar yang efisien, sedangkan Faster R-CNN lebih relevan untuk deteksi objek.\n",
        "\n",
        "3. Evolusi Perangkat Keras dan Perangkat Lunak\n",
        "Benchmark kinerja sering dipengaruhi oleh perangkat keras (seperti GPU dan TPU) dan perangkat lunak (framework deep learning dan optimasi). Seiring berkembangnya teknologi perangkat keras dan perangkat lunak, insinyur cenderung memilih model-model terbaru yang dioptimalkan untuk teknologi terkini."
      ],
      "metadata": {
        "id": "4X8Pgk7NxKbz"
      }
    },
    {
      "cell_type": "markdown",
      "source": [
        "### 4. Try increasing the number of epochs when training AlexNet. Compared with LeNet, how do the results differ? Why?\n",
        "\n",
        "Meningkatkan epoch saat melatih AlexNet akan menghasilkan performa yang lebih baik daripada LeNet.\n",
        "- AlexNet lebih kompleks: Memiliki lebih banyak layer dan parameter, sehingga mampu mempelajari pola yang lebih rumit.\n",
        "- ReLU dan Dropout: AlexNet menggunakan fungsi aktivasi ReLU dan teknik dropout yang membantu menghindari overfitting dan meningkatkan akurasi.\n",
        "\n",
        "Akan tetapi, AlexNet butuh waktu training yang lebih lama karena lebih kompleks."
      ],
      "metadata": {
        "id": "O6AbyJb2ybfE"
      }
    },
    {
      "cell_type": "markdown",
      "source": [
        "### 5. AlexNet may be too complex for the Fashion-MNIST dataset, in particular due to the low resolution of the initial images."
      ],
      "metadata": {
        "id": "QyxEzvxMynJi"
      }
    },
    {
      "cell_type": "markdown",
      "source": [
        "5.1 Try simplifying the model to make the training faster, while ensuring that the accuracy does not drop significantly."
      ],
      "metadata": {
        "id": "K3p0gamIypgT"
      }
    },
    {
      "cell_type": "code",
      "source": [
        "import torch.nn as nn\n",
        "\n",
        "class SimplifiedAlexNet(nn.Module):\n",
        "    def __init__(self):\n",
        "        super(SimplifiedAlexNet, self).__init__()\n",
        "        self.features = nn.Sequential(\n",
        "            nn.Conv2d(1, 32, kernel_size=3, stride=1, padding=1),\n",
        "            nn.ReLU(inplace=True),\n",
        "            nn.MaxPool2d(kernel_size=2, stride=2),\n",
        "            nn.Conv2d(32, 64, kernel_size=3, padding=1),\n",
        "            nn.ReLU(inplace=True),\n",
        "            nn.MaxPool2d(kernel_size=2, stride=2),\n",
        "            nn.Conv2d(64, 128, kernel_size=3, padding=1),\n",
        "            nn.ReLU(inplace=True),\n",
        "            nn.MaxPool2d(kernel_size=2, stride=2),\n",
        "        )\n",
        "        self.classifier = nn.Sequential(\n",
        "            nn.Flatten(),\n",
        "            nn.Linear(128 * 3 * 3, 512),\n",
        "            nn.ReLU(inplace=True),\n",
        "            nn.Dropout(0.5),\n",
        "            nn.Linear(512, 10),\n",
        "        )\n",
        "\n",
        "    def forward(self, x):\n",
        "        x = self.features(x)\n",
        "        x = self.classifier(x)\n",
        "        return x"
      ],
      "metadata": {
        "id": "o0p1zMD9JyRF"
      },
      "execution_count": 80,
      "outputs": []
    },
    {
      "cell_type": "markdown",
      "source": [
        "5.2 Design a better model that works directly on 28×28\n",
        " images."
      ],
      "metadata": {
        "id": "vJy0NJqoyrla"
      }
    },
    {
      "cell_type": "code",
      "source": [
        "!pip install -U d2l # Make sure you have the latest version of d2l installed\n",
        "\n",
        "import torch\n",
        "from torch import nn\n",
        "from d2l import torch as d2l\n",
        "\n",
        "class SmallAlexnet(d2l.Classifier): # Use d2l.torch.Classifier\n",
        "    def __init__(self,lr=0.1, num_classes=10):\n",
        "        super().__init__()\n",
        "        self.save_hyperparameters()\n",
        "        self.net = nn.Sequential(\n",
        "            nn.LazyConv2d(256, kernel_size=3, padding=1),nn.ReLU(),\n",
        "            nn.LazyConv2d(256, kernel_size=3, padding=1),nn.ReLU(),\n",
        "            nn.LazyConv2d(256, kernel_size=3, padding=1),nn.ReLU(),\n",
        "            nn.MaxPool2d(kernel_size=3, stride=2),\n",
        "            nn.LazyConv2d(512, kernel_size=3, padding=1),nn.ReLU(),\n",
        "            nn.LazyConv2d(512, kernel_size=3, padding=1),nn.ReLU(),\n",
        "            nn.LazyConv2d(256, kernel_size=3, padding=1),nn.ReLU(),\n",
        "            nn.MaxPool2d(kernel_size=3, stride=2), nn.Flatten(),\n",
        "            nn.LazyLinear(1024), nn.ReLU(),\n",
        "            nn.LazyLinear(num_classes)\n",
        "            )"
      ],
      "metadata": {
        "id": "mGjrEJgMy6Wj",
        "colab": {
          "base_uri": "https://localhost:8080/"
        },
        "outputId": "c6889777-242a-4c9d-a932-7c7216eb6645"
      },
      "execution_count": 84,
      "outputs": [
        {
          "output_type": "stream",
          "name": "stdout",
          "text": [
            "Requirement already satisfied: d2l in /usr/local/lib/python3.10/dist-packages (1.0.3)\n",
            "Requirement already satisfied: jupyter==1.0.0 in /usr/local/lib/python3.10/dist-packages (from d2l) (1.0.0)\n",
            "Requirement already satisfied: numpy==1.23.5 in /usr/local/lib/python3.10/dist-packages (from d2l) (1.23.5)\n",
            "Requirement already satisfied: matplotlib==3.7.2 in /usr/local/lib/python3.10/dist-packages (from d2l) (3.7.2)\n",
            "Requirement already satisfied: matplotlib-inline==0.1.6 in /usr/local/lib/python3.10/dist-packages (from d2l) (0.1.6)\n",
            "Requirement already satisfied: requests==2.31.0 in /usr/local/lib/python3.10/dist-packages (from d2l) (2.31.0)\n",
            "Requirement already satisfied: pandas==2.0.3 in /usr/local/lib/python3.10/dist-packages (from d2l) (2.0.3)\n",
            "Requirement already satisfied: scipy==1.10.1 in /usr/local/lib/python3.10/dist-packages (from d2l) (1.10.1)\n",
            "Requirement already satisfied: notebook in /usr/local/lib/python3.10/dist-packages (from jupyter==1.0.0->d2l) (6.5.5)\n",
            "Requirement already satisfied: qtconsole in /usr/local/lib/python3.10/dist-packages (from jupyter==1.0.0->d2l) (5.6.0)\n",
            "Requirement already satisfied: jupyter-console in /usr/local/lib/python3.10/dist-packages (from jupyter==1.0.0->d2l) (6.1.0)\n",
            "Requirement already satisfied: nbconvert in /usr/local/lib/python3.10/dist-packages (from jupyter==1.0.0->d2l) (6.5.4)\n",
            "Requirement already satisfied: ipykernel in /usr/local/lib/python3.10/dist-packages (from jupyter==1.0.0->d2l) (5.5.6)\n",
            "Requirement already satisfied: ipywidgets in /usr/local/lib/python3.10/dist-packages (from jupyter==1.0.0->d2l) (7.7.1)\n",
            "Requirement already satisfied: contourpy>=1.0.1 in /usr/local/lib/python3.10/dist-packages (from matplotlib==3.7.2->d2l) (1.3.0)\n",
            "Requirement already satisfied: cycler>=0.10 in /usr/local/lib/python3.10/dist-packages (from matplotlib==3.7.2->d2l) (0.12.1)\n",
            "Requirement already satisfied: fonttools>=4.22.0 in /usr/local/lib/python3.10/dist-packages (from matplotlib==3.7.2->d2l) (4.54.1)\n",
            "Requirement already satisfied: kiwisolver>=1.0.1 in /usr/local/lib/python3.10/dist-packages (from matplotlib==3.7.2->d2l) (1.4.7)\n",
            "Requirement already satisfied: packaging>=20.0 in /usr/local/lib/python3.10/dist-packages (from matplotlib==3.7.2->d2l) (24.1)\n",
            "Requirement already satisfied: pillow>=6.2.0 in /usr/local/lib/python3.10/dist-packages (from matplotlib==3.7.2->d2l) (10.4.0)\n",
            "Requirement already satisfied: pyparsing<3.1,>=2.3.1 in /usr/local/lib/python3.10/dist-packages (from matplotlib==3.7.2->d2l) (3.0.9)\n",
            "Requirement already satisfied: python-dateutil>=2.7 in /usr/local/lib/python3.10/dist-packages (from matplotlib==3.7.2->d2l) (2.8.2)\n",
            "Requirement already satisfied: traitlets in /usr/local/lib/python3.10/dist-packages (from matplotlib-inline==0.1.6->d2l) (5.7.1)\n",
            "Requirement already satisfied: pytz>=2020.1 in /usr/local/lib/python3.10/dist-packages (from pandas==2.0.3->d2l) (2024.2)\n",
            "Requirement already satisfied: tzdata>=2022.1 in /usr/local/lib/python3.10/dist-packages (from pandas==2.0.3->d2l) (2024.2)\n",
            "Requirement already satisfied: charset-normalizer<4,>=2 in /usr/local/lib/python3.10/dist-packages (from requests==2.31.0->d2l) (3.3.2)\n",
            "Requirement already satisfied: idna<4,>=2.5 in /usr/local/lib/python3.10/dist-packages (from requests==2.31.0->d2l) (3.10)\n",
            "Requirement already satisfied: urllib3<3,>=1.21.1 in /usr/local/lib/python3.10/dist-packages (from requests==2.31.0->d2l) (2.2.3)\n",
            "Requirement already satisfied: certifi>=2017.4.17 in /usr/local/lib/python3.10/dist-packages (from requests==2.31.0->d2l) (2024.8.30)\n",
            "Requirement already satisfied: six>=1.5 in /usr/local/lib/python3.10/dist-packages (from python-dateutil>=2.7->matplotlib==3.7.2->d2l) (1.16.0)\n",
            "Requirement already satisfied: ipython-genutils in /usr/local/lib/python3.10/dist-packages (from ipykernel->jupyter==1.0.0->d2l) (0.2.0)\n",
            "Requirement already satisfied: ipython>=5.0.0 in /usr/local/lib/python3.10/dist-packages (from ipykernel->jupyter==1.0.0->d2l) (7.34.0)\n",
            "Requirement already satisfied: jupyter-client in /usr/local/lib/python3.10/dist-packages (from ipykernel->jupyter==1.0.0->d2l) (6.1.12)\n",
            "Requirement already satisfied: tornado>=4.2 in /usr/local/lib/python3.10/dist-packages (from ipykernel->jupyter==1.0.0->d2l) (6.3.3)\n",
            "Requirement already satisfied: widgetsnbextension~=3.6.0 in /usr/local/lib/python3.10/dist-packages (from ipywidgets->jupyter==1.0.0->d2l) (3.6.9)\n",
            "Requirement already satisfied: jupyterlab-widgets>=1.0.0 in /usr/local/lib/python3.10/dist-packages (from ipywidgets->jupyter==1.0.0->d2l) (3.0.13)\n",
            "Requirement already satisfied: prompt-toolkit!=3.0.0,!=3.0.1,<3.1.0,>=2.0.0 in /usr/local/lib/python3.10/dist-packages (from jupyter-console->jupyter==1.0.0->d2l) (3.0.48)\n",
            "Requirement already satisfied: pygments in /usr/local/lib/python3.10/dist-packages (from jupyter-console->jupyter==1.0.0->d2l) (2.18.0)\n",
            "Requirement already satisfied: lxml in /usr/local/lib/python3.10/dist-packages (from nbconvert->jupyter==1.0.0->d2l) (4.9.4)\n",
            "Requirement already satisfied: beautifulsoup4 in /usr/local/lib/python3.10/dist-packages (from nbconvert->jupyter==1.0.0->d2l) (4.12.3)\n",
            "Requirement already satisfied: bleach in /usr/local/lib/python3.10/dist-packages (from nbconvert->jupyter==1.0.0->d2l) (6.1.0)\n",
            "Requirement already satisfied: defusedxml in /usr/local/lib/python3.10/dist-packages (from nbconvert->jupyter==1.0.0->d2l) (0.7.1)\n",
            "Requirement already satisfied: entrypoints>=0.2.2 in /usr/local/lib/python3.10/dist-packages (from nbconvert->jupyter==1.0.0->d2l) (0.4)\n",
            "Requirement already satisfied: jinja2>=3.0 in /usr/local/lib/python3.10/dist-packages (from nbconvert->jupyter==1.0.0->d2l) (3.1.4)\n",
            "Requirement already satisfied: jupyter-core>=4.7 in /usr/local/lib/python3.10/dist-packages (from nbconvert->jupyter==1.0.0->d2l) (5.7.2)\n",
            "Requirement already satisfied: jupyterlab-pygments in /usr/local/lib/python3.10/dist-packages (from nbconvert->jupyter==1.0.0->d2l) (0.3.0)\n",
            "Requirement already satisfied: MarkupSafe>=2.0 in /usr/local/lib/python3.10/dist-packages (from nbconvert->jupyter==1.0.0->d2l) (2.1.5)\n",
            "Requirement already satisfied: mistune<2,>=0.8.1 in /usr/local/lib/python3.10/dist-packages (from nbconvert->jupyter==1.0.0->d2l) (0.8.4)\n",
            "Requirement already satisfied: nbclient>=0.5.0 in /usr/local/lib/python3.10/dist-packages (from nbconvert->jupyter==1.0.0->d2l) (0.10.0)\n",
            "Requirement already satisfied: nbformat>=5.1 in /usr/local/lib/python3.10/dist-packages (from nbconvert->jupyter==1.0.0->d2l) (5.10.4)\n",
            "Requirement already satisfied: pandocfilters>=1.4.1 in /usr/local/lib/python3.10/dist-packages (from nbconvert->jupyter==1.0.0->d2l) (1.5.1)\n",
            "Requirement already satisfied: tinycss2 in /usr/local/lib/python3.10/dist-packages (from nbconvert->jupyter==1.0.0->d2l) (1.3.0)\n",
            "Requirement already satisfied: pyzmq<25,>=17 in /usr/local/lib/python3.10/dist-packages (from notebook->jupyter==1.0.0->d2l) (24.0.1)\n",
            "Requirement already satisfied: argon2-cffi in /usr/local/lib/python3.10/dist-packages (from notebook->jupyter==1.0.0->d2l) (23.1.0)\n",
            "Requirement already satisfied: nest-asyncio>=1.5 in /usr/local/lib/python3.10/dist-packages (from notebook->jupyter==1.0.0->d2l) (1.6.0)\n",
            "Requirement already satisfied: Send2Trash>=1.8.0 in /usr/local/lib/python3.10/dist-packages (from notebook->jupyter==1.0.0->d2l) (1.8.3)\n",
            "Requirement already satisfied: terminado>=0.8.3 in /usr/local/lib/python3.10/dist-packages (from notebook->jupyter==1.0.0->d2l) (0.18.1)\n",
            "Requirement already satisfied: prometheus-client in /usr/local/lib/python3.10/dist-packages (from notebook->jupyter==1.0.0->d2l) (0.21.0)\n",
            "Requirement already satisfied: nbclassic>=0.4.7 in /usr/local/lib/python3.10/dist-packages (from notebook->jupyter==1.0.0->d2l) (1.1.0)\n",
            "Requirement already satisfied: qtpy>=2.4.0 in /usr/local/lib/python3.10/dist-packages (from qtconsole->jupyter==1.0.0->d2l) (2.4.1)\n",
            "Requirement already satisfied: setuptools>=18.5 in /usr/local/lib/python3.10/dist-packages (from ipython>=5.0.0->ipykernel->jupyter==1.0.0->d2l) (71.0.4)\n",
            "Requirement already satisfied: jedi>=0.16 in /usr/local/lib/python3.10/dist-packages (from ipython>=5.0.0->ipykernel->jupyter==1.0.0->d2l) (0.19.1)\n",
            "Requirement already satisfied: decorator in /usr/local/lib/python3.10/dist-packages (from ipython>=5.0.0->ipykernel->jupyter==1.0.0->d2l) (4.4.2)\n",
            "Requirement already satisfied: pickleshare in /usr/local/lib/python3.10/dist-packages (from ipython>=5.0.0->ipykernel->jupyter==1.0.0->d2l) (0.7.5)\n",
            "Requirement already satisfied: backcall in /usr/local/lib/python3.10/dist-packages (from ipython>=5.0.0->ipykernel->jupyter==1.0.0->d2l) (0.2.0)\n",
            "Requirement already satisfied: pexpect>4.3 in /usr/local/lib/python3.10/dist-packages (from ipython>=5.0.0->ipykernel->jupyter==1.0.0->d2l) (4.9.0)\n",
            "Requirement already satisfied: platformdirs>=2.5 in /usr/local/lib/python3.10/dist-packages (from jupyter-core>=4.7->nbconvert->jupyter==1.0.0->d2l) (4.3.6)\n",
            "Requirement already satisfied: notebook-shim>=0.2.3 in /usr/local/lib/python3.10/dist-packages (from nbclassic>=0.4.7->notebook->jupyter==1.0.0->d2l) (0.2.4)\n",
            "Requirement already satisfied: fastjsonschema>=2.15 in /usr/local/lib/python3.10/dist-packages (from nbformat>=5.1->nbconvert->jupyter==1.0.0->d2l) (2.20.0)\n",
            "Requirement already satisfied: jsonschema>=2.6 in /usr/local/lib/python3.10/dist-packages (from nbformat>=5.1->nbconvert->jupyter==1.0.0->d2l) (4.23.0)\n",
            "Requirement already satisfied: wcwidth in /usr/local/lib/python3.10/dist-packages (from prompt-toolkit!=3.0.0,!=3.0.1,<3.1.0,>=2.0.0->jupyter-console->jupyter==1.0.0->d2l) (0.2.13)\n",
            "Requirement already satisfied: ptyprocess in /usr/local/lib/python3.10/dist-packages (from terminado>=0.8.3->notebook->jupyter==1.0.0->d2l) (0.7.0)\n",
            "Requirement already satisfied: argon2-cffi-bindings in /usr/local/lib/python3.10/dist-packages (from argon2-cffi->notebook->jupyter==1.0.0->d2l) (21.2.0)\n",
            "Requirement already satisfied: soupsieve>1.2 in /usr/local/lib/python3.10/dist-packages (from beautifulsoup4->nbconvert->jupyter==1.0.0->d2l) (2.6)\n",
            "Requirement already satisfied: webencodings in /usr/local/lib/python3.10/dist-packages (from bleach->nbconvert->jupyter==1.0.0->d2l) (0.5.1)\n",
            "Requirement already satisfied: parso<0.9.0,>=0.8.3 in /usr/local/lib/python3.10/dist-packages (from jedi>=0.16->ipython>=5.0.0->ipykernel->jupyter==1.0.0->d2l) (0.8.4)\n",
            "Requirement already satisfied: attrs>=22.2.0 in /usr/local/lib/python3.10/dist-packages (from jsonschema>=2.6->nbformat>=5.1->nbconvert->jupyter==1.0.0->d2l) (24.2.0)\n",
            "Requirement already satisfied: jsonschema-specifications>=2023.03.6 in /usr/local/lib/python3.10/dist-packages (from jsonschema>=2.6->nbformat>=5.1->nbconvert->jupyter==1.0.0->d2l) (2023.12.1)\n",
            "Requirement already satisfied: referencing>=0.28.4 in /usr/local/lib/python3.10/dist-packages (from jsonschema>=2.6->nbformat>=5.1->nbconvert->jupyter==1.0.0->d2l) (0.35.1)\n",
            "Requirement already satisfied: rpds-py>=0.7.1 in /usr/local/lib/python3.10/dist-packages (from jsonschema>=2.6->nbformat>=5.1->nbconvert->jupyter==1.0.0->d2l) (0.20.0)\n",
            "Requirement already satisfied: jupyter-server<3,>=1.8 in /usr/local/lib/python3.10/dist-packages (from notebook-shim>=0.2.3->nbclassic>=0.4.7->notebook->jupyter==1.0.0->d2l) (1.24.0)\n",
            "Requirement already satisfied: cffi>=1.0.1 in /usr/local/lib/python3.10/dist-packages (from argon2-cffi-bindings->argon2-cffi->notebook->jupyter==1.0.0->d2l) (1.17.1)\n",
            "Requirement already satisfied: pycparser in /usr/local/lib/python3.10/dist-packages (from cffi>=1.0.1->argon2-cffi-bindings->argon2-cffi->notebook->jupyter==1.0.0->d2l) (2.22)\n",
            "Requirement already satisfied: anyio<4,>=3.1.0 in /usr/local/lib/python3.10/dist-packages (from jupyter-server<3,>=1.8->notebook-shim>=0.2.3->nbclassic>=0.4.7->notebook->jupyter==1.0.0->d2l) (3.7.1)\n",
            "Requirement already satisfied: websocket-client in /usr/local/lib/python3.10/dist-packages (from jupyter-server<3,>=1.8->notebook-shim>=0.2.3->nbclassic>=0.4.7->notebook->jupyter==1.0.0->d2l) (1.8.0)\n",
            "Requirement already satisfied: sniffio>=1.1 in /usr/local/lib/python3.10/dist-packages (from anyio<4,>=3.1.0->jupyter-server<3,>=1.8->notebook-shim>=0.2.3->nbclassic>=0.4.7->notebook->jupyter==1.0.0->d2l) (1.3.1)\n",
            "Requirement already satisfied: exceptiongroup in /usr/local/lib/python3.10/dist-packages (from anyio<4,>=3.1.0->jupyter-server<3,>=1.8->notebook-shim>=0.2.3->nbclassic>=0.4.7->notebook->jupyter==1.0.0->d2l) (1.2.2)\n"
          ]
        }
      ]
    },
    {
      "cell_type": "markdown",
      "source": [
        "### 6. Modify the batch size, and observe the changes in throughput (images/s), accuracy, and GPU memory."
      ],
      "metadata": {
        "id": "AcEGOI6VytvT"
      }
    },
    {
      "cell_type": "code",
      "source": [
        "import torch\n",
        "from torch import nn\n",
        "from d2l import torch as d2l\n",
        "\n",
        "class SmallAlexnet(d2l.Classifier):\n",
        "    def __init__(self,lr=0.1, num_classes=10):\n",
        "        super().__init__()\n",
        "        self.save_hyperparameters()\n",
        "        self.net = nn.Sequential(\n",
        "            nn.LazyConv2d(256, kernel_size=3, padding=1),nn.ReLU(),\n",
        "            nn.LazyConv2d(256, kernel_size=3, padding=1),nn.ReLU(),\n",
        "            nn.LazyConv2d(256, kernel_size=3, padding=1),nn.ReLU(),\n",
        "            nn.MaxPool2d(kernel_size=3, stride=2),\n",
        "            nn.LazyConv2d(512, kernel_size=3, padding=1),nn.ReLU(),\n",
        "            nn.LazyConv2d(512, kernel_size=3, padding=1),nn.ReLU(),\n",
        "            nn.LazyConv2d(256, kernel_size=3, padding=1),nn.ReLU(),\n",
        "            nn.MaxPool2d(kernel_size=3, stride=2), nn.Flatten(),\n",
        "            nn.LazyLinear(1024), nn.ReLU(),\n",
        "            nn.LazyLinear(num_classes)\n",
        "            )\n",
        "\n",
        "# Use a utility function to measure the performance with different batch sizes\n",
        "def train_with_batch_size(batch_size):\n",
        "    model = SmallAlexnet(lr=0.01)\n",
        "    data = d2l.FashionMNIST(batch_size=batch_size)\n",
        "    trainer = d2l.Trainer(max_epochs=1, num_gpus=1) # Use 1 GPU\n",
        "    trainer.fit(model, data)\n",
        "\n",
        "    # Return the throughput, accuracy, and GPU memory usage\n",
        "    return trainer.train_iter_sec[-1], trainer.train_acc[-1], torch.cuda.max_memory_allocated() # Changed train_batch_sec to train_iter_sec\n",
        "\n",
        "# Try different batch sizes\n",
        "batch_sizes = [16, 32, 64, 128, 256, 512]\n",
        "results = []\n",
        "for batch_size in batch_sizes:\n",
        "    throughput, accuracy, gpu_memory = train_with_batch_size(batch_size)\n",
        "    results.append([batch_size, throughput, accuracy, gpu_memory])\n",
        "    print(f'Batch size: {batch_size}, Throughput: {throughput:.2f} img/sec, Accuracy: {accuracy:.4f}, GPU Memory: {gpu_memory/(1024*1024):.2f} MB')\n",
        "\n",
        "# You can further process the 'results' list to analyze the impact of batch size"
      ],
      "metadata": {
        "colab": {
          "base_uri": "https://localhost:8080/",
          "height": 615
        },
        "id": "O_1aLDRAKVEN",
        "outputId": "4f30c3dd-740c-4fbb-db2c-a9e88e7b9fdf"
      },
      "execution_count": 86,
      "outputs": [
        {
          "output_type": "error",
          "ename": "AttributeError",
          "evalue": "'Trainer' object has no attribute 'train_iter_sec'",
          "traceback": [
            "\u001b[0;31m---------------------------------------------------------------------------\u001b[0m",
            "\u001b[0;31mAttributeError\u001b[0m                            Traceback (most recent call last)",
            "\u001b[0;32m<ipython-input-86-9c5754467eb7>\u001b[0m in \u001b[0;36m<cell line: 35>\u001b[0;34m()\u001b[0m\n\u001b[1;32m     34\u001b[0m \u001b[0mresults\u001b[0m \u001b[0;34m=\u001b[0m \u001b[0;34m[\u001b[0m\u001b[0;34m]\u001b[0m\u001b[0;34m\u001b[0m\u001b[0;34m\u001b[0m\u001b[0m\n\u001b[1;32m     35\u001b[0m \u001b[0;32mfor\u001b[0m \u001b[0mbatch_size\u001b[0m \u001b[0;32min\u001b[0m \u001b[0mbatch_sizes\u001b[0m\u001b[0;34m:\u001b[0m\u001b[0;34m\u001b[0m\u001b[0;34m\u001b[0m\u001b[0m\n\u001b[0;32m---> 36\u001b[0;31m     \u001b[0mthroughput\u001b[0m\u001b[0;34m,\u001b[0m \u001b[0maccuracy\u001b[0m\u001b[0;34m,\u001b[0m \u001b[0mgpu_memory\u001b[0m \u001b[0;34m=\u001b[0m \u001b[0mtrain_with_batch_size\u001b[0m\u001b[0;34m(\u001b[0m\u001b[0mbatch_size\u001b[0m\u001b[0;34m)\u001b[0m\u001b[0;34m\u001b[0m\u001b[0;34m\u001b[0m\u001b[0m\n\u001b[0m\u001b[1;32m     37\u001b[0m     \u001b[0mresults\u001b[0m\u001b[0;34m.\u001b[0m\u001b[0mappend\u001b[0m\u001b[0;34m(\u001b[0m\u001b[0;34m[\u001b[0m\u001b[0mbatch_size\u001b[0m\u001b[0;34m,\u001b[0m \u001b[0mthroughput\u001b[0m\u001b[0;34m,\u001b[0m \u001b[0maccuracy\u001b[0m\u001b[0;34m,\u001b[0m \u001b[0mgpu_memory\u001b[0m\u001b[0;34m]\u001b[0m\u001b[0;34m)\u001b[0m\u001b[0;34m\u001b[0m\u001b[0;34m\u001b[0m\u001b[0m\n\u001b[1;32m     38\u001b[0m     \u001b[0mprint\u001b[0m\u001b[0;34m(\u001b[0m\u001b[0;34mf'Batch size: {batch_size}, Throughput: {throughput:.2f} img/sec, Accuracy: {accuracy:.4f}, GPU Memory: {gpu_memory/(1024*1024):.2f} MB'\u001b[0m\u001b[0;34m)\u001b[0m\u001b[0;34m\u001b[0m\u001b[0;34m\u001b[0m\u001b[0m\n",
            "\u001b[0;32m<ipython-input-86-9c5754467eb7>\u001b[0m in \u001b[0;36mtrain_with_batch_size\u001b[0;34m(batch_size)\u001b[0m\n\u001b[1;32m     28\u001b[0m \u001b[0;34m\u001b[0m\u001b[0m\n\u001b[1;32m     29\u001b[0m     \u001b[0;31m# Return the throughput, accuracy, and GPU memory usage\u001b[0m\u001b[0;34m\u001b[0m\u001b[0;34m\u001b[0m\u001b[0m\n\u001b[0;32m---> 30\u001b[0;31m     \u001b[0;32mreturn\u001b[0m \u001b[0mtrainer\u001b[0m\u001b[0;34m.\u001b[0m\u001b[0mtrain_iter_sec\u001b[0m\u001b[0;34m[\u001b[0m\u001b[0;34m-\u001b[0m\u001b[0;36m1\u001b[0m\u001b[0;34m]\u001b[0m\u001b[0;34m,\u001b[0m \u001b[0mtrainer\u001b[0m\u001b[0;34m.\u001b[0m\u001b[0mtrain_acc\u001b[0m\u001b[0;34m[\u001b[0m\u001b[0;34m-\u001b[0m\u001b[0;36m1\u001b[0m\u001b[0;34m]\u001b[0m\u001b[0;34m,\u001b[0m \u001b[0mtorch\u001b[0m\u001b[0;34m.\u001b[0m\u001b[0mcuda\u001b[0m\u001b[0;34m.\u001b[0m\u001b[0mmax_memory_allocated\u001b[0m\u001b[0;34m(\u001b[0m\u001b[0;34m)\u001b[0m \u001b[0;31m# Changed train_batch_sec to train_iter_sec\u001b[0m\u001b[0;34m\u001b[0m\u001b[0;34m\u001b[0m\u001b[0m\n\u001b[0m\u001b[1;32m     31\u001b[0m \u001b[0;34m\u001b[0m\u001b[0m\n\u001b[1;32m     32\u001b[0m \u001b[0;31m# Try different batch sizes\u001b[0m\u001b[0;34m\u001b[0m\u001b[0;34m\u001b[0m\u001b[0m\n",
            "\u001b[0;31mAttributeError\u001b[0m: 'Trainer' object has no attribute 'train_iter_sec'"
          ]
        },
        {
          "output_type": "display_data",
          "data": {
            "text/plain": [
              "<Figure size 350x250 with 1 Axes>"
            ],
            "image/svg+xml": "<?xml version=\"1.0\" encoding=\"utf-8\" standalone=\"no\"?>\n<!DOCTYPE svg PUBLIC \"-//W3C//DTD SVG 1.1//EN\"\n  \"http://www.w3.org/Graphics/SVG/1.1/DTD/svg11.dtd\">\n<svg xmlns:xlink=\"http://www.w3.org/1999/xlink\" width=\"246.917188pt\" height=\"183.35625pt\" viewBox=\"0 0 246.917188 183.35625\" xmlns=\"http://www.w3.org/2000/svg\" version=\"1.1\">\n <metadata>\n  <rdf:RDF xmlns:dc=\"http://purl.org/dc/elements/1.1/\" xmlns:cc=\"http://creativecommons.org/ns#\" xmlns:rdf=\"http://www.w3.org/1999/02/22-rdf-syntax-ns#\">\n   <cc:Work>\n    <dc:type rdf:resource=\"http://purl.org/dc/dcmitype/StillImage\"/>\n    <dc:date>2024-10-04T15:36:54.913038</dc:date>\n    <dc:format>image/svg+xml</dc:format>\n    <dc:creator>\n     <cc:Agent>\n      <dc:title>Matplotlib v3.7.2, https://matplotlib.org/</dc:title>\n     </cc:Agent>\n    </dc:creator>\n   </cc:Work>\n  </rdf:RDF>\n </metadata>\n <defs>\n  <style type=\"text/css\">*{stroke-linejoin: round; stroke-linecap: butt}</style>\n </defs>\n <g id=\"figure_1\">\n  <g id=\"patch_1\">\n   <path d=\"M 0 183.35625 \nL 246.917188 183.35625 \nL 246.917188 0 \nL 0 0 \nz\n\" style=\"fill: #ffffff\"/>\n  </g>\n  <g id=\"axes_1\">\n   <g id=\"patch_2\">\n    <path d=\"M 36.465625 145.8 \nL 231.765625 145.8 \nL 231.765625 7.2 \nL 36.465625 7.2 \nz\n\" style=\"fill: #ffffff\"/>\n   </g>\n   <g id=\"matplotlib.axis_1\">\n    <g id=\"xtick_1\">\n     <g id=\"line2d_1\">\n      <defs>\n       <path id=\"m5f64f81a79\" d=\"M 0 0 \nL 0 3.5 \n\" style=\"stroke: #000000; stroke-width: 0.8\"/>\n      </defs>\n      <g>\n       <use xlink:href=\"#m5f64f81a79\" x=\"36.465625\" y=\"145.8\" style=\"stroke: #000000; stroke-width: 0.8\"/>\n      </g>\n     </g>\n     <g id=\"text_1\">\n      <!-- 0.0 -->\n      <g transform=\"translate(28.514063 160.398438) scale(0.1 -0.1)\">\n       <defs>\n        <path id=\"DejaVuSans-30\" d=\"M 2034 4250 \nQ 1547 4250 1301 3770 \nQ 1056 3291 1056 2328 \nQ 1056 1369 1301 889 \nQ 1547 409 2034 409 \nQ 2525 409 2770 889 \nQ 3016 1369 3016 2328 \nQ 3016 3291 2770 3770 \nQ 2525 4250 2034 4250 \nz\nM 2034 4750 \nQ 2819 4750 3233 4129 \nQ 3647 3509 3647 2328 \nQ 3647 1150 3233 529 \nQ 2819 -91 2034 -91 \nQ 1250 -91 836 529 \nQ 422 1150 422 2328 \nQ 422 3509 836 4129 \nQ 1250 4750 2034 4750 \nz\n\" transform=\"scale(0.015625)\"/>\n        <path id=\"DejaVuSans-2e\" d=\"M 684 794 \nL 1344 794 \nL 1344 0 \nL 684 0 \nL 684 794 \nz\n\" transform=\"scale(0.015625)\"/>\n       </defs>\n       <use xlink:href=\"#DejaVuSans-30\"/>\n       <use xlink:href=\"#DejaVuSans-2e\" x=\"63.623047\"/>\n       <use xlink:href=\"#DejaVuSans-30\" x=\"95.410156\"/>\n      </g>\n     </g>\n    </g>\n    <g id=\"xtick_2\">\n     <g id=\"line2d_2\">\n      <g>\n       <use xlink:href=\"#m5f64f81a79\" x=\"75.525625\" y=\"145.8\" style=\"stroke: #000000; stroke-width: 0.8\"/>\n      </g>\n     </g>\n     <g id=\"text_2\">\n      <!-- 0.2 -->\n      <g transform=\"translate(67.574063 160.398438) scale(0.1 -0.1)\">\n       <defs>\n        <path id=\"DejaVuSans-32\" d=\"M 1228 531 \nL 3431 531 \nL 3431 0 \nL 469 0 \nL 469 531 \nQ 828 903 1448 1529 \nQ 2069 2156 2228 2338 \nQ 2531 2678 2651 2914 \nQ 2772 3150 2772 3378 \nQ 2772 3750 2511 3984 \nQ 2250 4219 1831 4219 \nQ 1534 4219 1204 4116 \nQ 875 4013 500 3803 \nL 500 4441 \nQ 881 4594 1212 4672 \nQ 1544 4750 1819 4750 \nQ 2544 4750 2975 4387 \nQ 3406 4025 3406 3419 \nQ 3406 3131 3298 2873 \nQ 3191 2616 2906 2266 \nQ 2828 2175 2409 1742 \nQ 1991 1309 1228 531 \nz\n\" transform=\"scale(0.015625)\"/>\n       </defs>\n       <use xlink:href=\"#DejaVuSans-30\"/>\n       <use xlink:href=\"#DejaVuSans-2e\" x=\"63.623047\"/>\n       <use xlink:href=\"#DejaVuSans-32\" x=\"95.410156\"/>\n      </g>\n     </g>\n    </g>\n    <g id=\"xtick_3\">\n     <g id=\"line2d_3\">\n      <g>\n       <use xlink:href=\"#m5f64f81a79\" x=\"114.585625\" y=\"145.8\" style=\"stroke: #000000; stroke-width: 0.8\"/>\n      </g>\n     </g>\n     <g id=\"text_3\">\n      <!-- 0.4 -->\n      <g transform=\"translate(106.634063 160.398438) scale(0.1 -0.1)\">\n       <defs>\n        <path id=\"DejaVuSans-34\" d=\"M 2419 4116 \nL 825 1625 \nL 2419 1625 \nL 2419 4116 \nz\nM 2253 4666 \nL 3047 4666 \nL 3047 1625 \nL 3713 1625 \nL 3713 1100 \nL 3047 1100 \nL 3047 0 \nL 2419 0 \nL 2419 1100 \nL 313 1100 \nL 313 1709 \nL 2253 4666 \nz\n\" transform=\"scale(0.015625)\"/>\n       </defs>\n       <use xlink:href=\"#DejaVuSans-30\"/>\n       <use xlink:href=\"#DejaVuSans-2e\" x=\"63.623047\"/>\n       <use xlink:href=\"#DejaVuSans-34\" x=\"95.410156\"/>\n      </g>\n     </g>\n    </g>\n    <g id=\"xtick_4\">\n     <g id=\"line2d_4\">\n      <g>\n       <use xlink:href=\"#m5f64f81a79\" x=\"153.645625\" y=\"145.8\" style=\"stroke: #000000; stroke-width: 0.8\"/>\n      </g>\n     </g>\n     <g id=\"text_4\">\n      <!-- 0.6 -->\n      <g transform=\"translate(145.694063 160.398438) scale(0.1 -0.1)\">\n       <defs>\n        <path id=\"DejaVuSans-36\" d=\"M 2113 2584 \nQ 1688 2584 1439 2293 \nQ 1191 2003 1191 1497 \nQ 1191 994 1439 701 \nQ 1688 409 2113 409 \nQ 2538 409 2786 701 \nQ 3034 994 3034 1497 \nQ 3034 2003 2786 2293 \nQ 2538 2584 2113 2584 \nz\nM 3366 4563 \nL 3366 3988 \nQ 3128 4100 2886 4159 \nQ 2644 4219 2406 4219 \nQ 1781 4219 1451 3797 \nQ 1122 3375 1075 2522 \nQ 1259 2794 1537 2939 \nQ 1816 3084 2150 3084 \nQ 2853 3084 3261 2657 \nQ 3669 2231 3669 1497 \nQ 3669 778 3244 343 \nQ 2819 -91 2113 -91 \nQ 1303 -91 875 529 \nQ 447 1150 447 2328 \nQ 447 3434 972 4092 \nQ 1497 4750 2381 4750 \nQ 2619 4750 2861 4703 \nQ 3103 4656 3366 4563 \nz\n\" transform=\"scale(0.015625)\"/>\n       </defs>\n       <use xlink:href=\"#DejaVuSans-30\"/>\n       <use xlink:href=\"#DejaVuSans-2e\" x=\"63.623047\"/>\n       <use xlink:href=\"#DejaVuSans-36\" x=\"95.410156\"/>\n      </g>\n     </g>\n    </g>\n    <g id=\"xtick_5\">\n     <g id=\"line2d_5\">\n      <g>\n       <use xlink:href=\"#m5f64f81a79\" x=\"192.705625\" y=\"145.8\" style=\"stroke: #000000; stroke-width: 0.8\"/>\n      </g>\n     </g>\n     <g id=\"text_5\">\n      <!-- 0.8 -->\n      <g transform=\"translate(184.754063 160.398438) scale(0.1 -0.1)\">\n       <defs>\n        <path id=\"DejaVuSans-38\" d=\"M 2034 2216 \nQ 1584 2216 1326 1975 \nQ 1069 1734 1069 1313 \nQ 1069 891 1326 650 \nQ 1584 409 2034 409 \nQ 2484 409 2743 651 \nQ 3003 894 3003 1313 \nQ 3003 1734 2745 1975 \nQ 2488 2216 2034 2216 \nz\nM 1403 2484 \nQ 997 2584 770 2862 \nQ 544 3141 544 3541 \nQ 544 4100 942 4425 \nQ 1341 4750 2034 4750 \nQ 2731 4750 3128 4425 \nQ 3525 4100 3525 3541 \nQ 3525 3141 3298 2862 \nQ 3072 2584 2669 2484 \nQ 3125 2378 3379 2068 \nQ 3634 1759 3634 1313 \nQ 3634 634 3220 271 \nQ 2806 -91 2034 -91 \nQ 1263 -91 848 271 \nQ 434 634 434 1313 \nQ 434 1759 690 2068 \nQ 947 2378 1403 2484 \nz\nM 1172 3481 \nQ 1172 3119 1398 2916 \nQ 1625 2713 2034 2713 \nQ 2441 2713 2670 2916 \nQ 2900 3119 2900 3481 \nQ 2900 3844 2670 4047 \nQ 2441 4250 2034 4250 \nQ 1625 4250 1398 4047 \nQ 1172 3844 1172 3481 \nz\n\" transform=\"scale(0.015625)\"/>\n       </defs>\n       <use xlink:href=\"#DejaVuSans-30\"/>\n       <use xlink:href=\"#DejaVuSans-2e\" x=\"63.623047\"/>\n       <use xlink:href=\"#DejaVuSans-38\" x=\"95.410156\"/>\n      </g>\n     </g>\n    </g>\n    <g id=\"xtick_6\">\n     <g id=\"line2d_6\">\n      <g>\n       <use xlink:href=\"#m5f64f81a79\" x=\"231.765625\" y=\"145.8\" style=\"stroke: #000000; stroke-width: 0.8\"/>\n      </g>\n     </g>\n     <g id=\"text_6\">\n      <!-- 1.0 -->\n      <g transform=\"translate(223.814063 160.398438) scale(0.1 -0.1)\">\n       <defs>\n        <path id=\"DejaVuSans-31\" d=\"M 794 531 \nL 1825 531 \nL 1825 4091 \nL 703 3866 \nL 703 4441 \nL 1819 4666 \nL 2450 4666 \nL 2450 531 \nL 3481 531 \nL 3481 0 \nL 794 0 \nL 794 531 \nz\n\" transform=\"scale(0.015625)\"/>\n       </defs>\n       <use xlink:href=\"#DejaVuSans-31\"/>\n       <use xlink:href=\"#DejaVuSans-2e\" x=\"63.623047\"/>\n       <use xlink:href=\"#DejaVuSans-30\" x=\"95.410156\"/>\n      </g>\n     </g>\n    </g>\n    <g id=\"text_7\">\n     <!-- epoch -->\n     <g transform=\"translate(118.8875 174.076563) scale(0.1 -0.1)\">\n      <defs>\n       <path id=\"DejaVuSans-65\" d=\"M 3597 1894 \nL 3597 1613 \nL 953 1613 \nQ 991 1019 1311 708 \nQ 1631 397 2203 397 \nQ 2534 397 2845 478 \nQ 3156 559 3463 722 \nL 3463 178 \nQ 3153 47 2828 -22 \nQ 2503 -91 2169 -91 \nQ 1331 -91 842 396 \nQ 353 884 353 1716 \nQ 353 2575 817 3079 \nQ 1281 3584 2069 3584 \nQ 2775 3584 3186 3129 \nQ 3597 2675 3597 1894 \nz\nM 3022 2063 \nQ 3016 2534 2758 2815 \nQ 2500 3097 2075 3097 \nQ 1594 3097 1305 2825 \nQ 1016 2553 972 2059 \nL 3022 2063 \nz\n\" transform=\"scale(0.015625)\"/>\n       <path id=\"DejaVuSans-70\" d=\"M 1159 525 \nL 1159 -1331 \nL 581 -1331 \nL 581 3500 \nL 1159 3500 \nL 1159 2969 \nQ 1341 3281 1617 3432 \nQ 1894 3584 2278 3584 \nQ 2916 3584 3314 3078 \nQ 3713 2572 3713 1747 \nQ 3713 922 3314 415 \nQ 2916 -91 2278 -91 \nQ 1894 -91 1617 61 \nQ 1341 213 1159 525 \nz\nM 3116 1747 \nQ 3116 2381 2855 2742 \nQ 2594 3103 2138 3103 \nQ 1681 3103 1420 2742 \nQ 1159 2381 1159 1747 \nQ 1159 1113 1420 752 \nQ 1681 391 2138 391 \nQ 2594 391 2855 752 \nQ 3116 1113 3116 1747 \nz\n\" transform=\"scale(0.015625)\"/>\n       <path id=\"DejaVuSans-6f\" d=\"M 1959 3097 \nQ 1497 3097 1228 2736 \nQ 959 2375 959 1747 \nQ 959 1119 1226 758 \nQ 1494 397 1959 397 \nQ 2419 397 2687 759 \nQ 2956 1122 2956 1747 \nQ 2956 2369 2687 2733 \nQ 2419 3097 1959 3097 \nz\nM 1959 3584 \nQ 2709 3584 3137 3096 \nQ 3566 2609 3566 1747 \nQ 3566 888 3137 398 \nQ 2709 -91 1959 -91 \nQ 1206 -91 779 398 \nQ 353 888 353 1747 \nQ 353 2609 779 3096 \nQ 1206 3584 1959 3584 \nz\n\" transform=\"scale(0.015625)\"/>\n       <path id=\"DejaVuSans-63\" d=\"M 3122 3366 \nL 3122 2828 \nQ 2878 2963 2633 3030 \nQ 2388 3097 2138 3097 \nQ 1578 3097 1268 2742 \nQ 959 2388 959 1747 \nQ 959 1106 1268 751 \nQ 1578 397 2138 397 \nQ 2388 397 2633 464 \nQ 2878 531 3122 666 \nL 3122 134 \nQ 2881 22 2623 -34 \nQ 2366 -91 2075 -91 \nQ 1284 -91 818 406 \nQ 353 903 353 1747 \nQ 353 2603 823 3093 \nQ 1294 3584 2113 3584 \nQ 2378 3584 2631 3529 \nQ 2884 3475 3122 3366 \nz\n\" transform=\"scale(0.015625)\"/>\n       <path id=\"DejaVuSans-68\" d=\"M 3513 2113 \nL 3513 0 \nL 2938 0 \nL 2938 2094 \nQ 2938 2591 2744 2837 \nQ 2550 3084 2163 3084 \nQ 1697 3084 1428 2787 \nQ 1159 2491 1159 1978 \nL 1159 0 \nL 581 0 \nL 581 4863 \nL 1159 4863 \nL 1159 2956 \nQ 1366 3272 1645 3428 \nQ 1925 3584 2291 3584 \nQ 2894 3584 3203 3211 \nQ 3513 2838 3513 2113 \nz\n\" transform=\"scale(0.015625)\"/>\n      </defs>\n      <use xlink:href=\"#DejaVuSans-65\"/>\n      <use xlink:href=\"#DejaVuSans-70\" x=\"61.523438\"/>\n      <use xlink:href=\"#DejaVuSans-6f\" x=\"125\"/>\n      <use xlink:href=\"#DejaVuSans-63\" x=\"186.181641\"/>\n      <use xlink:href=\"#DejaVuSans-68\" x=\"241.162109\"/>\n     </g>\n    </g>\n   </g>\n   <g id=\"matplotlib.axis_2\">\n    <g id=\"ytick_1\">\n     <g id=\"line2d_7\">\n      <defs>\n       <path id=\"mc12b0b8201\" d=\"M 0 0 \nL -3.5 0 \n\" style=\"stroke: #000000; stroke-width: 0.8\"/>\n      </defs>\n      <g>\n       <use xlink:href=\"#mc12b0b8201\" x=\"36.465625\" y=\"137.583849\" style=\"stroke: #000000; stroke-width: 0.8\"/>\n      </g>\n     </g>\n     <g id=\"text_8\">\n      <!-- 0.50 -->\n      <g transform=\"translate(7.2 141.383068) scale(0.1 -0.1)\">\n       <defs>\n        <path id=\"DejaVuSans-35\" d=\"M 691 4666 \nL 3169 4666 \nL 3169 4134 \nL 1269 4134 \nL 1269 2991 \nQ 1406 3038 1543 3061 \nQ 1681 3084 1819 3084 \nQ 2600 3084 3056 2656 \nQ 3513 2228 3513 1497 \nQ 3513 744 3044 326 \nQ 2575 -91 1722 -91 \nQ 1428 -91 1123 -41 \nQ 819 9 494 109 \nL 494 744 \nQ 775 591 1075 516 \nQ 1375 441 1709 441 \nQ 2250 441 2565 725 \nQ 2881 1009 2881 1497 \nQ 2881 1984 2565 2268 \nQ 2250 2553 1709 2553 \nQ 1456 2553 1204 2497 \nQ 953 2441 691 2322 \nL 691 4666 \nz\n\" transform=\"scale(0.015625)\"/>\n       </defs>\n       <use xlink:href=\"#DejaVuSans-30\"/>\n       <use xlink:href=\"#DejaVuSans-2e\" x=\"63.623047\"/>\n       <use xlink:href=\"#DejaVuSans-35\" x=\"95.410156\"/>\n       <use xlink:href=\"#DejaVuSans-30\" x=\"159.033203\"/>\n      </g>\n     </g>\n    </g>\n    <g id=\"ytick_2\">\n     <g id=\"line2d_8\">\n      <g>\n       <use xlink:href=\"#mc12b0b8201\" x=\"36.465625\" y=\"109.354553\" style=\"stroke: #000000; stroke-width: 0.8\"/>\n      </g>\n     </g>\n     <g id=\"text_9\">\n      <!-- 0.75 -->\n      <g transform=\"translate(7.2 113.153772) scale(0.1 -0.1)\">\n       <defs>\n        <path id=\"DejaVuSans-37\" d=\"M 525 4666 \nL 3525 4666 \nL 3525 4397 \nL 1831 0 \nL 1172 0 \nL 2766 4134 \nL 525 4134 \nL 525 4666 \nz\n\" transform=\"scale(0.015625)\"/>\n       </defs>\n       <use xlink:href=\"#DejaVuSans-30\"/>\n       <use xlink:href=\"#DejaVuSans-2e\" x=\"63.623047\"/>\n       <use xlink:href=\"#DejaVuSans-37\" x=\"95.410156\"/>\n       <use xlink:href=\"#DejaVuSans-35\" x=\"159.033203\"/>\n      </g>\n     </g>\n    </g>\n    <g id=\"ytick_3\">\n     <g id=\"line2d_9\">\n      <g>\n       <use xlink:href=\"#mc12b0b8201\" x=\"36.465625\" y=\"81.125258\" style=\"stroke: #000000; stroke-width: 0.8\"/>\n      </g>\n     </g>\n     <g id=\"text_10\">\n      <!-- 1.00 -->\n      <g transform=\"translate(7.2 84.924477) scale(0.1 -0.1)\">\n       <use xlink:href=\"#DejaVuSans-31\"/>\n       <use xlink:href=\"#DejaVuSans-2e\" x=\"63.623047\"/>\n       <use xlink:href=\"#DejaVuSans-30\" x=\"95.410156\"/>\n       <use xlink:href=\"#DejaVuSans-30\" x=\"159.033203\"/>\n      </g>\n     </g>\n    </g>\n    <g id=\"ytick_4\">\n     <g id=\"line2d_10\">\n      <g>\n       <use xlink:href=\"#mc12b0b8201\" x=\"36.465625\" y=\"52.895962\" style=\"stroke: #000000; stroke-width: 0.8\"/>\n      </g>\n     </g>\n     <g id=\"text_11\">\n      <!-- 1.25 -->\n      <g transform=\"translate(7.2 56.695181) scale(0.1 -0.1)\">\n       <use xlink:href=\"#DejaVuSans-31\"/>\n       <use xlink:href=\"#DejaVuSans-2e\" x=\"63.623047\"/>\n       <use xlink:href=\"#DejaVuSans-32\" x=\"95.410156\"/>\n       <use xlink:href=\"#DejaVuSans-35\" x=\"159.033203\"/>\n      </g>\n     </g>\n    </g>\n    <g id=\"ytick_5\">\n     <g id=\"line2d_11\">\n      <g>\n       <use xlink:href=\"#mc12b0b8201\" x=\"36.465625\" y=\"24.666667\" style=\"stroke: #000000; stroke-width: 0.8\"/>\n      </g>\n     </g>\n     <g id=\"text_12\">\n      <!-- 1.50 -->\n      <g transform=\"translate(7.2 28.465886) scale(0.1 -0.1)\">\n       <use xlink:href=\"#DejaVuSans-31\"/>\n       <use xlink:href=\"#DejaVuSans-2e\" x=\"63.623047\"/>\n       <use xlink:href=\"#DejaVuSans-35\" x=\"95.410156\"/>\n       <use xlink:href=\"#DejaVuSans-30\" x=\"159.033203\"/>\n      </g>\n     </g>\n    </g>\n   </g>\n   <g id=\"line2d_12\">\n    <path d=\"M 85.264585 13.5 \n\" clip-path=\"url(#pb85e7e1aae)\" style=\"fill: none; stroke: #1f77b4; stroke-width: 1.5; stroke-linecap: square\"/>\n   </g>\n   <g id=\"line2d_13\">\n    <path d=\"M 85.264585 13.5 \nL 182.914585 129.021761 \n\" clip-path=\"url(#pb85e7e1aae)\" style=\"fill: none; stroke: #1f77b4; stroke-width: 1.5; stroke-linecap: square\"/>\n   </g>\n   <g id=\"line2d_14\">\n    <path d=\"M 85.264585 13.5 \nL 182.914585 129.021761 \n\" clip-path=\"url(#pb85e7e1aae)\" style=\"fill: none; stroke: #1f77b4; stroke-width: 1.5; stroke-linecap: square\"/>\n   </g>\n   <g id=\"line2d_15\">\n    <path d=\"M 231.765625 139.5 \n\" clip-path=\"url(#pb85e7e1aae)\" style=\"fill: none; stroke-dasharray: 5.55,2.4; stroke-dashoffset: 0; stroke: #ff7f0e; stroke-width: 1.5\"/>\n   </g>\n   <g id=\"line2d_16\"/>\n   <g id=\"line2d_17\">\n    <path d=\"M 85.264585 13.5 \nL 182.914585 129.021761 \n\" clip-path=\"url(#pb85e7e1aae)\" style=\"fill: none; stroke: #1f77b4; stroke-width: 1.5; stroke-linecap: square\"/>\n   </g>\n   <g id=\"line2d_18\">\n    <path d=\"M 231.765625 139.5 \n\" clip-path=\"url(#pb85e7e1aae)\" style=\"fill: none; stroke-dasharray: 5.55,2.4; stroke-dashoffset: 0; stroke: #ff7f0e; stroke-width: 1.5\"/>\n   </g>\n   <g id=\"line2d_19\">\n    <path d=\"M 231.765625 101.269683 \n\" clip-path=\"url(#pb85e7e1aae)\" style=\"fill: none; stroke-dasharray: 9.6,2.4,1.5,2.4; stroke-dashoffset: 0; stroke: #2ca02c; stroke-width: 1.5\"/>\n   </g>\n   <g id=\"patch_3\">\n    <path d=\"M 36.465625 145.8 \nL 36.465625 7.2 \n\" style=\"fill: none; stroke: #000000; stroke-width: 0.8; stroke-linejoin: miter; stroke-linecap: square\"/>\n   </g>\n   <g id=\"patch_4\">\n    <path d=\"M 231.765625 145.8 \nL 231.765625 7.2 \n\" style=\"fill: none; stroke: #000000; stroke-width: 0.8; stroke-linejoin: miter; stroke-linecap: square\"/>\n   </g>\n   <g id=\"patch_5\">\n    <path d=\"M 36.465625 145.8 \nL 231.765625 145.8 \n\" style=\"fill: none; stroke: #000000; stroke-width: 0.8; stroke-linejoin: miter; stroke-linecap: square\"/>\n   </g>\n   <g id=\"patch_6\">\n    <path d=\"M 36.465625 7.2 \nL 231.765625 7.2 \n\" style=\"fill: none; stroke: #000000; stroke-width: 0.8; stroke-linejoin: miter; stroke-linecap: square\"/>\n   </g>\n   <g id=\"legend_1\">\n    <g id=\"patch_7\">\n     <path d=\"M 145.175 60.06875 \nL 224.765625 60.06875 \nQ 226.765625 60.06875 226.765625 58.06875 \nL 226.765625 14.2 \nQ 226.765625 12.2 224.765625 12.2 \nL 145.175 12.2 \nQ 143.175 12.2 143.175 14.2 \nL 143.175 58.06875 \nQ 143.175 60.06875 145.175 60.06875 \nz\n\" style=\"fill: #ffffff; opacity: 0.8; stroke: #cccccc; stroke-linejoin: miter\"/>\n    </g>\n    <g id=\"line2d_20\">\n     <path d=\"M 147.175 20.298438 \nL 157.175 20.298438 \nL 167.175 20.298438 \n\" style=\"fill: none; stroke: #1f77b4; stroke-width: 1.5; stroke-linecap: square\"/>\n    </g>\n    <g id=\"text_13\">\n     <!-- train_loss -->\n     <g transform=\"translate(175.175 23.798438) scale(0.1 -0.1)\">\n      <defs>\n       <path id=\"DejaVuSans-74\" d=\"M 1172 4494 \nL 1172 3500 \nL 2356 3500 \nL 2356 3053 \nL 1172 3053 \nL 1172 1153 \nQ 1172 725 1289 603 \nQ 1406 481 1766 481 \nL 2356 481 \nL 2356 0 \nL 1766 0 \nQ 1100 0 847 248 \nQ 594 497 594 1153 \nL 594 3053 \nL 172 3053 \nL 172 3500 \nL 594 3500 \nL 594 4494 \nL 1172 4494 \nz\n\" transform=\"scale(0.015625)\"/>\n       <path id=\"DejaVuSans-72\" d=\"M 2631 2963 \nQ 2534 3019 2420 3045 \nQ 2306 3072 2169 3072 \nQ 1681 3072 1420 2755 \nQ 1159 2438 1159 1844 \nL 1159 0 \nL 581 0 \nL 581 3500 \nL 1159 3500 \nL 1159 2956 \nQ 1341 3275 1631 3429 \nQ 1922 3584 2338 3584 \nQ 2397 3584 2469 3576 \nQ 2541 3569 2628 3553 \nL 2631 2963 \nz\n\" transform=\"scale(0.015625)\"/>\n       <path id=\"DejaVuSans-61\" d=\"M 2194 1759 \nQ 1497 1759 1228 1600 \nQ 959 1441 959 1056 \nQ 959 750 1161 570 \nQ 1363 391 1709 391 \nQ 2188 391 2477 730 \nQ 2766 1069 2766 1631 \nL 2766 1759 \nL 2194 1759 \nz\nM 3341 1997 \nL 3341 0 \nL 2766 0 \nL 2766 531 \nQ 2569 213 2275 61 \nQ 1981 -91 1556 -91 \nQ 1019 -91 701 211 \nQ 384 513 384 1019 \nQ 384 1609 779 1909 \nQ 1175 2209 1959 2209 \nL 2766 2209 \nL 2766 2266 \nQ 2766 2663 2505 2880 \nQ 2244 3097 1772 3097 \nQ 1472 3097 1187 3025 \nQ 903 2953 641 2809 \nL 641 3341 \nQ 956 3463 1253 3523 \nQ 1550 3584 1831 3584 \nQ 2591 3584 2966 3190 \nQ 3341 2797 3341 1997 \nz\n\" transform=\"scale(0.015625)\"/>\n       <path id=\"DejaVuSans-69\" d=\"M 603 3500 \nL 1178 3500 \nL 1178 0 \nL 603 0 \nL 603 3500 \nz\nM 603 4863 \nL 1178 4863 \nL 1178 4134 \nL 603 4134 \nL 603 4863 \nz\n\" transform=\"scale(0.015625)\"/>\n       <path id=\"DejaVuSans-6e\" d=\"M 3513 2113 \nL 3513 0 \nL 2938 0 \nL 2938 2094 \nQ 2938 2591 2744 2837 \nQ 2550 3084 2163 3084 \nQ 1697 3084 1428 2787 \nQ 1159 2491 1159 1978 \nL 1159 0 \nL 581 0 \nL 581 3500 \nL 1159 3500 \nL 1159 2956 \nQ 1366 3272 1645 3428 \nQ 1925 3584 2291 3584 \nQ 2894 3584 3203 3211 \nQ 3513 2838 3513 2113 \nz\n\" transform=\"scale(0.015625)\"/>\n       <path id=\"DejaVuSans-5f\" d=\"M 3263 -1063 \nL 3263 -1509 \nL -63 -1509 \nL -63 -1063 \nL 3263 -1063 \nz\n\" transform=\"scale(0.015625)\"/>\n       <path id=\"DejaVuSans-6c\" d=\"M 603 4863 \nL 1178 4863 \nL 1178 0 \nL 603 0 \nL 603 4863 \nz\n\" transform=\"scale(0.015625)\"/>\n       <path id=\"DejaVuSans-73\" d=\"M 2834 3397 \nL 2834 2853 \nQ 2591 2978 2328 3040 \nQ 2066 3103 1784 3103 \nQ 1356 3103 1142 2972 \nQ 928 2841 928 2578 \nQ 928 2378 1081 2264 \nQ 1234 2150 1697 2047 \nL 1894 2003 \nQ 2506 1872 2764 1633 \nQ 3022 1394 3022 966 \nQ 3022 478 2636 193 \nQ 2250 -91 1575 -91 \nQ 1294 -91 989 -36 \nQ 684 19 347 128 \nL 347 722 \nQ 666 556 975 473 \nQ 1284 391 1588 391 \nQ 1994 391 2212 530 \nQ 2431 669 2431 922 \nQ 2431 1156 2273 1281 \nQ 2116 1406 1581 1522 \nL 1381 1569 \nQ 847 1681 609 1914 \nQ 372 2147 372 2553 \nQ 372 3047 722 3315 \nQ 1072 3584 1716 3584 \nQ 2034 3584 2315 3537 \nQ 2597 3491 2834 3397 \nz\n\" transform=\"scale(0.015625)\"/>\n      </defs>\n      <use xlink:href=\"#DejaVuSans-74\"/>\n      <use xlink:href=\"#DejaVuSans-72\" x=\"39.208984\"/>\n      <use xlink:href=\"#DejaVuSans-61\" x=\"80.322266\"/>\n      <use xlink:href=\"#DejaVuSans-69\" x=\"141.601562\"/>\n      <use xlink:href=\"#DejaVuSans-6e\" x=\"169.384766\"/>\n      <use xlink:href=\"#DejaVuSans-5f\" x=\"232.763672\"/>\n      <use xlink:href=\"#DejaVuSans-6c\" x=\"282.763672\"/>\n      <use xlink:href=\"#DejaVuSans-6f\" x=\"310.546875\"/>\n      <use xlink:href=\"#DejaVuSans-73\" x=\"371.728516\"/>\n      <use xlink:href=\"#DejaVuSans-73\" x=\"423.828125\"/>\n     </g>\n    </g>\n    <g id=\"line2d_21\">\n     <path d=\"M 147.175 35.254688 \nL 157.175 35.254688 \nL 167.175 35.254688 \n\" style=\"fill: none; stroke-dasharray: 5.55,2.4; stroke-dashoffset: 0; stroke: #ff7f0e; stroke-width: 1.5\"/>\n    </g>\n    <g id=\"text_14\">\n     <!-- val_loss -->\n     <g transform=\"translate(175.175 38.754688) scale(0.1 -0.1)\">\n      <defs>\n       <path id=\"DejaVuSans-76\" d=\"M 191 3500 \nL 800 3500 \nL 1894 563 \nL 2988 3500 \nL 3597 3500 \nL 2284 0 \nL 1503 0 \nL 191 3500 \nz\n\" transform=\"scale(0.015625)\"/>\n      </defs>\n      <use xlink:href=\"#DejaVuSans-76\"/>\n      <use xlink:href=\"#DejaVuSans-61\" x=\"59.179688\"/>\n      <use xlink:href=\"#DejaVuSans-6c\" x=\"120.458984\"/>\n      <use xlink:href=\"#DejaVuSans-5f\" x=\"148.242188\"/>\n      <use xlink:href=\"#DejaVuSans-6c\" x=\"198.242188\"/>\n      <use xlink:href=\"#DejaVuSans-6f\" x=\"226.025391\"/>\n      <use xlink:href=\"#DejaVuSans-73\" x=\"287.207031\"/>\n      <use xlink:href=\"#DejaVuSans-73\" x=\"339.306641\"/>\n     </g>\n    </g>\n    <g id=\"line2d_22\">\n     <path d=\"M 147.175 50.210938 \nL 157.175 50.210938 \nL 167.175 50.210938 \n\" style=\"fill: none; stroke-dasharray: 9.6,2.4,1.5,2.4; stroke-dashoffset: 0; stroke: #2ca02c; stroke-width: 1.5\"/>\n    </g>\n    <g id=\"text_15\">\n     <!-- val_acc -->\n     <g transform=\"translate(175.175 53.710938) scale(0.1 -0.1)\">\n      <use xlink:href=\"#DejaVuSans-76\"/>\n      <use xlink:href=\"#DejaVuSans-61\" x=\"59.179688\"/>\n      <use xlink:href=\"#DejaVuSans-6c\" x=\"120.458984\"/>\n      <use xlink:href=\"#DejaVuSans-5f\" x=\"148.242188\"/>\n      <use xlink:href=\"#DejaVuSans-61\" x=\"198.242188\"/>\n      <use xlink:href=\"#DejaVuSans-63\" x=\"259.521484\"/>\n      <use xlink:href=\"#DejaVuSans-63\" x=\"314.501953\"/>\n     </g>\n    </g>\n   </g>\n  </g>\n </g>\n <defs>\n  <clipPath id=\"pb85e7e1aae\">\n   <rect x=\"36.465625\" y=\"7.2\" width=\"195.3\" height=\"138.6\"/>\n  </clipPath>\n </defs>\n</svg>\n"
          },
          "metadata": {}
        }
      ]
    },
    {
      "cell_type": "markdown",
      "source": [
        "### 7. Apply dropout and ReLU to LeNet-5. Does it improve? Can you improve things further by preprocessing to take advantage of the invariances inherent in the images?"
      ],
      "metadata": {
        "id": "zIH0bJGhyxPc"
      }
    },
    {
      "cell_type": "code",
      "source": [
        "class LeNet(d2l.Classifier):\n",
        "    def __init__(self, lr=0.1, num_classes=10):\n",
        "        super().__init__()\n",
        "        self.save_hyperparameters()\n",
        "        self.net = nn.Sequential(nn.LazyConv2d(6, kernel_size=5, padding=2),\n",
        "                                 nn.ReLU(),\n",
        "                                 nn.MaxPool2d(kernel_size=2, stride=2),\n",
        "                                 nn.LazyConv2d(16, kernel_size=5),\n",
        "                                 nn.ReLU(),\n",
        "                                 nn.MaxPool2d(kernel_size=2, stride=2),\n",
        "                                 nn.Flatten(),\n",
        "                                 nn.LazyLinear(120),\n",
        "                                 nn.ReLU(), nn.Dropout(0.5),\n",
        "                                 nn.LazyLinear(84),\n",
        "                                 nn.ReLU(), nn.Dropout(0.5),\n",
        "                                 nn.LazyLinear(num_classes))\n",
        "model = LeNet(lr=0.01)\n",
        "data = d2l.FashionMNIST(batch_size=128, resize=(28, 28))\n",
        "trainer = d2l.Trainer(max_epochs=10, num_gpus=1)\n",
        "trainer.fit(model, data)\n",
        "X,y = next(iter(data.get_dataloader(False)))\n",
        "X = X.to('cuda')\n",
        "y = y.to('cuda')\n",
        "y_hat = model(X)\n",
        "print(f'acc: {model.accuracy(y_hat,y).item():.2f}')"
      ],
      "metadata": {
        "id": "3KDNkPRxy0j-",
        "colab": {
          "base_uri": "https://localhost:8080/",
          "height": 283
        },
        "outputId": "4d1a09f6-a06d-430e-d45c-1e3d2576245c"
      },
      "execution_count": 87,
      "outputs": [
        {
          "output_type": "stream",
          "name": "stdout",
          "text": [
            "acc: 0.78\n"
          ]
        },
        {
          "output_type": "display_data",
          "data": {
            "text/plain": [
              "<Figure size 350x250 with 1 Axes>"
            ],
            "image/svg+xml": "<?xml version=\"1.0\" encoding=\"utf-8\" standalone=\"no\"?>\n<!DOCTYPE svg PUBLIC \"-//W3C//DTD SVG 1.1//EN\"\n  \"http://www.w3.org/Graphics/SVG/1.1/DTD/svg11.dtd\">\n<svg xmlns:xlink=\"http://www.w3.org/1999/xlink\" width=\"238.965625pt\" height=\"183.35625pt\" viewBox=\"0 0 238.965625 183.35625\" xmlns=\"http://www.w3.org/2000/svg\" version=\"1.1\">\n <metadata>\n  <rdf:RDF xmlns:dc=\"http://purl.org/dc/elements/1.1/\" xmlns:cc=\"http://creativecommons.org/ns#\" xmlns:rdf=\"http://www.w3.org/1999/02/22-rdf-syntax-ns#\">\n   <cc:Work>\n    <dc:type rdf:resource=\"http://purl.org/dc/dcmitype/StillImage\"/>\n    <dc:date>2024-10-04T15:39:02.217569</dc:date>\n    <dc:format>image/svg+xml</dc:format>\n    <dc:creator>\n     <cc:Agent>\n      <dc:title>Matplotlib v3.7.2, https://matplotlib.org/</dc:title>\n     </cc:Agent>\n    </dc:creator>\n   </cc:Work>\n  </rdf:RDF>\n </metadata>\n <defs>\n  <style type=\"text/css\">*{stroke-linejoin: round; stroke-linecap: butt}</style>\n </defs>\n <g id=\"figure_1\">\n  <g id=\"patch_1\">\n   <path d=\"M 0 183.35625 \nL 238.965625 183.35625 \nL 238.965625 0 \nL 0 0 \nz\n\" style=\"fill: #ffffff\"/>\n  </g>\n  <g id=\"axes_1\">\n   <g id=\"patch_2\">\n    <path d=\"M 30.103125 145.8 \nL 225.403125 145.8 \nL 225.403125 7.2 \nL 30.103125 7.2 \nz\n\" style=\"fill: #ffffff\"/>\n   </g>\n   <g id=\"matplotlib.axis_1\">\n    <g id=\"xtick_1\">\n     <g id=\"line2d_1\">\n      <defs>\n       <path id=\"m236d3ba091\" d=\"M 0 0 \nL 0 3.5 \n\" style=\"stroke: #000000; stroke-width: 0.8\"/>\n      </defs>\n      <g>\n       <use xlink:href=\"#m236d3ba091\" x=\"30.103125\" y=\"145.8\" style=\"stroke: #000000; stroke-width: 0.8\"/>\n      </g>\n     </g>\n     <g id=\"text_1\">\n      <!-- 0 -->\n      <g transform=\"translate(26.921875 160.398438) scale(0.1 -0.1)\">\n       <defs>\n        <path id=\"DejaVuSans-30\" d=\"M 2034 4250 \nQ 1547 4250 1301 3770 \nQ 1056 3291 1056 2328 \nQ 1056 1369 1301 889 \nQ 1547 409 2034 409 \nQ 2525 409 2770 889 \nQ 3016 1369 3016 2328 \nQ 3016 3291 2770 3770 \nQ 2525 4250 2034 4250 \nz\nM 2034 4750 \nQ 2819 4750 3233 4129 \nQ 3647 3509 3647 2328 \nQ 3647 1150 3233 529 \nQ 2819 -91 2034 -91 \nQ 1250 -91 836 529 \nQ 422 1150 422 2328 \nQ 422 3509 836 4129 \nQ 1250 4750 2034 4750 \nz\n\" transform=\"scale(0.015625)\"/>\n       </defs>\n       <use xlink:href=\"#DejaVuSans-30\"/>\n      </g>\n     </g>\n    </g>\n    <g id=\"xtick_2\">\n     <g id=\"line2d_2\">\n      <g>\n       <use xlink:href=\"#m236d3ba091\" x=\"69.163125\" y=\"145.8\" style=\"stroke: #000000; stroke-width: 0.8\"/>\n      </g>\n     </g>\n     <g id=\"text_2\">\n      <!-- 2 -->\n      <g transform=\"translate(65.981875 160.398438) scale(0.1 -0.1)\">\n       <defs>\n        <path id=\"DejaVuSans-32\" d=\"M 1228 531 \nL 3431 531 \nL 3431 0 \nL 469 0 \nL 469 531 \nQ 828 903 1448 1529 \nQ 2069 2156 2228 2338 \nQ 2531 2678 2651 2914 \nQ 2772 3150 2772 3378 \nQ 2772 3750 2511 3984 \nQ 2250 4219 1831 4219 \nQ 1534 4219 1204 4116 \nQ 875 4013 500 3803 \nL 500 4441 \nQ 881 4594 1212 4672 \nQ 1544 4750 1819 4750 \nQ 2544 4750 2975 4387 \nQ 3406 4025 3406 3419 \nQ 3406 3131 3298 2873 \nQ 3191 2616 2906 2266 \nQ 2828 2175 2409 1742 \nQ 1991 1309 1228 531 \nz\n\" transform=\"scale(0.015625)\"/>\n       </defs>\n       <use xlink:href=\"#DejaVuSans-32\"/>\n      </g>\n     </g>\n    </g>\n    <g id=\"xtick_3\">\n     <g id=\"line2d_3\">\n      <g>\n       <use xlink:href=\"#m236d3ba091\" x=\"108.223125\" y=\"145.8\" style=\"stroke: #000000; stroke-width: 0.8\"/>\n      </g>\n     </g>\n     <g id=\"text_3\">\n      <!-- 4 -->\n      <g transform=\"translate(105.041875 160.398438) scale(0.1 -0.1)\">\n       <defs>\n        <path id=\"DejaVuSans-34\" d=\"M 2419 4116 \nL 825 1625 \nL 2419 1625 \nL 2419 4116 \nz\nM 2253 4666 \nL 3047 4666 \nL 3047 1625 \nL 3713 1625 \nL 3713 1100 \nL 3047 1100 \nL 3047 0 \nL 2419 0 \nL 2419 1100 \nL 313 1100 \nL 313 1709 \nL 2253 4666 \nz\n\" transform=\"scale(0.015625)\"/>\n       </defs>\n       <use xlink:href=\"#DejaVuSans-34\"/>\n      </g>\n     </g>\n    </g>\n    <g id=\"xtick_4\">\n     <g id=\"line2d_4\">\n      <g>\n       <use xlink:href=\"#m236d3ba091\" x=\"147.283125\" y=\"145.8\" style=\"stroke: #000000; stroke-width: 0.8\"/>\n      </g>\n     </g>\n     <g id=\"text_4\">\n      <!-- 6 -->\n      <g transform=\"translate(144.101875 160.398438) scale(0.1 -0.1)\">\n       <defs>\n        <path id=\"DejaVuSans-36\" d=\"M 2113 2584 \nQ 1688 2584 1439 2293 \nQ 1191 2003 1191 1497 \nQ 1191 994 1439 701 \nQ 1688 409 2113 409 \nQ 2538 409 2786 701 \nQ 3034 994 3034 1497 \nQ 3034 2003 2786 2293 \nQ 2538 2584 2113 2584 \nz\nM 3366 4563 \nL 3366 3988 \nQ 3128 4100 2886 4159 \nQ 2644 4219 2406 4219 \nQ 1781 4219 1451 3797 \nQ 1122 3375 1075 2522 \nQ 1259 2794 1537 2939 \nQ 1816 3084 2150 3084 \nQ 2853 3084 3261 2657 \nQ 3669 2231 3669 1497 \nQ 3669 778 3244 343 \nQ 2819 -91 2113 -91 \nQ 1303 -91 875 529 \nQ 447 1150 447 2328 \nQ 447 3434 972 4092 \nQ 1497 4750 2381 4750 \nQ 2619 4750 2861 4703 \nQ 3103 4656 3366 4563 \nz\n\" transform=\"scale(0.015625)\"/>\n       </defs>\n       <use xlink:href=\"#DejaVuSans-36\"/>\n      </g>\n     </g>\n    </g>\n    <g id=\"xtick_5\">\n     <g id=\"line2d_5\">\n      <g>\n       <use xlink:href=\"#m236d3ba091\" x=\"186.343125\" y=\"145.8\" style=\"stroke: #000000; stroke-width: 0.8\"/>\n      </g>\n     </g>\n     <g id=\"text_5\">\n      <!-- 8 -->\n      <g transform=\"translate(183.161875 160.398438) scale(0.1 -0.1)\">\n       <defs>\n        <path id=\"DejaVuSans-38\" d=\"M 2034 2216 \nQ 1584 2216 1326 1975 \nQ 1069 1734 1069 1313 \nQ 1069 891 1326 650 \nQ 1584 409 2034 409 \nQ 2484 409 2743 651 \nQ 3003 894 3003 1313 \nQ 3003 1734 2745 1975 \nQ 2488 2216 2034 2216 \nz\nM 1403 2484 \nQ 997 2584 770 2862 \nQ 544 3141 544 3541 \nQ 544 4100 942 4425 \nQ 1341 4750 2034 4750 \nQ 2731 4750 3128 4425 \nQ 3525 4100 3525 3541 \nQ 3525 3141 3298 2862 \nQ 3072 2584 2669 2484 \nQ 3125 2378 3379 2068 \nQ 3634 1759 3634 1313 \nQ 3634 634 3220 271 \nQ 2806 -91 2034 -91 \nQ 1263 -91 848 271 \nQ 434 634 434 1313 \nQ 434 1759 690 2068 \nQ 947 2378 1403 2484 \nz\nM 1172 3481 \nQ 1172 3119 1398 2916 \nQ 1625 2713 2034 2713 \nQ 2441 2713 2670 2916 \nQ 2900 3119 2900 3481 \nQ 2900 3844 2670 4047 \nQ 2441 4250 2034 4250 \nQ 1625 4250 1398 4047 \nQ 1172 3844 1172 3481 \nz\n\" transform=\"scale(0.015625)\"/>\n       </defs>\n       <use xlink:href=\"#DejaVuSans-38\"/>\n      </g>\n     </g>\n    </g>\n    <g id=\"xtick_6\">\n     <g id=\"line2d_6\">\n      <g>\n       <use xlink:href=\"#m236d3ba091\" x=\"225.403125\" y=\"145.8\" style=\"stroke: #000000; stroke-width: 0.8\"/>\n      </g>\n     </g>\n     <g id=\"text_6\">\n      <!-- 10 -->\n      <g transform=\"translate(219.040625 160.398438) scale(0.1 -0.1)\">\n       <defs>\n        <path id=\"DejaVuSans-31\" d=\"M 794 531 \nL 1825 531 \nL 1825 4091 \nL 703 3866 \nL 703 4441 \nL 1819 4666 \nL 2450 4666 \nL 2450 531 \nL 3481 531 \nL 3481 0 \nL 794 0 \nL 794 531 \nz\n\" transform=\"scale(0.015625)\"/>\n       </defs>\n       <use xlink:href=\"#DejaVuSans-31\"/>\n       <use xlink:href=\"#DejaVuSans-30\" x=\"63.623047\"/>\n      </g>\n     </g>\n    </g>\n    <g id=\"text_7\">\n     <!-- epoch -->\n     <g transform=\"translate(112.525 174.076563) scale(0.1 -0.1)\">\n      <defs>\n       <path id=\"DejaVuSans-65\" d=\"M 3597 1894 \nL 3597 1613 \nL 953 1613 \nQ 991 1019 1311 708 \nQ 1631 397 2203 397 \nQ 2534 397 2845 478 \nQ 3156 559 3463 722 \nL 3463 178 \nQ 3153 47 2828 -22 \nQ 2503 -91 2169 -91 \nQ 1331 -91 842 396 \nQ 353 884 353 1716 \nQ 353 2575 817 3079 \nQ 1281 3584 2069 3584 \nQ 2775 3584 3186 3129 \nQ 3597 2675 3597 1894 \nz\nM 3022 2063 \nQ 3016 2534 2758 2815 \nQ 2500 3097 2075 3097 \nQ 1594 3097 1305 2825 \nQ 1016 2553 972 2059 \nL 3022 2063 \nz\n\" transform=\"scale(0.015625)\"/>\n       <path id=\"DejaVuSans-70\" d=\"M 1159 525 \nL 1159 -1331 \nL 581 -1331 \nL 581 3500 \nL 1159 3500 \nL 1159 2969 \nQ 1341 3281 1617 3432 \nQ 1894 3584 2278 3584 \nQ 2916 3584 3314 3078 \nQ 3713 2572 3713 1747 \nQ 3713 922 3314 415 \nQ 2916 -91 2278 -91 \nQ 1894 -91 1617 61 \nQ 1341 213 1159 525 \nz\nM 3116 1747 \nQ 3116 2381 2855 2742 \nQ 2594 3103 2138 3103 \nQ 1681 3103 1420 2742 \nQ 1159 2381 1159 1747 \nQ 1159 1113 1420 752 \nQ 1681 391 2138 391 \nQ 2594 391 2855 752 \nQ 3116 1113 3116 1747 \nz\n\" transform=\"scale(0.015625)\"/>\n       <path id=\"DejaVuSans-6f\" d=\"M 1959 3097 \nQ 1497 3097 1228 2736 \nQ 959 2375 959 1747 \nQ 959 1119 1226 758 \nQ 1494 397 1959 397 \nQ 2419 397 2687 759 \nQ 2956 1122 2956 1747 \nQ 2956 2369 2687 2733 \nQ 2419 3097 1959 3097 \nz\nM 1959 3584 \nQ 2709 3584 3137 3096 \nQ 3566 2609 3566 1747 \nQ 3566 888 3137 398 \nQ 2709 -91 1959 -91 \nQ 1206 -91 779 398 \nQ 353 888 353 1747 \nQ 353 2609 779 3096 \nQ 1206 3584 1959 3584 \nz\n\" transform=\"scale(0.015625)\"/>\n       <path id=\"DejaVuSans-63\" d=\"M 3122 3366 \nL 3122 2828 \nQ 2878 2963 2633 3030 \nQ 2388 3097 2138 3097 \nQ 1578 3097 1268 2742 \nQ 959 2388 959 1747 \nQ 959 1106 1268 751 \nQ 1578 397 2138 397 \nQ 2388 397 2633 464 \nQ 2878 531 3122 666 \nL 3122 134 \nQ 2881 22 2623 -34 \nQ 2366 -91 2075 -91 \nQ 1284 -91 818 406 \nQ 353 903 353 1747 \nQ 353 2603 823 3093 \nQ 1294 3584 2113 3584 \nQ 2378 3584 2631 3529 \nQ 2884 3475 3122 3366 \nz\n\" transform=\"scale(0.015625)\"/>\n       <path id=\"DejaVuSans-68\" d=\"M 3513 2113 \nL 3513 0 \nL 2938 0 \nL 2938 2094 \nQ 2938 2591 2744 2837 \nQ 2550 3084 2163 3084 \nQ 1697 3084 1428 2787 \nQ 1159 2491 1159 1978 \nL 1159 0 \nL 581 0 \nL 581 4863 \nL 1159 4863 \nL 1159 2956 \nQ 1366 3272 1645 3428 \nQ 1925 3584 2291 3584 \nQ 2894 3584 3203 3211 \nQ 3513 2838 3513 2113 \nz\n\" transform=\"scale(0.015625)\"/>\n      </defs>\n      <use xlink:href=\"#DejaVuSans-65\"/>\n      <use xlink:href=\"#DejaVuSans-70\" x=\"61.523438\"/>\n      <use xlink:href=\"#DejaVuSans-6f\" x=\"125\"/>\n      <use xlink:href=\"#DejaVuSans-63\" x=\"186.181641\"/>\n      <use xlink:href=\"#DejaVuSans-68\" x=\"241.162109\"/>\n     </g>\n    </g>\n   </g>\n   <g id=\"matplotlib.axis_2\">\n    <g id=\"ytick_1\">\n     <g id=\"line2d_7\">\n      <defs>\n       <path id=\"mfbe6a76e4a\" d=\"M 0 0 \nL -3.5 0 \n\" style=\"stroke: #000000; stroke-width: 0.8\"/>\n      </defs>\n      <g>\n       <use xlink:href=\"#mfbe6a76e4a\" x=\"30.103125\" y=\"122.909926\" style=\"stroke: #000000; stroke-width: 0.8\"/>\n      </g>\n     </g>\n     <g id=\"text_8\">\n      <!-- 0.5 -->\n      <g transform=\"translate(7.2 126.709145) scale(0.1 -0.1)\">\n       <defs>\n        <path id=\"DejaVuSans-2e\" d=\"M 684 794 \nL 1344 794 \nL 1344 0 \nL 684 0 \nL 684 794 \nz\n\" transform=\"scale(0.015625)\"/>\n        <path id=\"DejaVuSans-35\" d=\"M 691 4666 \nL 3169 4666 \nL 3169 4134 \nL 1269 4134 \nL 1269 2991 \nQ 1406 3038 1543 3061 \nQ 1681 3084 1819 3084 \nQ 2600 3084 3056 2656 \nQ 3513 2228 3513 1497 \nQ 3513 744 3044 326 \nQ 2575 -91 1722 -91 \nQ 1428 -91 1123 -41 \nQ 819 9 494 109 \nL 494 744 \nQ 775 591 1075 516 \nQ 1375 441 1709 441 \nQ 2250 441 2565 725 \nQ 2881 1009 2881 1497 \nQ 2881 1984 2565 2268 \nQ 2250 2553 1709 2553 \nQ 1456 2553 1204 2497 \nQ 953 2441 691 2322 \nL 691 4666 \nz\n\" transform=\"scale(0.015625)\"/>\n       </defs>\n       <use xlink:href=\"#DejaVuSans-30\"/>\n       <use xlink:href=\"#DejaVuSans-2e\" x=\"63.623047\"/>\n       <use xlink:href=\"#DejaVuSans-35\" x=\"95.410156\"/>\n      </g>\n     </g>\n    </g>\n    <g id=\"ytick_2\">\n     <g id=\"line2d_8\">\n      <g>\n       <use xlink:href=\"#mfbe6a76e4a\" x=\"30.103125\" y=\"92.540842\" style=\"stroke: #000000; stroke-width: 0.8\"/>\n      </g>\n     </g>\n     <g id=\"text_9\">\n      <!-- 1.0 -->\n      <g transform=\"translate(7.2 96.34006) scale(0.1 -0.1)\">\n       <use xlink:href=\"#DejaVuSans-31\"/>\n       <use xlink:href=\"#DejaVuSans-2e\" x=\"63.623047\"/>\n       <use xlink:href=\"#DejaVuSans-30\" x=\"95.410156\"/>\n      </g>\n     </g>\n    </g>\n    <g id=\"ytick_3\">\n     <g id=\"line2d_9\">\n      <g>\n       <use xlink:href=\"#mfbe6a76e4a\" x=\"30.103125\" y=\"62.171757\" style=\"stroke: #000000; stroke-width: 0.8\"/>\n      </g>\n     </g>\n     <g id=\"text_10\">\n      <!-- 1.5 -->\n      <g transform=\"translate(7.2 65.970976) scale(0.1 -0.1)\">\n       <use xlink:href=\"#DejaVuSans-31\"/>\n       <use xlink:href=\"#DejaVuSans-2e\" x=\"63.623047\"/>\n       <use xlink:href=\"#DejaVuSans-35\" x=\"95.410156\"/>\n      </g>\n     </g>\n    </g>\n    <g id=\"ytick_4\">\n     <g id=\"line2d_10\">\n      <g>\n       <use xlink:href=\"#mfbe6a76e4a\" x=\"30.103125\" y=\"31.802672\" style=\"stroke: #000000; stroke-width: 0.8\"/>\n      </g>\n     </g>\n     <g id=\"text_11\">\n      <!-- 2.0 -->\n      <g transform=\"translate(7.2 35.601891) scale(0.1 -0.1)\">\n       <use xlink:href=\"#DejaVuSans-32\"/>\n       <use xlink:href=\"#DejaVuSans-2e\" x=\"63.623047\"/>\n       <use xlink:href=\"#DejaVuSans-30\" x=\"95.410156\"/>\n      </g>\n     </g>\n    </g>\n   </g>\n   <g id=\"line2d_11\">\n    <path d=\"M 34.954394 13.5 \n\" clip-path=\"url(#p71e58b581f)\" style=\"fill: none; stroke: #1f77b4; stroke-width: 1.5; stroke-linecap: square\"/>\n   </g>\n   <g id=\"line2d_12\">\n    <path d=\"M 34.954394 13.5 \nL 44.698573 14.181367 \n\" clip-path=\"url(#p71e58b581f)\" style=\"fill: none; stroke: #1f77b4; stroke-width: 1.5; stroke-linecap: square\"/>\n   </g>\n   <g id=\"line2d_13\">\n    <path d=\"M 34.954394 13.5 \nL 44.698573 14.181367 \n\" clip-path=\"url(#p71e58b581f)\" style=\"fill: none; stroke: #1f77b4; stroke-width: 1.5; stroke-linecap: square\"/>\n   </g>\n   <g id=\"line2d_14\">\n    <path d=\"M 49.633125 15.024487 \n\" clip-path=\"url(#p71e58b581f)\" style=\"fill: none; stroke-dasharray: 5.55,2.4; stroke-dashoffset: 0; stroke: #ff7f0e; stroke-width: 1.5\"/>\n   </g>\n   <g id=\"line2d_15\"/>\n   <g id=\"line2d_16\">\n    <path d=\"M 34.954394 13.5 \nL 44.698573 14.181367 \n\" clip-path=\"url(#p71e58b581f)\" style=\"fill: none; stroke: #1f77b4; stroke-width: 1.5; stroke-linecap: square\"/>\n   </g>\n   <g id=\"line2d_17\">\n    <path d=\"M 49.633125 15.024487 \n\" clip-path=\"url(#p71e58b581f)\" style=\"fill: none; stroke-dasharray: 5.55,2.4; stroke-dashoffset: 0; stroke: #ff7f0e; stroke-width: 1.5\"/>\n   </g>\n   <g id=\"line2d_18\">\n    <path d=\"M 49.633125 139.5 \n\" clip-path=\"url(#p71e58b581f)\" style=\"fill: none; stroke-dasharray: 9.6,2.4,1.5,2.4; stroke-dashoffset: 0; stroke: #2ca02c; stroke-width: 1.5\"/>\n   </g>\n   <g id=\"line2d_19\">\n    <path d=\"M 34.954394 13.5 \nL 44.698573 14.181367 \nL 54.442752 17.48277 \n\" clip-path=\"url(#p71e58b581f)\" style=\"fill: none; stroke: #1f77b4; stroke-width: 1.5; stroke-linecap: square\"/>\n   </g>\n   <g id=\"line2d_20\">\n    <path d=\"M 49.633125 15.024487 \n\" clip-path=\"url(#p71e58b581f)\" style=\"fill: none; stroke-dasharray: 5.55,2.4; stroke-dashoffset: 0; stroke: #ff7f0e; stroke-width: 1.5\"/>\n   </g>\n   <g id=\"line2d_21\">\n    <path d=\"M 49.633125 139.5 \n\" clip-path=\"url(#p71e58b581f)\" style=\"fill: none; stroke-dasharray: 9.6,2.4,1.5,2.4; stroke-dashoffset: 0; stroke: #2ca02c; stroke-width: 1.5\"/>\n   </g>\n   <g id=\"line2d_22\">\n    <path d=\"M 34.954394 13.5 \nL 44.698573 14.181367 \nL 54.442752 17.48277 \nL 64.186931 47.89202 \n\" clip-path=\"url(#p71e58b581f)\" style=\"fill: none; stroke: #1f77b4; stroke-width: 1.5; stroke-linecap: square\"/>\n   </g>\n   <g id=\"line2d_23\">\n    <path d=\"M 49.633125 15.024487 \n\" clip-path=\"url(#p71e58b581f)\" style=\"fill: none; stroke-dasharray: 5.55,2.4; stroke-dashoffset: 0; stroke: #ff7f0e; stroke-width: 1.5\"/>\n   </g>\n   <g id=\"line2d_24\">\n    <path d=\"M 49.633125 139.5 \n\" clip-path=\"url(#p71e58b581f)\" style=\"fill: none; stroke-dasharray: 9.6,2.4,1.5,2.4; stroke-dashoffset: 0; stroke: #2ca02c; stroke-width: 1.5\"/>\n   </g>\n   <g id=\"line2d_25\">\n    <path d=\"M 34.954394 13.5 \nL 44.698573 14.181367 \nL 54.442752 17.48277 \nL 64.186931 47.89202 \n\" clip-path=\"url(#p71e58b581f)\" style=\"fill: none; stroke: #1f77b4; stroke-width: 1.5; stroke-linecap: square\"/>\n   </g>\n   <g id=\"line2d_26\">\n    <path d=\"M 49.633125 15.024487 \nL 69.163125 78.632775 \n\" clip-path=\"url(#p71e58b581f)\" style=\"fill: none; stroke-dasharray: 5.55,2.4; stroke-dashoffset: 0; stroke: #ff7f0e; stroke-width: 1.5\"/>\n   </g>\n   <g id=\"line2d_27\">\n    <path d=\"M 49.633125 139.5 \n\" clip-path=\"url(#p71e58b581f)\" style=\"fill: none; stroke-dasharray: 9.6,2.4,1.5,2.4; stroke-dashoffset: 0; stroke: #2ca02c; stroke-width: 1.5\"/>\n   </g>\n   <g id=\"line2d_28\">\n    <path d=\"M 34.954394 13.5 \nL 44.698573 14.181367 \nL 54.442752 17.48277 \nL 64.186931 47.89202 \n\" clip-path=\"url(#p71e58b581f)\" style=\"fill: none; stroke: #1f77b4; stroke-width: 1.5; stroke-linecap: square\"/>\n   </g>\n   <g id=\"line2d_29\">\n    <path d=\"M 49.633125 15.024487 \nL 69.163125 78.632775 \n\" clip-path=\"url(#p71e58b581f)\" style=\"fill: none; stroke-dasharray: 5.55,2.4; stroke-dashoffset: 0; stroke: #ff7f0e; stroke-width: 1.5\"/>\n   </g>\n   <g id=\"line2d_30\">\n    <path d=\"M 49.633125 139.5 \nL 69.163125 119.179863 \n\" clip-path=\"url(#p71e58b581f)\" style=\"fill: none; stroke-dasharray: 9.6,2.4,1.5,2.4; stroke-dashoffset: 0; stroke: #2ca02c; stroke-width: 1.5\"/>\n   </g>\n   <g id=\"line2d_31\">\n    <path d=\"M 34.954394 13.5 \nL 44.698573 14.181367 \nL 54.442752 17.48277 \nL 64.186931 47.89202 \nL 73.93111 73.307084 \n\" clip-path=\"url(#p71e58b581f)\" style=\"fill: none; stroke: #1f77b4; stroke-width: 1.5; stroke-linecap: square\"/>\n   </g>\n   <g id=\"line2d_32\">\n    <path d=\"M 49.633125 15.024487 \nL 69.163125 78.632775 \n\" clip-path=\"url(#p71e58b581f)\" style=\"fill: none; stroke-dasharray: 5.55,2.4; stroke-dashoffset: 0; stroke: #ff7f0e; stroke-width: 1.5\"/>\n   </g>\n   <g id=\"line2d_33\">\n    <path d=\"M 49.633125 139.5 \nL 69.163125 119.179863 \n\" clip-path=\"url(#p71e58b581f)\" style=\"fill: none; stroke-dasharray: 9.6,2.4,1.5,2.4; stroke-dashoffset: 0; stroke: #2ca02c; stroke-width: 1.5\"/>\n   </g>\n   <g id=\"line2d_34\">\n    <path d=\"M 34.954394 13.5 \nL 44.698573 14.181367 \nL 54.442752 17.48277 \nL 64.186931 47.89202 \nL 73.93111 73.307084 \nL 83.675289 83.866508 \n\" clip-path=\"url(#p71e58b581f)\" style=\"fill: none; stroke: #1f77b4; stroke-width: 1.5; stroke-linecap: square\"/>\n   </g>\n   <g id=\"line2d_35\">\n    <path d=\"M 49.633125 15.024487 \nL 69.163125 78.632775 \n\" clip-path=\"url(#p71e58b581f)\" style=\"fill: none; stroke-dasharray: 5.55,2.4; stroke-dashoffset: 0; stroke: #ff7f0e; stroke-width: 1.5\"/>\n   </g>\n   <g id=\"line2d_36\">\n    <path d=\"M 49.633125 139.5 \nL 69.163125 119.179863 \n\" clip-path=\"url(#p71e58b581f)\" style=\"fill: none; stroke-dasharray: 9.6,2.4,1.5,2.4; stroke-dashoffset: 0; stroke: #2ca02c; stroke-width: 1.5\"/>\n   </g>\n   <g id=\"line2d_37\">\n    <path d=\"M 34.954394 13.5 \nL 44.698573 14.181367 \nL 54.442752 17.48277 \nL 64.186931 47.89202 \nL 73.93111 73.307084 \nL 83.675289 83.866508 \n\" clip-path=\"url(#p71e58b581f)\" style=\"fill: none; stroke: #1f77b4; stroke-width: 1.5; stroke-linecap: square\"/>\n   </g>\n   <g id=\"line2d_38\">\n    <path d=\"M 49.633125 15.024487 \nL 69.163125 78.632775 \nL 88.693125 96.130393 \n\" clip-path=\"url(#p71e58b581f)\" style=\"fill: none; stroke-dasharray: 5.55,2.4; stroke-dashoffset: 0; stroke: #ff7f0e; stroke-width: 1.5\"/>\n   </g>\n   <g id=\"line2d_39\">\n    <path d=\"M 49.633125 139.5 \nL 69.163125 119.179863 \n\" clip-path=\"url(#p71e58b581f)\" style=\"fill: none; stroke-dasharray: 9.6,2.4,1.5,2.4; stroke-dashoffset: 0; stroke: #2ca02c; stroke-width: 1.5\"/>\n   </g>\n   <g id=\"line2d_40\">\n    <path d=\"M 34.954394 13.5 \nL 44.698573 14.181367 \nL 54.442752 17.48277 \nL 64.186931 47.89202 \nL 73.93111 73.307084 \nL 83.675289 83.866508 \n\" clip-path=\"url(#p71e58b581f)\" style=\"fill: none; stroke: #1f77b4; stroke-width: 1.5; stroke-linecap: square\"/>\n   </g>\n   <g id=\"line2d_41\">\n    <path d=\"M 49.633125 15.024487 \nL 69.163125 78.632775 \nL 88.693125 96.130393 \n\" clip-path=\"url(#p71e58b581f)\" style=\"fill: none; stroke-dasharray: 5.55,2.4; stroke-dashoffset: 0; stroke: #ff7f0e; stroke-width: 1.5\"/>\n   </g>\n   <g id=\"line2d_42\">\n    <path d=\"M 49.633125 139.5 \nL 69.163125 119.179863 \nL 88.693125 115.089407 \n\" clip-path=\"url(#p71e58b581f)\" style=\"fill: none; stroke-dasharray: 9.6,2.4,1.5,2.4; stroke-dashoffset: 0; stroke: #2ca02c; stroke-width: 1.5\"/>\n   </g>\n   <g id=\"line2d_43\">\n    <path d=\"M 34.954394 13.5 \nL 44.698573 14.181367 \nL 54.442752 17.48277 \nL 64.186931 47.89202 \nL 73.93111 73.307084 \nL 83.675289 83.866508 \nL 93.419468 89.153846 \n\" clip-path=\"url(#p71e58b581f)\" style=\"fill: none; stroke: #1f77b4; stroke-width: 1.5; stroke-linecap: square\"/>\n   </g>\n   <g id=\"line2d_44\">\n    <path d=\"M 49.633125 15.024487 \nL 69.163125 78.632775 \nL 88.693125 96.130393 \n\" clip-path=\"url(#p71e58b581f)\" style=\"fill: none; stroke-dasharray: 5.55,2.4; stroke-dashoffset: 0; stroke: #ff7f0e; stroke-width: 1.5\"/>\n   </g>\n   <g id=\"line2d_45\">\n    <path d=\"M 49.633125 139.5 \nL 69.163125 119.179863 \nL 88.693125 115.089407 \n\" clip-path=\"url(#p71e58b581f)\" style=\"fill: none; stroke-dasharray: 9.6,2.4,1.5,2.4; stroke-dashoffset: 0; stroke: #2ca02c; stroke-width: 1.5\"/>\n   </g>\n   <g id=\"line2d_46\">\n    <path d=\"M 34.954394 13.5 \nL 44.698573 14.181367 \nL 54.442752 17.48277 \nL 64.186931 47.89202 \nL 73.93111 73.307084 \nL 83.675289 83.866508 \nL 93.419468 89.153846 \nL 103.163647 92.570219 \n\" clip-path=\"url(#p71e58b581f)\" style=\"fill: none; stroke: #1f77b4; stroke-width: 1.5; stroke-linecap: square\"/>\n   </g>\n   <g id=\"line2d_47\">\n    <path d=\"M 49.633125 15.024487 \nL 69.163125 78.632775 \nL 88.693125 96.130393 \n\" clip-path=\"url(#p71e58b581f)\" style=\"fill: none; stroke-dasharray: 5.55,2.4; stroke-dashoffset: 0; stroke: #ff7f0e; stroke-width: 1.5\"/>\n   </g>\n   <g id=\"line2d_48\">\n    <path d=\"M 49.633125 139.5 \nL 69.163125 119.179863 \nL 88.693125 115.089407 \n\" clip-path=\"url(#p71e58b581f)\" style=\"fill: none; stroke-dasharray: 9.6,2.4,1.5,2.4; stroke-dashoffset: 0; stroke: #2ca02c; stroke-width: 1.5\"/>\n   </g>\n   <g id=\"line2d_49\">\n    <path d=\"M 34.954394 13.5 \nL 44.698573 14.181367 \nL 54.442752 17.48277 \nL 64.186931 47.89202 \nL 73.93111 73.307084 \nL 83.675289 83.866508 \nL 93.419468 89.153846 \nL 103.163647 92.570219 \n\" clip-path=\"url(#p71e58b581f)\" style=\"fill: none; stroke: #1f77b4; stroke-width: 1.5; stroke-linecap: square\"/>\n   </g>\n   <g id=\"line2d_50\">\n    <path d=\"M 49.633125 15.024487 \nL 69.163125 78.632775 \nL 88.693125 96.130393 \nL 108.223125 102.777512 \n\" clip-path=\"url(#p71e58b581f)\" style=\"fill: none; stroke-dasharray: 5.55,2.4; stroke-dashoffset: 0; stroke: #ff7f0e; stroke-width: 1.5\"/>\n   </g>\n   <g id=\"line2d_51\">\n    <path d=\"M 49.633125 139.5 \nL 69.163125 119.179863 \nL 88.693125 115.089407 \n\" clip-path=\"url(#p71e58b581f)\" style=\"fill: none; stroke-dasharray: 9.6,2.4,1.5,2.4; stroke-dashoffset: 0; stroke: #2ca02c; stroke-width: 1.5\"/>\n   </g>\n   <g id=\"line2d_52\">\n    <path d=\"M 34.954394 13.5 \nL 44.698573 14.181367 \nL 54.442752 17.48277 \nL 64.186931 47.89202 \nL 73.93111 73.307084 \nL 83.675289 83.866508 \nL 93.419468 89.153846 \nL 103.163647 92.570219 \n\" clip-path=\"url(#p71e58b581f)\" style=\"fill: none; stroke: #1f77b4; stroke-width: 1.5; stroke-linecap: square\"/>\n   </g>\n   <g id=\"line2d_53\">\n    <path d=\"M 49.633125 15.024487 \nL 69.163125 78.632775 \nL 88.693125 96.130393 \nL 108.223125 102.777512 \n\" clip-path=\"url(#p71e58b581f)\" style=\"fill: none; stroke-dasharray: 5.55,2.4; stroke-dashoffset: 0; stroke: #ff7f0e; stroke-width: 1.5\"/>\n   </g>\n   <g id=\"line2d_54\">\n    <path d=\"M 49.633125 139.5 \nL 69.163125 119.179863 \nL 88.693125 115.089407 \nL 108.223125 111.533533 \n\" clip-path=\"url(#p71e58b581f)\" style=\"fill: none; stroke-dasharray: 9.6,2.4,1.5,2.4; stroke-dashoffset: 0; stroke: #2ca02c; stroke-width: 1.5\"/>\n   </g>\n   <g id=\"line2d_55\">\n    <path d=\"M 34.954394 13.5 \nL 44.698573 14.181367 \nL 54.442752 17.48277 \nL 64.186931 47.89202 \nL 73.93111 73.307084 \nL 83.675289 83.866508 \nL 93.419468 89.153846 \nL 103.163647 92.570219 \nL 112.907826 95.52943 \n\" clip-path=\"url(#p71e58b581f)\" style=\"fill: none; stroke: #1f77b4; stroke-width: 1.5; stroke-linecap: square\"/>\n   </g>\n   <g id=\"line2d_56\">\n    <path d=\"M 49.633125 15.024487 \nL 69.163125 78.632775 \nL 88.693125 96.130393 \nL 108.223125 102.777512 \n\" clip-path=\"url(#p71e58b581f)\" style=\"fill: none; stroke-dasharray: 5.55,2.4; stroke-dashoffset: 0; stroke: #ff7f0e; stroke-width: 1.5\"/>\n   </g>\n   <g id=\"line2d_57\">\n    <path d=\"M 49.633125 139.5 \nL 69.163125 119.179863 \nL 88.693125 115.089407 \nL 108.223125 111.533533 \n\" clip-path=\"url(#p71e58b581f)\" style=\"fill: none; stroke-dasharray: 9.6,2.4,1.5,2.4; stroke-dashoffset: 0; stroke: #2ca02c; stroke-width: 1.5\"/>\n   </g>\n   <g id=\"line2d_58\">\n    <path d=\"M 34.954394 13.5 \nL 44.698573 14.181367 \nL 54.442752 17.48277 \nL 64.186931 47.89202 \nL 73.93111 73.307084 \nL 83.675289 83.866508 \nL 93.419468 89.153846 \nL 103.163647 92.570219 \nL 112.907826 95.52943 \nL 122.652006 97.414351 \n\" clip-path=\"url(#p71e58b581f)\" style=\"fill: none; stroke: #1f77b4; stroke-width: 1.5; stroke-linecap: square\"/>\n   </g>\n   <g id=\"line2d_59\">\n    <path d=\"M 49.633125 15.024487 \nL 69.163125 78.632775 \nL 88.693125 96.130393 \nL 108.223125 102.777512 \n\" clip-path=\"url(#p71e58b581f)\" style=\"fill: none; stroke-dasharray: 5.55,2.4; stroke-dashoffset: 0; stroke: #ff7f0e; stroke-width: 1.5\"/>\n   </g>\n   <g id=\"line2d_60\">\n    <path d=\"M 49.633125 139.5 \nL 69.163125 119.179863 \nL 88.693125 115.089407 \nL 108.223125 111.533533 \n\" clip-path=\"url(#p71e58b581f)\" style=\"fill: none; stroke-dasharray: 9.6,2.4,1.5,2.4; stroke-dashoffset: 0; stroke: #2ca02c; stroke-width: 1.5\"/>\n   </g>\n   <g id=\"line2d_61\">\n    <path d=\"M 34.954394 13.5 \nL 44.698573 14.181367 \nL 54.442752 17.48277 \nL 64.186931 47.89202 \nL 73.93111 73.307084 \nL 83.675289 83.866508 \nL 93.419468 89.153846 \nL 103.163647 92.570219 \nL 112.907826 95.52943 \nL 122.652006 97.414351 \n\" clip-path=\"url(#p71e58b581f)\" style=\"fill: none; stroke: #1f77b4; stroke-width: 1.5; stroke-linecap: square\"/>\n   </g>\n   <g id=\"line2d_62\">\n    <path d=\"M 49.633125 15.024487 \nL 69.163125 78.632775 \nL 88.693125 96.130393 \nL 108.223125 102.777512 \nL 127.753125 107.096329 \n\" clip-path=\"url(#p71e58b581f)\" style=\"fill: none; stroke-dasharray: 5.55,2.4; stroke-dashoffset: 0; stroke: #ff7f0e; stroke-width: 1.5\"/>\n   </g>\n   <g id=\"line2d_63\">\n    <path d=\"M 49.633125 139.5 \nL 69.163125 119.179863 \nL 88.693125 115.089407 \nL 108.223125 111.533533 \n\" clip-path=\"url(#p71e58b581f)\" style=\"fill: none; stroke-dasharray: 9.6,2.4,1.5,2.4; stroke-dashoffset: 0; stroke: #2ca02c; stroke-width: 1.5\"/>\n   </g>\n   <g id=\"line2d_64\">\n    <path d=\"M 34.954394 13.5 \nL 44.698573 14.181367 \nL 54.442752 17.48277 \nL 64.186931 47.89202 \nL 73.93111 73.307084 \nL 83.675289 83.866508 \nL 93.419468 89.153846 \nL 103.163647 92.570219 \nL 112.907826 95.52943 \nL 122.652006 97.414351 \n\" clip-path=\"url(#p71e58b581f)\" style=\"fill: none; stroke: #1f77b4; stroke-width: 1.5; stroke-linecap: square\"/>\n   </g>\n   <g id=\"line2d_65\">\n    <path d=\"M 49.633125 15.024487 \nL 69.163125 78.632775 \nL 88.693125 96.130393 \nL 108.223125 102.777512 \nL 127.753125 107.096329 \n\" clip-path=\"url(#p71e58b581f)\" style=\"fill: none; stroke-dasharray: 5.55,2.4; stroke-dashoffset: 0; stroke: #ff7f0e; stroke-width: 1.5\"/>\n   </g>\n   <g id=\"line2d_66\">\n    <path d=\"M 49.633125 139.5 \nL 69.163125 119.179863 \nL 88.693125 115.089407 \nL 108.223125 111.533533 \nL 127.753125 109.977838 \n\" clip-path=\"url(#p71e58b581f)\" style=\"fill: none; stroke-dasharray: 9.6,2.4,1.5,2.4; stroke-dashoffset: 0; stroke: #2ca02c; stroke-width: 1.5\"/>\n   </g>\n   <g id=\"line2d_67\">\n    <path d=\"M 34.954394 13.5 \nL 44.698573 14.181367 \nL 54.442752 17.48277 \nL 64.186931 47.89202 \nL 73.93111 73.307084 \nL 83.675289 83.866508 \nL 93.419468 89.153846 \nL 103.163647 92.570219 \nL 112.907826 95.52943 \nL 122.652006 97.414351 \nL 132.396185 99.393889 \n\" clip-path=\"url(#p71e58b581f)\" style=\"fill: none; stroke: #1f77b4; stroke-width: 1.5; stroke-linecap: square\"/>\n   </g>\n   <g id=\"line2d_68\">\n    <path d=\"M 49.633125 15.024487 \nL 69.163125 78.632775 \nL 88.693125 96.130393 \nL 108.223125 102.777512 \nL 127.753125 107.096329 \n\" clip-path=\"url(#p71e58b581f)\" style=\"fill: none; stroke-dasharray: 5.55,2.4; stroke-dashoffset: 0; stroke: #ff7f0e; stroke-width: 1.5\"/>\n   </g>\n   <g id=\"line2d_69\">\n    <path d=\"M 49.633125 139.5 \nL 69.163125 119.179863 \nL 88.693125 115.089407 \nL 108.223125 111.533533 \nL 127.753125 109.977838 \n\" clip-path=\"url(#p71e58b581f)\" style=\"fill: none; stroke-dasharray: 9.6,2.4,1.5,2.4; stroke-dashoffset: 0; stroke: #2ca02c; stroke-width: 1.5\"/>\n   </g>\n   <g id=\"line2d_70\">\n    <path d=\"M 34.954394 13.5 \nL 44.698573 14.181367 \nL 54.442752 17.48277 \nL 64.186931 47.89202 \nL 73.93111 73.307084 \nL 83.675289 83.866508 \nL 93.419468 89.153846 \nL 103.163647 92.570219 \nL 112.907826 95.52943 \nL 122.652006 97.414351 \nL 132.396185 99.393889 \nL 142.140364 101.318177 \n\" clip-path=\"url(#p71e58b581f)\" style=\"fill: none; stroke: #1f77b4; stroke-width: 1.5; stroke-linecap: square\"/>\n   </g>\n   <g id=\"line2d_71\">\n    <path d=\"M 49.633125 15.024487 \nL 69.163125 78.632775 \nL 88.693125 96.130393 \nL 108.223125 102.777512 \nL 127.753125 107.096329 \n\" clip-path=\"url(#p71e58b581f)\" style=\"fill: none; stroke-dasharray: 5.55,2.4; stroke-dashoffset: 0; stroke: #ff7f0e; stroke-width: 1.5\"/>\n   </g>\n   <g id=\"line2d_72\">\n    <path d=\"M 49.633125 139.5 \nL 69.163125 119.179863 \nL 88.693125 115.089407 \nL 108.223125 111.533533 \nL 127.753125 109.977838 \n\" clip-path=\"url(#p71e58b581f)\" style=\"fill: none; stroke-dasharray: 9.6,2.4,1.5,2.4; stroke-dashoffset: 0; stroke: #2ca02c; stroke-width: 1.5\"/>\n   </g>\n   <g id=\"line2d_73\">\n    <path d=\"M 34.954394 13.5 \nL 44.698573 14.181367 \nL 54.442752 17.48277 \nL 64.186931 47.89202 \nL 73.93111 73.307084 \nL 83.675289 83.866508 \nL 93.419468 89.153846 \nL 103.163647 92.570219 \nL 112.907826 95.52943 \nL 122.652006 97.414351 \nL 132.396185 99.393889 \nL 142.140364 101.318177 \n\" clip-path=\"url(#p71e58b581f)\" style=\"fill: none; stroke: #1f77b4; stroke-width: 1.5; stroke-linecap: square\"/>\n   </g>\n   <g id=\"line2d_74\">\n    <path d=\"M 49.633125 15.024487 \nL 69.163125 78.632775 \nL 88.693125 96.130393 \nL 108.223125 102.777512 \nL 127.753125 107.096329 \nL 147.283125 108.774244 \n\" clip-path=\"url(#p71e58b581f)\" style=\"fill: none; stroke-dasharray: 5.55,2.4; stroke-dashoffset: 0; stroke: #ff7f0e; stroke-width: 1.5\"/>\n   </g>\n   <g id=\"line2d_75\">\n    <path d=\"M 49.633125 139.5 \nL 69.163125 119.179863 \nL 88.693125 115.089407 \nL 108.223125 111.533533 \nL 127.753125 109.977838 \n\" clip-path=\"url(#p71e58b581f)\" style=\"fill: none; stroke-dasharray: 9.6,2.4,1.5,2.4; stroke-dashoffset: 0; stroke: #2ca02c; stroke-width: 1.5\"/>\n   </g>\n   <g id=\"line2d_76\">\n    <path d=\"M 34.954394 13.5 \nL 44.698573 14.181367 \nL 54.442752 17.48277 \nL 64.186931 47.89202 \nL 73.93111 73.307084 \nL 83.675289 83.866508 \nL 93.419468 89.153846 \nL 103.163647 92.570219 \nL 112.907826 95.52943 \nL 122.652006 97.414351 \nL 132.396185 99.393889 \nL 142.140364 101.318177 \n\" clip-path=\"url(#p71e58b581f)\" style=\"fill: none; stroke: #1f77b4; stroke-width: 1.5; stroke-linecap: square\"/>\n   </g>\n   <g id=\"line2d_77\">\n    <path d=\"M 49.633125 15.024487 \nL 69.163125 78.632775 \nL 88.693125 96.130393 \nL 108.223125 102.777512 \nL 127.753125 107.096329 \nL 147.283125 108.774244 \n\" clip-path=\"url(#p71e58b581f)\" style=\"fill: none; stroke-dasharray: 5.55,2.4; stroke-dashoffset: 0; stroke: #ff7f0e; stroke-width: 1.5\"/>\n   </g>\n   <g id=\"line2d_78\">\n    <path d=\"M 49.633125 139.5 \nL 69.163125 119.179863 \nL 88.693125 115.089407 \nL 108.223125 111.533533 \nL 127.753125 109.977838 \nL 147.283125 110.344237 \n\" clip-path=\"url(#p71e58b581f)\" style=\"fill: none; stroke-dasharray: 9.6,2.4,1.5,2.4; stroke-dashoffset: 0; stroke: #2ca02c; stroke-width: 1.5\"/>\n   </g>\n   <g id=\"line2d_79\">\n    <path d=\"M 34.954394 13.5 \nL 44.698573 14.181367 \nL 54.442752 17.48277 \nL 64.186931 47.89202 \nL 73.93111 73.307084 \nL 83.675289 83.866508 \nL 93.419468 89.153846 \nL 103.163647 92.570219 \nL 112.907826 95.52943 \nL 122.652006 97.414351 \nL 132.396185 99.393889 \nL 142.140364 101.318177 \nL 151.884543 102.781498 \n\" clip-path=\"url(#p71e58b581f)\" style=\"fill: none; stroke: #1f77b4; stroke-width: 1.5; stroke-linecap: square\"/>\n   </g>\n   <g id=\"line2d_80\">\n    <path d=\"M 49.633125 15.024487 \nL 69.163125 78.632775 \nL 88.693125 96.130393 \nL 108.223125 102.777512 \nL 127.753125 107.096329 \nL 147.283125 108.774244 \n\" clip-path=\"url(#p71e58b581f)\" style=\"fill: none; stroke-dasharray: 5.55,2.4; stroke-dashoffset: 0; stroke: #ff7f0e; stroke-width: 1.5\"/>\n   </g>\n   <g id=\"line2d_81\">\n    <path d=\"M 49.633125 139.5 \nL 69.163125 119.179863 \nL 88.693125 115.089407 \nL 108.223125 111.533533 \nL 127.753125 109.977838 \nL 147.283125 110.344237 \n\" clip-path=\"url(#p71e58b581f)\" style=\"fill: none; stroke-dasharray: 9.6,2.4,1.5,2.4; stroke-dashoffset: 0; stroke: #2ca02c; stroke-width: 1.5\"/>\n   </g>\n   <g id=\"line2d_82\">\n    <path d=\"M 34.954394 13.5 \nL 44.698573 14.181367 \nL 54.442752 17.48277 \nL 64.186931 47.89202 \nL 73.93111 73.307084 \nL 83.675289 83.866508 \nL 93.419468 89.153846 \nL 103.163647 92.570219 \nL 112.907826 95.52943 \nL 122.652006 97.414351 \nL 132.396185 99.393889 \nL 142.140364 101.318177 \nL 151.884543 102.781498 \nL 161.628722 104.00983 \n\" clip-path=\"url(#p71e58b581f)\" style=\"fill: none; stroke: #1f77b4; stroke-width: 1.5; stroke-linecap: square\"/>\n   </g>\n   <g id=\"line2d_83\">\n    <path d=\"M 49.633125 15.024487 \nL 69.163125 78.632775 \nL 88.693125 96.130393 \nL 108.223125 102.777512 \nL 127.753125 107.096329 \nL 147.283125 108.774244 \n\" clip-path=\"url(#p71e58b581f)\" style=\"fill: none; stroke-dasharray: 5.55,2.4; stroke-dashoffset: 0; stroke: #ff7f0e; stroke-width: 1.5\"/>\n   </g>\n   <g id=\"line2d_84\">\n    <path d=\"M 49.633125 139.5 \nL 69.163125 119.179863 \nL 88.693125 115.089407 \nL 108.223125 111.533533 \nL 127.753125 109.977838 \nL 147.283125 110.344237 \n\" clip-path=\"url(#p71e58b581f)\" style=\"fill: none; stroke-dasharray: 9.6,2.4,1.5,2.4; stroke-dashoffset: 0; stroke: #2ca02c; stroke-width: 1.5\"/>\n   </g>\n   <g id=\"line2d_85\">\n    <path d=\"M 34.954394 13.5 \nL 44.698573 14.181367 \nL 54.442752 17.48277 \nL 64.186931 47.89202 \nL 73.93111 73.307084 \nL 83.675289 83.866508 \nL 93.419468 89.153846 \nL 103.163647 92.570219 \nL 112.907826 95.52943 \nL 122.652006 97.414351 \nL 132.396185 99.393889 \nL 142.140364 101.318177 \nL 151.884543 102.781498 \nL 161.628722 104.00983 \n\" clip-path=\"url(#p71e58b581f)\" style=\"fill: none; stroke: #1f77b4; stroke-width: 1.5; stroke-linecap: square\"/>\n   </g>\n   <g id=\"line2d_86\">\n    <path d=\"M 49.633125 15.024487 \nL 69.163125 78.632775 \nL 88.693125 96.130393 \nL 108.223125 102.777512 \nL 127.753125 107.096329 \nL 147.283125 108.774244 \nL 166.813125 112.058379 \n\" clip-path=\"url(#p71e58b581f)\" style=\"fill: none; stroke-dasharray: 5.55,2.4; stroke-dashoffset: 0; stroke: #ff7f0e; stroke-width: 1.5\"/>\n   </g>\n   <g id=\"line2d_87\">\n    <path d=\"M 49.633125 139.5 \nL 69.163125 119.179863 \nL 88.693125 115.089407 \nL 108.223125 111.533533 \nL 127.753125 109.977838 \nL 147.283125 110.344237 \n\" clip-path=\"url(#p71e58b581f)\" style=\"fill: none; stroke-dasharray: 9.6,2.4,1.5,2.4; stroke-dashoffset: 0; stroke: #2ca02c; stroke-width: 1.5\"/>\n   </g>\n   <g id=\"line2d_88\">\n    <path d=\"M 34.954394 13.5 \nL 44.698573 14.181367 \nL 54.442752 17.48277 \nL 64.186931 47.89202 \nL 73.93111 73.307084 \nL 83.675289 83.866508 \nL 93.419468 89.153846 \nL 103.163647 92.570219 \nL 112.907826 95.52943 \nL 122.652006 97.414351 \nL 132.396185 99.393889 \nL 142.140364 101.318177 \nL 151.884543 102.781498 \nL 161.628722 104.00983 \n\" clip-path=\"url(#p71e58b581f)\" style=\"fill: none; stroke: #1f77b4; stroke-width: 1.5; stroke-linecap: square\"/>\n   </g>\n   <g id=\"line2d_89\">\n    <path d=\"M 49.633125 15.024487 \nL 69.163125 78.632775 \nL 88.693125 96.130393 \nL 108.223125 102.777512 \nL 127.753125 107.096329 \nL 147.283125 108.774244 \nL 166.813125 112.058379 \n\" clip-path=\"url(#p71e58b581f)\" style=\"fill: none; stroke-dasharray: 5.55,2.4; stroke-dashoffset: 0; stroke: #ff7f0e; stroke-width: 1.5\"/>\n   </g>\n   <g id=\"line2d_90\">\n    <path d=\"M 49.633125 139.5 \nL 69.163125 119.179863 \nL 88.693125 115.089407 \nL 108.223125 111.533533 \nL 127.753125 109.977838 \nL 147.283125 110.344237 \nL 166.813125 108.620359 \n\" clip-path=\"url(#p71e58b581f)\" style=\"fill: none; stroke-dasharray: 9.6,2.4,1.5,2.4; stroke-dashoffset: 0; stroke: #2ca02c; stroke-width: 1.5\"/>\n   </g>\n   <g id=\"line2d_91\">\n    <path d=\"M 34.954394 13.5 \nL 44.698573 14.181367 \nL 54.442752 17.48277 \nL 64.186931 47.89202 \nL 73.93111 73.307084 \nL 83.675289 83.866508 \nL 93.419468 89.153846 \nL 103.163647 92.570219 \nL 112.907826 95.52943 \nL 122.652006 97.414351 \nL 132.396185 99.393889 \nL 142.140364 101.318177 \nL 151.884543 102.781498 \nL 161.628722 104.00983 \nL 171.372901 105.241221 \n\" clip-path=\"url(#p71e58b581f)\" style=\"fill: none; stroke: #1f77b4; stroke-width: 1.5; stroke-linecap: square\"/>\n   </g>\n   <g id=\"line2d_92\">\n    <path d=\"M 49.633125 15.024487 \nL 69.163125 78.632775 \nL 88.693125 96.130393 \nL 108.223125 102.777512 \nL 127.753125 107.096329 \nL 147.283125 108.774244 \nL 166.813125 112.058379 \n\" clip-path=\"url(#p71e58b581f)\" style=\"fill: none; stroke-dasharray: 5.55,2.4; stroke-dashoffset: 0; stroke: #ff7f0e; stroke-width: 1.5\"/>\n   </g>\n   <g id=\"line2d_93\">\n    <path d=\"M 49.633125 139.5 \nL 69.163125 119.179863 \nL 88.693125 115.089407 \nL 108.223125 111.533533 \nL 127.753125 109.977838 \nL 147.283125 110.344237 \nL 166.813125 108.620359 \n\" clip-path=\"url(#p71e58b581f)\" style=\"fill: none; stroke-dasharray: 9.6,2.4,1.5,2.4; stroke-dashoffset: 0; stroke: #2ca02c; stroke-width: 1.5\"/>\n   </g>\n   <g id=\"line2d_94\">\n    <path d=\"M 34.954394 13.5 \nL 44.698573 14.181367 \nL 54.442752 17.48277 \nL 64.186931 47.89202 \nL 73.93111 73.307084 \nL 83.675289 83.866508 \nL 93.419468 89.153846 \nL 103.163647 92.570219 \nL 112.907826 95.52943 \nL 122.652006 97.414351 \nL 132.396185 99.393889 \nL 142.140364 101.318177 \nL 151.884543 102.781498 \nL 161.628722 104.00983 \nL 171.372901 105.241221 \nL 181.11708 106.619106 \n\" clip-path=\"url(#p71e58b581f)\" style=\"fill: none; stroke: #1f77b4; stroke-width: 1.5; stroke-linecap: square\"/>\n   </g>\n   <g id=\"line2d_95\">\n    <path d=\"M 49.633125 15.024487 \nL 69.163125 78.632775 \nL 88.693125 96.130393 \nL 108.223125 102.777512 \nL 127.753125 107.096329 \nL 147.283125 108.774244 \nL 166.813125 112.058379 \n\" clip-path=\"url(#p71e58b581f)\" style=\"fill: none; stroke-dasharray: 5.55,2.4; stroke-dashoffset: 0; stroke: #ff7f0e; stroke-width: 1.5\"/>\n   </g>\n   <g id=\"line2d_96\">\n    <path d=\"M 49.633125 139.5 \nL 69.163125 119.179863 \nL 88.693125 115.089407 \nL 108.223125 111.533533 \nL 127.753125 109.977838 \nL 147.283125 110.344237 \nL 166.813125 108.620359 \n\" clip-path=\"url(#p71e58b581f)\" style=\"fill: none; stroke-dasharray: 9.6,2.4,1.5,2.4; stroke-dashoffset: 0; stroke: #2ca02c; stroke-width: 1.5\"/>\n   </g>\n   <g id=\"line2d_97\">\n    <path d=\"M 34.954394 13.5 \nL 44.698573 14.181367 \nL 54.442752 17.48277 \nL 64.186931 47.89202 \nL 73.93111 73.307084 \nL 83.675289 83.866508 \nL 93.419468 89.153846 \nL 103.163647 92.570219 \nL 112.907826 95.52943 \nL 122.652006 97.414351 \nL 132.396185 99.393889 \nL 142.140364 101.318177 \nL 151.884543 102.781498 \nL 161.628722 104.00983 \nL 171.372901 105.241221 \nL 181.11708 106.619106 \n\" clip-path=\"url(#p71e58b581f)\" style=\"fill: none; stroke: #1f77b4; stroke-width: 1.5; stroke-linecap: square\"/>\n   </g>\n   <g id=\"line2d_98\">\n    <path d=\"M 49.633125 15.024487 \nL 69.163125 78.632775 \nL 88.693125 96.130393 \nL 108.223125 102.777512 \nL 127.753125 107.096329 \nL 147.283125 108.774244 \nL 166.813125 112.058379 \nL 186.343125 112.828058 \n\" clip-path=\"url(#p71e58b581f)\" style=\"fill: none; stroke-dasharray: 5.55,2.4; stroke-dashoffset: 0; stroke: #ff7f0e; stroke-width: 1.5\"/>\n   </g>\n   <g id=\"line2d_99\">\n    <path d=\"M 49.633125 139.5 \nL 69.163125 119.179863 \nL 88.693125 115.089407 \nL 108.223125 111.533533 \nL 127.753125 109.977838 \nL 147.283125 110.344237 \nL 166.813125 108.620359 \n\" clip-path=\"url(#p71e58b581f)\" style=\"fill: none; stroke-dasharray: 9.6,2.4,1.5,2.4; stroke-dashoffset: 0; stroke: #2ca02c; stroke-width: 1.5\"/>\n   </g>\n   <g id=\"line2d_100\">\n    <path d=\"M 34.954394 13.5 \nL 44.698573 14.181367 \nL 54.442752 17.48277 \nL 64.186931 47.89202 \nL 73.93111 73.307084 \nL 83.675289 83.866508 \nL 93.419468 89.153846 \nL 103.163647 92.570219 \nL 112.907826 95.52943 \nL 122.652006 97.414351 \nL 132.396185 99.393889 \nL 142.140364 101.318177 \nL 151.884543 102.781498 \nL 161.628722 104.00983 \nL 171.372901 105.241221 \nL 181.11708 106.619106 \n\" clip-path=\"url(#p71e58b581f)\" style=\"fill: none; stroke: #1f77b4; stroke-width: 1.5; stroke-linecap: square\"/>\n   </g>\n   <g id=\"line2d_101\">\n    <path d=\"M 49.633125 15.024487 \nL 69.163125 78.632775 \nL 88.693125 96.130393 \nL 108.223125 102.777512 \nL 127.753125 107.096329 \nL 147.283125 108.774244 \nL 166.813125 112.058379 \nL 186.343125 112.828058 \n\" clip-path=\"url(#p71e58b581f)\" style=\"fill: none; stroke-dasharray: 5.55,2.4; stroke-dashoffset: 0; stroke: #ff7f0e; stroke-width: 1.5\"/>\n   </g>\n   <g id=\"line2d_102\">\n    <path d=\"M 49.633125 139.5 \nL 69.163125 119.179863 \nL 88.693125 115.089407 \nL 108.223125 111.533533 \nL 127.753125 109.977838 \nL 147.283125 110.344237 \nL 166.813125 108.620359 \nL 186.343125 107.995679 \n\" clip-path=\"url(#p71e58b581f)\" style=\"fill: none; stroke-dasharray: 9.6,2.4,1.5,2.4; stroke-dashoffset: 0; stroke: #2ca02c; stroke-width: 1.5\"/>\n   </g>\n   <g id=\"line2d_103\">\n    <path d=\"M 34.954394 13.5 \nL 44.698573 14.181367 \nL 54.442752 17.48277 \nL 64.186931 47.89202 \nL 73.93111 73.307084 \nL 83.675289 83.866508 \nL 93.419468 89.153846 \nL 103.163647 92.570219 \nL 112.907826 95.52943 \nL 122.652006 97.414351 \nL 132.396185 99.393889 \nL 142.140364 101.318177 \nL 151.884543 102.781498 \nL 161.628722 104.00983 \nL 171.372901 105.241221 \nL 181.11708 106.619106 \nL 190.861259 107.352095 \n\" clip-path=\"url(#p71e58b581f)\" style=\"fill: none; stroke: #1f77b4; stroke-width: 1.5; stroke-linecap: square\"/>\n   </g>\n   <g id=\"line2d_104\">\n    <path d=\"M 49.633125 15.024487 \nL 69.163125 78.632775 \nL 88.693125 96.130393 \nL 108.223125 102.777512 \nL 127.753125 107.096329 \nL 147.283125 108.774244 \nL 166.813125 112.058379 \nL 186.343125 112.828058 \n\" clip-path=\"url(#p71e58b581f)\" style=\"fill: none; stroke-dasharray: 5.55,2.4; stroke-dashoffset: 0; stroke: #ff7f0e; stroke-width: 1.5\"/>\n   </g>\n   <g id=\"line2d_105\">\n    <path d=\"M 49.633125 139.5 \nL 69.163125 119.179863 \nL 88.693125 115.089407 \nL 108.223125 111.533533 \nL 127.753125 109.977838 \nL 147.283125 110.344237 \nL 166.813125 108.620359 \nL 186.343125 107.995679 \n\" clip-path=\"url(#p71e58b581f)\" style=\"fill: none; stroke-dasharray: 9.6,2.4,1.5,2.4; stroke-dashoffset: 0; stroke: #2ca02c; stroke-width: 1.5\"/>\n   </g>\n   <g id=\"line2d_106\">\n    <path d=\"M 34.954394 13.5 \nL 44.698573 14.181367 \nL 54.442752 17.48277 \nL 64.186931 47.89202 \nL 73.93111 73.307084 \nL 83.675289 83.866508 \nL 93.419468 89.153846 \nL 103.163647 92.570219 \nL 112.907826 95.52943 \nL 122.652006 97.414351 \nL 132.396185 99.393889 \nL 142.140364 101.318177 \nL 151.884543 102.781498 \nL 161.628722 104.00983 \nL 171.372901 105.241221 \nL 181.11708 106.619106 \nL 190.861259 107.352095 \nL 200.605438 107.921623 \n\" clip-path=\"url(#p71e58b581f)\" style=\"fill: none; stroke: #1f77b4; stroke-width: 1.5; stroke-linecap: square\"/>\n   </g>\n   <g id=\"line2d_107\">\n    <path d=\"M 49.633125 15.024487 \nL 69.163125 78.632775 \nL 88.693125 96.130393 \nL 108.223125 102.777512 \nL 127.753125 107.096329 \nL 147.283125 108.774244 \nL 166.813125 112.058379 \nL 186.343125 112.828058 \n\" clip-path=\"url(#p71e58b581f)\" style=\"fill: none; stroke-dasharray: 5.55,2.4; stroke-dashoffset: 0; stroke: #ff7f0e; stroke-width: 1.5\"/>\n   </g>\n   <g id=\"line2d_108\">\n    <path d=\"M 49.633125 139.5 \nL 69.163125 119.179863 \nL 88.693125 115.089407 \nL 108.223125 111.533533 \nL 127.753125 109.977838 \nL 147.283125 110.344237 \nL 166.813125 108.620359 \nL 186.343125 107.995679 \n\" clip-path=\"url(#p71e58b581f)\" style=\"fill: none; stroke-dasharray: 9.6,2.4,1.5,2.4; stroke-dashoffset: 0; stroke: #2ca02c; stroke-width: 1.5\"/>\n   </g>\n   <g id=\"line2d_109\">\n    <path d=\"M 34.954394 13.5 \nL 44.698573 14.181367 \nL 54.442752 17.48277 \nL 64.186931 47.89202 \nL 73.93111 73.307084 \nL 83.675289 83.866508 \nL 93.419468 89.153846 \nL 103.163647 92.570219 \nL 112.907826 95.52943 \nL 122.652006 97.414351 \nL 132.396185 99.393889 \nL 142.140364 101.318177 \nL 151.884543 102.781498 \nL 161.628722 104.00983 \nL 171.372901 105.241221 \nL 181.11708 106.619106 \nL 190.861259 107.352095 \nL 200.605438 107.921623 \n\" clip-path=\"url(#p71e58b581f)\" style=\"fill: none; stroke: #1f77b4; stroke-width: 1.5; stroke-linecap: square\"/>\n   </g>\n   <g id=\"line2d_110\">\n    <path d=\"M 49.633125 15.024487 \nL 69.163125 78.632775 \nL 88.693125 96.130393 \nL 108.223125 102.777512 \nL 127.753125 107.096329 \nL 147.283125 108.774244 \nL 166.813125 112.058379 \nL 186.343125 112.828058 \nL 205.873125 115.406385 \n\" clip-path=\"url(#p71e58b581f)\" style=\"fill: none; stroke-dasharray: 5.55,2.4; stroke-dashoffset: 0; stroke: #ff7f0e; stroke-width: 1.5\"/>\n   </g>\n   <g id=\"line2d_111\">\n    <path d=\"M 49.633125 139.5 \nL 69.163125 119.179863 \nL 88.693125 115.089407 \nL 108.223125 111.533533 \nL 127.753125 109.977838 \nL 147.283125 110.344237 \nL 166.813125 108.620359 \nL 186.343125 107.995679 \n\" clip-path=\"url(#p71e58b581f)\" style=\"fill: none; stroke-dasharray: 9.6,2.4,1.5,2.4; stroke-dashoffset: 0; stroke: #2ca02c; stroke-width: 1.5\"/>\n   </g>\n   <g id=\"line2d_112\">\n    <path d=\"M 34.954394 13.5 \nL 44.698573 14.181367 \nL 54.442752 17.48277 \nL 64.186931 47.89202 \nL 73.93111 73.307084 \nL 83.675289 83.866508 \nL 93.419468 89.153846 \nL 103.163647 92.570219 \nL 112.907826 95.52943 \nL 122.652006 97.414351 \nL 132.396185 99.393889 \nL 142.140364 101.318177 \nL 151.884543 102.781498 \nL 161.628722 104.00983 \nL 171.372901 105.241221 \nL 181.11708 106.619106 \nL 190.861259 107.352095 \nL 200.605438 107.921623 \n\" clip-path=\"url(#p71e58b581f)\" style=\"fill: none; stroke: #1f77b4; stroke-width: 1.5; stroke-linecap: square\"/>\n   </g>\n   <g id=\"line2d_113\">\n    <path d=\"M 49.633125 15.024487 \nL 69.163125 78.632775 \nL 88.693125 96.130393 \nL 108.223125 102.777512 \nL 127.753125 107.096329 \nL 147.283125 108.774244 \nL 166.813125 112.058379 \nL 186.343125 112.828058 \nL 205.873125 115.406385 \n\" clip-path=\"url(#p71e58b581f)\" style=\"fill: none; stroke-dasharray: 5.55,2.4; stroke-dashoffset: 0; stroke: #ff7f0e; stroke-width: 1.5\"/>\n   </g>\n   <g id=\"line2d_114\">\n    <path d=\"M 49.633125 139.5 \nL 69.163125 119.179863 \nL 88.693125 115.089407 \nL 108.223125 111.533533 \nL 127.753125 109.977838 \nL 147.283125 110.344237 \nL 166.813125 108.620359 \nL 186.343125 107.995679 \nL 205.873125 106.998592 \n\" clip-path=\"url(#p71e58b581f)\" style=\"fill: none; stroke-dasharray: 9.6,2.4,1.5,2.4; stroke-dashoffset: 0; stroke: #2ca02c; stroke-width: 1.5\"/>\n   </g>\n   <g id=\"line2d_115\">\n    <path d=\"M 34.954394 13.5 \nL 44.698573 14.181367 \nL 54.442752 17.48277 \nL 64.186931 47.89202 \nL 73.93111 73.307084 \nL 83.675289 83.866508 \nL 93.419468 89.153846 \nL 103.163647 92.570219 \nL 112.907826 95.52943 \nL 122.652006 97.414351 \nL 132.396185 99.393889 \nL 142.140364 101.318177 \nL 151.884543 102.781498 \nL 161.628722 104.00983 \nL 171.372901 105.241221 \nL 181.11708 106.619106 \nL 190.861259 107.352095 \nL 200.605438 107.921623 \nL 210.349618 108.595125 \n\" clip-path=\"url(#p71e58b581f)\" style=\"fill: none; stroke: #1f77b4; stroke-width: 1.5; stroke-linecap: square\"/>\n   </g>\n   <g id=\"line2d_116\">\n    <path d=\"M 49.633125 15.024487 \nL 69.163125 78.632775 \nL 88.693125 96.130393 \nL 108.223125 102.777512 \nL 127.753125 107.096329 \nL 147.283125 108.774244 \nL 166.813125 112.058379 \nL 186.343125 112.828058 \nL 205.873125 115.406385 \n\" clip-path=\"url(#p71e58b581f)\" style=\"fill: none; stroke-dasharray: 5.55,2.4; stroke-dashoffset: 0; stroke: #ff7f0e; stroke-width: 1.5\"/>\n   </g>\n   <g id=\"line2d_117\">\n    <path d=\"M 49.633125 139.5 \nL 69.163125 119.179863 \nL 88.693125 115.089407 \nL 108.223125 111.533533 \nL 127.753125 109.977838 \nL 147.283125 110.344237 \nL 166.813125 108.620359 \nL 186.343125 107.995679 \nL 205.873125 106.998592 \n\" clip-path=\"url(#p71e58b581f)\" style=\"fill: none; stroke-dasharray: 9.6,2.4,1.5,2.4; stroke-dashoffset: 0; stroke: #2ca02c; stroke-width: 1.5\"/>\n   </g>\n   <g id=\"line2d_118\">\n    <path d=\"M 34.954394 13.5 \nL 44.698573 14.181367 \nL 54.442752 17.48277 \nL 64.186931 47.89202 \nL 73.93111 73.307084 \nL 83.675289 83.866508 \nL 93.419468 89.153846 \nL 103.163647 92.570219 \nL 112.907826 95.52943 \nL 122.652006 97.414351 \nL 132.396185 99.393889 \nL 142.140364 101.318177 \nL 151.884543 102.781498 \nL 161.628722 104.00983 \nL 171.372901 105.241221 \nL 181.11708 106.619106 \nL 190.861259 107.352095 \nL 200.605438 107.921623 \nL 210.349618 108.595125 \nL 220.093797 109.872665 \n\" clip-path=\"url(#p71e58b581f)\" style=\"fill: none; stroke: #1f77b4; stroke-width: 1.5; stroke-linecap: square\"/>\n   </g>\n   <g id=\"line2d_119\">\n    <path d=\"M 49.633125 15.024487 \nL 69.163125 78.632775 \nL 88.693125 96.130393 \nL 108.223125 102.777512 \nL 127.753125 107.096329 \nL 147.283125 108.774244 \nL 166.813125 112.058379 \nL 186.343125 112.828058 \nL 205.873125 115.406385 \n\" clip-path=\"url(#p71e58b581f)\" style=\"fill: none; stroke-dasharray: 5.55,2.4; stroke-dashoffset: 0; stroke: #ff7f0e; stroke-width: 1.5\"/>\n   </g>\n   <g id=\"line2d_120\">\n    <path d=\"M 49.633125 139.5 \nL 69.163125 119.179863 \nL 88.693125 115.089407 \nL 108.223125 111.533533 \nL 127.753125 109.977838 \nL 147.283125 110.344237 \nL 166.813125 108.620359 \nL 186.343125 107.995679 \nL 205.873125 106.998592 \n\" clip-path=\"url(#p71e58b581f)\" style=\"fill: none; stroke-dasharray: 9.6,2.4,1.5,2.4; stroke-dashoffset: 0; stroke: #2ca02c; stroke-width: 1.5\"/>\n   </g>\n   <g id=\"line2d_121\">\n    <path d=\"M 34.954394 13.5 \nL 44.698573 14.181367 \nL 54.442752 17.48277 \nL 64.186931 47.89202 \nL 73.93111 73.307084 \nL 83.675289 83.866508 \nL 93.419468 89.153846 \nL 103.163647 92.570219 \nL 112.907826 95.52943 \nL 122.652006 97.414351 \nL 132.396185 99.393889 \nL 142.140364 101.318177 \nL 151.884543 102.781498 \nL 161.628722 104.00983 \nL 171.372901 105.241221 \nL 181.11708 106.619106 \nL 190.861259 107.352095 \nL 200.605438 107.921623 \nL 210.349618 108.595125 \nL 220.093797 109.872665 \n\" clip-path=\"url(#p71e58b581f)\" style=\"fill: none; stroke: #1f77b4; stroke-width: 1.5; stroke-linecap: square\"/>\n   </g>\n   <g id=\"line2d_122\">\n    <path d=\"M 49.633125 15.024487 \nL 69.163125 78.632775 \nL 88.693125 96.130393 \nL 108.223125 102.777512 \nL 127.753125 107.096329 \nL 147.283125 108.774244 \nL 166.813125 112.058379 \nL 186.343125 112.828058 \nL 205.873125 115.406385 \nL 225.403125 116.321191 \n\" clip-path=\"url(#p71e58b581f)\" style=\"fill: none; stroke-dasharray: 5.55,2.4; stroke-dashoffset: 0; stroke: #ff7f0e; stroke-width: 1.5\"/>\n   </g>\n   <g id=\"line2d_123\">\n    <path d=\"M 49.633125 139.5 \nL 69.163125 119.179863 \nL 88.693125 115.089407 \nL 108.223125 111.533533 \nL 127.753125 109.977838 \nL 147.283125 110.344237 \nL 166.813125 108.620359 \nL 186.343125 107.995679 \nL 205.873125 106.998592 \n\" clip-path=\"url(#p71e58b581f)\" style=\"fill: none; stroke-dasharray: 9.6,2.4,1.5,2.4; stroke-dashoffset: 0; stroke: #2ca02c; stroke-width: 1.5\"/>\n   </g>\n   <g id=\"line2d_124\">\n    <path d=\"M 34.954394 13.5 \nL 44.698573 14.181367 \nL 54.442752 17.48277 \nL 64.186931 47.89202 \nL 73.93111 73.307084 \nL 83.675289 83.866508 \nL 93.419468 89.153846 \nL 103.163647 92.570219 \nL 112.907826 95.52943 \nL 122.652006 97.414351 \nL 132.396185 99.393889 \nL 142.140364 101.318177 \nL 151.884543 102.781498 \nL 161.628722 104.00983 \nL 171.372901 105.241221 \nL 181.11708 106.619106 \nL 190.861259 107.352095 \nL 200.605438 107.921623 \nL 210.349618 108.595125 \nL 220.093797 109.872665 \n\" clip-path=\"url(#p71e58b581f)\" style=\"fill: none; stroke: #1f77b4; stroke-width: 1.5; stroke-linecap: square\"/>\n   </g>\n   <g id=\"line2d_125\">\n    <path d=\"M 49.633125 15.024487 \nL 69.163125 78.632775 \nL 88.693125 96.130393 \nL 108.223125 102.777512 \nL 127.753125 107.096329 \nL 147.283125 108.774244 \nL 166.813125 112.058379 \nL 186.343125 112.828058 \nL 205.873125 115.406385 \nL 225.403125 116.321191 \n\" clip-path=\"url(#p71e58b581f)\" style=\"fill: none; stroke-dasharray: 5.55,2.4; stroke-dashoffset: 0; stroke: #ff7f0e; stroke-width: 1.5\"/>\n   </g>\n   <g id=\"line2d_126\">\n    <path d=\"M 49.633125 139.5 \nL 69.163125 119.179863 \nL 88.693125 115.089407 \nL 108.223125 111.533533 \nL 127.753125 109.977838 \nL 147.283125 110.344237 \nL 166.813125 108.620359 \nL 186.343125 107.995679 \nL 205.873125 106.998592 \nL 225.403125 106.710278 \n\" clip-path=\"url(#p71e58b581f)\" style=\"fill: none; stroke-dasharray: 9.6,2.4,1.5,2.4; stroke-dashoffset: 0; stroke: #2ca02c; stroke-width: 1.5\"/>\n   </g>\n   <g id=\"patch_3\">\n    <path d=\"M 30.103125 145.8 \nL 30.103125 7.2 \n\" style=\"fill: none; stroke: #000000; stroke-width: 0.8; stroke-linejoin: miter; stroke-linecap: square\"/>\n   </g>\n   <g id=\"patch_4\">\n    <path d=\"M 225.403125 145.8 \nL 225.403125 7.2 \n\" style=\"fill: none; stroke: #000000; stroke-width: 0.8; stroke-linejoin: miter; stroke-linecap: square\"/>\n   </g>\n   <g id=\"patch_5\">\n    <path d=\"M 30.103125 145.8 \nL 225.403125 145.8 \n\" style=\"fill: none; stroke: #000000; stroke-width: 0.8; stroke-linejoin: miter; stroke-linecap: square\"/>\n   </g>\n   <g id=\"patch_6\">\n    <path d=\"M 30.103125 7.2 \nL 225.403125 7.2 \n\" style=\"fill: none; stroke: #000000; stroke-width: 0.8; stroke-linejoin: miter; stroke-linecap: square\"/>\n   </g>\n   <g id=\"legend_1\">\n    <g id=\"patch_7\">\n     <path d=\"M 138.8125 60.06875 \nL 218.403125 60.06875 \nQ 220.403125 60.06875 220.403125 58.06875 \nL 220.403125 14.2 \nQ 220.403125 12.2 218.403125 12.2 \nL 138.8125 12.2 \nQ 136.8125 12.2 136.8125 14.2 \nL 136.8125 58.06875 \nQ 136.8125 60.06875 138.8125 60.06875 \nz\n\" style=\"fill: #ffffff; opacity: 0.8; stroke: #cccccc; stroke-linejoin: miter\"/>\n    </g>\n    <g id=\"line2d_127\">\n     <path d=\"M 140.8125 20.298438 \nL 150.8125 20.298438 \nL 160.8125 20.298438 \n\" style=\"fill: none; stroke: #1f77b4; stroke-width: 1.5; stroke-linecap: square\"/>\n    </g>\n    <g id=\"text_12\">\n     <!-- train_loss -->\n     <g transform=\"translate(168.8125 23.798438) scale(0.1 -0.1)\">\n      <defs>\n       <path id=\"DejaVuSans-74\" d=\"M 1172 4494 \nL 1172 3500 \nL 2356 3500 \nL 2356 3053 \nL 1172 3053 \nL 1172 1153 \nQ 1172 725 1289 603 \nQ 1406 481 1766 481 \nL 2356 481 \nL 2356 0 \nL 1766 0 \nQ 1100 0 847 248 \nQ 594 497 594 1153 \nL 594 3053 \nL 172 3053 \nL 172 3500 \nL 594 3500 \nL 594 4494 \nL 1172 4494 \nz\n\" transform=\"scale(0.015625)\"/>\n       <path id=\"DejaVuSans-72\" d=\"M 2631 2963 \nQ 2534 3019 2420 3045 \nQ 2306 3072 2169 3072 \nQ 1681 3072 1420 2755 \nQ 1159 2438 1159 1844 \nL 1159 0 \nL 581 0 \nL 581 3500 \nL 1159 3500 \nL 1159 2956 \nQ 1341 3275 1631 3429 \nQ 1922 3584 2338 3584 \nQ 2397 3584 2469 3576 \nQ 2541 3569 2628 3553 \nL 2631 2963 \nz\n\" transform=\"scale(0.015625)\"/>\n       <path id=\"DejaVuSans-61\" d=\"M 2194 1759 \nQ 1497 1759 1228 1600 \nQ 959 1441 959 1056 \nQ 959 750 1161 570 \nQ 1363 391 1709 391 \nQ 2188 391 2477 730 \nQ 2766 1069 2766 1631 \nL 2766 1759 \nL 2194 1759 \nz\nM 3341 1997 \nL 3341 0 \nL 2766 0 \nL 2766 531 \nQ 2569 213 2275 61 \nQ 1981 -91 1556 -91 \nQ 1019 -91 701 211 \nQ 384 513 384 1019 \nQ 384 1609 779 1909 \nQ 1175 2209 1959 2209 \nL 2766 2209 \nL 2766 2266 \nQ 2766 2663 2505 2880 \nQ 2244 3097 1772 3097 \nQ 1472 3097 1187 3025 \nQ 903 2953 641 2809 \nL 641 3341 \nQ 956 3463 1253 3523 \nQ 1550 3584 1831 3584 \nQ 2591 3584 2966 3190 \nQ 3341 2797 3341 1997 \nz\n\" transform=\"scale(0.015625)\"/>\n       <path id=\"DejaVuSans-69\" d=\"M 603 3500 \nL 1178 3500 \nL 1178 0 \nL 603 0 \nL 603 3500 \nz\nM 603 4863 \nL 1178 4863 \nL 1178 4134 \nL 603 4134 \nL 603 4863 \nz\n\" transform=\"scale(0.015625)\"/>\n       <path id=\"DejaVuSans-6e\" d=\"M 3513 2113 \nL 3513 0 \nL 2938 0 \nL 2938 2094 \nQ 2938 2591 2744 2837 \nQ 2550 3084 2163 3084 \nQ 1697 3084 1428 2787 \nQ 1159 2491 1159 1978 \nL 1159 0 \nL 581 0 \nL 581 3500 \nL 1159 3500 \nL 1159 2956 \nQ 1366 3272 1645 3428 \nQ 1925 3584 2291 3584 \nQ 2894 3584 3203 3211 \nQ 3513 2838 3513 2113 \nz\n\" transform=\"scale(0.015625)\"/>\n       <path id=\"DejaVuSans-5f\" d=\"M 3263 -1063 \nL 3263 -1509 \nL -63 -1509 \nL -63 -1063 \nL 3263 -1063 \nz\n\" transform=\"scale(0.015625)\"/>\n       <path id=\"DejaVuSans-6c\" d=\"M 603 4863 \nL 1178 4863 \nL 1178 0 \nL 603 0 \nL 603 4863 \nz\n\" transform=\"scale(0.015625)\"/>\n       <path id=\"DejaVuSans-73\" d=\"M 2834 3397 \nL 2834 2853 \nQ 2591 2978 2328 3040 \nQ 2066 3103 1784 3103 \nQ 1356 3103 1142 2972 \nQ 928 2841 928 2578 \nQ 928 2378 1081 2264 \nQ 1234 2150 1697 2047 \nL 1894 2003 \nQ 2506 1872 2764 1633 \nQ 3022 1394 3022 966 \nQ 3022 478 2636 193 \nQ 2250 -91 1575 -91 \nQ 1294 -91 989 -36 \nQ 684 19 347 128 \nL 347 722 \nQ 666 556 975 473 \nQ 1284 391 1588 391 \nQ 1994 391 2212 530 \nQ 2431 669 2431 922 \nQ 2431 1156 2273 1281 \nQ 2116 1406 1581 1522 \nL 1381 1569 \nQ 847 1681 609 1914 \nQ 372 2147 372 2553 \nQ 372 3047 722 3315 \nQ 1072 3584 1716 3584 \nQ 2034 3584 2315 3537 \nQ 2597 3491 2834 3397 \nz\n\" transform=\"scale(0.015625)\"/>\n      </defs>\n      <use xlink:href=\"#DejaVuSans-74\"/>\n      <use xlink:href=\"#DejaVuSans-72\" x=\"39.208984\"/>\n      <use xlink:href=\"#DejaVuSans-61\" x=\"80.322266\"/>\n      <use xlink:href=\"#DejaVuSans-69\" x=\"141.601562\"/>\n      <use xlink:href=\"#DejaVuSans-6e\" x=\"169.384766\"/>\n      <use xlink:href=\"#DejaVuSans-5f\" x=\"232.763672\"/>\n      <use xlink:href=\"#DejaVuSans-6c\" x=\"282.763672\"/>\n      <use xlink:href=\"#DejaVuSans-6f\" x=\"310.546875\"/>\n      <use xlink:href=\"#DejaVuSans-73\" x=\"371.728516\"/>\n      <use xlink:href=\"#DejaVuSans-73\" x=\"423.828125\"/>\n     </g>\n    </g>\n    <g id=\"line2d_128\">\n     <path d=\"M 140.8125 35.254688 \nL 150.8125 35.254688 \nL 160.8125 35.254688 \n\" style=\"fill: none; stroke-dasharray: 5.55,2.4; stroke-dashoffset: 0; stroke: #ff7f0e; stroke-width: 1.5\"/>\n    </g>\n    <g id=\"text_13\">\n     <!-- val_loss -->\n     <g transform=\"translate(168.8125 38.754688) scale(0.1 -0.1)\">\n      <defs>\n       <path id=\"DejaVuSans-76\" d=\"M 191 3500 \nL 800 3500 \nL 1894 563 \nL 2988 3500 \nL 3597 3500 \nL 2284 0 \nL 1503 0 \nL 191 3500 \nz\n\" transform=\"scale(0.015625)\"/>\n      </defs>\n      <use xlink:href=\"#DejaVuSans-76\"/>\n      <use xlink:href=\"#DejaVuSans-61\" x=\"59.179688\"/>\n      <use xlink:href=\"#DejaVuSans-6c\" x=\"120.458984\"/>\n      <use xlink:href=\"#DejaVuSans-5f\" x=\"148.242188\"/>\n      <use xlink:href=\"#DejaVuSans-6c\" x=\"198.242188\"/>\n      <use xlink:href=\"#DejaVuSans-6f\" x=\"226.025391\"/>\n      <use xlink:href=\"#DejaVuSans-73\" x=\"287.207031\"/>\n      <use xlink:href=\"#DejaVuSans-73\" x=\"339.306641\"/>\n     </g>\n    </g>\n    <g id=\"line2d_129\">\n     <path d=\"M 140.8125 50.210938 \nL 150.8125 50.210938 \nL 160.8125 50.210938 \n\" style=\"fill: none; stroke-dasharray: 9.6,2.4,1.5,2.4; stroke-dashoffset: 0; stroke: #2ca02c; stroke-width: 1.5\"/>\n    </g>\n    <g id=\"text_14\">\n     <!-- val_acc -->\n     <g transform=\"translate(168.8125 53.710938) scale(0.1 -0.1)\">\n      <use xlink:href=\"#DejaVuSans-76\"/>\n      <use xlink:href=\"#DejaVuSans-61\" x=\"59.179688\"/>\n      <use xlink:href=\"#DejaVuSans-6c\" x=\"120.458984\"/>\n      <use xlink:href=\"#DejaVuSans-5f\" x=\"148.242188\"/>\n      <use xlink:href=\"#DejaVuSans-61\" x=\"198.242188\"/>\n      <use xlink:href=\"#DejaVuSans-63\" x=\"259.521484\"/>\n      <use xlink:href=\"#DejaVuSans-63\" x=\"314.501953\"/>\n     </g>\n    </g>\n   </g>\n  </g>\n </g>\n <defs>\n  <clipPath id=\"p71e58b581f\">\n   <rect x=\"30.103125\" y=\"7.2\" width=\"195.3\" height=\"138.6\"/>\n  </clipPath>\n </defs>\n</svg>\n"
          },
          "metadata": {}
        }
      ]
    },
    {
      "cell_type": "markdown",
      "source": [
        "### 8. Can you make AlexNet overfit? Which feature do you need to remove or change to break training?"
      ],
      "metadata": {
        "id": "SRut0G5ty7my"
      }
    },
    {
      "cell_type": "markdown",
      "source": [
        "Overfitting terjadi ketika model menunjukkan kinerja yang sangat baik pada data pelatihan tetapi tidak dapat menggeneralisasi dengan baik pada data yang tidak dikenal.\n",
        "\n",
        "Beberapa cara untuk membuat AlexNet overfit\n",
        "1. Data Pelatihan Terbatas\n",
        "\n",
        "  Kurangi ukuran dataset pelatihan secara drastis. Dengan dataset yang kecil, model bisa dengan mudah menghafal informasi, yang menyebabkan overfitting.\n",
        "2. Model yang Kompleks\n",
        "\n",
        "  Tingkatkan kapasitas model dengan menambah lebih banyak lapisan, unit, atau filter. Ini bisa menyebabkan model memiliki lebih banyak parameter daripada yang diperlukan untuk menyesuaikan dengan data pelatihan yang terbatas.\n",
        "3. Epochs yang Sedikit\n",
        "\n",
        "  Latih model hanya untuk jumlah epoch yang terbatas. Overfitting dapat terjadi jika model tidak memiliki cukup waktu untuk belajar pola yang relevan dari data."
      ],
      "metadata": {
        "id": "URrvzxL5y_VV"
      }
    },
    {
      "cell_type": "markdown",
      "source": [
        "# 8.2 Networks Using Blocks (VGG)"
      ],
      "metadata": {
        "id": "NDM8S3d20Msk"
      }
    },
    {
      "cell_type": "code",
      "source": [
        "import torch\n",
        "from torch import nn\n",
        "from d2l import torch as d2l"
      ],
      "metadata": {
        "id": "uIDWuk5q0TnU"
      },
      "execution_count": 5,
      "outputs": []
    },
    {
      "cell_type": "code",
      "source": [
        "def vgg_block(num_convs, out_channels):\n",
        "    layers = []\n",
        "    for _ in range(num_convs):\n",
        "        layers.append(nn.LazyConv2d(out_channels, kernel_size=3, padding=1))\n",
        "        layers.append(nn.ReLU())\n",
        "    layers.append(nn.MaxPool2d(kernel_size=2,stride=2))\n",
        "    return nn.Sequential(*layers)"
      ],
      "metadata": {
        "id": "W3rBRUi70Wk9"
      },
      "execution_count": 6,
      "outputs": []
    },
    {
      "cell_type": "code",
      "source": [
        "class VGG(d2l.Classifier):\n",
        "    def __init__(self, arch, lr=0.1, num_classes=10):\n",
        "        super().__init__()\n",
        "        self.save_hyperparameters()\n",
        "        conv_blks = []\n",
        "        for (num_convs, out_channels) in arch:\n",
        "            conv_blks.append(vgg_block(num_convs, out_channels))\n",
        "        self.net = nn.Sequential(\n",
        "            *conv_blks, nn.Flatten(),\n",
        "            nn.LazyLinear(4096), nn.ReLU(), nn.Dropout(0.5),\n",
        "            nn.LazyLinear(4096), nn.ReLU(), nn.Dropout(0.5),\n",
        "            nn.LazyLinear(num_classes))\n",
        "        self.net.apply(d2l.init_cnn)"
      ],
      "metadata": {
        "id": "9UWMh7DF0YzG"
      },
      "execution_count": 7,
      "outputs": []
    },
    {
      "cell_type": "code",
      "source": [
        "VGG(arch=((1, 64), (1, 128), (2, 256), (2, 512), (2, 512))).layer_summary(\n",
        "    (1, 1, 224, 224))"
      ],
      "metadata": {
        "id": "kk-8EFXu0bIo",
        "colab": {
          "base_uri": "https://localhost:8080/"
        },
        "outputId": "ae51718a-a762-4a13-d20a-823c40874828"
      },
      "execution_count": 8,
      "outputs": [
        {
          "output_type": "stream",
          "name": "stdout",
          "text": [
            "Sequential output shape:\t torch.Size([1, 64, 112, 112])\n",
            "Sequential output shape:\t torch.Size([1, 128, 56, 56])\n",
            "Sequential output shape:\t torch.Size([1, 256, 28, 28])\n",
            "Sequential output shape:\t torch.Size([1, 512, 14, 14])\n",
            "Sequential output shape:\t torch.Size([1, 512, 7, 7])\n",
            "Flatten output shape:\t torch.Size([1, 25088])\n",
            "Linear output shape:\t torch.Size([1, 4096])\n",
            "ReLU output shape:\t torch.Size([1, 4096])\n",
            "Dropout output shape:\t torch.Size([1, 4096])\n",
            "Linear output shape:\t torch.Size([1, 4096])\n",
            "ReLU output shape:\t torch.Size([1, 4096])\n",
            "Dropout output shape:\t torch.Size([1, 4096])\n",
            "Linear output shape:\t torch.Size([1, 10])\n"
          ]
        }
      ]
    },
    {
      "cell_type": "code",
      "source": [
        "model = VGG(arch=((1, 16), (1, 32), (2, 64), (2, 128), (2, 128)), lr=0.01)\n",
        "trainer = d2l.Trainer(max_epochs=10, num_gpus=1)\n",
        "data = d2l.FashionMNIST(batch_size=128, resize=(224, 224))\n",
        "model.apply_init([next(iter(data.get_dataloader(True)))[0]], d2l.init_cnn)\n",
        "trainer.fit(model, data)"
      ],
      "metadata": {
        "id": "6YVlpxzE0e8r",
        "colab": {
          "base_uri": "https://localhost:8080/",
          "height": 265
        },
        "outputId": "b0220477-dd36-48cb-b921-f8b6d6a2c316"
      },
      "execution_count": 9,
      "outputs": [
        {
          "output_type": "display_data",
          "data": {
            "text/plain": [
              "<Figure size 350x250 with 1 Axes>"
            ],
            "image/svg+xml": "<?xml version=\"1.0\" encoding=\"utf-8\" standalone=\"no\"?>\n<!DOCTYPE svg PUBLIC \"-//W3C//DTD SVG 1.1//EN\"\n  \"http://www.w3.org/Graphics/SVG/1.1/DTD/svg11.dtd\">\n<svg xmlns:xlink=\"http://www.w3.org/1999/xlink\" width=\"238.965625pt\" height=\"183.35625pt\" viewBox=\"0 0 238.965625 183.35625\" xmlns=\"http://www.w3.org/2000/svg\" version=\"1.1\">\n <metadata>\n  <rdf:RDF xmlns:dc=\"http://purl.org/dc/elements/1.1/\" xmlns:cc=\"http://creativecommons.org/ns#\" xmlns:rdf=\"http://www.w3.org/1999/02/22-rdf-syntax-ns#\">\n   <cc:Work>\n    <dc:type rdf:resource=\"http://purl.org/dc/dcmitype/StillImage\"/>\n    <dc:date>2024-10-04T14:18:34.603084</dc:date>\n    <dc:format>image/svg+xml</dc:format>\n    <dc:creator>\n     <cc:Agent>\n      <dc:title>Matplotlib v3.7.2, https://matplotlib.org/</dc:title>\n     </cc:Agent>\n    </dc:creator>\n   </cc:Work>\n  </rdf:RDF>\n </metadata>\n <defs>\n  <style type=\"text/css\">*{stroke-linejoin: round; stroke-linecap: butt}</style>\n </defs>\n <g id=\"figure_1\">\n  <g id=\"patch_1\">\n   <path d=\"M 0 183.35625 \nL 238.965625 183.35625 \nL 238.965625 0 \nL 0 0 \nz\n\" style=\"fill: #ffffff\"/>\n  </g>\n  <g id=\"axes_1\">\n   <g id=\"patch_2\">\n    <path d=\"M 30.103125 145.8 \nL 225.403125 145.8 \nL 225.403125 7.2 \nL 30.103125 7.2 \nz\n\" style=\"fill: #ffffff\"/>\n   </g>\n   <g id=\"matplotlib.axis_1\">\n    <g id=\"xtick_1\">\n     <g id=\"line2d_1\">\n      <defs>\n       <path id=\"m56fa87dd3c\" d=\"M 0 0 \nL 0 3.5 \n\" style=\"stroke: #000000; stroke-width: 0.8\"/>\n      </defs>\n      <g>\n       <use xlink:href=\"#m56fa87dd3c\" x=\"30.103125\" y=\"145.8\" style=\"stroke: #000000; stroke-width: 0.8\"/>\n      </g>\n     </g>\n     <g id=\"text_1\">\n      <!-- 0 -->\n      <g transform=\"translate(26.921875 160.398438) scale(0.1 -0.1)\">\n       <defs>\n        <path id=\"DejaVuSans-30\" d=\"M 2034 4250 \nQ 1547 4250 1301 3770 \nQ 1056 3291 1056 2328 \nQ 1056 1369 1301 889 \nQ 1547 409 2034 409 \nQ 2525 409 2770 889 \nQ 3016 1369 3016 2328 \nQ 3016 3291 2770 3770 \nQ 2525 4250 2034 4250 \nz\nM 2034 4750 \nQ 2819 4750 3233 4129 \nQ 3647 3509 3647 2328 \nQ 3647 1150 3233 529 \nQ 2819 -91 2034 -91 \nQ 1250 -91 836 529 \nQ 422 1150 422 2328 \nQ 422 3509 836 4129 \nQ 1250 4750 2034 4750 \nz\n\" transform=\"scale(0.015625)\"/>\n       </defs>\n       <use xlink:href=\"#DejaVuSans-30\"/>\n      </g>\n     </g>\n    </g>\n    <g id=\"xtick_2\">\n     <g id=\"line2d_2\">\n      <g>\n       <use xlink:href=\"#m56fa87dd3c\" x=\"69.163125\" y=\"145.8\" style=\"stroke: #000000; stroke-width: 0.8\"/>\n      </g>\n     </g>\n     <g id=\"text_2\">\n      <!-- 2 -->\n      <g transform=\"translate(65.981875 160.398438) scale(0.1 -0.1)\">\n       <defs>\n        <path id=\"DejaVuSans-32\" d=\"M 1228 531 \nL 3431 531 \nL 3431 0 \nL 469 0 \nL 469 531 \nQ 828 903 1448 1529 \nQ 2069 2156 2228 2338 \nQ 2531 2678 2651 2914 \nQ 2772 3150 2772 3378 \nQ 2772 3750 2511 3984 \nQ 2250 4219 1831 4219 \nQ 1534 4219 1204 4116 \nQ 875 4013 500 3803 \nL 500 4441 \nQ 881 4594 1212 4672 \nQ 1544 4750 1819 4750 \nQ 2544 4750 2975 4387 \nQ 3406 4025 3406 3419 \nQ 3406 3131 3298 2873 \nQ 3191 2616 2906 2266 \nQ 2828 2175 2409 1742 \nQ 1991 1309 1228 531 \nz\n\" transform=\"scale(0.015625)\"/>\n       </defs>\n       <use xlink:href=\"#DejaVuSans-32\"/>\n      </g>\n     </g>\n    </g>\n    <g id=\"xtick_3\">\n     <g id=\"line2d_3\">\n      <g>\n       <use xlink:href=\"#m56fa87dd3c\" x=\"108.223125\" y=\"145.8\" style=\"stroke: #000000; stroke-width: 0.8\"/>\n      </g>\n     </g>\n     <g id=\"text_3\">\n      <!-- 4 -->\n      <g transform=\"translate(105.041875 160.398438) scale(0.1 -0.1)\">\n       <defs>\n        <path id=\"DejaVuSans-34\" d=\"M 2419 4116 \nL 825 1625 \nL 2419 1625 \nL 2419 4116 \nz\nM 2253 4666 \nL 3047 4666 \nL 3047 1625 \nL 3713 1625 \nL 3713 1100 \nL 3047 1100 \nL 3047 0 \nL 2419 0 \nL 2419 1100 \nL 313 1100 \nL 313 1709 \nL 2253 4666 \nz\n\" transform=\"scale(0.015625)\"/>\n       </defs>\n       <use xlink:href=\"#DejaVuSans-34\"/>\n      </g>\n     </g>\n    </g>\n    <g id=\"xtick_4\">\n     <g id=\"line2d_4\">\n      <g>\n       <use xlink:href=\"#m56fa87dd3c\" x=\"147.283125\" y=\"145.8\" style=\"stroke: #000000; stroke-width: 0.8\"/>\n      </g>\n     </g>\n     <g id=\"text_4\">\n      <!-- 6 -->\n      <g transform=\"translate(144.101875 160.398438) scale(0.1 -0.1)\">\n       <defs>\n        <path id=\"DejaVuSans-36\" d=\"M 2113 2584 \nQ 1688 2584 1439 2293 \nQ 1191 2003 1191 1497 \nQ 1191 994 1439 701 \nQ 1688 409 2113 409 \nQ 2538 409 2786 701 \nQ 3034 994 3034 1497 \nQ 3034 2003 2786 2293 \nQ 2538 2584 2113 2584 \nz\nM 3366 4563 \nL 3366 3988 \nQ 3128 4100 2886 4159 \nQ 2644 4219 2406 4219 \nQ 1781 4219 1451 3797 \nQ 1122 3375 1075 2522 \nQ 1259 2794 1537 2939 \nQ 1816 3084 2150 3084 \nQ 2853 3084 3261 2657 \nQ 3669 2231 3669 1497 \nQ 3669 778 3244 343 \nQ 2819 -91 2113 -91 \nQ 1303 -91 875 529 \nQ 447 1150 447 2328 \nQ 447 3434 972 4092 \nQ 1497 4750 2381 4750 \nQ 2619 4750 2861 4703 \nQ 3103 4656 3366 4563 \nz\n\" transform=\"scale(0.015625)\"/>\n       </defs>\n       <use xlink:href=\"#DejaVuSans-36\"/>\n      </g>\n     </g>\n    </g>\n    <g id=\"xtick_5\">\n     <g id=\"line2d_5\">\n      <g>\n       <use xlink:href=\"#m56fa87dd3c\" x=\"186.343125\" y=\"145.8\" style=\"stroke: #000000; stroke-width: 0.8\"/>\n      </g>\n     </g>\n     <g id=\"text_5\">\n      <!-- 8 -->\n      <g transform=\"translate(183.161875 160.398438) scale(0.1 -0.1)\">\n       <defs>\n        <path id=\"DejaVuSans-38\" d=\"M 2034 2216 \nQ 1584 2216 1326 1975 \nQ 1069 1734 1069 1313 \nQ 1069 891 1326 650 \nQ 1584 409 2034 409 \nQ 2484 409 2743 651 \nQ 3003 894 3003 1313 \nQ 3003 1734 2745 1975 \nQ 2488 2216 2034 2216 \nz\nM 1403 2484 \nQ 997 2584 770 2862 \nQ 544 3141 544 3541 \nQ 544 4100 942 4425 \nQ 1341 4750 2034 4750 \nQ 2731 4750 3128 4425 \nQ 3525 4100 3525 3541 \nQ 3525 3141 3298 2862 \nQ 3072 2584 2669 2484 \nQ 3125 2378 3379 2068 \nQ 3634 1759 3634 1313 \nQ 3634 634 3220 271 \nQ 2806 -91 2034 -91 \nQ 1263 -91 848 271 \nQ 434 634 434 1313 \nQ 434 1759 690 2068 \nQ 947 2378 1403 2484 \nz\nM 1172 3481 \nQ 1172 3119 1398 2916 \nQ 1625 2713 2034 2713 \nQ 2441 2713 2670 2916 \nQ 2900 3119 2900 3481 \nQ 2900 3844 2670 4047 \nQ 2441 4250 2034 4250 \nQ 1625 4250 1398 4047 \nQ 1172 3844 1172 3481 \nz\n\" transform=\"scale(0.015625)\"/>\n       </defs>\n       <use xlink:href=\"#DejaVuSans-38\"/>\n      </g>\n     </g>\n    </g>\n    <g id=\"xtick_6\">\n     <g id=\"line2d_6\">\n      <g>\n       <use xlink:href=\"#m56fa87dd3c\" x=\"225.403125\" y=\"145.8\" style=\"stroke: #000000; stroke-width: 0.8\"/>\n      </g>\n     </g>\n     <g id=\"text_6\">\n      <!-- 10 -->\n      <g transform=\"translate(219.040625 160.398438) scale(0.1 -0.1)\">\n       <defs>\n        <path id=\"DejaVuSans-31\" d=\"M 794 531 \nL 1825 531 \nL 1825 4091 \nL 703 3866 \nL 703 4441 \nL 1819 4666 \nL 2450 4666 \nL 2450 531 \nL 3481 531 \nL 3481 0 \nL 794 0 \nL 794 531 \nz\n\" transform=\"scale(0.015625)\"/>\n       </defs>\n       <use xlink:href=\"#DejaVuSans-31\"/>\n       <use xlink:href=\"#DejaVuSans-30\" x=\"63.623047\"/>\n      </g>\n     </g>\n    </g>\n    <g id=\"text_7\">\n     <!-- epoch -->\n     <g transform=\"translate(112.525 174.076563) scale(0.1 -0.1)\">\n      <defs>\n       <path id=\"DejaVuSans-65\" d=\"M 3597 1894 \nL 3597 1613 \nL 953 1613 \nQ 991 1019 1311 708 \nQ 1631 397 2203 397 \nQ 2534 397 2845 478 \nQ 3156 559 3463 722 \nL 3463 178 \nQ 3153 47 2828 -22 \nQ 2503 -91 2169 -91 \nQ 1331 -91 842 396 \nQ 353 884 353 1716 \nQ 353 2575 817 3079 \nQ 1281 3584 2069 3584 \nQ 2775 3584 3186 3129 \nQ 3597 2675 3597 1894 \nz\nM 3022 2063 \nQ 3016 2534 2758 2815 \nQ 2500 3097 2075 3097 \nQ 1594 3097 1305 2825 \nQ 1016 2553 972 2059 \nL 3022 2063 \nz\n\" transform=\"scale(0.015625)\"/>\n       <path id=\"DejaVuSans-70\" d=\"M 1159 525 \nL 1159 -1331 \nL 581 -1331 \nL 581 3500 \nL 1159 3500 \nL 1159 2969 \nQ 1341 3281 1617 3432 \nQ 1894 3584 2278 3584 \nQ 2916 3584 3314 3078 \nQ 3713 2572 3713 1747 \nQ 3713 922 3314 415 \nQ 2916 -91 2278 -91 \nQ 1894 -91 1617 61 \nQ 1341 213 1159 525 \nz\nM 3116 1747 \nQ 3116 2381 2855 2742 \nQ 2594 3103 2138 3103 \nQ 1681 3103 1420 2742 \nQ 1159 2381 1159 1747 \nQ 1159 1113 1420 752 \nQ 1681 391 2138 391 \nQ 2594 391 2855 752 \nQ 3116 1113 3116 1747 \nz\n\" transform=\"scale(0.015625)\"/>\n       <path id=\"DejaVuSans-6f\" d=\"M 1959 3097 \nQ 1497 3097 1228 2736 \nQ 959 2375 959 1747 \nQ 959 1119 1226 758 \nQ 1494 397 1959 397 \nQ 2419 397 2687 759 \nQ 2956 1122 2956 1747 \nQ 2956 2369 2687 2733 \nQ 2419 3097 1959 3097 \nz\nM 1959 3584 \nQ 2709 3584 3137 3096 \nQ 3566 2609 3566 1747 \nQ 3566 888 3137 398 \nQ 2709 -91 1959 -91 \nQ 1206 -91 779 398 \nQ 353 888 353 1747 \nQ 353 2609 779 3096 \nQ 1206 3584 1959 3584 \nz\n\" transform=\"scale(0.015625)\"/>\n       <path id=\"DejaVuSans-63\" d=\"M 3122 3366 \nL 3122 2828 \nQ 2878 2963 2633 3030 \nQ 2388 3097 2138 3097 \nQ 1578 3097 1268 2742 \nQ 959 2388 959 1747 \nQ 959 1106 1268 751 \nQ 1578 397 2138 397 \nQ 2388 397 2633 464 \nQ 2878 531 3122 666 \nL 3122 134 \nQ 2881 22 2623 -34 \nQ 2366 -91 2075 -91 \nQ 1284 -91 818 406 \nQ 353 903 353 1747 \nQ 353 2603 823 3093 \nQ 1294 3584 2113 3584 \nQ 2378 3584 2631 3529 \nQ 2884 3475 3122 3366 \nz\n\" transform=\"scale(0.015625)\"/>\n       <path id=\"DejaVuSans-68\" d=\"M 3513 2113 \nL 3513 0 \nL 2938 0 \nL 2938 2094 \nQ 2938 2591 2744 2837 \nQ 2550 3084 2163 3084 \nQ 1697 3084 1428 2787 \nQ 1159 2491 1159 1978 \nL 1159 0 \nL 581 0 \nL 581 4863 \nL 1159 4863 \nL 1159 2956 \nQ 1366 3272 1645 3428 \nQ 1925 3584 2291 3584 \nQ 2894 3584 3203 3211 \nQ 3513 2838 3513 2113 \nz\n\" transform=\"scale(0.015625)\"/>\n      </defs>\n      <use xlink:href=\"#DejaVuSans-65\"/>\n      <use xlink:href=\"#DejaVuSans-70\" x=\"61.523438\"/>\n      <use xlink:href=\"#DejaVuSans-6f\" x=\"125\"/>\n      <use xlink:href=\"#DejaVuSans-63\" x=\"186.181641\"/>\n      <use xlink:href=\"#DejaVuSans-68\" x=\"241.162109\"/>\n     </g>\n    </g>\n   </g>\n   <g id=\"matplotlib.axis_2\">\n    <g id=\"ytick_1\">\n     <g id=\"line2d_7\">\n      <defs>\n       <path id=\"me45b3e418d\" d=\"M 0 0 \nL -3.5 0 \n\" style=\"stroke: #000000; stroke-width: 0.8\"/>\n      </defs>\n      <g>\n       <use xlink:href=\"#me45b3e418d\" x=\"30.103125\" y=\"125.414212\" style=\"stroke: #000000; stroke-width: 0.8\"/>\n      </g>\n     </g>\n     <g id=\"text_8\">\n      <!-- 0.5 -->\n      <g transform=\"translate(7.2 129.21343) scale(0.1 -0.1)\">\n       <defs>\n        <path id=\"DejaVuSans-2e\" d=\"M 684 794 \nL 1344 794 \nL 1344 0 \nL 684 0 \nL 684 794 \nz\n\" transform=\"scale(0.015625)\"/>\n        <path id=\"DejaVuSans-35\" d=\"M 691 4666 \nL 3169 4666 \nL 3169 4134 \nL 1269 4134 \nL 1269 2991 \nQ 1406 3038 1543 3061 \nQ 1681 3084 1819 3084 \nQ 2600 3084 3056 2656 \nQ 3513 2228 3513 1497 \nQ 3513 744 3044 326 \nQ 2575 -91 1722 -91 \nQ 1428 -91 1123 -41 \nQ 819 9 494 109 \nL 494 744 \nQ 775 591 1075 516 \nQ 1375 441 1709 441 \nQ 2250 441 2565 725 \nQ 2881 1009 2881 1497 \nQ 2881 1984 2565 2268 \nQ 2250 2553 1709 2553 \nQ 1456 2553 1204 2497 \nQ 953 2441 691 2322 \nL 691 4666 \nz\n\" transform=\"scale(0.015625)\"/>\n       </defs>\n       <use xlink:href=\"#DejaVuSans-30\"/>\n       <use xlink:href=\"#DejaVuSans-2e\" x=\"63.623047\"/>\n       <use xlink:href=\"#DejaVuSans-35\" x=\"95.410156\"/>\n      </g>\n     </g>\n    </g>\n    <g id=\"ytick_2\">\n     <g id=\"line2d_8\">\n      <g>\n       <use xlink:href=\"#me45b3e418d\" x=\"30.103125\" y=\"92.431413\" style=\"stroke: #000000; stroke-width: 0.8\"/>\n      </g>\n     </g>\n     <g id=\"text_9\">\n      <!-- 1.0 -->\n      <g transform=\"translate(7.2 96.230632) scale(0.1 -0.1)\">\n       <use xlink:href=\"#DejaVuSans-31\"/>\n       <use xlink:href=\"#DejaVuSans-2e\" x=\"63.623047\"/>\n       <use xlink:href=\"#DejaVuSans-30\" x=\"95.410156\"/>\n      </g>\n     </g>\n    </g>\n    <g id=\"ytick_3\">\n     <g id=\"line2d_9\">\n      <g>\n       <use xlink:href=\"#me45b3e418d\" x=\"30.103125\" y=\"59.448614\" style=\"stroke: #000000; stroke-width: 0.8\"/>\n      </g>\n     </g>\n     <g id=\"text_10\">\n      <!-- 1.5 -->\n      <g transform=\"translate(7.2 63.247833) scale(0.1 -0.1)\">\n       <use xlink:href=\"#DejaVuSans-31\"/>\n       <use xlink:href=\"#DejaVuSans-2e\" x=\"63.623047\"/>\n       <use xlink:href=\"#DejaVuSans-35\" x=\"95.410156\"/>\n      </g>\n     </g>\n    </g>\n    <g id=\"ytick_4\">\n     <g id=\"line2d_10\">\n      <g>\n       <use xlink:href=\"#me45b3e418d\" x=\"30.103125\" y=\"26.465816\" style=\"stroke: #000000; stroke-width: 0.8\"/>\n      </g>\n     </g>\n     <g id=\"text_11\">\n      <!-- 2.0 -->\n      <g transform=\"translate(7.2 30.265034) scale(0.1 -0.1)\">\n       <use xlink:href=\"#DejaVuSans-32\"/>\n       <use xlink:href=\"#DejaVuSans-2e\" x=\"63.623047\"/>\n       <use xlink:href=\"#DejaVuSans-30\" x=\"95.410156\"/>\n      </g>\n     </g>\n    </g>\n   </g>\n   <g id=\"line2d_11\">\n    <path d=\"M 34.954394 13.5 \n\" clip-path=\"url(#pe2eb0780d5)\" style=\"fill: none; stroke: #1f77b4; stroke-width: 1.5; stroke-linecap: square\"/>\n   </g>\n   <g id=\"line2d_12\">\n    <path d=\"M 34.954394 13.5 \nL 44.698573 97.409449 \n\" clip-path=\"url(#pe2eb0780d5)\" style=\"fill: none; stroke: #1f77b4; stroke-width: 1.5; stroke-linecap: square\"/>\n   </g>\n   <g id=\"line2d_13\">\n    <path d=\"M 34.954394 13.5 \nL 44.698573 97.409449 \n\" clip-path=\"url(#pe2eb0780d5)\" style=\"fill: none; stroke: #1f77b4; stroke-width: 1.5; stroke-linecap: square\"/>\n   </g>\n   <g id=\"line2d_14\">\n    <path d=\"M 49.633125 112.615751 \n\" clip-path=\"url(#pe2eb0780d5)\" style=\"fill: none; stroke-dasharray: 5.55,2.4; stroke-dashoffset: 0; stroke: #ff7f0e; stroke-width: 1.5\"/>\n   </g>\n   <g id=\"line2d_15\"/>\n   <g id=\"line2d_16\">\n    <path d=\"M 34.954394 13.5 \nL 44.698573 97.409449 \n\" clip-path=\"url(#pe2eb0780d5)\" style=\"fill: none; stroke: #1f77b4; stroke-width: 1.5; stroke-linecap: square\"/>\n   </g>\n   <g id=\"line2d_17\">\n    <path d=\"M 49.633125 112.615751 \n\" clip-path=\"url(#pe2eb0780d5)\" style=\"fill: none; stroke-dasharray: 5.55,2.4; stroke-dashoffset: 0; stroke: #ff7f0e; stroke-width: 1.5\"/>\n   </g>\n   <g id=\"line2d_18\">\n    <path d=\"M 49.633125 109.509927 \n\" clip-path=\"url(#pe2eb0780d5)\" style=\"fill: none; stroke-dasharray: 9.6,2.4,1.5,2.4; stroke-dashoffset: 0; stroke: #2ca02c; stroke-width: 1.5\"/>\n   </g>\n   <g id=\"line2d_19\">\n    <path d=\"M 34.954394 13.5 \nL 44.698573 97.409449 \nL 54.442752 114.328923 \n\" clip-path=\"url(#pe2eb0780d5)\" style=\"fill: none; stroke: #1f77b4; stroke-width: 1.5; stroke-linecap: square\"/>\n   </g>\n   <g id=\"line2d_20\">\n    <path d=\"M 49.633125 112.615751 \n\" clip-path=\"url(#pe2eb0780d5)\" style=\"fill: none; stroke-dasharray: 5.55,2.4; stroke-dashoffset: 0; stroke: #ff7f0e; stroke-width: 1.5\"/>\n   </g>\n   <g id=\"line2d_21\">\n    <path d=\"M 49.633125 109.509927 \n\" clip-path=\"url(#pe2eb0780d5)\" style=\"fill: none; stroke-dasharray: 9.6,2.4,1.5,2.4; stroke-dashoffset: 0; stroke: #2ca02c; stroke-width: 1.5\"/>\n   </g>\n   <g id=\"line2d_22\">\n    <path d=\"M 34.954394 13.5 \nL 44.698573 97.409449 \nL 54.442752 114.328923 \nL 64.186931 121.238299 \n\" clip-path=\"url(#pe2eb0780d5)\" style=\"fill: none; stroke: #1f77b4; stroke-width: 1.5; stroke-linecap: square\"/>\n   </g>\n   <g id=\"line2d_23\">\n    <path d=\"M 49.633125 112.615751 \n\" clip-path=\"url(#pe2eb0780d5)\" style=\"fill: none; stroke-dasharray: 5.55,2.4; stroke-dashoffset: 0; stroke: #ff7f0e; stroke-width: 1.5\"/>\n   </g>\n   <g id=\"line2d_24\">\n    <path d=\"M 49.633125 109.509927 \n\" clip-path=\"url(#pe2eb0780d5)\" style=\"fill: none; stroke-dasharray: 9.6,2.4,1.5,2.4; stroke-dashoffset: 0; stroke: #2ca02c; stroke-width: 1.5\"/>\n   </g>\n   <g id=\"line2d_25\">\n    <path d=\"M 34.954394 13.5 \nL 44.698573 97.409449 \nL 54.442752 114.328923 \nL 64.186931 121.238299 \n\" clip-path=\"url(#pe2eb0780d5)\" style=\"fill: none; stroke: #1f77b4; stroke-width: 1.5; stroke-linecap: square\"/>\n   </g>\n   <g id=\"line2d_26\">\n    <path d=\"M 49.633125 112.615751 \nL 69.163125 127.191017 \n\" clip-path=\"url(#pe2eb0780d5)\" style=\"fill: none; stroke-dasharray: 5.55,2.4; stroke-dashoffset: 0; stroke: #ff7f0e; stroke-width: 1.5\"/>\n   </g>\n   <g id=\"line2d_27\">\n    <path d=\"M 49.633125 109.509927 \n\" clip-path=\"url(#pe2eb0780d5)\" style=\"fill: none; stroke-dasharray: 9.6,2.4,1.5,2.4; stroke-dashoffset: 0; stroke: #2ca02c; stroke-width: 1.5\"/>\n   </g>\n   <g id=\"line2d_28\">\n    <path d=\"M 34.954394 13.5 \nL 44.698573 97.409449 \nL 54.442752 114.328923 \nL 64.186931 121.238299 \n\" clip-path=\"url(#pe2eb0780d5)\" style=\"fill: none; stroke: #1f77b4; stroke-width: 1.5; stroke-linecap: square\"/>\n   </g>\n   <g id=\"line2d_29\">\n    <path d=\"M 49.633125 112.615751 \nL 69.163125 127.191017 \n\" clip-path=\"url(#pe2eb0780d5)\" style=\"fill: none; stroke-dasharray: 5.55,2.4; stroke-dashoffset: 0; stroke: #ff7f0e; stroke-width: 1.5\"/>\n   </g>\n   <g id=\"line2d_30\">\n    <path d=\"M 49.633125 109.509927 \nL 69.163125 103.736633 \n\" clip-path=\"url(#pe2eb0780d5)\" style=\"fill: none; stroke-dasharray: 9.6,2.4,1.5,2.4; stroke-dashoffset: 0; stroke: #2ca02c; stroke-width: 1.5\"/>\n   </g>\n   <g id=\"line2d_31\">\n    <path d=\"M 34.954394 13.5 \nL 44.698573 97.409449 \nL 54.442752 114.328923 \nL 64.186931 121.238299 \nL 73.93111 125.171923 \n\" clip-path=\"url(#pe2eb0780d5)\" style=\"fill: none; stroke: #1f77b4; stroke-width: 1.5; stroke-linecap: square\"/>\n   </g>\n   <g id=\"line2d_32\">\n    <path d=\"M 49.633125 112.615751 \nL 69.163125 127.191017 \n\" clip-path=\"url(#pe2eb0780d5)\" style=\"fill: none; stroke-dasharray: 5.55,2.4; stroke-dashoffset: 0; stroke: #ff7f0e; stroke-width: 1.5\"/>\n   </g>\n   <g id=\"line2d_33\">\n    <path d=\"M 49.633125 109.509927 \nL 69.163125 103.736633 \n\" clip-path=\"url(#pe2eb0780d5)\" style=\"fill: none; stroke-dasharray: 9.6,2.4,1.5,2.4; stroke-dashoffset: 0; stroke: #2ca02c; stroke-width: 1.5\"/>\n   </g>\n   <g id=\"line2d_34\">\n    <path d=\"M 34.954394 13.5 \nL 44.698573 97.409449 \nL 54.442752 114.328923 \nL 64.186931 121.238299 \nL 73.93111 125.171923 \nL 83.675289 127.922984 \n\" clip-path=\"url(#pe2eb0780d5)\" style=\"fill: none; stroke: #1f77b4; stroke-width: 1.5; stroke-linecap: square\"/>\n   </g>\n   <g id=\"line2d_35\">\n    <path d=\"M 49.633125 112.615751 \nL 69.163125 127.191017 \n\" clip-path=\"url(#pe2eb0780d5)\" style=\"fill: none; stroke-dasharray: 5.55,2.4; stroke-dashoffset: 0; stroke: #ff7f0e; stroke-width: 1.5\"/>\n   </g>\n   <g id=\"line2d_36\">\n    <path d=\"M 49.633125 109.509927 \nL 69.163125 103.736633 \n\" clip-path=\"url(#pe2eb0780d5)\" style=\"fill: none; stroke-dasharray: 9.6,2.4,1.5,2.4; stroke-dashoffset: 0; stroke: #2ca02c; stroke-width: 1.5\"/>\n   </g>\n   <g id=\"line2d_37\">\n    <path d=\"M 34.954394 13.5 \nL 44.698573 97.409449 \nL 54.442752 114.328923 \nL 64.186931 121.238299 \nL 73.93111 125.171923 \nL 83.675289 127.922984 \n\" clip-path=\"url(#pe2eb0780d5)\" style=\"fill: none; stroke: #1f77b4; stroke-width: 1.5; stroke-linecap: square\"/>\n   </g>\n   <g id=\"line2d_38\">\n    <path d=\"M 49.633125 112.615751 \nL 69.163125 127.191017 \nL 88.693125 130.92862 \n\" clip-path=\"url(#pe2eb0780d5)\" style=\"fill: none; stroke-dasharray: 5.55,2.4; stroke-dashoffset: 0; stroke: #ff7f0e; stroke-width: 1.5\"/>\n   </g>\n   <g id=\"line2d_39\">\n    <path d=\"M 49.633125 109.509927 \nL 69.163125 103.736633 \n\" clip-path=\"url(#pe2eb0780d5)\" style=\"fill: none; stroke-dasharray: 9.6,2.4,1.5,2.4; stroke-dashoffset: 0; stroke: #2ca02c; stroke-width: 1.5\"/>\n   </g>\n   <g id=\"line2d_40\">\n    <path d=\"M 34.954394 13.5 \nL 44.698573 97.409449 \nL 54.442752 114.328923 \nL 64.186931 121.238299 \nL 73.93111 125.171923 \nL 83.675289 127.922984 \n\" clip-path=\"url(#pe2eb0780d5)\" style=\"fill: none; stroke: #1f77b4; stroke-width: 1.5; stroke-linecap: square\"/>\n   </g>\n   <g id=\"line2d_41\">\n    <path d=\"M 49.633125 112.615751 \nL 69.163125 127.191017 \nL 88.693125 130.92862 \n\" clip-path=\"url(#pe2eb0780d5)\" style=\"fill: none; stroke-dasharray: 5.55,2.4; stroke-dashoffset: 0; stroke: #ff7f0e; stroke-width: 1.5\"/>\n   </g>\n   <g id=\"line2d_42\">\n    <path d=\"M 49.633125 109.509927 \nL 69.163125 103.736633 \nL 88.693125 102.438457 \n\" clip-path=\"url(#pe2eb0780d5)\" style=\"fill: none; stroke-dasharray: 9.6,2.4,1.5,2.4; stroke-dashoffset: 0; stroke: #2ca02c; stroke-width: 1.5\"/>\n   </g>\n   <g id=\"line2d_43\">\n    <path d=\"M 34.954394 13.5 \nL 44.698573 97.409449 \nL 54.442752 114.328923 \nL 64.186931 121.238299 \nL 73.93111 125.171923 \nL 83.675289 127.922984 \nL 93.419468 130.078533 \n\" clip-path=\"url(#pe2eb0780d5)\" style=\"fill: none; stroke: #1f77b4; stroke-width: 1.5; stroke-linecap: square\"/>\n   </g>\n   <g id=\"line2d_44\">\n    <path d=\"M 49.633125 112.615751 \nL 69.163125 127.191017 \nL 88.693125 130.92862 \n\" clip-path=\"url(#pe2eb0780d5)\" style=\"fill: none; stroke-dasharray: 5.55,2.4; stroke-dashoffset: 0; stroke: #ff7f0e; stroke-width: 1.5\"/>\n   </g>\n   <g id=\"line2d_45\">\n    <path d=\"M 49.633125 109.509927 \nL 69.163125 103.736633 \nL 88.693125 102.438457 \n\" clip-path=\"url(#pe2eb0780d5)\" style=\"fill: none; stroke-dasharray: 9.6,2.4,1.5,2.4; stroke-dashoffset: 0; stroke: #2ca02c; stroke-width: 1.5\"/>\n   </g>\n   <g id=\"line2d_46\">\n    <path d=\"M 34.954394 13.5 \nL 44.698573 97.409449 \nL 54.442752 114.328923 \nL 64.186931 121.238299 \nL 73.93111 125.171923 \nL 83.675289 127.922984 \nL 93.419468 130.078533 \nL 103.163647 131.194885 \n\" clip-path=\"url(#pe2eb0780d5)\" style=\"fill: none; stroke: #1f77b4; stroke-width: 1.5; stroke-linecap: square\"/>\n   </g>\n   <g id=\"line2d_47\">\n    <path d=\"M 49.633125 112.615751 \nL 69.163125 127.191017 \nL 88.693125 130.92862 \n\" clip-path=\"url(#pe2eb0780d5)\" style=\"fill: none; stroke-dasharray: 5.55,2.4; stroke-dashoffset: 0; stroke: #ff7f0e; stroke-width: 1.5\"/>\n   </g>\n   <g id=\"line2d_48\">\n    <path d=\"M 49.633125 109.509927 \nL 69.163125 103.736633 \nL 88.693125 102.438457 \n\" clip-path=\"url(#pe2eb0780d5)\" style=\"fill: none; stroke-dasharray: 9.6,2.4,1.5,2.4; stroke-dashoffset: 0; stroke: #2ca02c; stroke-width: 1.5\"/>\n   </g>\n   <g id=\"line2d_49\">\n    <path d=\"M 34.954394 13.5 \nL 44.698573 97.409449 \nL 54.442752 114.328923 \nL 64.186931 121.238299 \nL 73.93111 125.171923 \nL 83.675289 127.922984 \nL 93.419468 130.078533 \nL 103.163647 131.194885 \n\" clip-path=\"url(#pe2eb0780d5)\" style=\"fill: none; stroke: #1f77b4; stroke-width: 1.5; stroke-linecap: square\"/>\n   </g>\n   <g id=\"line2d_50\">\n    <path d=\"M 49.633125 112.615751 \nL 69.163125 127.191017 \nL 88.693125 130.92862 \nL 108.223125 132.859323 \n\" clip-path=\"url(#pe2eb0780d5)\" style=\"fill: none; stroke-dasharray: 5.55,2.4; stroke-dashoffset: 0; stroke: #ff7f0e; stroke-width: 1.5\"/>\n   </g>\n   <g id=\"line2d_51\">\n    <path d=\"M 49.633125 109.509927 \nL 69.163125 103.736633 \nL 88.693125 102.438457 \n\" clip-path=\"url(#pe2eb0780d5)\" style=\"fill: none; stroke-dasharray: 9.6,2.4,1.5,2.4; stroke-dashoffset: 0; stroke: #2ca02c; stroke-width: 1.5\"/>\n   </g>\n   <g id=\"line2d_52\">\n    <path d=\"M 34.954394 13.5 \nL 44.698573 97.409449 \nL 54.442752 114.328923 \nL 64.186931 121.238299 \nL 73.93111 125.171923 \nL 83.675289 127.922984 \nL 93.419468 130.078533 \nL 103.163647 131.194885 \n\" clip-path=\"url(#pe2eb0780d5)\" style=\"fill: none; stroke: #1f77b4; stroke-width: 1.5; stroke-linecap: square\"/>\n   </g>\n   <g id=\"line2d_53\">\n    <path d=\"M 49.633125 112.615751 \nL 69.163125 127.191017 \nL 88.693125 130.92862 \nL 108.223125 132.859323 \n\" clip-path=\"url(#pe2eb0780d5)\" style=\"fill: none; stroke-dasharray: 5.55,2.4; stroke-dashoffset: 0; stroke: #ff7f0e; stroke-width: 1.5\"/>\n   </g>\n   <g id=\"line2d_54\">\n    <path d=\"M 49.633125 109.509927 \nL 69.163125 103.736633 \nL 88.693125 102.438457 \nL 108.223125 101.486026 \n\" clip-path=\"url(#pe2eb0780d5)\" style=\"fill: none; stroke-dasharray: 9.6,2.4,1.5,2.4; stroke-dashoffset: 0; stroke: #2ca02c; stroke-width: 1.5\"/>\n   </g>\n   <g id=\"line2d_55\">\n    <path d=\"M 34.954394 13.5 \nL 44.698573 97.409449 \nL 54.442752 114.328923 \nL 64.186931 121.238299 \nL 73.93111 125.171923 \nL 83.675289 127.922984 \nL 93.419468 130.078533 \nL 103.163647 131.194885 \nL 112.907826 132.623276 \n\" clip-path=\"url(#pe2eb0780d5)\" style=\"fill: none; stroke: #1f77b4; stroke-width: 1.5; stroke-linecap: square\"/>\n   </g>\n   <g id=\"line2d_56\">\n    <path d=\"M 49.633125 112.615751 \nL 69.163125 127.191017 \nL 88.693125 130.92862 \nL 108.223125 132.859323 \n\" clip-path=\"url(#pe2eb0780d5)\" style=\"fill: none; stroke-dasharray: 5.55,2.4; stroke-dashoffset: 0; stroke: #ff7f0e; stroke-width: 1.5\"/>\n   </g>\n   <g id=\"line2d_57\">\n    <path d=\"M 49.633125 109.509927 \nL 69.163125 103.736633 \nL 88.693125 102.438457 \nL 108.223125 101.486026 \n\" clip-path=\"url(#pe2eb0780d5)\" style=\"fill: none; stroke-dasharray: 9.6,2.4,1.5,2.4; stroke-dashoffset: 0; stroke: #2ca02c; stroke-width: 1.5\"/>\n   </g>\n   <g id=\"line2d_58\">\n    <path d=\"M 34.954394 13.5 \nL 44.698573 97.409449 \nL 54.442752 114.328923 \nL 64.186931 121.238299 \nL 73.93111 125.171923 \nL 83.675289 127.922984 \nL 93.419468 130.078533 \nL 103.163647 131.194885 \nL 112.907826 132.623276 \nL 122.652006 133.205955 \n\" clip-path=\"url(#pe2eb0780d5)\" style=\"fill: none; stroke: #1f77b4; stroke-width: 1.5; stroke-linecap: square\"/>\n   </g>\n   <g id=\"line2d_59\">\n    <path d=\"M 49.633125 112.615751 \nL 69.163125 127.191017 \nL 88.693125 130.92862 \nL 108.223125 132.859323 \n\" clip-path=\"url(#pe2eb0780d5)\" style=\"fill: none; stroke-dasharray: 5.55,2.4; stroke-dashoffset: 0; stroke: #ff7f0e; stroke-width: 1.5\"/>\n   </g>\n   <g id=\"line2d_60\">\n    <path d=\"M 49.633125 109.509927 \nL 69.163125 103.736633 \nL 88.693125 102.438457 \nL 108.223125 101.486026 \n\" clip-path=\"url(#pe2eb0780d5)\" style=\"fill: none; stroke-dasharray: 9.6,2.4,1.5,2.4; stroke-dashoffset: 0; stroke: #2ca02c; stroke-width: 1.5\"/>\n   </g>\n   <g id=\"line2d_61\">\n    <path d=\"M 34.954394 13.5 \nL 44.698573 97.409449 \nL 54.442752 114.328923 \nL 64.186931 121.238299 \nL 73.93111 125.171923 \nL 83.675289 127.922984 \nL 93.419468 130.078533 \nL 103.163647 131.194885 \nL 112.907826 132.623276 \nL 122.652006 133.205955 \n\" clip-path=\"url(#pe2eb0780d5)\" style=\"fill: none; stroke: #1f77b4; stroke-width: 1.5; stroke-linecap: square\"/>\n   </g>\n   <g id=\"line2d_62\">\n    <path d=\"M 49.633125 112.615751 \nL 69.163125 127.191017 \nL 88.693125 130.92862 \nL 108.223125 132.859323 \nL 127.753125 134.829828 \n\" clip-path=\"url(#pe2eb0780d5)\" style=\"fill: none; stroke-dasharray: 5.55,2.4; stroke-dashoffset: 0; stroke: #ff7f0e; stroke-width: 1.5\"/>\n   </g>\n   <g id=\"line2d_63\">\n    <path d=\"M 49.633125 109.509927 \nL 69.163125 103.736633 \nL 88.693125 102.438457 \nL 108.223125 101.486026 \n\" clip-path=\"url(#pe2eb0780d5)\" style=\"fill: none; stroke-dasharray: 9.6,2.4,1.5,2.4; stroke-dashoffset: 0; stroke: #2ca02c; stroke-width: 1.5\"/>\n   </g>\n   <g id=\"line2d_64\">\n    <path d=\"M 34.954394 13.5 \nL 44.698573 97.409449 \nL 54.442752 114.328923 \nL 64.186931 121.238299 \nL 73.93111 125.171923 \nL 83.675289 127.922984 \nL 93.419468 130.078533 \nL 103.163647 131.194885 \nL 112.907826 132.623276 \nL 122.652006 133.205955 \n\" clip-path=\"url(#pe2eb0780d5)\" style=\"fill: none; stroke: #1f77b4; stroke-width: 1.5; stroke-linecap: square\"/>\n   </g>\n   <g id=\"line2d_65\">\n    <path d=\"M 49.633125 112.615751 \nL 69.163125 127.191017 \nL 88.693125 130.92862 \nL 108.223125 132.859323 \nL 127.753125 134.829828 \n\" clip-path=\"url(#pe2eb0780d5)\" style=\"fill: none; stroke-dasharray: 5.55,2.4; stroke-dashoffset: 0; stroke: #ff7f0e; stroke-width: 1.5\"/>\n   </g>\n   <g id=\"line2d_66\">\n    <path d=\"M 49.633125 109.509927 \nL 69.163125 103.736633 \nL 88.693125 102.438457 \nL 108.223125 101.486026 \nL 127.753125 101.022858 \n\" clip-path=\"url(#pe2eb0780d5)\" style=\"fill: none; stroke-dasharray: 9.6,2.4,1.5,2.4; stroke-dashoffset: 0; stroke: #2ca02c; stroke-width: 1.5\"/>\n   </g>\n   <g id=\"line2d_67\">\n    <path d=\"M 34.954394 13.5 \nL 44.698573 97.409449 \nL 54.442752 114.328923 \nL 64.186931 121.238299 \nL 73.93111 125.171923 \nL 83.675289 127.922984 \nL 93.419468 130.078533 \nL 103.163647 131.194885 \nL 112.907826 132.623276 \nL 122.652006 133.205955 \nL 132.396185 134.734841 \n\" clip-path=\"url(#pe2eb0780d5)\" style=\"fill: none; stroke: #1f77b4; stroke-width: 1.5; stroke-linecap: square\"/>\n   </g>\n   <g id=\"line2d_68\">\n    <path d=\"M 49.633125 112.615751 \nL 69.163125 127.191017 \nL 88.693125 130.92862 \nL 108.223125 132.859323 \nL 127.753125 134.829828 \n\" clip-path=\"url(#pe2eb0780d5)\" style=\"fill: none; stroke-dasharray: 5.55,2.4; stroke-dashoffset: 0; stroke: #ff7f0e; stroke-width: 1.5\"/>\n   </g>\n   <g id=\"line2d_69\">\n    <path d=\"M 49.633125 109.509927 \nL 69.163125 103.736633 \nL 88.693125 102.438457 \nL 108.223125 101.486026 \nL 127.753125 101.022858 \n\" clip-path=\"url(#pe2eb0780d5)\" style=\"fill: none; stroke-dasharray: 9.6,2.4,1.5,2.4; stroke-dashoffset: 0; stroke: #2ca02c; stroke-width: 1.5\"/>\n   </g>\n   <g id=\"line2d_70\">\n    <path d=\"M 34.954394 13.5 \nL 44.698573 97.409449 \nL 54.442752 114.328923 \nL 64.186931 121.238299 \nL 73.93111 125.171923 \nL 83.675289 127.922984 \nL 93.419468 130.078533 \nL 103.163647 131.194885 \nL 112.907826 132.623276 \nL 122.652006 133.205955 \nL 132.396185 134.734841 \nL 142.140364 134.843096 \n\" clip-path=\"url(#pe2eb0780d5)\" style=\"fill: none; stroke: #1f77b4; stroke-width: 1.5; stroke-linecap: square\"/>\n   </g>\n   <g id=\"line2d_71\">\n    <path d=\"M 49.633125 112.615751 \nL 69.163125 127.191017 \nL 88.693125 130.92862 \nL 108.223125 132.859323 \nL 127.753125 134.829828 \n\" clip-path=\"url(#pe2eb0780d5)\" style=\"fill: none; stroke-dasharray: 5.55,2.4; stroke-dashoffset: 0; stroke: #ff7f0e; stroke-width: 1.5\"/>\n   </g>\n   <g id=\"line2d_72\">\n    <path d=\"M 49.633125 109.509927 \nL 69.163125 103.736633 \nL 88.693125 102.438457 \nL 108.223125 101.486026 \nL 127.753125 101.022858 \n\" clip-path=\"url(#pe2eb0780d5)\" style=\"fill: none; stroke-dasharray: 9.6,2.4,1.5,2.4; stroke-dashoffset: 0; stroke: #2ca02c; stroke-width: 1.5\"/>\n   </g>\n   <g id=\"line2d_73\">\n    <path d=\"M 34.954394 13.5 \nL 44.698573 97.409449 \nL 54.442752 114.328923 \nL 64.186931 121.238299 \nL 73.93111 125.171923 \nL 83.675289 127.922984 \nL 93.419468 130.078533 \nL 103.163647 131.194885 \nL 112.907826 132.623276 \nL 122.652006 133.205955 \nL 132.396185 134.734841 \nL 142.140364 134.843096 \n\" clip-path=\"url(#pe2eb0780d5)\" style=\"fill: none; stroke: #1f77b4; stroke-width: 1.5; stroke-linecap: square\"/>\n   </g>\n   <g id=\"line2d_74\">\n    <path d=\"M 49.633125 112.615751 \nL 69.163125 127.191017 \nL 88.693125 130.92862 \nL 108.223125 132.859323 \nL 127.753125 134.829828 \nL 147.283125 135.932333 \n\" clip-path=\"url(#pe2eb0780d5)\" style=\"fill: none; stroke-dasharray: 5.55,2.4; stroke-dashoffset: 0; stroke: #ff7f0e; stroke-width: 1.5\"/>\n   </g>\n   <g id=\"line2d_75\">\n    <path d=\"M 49.633125 109.509927 \nL 69.163125 103.736633 \nL 88.693125 102.438457 \nL 108.223125 101.486026 \nL 127.753125 101.022858 \n\" clip-path=\"url(#pe2eb0780d5)\" style=\"fill: none; stroke-dasharray: 9.6,2.4,1.5,2.4; stroke-dashoffset: 0; stroke: #2ca02c; stroke-width: 1.5\"/>\n   </g>\n   <g id=\"line2d_76\">\n    <path d=\"M 34.954394 13.5 \nL 44.698573 97.409449 \nL 54.442752 114.328923 \nL 64.186931 121.238299 \nL 73.93111 125.171923 \nL 83.675289 127.922984 \nL 93.419468 130.078533 \nL 103.163647 131.194885 \nL 112.907826 132.623276 \nL 122.652006 133.205955 \nL 132.396185 134.734841 \nL 142.140364 134.843096 \n\" clip-path=\"url(#pe2eb0780d5)\" style=\"fill: none; stroke: #1f77b4; stroke-width: 1.5; stroke-linecap: square\"/>\n   </g>\n   <g id=\"line2d_77\">\n    <path d=\"M 49.633125 112.615751 \nL 69.163125 127.191017 \nL 88.693125 130.92862 \nL 108.223125 132.859323 \nL 127.753125 134.829828 \nL 147.283125 135.932333 \n\" clip-path=\"url(#pe2eb0780d5)\" style=\"fill: none; stroke-dasharray: 5.55,2.4; stroke-dashoffset: 0; stroke: #ff7f0e; stroke-width: 1.5\"/>\n   </g>\n   <g id=\"line2d_78\">\n    <path d=\"M 49.633125 109.509927 \nL 69.163125 103.736633 \nL 88.693125 102.438457 \nL 108.223125 101.486026 \nL 127.753125 101.022858 \nL 147.283125 100.377032 \n\" clip-path=\"url(#pe2eb0780d5)\" style=\"fill: none; stroke-dasharray: 9.6,2.4,1.5,2.4; stroke-dashoffset: 0; stroke: #2ca02c; stroke-width: 1.5\"/>\n   </g>\n   <g id=\"line2d_79\">\n    <path d=\"M 34.954394 13.5 \nL 44.698573 97.409449 \nL 54.442752 114.328923 \nL 64.186931 121.238299 \nL 73.93111 125.171923 \nL 83.675289 127.922984 \nL 93.419468 130.078533 \nL 103.163647 131.194885 \nL 112.907826 132.623276 \nL 122.652006 133.205955 \nL 132.396185 134.734841 \nL 142.140364 134.843096 \nL 151.884543 135.664494 \n\" clip-path=\"url(#pe2eb0780d5)\" style=\"fill: none; stroke: #1f77b4; stroke-width: 1.5; stroke-linecap: square\"/>\n   </g>\n   <g id=\"line2d_80\">\n    <path d=\"M 49.633125 112.615751 \nL 69.163125 127.191017 \nL 88.693125 130.92862 \nL 108.223125 132.859323 \nL 127.753125 134.829828 \nL 147.283125 135.932333 \n\" clip-path=\"url(#pe2eb0780d5)\" style=\"fill: none; stroke-dasharray: 5.55,2.4; stroke-dashoffset: 0; stroke: #ff7f0e; stroke-width: 1.5\"/>\n   </g>\n   <g id=\"line2d_81\">\n    <path d=\"M 49.633125 109.509927 \nL 69.163125 103.736633 \nL 88.693125 102.438457 \nL 108.223125 101.486026 \nL 127.753125 101.022858 \nL 147.283125 100.377032 \n\" clip-path=\"url(#pe2eb0780d5)\" style=\"fill: none; stroke-dasharray: 9.6,2.4,1.5,2.4; stroke-dashoffset: 0; stroke: #2ca02c; stroke-width: 1.5\"/>\n   </g>\n   <g id=\"line2d_82\">\n    <path d=\"M 34.954394 13.5 \nL 44.698573 97.409449 \nL 54.442752 114.328923 \nL 64.186931 121.238299 \nL 73.93111 125.171923 \nL 83.675289 127.922984 \nL 93.419468 130.078533 \nL 103.163647 131.194885 \nL 112.907826 132.623276 \nL 122.652006 133.205955 \nL 132.396185 134.734841 \nL 142.140364 134.843096 \nL 151.884543 135.664494 \nL 161.628722 136.822753 \n\" clip-path=\"url(#pe2eb0780d5)\" style=\"fill: none; stroke: #1f77b4; stroke-width: 1.5; stroke-linecap: square\"/>\n   </g>\n   <g id=\"line2d_83\">\n    <path d=\"M 49.633125 112.615751 \nL 69.163125 127.191017 \nL 88.693125 130.92862 \nL 108.223125 132.859323 \nL 127.753125 134.829828 \nL 147.283125 135.932333 \n\" clip-path=\"url(#pe2eb0780d5)\" style=\"fill: none; stroke-dasharray: 5.55,2.4; stroke-dashoffset: 0; stroke: #ff7f0e; stroke-width: 1.5\"/>\n   </g>\n   <g id=\"line2d_84\">\n    <path d=\"M 49.633125 109.509927 \nL 69.163125 103.736633 \nL 88.693125 102.438457 \nL 108.223125 101.486026 \nL 127.753125 101.022858 \nL 147.283125 100.377032 \n\" clip-path=\"url(#pe2eb0780d5)\" style=\"fill: none; stroke-dasharray: 9.6,2.4,1.5,2.4; stroke-dashoffset: 0; stroke: #2ca02c; stroke-width: 1.5\"/>\n   </g>\n   <g id=\"line2d_85\">\n    <path d=\"M 34.954394 13.5 \nL 44.698573 97.409449 \nL 54.442752 114.328923 \nL 64.186931 121.238299 \nL 73.93111 125.171923 \nL 83.675289 127.922984 \nL 93.419468 130.078533 \nL 103.163647 131.194885 \nL 112.907826 132.623276 \nL 122.652006 133.205955 \nL 132.396185 134.734841 \nL 142.140364 134.843096 \nL 151.884543 135.664494 \nL 161.628722 136.822753 \n\" clip-path=\"url(#pe2eb0780d5)\" style=\"fill: none; stroke: #1f77b4; stroke-width: 1.5; stroke-linecap: square\"/>\n   </g>\n   <g id=\"line2d_86\">\n    <path d=\"M 49.633125 112.615751 \nL 69.163125 127.191017 \nL 88.693125 130.92862 \nL 108.223125 132.859323 \nL 127.753125 134.829828 \nL 147.283125 135.932333 \nL 166.813125 136.8927 \n\" clip-path=\"url(#pe2eb0780d5)\" style=\"fill: none; stroke-dasharray: 5.55,2.4; stroke-dashoffset: 0; stroke: #ff7f0e; stroke-width: 1.5\"/>\n   </g>\n   <g id=\"line2d_87\">\n    <path d=\"M 49.633125 109.509927 \nL 69.163125 103.736633 \nL 88.693125 102.438457 \nL 108.223125 101.486026 \nL 127.753125 101.022858 \nL 147.283125 100.377032 \n\" clip-path=\"url(#pe2eb0780d5)\" style=\"fill: none; stroke-dasharray: 9.6,2.4,1.5,2.4; stroke-dashoffset: 0; stroke: #2ca02c; stroke-width: 1.5\"/>\n   </g>\n   <g id=\"line2d_88\">\n    <path d=\"M 34.954394 13.5 \nL 44.698573 97.409449 \nL 54.442752 114.328923 \nL 64.186931 121.238299 \nL 73.93111 125.171923 \nL 83.675289 127.922984 \nL 93.419468 130.078533 \nL 103.163647 131.194885 \nL 112.907826 132.623276 \nL 122.652006 133.205955 \nL 132.396185 134.734841 \nL 142.140364 134.843096 \nL 151.884543 135.664494 \nL 161.628722 136.822753 \n\" clip-path=\"url(#pe2eb0780d5)\" style=\"fill: none; stroke: #1f77b4; stroke-width: 1.5; stroke-linecap: square\"/>\n   </g>\n   <g id=\"line2d_89\">\n    <path d=\"M 49.633125 112.615751 \nL 69.163125 127.191017 \nL 88.693125 130.92862 \nL 108.223125 132.859323 \nL 127.753125 134.829828 \nL 147.283125 135.932333 \nL 166.813125 136.8927 \n\" clip-path=\"url(#pe2eb0780d5)\" style=\"fill: none; stroke-dasharray: 5.55,2.4; stroke-dashoffset: 0; stroke: #ff7f0e; stroke-width: 1.5\"/>\n   </g>\n   <g id=\"line2d_90\">\n    <path d=\"M 49.633125 109.509927 \nL 69.163125 103.736633 \nL 88.693125 102.438457 \nL 108.223125 101.486026 \nL 127.753125 101.022858 \nL 147.283125 100.377032 \nL 166.813125 100.331367 \n\" clip-path=\"url(#pe2eb0780d5)\" style=\"fill: none; stroke-dasharray: 9.6,2.4,1.5,2.4; stroke-dashoffset: 0; stroke: #2ca02c; stroke-width: 1.5\"/>\n   </g>\n   <g id=\"line2d_91\">\n    <path d=\"M 34.954394 13.5 \nL 44.698573 97.409449 \nL 54.442752 114.328923 \nL 64.186931 121.238299 \nL 73.93111 125.171923 \nL 83.675289 127.922984 \nL 93.419468 130.078533 \nL 103.163647 131.194885 \nL 112.907826 132.623276 \nL 122.652006 133.205955 \nL 132.396185 134.734841 \nL 142.140364 134.843096 \nL 151.884543 135.664494 \nL 161.628722 136.822753 \nL 171.372901 137.467556 \n\" clip-path=\"url(#pe2eb0780d5)\" style=\"fill: none; stroke: #1f77b4; stroke-width: 1.5; stroke-linecap: square\"/>\n   </g>\n   <g id=\"line2d_92\">\n    <path d=\"M 49.633125 112.615751 \nL 69.163125 127.191017 \nL 88.693125 130.92862 \nL 108.223125 132.859323 \nL 127.753125 134.829828 \nL 147.283125 135.932333 \nL 166.813125 136.8927 \n\" clip-path=\"url(#pe2eb0780d5)\" style=\"fill: none; stroke-dasharray: 5.55,2.4; stroke-dashoffset: 0; stroke: #ff7f0e; stroke-width: 1.5\"/>\n   </g>\n   <g id=\"line2d_93\">\n    <path d=\"M 49.633125 109.509927 \nL 69.163125 103.736633 \nL 88.693125 102.438457 \nL 108.223125 101.486026 \nL 127.753125 101.022858 \nL 147.283125 100.377032 \nL 166.813125 100.331367 \n\" clip-path=\"url(#pe2eb0780d5)\" style=\"fill: none; stroke-dasharray: 9.6,2.4,1.5,2.4; stroke-dashoffset: 0; stroke: #2ca02c; stroke-width: 1.5\"/>\n   </g>\n   <g id=\"line2d_94\">\n    <path d=\"M 34.954394 13.5 \nL 44.698573 97.409449 \nL 54.442752 114.328923 \nL 64.186931 121.238299 \nL 73.93111 125.171923 \nL 83.675289 127.922984 \nL 93.419468 130.078533 \nL 103.163647 131.194885 \nL 112.907826 132.623276 \nL 122.652006 133.205955 \nL 132.396185 134.734841 \nL 142.140364 134.843096 \nL 151.884543 135.664494 \nL 161.628722 136.822753 \nL 171.372901 137.467556 \nL 181.11708 137.125544 \n\" clip-path=\"url(#pe2eb0780d5)\" style=\"fill: none; stroke: #1f77b4; stroke-width: 1.5; stroke-linecap: square\"/>\n   </g>\n   <g id=\"line2d_95\">\n    <path d=\"M 49.633125 112.615751 \nL 69.163125 127.191017 \nL 88.693125 130.92862 \nL 108.223125 132.859323 \nL 127.753125 134.829828 \nL 147.283125 135.932333 \nL 166.813125 136.8927 \n\" clip-path=\"url(#pe2eb0780d5)\" style=\"fill: none; stroke-dasharray: 5.55,2.4; stroke-dashoffset: 0; stroke: #ff7f0e; stroke-width: 1.5\"/>\n   </g>\n   <g id=\"line2d_96\">\n    <path d=\"M 49.633125 109.509927 \nL 69.163125 103.736633 \nL 88.693125 102.438457 \nL 108.223125 101.486026 \nL 127.753125 101.022858 \nL 147.283125 100.377032 \nL 166.813125 100.331367 \n\" clip-path=\"url(#pe2eb0780d5)\" style=\"fill: none; stroke-dasharray: 9.6,2.4,1.5,2.4; stroke-dashoffset: 0; stroke: #2ca02c; stroke-width: 1.5\"/>\n   </g>\n   <g id=\"line2d_97\">\n    <path d=\"M 34.954394 13.5 \nL 44.698573 97.409449 \nL 54.442752 114.328923 \nL 64.186931 121.238299 \nL 73.93111 125.171923 \nL 83.675289 127.922984 \nL 93.419468 130.078533 \nL 103.163647 131.194885 \nL 112.907826 132.623276 \nL 122.652006 133.205955 \nL 132.396185 134.734841 \nL 142.140364 134.843096 \nL 151.884543 135.664494 \nL 161.628722 136.822753 \nL 171.372901 137.467556 \nL 181.11708 137.125544 \n\" clip-path=\"url(#pe2eb0780d5)\" style=\"fill: none; stroke: #1f77b4; stroke-width: 1.5; stroke-linecap: square\"/>\n   </g>\n   <g id=\"line2d_98\">\n    <path d=\"M 49.633125 112.615751 \nL 69.163125 127.191017 \nL 88.693125 130.92862 \nL 108.223125 132.859323 \nL 127.753125 134.829828 \nL 147.283125 135.932333 \nL 166.813125 136.8927 \nL 186.343125 137.764317 \n\" clip-path=\"url(#pe2eb0780d5)\" style=\"fill: none; stroke-dasharray: 5.55,2.4; stroke-dashoffset: 0; stroke: #ff7f0e; stroke-width: 1.5\"/>\n   </g>\n   <g id=\"line2d_99\">\n    <path d=\"M 49.633125 109.509927 \nL 69.163125 103.736633 \nL 88.693125 102.438457 \nL 108.223125 101.486026 \nL 127.753125 101.022858 \nL 147.283125 100.377032 \nL 166.813125 100.331367 \n\" clip-path=\"url(#pe2eb0780d5)\" style=\"fill: none; stroke-dasharray: 9.6,2.4,1.5,2.4; stroke-dashoffset: 0; stroke: #2ca02c; stroke-width: 1.5\"/>\n   </g>\n   <g id=\"line2d_100\">\n    <path d=\"M 34.954394 13.5 \nL 44.698573 97.409449 \nL 54.442752 114.328923 \nL 64.186931 121.238299 \nL 73.93111 125.171923 \nL 83.675289 127.922984 \nL 93.419468 130.078533 \nL 103.163647 131.194885 \nL 112.907826 132.623276 \nL 122.652006 133.205955 \nL 132.396185 134.734841 \nL 142.140364 134.843096 \nL 151.884543 135.664494 \nL 161.628722 136.822753 \nL 171.372901 137.467556 \nL 181.11708 137.125544 \n\" clip-path=\"url(#pe2eb0780d5)\" style=\"fill: none; stroke: #1f77b4; stroke-width: 1.5; stroke-linecap: square\"/>\n   </g>\n   <g id=\"line2d_101\">\n    <path d=\"M 49.633125 112.615751 \nL 69.163125 127.191017 \nL 88.693125 130.92862 \nL 108.223125 132.859323 \nL 127.753125 134.829828 \nL 147.283125 135.932333 \nL 166.813125 136.8927 \nL 186.343125 137.764317 \n\" clip-path=\"url(#pe2eb0780d5)\" style=\"fill: none; stroke-dasharray: 5.55,2.4; stroke-dashoffset: 0; stroke: #ff7f0e; stroke-width: 1.5\"/>\n   </g>\n   <g id=\"line2d_102\">\n    <path d=\"M 49.633125 109.509927 \nL 69.163125 103.736633 \nL 88.693125 102.438457 \nL 108.223125 101.486026 \nL 127.753125 101.022858 \nL 147.283125 100.377032 \nL 166.813125 100.331367 \nL 186.343125 99.848629 \n\" clip-path=\"url(#pe2eb0780d5)\" style=\"fill: none; stroke-dasharray: 9.6,2.4,1.5,2.4; stroke-dashoffset: 0; stroke: #2ca02c; stroke-width: 1.5\"/>\n   </g>\n   <g id=\"line2d_103\">\n    <path d=\"M 34.954394 13.5 \nL 44.698573 97.409449 \nL 54.442752 114.328923 \nL 64.186931 121.238299 \nL 73.93111 125.171923 \nL 83.675289 127.922984 \nL 93.419468 130.078533 \nL 103.163647 131.194885 \nL 112.907826 132.623276 \nL 122.652006 133.205955 \nL 132.396185 134.734841 \nL 142.140364 134.843096 \nL 151.884543 135.664494 \nL 161.628722 136.822753 \nL 171.372901 137.467556 \nL 181.11708 137.125544 \nL 190.861259 138.444093 \n\" clip-path=\"url(#pe2eb0780d5)\" style=\"fill: none; stroke: #1f77b4; stroke-width: 1.5; stroke-linecap: square\"/>\n   </g>\n   <g id=\"line2d_104\">\n    <path d=\"M 49.633125 112.615751 \nL 69.163125 127.191017 \nL 88.693125 130.92862 \nL 108.223125 132.859323 \nL 127.753125 134.829828 \nL 147.283125 135.932333 \nL 166.813125 136.8927 \nL 186.343125 137.764317 \n\" clip-path=\"url(#pe2eb0780d5)\" style=\"fill: none; stroke-dasharray: 5.55,2.4; stroke-dashoffset: 0; stroke: #ff7f0e; stroke-width: 1.5\"/>\n   </g>\n   <g id=\"line2d_105\">\n    <path d=\"M 49.633125 109.509927 \nL 69.163125 103.736633 \nL 88.693125 102.438457 \nL 108.223125 101.486026 \nL 127.753125 101.022858 \nL 147.283125 100.377032 \nL 166.813125 100.331367 \nL 186.343125 99.848629 \n\" clip-path=\"url(#pe2eb0780d5)\" style=\"fill: none; stroke-dasharray: 9.6,2.4,1.5,2.4; stroke-dashoffset: 0; stroke: #2ca02c; stroke-width: 1.5\"/>\n   </g>\n   <g id=\"line2d_106\">\n    <path d=\"M 34.954394 13.5 \nL 44.698573 97.409449 \nL 54.442752 114.328923 \nL 64.186931 121.238299 \nL 73.93111 125.171923 \nL 83.675289 127.922984 \nL 93.419468 130.078533 \nL 103.163647 131.194885 \nL 112.907826 132.623276 \nL 122.652006 133.205955 \nL 132.396185 134.734841 \nL 142.140364 134.843096 \nL 151.884543 135.664494 \nL 161.628722 136.822753 \nL 171.372901 137.467556 \nL 181.11708 137.125544 \nL 190.861259 138.444093 \nL 200.605438 138.348956 \n\" clip-path=\"url(#pe2eb0780d5)\" style=\"fill: none; stroke: #1f77b4; stroke-width: 1.5; stroke-linecap: square\"/>\n   </g>\n   <g id=\"line2d_107\">\n    <path d=\"M 49.633125 112.615751 \nL 69.163125 127.191017 \nL 88.693125 130.92862 \nL 108.223125 132.859323 \nL 127.753125 134.829828 \nL 147.283125 135.932333 \nL 166.813125 136.8927 \nL 186.343125 137.764317 \n\" clip-path=\"url(#pe2eb0780d5)\" style=\"fill: none; stroke-dasharray: 5.55,2.4; stroke-dashoffset: 0; stroke: #ff7f0e; stroke-width: 1.5\"/>\n   </g>\n   <g id=\"line2d_108\">\n    <path d=\"M 49.633125 109.509927 \nL 69.163125 103.736633 \nL 88.693125 102.438457 \nL 108.223125 101.486026 \nL 127.753125 101.022858 \nL 147.283125 100.377032 \nL 166.813125 100.331367 \nL 186.343125 99.848629 \n\" clip-path=\"url(#pe2eb0780d5)\" style=\"fill: none; stroke-dasharray: 9.6,2.4,1.5,2.4; stroke-dashoffset: 0; stroke: #2ca02c; stroke-width: 1.5\"/>\n   </g>\n   <g id=\"line2d_109\">\n    <path d=\"M 34.954394 13.5 \nL 44.698573 97.409449 \nL 54.442752 114.328923 \nL 64.186931 121.238299 \nL 73.93111 125.171923 \nL 83.675289 127.922984 \nL 93.419468 130.078533 \nL 103.163647 131.194885 \nL 112.907826 132.623276 \nL 122.652006 133.205955 \nL 132.396185 134.734841 \nL 142.140364 134.843096 \nL 151.884543 135.664494 \nL 161.628722 136.822753 \nL 171.372901 137.467556 \nL 181.11708 137.125544 \nL 190.861259 138.444093 \nL 200.605438 138.348956 \n\" clip-path=\"url(#pe2eb0780d5)\" style=\"fill: none; stroke: #1f77b4; stroke-width: 1.5; stroke-linecap: square\"/>\n   </g>\n   <g id=\"line2d_110\">\n    <path d=\"M 49.633125 112.615751 \nL 69.163125 127.191017 \nL 88.693125 130.92862 \nL 108.223125 132.859323 \nL 127.753125 134.829828 \nL 147.283125 135.932333 \nL 166.813125 136.8927 \nL 186.343125 137.764317 \nL 205.873125 138.359672 \n\" clip-path=\"url(#pe2eb0780d5)\" style=\"fill: none; stroke-dasharray: 5.55,2.4; stroke-dashoffset: 0; stroke: #ff7f0e; stroke-width: 1.5\"/>\n   </g>\n   <g id=\"line2d_111\">\n    <path d=\"M 49.633125 109.509927 \nL 69.163125 103.736633 \nL 88.693125 102.438457 \nL 108.223125 101.486026 \nL 127.753125 101.022858 \nL 147.283125 100.377032 \nL 166.813125 100.331367 \nL 186.343125 99.848629 \n\" clip-path=\"url(#pe2eb0780d5)\" style=\"fill: none; stroke-dasharray: 9.6,2.4,1.5,2.4; stroke-dashoffset: 0; stroke: #2ca02c; stroke-width: 1.5\"/>\n   </g>\n   <g id=\"line2d_112\">\n    <path d=\"M 34.954394 13.5 \nL 44.698573 97.409449 \nL 54.442752 114.328923 \nL 64.186931 121.238299 \nL 73.93111 125.171923 \nL 83.675289 127.922984 \nL 93.419468 130.078533 \nL 103.163647 131.194885 \nL 112.907826 132.623276 \nL 122.652006 133.205955 \nL 132.396185 134.734841 \nL 142.140364 134.843096 \nL 151.884543 135.664494 \nL 161.628722 136.822753 \nL 171.372901 137.467556 \nL 181.11708 137.125544 \nL 190.861259 138.444093 \nL 200.605438 138.348956 \n\" clip-path=\"url(#pe2eb0780d5)\" style=\"fill: none; stroke: #1f77b4; stroke-width: 1.5; stroke-linecap: square\"/>\n   </g>\n   <g id=\"line2d_113\">\n    <path d=\"M 49.633125 112.615751 \nL 69.163125 127.191017 \nL 88.693125 130.92862 \nL 108.223125 132.859323 \nL 127.753125 134.829828 \nL 147.283125 135.932333 \nL 166.813125 136.8927 \nL 186.343125 137.764317 \nL 205.873125 138.359672 \n\" clip-path=\"url(#pe2eb0780d5)\" style=\"fill: none; stroke-dasharray: 5.55,2.4; stroke-dashoffset: 0; stroke: #ff7f0e; stroke-width: 1.5\"/>\n   </g>\n   <g id=\"line2d_114\">\n    <path d=\"M 49.633125 109.509927 \nL 69.163125 103.736633 \nL 88.693125 102.438457 \nL 108.223125 101.486026 \nL 127.753125 101.022858 \nL 147.283125 100.377032 \nL 166.813125 100.331367 \nL 186.343125 99.848629 \nL 205.873125 99.594212 \n\" clip-path=\"url(#pe2eb0780d5)\" style=\"fill: none; stroke-dasharray: 9.6,2.4,1.5,2.4; stroke-dashoffset: 0; stroke: #2ca02c; stroke-width: 1.5\"/>\n   </g>\n   <g id=\"line2d_115\">\n    <path d=\"M 34.954394 13.5 \nL 44.698573 97.409449 \nL 54.442752 114.328923 \nL 64.186931 121.238299 \nL 73.93111 125.171923 \nL 83.675289 127.922984 \nL 93.419468 130.078533 \nL 103.163647 131.194885 \nL 112.907826 132.623276 \nL 122.652006 133.205955 \nL 132.396185 134.734841 \nL 142.140364 134.843096 \nL 151.884543 135.664494 \nL 161.628722 136.822753 \nL 171.372901 137.467556 \nL 181.11708 137.125544 \nL 190.861259 138.444093 \nL 200.605438 138.348956 \nL 210.349618 138.952686 \n\" clip-path=\"url(#pe2eb0780d5)\" style=\"fill: none; stroke: #1f77b4; stroke-width: 1.5; stroke-linecap: square\"/>\n   </g>\n   <g id=\"line2d_116\">\n    <path d=\"M 49.633125 112.615751 \nL 69.163125 127.191017 \nL 88.693125 130.92862 \nL 108.223125 132.859323 \nL 127.753125 134.829828 \nL 147.283125 135.932333 \nL 166.813125 136.8927 \nL 186.343125 137.764317 \nL 205.873125 138.359672 \n\" clip-path=\"url(#pe2eb0780d5)\" style=\"fill: none; stroke-dasharray: 5.55,2.4; stroke-dashoffset: 0; stroke: #ff7f0e; stroke-width: 1.5\"/>\n   </g>\n   <g id=\"line2d_117\">\n    <path d=\"M 49.633125 109.509927 \nL 69.163125 103.736633 \nL 88.693125 102.438457 \nL 108.223125 101.486026 \nL 127.753125 101.022858 \nL 147.283125 100.377032 \nL 166.813125 100.331367 \nL 186.343125 99.848629 \nL 205.873125 99.594212 \n\" clip-path=\"url(#pe2eb0780d5)\" style=\"fill: none; stroke-dasharray: 9.6,2.4,1.5,2.4; stroke-dashoffset: 0; stroke: #2ca02c; stroke-width: 1.5\"/>\n   </g>\n   <g id=\"line2d_118\">\n    <path d=\"M 34.954394 13.5 \nL 44.698573 97.409449 \nL 54.442752 114.328923 \nL 64.186931 121.238299 \nL 73.93111 125.171923 \nL 83.675289 127.922984 \nL 93.419468 130.078533 \nL 103.163647 131.194885 \nL 112.907826 132.623276 \nL 122.652006 133.205955 \nL 132.396185 134.734841 \nL 142.140364 134.843096 \nL 151.884543 135.664494 \nL 161.628722 136.822753 \nL 171.372901 137.467556 \nL 181.11708 137.125544 \nL 190.861259 138.444093 \nL 200.605438 138.348956 \nL 210.349618 138.952686 \nL 220.093797 139.366277 \n\" clip-path=\"url(#pe2eb0780d5)\" style=\"fill: none; stroke: #1f77b4; stroke-width: 1.5; stroke-linecap: square\"/>\n   </g>\n   <g id=\"line2d_119\">\n    <path d=\"M 49.633125 112.615751 \nL 69.163125 127.191017 \nL 88.693125 130.92862 \nL 108.223125 132.859323 \nL 127.753125 134.829828 \nL 147.283125 135.932333 \nL 166.813125 136.8927 \nL 186.343125 137.764317 \nL 205.873125 138.359672 \n\" clip-path=\"url(#pe2eb0780d5)\" style=\"fill: none; stroke-dasharray: 5.55,2.4; stroke-dashoffset: 0; stroke: #ff7f0e; stroke-width: 1.5\"/>\n   </g>\n   <g id=\"line2d_120\">\n    <path d=\"M 49.633125 109.509927 \nL 69.163125 103.736633 \nL 88.693125 102.438457 \nL 108.223125 101.486026 \nL 127.753125 101.022858 \nL 147.283125 100.377032 \nL 166.813125 100.331367 \nL 186.343125 99.848629 \nL 205.873125 99.594212 \n\" clip-path=\"url(#pe2eb0780d5)\" style=\"fill: none; stroke-dasharray: 9.6,2.4,1.5,2.4; stroke-dashoffset: 0; stroke: #2ca02c; stroke-width: 1.5\"/>\n   </g>\n   <g id=\"line2d_121\">\n    <path d=\"M 34.954394 13.5 \nL 44.698573 97.409449 \nL 54.442752 114.328923 \nL 64.186931 121.238299 \nL 73.93111 125.171923 \nL 83.675289 127.922984 \nL 93.419468 130.078533 \nL 103.163647 131.194885 \nL 112.907826 132.623276 \nL 122.652006 133.205955 \nL 132.396185 134.734841 \nL 142.140364 134.843096 \nL 151.884543 135.664494 \nL 161.628722 136.822753 \nL 171.372901 137.467556 \nL 181.11708 137.125544 \nL 190.861259 138.444093 \nL 200.605438 138.348956 \nL 210.349618 138.952686 \nL 220.093797 139.366277 \n\" clip-path=\"url(#pe2eb0780d5)\" style=\"fill: none; stroke: #1f77b4; stroke-width: 1.5; stroke-linecap: square\"/>\n   </g>\n   <g id=\"line2d_122\">\n    <path d=\"M 49.633125 112.615751 \nL 69.163125 127.191017 \nL 88.693125 130.92862 \nL 108.223125 132.859323 \nL 127.753125 134.829828 \nL 147.283125 135.932333 \nL 166.813125 136.8927 \nL 186.343125 137.764317 \nL 205.873125 138.359672 \nL 225.403125 139.5 \n\" clip-path=\"url(#pe2eb0780d5)\" style=\"fill: none; stroke-dasharray: 5.55,2.4; stroke-dashoffset: 0; stroke: #ff7f0e; stroke-width: 1.5\"/>\n   </g>\n   <g id=\"line2d_123\">\n    <path d=\"M 49.633125 109.509927 \nL 69.163125 103.736633 \nL 88.693125 102.438457 \nL 108.223125 101.486026 \nL 127.753125 101.022858 \nL 147.283125 100.377032 \nL 166.813125 100.331367 \nL 186.343125 99.848629 \nL 205.873125 99.594212 \n\" clip-path=\"url(#pe2eb0780d5)\" style=\"fill: none; stroke-dasharray: 9.6,2.4,1.5,2.4; stroke-dashoffset: 0; stroke: #2ca02c; stroke-width: 1.5\"/>\n   </g>\n   <g id=\"line2d_124\">\n    <path d=\"M 34.954394 13.5 \nL 44.698573 97.409449 \nL 54.442752 114.328923 \nL 64.186931 121.238299 \nL 73.93111 125.171923 \nL 83.675289 127.922984 \nL 93.419468 130.078533 \nL 103.163647 131.194885 \nL 112.907826 132.623276 \nL 122.652006 133.205955 \nL 132.396185 134.734841 \nL 142.140364 134.843096 \nL 151.884543 135.664494 \nL 161.628722 136.822753 \nL 171.372901 137.467556 \nL 181.11708 137.125544 \nL 190.861259 138.444093 \nL 200.605438 138.348956 \nL 210.349618 138.952686 \nL 220.093797 139.366277 \n\" clip-path=\"url(#pe2eb0780d5)\" style=\"fill: none; stroke: #1f77b4; stroke-width: 1.5; stroke-linecap: square\"/>\n   </g>\n   <g id=\"line2d_125\">\n    <path d=\"M 49.633125 112.615751 \nL 69.163125 127.191017 \nL 88.693125 130.92862 \nL 108.223125 132.859323 \nL 127.753125 134.829828 \nL 147.283125 135.932333 \nL 166.813125 136.8927 \nL 186.343125 137.764317 \nL 205.873125 138.359672 \nL 225.403125 139.5 \n\" clip-path=\"url(#pe2eb0780d5)\" style=\"fill: none; stroke-dasharray: 5.55,2.4; stroke-dashoffset: 0; stroke: #ff7f0e; stroke-width: 1.5\"/>\n   </g>\n   <g id=\"line2d_126\">\n    <path d=\"M 49.633125 109.509927 \nL 69.163125 103.736633 \nL 88.693125 102.438457 \nL 108.223125 101.486026 \nL 127.753125 101.022858 \nL 147.283125 100.377032 \nL 166.813125 100.331367 \nL 186.343125 99.848629 \nL 205.873125 99.594212 \nL 225.403125 99.241943 \n\" clip-path=\"url(#pe2eb0780d5)\" style=\"fill: none; stroke-dasharray: 9.6,2.4,1.5,2.4; stroke-dashoffset: 0; stroke: #2ca02c; stroke-width: 1.5\"/>\n   </g>\n   <g id=\"patch_3\">\n    <path d=\"M 30.103125 145.8 \nL 30.103125 7.2 \n\" style=\"fill: none; stroke: #000000; stroke-width: 0.8; stroke-linejoin: miter; stroke-linecap: square\"/>\n   </g>\n   <g id=\"patch_4\">\n    <path d=\"M 225.403125 145.8 \nL 225.403125 7.2 \n\" style=\"fill: none; stroke: #000000; stroke-width: 0.8; stroke-linejoin: miter; stroke-linecap: square\"/>\n   </g>\n   <g id=\"patch_5\">\n    <path d=\"M 30.103125 145.8 \nL 225.403125 145.8 \n\" style=\"fill: none; stroke: #000000; stroke-width: 0.8; stroke-linejoin: miter; stroke-linecap: square\"/>\n   </g>\n   <g id=\"patch_6\">\n    <path d=\"M 30.103125 7.2 \nL 225.403125 7.2 \n\" style=\"fill: none; stroke: #000000; stroke-width: 0.8; stroke-linejoin: miter; stroke-linecap: square\"/>\n   </g>\n   <g id=\"legend_1\">\n    <g id=\"patch_7\">\n     <path d=\"M 138.8125 60.06875 \nL 218.403125 60.06875 \nQ 220.403125 60.06875 220.403125 58.06875 \nL 220.403125 14.2 \nQ 220.403125 12.2 218.403125 12.2 \nL 138.8125 12.2 \nQ 136.8125 12.2 136.8125 14.2 \nL 136.8125 58.06875 \nQ 136.8125 60.06875 138.8125 60.06875 \nz\n\" style=\"fill: #ffffff; opacity: 0.8; stroke: #cccccc; stroke-linejoin: miter\"/>\n    </g>\n    <g id=\"line2d_127\">\n     <path d=\"M 140.8125 20.298438 \nL 150.8125 20.298438 \nL 160.8125 20.298438 \n\" style=\"fill: none; stroke: #1f77b4; stroke-width: 1.5; stroke-linecap: square\"/>\n    </g>\n    <g id=\"text_12\">\n     <!-- train_loss -->\n     <g transform=\"translate(168.8125 23.798438) scale(0.1 -0.1)\">\n      <defs>\n       <path id=\"DejaVuSans-74\" d=\"M 1172 4494 \nL 1172 3500 \nL 2356 3500 \nL 2356 3053 \nL 1172 3053 \nL 1172 1153 \nQ 1172 725 1289 603 \nQ 1406 481 1766 481 \nL 2356 481 \nL 2356 0 \nL 1766 0 \nQ 1100 0 847 248 \nQ 594 497 594 1153 \nL 594 3053 \nL 172 3053 \nL 172 3500 \nL 594 3500 \nL 594 4494 \nL 1172 4494 \nz\n\" transform=\"scale(0.015625)\"/>\n       <path id=\"DejaVuSans-72\" d=\"M 2631 2963 \nQ 2534 3019 2420 3045 \nQ 2306 3072 2169 3072 \nQ 1681 3072 1420 2755 \nQ 1159 2438 1159 1844 \nL 1159 0 \nL 581 0 \nL 581 3500 \nL 1159 3500 \nL 1159 2956 \nQ 1341 3275 1631 3429 \nQ 1922 3584 2338 3584 \nQ 2397 3584 2469 3576 \nQ 2541 3569 2628 3553 \nL 2631 2963 \nz\n\" transform=\"scale(0.015625)\"/>\n       <path id=\"DejaVuSans-61\" d=\"M 2194 1759 \nQ 1497 1759 1228 1600 \nQ 959 1441 959 1056 \nQ 959 750 1161 570 \nQ 1363 391 1709 391 \nQ 2188 391 2477 730 \nQ 2766 1069 2766 1631 \nL 2766 1759 \nL 2194 1759 \nz\nM 3341 1997 \nL 3341 0 \nL 2766 0 \nL 2766 531 \nQ 2569 213 2275 61 \nQ 1981 -91 1556 -91 \nQ 1019 -91 701 211 \nQ 384 513 384 1019 \nQ 384 1609 779 1909 \nQ 1175 2209 1959 2209 \nL 2766 2209 \nL 2766 2266 \nQ 2766 2663 2505 2880 \nQ 2244 3097 1772 3097 \nQ 1472 3097 1187 3025 \nQ 903 2953 641 2809 \nL 641 3341 \nQ 956 3463 1253 3523 \nQ 1550 3584 1831 3584 \nQ 2591 3584 2966 3190 \nQ 3341 2797 3341 1997 \nz\n\" transform=\"scale(0.015625)\"/>\n       <path id=\"DejaVuSans-69\" d=\"M 603 3500 \nL 1178 3500 \nL 1178 0 \nL 603 0 \nL 603 3500 \nz\nM 603 4863 \nL 1178 4863 \nL 1178 4134 \nL 603 4134 \nL 603 4863 \nz\n\" transform=\"scale(0.015625)\"/>\n       <path id=\"DejaVuSans-6e\" d=\"M 3513 2113 \nL 3513 0 \nL 2938 0 \nL 2938 2094 \nQ 2938 2591 2744 2837 \nQ 2550 3084 2163 3084 \nQ 1697 3084 1428 2787 \nQ 1159 2491 1159 1978 \nL 1159 0 \nL 581 0 \nL 581 3500 \nL 1159 3500 \nL 1159 2956 \nQ 1366 3272 1645 3428 \nQ 1925 3584 2291 3584 \nQ 2894 3584 3203 3211 \nQ 3513 2838 3513 2113 \nz\n\" transform=\"scale(0.015625)\"/>\n       <path id=\"DejaVuSans-5f\" d=\"M 3263 -1063 \nL 3263 -1509 \nL -63 -1509 \nL -63 -1063 \nL 3263 -1063 \nz\n\" transform=\"scale(0.015625)\"/>\n       <path id=\"DejaVuSans-6c\" d=\"M 603 4863 \nL 1178 4863 \nL 1178 0 \nL 603 0 \nL 603 4863 \nz\n\" transform=\"scale(0.015625)\"/>\n       <path id=\"DejaVuSans-73\" d=\"M 2834 3397 \nL 2834 2853 \nQ 2591 2978 2328 3040 \nQ 2066 3103 1784 3103 \nQ 1356 3103 1142 2972 \nQ 928 2841 928 2578 \nQ 928 2378 1081 2264 \nQ 1234 2150 1697 2047 \nL 1894 2003 \nQ 2506 1872 2764 1633 \nQ 3022 1394 3022 966 \nQ 3022 478 2636 193 \nQ 2250 -91 1575 -91 \nQ 1294 -91 989 -36 \nQ 684 19 347 128 \nL 347 722 \nQ 666 556 975 473 \nQ 1284 391 1588 391 \nQ 1994 391 2212 530 \nQ 2431 669 2431 922 \nQ 2431 1156 2273 1281 \nQ 2116 1406 1581 1522 \nL 1381 1569 \nQ 847 1681 609 1914 \nQ 372 2147 372 2553 \nQ 372 3047 722 3315 \nQ 1072 3584 1716 3584 \nQ 2034 3584 2315 3537 \nQ 2597 3491 2834 3397 \nz\n\" transform=\"scale(0.015625)\"/>\n      </defs>\n      <use xlink:href=\"#DejaVuSans-74\"/>\n      <use xlink:href=\"#DejaVuSans-72\" x=\"39.208984\"/>\n      <use xlink:href=\"#DejaVuSans-61\" x=\"80.322266\"/>\n      <use xlink:href=\"#DejaVuSans-69\" x=\"141.601562\"/>\n      <use xlink:href=\"#DejaVuSans-6e\" x=\"169.384766\"/>\n      <use xlink:href=\"#DejaVuSans-5f\" x=\"232.763672\"/>\n      <use xlink:href=\"#DejaVuSans-6c\" x=\"282.763672\"/>\n      <use xlink:href=\"#DejaVuSans-6f\" x=\"310.546875\"/>\n      <use xlink:href=\"#DejaVuSans-73\" x=\"371.728516\"/>\n      <use xlink:href=\"#DejaVuSans-73\" x=\"423.828125\"/>\n     </g>\n    </g>\n    <g id=\"line2d_128\">\n     <path d=\"M 140.8125 35.254688 \nL 150.8125 35.254688 \nL 160.8125 35.254688 \n\" style=\"fill: none; stroke-dasharray: 5.55,2.4; stroke-dashoffset: 0; stroke: #ff7f0e; stroke-width: 1.5\"/>\n    </g>\n    <g id=\"text_13\">\n     <!-- val_loss -->\n     <g transform=\"translate(168.8125 38.754688) scale(0.1 -0.1)\">\n      <defs>\n       <path id=\"DejaVuSans-76\" d=\"M 191 3500 \nL 800 3500 \nL 1894 563 \nL 2988 3500 \nL 3597 3500 \nL 2284 0 \nL 1503 0 \nL 191 3500 \nz\n\" transform=\"scale(0.015625)\"/>\n      </defs>\n      <use xlink:href=\"#DejaVuSans-76\"/>\n      <use xlink:href=\"#DejaVuSans-61\" x=\"59.179688\"/>\n      <use xlink:href=\"#DejaVuSans-6c\" x=\"120.458984\"/>\n      <use xlink:href=\"#DejaVuSans-5f\" x=\"148.242188\"/>\n      <use xlink:href=\"#DejaVuSans-6c\" x=\"198.242188\"/>\n      <use xlink:href=\"#DejaVuSans-6f\" x=\"226.025391\"/>\n      <use xlink:href=\"#DejaVuSans-73\" x=\"287.207031\"/>\n      <use xlink:href=\"#DejaVuSans-73\" x=\"339.306641\"/>\n     </g>\n    </g>\n    <g id=\"line2d_129\">\n     <path d=\"M 140.8125 50.210938 \nL 150.8125 50.210938 \nL 160.8125 50.210938 \n\" style=\"fill: none; stroke-dasharray: 9.6,2.4,1.5,2.4; stroke-dashoffset: 0; stroke: #2ca02c; stroke-width: 1.5\"/>\n    </g>\n    <g id=\"text_14\">\n     <!-- val_acc -->\n     <g transform=\"translate(168.8125 53.710938) scale(0.1 -0.1)\">\n      <use xlink:href=\"#DejaVuSans-76\"/>\n      <use xlink:href=\"#DejaVuSans-61\" x=\"59.179688\"/>\n      <use xlink:href=\"#DejaVuSans-6c\" x=\"120.458984\"/>\n      <use xlink:href=\"#DejaVuSans-5f\" x=\"148.242188\"/>\n      <use xlink:href=\"#DejaVuSans-61\" x=\"198.242188\"/>\n      <use xlink:href=\"#DejaVuSans-63\" x=\"259.521484\"/>\n      <use xlink:href=\"#DejaVuSans-63\" x=\"314.501953\"/>\n     </g>\n    </g>\n   </g>\n  </g>\n </g>\n <defs>\n  <clipPath id=\"pe2eb0780d5\">\n   <rect x=\"30.103125\" y=\"7.2\" width=\"195.3\" height=\"138.6\"/>\n  </clipPath>\n </defs>\n</svg>\n"
          },
          "metadata": {}
        }
      ]
    },
    {
      "cell_type": "markdown",
      "source": [
        "## Excercise"
      ],
      "metadata": {
        "id": "v4V9Lqra0hkQ"
      }
    },
    {
      "cell_type": "markdown",
      "source": [
        "### 1. Compared with AlexNet, VGG is much slower in terms of computation, and it also needs more GPU memory.\n",
        "\n",
        "  - Compare the number of parameters needed for AlexNet and VGG.\n",
        "  - Compare the number of floating point operations used in the convolutional layers and in the fully connected layers.\n",
        "  -How could you reduce the computational cost created by the fully connected layers?"
      ],
      "metadata": {
        "id": "GfiFblCy0jgV"
      }
    },
    {
      "cell_type": "code",
      "source": [
        "!pip install d2l==1.0.0"
      ],
      "metadata": {
        "colab": {
          "base_uri": "https://localhost:8080/",
          "height": 1000
        },
        "id": "OJ4xptJ-MIqN",
        "outputId": "0ab0f2e3-9354-4202-e134-a56a8b9de64e"
      },
      "execution_count": 90,
      "outputs": [
        {
          "output_type": "stream",
          "name": "stdout",
          "text": [
            "Collecting d2l==1.0.0\n",
            "  Downloading d2l-1.0.0-py3-none-any.whl.metadata (524 bytes)\n",
            "Requirement already satisfied: jupyter==1.0.0 in /usr/local/lib/python3.10/dist-packages (from d2l==1.0.0) (1.0.0)\n",
            "Requirement already satisfied: numpy==1.23.5 in /usr/local/lib/python3.10/dist-packages (from d2l==1.0.0) (1.23.5)\n",
            "Requirement already satisfied: matplotlib==3.7.2 in /usr/local/lib/python3.10/dist-packages (from d2l==1.0.0) (3.7.2)\n",
            "Requirement already satisfied: matplotlib-inline==0.1.6 in /usr/local/lib/python3.10/dist-packages (from d2l==1.0.0) (0.1.6)\n",
            "Requirement already satisfied: requests==2.31.0 in /usr/local/lib/python3.10/dist-packages (from d2l==1.0.0) (2.31.0)\n",
            "Requirement already satisfied: pandas==2.0.3 in /usr/local/lib/python3.10/dist-packages (from d2l==1.0.0) (2.0.3)\n",
            "Requirement already satisfied: notebook in /usr/local/lib/python3.10/dist-packages (from jupyter==1.0.0->d2l==1.0.0) (6.5.5)\n",
            "Requirement already satisfied: qtconsole in /usr/local/lib/python3.10/dist-packages (from jupyter==1.0.0->d2l==1.0.0) (5.6.0)\n",
            "Requirement already satisfied: jupyter-console in /usr/local/lib/python3.10/dist-packages (from jupyter==1.0.0->d2l==1.0.0) (6.1.0)\n",
            "Requirement already satisfied: nbconvert in /usr/local/lib/python3.10/dist-packages (from jupyter==1.0.0->d2l==1.0.0) (6.5.4)\n",
            "Requirement already satisfied: ipykernel in /usr/local/lib/python3.10/dist-packages (from jupyter==1.0.0->d2l==1.0.0) (5.5.6)\n",
            "Requirement already satisfied: ipywidgets in /usr/local/lib/python3.10/dist-packages (from jupyter==1.0.0->d2l==1.0.0) (7.7.1)\n",
            "Requirement already satisfied: contourpy>=1.0.1 in /usr/local/lib/python3.10/dist-packages (from matplotlib==3.7.2->d2l==1.0.0) (1.3.0)\n",
            "Requirement already satisfied: cycler>=0.10 in /usr/local/lib/python3.10/dist-packages (from matplotlib==3.7.2->d2l==1.0.0) (0.12.1)\n",
            "Requirement already satisfied: fonttools>=4.22.0 in /usr/local/lib/python3.10/dist-packages (from matplotlib==3.7.2->d2l==1.0.0) (4.54.1)\n",
            "Requirement already satisfied: kiwisolver>=1.0.1 in /usr/local/lib/python3.10/dist-packages (from matplotlib==3.7.2->d2l==1.0.0) (1.4.7)\n",
            "Requirement already satisfied: packaging>=20.0 in /usr/local/lib/python3.10/dist-packages (from matplotlib==3.7.2->d2l==1.0.0) (24.1)\n",
            "Requirement already satisfied: pillow>=6.2.0 in /usr/local/lib/python3.10/dist-packages (from matplotlib==3.7.2->d2l==1.0.0) (10.4.0)\n",
            "Requirement already satisfied: pyparsing<3.1,>=2.3.1 in /usr/local/lib/python3.10/dist-packages (from matplotlib==3.7.2->d2l==1.0.0) (3.0.9)\n",
            "Requirement already satisfied: python-dateutil>=2.7 in /usr/local/lib/python3.10/dist-packages (from matplotlib==3.7.2->d2l==1.0.0) (2.8.2)\n",
            "Requirement already satisfied: traitlets in /usr/local/lib/python3.10/dist-packages (from matplotlib-inline==0.1.6->d2l==1.0.0) (5.7.1)\n",
            "Requirement already satisfied: pytz>=2020.1 in /usr/local/lib/python3.10/dist-packages (from pandas==2.0.3->d2l==1.0.0) (2024.2)\n",
            "Requirement already satisfied: tzdata>=2022.1 in /usr/local/lib/python3.10/dist-packages (from pandas==2.0.3->d2l==1.0.0) (2024.2)\n",
            "Requirement already satisfied: charset-normalizer<4,>=2 in /usr/local/lib/python3.10/dist-packages (from requests==2.31.0->d2l==1.0.0) (3.3.2)\n",
            "Requirement already satisfied: idna<4,>=2.5 in /usr/local/lib/python3.10/dist-packages (from requests==2.31.0->d2l==1.0.0) (3.10)\n",
            "Requirement already satisfied: urllib3<3,>=1.21.1 in /usr/local/lib/python3.10/dist-packages (from requests==2.31.0->d2l==1.0.0) (2.2.3)\n",
            "Requirement already satisfied: certifi>=2017.4.17 in /usr/local/lib/python3.10/dist-packages (from requests==2.31.0->d2l==1.0.0) (2024.8.30)\n",
            "Requirement already satisfied: six>=1.5 in /usr/local/lib/python3.10/dist-packages (from python-dateutil>=2.7->matplotlib==3.7.2->d2l==1.0.0) (1.16.0)\n",
            "Requirement already satisfied: ipython-genutils in /usr/local/lib/python3.10/dist-packages (from ipykernel->jupyter==1.0.0->d2l==1.0.0) (0.2.0)\n",
            "Requirement already satisfied: ipython>=5.0.0 in /usr/local/lib/python3.10/dist-packages (from ipykernel->jupyter==1.0.0->d2l==1.0.0) (7.34.0)\n",
            "Requirement already satisfied: jupyter-client in /usr/local/lib/python3.10/dist-packages (from ipykernel->jupyter==1.0.0->d2l==1.0.0) (6.1.12)\n",
            "Requirement already satisfied: tornado>=4.2 in /usr/local/lib/python3.10/dist-packages (from ipykernel->jupyter==1.0.0->d2l==1.0.0) (6.3.3)\n",
            "Requirement already satisfied: widgetsnbextension~=3.6.0 in /usr/local/lib/python3.10/dist-packages (from ipywidgets->jupyter==1.0.0->d2l==1.0.0) (3.6.9)\n",
            "Requirement already satisfied: jupyterlab-widgets>=1.0.0 in /usr/local/lib/python3.10/dist-packages (from ipywidgets->jupyter==1.0.0->d2l==1.0.0) (3.0.13)\n",
            "Requirement already satisfied: prompt-toolkit!=3.0.0,!=3.0.1,<3.1.0,>=2.0.0 in /usr/local/lib/python3.10/dist-packages (from jupyter-console->jupyter==1.0.0->d2l==1.0.0) (3.0.48)\n",
            "Requirement already satisfied: pygments in /usr/local/lib/python3.10/dist-packages (from jupyter-console->jupyter==1.0.0->d2l==1.0.0) (2.18.0)\n",
            "Requirement already satisfied: lxml in /usr/local/lib/python3.10/dist-packages (from nbconvert->jupyter==1.0.0->d2l==1.0.0) (4.9.4)\n",
            "Requirement already satisfied: beautifulsoup4 in /usr/local/lib/python3.10/dist-packages (from nbconvert->jupyter==1.0.0->d2l==1.0.0) (4.12.3)\n",
            "Requirement already satisfied: bleach in /usr/local/lib/python3.10/dist-packages (from nbconvert->jupyter==1.0.0->d2l==1.0.0) (6.1.0)\n",
            "Requirement already satisfied: defusedxml in /usr/local/lib/python3.10/dist-packages (from nbconvert->jupyter==1.0.0->d2l==1.0.0) (0.7.1)\n",
            "Requirement already satisfied: entrypoints>=0.2.2 in /usr/local/lib/python3.10/dist-packages (from nbconvert->jupyter==1.0.0->d2l==1.0.0) (0.4)\n",
            "Requirement already satisfied: jinja2>=3.0 in /usr/local/lib/python3.10/dist-packages (from nbconvert->jupyter==1.0.0->d2l==1.0.0) (3.1.4)\n",
            "Requirement already satisfied: jupyter-core>=4.7 in /usr/local/lib/python3.10/dist-packages (from nbconvert->jupyter==1.0.0->d2l==1.0.0) (5.7.2)\n",
            "Requirement already satisfied: jupyterlab-pygments in /usr/local/lib/python3.10/dist-packages (from nbconvert->jupyter==1.0.0->d2l==1.0.0) (0.3.0)\n",
            "Requirement already satisfied: MarkupSafe>=2.0 in /usr/local/lib/python3.10/dist-packages (from nbconvert->jupyter==1.0.0->d2l==1.0.0) (2.1.5)\n",
            "Requirement already satisfied: mistune<2,>=0.8.1 in /usr/local/lib/python3.10/dist-packages (from nbconvert->jupyter==1.0.0->d2l==1.0.0) (0.8.4)\n",
            "Requirement already satisfied: nbclient>=0.5.0 in /usr/local/lib/python3.10/dist-packages (from nbconvert->jupyter==1.0.0->d2l==1.0.0) (0.10.0)\n",
            "Requirement already satisfied: nbformat>=5.1 in /usr/local/lib/python3.10/dist-packages (from nbconvert->jupyter==1.0.0->d2l==1.0.0) (5.10.4)\n",
            "Requirement already satisfied: pandocfilters>=1.4.1 in /usr/local/lib/python3.10/dist-packages (from nbconvert->jupyter==1.0.0->d2l==1.0.0) (1.5.1)\n",
            "Requirement already satisfied: tinycss2 in /usr/local/lib/python3.10/dist-packages (from nbconvert->jupyter==1.0.0->d2l==1.0.0) (1.3.0)\n",
            "Requirement already satisfied: pyzmq<25,>=17 in /usr/local/lib/python3.10/dist-packages (from notebook->jupyter==1.0.0->d2l==1.0.0) (24.0.1)\n",
            "Requirement already satisfied: argon2-cffi in /usr/local/lib/python3.10/dist-packages (from notebook->jupyter==1.0.0->d2l==1.0.0) (23.1.0)\n",
            "Requirement already satisfied: nest-asyncio>=1.5 in /usr/local/lib/python3.10/dist-packages (from notebook->jupyter==1.0.0->d2l==1.0.0) (1.6.0)\n",
            "Requirement already satisfied: Send2Trash>=1.8.0 in /usr/local/lib/python3.10/dist-packages (from notebook->jupyter==1.0.0->d2l==1.0.0) (1.8.3)\n",
            "Requirement already satisfied: terminado>=0.8.3 in /usr/local/lib/python3.10/dist-packages (from notebook->jupyter==1.0.0->d2l==1.0.0) (0.18.1)\n",
            "Requirement already satisfied: prometheus-client in /usr/local/lib/python3.10/dist-packages (from notebook->jupyter==1.0.0->d2l==1.0.0) (0.21.0)\n",
            "Requirement already satisfied: nbclassic>=0.4.7 in /usr/local/lib/python3.10/dist-packages (from notebook->jupyter==1.0.0->d2l==1.0.0) (1.1.0)\n",
            "Requirement already satisfied: qtpy>=2.4.0 in /usr/local/lib/python3.10/dist-packages (from qtconsole->jupyter==1.0.0->d2l==1.0.0) (2.4.1)\n",
            "Requirement already satisfied: setuptools>=18.5 in /usr/local/lib/python3.10/dist-packages (from ipython>=5.0.0->ipykernel->jupyter==1.0.0->d2l==1.0.0) (71.0.4)\n",
            "Requirement already satisfied: jedi>=0.16 in /usr/local/lib/python3.10/dist-packages (from ipython>=5.0.0->ipykernel->jupyter==1.0.0->d2l==1.0.0) (0.19.1)\n",
            "Requirement already satisfied: decorator in /usr/local/lib/python3.10/dist-packages (from ipython>=5.0.0->ipykernel->jupyter==1.0.0->d2l==1.0.0) (4.4.2)\n",
            "Requirement already satisfied: pickleshare in /usr/local/lib/python3.10/dist-packages (from ipython>=5.0.0->ipykernel->jupyter==1.0.0->d2l==1.0.0) (0.7.5)\n",
            "Requirement already satisfied: backcall in /usr/local/lib/python3.10/dist-packages (from ipython>=5.0.0->ipykernel->jupyter==1.0.0->d2l==1.0.0) (0.2.0)\n",
            "Requirement already satisfied: pexpect>4.3 in /usr/local/lib/python3.10/dist-packages (from ipython>=5.0.0->ipykernel->jupyter==1.0.0->d2l==1.0.0) (4.9.0)\n",
            "Requirement already satisfied: platformdirs>=2.5 in /usr/local/lib/python3.10/dist-packages (from jupyter-core>=4.7->nbconvert->jupyter==1.0.0->d2l==1.0.0) (4.3.6)\n",
            "Requirement already satisfied: notebook-shim>=0.2.3 in /usr/local/lib/python3.10/dist-packages (from nbclassic>=0.4.7->notebook->jupyter==1.0.0->d2l==1.0.0) (0.2.4)\n",
            "Requirement already satisfied: fastjsonschema>=2.15 in /usr/local/lib/python3.10/dist-packages (from nbformat>=5.1->nbconvert->jupyter==1.0.0->d2l==1.0.0) (2.20.0)\n",
            "Requirement already satisfied: jsonschema>=2.6 in /usr/local/lib/python3.10/dist-packages (from nbformat>=5.1->nbconvert->jupyter==1.0.0->d2l==1.0.0) (4.23.0)\n",
            "Requirement already satisfied: wcwidth in /usr/local/lib/python3.10/dist-packages (from prompt-toolkit!=3.0.0,!=3.0.1,<3.1.0,>=2.0.0->jupyter-console->jupyter==1.0.0->d2l==1.0.0) (0.2.13)\n",
            "Requirement already satisfied: ptyprocess in /usr/local/lib/python3.10/dist-packages (from terminado>=0.8.3->notebook->jupyter==1.0.0->d2l==1.0.0) (0.7.0)\n",
            "Requirement already satisfied: argon2-cffi-bindings in /usr/local/lib/python3.10/dist-packages (from argon2-cffi->notebook->jupyter==1.0.0->d2l==1.0.0) (21.2.0)\n",
            "Requirement already satisfied: soupsieve>1.2 in /usr/local/lib/python3.10/dist-packages (from beautifulsoup4->nbconvert->jupyter==1.0.0->d2l==1.0.0) (2.6)\n",
            "Requirement already satisfied: webencodings in /usr/local/lib/python3.10/dist-packages (from bleach->nbconvert->jupyter==1.0.0->d2l==1.0.0) (0.5.1)\n",
            "Requirement already satisfied: parso<0.9.0,>=0.8.3 in /usr/local/lib/python3.10/dist-packages (from jedi>=0.16->ipython>=5.0.0->ipykernel->jupyter==1.0.0->d2l==1.0.0) (0.8.4)\n",
            "Requirement already satisfied: attrs>=22.2.0 in /usr/local/lib/python3.10/dist-packages (from jsonschema>=2.6->nbformat>=5.1->nbconvert->jupyter==1.0.0->d2l==1.0.0) (24.2.0)\n",
            "Requirement already satisfied: jsonschema-specifications>=2023.03.6 in /usr/local/lib/python3.10/dist-packages (from jsonschema>=2.6->nbformat>=5.1->nbconvert->jupyter==1.0.0->d2l==1.0.0) (2023.12.1)\n",
            "Requirement already satisfied: referencing>=0.28.4 in /usr/local/lib/python3.10/dist-packages (from jsonschema>=2.6->nbformat>=5.1->nbconvert->jupyter==1.0.0->d2l==1.0.0) (0.35.1)\n",
            "Requirement already satisfied: rpds-py>=0.7.1 in /usr/local/lib/python3.10/dist-packages (from jsonschema>=2.6->nbformat>=5.1->nbconvert->jupyter==1.0.0->d2l==1.0.0) (0.20.0)\n",
            "Requirement already satisfied: jupyter-server<3,>=1.8 in /usr/local/lib/python3.10/dist-packages (from notebook-shim>=0.2.3->nbclassic>=0.4.7->notebook->jupyter==1.0.0->d2l==1.0.0) (1.24.0)\n",
            "Requirement already satisfied: cffi>=1.0.1 in /usr/local/lib/python3.10/dist-packages (from argon2-cffi-bindings->argon2-cffi->notebook->jupyter==1.0.0->d2l==1.0.0) (1.17.1)\n",
            "Requirement already satisfied: pycparser in /usr/local/lib/python3.10/dist-packages (from cffi>=1.0.1->argon2-cffi-bindings->argon2-cffi->notebook->jupyter==1.0.0->d2l==1.0.0) (2.22)\n",
            "Requirement already satisfied: anyio<4,>=3.1.0 in /usr/local/lib/python3.10/dist-packages (from jupyter-server<3,>=1.8->notebook-shim>=0.2.3->nbclassic>=0.4.7->notebook->jupyter==1.0.0->d2l==1.0.0) (3.7.1)\n",
            "Requirement already satisfied: websocket-client in /usr/local/lib/python3.10/dist-packages (from jupyter-server<3,>=1.8->notebook-shim>=0.2.3->nbclassic>=0.4.7->notebook->jupyter==1.0.0->d2l==1.0.0) (1.8.0)\n",
            "Requirement already satisfied: sniffio>=1.1 in /usr/local/lib/python3.10/dist-packages (from anyio<4,>=3.1.0->jupyter-server<3,>=1.8->notebook-shim>=0.2.3->nbclassic>=0.4.7->notebook->jupyter==1.0.0->d2l==1.0.0) (1.3.1)\n",
            "Requirement already satisfied: exceptiongroup in /usr/local/lib/python3.10/dist-packages (from anyio<4,>=3.1.0->jupyter-server<3,>=1.8->notebook-shim>=0.2.3->nbclassic>=0.4.7->notebook->jupyter==1.0.0->d2l==1.0.0) (1.2.2)\n",
            "Downloading d2l-1.0.0-py3-none-any.whl (111 kB)\n",
            "\u001b[2K   \u001b[90m━━━━━━━━━━━━━━━━━━━━━━━━━━━━━━━━━━━━━━━━\u001b[0m \u001b[32m111.7/111.7 kB\u001b[0m \u001b[31m9.1 MB/s\u001b[0m eta \u001b[36m0:00:00\u001b[0m\n",
            "\u001b[?25hInstalling collected packages: d2l\n",
            "  Attempting uninstall: d2l\n",
            "    Found existing installation: d2l 1.0.3\n",
            "    Uninstalling d2l-1.0.3:\n",
            "      Successfully uninstalled d2l-1.0.3\n",
            "Successfully installed d2l-1.0.0\n"
          ]
        },
        {
          "output_type": "display_data",
          "data": {
            "application/vnd.colab-display-data+json": {
              "pip_warning": {
                "packages": [
                  "d2l"
                ]
              },
              "id": "58cc63a012b943908d711764e1d8ffc6"
            }
          },
          "metadata": {}
        }
      ]
    },
    {
      "cell_type": "code",
      "source": [
        "import sys\n",
        "import torch.nn as nn\n",
        "import torch\n",
        "import warnings\n",
        "import d2l\n",
        "from torchsummary import summary\n",
        "warnings.filterwarnings(\"ignore\")\n",
        "\n",
        "def stat_params(net, params):\n",
        "    for idx, module in enumerate(net):\n",
        "        if type(module) not in (nn.Linear, nn.Conv2d):\n",
        "            continue\n",
        "        num = sum(p.numel() for p in module.parameters())\n",
        "        if type(module) == nn.Conv2d:\n",
        "            params['conv'] += num\n",
        "        else:\n",
        "            params['lr'] += num\n",
        "    return params # Mengembalikan dictionary params"
      ],
      "metadata": {
        "id": "uAnyZ-B81Y7C"
      },
      "execution_count": 94,
      "outputs": []
    },
    {
      "cell_type": "markdown",
      "source": [
        "1.1 Compare the number of parameters needed for AlexNet and VGG"
      ],
      "metadata": {
        "id": "6QJkUGvt1lHV"
      }
    },
    {
      "cell_type": "code",
      "source": [
        "!pip install --upgrade d2l"
      ],
      "metadata": {
        "colab": {
          "base_uri": "https://localhost:8080/"
        },
        "id": "pYDnnP37OKb8",
        "outputId": "1093dc48-e677-4c09-8124-1780dc16222a"
      },
      "execution_count": 99,
      "outputs": [
        {
          "output_type": "stream",
          "name": "stdout",
          "text": [
            "Requirement already satisfied: d2l in /usr/local/lib/python3.10/dist-packages (1.0.3)\n",
            "Requirement already satisfied: jupyter==1.0.0 in /usr/local/lib/python3.10/dist-packages (from d2l) (1.0.0)\n",
            "Requirement already satisfied: numpy==1.23.5 in /usr/local/lib/python3.10/dist-packages (from d2l) (1.23.5)\n",
            "Requirement already satisfied: matplotlib==3.7.2 in /usr/local/lib/python3.10/dist-packages (from d2l) (3.7.2)\n",
            "Requirement already satisfied: matplotlib-inline==0.1.6 in /usr/local/lib/python3.10/dist-packages (from d2l) (0.1.6)\n",
            "Requirement already satisfied: requests==2.31.0 in /usr/local/lib/python3.10/dist-packages (from d2l) (2.31.0)\n",
            "Requirement already satisfied: pandas==2.0.3 in /usr/local/lib/python3.10/dist-packages (from d2l) (2.0.3)\n",
            "Requirement already satisfied: scipy==1.10.1 in /usr/local/lib/python3.10/dist-packages (from d2l) (1.10.1)\n",
            "Requirement already satisfied: notebook in /usr/local/lib/python3.10/dist-packages (from jupyter==1.0.0->d2l) (6.5.5)\n",
            "Requirement already satisfied: qtconsole in /usr/local/lib/python3.10/dist-packages (from jupyter==1.0.0->d2l) (5.6.0)\n",
            "Requirement already satisfied: jupyter-console in /usr/local/lib/python3.10/dist-packages (from jupyter==1.0.0->d2l) (6.1.0)\n",
            "Requirement already satisfied: nbconvert in /usr/local/lib/python3.10/dist-packages (from jupyter==1.0.0->d2l) (6.5.4)\n",
            "Requirement already satisfied: ipykernel in /usr/local/lib/python3.10/dist-packages (from jupyter==1.0.0->d2l) (5.5.6)\n",
            "Requirement already satisfied: ipywidgets in /usr/local/lib/python3.10/dist-packages (from jupyter==1.0.0->d2l) (7.7.1)\n",
            "Requirement already satisfied: contourpy>=1.0.1 in /usr/local/lib/python3.10/dist-packages (from matplotlib==3.7.2->d2l) (1.3.0)\n",
            "Requirement already satisfied: cycler>=0.10 in /usr/local/lib/python3.10/dist-packages (from matplotlib==3.7.2->d2l) (0.12.1)\n",
            "Requirement already satisfied: fonttools>=4.22.0 in /usr/local/lib/python3.10/dist-packages (from matplotlib==3.7.2->d2l) (4.54.1)\n",
            "Requirement already satisfied: kiwisolver>=1.0.1 in /usr/local/lib/python3.10/dist-packages (from matplotlib==3.7.2->d2l) (1.4.7)\n",
            "Requirement already satisfied: packaging>=20.0 in /usr/local/lib/python3.10/dist-packages (from matplotlib==3.7.2->d2l) (24.1)\n",
            "Requirement already satisfied: pillow>=6.2.0 in /usr/local/lib/python3.10/dist-packages (from matplotlib==3.7.2->d2l) (10.4.0)\n",
            "Requirement already satisfied: pyparsing<3.1,>=2.3.1 in /usr/local/lib/python3.10/dist-packages (from matplotlib==3.7.2->d2l) (3.0.9)\n",
            "Requirement already satisfied: python-dateutil>=2.7 in /usr/local/lib/python3.10/dist-packages (from matplotlib==3.7.2->d2l) (2.8.2)\n",
            "Requirement already satisfied: traitlets in /usr/local/lib/python3.10/dist-packages (from matplotlib-inline==0.1.6->d2l) (5.7.1)\n",
            "Requirement already satisfied: pytz>=2020.1 in /usr/local/lib/python3.10/dist-packages (from pandas==2.0.3->d2l) (2024.2)\n",
            "Requirement already satisfied: tzdata>=2022.1 in /usr/local/lib/python3.10/dist-packages (from pandas==2.0.3->d2l) (2024.2)\n",
            "Requirement already satisfied: charset-normalizer<4,>=2 in /usr/local/lib/python3.10/dist-packages (from requests==2.31.0->d2l) (3.3.2)\n",
            "Requirement already satisfied: idna<4,>=2.5 in /usr/local/lib/python3.10/dist-packages (from requests==2.31.0->d2l) (3.10)\n",
            "Requirement already satisfied: urllib3<3,>=1.21.1 in /usr/local/lib/python3.10/dist-packages (from requests==2.31.0->d2l) (2.2.3)\n",
            "Requirement already satisfied: certifi>=2017.4.17 in /usr/local/lib/python3.10/dist-packages (from requests==2.31.0->d2l) (2024.8.30)\n",
            "Requirement already satisfied: six>=1.5 in /usr/local/lib/python3.10/dist-packages (from python-dateutil>=2.7->matplotlib==3.7.2->d2l) (1.16.0)\n",
            "Requirement already satisfied: ipython-genutils in /usr/local/lib/python3.10/dist-packages (from ipykernel->jupyter==1.0.0->d2l) (0.2.0)\n",
            "Requirement already satisfied: ipython>=5.0.0 in /usr/local/lib/python3.10/dist-packages (from ipykernel->jupyter==1.0.0->d2l) (7.34.0)\n",
            "Requirement already satisfied: jupyter-client in /usr/local/lib/python3.10/dist-packages (from ipykernel->jupyter==1.0.0->d2l) (6.1.12)\n",
            "Requirement already satisfied: tornado>=4.2 in /usr/local/lib/python3.10/dist-packages (from ipykernel->jupyter==1.0.0->d2l) (6.3.3)\n",
            "Requirement already satisfied: widgetsnbextension~=3.6.0 in /usr/local/lib/python3.10/dist-packages (from ipywidgets->jupyter==1.0.0->d2l) (3.6.9)\n",
            "Requirement already satisfied: jupyterlab-widgets>=1.0.0 in /usr/local/lib/python3.10/dist-packages (from ipywidgets->jupyter==1.0.0->d2l) (3.0.13)\n",
            "Requirement already satisfied: prompt-toolkit!=3.0.0,!=3.0.1,<3.1.0,>=2.0.0 in /usr/local/lib/python3.10/dist-packages (from jupyter-console->jupyter==1.0.0->d2l) (3.0.48)\n",
            "Requirement already satisfied: pygments in /usr/local/lib/python3.10/dist-packages (from jupyter-console->jupyter==1.0.0->d2l) (2.18.0)\n",
            "Requirement already satisfied: lxml in /usr/local/lib/python3.10/dist-packages (from nbconvert->jupyter==1.0.0->d2l) (4.9.4)\n",
            "Requirement already satisfied: beautifulsoup4 in /usr/local/lib/python3.10/dist-packages (from nbconvert->jupyter==1.0.0->d2l) (4.12.3)\n",
            "Requirement already satisfied: bleach in /usr/local/lib/python3.10/dist-packages (from nbconvert->jupyter==1.0.0->d2l) (6.1.0)\n",
            "Requirement already satisfied: defusedxml in /usr/local/lib/python3.10/dist-packages (from nbconvert->jupyter==1.0.0->d2l) (0.7.1)\n",
            "Requirement already satisfied: entrypoints>=0.2.2 in /usr/local/lib/python3.10/dist-packages (from nbconvert->jupyter==1.0.0->d2l) (0.4)\n",
            "Requirement already satisfied: jinja2>=3.0 in /usr/local/lib/python3.10/dist-packages (from nbconvert->jupyter==1.0.0->d2l) (3.1.4)\n",
            "Requirement already satisfied: jupyter-core>=4.7 in /usr/local/lib/python3.10/dist-packages (from nbconvert->jupyter==1.0.0->d2l) (5.7.2)\n",
            "Requirement already satisfied: jupyterlab-pygments in /usr/local/lib/python3.10/dist-packages (from nbconvert->jupyter==1.0.0->d2l) (0.3.0)\n",
            "Requirement already satisfied: MarkupSafe>=2.0 in /usr/local/lib/python3.10/dist-packages (from nbconvert->jupyter==1.0.0->d2l) (2.1.5)\n",
            "Requirement already satisfied: mistune<2,>=0.8.1 in /usr/local/lib/python3.10/dist-packages (from nbconvert->jupyter==1.0.0->d2l) (0.8.4)\n",
            "Requirement already satisfied: nbclient>=0.5.0 in /usr/local/lib/python3.10/dist-packages (from nbconvert->jupyter==1.0.0->d2l) (0.10.0)\n",
            "Requirement already satisfied: nbformat>=5.1 in /usr/local/lib/python3.10/dist-packages (from nbconvert->jupyter==1.0.0->d2l) (5.10.4)\n",
            "Requirement already satisfied: pandocfilters>=1.4.1 in /usr/local/lib/python3.10/dist-packages (from nbconvert->jupyter==1.0.0->d2l) (1.5.1)\n",
            "Requirement already satisfied: tinycss2 in /usr/local/lib/python3.10/dist-packages (from nbconvert->jupyter==1.0.0->d2l) (1.3.0)\n",
            "Requirement already satisfied: pyzmq<25,>=17 in /usr/local/lib/python3.10/dist-packages (from notebook->jupyter==1.0.0->d2l) (24.0.1)\n",
            "Requirement already satisfied: argon2-cffi in /usr/local/lib/python3.10/dist-packages (from notebook->jupyter==1.0.0->d2l) (23.1.0)\n",
            "Requirement already satisfied: nest-asyncio>=1.5 in /usr/local/lib/python3.10/dist-packages (from notebook->jupyter==1.0.0->d2l) (1.6.0)\n",
            "Requirement already satisfied: Send2Trash>=1.8.0 in /usr/local/lib/python3.10/dist-packages (from notebook->jupyter==1.0.0->d2l) (1.8.3)\n",
            "Requirement already satisfied: terminado>=0.8.3 in /usr/local/lib/python3.10/dist-packages (from notebook->jupyter==1.0.0->d2l) (0.18.1)\n",
            "Requirement already satisfied: prometheus-client in /usr/local/lib/python3.10/dist-packages (from notebook->jupyter==1.0.0->d2l) (0.21.0)\n",
            "Requirement already satisfied: nbclassic>=0.4.7 in /usr/local/lib/python3.10/dist-packages (from notebook->jupyter==1.0.0->d2l) (1.1.0)\n",
            "Requirement already satisfied: qtpy>=2.4.0 in /usr/local/lib/python3.10/dist-packages (from qtconsole->jupyter==1.0.0->d2l) (2.4.1)\n",
            "Requirement already satisfied: setuptools>=18.5 in /usr/local/lib/python3.10/dist-packages (from ipython>=5.0.0->ipykernel->jupyter==1.0.0->d2l) (71.0.4)\n",
            "Requirement already satisfied: jedi>=0.16 in /usr/local/lib/python3.10/dist-packages (from ipython>=5.0.0->ipykernel->jupyter==1.0.0->d2l) (0.19.1)\n",
            "Requirement already satisfied: decorator in /usr/local/lib/python3.10/dist-packages (from ipython>=5.0.0->ipykernel->jupyter==1.0.0->d2l) (4.4.2)\n",
            "Requirement already satisfied: pickleshare in /usr/local/lib/python3.10/dist-packages (from ipython>=5.0.0->ipykernel->jupyter==1.0.0->d2l) (0.7.5)\n",
            "Requirement already satisfied: backcall in /usr/local/lib/python3.10/dist-packages (from ipython>=5.0.0->ipykernel->jupyter==1.0.0->d2l) (0.2.0)\n",
            "Requirement already satisfied: pexpect>4.3 in /usr/local/lib/python3.10/dist-packages (from ipython>=5.0.0->ipykernel->jupyter==1.0.0->d2l) (4.9.0)\n",
            "Requirement already satisfied: platformdirs>=2.5 in /usr/local/lib/python3.10/dist-packages (from jupyter-core>=4.7->nbconvert->jupyter==1.0.0->d2l) (4.3.6)\n",
            "Requirement already satisfied: notebook-shim>=0.2.3 in /usr/local/lib/python3.10/dist-packages (from nbclassic>=0.4.7->notebook->jupyter==1.0.0->d2l) (0.2.4)\n",
            "Requirement already satisfied: fastjsonschema>=2.15 in /usr/local/lib/python3.10/dist-packages (from nbformat>=5.1->nbconvert->jupyter==1.0.0->d2l) (2.20.0)\n",
            "Requirement already satisfied: jsonschema>=2.6 in /usr/local/lib/python3.10/dist-packages (from nbformat>=5.1->nbconvert->jupyter==1.0.0->d2l) (4.23.0)\n",
            "Requirement already satisfied: wcwidth in /usr/local/lib/python3.10/dist-packages (from prompt-toolkit!=3.0.0,!=3.0.1,<3.1.0,>=2.0.0->jupyter-console->jupyter==1.0.0->d2l) (0.2.13)\n",
            "Requirement already satisfied: ptyprocess in /usr/local/lib/python3.10/dist-packages (from terminado>=0.8.3->notebook->jupyter==1.0.0->d2l) (0.7.0)\n",
            "Requirement already satisfied: argon2-cffi-bindings in /usr/local/lib/python3.10/dist-packages (from argon2-cffi->notebook->jupyter==1.0.0->d2l) (21.2.0)\n",
            "Requirement already satisfied: soupsieve>1.2 in /usr/local/lib/python3.10/dist-packages (from beautifulsoup4->nbconvert->jupyter==1.0.0->d2l) (2.6)\n",
            "Requirement already satisfied: webencodings in /usr/local/lib/python3.10/dist-packages (from bleach->nbconvert->jupyter==1.0.0->d2l) (0.5.1)\n",
            "Requirement already satisfied: parso<0.9.0,>=0.8.3 in /usr/local/lib/python3.10/dist-packages (from jedi>=0.16->ipython>=5.0.0->ipykernel->jupyter==1.0.0->d2l) (0.8.4)\n",
            "Requirement already satisfied: attrs>=22.2.0 in /usr/local/lib/python3.10/dist-packages (from jsonschema>=2.6->nbformat>=5.1->nbconvert->jupyter==1.0.0->d2l) (24.2.0)\n",
            "Requirement already satisfied: jsonschema-specifications>=2023.03.6 in /usr/local/lib/python3.10/dist-packages (from jsonschema>=2.6->nbformat>=5.1->nbconvert->jupyter==1.0.0->d2l) (2023.12.1)\n",
            "Requirement already satisfied: referencing>=0.28.4 in /usr/local/lib/python3.10/dist-packages (from jsonschema>=2.6->nbformat>=5.1->nbconvert->jupyter==1.0.0->d2l) (0.35.1)\n",
            "Requirement already satisfied: rpds-py>=0.7.1 in /usr/local/lib/python3.10/dist-packages (from jsonschema>=2.6->nbformat>=5.1->nbconvert->jupyter==1.0.0->d2l) (0.20.0)\n",
            "Requirement already satisfied: jupyter-server<3,>=1.8 in /usr/local/lib/python3.10/dist-packages (from notebook-shim>=0.2.3->nbclassic>=0.4.7->notebook->jupyter==1.0.0->d2l) (1.24.0)\n",
            "Requirement already satisfied: cffi>=1.0.1 in /usr/local/lib/python3.10/dist-packages (from argon2-cffi-bindings->argon2-cffi->notebook->jupyter==1.0.0->d2l) (1.17.1)\n",
            "Requirement already satisfied: pycparser in /usr/local/lib/python3.10/dist-packages (from cffi>=1.0.1->argon2-cffi-bindings->argon2-cffi->notebook->jupyter==1.0.0->d2l) (2.22)\n",
            "Requirement already satisfied: anyio<4,>=3.1.0 in /usr/local/lib/python3.10/dist-packages (from jupyter-server<3,>=1.8->notebook-shim>=0.2.3->nbclassic>=0.4.7->notebook->jupyter==1.0.0->d2l) (3.7.1)\n",
            "Requirement already satisfied: websocket-client in /usr/local/lib/python3.10/dist-packages (from jupyter-server<3,>=1.8->notebook-shim>=0.2.3->nbclassic>=0.4.7->notebook->jupyter==1.0.0->d2l) (1.8.0)\n",
            "Requirement already satisfied: sniffio>=1.1 in /usr/local/lib/python3.10/dist-packages (from anyio<4,>=3.1.0->jupyter-server<3,>=1.8->notebook-shim>=0.2.3->nbclassic>=0.4.7->notebook->jupyter==1.0.0->d2l) (1.3.1)\n",
            "Requirement already satisfied: exceptiongroup in /usr/local/lib/python3.10/dist-packages (from anyio<4,>=3.1.0->jupyter-server<3,>=1.8->notebook-shim>=0.2.3->nbclassic>=0.4.7->notebook->jupyter==1.0.0->d2l) (1.2.2)\n"
          ]
        }
      ]
    },
    {
      "cell_type": "code",
      "source": [
        "import sys\n",
        "import torch.nn as nn\n",
        "import torch\n",
        "import warnings\n",
        "from d2l import torch as d2l # import the torch submodule\n",
        "from torchsummary import summary\n",
        "warnings.filterwarnings(\"ignore\")\n",
        "\n",
        "def stat_params(net, params):\n",
        "    for idx, module in enumerate(net):\n",
        "        if type(module) not in (nn.Linear, nn.Conv2d):\n",
        "            continue\n",
        "        num = sum(p.numel() for p in module.parameters())\n",
        "        if type(module) == nn.Conv2d:\n",
        "            params['conv'] += num\n",
        "        else:\n",
        "            params['lr'] += num\n",
        "    return params # Mengembalikan dictionary params\n",
        "\n",
        "# Contoh penggunaan untuk AlexNet\n",
        "alexnet = d2l.alexnet() # call alexnet on the torch submodule - note the lowercase 'a'\n",
        "params = {'conv': 0, 'lr': 0}\n",
        "stat_params(alexnet, params)\n",
        "print(f\"Jumlah parameter di AlexNet: {params['conv'] + params['lr']}\")\n",
        "\n",
        "# Contoh penggunaan untuk VGG11\n",
        "vgg11 = d2l.vgg11()\n",
        "params = {'conv': 0, 'lr': 0}\n",
        "stat_params(vgg11, params)\n",
        "print(f\"Jumlah parameter di VGG11: {params['conv'] + params['lr']}\")"
      ],
      "metadata": {
        "id": "S0zNjVnbWdl9"
      },
      "execution_count": null,
      "outputs": []
    },
    {
      "cell_type": "markdown",
      "source": [
        "1.2 Compare the number of floating point operations used in the convolutional layers and in the fully connected layers"
      ],
      "metadata": {
        "id": "0yRweGZ61p9l"
      }
    },
    {
      "cell_type": "code",
      "source": [
        "x = torch.randn(1,3, 224, 224)\n",
        "params = {'conv':0, 'lr':0}\n",
        "for idx, module in enumerate(vgg.net):\n",
        "    if type(module) == nn.Sequential:\n",
        "        x = stat_comp(module, params, x)\n",
        "    if type(module) == nn.Linear:\n",
        "        params['lr'] += sum(p.numel() for p in module.parameters())\n",
        "params"
      ],
      "metadata": {
        "id": "jA-yDQALWfbI"
      },
      "execution_count": null,
      "outputs": []
    },
    {
      "cell_type": "code",
      "source": [
        "X = torch.randn(1,3, 224, 224)\n",
        "_ = vgg(X)\n",
        "total_params = sum(p.numel() for p in vgg.parameters())\n",
        "print(\"Total parameters:\", total_params)"
      ],
      "metadata": {
        "id": "IrEjaEBzWhdR"
      },
      "execution_count": null,
      "outputs": []
    },
    {
      "cell_type": "markdown",
      "source": [
        "1.3 How could you reduce the computational cost created by the fully connected layers?"
      ],
      "metadata": {
        "id": "SU5z-aLl1vLz"
      }
    },
    {
      "cell_type": "markdown",
      "source": [
        "- Kurangi Jumlah Unit\n",
        "\n",
        "  Kecilkan ukuran lapisan dengan menggunakan lebih sedikit neuron, yang secara langsung mengurangi jumlah parameter dan komputasi.\n",
        "- Gunakan Global Average Pooling\n",
        "\n",
        "  Ganti lapisan FC dengan global average pooling, yang menghitung rata-rata output untuk setiap peta fitur, sehingga mengurangi jumlah parameter secara signifikan.\n",
        "- Faktorisasi Low-Rank\n",
        "\n",
        "  Faktorkan matriks bobot dari lapisan FC menjadi matriks berperingkat lebih rendah, mengurangi biaya komputasi sambil memperkirakan matriks asli.\n",
        "- Gunakan Lapisan Konvolusional Sebagai Pengganti\n",
        "\n",
        "  Ganti lapisan FC dengan lapisan konvolusional, yang memerlukan lebih sedikit parameter dan lebih efisien dalam menangkap hierarki spasial.\n",
        "- Kuantisasi\n",
        "\n",
        "  Kuantisasi bobot dan aktivasi ke presisi yang lebih rendah, yang dapat mengurangi penggunaan memori dan biaya komputasi secara signifikan."
      ],
      "metadata": {
        "id": "DSizXv0k10zk"
      }
    },
    {
      "cell_type": "markdown",
      "source": [
        "### 2. When displaying the dimensions associated with the various layers of the network, we only see the information associated with eight blocks (plus some auxiliary transforms), even though the network has 11 layers. Where did the remaining three layers go?"
      ],
      "metadata": {
        "id": "eXl0tCLA0siN"
      }
    },
    {
      "cell_type": "markdown",
      "source": [
        "### 3. Use Table 1 in the VGG paper (Simonyan and Zisserman, 2014) to construct other common models, such as VGG-16 or VGG-19."
      ],
      "metadata": {
        "id": "rhBkbZR40zQV"
      }
    },
    {
      "cell_type": "code",
      "source": [
        "vgg"
      ],
      "metadata": {
        "id": "IZSm05N3Wk1G"
      },
      "execution_count": null,
      "outputs": []
    },
    {
      "cell_type": "code",
      "source": [
        "arch16=((2, 64), (2, 128), (3, 256), (3, 512), (3, 512))\n",
        "vgg16 = VGG(arch=arch16)\n",
        "vgg16"
      ],
      "metadata": {
        "id": "HtKDsu-Y1TeK",
        "colab": {
          "base_uri": "https://localhost:8080/"
        },
        "outputId": "a4694cec-f9c8-4822-e1be-caa0d587a5d2"
      },
      "execution_count": 103,
      "outputs": [
        {
          "output_type": "execute_result",
          "data": {
            "text/plain": [
              "VGG(\n",
              "  (net): Sequential(\n",
              "    (0): Sequential(\n",
              "      (0): LazyConv2d(0, 64, kernel_size=(3, 3), stride=(1, 1), padding=(1, 1))\n",
              "      (1): ReLU()\n",
              "      (2): LazyConv2d(0, 64, kernel_size=(3, 3), stride=(1, 1), padding=(1, 1))\n",
              "      (3): ReLU()\n",
              "      (4): MaxPool2d(kernel_size=2, stride=2, padding=0, dilation=1, ceil_mode=False)\n",
              "    )\n",
              "    (1): Sequential(\n",
              "      (0): LazyConv2d(0, 128, kernel_size=(3, 3), stride=(1, 1), padding=(1, 1))\n",
              "      (1): ReLU()\n",
              "      (2): LazyConv2d(0, 128, kernel_size=(3, 3), stride=(1, 1), padding=(1, 1))\n",
              "      (3): ReLU()\n",
              "      (4): MaxPool2d(kernel_size=2, stride=2, padding=0, dilation=1, ceil_mode=False)\n",
              "    )\n",
              "    (2): Sequential(\n",
              "      (0): LazyConv2d(0, 256, kernel_size=(3, 3), stride=(1, 1), padding=(1, 1))\n",
              "      (1): ReLU()\n",
              "      (2): LazyConv2d(0, 256, kernel_size=(3, 3), stride=(1, 1), padding=(1, 1))\n",
              "      (3): ReLU()\n",
              "      (4): LazyConv2d(0, 256, kernel_size=(3, 3), stride=(1, 1), padding=(1, 1))\n",
              "      (5): ReLU()\n",
              "      (6): MaxPool2d(kernel_size=2, stride=2, padding=0, dilation=1, ceil_mode=False)\n",
              "    )\n",
              "    (3): Sequential(\n",
              "      (0): LazyConv2d(0, 512, kernel_size=(3, 3), stride=(1, 1), padding=(1, 1))\n",
              "      (1): ReLU()\n",
              "      (2): LazyConv2d(0, 512, kernel_size=(3, 3), stride=(1, 1), padding=(1, 1))\n",
              "      (3): ReLU()\n",
              "      (4): LazyConv2d(0, 512, kernel_size=(3, 3), stride=(1, 1), padding=(1, 1))\n",
              "      (5): ReLU()\n",
              "      (6): MaxPool2d(kernel_size=2, stride=2, padding=0, dilation=1, ceil_mode=False)\n",
              "    )\n",
              "    (4): Sequential(\n",
              "      (0): LazyConv2d(0, 512, kernel_size=(3, 3), stride=(1, 1), padding=(1, 1))\n",
              "      (1): ReLU()\n",
              "      (2): LazyConv2d(0, 512, kernel_size=(3, 3), stride=(1, 1), padding=(1, 1))\n",
              "      (3): ReLU()\n",
              "      (4): LazyConv2d(0, 512, kernel_size=(3, 3), stride=(1, 1), padding=(1, 1))\n",
              "      (5): ReLU()\n",
              "      (6): MaxPool2d(kernel_size=2, stride=2, padding=0, dilation=1, ceil_mode=False)\n",
              "    )\n",
              "    (5): Flatten(start_dim=1, end_dim=-1)\n",
              "    (6): LazyLinear(in_features=0, out_features=4096, bias=True)\n",
              "    (7): ReLU()\n",
              "    (8): Dropout(p=0.5, inplace=False)\n",
              "    (9): LazyLinear(in_features=0, out_features=4096, bias=True)\n",
              "    (10): ReLU()\n",
              "    (11): Dropout(p=0.5, inplace=False)\n",
              "    (12): LazyLinear(in_features=0, out_features=10, bias=True)\n",
              "  )\n",
              ")"
            ]
          },
          "metadata": {},
          "execution_count": 103
        }
      ]
    },
    {
      "cell_type": "code",
      "source": [
        "arch19=((2, 64), (2, 128), (4, 256), (4, 512), (4, 512))\n",
        "vgg19 = VGG(arch=arch19)\n",
        "vgg19"
      ],
      "metadata": {
        "id": "g_KD1M_o1QuG",
        "colab": {
          "base_uri": "https://localhost:8080/"
        },
        "outputId": "48fb4d91-c2cd-4022-954d-f46852c71ac1"
      },
      "execution_count": 104,
      "outputs": [
        {
          "output_type": "execute_result",
          "data": {
            "text/plain": [
              "VGG(\n",
              "  (net): Sequential(\n",
              "    (0): Sequential(\n",
              "      (0): LazyConv2d(0, 64, kernel_size=(3, 3), stride=(1, 1), padding=(1, 1))\n",
              "      (1): ReLU()\n",
              "      (2): LazyConv2d(0, 64, kernel_size=(3, 3), stride=(1, 1), padding=(1, 1))\n",
              "      (3): ReLU()\n",
              "      (4): MaxPool2d(kernel_size=2, stride=2, padding=0, dilation=1, ceil_mode=False)\n",
              "    )\n",
              "    (1): Sequential(\n",
              "      (0): LazyConv2d(0, 128, kernel_size=(3, 3), stride=(1, 1), padding=(1, 1))\n",
              "      (1): ReLU()\n",
              "      (2): LazyConv2d(0, 128, kernel_size=(3, 3), stride=(1, 1), padding=(1, 1))\n",
              "      (3): ReLU()\n",
              "      (4): MaxPool2d(kernel_size=2, stride=2, padding=0, dilation=1, ceil_mode=False)\n",
              "    )\n",
              "    (2): Sequential(\n",
              "      (0): LazyConv2d(0, 256, kernel_size=(3, 3), stride=(1, 1), padding=(1, 1))\n",
              "      (1): ReLU()\n",
              "      (2): LazyConv2d(0, 256, kernel_size=(3, 3), stride=(1, 1), padding=(1, 1))\n",
              "      (3): ReLU()\n",
              "      (4): LazyConv2d(0, 256, kernel_size=(3, 3), stride=(1, 1), padding=(1, 1))\n",
              "      (5): ReLU()\n",
              "      (6): LazyConv2d(0, 256, kernel_size=(3, 3), stride=(1, 1), padding=(1, 1))\n",
              "      (7): ReLU()\n",
              "      (8): MaxPool2d(kernel_size=2, stride=2, padding=0, dilation=1, ceil_mode=False)\n",
              "    )\n",
              "    (3): Sequential(\n",
              "      (0): LazyConv2d(0, 512, kernel_size=(3, 3), stride=(1, 1), padding=(1, 1))\n",
              "      (1): ReLU()\n",
              "      (2): LazyConv2d(0, 512, kernel_size=(3, 3), stride=(1, 1), padding=(1, 1))\n",
              "      (3): ReLU()\n",
              "      (4): LazyConv2d(0, 512, kernel_size=(3, 3), stride=(1, 1), padding=(1, 1))\n",
              "      (5): ReLU()\n",
              "      (6): LazyConv2d(0, 512, kernel_size=(3, 3), stride=(1, 1), padding=(1, 1))\n",
              "      (7): ReLU()\n",
              "      (8): MaxPool2d(kernel_size=2, stride=2, padding=0, dilation=1, ceil_mode=False)\n",
              "    )\n",
              "    (4): Sequential(\n",
              "      (0): LazyConv2d(0, 512, kernel_size=(3, 3), stride=(1, 1), padding=(1, 1))\n",
              "      (1): ReLU()\n",
              "      (2): LazyConv2d(0, 512, kernel_size=(3, 3), stride=(1, 1), padding=(1, 1))\n",
              "      (3): ReLU()\n",
              "      (4): LazyConv2d(0, 512, kernel_size=(3, 3), stride=(1, 1), padding=(1, 1))\n",
              "      (5): ReLU()\n",
              "      (6): LazyConv2d(0, 512, kernel_size=(3, 3), stride=(1, 1), padding=(1, 1))\n",
              "      (7): ReLU()\n",
              "      (8): MaxPool2d(kernel_size=2, stride=2, padding=0, dilation=1, ceil_mode=False)\n",
              "    )\n",
              "    (5): Flatten(start_dim=1, end_dim=-1)\n",
              "    (6): LazyLinear(in_features=0, out_features=4096, bias=True)\n",
              "    (7): ReLU()\n",
              "    (8): Dropout(p=0.5, inplace=False)\n",
              "    (9): LazyLinear(in_features=0, out_features=4096, bias=True)\n",
              "    (10): ReLU()\n",
              "    (11): Dropout(p=0.5, inplace=False)\n",
              "    (12): LazyLinear(in_features=0, out_features=10, bias=True)\n",
              "  )\n",
              ")"
            ]
          },
          "metadata": {},
          "execution_count": 104
        }
      ]
    },
    {
      "cell_type": "markdown",
      "source": [
        "### 4. Upsampling the resolution in Fashion-MNIST eight-fold from to dimensions is very wasteful. Try modifying the network architecture and resolution conversion, e.g., to 56 or to 84 dimensions for its input instead. Can you do so without reducing the accuracy of the network? Consult the VGG paper (Simonyan and Zisserman, 2014) for ideas on adding more nonlinearities prior to downsampling."
      ],
      "metadata": {
        "id": "DNth8YqC02c5"
      }
    },
    {
      "cell_type": "code",
      "source": [
        "model = VGG(arch=((3, 128), (3, 256)), lr=0.01)\n",
        "trainer = d2l.Trainer(max_epochs=10, num_gpus=1)\n",
        "data = d2l.FashionMNIST(batch_size=128, resize=(28, 28))\n",
        "trainer.fit(model, data)\n"
      ],
      "metadata": {
        "id": "OPH-SeLC1PiL",
        "colab": {
          "base_uri": "https://localhost:8080/",
          "height": 265
        },
        "outputId": "0dd39869-d7f8-4f05-cefa-9f36981e6c24"
      },
      "execution_count": 105,
      "outputs": [
        {
          "output_type": "display_data",
          "data": {
            "text/plain": [
              "<Figure size 350x250 with 1 Axes>"
            ],
            "image/svg+xml": "<?xml version=\"1.0\" encoding=\"utf-8\" standalone=\"no\"?>\n<!DOCTYPE svg PUBLIC \"-//W3C//DTD SVG 1.1//EN\"\n  \"http://www.w3.org/Graphics/SVG/1.1/DTD/svg11.dtd\">\n<svg xmlns:xlink=\"http://www.w3.org/1999/xlink\" width=\"238.965625pt\" height=\"183.35625pt\" viewBox=\"0 0 238.965625 183.35625\" xmlns=\"http://www.w3.org/2000/svg\" version=\"1.1\">\n <metadata>\n  <rdf:RDF xmlns:dc=\"http://purl.org/dc/elements/1.1/\" xmlns:cc=\"http://creativecommons.org/ns#\" xmlns:rdf=\"http://www.w3.org/1999/02/22-rdf-syntax-ns#\">\n   <cc:Work>\n    <dc:type rdf:resource=\"http://purl.org/dc/dcmitype/StillImage\"/>\n    <dc:date>2024-10-04T15:57:12.534189</dc:date>\n    <dc:format>image/svg+xml</dc:format>\n    <dc:creator>\n     <cc:Agent>\n      <dc:title>Matplotlib v3.7.2, https://matplotlib.org/</dc:title>\n     </cc:Agent>\n    </dc:creator>\n   </cc:Work>\n  </rdf:RDF>\n </metadata>\n <defs>\n  <style type=\"text/css\">*{stroke-linejoin: round; stroke-linecap: butt}</style>\n </defs>\n <g id=\"figure_1\">\n  <g id=\"patch_1\">\n   <path d=\"M 0 183.35625 \nL 238.965625 183.35625 \nL 238.965625 0 \nL 0 0 \nz\n\" style=\"fill: #ffffff\"/>\n  </g>\n  <g id=\"axes_1\">\n   <g id=\"patch_2\">\n    <path d=\"M 30.103125 145.8 \nL 225.403125 145.8 \nL 225.403125 7.2 \nL 30.103125 7.2 \nz\n\" style=\"fill: #ffffff\"/>\n   </g>\n   <g id=\"matplotlib.axis_1\">\n    <g id=\"xtick_1\">\n     <g id=\"line2d_1\">\n      <defs>\n       <path id=\"ma896bb2d4b\" d=\"M 0 0 \nL 0 3.5 \n\" style=\"stroke: #000000; stroke-width: 0.8\"/>\n      </defs>\n      <g>\n       <use xlink:href=\"#ma896bb2d4b\" x=\"30.103125\" y=\"145.8\" style=\"stroke: #000000; stroke-width: 0.8\"/>\n      </g>\n     </g>\n     <g id=\"text_1\">\n      <!-- 0 -->\n      <g transform=\"translate(26.921875 160.398438) scale(0.1 -0.1)\">\n       <defs>\n        <path id=\"DejaVuSans-30\" d=\"M 2034 4250 \nQ 1547 4250 1301 3770 \nQ 1056 3291 1056 2328 \nQ 1056 1369 1301 889 \nQ 1547 409 2034 409 \nQ 2525 409 2770 889 \nQ 3016 1369 3016 2328 \nQ 3016 3291 2770 3770 \nQ 2525 4250 2034 4250 \nz\nM 2034 4750 \nQ 2819 4750 3233 4129 \nQ 3647 3509 3647 2328 \nQ 3647 1150 3233 529 \nQ 2819 -91 2034 -91 \nQ 1250 -91 836 529 \nQ 422 1150 422 2328 \nQ 422 3509 836 4129 \nQ 1250 4750 2034 4750 \nz\n\" transform=\"scale(0.015625)\"/>\n       </defs>\n       <use xlink:href=\"#DejaVuSans-30\"/>\n      </g>\n     </g>\n    </g>\n    <g id=\"xtick_2\">\n     <g id=\"line2d_2\">\n      <g>\n       <use xlink:href=\"#ma896bb2d4b\" x=\"69.163125\" y=\"145.8\" style=\"stroke: #000000; stroke-width: 0.8\"/>\n      </g>\n     </g>\n     <g id=\"text_2\">\n      <!-- 2 -->\n      <g transform=\"translate(65.981875 160.398438) scale(0.1 -0.1)\">\n       <defs>\n        <path id=\"DejaVuSans-32\" d=\"M 1228 531 \nL 3431 531 \nL 3431 0 \nL 469 0 \nL 469 531 \nQ 828 903 1448 1529 \nQ 2069 2156 2228 2338 \nQ 2531 2678 2651 2914 \nQ 2772 3150 2772 3378 \nQ 2772 3750 2511 3984 \nQ 2250 4219 1831 4219 \nQ 1534 4219 1204 4116 \nQ 875 4013 500 3803 \nL 500 4441 \nQ 881 4594 1212 4672 \nQ 1544 4750 1819 4750 \nQ 2544 4750 2975 4387 \nQ 3406 4025 3406 3419 \nQ 3406 3131 3298 2873 \nQ 3191 2616 2906 2266 \nQ 2828 2175 2409 1742 \nQ 1991 1309 1228 531 \nz\n\" transform=\"scale(0.015625)\"/>\n       </defs>\n       <use xlink:href=\"#DejaVuSans-32\"/>\n      </g>\n     </g>\n    </g>\n    <g id=\"xtick_3\">\n     <g id=\"line2d_3\">\n      <g>\n       <use xlink:href=\"#ma896bb2d4b\" x=\"108.223125\" y=\"145.8\" style=\"stroke: #000000; stroke-width: 0.8\"/>\n      </g>\n     </g>\n     <g id=\"text_3\">\n      <!-- 4 -->\n      <g transform=\"translate(105.041875 160.398438) scale(0.1 -0.1)\">\n       <defs>\n        <path id=\"DejaVuSans-34\" d=\"M 2419 4116 \nL 825 1625 \nL 2419 1625 \nL 2419 4116 \nz\nM 2253 4666 \nL 3047 4666 \nL 3047 1625 \nL 3713 1625 \nL 3713 1100 \nL 3047 1100 \nL 3047 0 \nL 2419 0 \nL 2419 1100 \nL 313 1100 \nL 313 1709 \nL 2253 4666 \nz\n\" transform=\"scale(0.015625)\"/>\n       </defs>\n       <use xlink:href=\"#DejaVuSans-34\"/>\n      </g>\n     </g>\n    </g>\n    <g id=\"xtick_4\">\n     <g id=\"line2d_4\">\n      <g>\n       <use xlink:href=\"#ma896bb2d4b\" x=\"147.283125\" y=\"145.8\" style=\"stroke: #000000; stroke-width: 0.8\"/>\n      </g>\n     </g>\n     <g id=\"text_4\">\n      <!-- 6 -->\n      <g transform=\"translate(144.101875 160.398438) scale(0.1 -0.1)\">\n       <defs>\n        <path id=\"DejaVuSans-36\" d=\"M 2113 2584 \nQ 1688 2584 1439 2293 \nQ 1191 2003 1191 1497 \nQ 1191 994 1439 701 \nQ 1688 409 2113 409 \nQ 2538 409 2786 701 \nQ 3034 994 3034 1497 \nQ 3034 2003 2786 2293 \nQ 2538 2584 2113 2584 \nz\nM 3366 4563 \nL 3366 3988 \nQ 3128 4100 2886 4159 \nQ 2644 4219 2406 4219 \nQ 1781 4219 1451 3797 \nQ 1122 3375 1075 2522 \nQ 1259 2794 1537 2939 \nQ 1816 3084 2150 3084 \nQ 2853 3084 3261 2657 \nQ 3669 2231 3669 1497 \nQ 3669 778 3244 343 \nQ 2819 -91 2113 -91 \nQ 1303 -91 875 529 \nQ 447 1150 447 2328 \nQ 447 3434 972 4092 \nQ 1497 4750 2381 4750 \nQ 2619 4750 2861 4703 \nQ 3103 4656 3366 4563 \nz\n\" transform=\"scale(0.015625)\"/>\n       </defs>\n       <use xlink:href=\"#DejaVuSans-36\"/>\n      </g>\n     </g>\n    </g>\n    <g id=\"xtick_5\">\n     <g id=\"line2d_5\">\n      <g>\n       <use xlink:href=\"#ma896bb2d4b\" x=\"186.343125\" y=\"145.8\" style=\"stroke: #000000; stroke-width: 0.8\"/>\n      </g>\n     </g>\n     <g id=\"text_5\">\n      <!-- 8 -->\n      <g transform=\"translate(183.161875 160.398438) scale(0.1 -0.1)\">\n       <defs>\n        <path id=\"DejaVuSans-38\" d=\"M 2034 2216 \nQ 1584 2216 1326 1975 \nQ 1069 1734 1069 1313 \nQ 1069 891 1326 650 \nQ 1584 409 2034 409 \nQ 2484 409 2743 651 \nQ 3003 894 3003 1313 \nQ 3003 1734 2745 1975 \nQ 2488 2216 2034 2216 \nz\nM 1403 2484 \nQ 997 2584 770 2862 \nQ 544 3141 544 3541 \nQ 544 4100 942 4425 \nQ 1341 4750 2034 4750 \nQ 2731 4750 3128 4425 \nQ 3525 4100 3525 3541 \nQ 3525 3141 3298 2862 \nQ 3072 2584 2669 2484 \nQ 3125 2378 3379 2068 \nQ 3634 1759 3634 1313 \nQ 3634 634 3220 271 \nQ 2806 -91 2034 -91 \nQ 1263 -91 848 271 \nQ 434 634 434 1313 \nQ 434 1759 690 2068 \nQ 947 2378 1403 2484 \nz\nM 1172 3481 \nQ 1172 3119 1398 2916 \nQ 1625 2713 2034 2713 \nQ 2441 2713 2670 2916 \nQ 2900 3119 2900 3481 \nQ 2900 3844 2670 4047 \nQ 2441 4250 2034 4250 \nQ 1625 4250 1398 4047 \nQ 1172 3844 1172 3481 \nz\n\" transform=\"scale(0.015625)\"/>\n       </defs>\n       <use xlink:href=\"#DejaVuSans-38\"/>\n      </g>\n     </g>\n    </g>\n    <g id=\"xtick_6\">\n     <g id=\"line2d_6\">\n      <g>\n       <use xlink:href=\"#ma896bb2d4b\" x=\"225.403125\" y=\"145.8\" style=\"stroke: #000000; stroke-width: 0.8\"/>\n      </g>\n     </g>\n     <g id=\"text_6\">\n      <!-- 10 -->\n      <g transform=\"translate(219.040625 160.398438) scale(0.1 -0.1)\">\n       <defs>\n        <path id=\"DejaVuSans-31\" d=\"M 794 531 \nL 1825 531 \nL 1825 4091 \nL 703 3866 \nL 703 4441 \nL 1819 4666 \nL 2450 4666 \nL 2450 531 \nL 3481 531 \nL 3481 0 \nL 794 0 \nL 794 531 \nz\n\" transform=\"scale(0.015625)\"/>\n       </defs>\n       <use xlink:href=\"#DejaVuSans-31\"/>\n       <use xlink:href=\"#DejaVuSans-30\" x=\"63.623047\"/>\n      </g>\n     </g>\n    </g>\n    <g id=\"text_7\">\n     <!-- epoch -->\n     <g transform=\"translate(112.525 174.076563) scale(0.1 -0.1)\">\n      <defs>\n       <path id=\"DejaVuSans-65\" d=\"M 3597 1894 \nL 3597 1613 \nL 953 1613 \nQ 991 1019 1311 708 \nQ 1631 397 2203 397 \nQ 2534 397 2845 478 \nQ 3156 559 3463 722 \nL 3463 178 \nQ 3153 47 2828 -22 \nQ 2503 -91 2169 -91 \nQ 1331 -91 842 396 \nQ 353 884 353 1716 \nQ 353 2575 817 3079 \nQ 1281 3584 2069 3584 \nQ 2775 3584 3186 3129 \nQ 3597 2675 3597 1894 \nz\nM 3022 2063 \nQ 3016 2534 2758 2815 \nQ 2500 3097 2075 3097 \nQ 1594 3097 1305 2825 \nQ 1016 2553 972 2059 \nL 3022 2063 \nz\n\" transform=\"scale(0.015625)\"/>\n       <path id=\"DejaVuSans-70\" d=\"M 1159 525 \nL 1159 -1331 \nL 581 -1331 \nL 581 3500 \nL 1159 3500 \nL 1159 2969 \nQ 1341 3281 1617 3432 \nQ 1894 3584 2278 3584 \nQ 2916 3584 3314 3078 \nQ 3713 2572 3713 1747 \nQ 3713 922 3314 415 \nQ 2916 -91 2278 -91 \nQ 1894 -91 1617 61 \nQ 1341 213 1159 525 \nz\nM 3116 1747 \nQ 3116 2381 2855 2742 \nQ 2594 3103 2138 3103 \nQ 1681 3103 1420 2742 \nQ 1159 2381 1159 1747 \nQ 1159 1113 1420 752 \nQ 1681 391 2138 391 \nQ 2594 391 2855 752 \nQ 3116 1113 3116 1747 \nz\n\" transform=\"scale(0.015625)\"/>\n       <path id=\"DejaVuSans-6f\" d=\"M 1959 3097 \nQ 1497 3097 1228 2736 \nQ 959 2375 959 1747 \nQ 959 1119 1226 758 \nQ 1494 397 1959 397 \nQ 2419 397 2687 759 \nQ 2956 1122 2956 1747 \nQ 2956 2369 2687 2733 \nQ 2419 3097 1959 3097 \nz\nM 1959 3584 \nQ 2709 3584 3137 3096 \nQ 3566 2609 3566 1747 \nQ 3566 888 3137 398 \nQ 2709 -91 1959 -91 \nQ 1206 -91 779 398 \nQ 353 888 353 1747 \nQ 353 2609 779 3096 \nQ 1206 3584 1959 3584 \nz\n\" transform=\"scale(0.015625)\"/>\n       <path id=\"DejaVuSans-63\" d=\"M 3122 3366 \nL 3122 2828 \nQ 2878 2963 2633 3030 \nQ 2388 3097 2138 3097 \nQ 1578 3097 1268 2742 \nQ 959 2388 959 1747 \nQ 959 1106 1268 751 \nQ 1578 397 2138 397 \nQ 2388 397 2633 464 \nQ 2878 531 3122 666 \nL 3122 134 \nQ 2881 22 2623 -34 \nQ 2366 -91 2075 -91 \nQ 1284 -91 818 406 \nQ 353 903 353 1747 \nQ 353 2603 823 3093 \nQ 1294 3584 2113 3584 \nQ 2378 3584 2631 3529 \nQ 2884 3475 3122 3366 \nz\n\" transform=\"scale(0.015625)\"/>\n       <path id=\"DejaVuSans-68\" d=\"M 3513 2113 \nL 3513 0 \nL 2938 0 \nL 2938 2094 \nQ 2938 2591 2744 2837 \nQ 2550 3084 2163 3084 \nQ 1697 3084 1428 2787 \nQ 1159 2491 1159 1978 \nL 1159 0 \nL 581 0 \nL 581 4863 \nL 1159 4863 \nL 1159 2956 \nQ 1366 3272 1645 3428 \nQ 1925 3584 2291 3584 \nQ 2894 3584 3203 3211 \nQ 3513 2838 3513 2113 \nz\n\" transform=\"scale(0.015625)\"/>\n      </defs>\n      <use xlink:href=\"#DejaVuSans-65\"/>\n      <use xlink:href=\"#DejaVuSans-70\" x=\"61.523438\"/>\n      <use xlink:href=\"#DejaVuSans-6f\" x=\"125\"/>\n      <use xlink:href=\"#DejaVuSans-63\" x=\"186.181641\"/>\n      <use xlink:href=\"#DejaVuSans-68\" x=\"241.162109\"/>\n     </g>\n    </g>\n   </g>\n   <g id=\"matplotlib.axis_2\">\n    <g id=\"ytick_1\">\n     <g id=\"line2d_7\">\n      <defs>\n       <path id=\"m5ed4bb611f\" d=\"M 0 0 \nL -3.5 0 \n\" style=\"stroke: #000000; stroke-width: 0.8\"/>\n      </defs>\n      <g>\n       <use xlink:href=\"#m5ed4bb611f\" x=\"30.103125\" y=\"119.046593\" style=\"stroke: #000000; stroke-width: 0.8\"/>\n      </g>\n     </g>\n     <g id=\"text_8\">\n      <!-- 0.5 -->\n      <g transform=\"translate(7.2 122.845812) scale(0.1 -0.1)\">\n       <defs>\n        <path id=\"DejaVuSans-2e\" d=\"M 684 794 \nL 1344 794 \nL 1344 0 \nL 684 0 \nL 684 794 \nz\n\" transform=\"scale(0.015625)\"/>\n        <path id=\"DejaVuSans-35\" d=\"M 691 4666 \nL 3169 4666 \nL 3169 4134 \nL 1269 4134 \nL 1269 2991 \nQ 1406 3038 1543 3061 \nQ 1681 3084 1819 3084 \nQ 2600 3084 3056 2656 \nQ 3513 2228 3513 1497 \nQ 3513 744 3044 326 \nQ 2575 -91 1722 -91 \nQ 1428 -91 1123 -41 \nQ 819 9 494 109 \nL 494 744 \nQ 775 591 1075 516 \nQ 1375 441 1709 441 \nQ 2250 441 2565 725 \nQ 2881 1009 2881 1497 \nQ 2881 1984 2565 2268 \nQ 2250 2553 1709 2553 \nQ 1456 2553 1204 2497 \nQ 953 2441 691 2322 \nL 691 4666 \nz\n\" transform=\"scale(0.015625)\"/>\n       </defs>\n       <use xlink:href=\"#DejaVuSans-30\"/>\n       <use xlink:href=\"#DejaVuSans-2e\" x=\"63.623047\"/>\n       <use xlink:href=\"#DejaVuSans-35\" x=\"95.410156\"/>\n      </g>\n     </g>\n    </g>\n    <g id=\"ytick_2\">\n     <g id=\"line2d_8\">\n      <g>\n       <use xlink:href=\"#m5ed4bb611f\" x=\"30.103125\" y=\"89.767878\" style=\"stroke: #000000; stroke-width: 0.8\"/>\n      </g>\n     </g>\n     <g id=\"text_9\">\n      <!-- 1.0 -->\n      <g transform=\"translate(7.2 93.567097) scale(0.1 -0.1)\">\n       <use xlink:href=\"#DejaVuSans-31\"/>\n       <use xlink:href=\"#DejaVuSans-2e\" x=\"63.623047\"/>\n       <use xlink:href=\"#DejaVuSans-30\" x=\"95.410156\"/>\n      </g>\n     </g>\n    </g>\n    <g id=\"ytick_3\">\n     <g id=\"line2d_9\">\n      <g>\n       <use xlink:href=\"#m5ed4bb611f\" x=\"30.103125\" y=\"60.489162\" style=\"stroke: #000000; stroke-width: 0.8\"/>\n      </g>\n     </g>\n     <g id=\"text_10\">\n      <!-- 1.5 -->\n      <g transform=\"translate(7.2 64.288381) scale(0.1 -0.1)\">\n       <use xlink:href=\"#DejaVuSans-31\"/>\n       <use xlink:href=\"#DejaVuSans-2e\" x=\"63.623047\"/>\n       <use xlink:href=\"#DejaVuSans-35\" x=\"95.410156\"/>\n      </g>\n     </g>\n    </g>\n    <g id=\"ytick_4\">\n     <g id=\"line2d_10\">\n      <g>\n       <use xlink:href=\"#m5ed4bb611f\" x=\"30.103125\" y=\"31.210447\" style=\"stroke: #000000; stroke-width: 0.8\"/>\n      </g>\n     </g>\n     <g id=\"text_11\">\n      <!-- 2.0 -->\n      <g transform=\"translate(7.2 35.009665) scale(0.1 -0.1)\">\n       <use xlink:href=\"#DejaVuSans-32\"/>\n       <use xlink:href=\"#DejaVuSans-2e\" x=\"63.623047\"/>\n       <use xlink:href=\"#DejaVuSans-30\" x=\"95.410156\"/>\n      </g>\n     </g>\n    </g>\n   </g>\n   <g id=\"line2d_11\">\n    <path d=\"M 34.954394 13.5 \n\" clip-path=\"url(#p36d30ba43d)\" style=\"fill: none; stroke: #1f77b4; stroke-width: 1.5; stroke-linecap: square\"/>\n   </g>\n   <g id=\"line2d_12\">\n    <path d=\"M 34.954394 13.5 \nL 44.698573 13.52288 \n\" clip-path=\"url(#p36d30ba43d)\" style=\"fill: none; stroke: #1f77b4; stroke-width: 1.5; stroke-linecap: square\"/>\n   </g>\n   <g id=\"line2d_13\">\n    <path d=\"M 34.954394 13.5 \nL 44.698573 13.52288 \n\" clip-path=\"url(#p36d30ba43d)\" style=\"fill: none; stroke: #1f77b4; stroke-width: 1.5; stroke-linecap: square\"/>\n   </g>\n   <g id=\"line2d_14\">\n    <path d=\"M 49.633125 13.54214 \n\" clip-path=\"url(#p36d30ba43d)\" style=\"fill: none; stroke-dasharray: 5.55,2.4; stroke-dashoffset: 0; stroke: #ff7f0e; stroke-width: 1.5\"/>\n   </g>\n   <g id=\"line2d_15\"/>\n   <g id=\"line2d_16\">\n    <path d=\"M 34.954394 13.5 \nL 44.698573 13.52288 \n\" clip-path=\"url(#p36d30ba43d)\" style=\"fill: none; stroke: #1f77b4; stroke-width: 1.5; stroke-linecap: square\"/>\n   </g>\n   <g id=\"line2d_17\">\n    <path d=\"M 49.633125 13.54214 \n\" clip-path=\"url(#p36d30ba43d)\" style=\"fill: none; stroke-dasharray: 5.55,2.4; stroke-dashoffset: 0; stroke: #ff7f0e; stroke-width: 1.5\"/>\n   </g>\n   <g id=\"line2d_18\">\n    <path d=\"M 49.633125 139.5 \n\" clip-path=\"url(#p36d30ba43d)\" style=\"fill: none; stroke-dasharray: 9.6,2.4,1.5,2.4; stroke-dashoffset: 0; stroke: #2ca02c; stroke-width: 1.5\"/>\n   </g>\n   <g id=\"line2d_19\">\n    <path d=\"M 34.954394 13.5 \nL 44.698573 13.52288 \nL 54.442752 13.556212 \n\" clip-path=\"url(#p36d30ba43d)\" style=\"fill: none; stroke: #1f77b4; stroke-width: 1.5; stroke-linecap: square\"/>\n   </g>\n   <g id=\"line2d_20\">\n    <path d=\"M 49.633125 13.54214 \n\" clip-path=\"url(#p36d30ba43d)\" style=\"fill: none; stroke-dasharray: 5.55,2.4; stroke-dashoffset: 0; stroke: #ff7f0e; stroke-width: 1.5\"/>\n   </g>\n   <g id=\"line2d_21\">\n    <path d=\"M 49.633125 139.5 \n\" clip-path=\"url(#p36d30ba43d)\" style=\"fill: none; stroke-dasharray: 9.6,2.4,1.5,2.4; stroke-dashoffset: 0; stroke: #2ca02c; stroke-width: 1.5\"/>\n   </g>\n   <g id=\"line2d_22\">\n    <path d=\"M 34.954394 13.5 \nL 44.698573 13.52288 \nL 54.442752 13.556212 \nL 64.186931 13.630644 \n\" clip-path=\"url(#p36d30ba43d)\" style=\"fill: none; stroke: #1f77b4; stroke-width: 1.5; stroke-linecap: square\"/>\n   </g>\n   <g id=\"line2d_23\">\n    <path d=\"M 49.633125 13.54214 \n\" clip-path=\"url(#p36d30ba43d)\" style=\"fill: none; stroke-dasharray: 5.55,2.4; stroke-dashoffset: 0; stroke: #ff7f0e; stroke-width: 1.5\"/>\n   </g>\n   <g id=\"line2d_24\">\n    <path d=\"M 49.633125 139.5 \n\" clip-path=\"url(#p36d30ba43d)\" style=\"fill: none; stroke-dasharray: 9.6,2.4,1.5,2.4; stroke-dashoffset: 0; stroke: #2ca02c; stroke-width: 1.5\"/>\n   </g>\n   <g id=\"line2d_25\">\n    <path d=\"M 34.954394 13.5 \nL 44.698573 13.52288 \nL 54.442752 13.556212 \nL 64.186931 13.630644 \n\" clip-path=\"url(#p36d30ba43d)\" style=\"fill: none; stroke: #1f77b4; stroke-width: 1.5; stroke-linecap: square\"/>\n   </g>\n   <g id=\"line2d_26\">\n    <path d=\"M 49.633125 13.54214 \nL 69.163125 13.721817 \n\" clip-path=\"url(#p36d30ba43d)\" style=\"fill: none; stroke-dasharray: 5.55,2.4; stroke-dashoffset: 0; stroke: #ff7f0e; stroke-width: 1.5\"/>\n   </g>\n   <g id=\"line2d_27\">\n    <path d=\"M 49.633125 139.5 \n\" clip-path=\"url(#p36d30ba43d)\" style=\"fill: none; stroke-dasharray: 9.6,2.4,1.5,2.4; stroke-dashoffset: 0; stroke: #2ca02c; stroke-width: 1.5\"/>\n   </g>\n   <g id=\"line2d_28\">\n    <path d=\"M 34.954394 13.5 \nL 44.698573 13.52288 \nL 54.442752 13.556212 \nL 64.186931 13.630644 \n\" clip-path=\"url(#p36d30ba43d)\" style=\"fill: none; stroke: #1f77b4; stroke-width: 1.5; stroke-linecap: square\"/>\n   </g>\n   <g id=\"line2d_29\">\n    <path d=\"M 49.633125 13.54214 \nL 69.163125 13.721817 \n\" clip-path=\"url(#p36d30ba43d)\" style=\"fill: none; stroke-dasharray: 5.55,2.4; stroke-dashoffset: 0; stroke: #ff7f0e; stroke-width: 1.5\"/>\n   </g>\n   <g id=\"line2d_30\">\n    <path d=\"M 49.633125 139.5 \nL 69.163125 125.202304 \n\" clip-path=\"url(#p36d30ba43d)\" style=\"fill: none; stroke-dasharray: 9.6,2.4,1.5,2.4; stroke-dashoffset: 0; stroke: #2ca02c; stroke-width: 1.5\"/>\n   </g>\n   <g id=\"line2d_31\">\n    <path d=\"M 34.954394 13.5 \nL 44.698573 13.52288 \nL 54.442752 13.556212 \nL 64.186931 13.630644 \nL 73.93111 13.878073 \n\" clip-path=\"url(#p36d30ba43d)\" style=\"fill: none; stroke: #1f77b4; stroke-width: 1.5; stroke-linecap: square\"/>\n   </g>\n   <g id=\"line2d_32\">\n    <path d=\"M 49.633125 13.54214 \nL 69.163125 13.721817 \n\" clip-path=\"url(#p36d30ba43d)\" style=\"fill: none; stroke-dasharray: 5.55,2.4; stroke-dashoffset: 0; stroke: #ff7f0e; stroke-width: 1.5\"/>\n   </g>\n   <g id=\"line2d_33\">\n    <path d=\"M 49.633125 139.5 \nL 69.163125 125.202304 \n\" clip-path=\"url(#p36d30ba43d)\" style=\"fill: none; stroke-dasharray: 9.6,2.4,1.5,2.4; stroke-dashoffset: 0; stroke: #2ca02c; stroke-width: 1.5\"/>\n   </g>\n   <g id=\"line2d_34\">\n    <path d=\"M 34.954394 13.5 \nL 44.698573 13.52288 \nL 54.442752 13.556212 \nL 64.186931 13.630644 \nL 73.93111 13.878073 \nL 83.675289 37.120252 \n\" clip-path=\"url(#p36d30ba43d)\" style=\"fill: none; stroke: #1f77b4; stroke-width: 1.5; stroke-linecap: square\"/>\n   </g>\n   <g id=\"line2d_35\">\n    <path d=\"M 49.633125 13.54214 \nL 69.163125 13.721817 \n\" clip-path=\"url(#p36d30ba43d)\" style=\"fill: none; stroke-dasharray: 5.55,2.4; stroke-dashoffset: 0; stroke: #ff7f0e; stroke-width: 1.5\"/>\n   </g>\n   <g id=\"line2d_36\">\n    <path d=\"M 49.633125 139.5 \nL 69.163125 125.202304 \n\" clip-path=\"url(#p36d30ba43d)\" style=\"fill: none; stroke-dasharray: 9.6,2.4,1.5,2.4; stroke-dashoffset: 0; stroke: #2ca02c; stroke-width: 1.5\"/>\n   </g>\n   <g id=\"line2d_37\">\n    <path d=\"M 34.954394 13.5 \nL 44.698573 13.52288 \nL 54.442752 13.556212 \nL 64.186931 13.630644 \nL 73.93111 13.878073 \nL 83.675289 37.120252 \n\" clip-path=\"url(#p36d30ba43d)\" style=\"fill: none; stroke: #1f77b4; stroke-width: 1.5; stroke-linecap: square\"/>\n   </g>\n   <g id=\"line2d_38\">\n    <path d=\"M 49.633125 13.54214 \nL 69.163125 13.721817 \nL 88.693125 89.564312 \n\" clip-path=\"url(#p36d30ba43d)\" style=\"fill: none; stroke-dasharray: 5.55,2.4; stroke-dashoffset: 0; stroke: #ff7f0e; stroke-width: 1.5\"/>\n   </g>\n   <g id=\"line2d_39\">\n    <path d=\"M 49.633125 139.5 \nL 69.163125 125.202304 \n\" clip-path=\"url(#p36d30ba43d)\" style=\"fill: none; stroke-dasharray: 9.6,2.4,1.5,2.4; stroke-dashoffset: 0; stroke: #2ca02c; stroke-width: 1.5\"/>\n   </g>\n   <g id=\"line2d_40\">\n    <path d=\"M 34.954394 13.5 \nL 44.698573 13.52288 \nL 54.442752 13.556212 \nL 64.186931 13.630644 \nL 73.93111 13.878073 \nL 83.675289 37.120252 \n\" clip-path=\"url(#p36d30ba43d)\" style=\"fill: none; stroke: #1f77b4; stroke-width: 1.5; stroke-linecap: square\"/>\n   </g>\n   <g id=\"line2d_41\">\n    <path d=\"M 49.633125 13.54214 \nL 69.163125 13.721817 \nL 88.693125 89.564312 \n\" clip-path=\"url(#p36d30ba43d)\" style=\"fill: none; stroke-dasharray: 5.55,2.4; stroke-dashoffset: 0; stroke: #ff7f0e; stroke-width: 1.5\"/>\n   </g>\n   <g id=\"line2d_42\">\n    <path d=\"M 49.633125 139.5 \nL 69.163125 125.202304 \nL 88.693125 114.761338 \n\" clip-path=\"url(#p36d30ba43d)\" style=\"fill: none; stroke-dasharray: 9.6,2.4,1.5,2.4; stroke-dashoffset: 0; stroke: #2ca02c; stroke-width: 1.5\"/>\n   </g>\n   <g id=\"line2d_43\">\n    <path d=\"M 34.954394 13.5 \nL 44.698573 13.52288 \nL 54.442752 13.556212 \nL 64.186931 13.630644 \nL 73.93111 13.878073 \nL 83.675289 37.120252 \nL 93.419468 92.828319 \n\" clip-path=\"url(#p36d30ba43d)\" style=\"fill: none; stroke: #1f77b4; stroke-width: 1.5; stroke-linecap: square\"/>\n   </g>\n   <g id=\"line2d_44\">\n    <path d=\"M 49.633125 13.54214 \nL 69.163125 13.721817 \nL 88.693125 89.564312 \n\" clip-path=\"url(#p36d30ba43d)\" style=\"fill: none; stroke-dasharray: 5.55,2.4; stroke-dashoffset: 0; stroke: #ff7f0e; stroke-width: 1.5\"/>\n   </g>\n   <g id=\"line2d_45\">\n    <path d=\"M 49.633125 139.5 \nL 69.163125 125.202304 \nL 88.693125 114.761338 \n\" clip-path=\"url(#p36d30ba43d)\" style=\"fill: none; stroke-dasharray: 9.6,2.4,1.5,2.4; stroke-dashoffset: 0; stroke: #2ca02c; stroke-width: 1.5\"/>\n   </g>\n   <g id=\"line2d_46\">\n    <path d=\"M 34.954394 13.5 \nL 44.698573 13.52288 \nL 54.442752 13.556212 \nL 64.186931 13.630644 \nL 73.93111 13.878073 \nL 83.675289 37.120252 \nL 93.419468 92.828319 \nL 103.163647 100.142924 \n\" clip-path=\"url(#p36d30ba43d)\" style=\"fill: none; stroke: #1f77b4; stroke-width: 1.5; stroke-linecap: square\"/>\n   </g>\n   <g id=\"line2d_47\">\n    <path d=\"M 49.633125 13.54214 \nL 69.163125 13.721817 \nL 88.693125 89.564312 \n\" clip-path=\"url(#p36d30ba43d)\" style=\"fill: none; stroke-dasharray: 5.55,2.4; stroke-dashoffset: 0; stroke: #ff7f0e; stroke-width: 1.5\"/>\n   </g>\n   <g id=\"line2d_48\">\n    <path d=\"M 49.633125 139.5 \nL 69.163125 125.202304 \nL 88.693125 114.761338 \n\" clip-path=\"url(#p36d30ba43d)\" style=\"fill: none; stroke-dasharray: 9.6,2.4,1.5,2.4; stroke-dashoffset: 0; stroke: #2ca02c; stroke-width: 1.5\"/>\n   </g>\n   <g id=\"line2d_49\">\n    <path d=\"M 34.954394 13.5 \nL 44.698573 13.52288 \nL 54.442752 13.556212 \nL 64.186931 13.630644 \nL 73.93111 13.878073 \nL 83.675289 37.120252 \nL 93.419468 92.828319 \nL 103.163647 100.142924 \n\" clip-path=\"url(#p36d30ba43d)\" style=\"fill: none; stroke: #1f77b4; stroke-width: 1.5; stroke-linecap: square\"/>\n   </g>\n   <g id=\"line2d_50\">\n    <path d=\"M 49.633125 13.54214 \nL 69.163125 13.721817 \nL 88.693125 89.564312 \nL 108.223125 99.004286 \n\" clip-path=\"url(#p36d30ba43d)\" style=\"fill: none; stroke-dasharray: 5.55,2.4; stroke-dashoffset: 0; stroke: #ff7f0e; stroke-width: 1.5\"/>\n   </g>\n   <g id=\"line2d_51\">\n    <path d=\"M 49.633125 139.5 \nL 69.163125 125.202304 \nL 88.693125 114.761338 \n\" clip-path=\"url(#p36d30ba43d)\" style=\"fill: none; stroke-dasharray: 9.6,2.4,1.5,2.4; stroke-dashoffset: 0; stroke: #2ca02c; stroke-width: 1.5\"/>\n   </g>\n   <g id=\"line2d_52\">\n    <path d=\"M 34.954394 13.5 \nL 44.698573 13.52288 \nL 54.442752 13.556212 \nL 64.186931 13.630644 \nL 73.93111 13.878073 \nL 83.675289 37.120252 \nL 93.419468 92.828319 \nL 103.163647 100.142924 \n\" clip-path=\"url(#p36d30ba43d)\" style=\"fill: none; stroke: #1f77b4; stroke-width: 1.5; stroke-linecap: square\"/>\n   </g>\n   <g id=\"line2d_53\">\n    <path d=\"M 49.633125 13.54214 \nL 69.163125 13.721817 \nL 88.693125 89.564312 \nL 108.223125 99.004286 \n\" clip-path=\"url(#p36d30ba43d)\" style=\"fill: none; stroke-dasharray: 5.55,2.4; stroke-dashoffset: 0; stroke: #ff7f0e; stroke-width: 1.5\"/>\n   </g>\n   <g id=\"line2d_54\">\n    <path d=\"M 49.633125 139.5 \nL 69.163125 125.202304 \nL 88.693125 114.761338 \nL 108.223125 110.180748 \n\" clip-path=\"url(#p36d30ba43d)\" style=\"fill: none; stroke-dasharray: 9.6,2.4,1.5,2.4; stroke-dashoffset: 0; stroke: #2ca02c; stroke-width: 1.5\"/>\n   </g>\n   <g id=\"line2d_55\">\n    <path d=\"M 34.954394 13.5 \nL 44.698573 13.52288 \nL 54.442752 13.556212 \nL 64.186931 13.630644 \nL 73.93111 13.878073 \nL 83.675289 37.120252 \nL 93.419468 92.828319 \nL 103.163647 100.142924 \nL 112.907826 104.929815 \n\" clip-path=\"url(#p36d30ba43d)\" style=\"fill: none; stroke: #1f77b4; stroke-width: 1.5; stroke-linecap: square\"/>\n   </g>\n   <g id=\"line2d_56\">\n    <path d=\"M 49.633125 13.54214 \nL 69.163125 13.721817 \nL 88.693125 89.564312 \nL 108.223125 99.004286 \n\" clip-path=\"url(#p36d30ba43d)\" style=\"fill: none; stroke-dasharray: 5.55,2.4; stroke-dashoffset: 0; stroke: #ff7f0e; stroke-width: 1.5\"/>\n   </g>\n   <g id=\"line2d_57\">\n    <path d=\"M 49.633125 139.5 \nL 69.163125 125.202304 \nL 88.693125 114.761338 \nL 108.223125 110.180748 \n\" clip-path=\"url(#p36d30ba43d)\" style=\"fill: none; stroke-dasharray: 9.6,2.4,1.5,2.4; stroke-dashoffset: 0; stroke: #2ca02c; stroke-width: 1.5\"/>\n   </g>\n   <g id=\"line2d_58\">\n    <path d=\"M 34.954394 13.5 \nL 44.698573 13.52288 \nL 54.442752 13.556212 \nL 64.186931 13.630644 \nL 73.93111 13.878073 \nL 83.675289 37.120252 \nL 93.419468 92.828319 \nL 103.163647 100.142924 \nL 112.907826 104.929815 \nL 122.652006 108.175745 \n\" clip-path=\"url(#p36d30ba43d)\" style=\"fill: none; stroke: #1f77b4; stroke-width: 1.5; stroke-linecap: square\"/>\n   </g>\n   <g id=\"line2d_59\">\n    <path d=\"M 49.633125 13.54214 \nL 69.163125 13.721817 \nL 88.693125 89.564312 \nL 108.223125 99.004286 \n\" clip-path=\"url(#p36d30ba43d)\" style=\"fill: none; stroke-dasharray: 5.55,2.4; stroke-dashoffset: 0; stroke: #ff7f0e; stroke-width: 1.5\"/>\n   </g>\n   <g id=\"line2d_60\">\n    <path d=\"M 49.633125 139.5 \nL 69.163125 125.202304 \nL 88.693125 114.761338 \nL 108.223125 110.180748 \n\" clip-path=\"url(#p36d30ba43d)\" style=\"fill: none; stroke-dasharray: 9.6,2.4,1.5,2.4; stroke-dashoffset: 0; stroke: #2ca02c; stroke-width: 1.5\"/>\n   </g>\n   <g id=\"line2d_61\">\n    <path d=\"M 34.954394 13.5 \nL 44.698573 13.52288 \nL 54.442752 13.556212 \nL 64.186931 13.630644 \nL 73.93111 13.878073 \nL 83.675289 37.120252 \nL 93.419468 92.828319 \nL 103.163647 100.142924 \nL 112.907826 104.929815 \nL 122.652006 108.175745 \n\" clip-path=\"url(#p36d30ba43d)\" style=\"fill: none; stroke: #1f77b4; stroke-width: 1.5; stroke-linecap: square\"/>\n   </g>\n   <g id=\"line2d_62\">\n    <path d=\"M 49.633125 13.54214 \nL 69.163125 13.721817 \nL 88.693125 89.564312 \nL 108.223125 99.004286 \nL 127.753125 110.381825 \n\" clip-path=\"url(#p36d30ba43d)\" style=\"fill: none; stroke-dasharray: 5.55,2.4; stroke-dashoffset: 0; stroke: #ff7f0e; stroke-width: 1.5\"/>\n   </g>\n   <g id=\"line2d_63\">\n    <path d=\"M 49.633125 139.5 \nL 69.163125 125.202304 \nL 88.693125 114.761338 \nL 108.223125 110.180748 \n\" clip-path=\"url(#p36d30ba43d)\" style=\"fill: none; stroke-dasharray: 9.6,2.4,1.5,2.4; stroke-dashoffset: 0; stroke: #2ca02c; stroke-width: 1.5\"/>\n   </g>\n   <g id=\"line2d_64\">\n    <path d=\"M 34.954394 13.5 \nL 44.698573 13.52288 \nL 54.442752 13.556212 \nL 64.186931 13.630644 \nL 73.93111 13.878073 \nL 83.675289 37.120252 \nL 93.419468 92.828319 \nL 103.163647 100.142924 \nL 112.907826 104.929815 \nL 122.652006 108.175745 \n\" clip-path=\"url(#p36d30ba43d)\" style=\"fill: none; stroke: #1f77b4; stroke-width: 1.5; stroke-linecap: square\"/>\n   </g>\n   <g id=\"line2d_65\">\n    <path d=\"M 49.633125 13.54214 \nL 69.163125 13.721817 \nL 88.693125 89.564312 \nL 108.223125 99.004286 \nL 127.753125 110.381825 \n\" clip-path=\"url(#p36d30ba43d)\" style=\"fill: none; stroke-dasharray: 5.55,2.4; stroke-dashoffset: 0; stroke: #ff7f0e; stroke-width: 1.5\"/>\n   </g>\n   <g id=\"line2d_66\">\n    <path d=\"M 49.633125 139.5 \nL 69.163125 125.202304 \nL 88.693125 114.761338 \nL 108.223125 110.180748 \nL 127.753125 104.743107 \n\" clip-path=\"url(#p36d30ba43d)\" style=\"fill: none; stroke-dasharray: 9.6,2.4,1.5,2.4; stroke-dashoffset: 0; stroke: #2ca02c; stroke-width: 1.5\"/>\n   </g>\n   <g id=\"line2d_67\">\n    <path d=\"M 34.954394 13.5 \nL 44.698573 13.52288 \nL 54.442752 13.556212 \nL 64.186931 13.630644 \nL 73.93111 13.878073 \nL 83.675289 37.120252 \nL 93.419468 92.828319 \nL 103.163647 100.142924 \nL 112.907826 104.929815 \nL 122.652006 108.175745 \nL 132.396185 111.864972 \n\" clip-path=\"url(#p36d30ba43d)\" style=\"fill: none; stroke: #1f77b4; stroke-width: 1.5; stroke-linecap: square\"/>\n   </g>\n   <g id=\"line2d_68\">\n    <path d=\"M 49.633125 13.54214 \nL 69.163125 13.721817 \nL 88.693125 89.564312 \nL 108.223125 99.004286 \nL 127.753125 110.381825 \n\" clip-path=\"url(#p36d30ba43d)\" style=\"fill: none; stroke-dasharray: 5.55,2.4; stroke-dashoffset: 0; stroke: #ff7f0e; stroke-width: 1.5\"/>\n   </g>\n   <g id=\"line2d_69\">\n    <path d=\"M 49.633125 139.5 \nL 69.163125 125.202304 \nL 88.693125 114.761338 \nL 108.223125 110.180748 \nL 127.753125 104.743107 \n\" clip-path=\"url(#p36d30ba43d)\" style=\"fill: none; stroke-dasharray: 9.6,2.4,1.5,2.4; stroke-dashoffset: 0; stroke: #2ca02c; stroke-width: 1.5\"/>\n   </g>\n   <g id=\"line2d_70\">\n    <path d=\"M 34.954394 13.5 \nL 44.698573 13.52288 \nL 54.442752 13.556212 \nL 64.186931 13.630644 \nL 73.93111 13.878073 \nL 83.675289 37.120252 \nL 93.419468 92.828319 \nL 103.163647 100.142924 \nL 112.907826 104.929815 \nL 122.652006 108.175745 \nL 132.396185 111.864972 \nL 142.140364 113.335169 \n\" clip-path=\"url(#p36d30ba43d)\" style=\"fill: none; stroke: #1f77b4; stroke-width: 1.5; stroke-linecap: square\"/>\n   </g>\n   <g id=\"line2d_71\">\n    <path d=\"M 49.633125 13.54214 \nL 69.163125 13.721817 \nL 88.693125 89.564312 \nL 108.223125 99.004286 \nL 127.753125 110.381825 \n\" clip-path=\"url(#p36d30ba43d)\" style=\"fill: none; stroke-dasharray: 5.55,2.4; stroke-dashoffset: 0; stroke: #ff7f0e; stroke-width: 1.5\"/>\n   </g>\n   <g id=\"line2d_72\">\n    <path d=\"M 49.633125 139.5 \nL 69.163125 125.202304 \nL 88.693125 114.761338 \nL 108.223125 110.180748 \nL 127.753125 104.743107 \n\" clip-path=\"url(#p36d30ba43d)\" style=\"fill: none; stroke-dasharray: 9.6,2.4,1.5,2.4; stroke-dashoffset: 0; stroke: #2ca02c; stroke-width: 1.5\"/>\n   </g>\n   <g id=\"line2d_73\">\n    <path d=\"M 34.954394 13.5 \nL 44.698573 13.52288 \nL 54.442752 13.556212 \nL 64.186931 13.630644 \nL 73.93111 13.878073 \nL 83.675289 37.120252 \nL 93.419468 92.828319 \nL 103.163647 100.142924 \nL 112.907826 104.929815 \nL 122.652006 108.175745 \nL 132.396185 111.864972 \nL 142.140364 113.335169 \n\" clip-path=\"url(#p36d30ba43d)\" style=\"fill: none; stroke: #1f77b4; stroke-width: 1.5; stroke-linecap: square\"/>\n   </g>\n   <g id=\"line2d_74\">\n    <path d=\"M 49.633125 13.54214 \nL 69.163125 13.721817 \nL 88.693125 89.564312 \nL 108.223125 99.004286 \nL 127.753125 110.381825 \nL 147.283125 113.033484 \n\" clip-path=\"url(#p36d30ba43d)\" style=\"fill: none; stroke-dasharray: 5.55,2.4; stroke-dashoffset: 0; stroke: #ff7f0e; stroke-width: 1.5\"/>\n   </g>\n   <g id=\"line2d_75\">\n    <path d=\"M 49.633125 139.5 \nL 69.163125 125.202304 \nL 88.693125 114.761338 \nL 108.223125 110.180748 \nL 127.753125 104.743107 \n\" clip-path=\"url(#p36d30ba43d)\" style=\"fill: none; stroke-dasharray: 9.6,2.4,1.5,2.4; stroke-dashoffset: 0; stroke: #2ca02c; stroke-width: 1.5\"/>\n   </g>\n   <g id=\"line2d_76\">\n    <path d=\"M 34.954394 13.5 \nL 44.698573 13.52288 \nL 54.442752 13.556212 \nL 64.186931 13.630644 \nL 73.93111 13.878073 \nL 83.675289 37.120252 \nL 93.419468 92.828319 \nL 103.163647 100.142924 \nL 112.907826 104.929815 \nL 122.652006 108.175745 \nL 132.396185 111.864972 \nL 142.140364 113.335169 \n\" clip-path=\"url(#p36d30ba43d)\" style=\"fill: none; stroke: #1f77b4; stroke-width: 1.5; stroke-linecap: square\"/>\n   </g>\n   <g id=\"line2d_77\">\n    <path d=\"M 49.633125 13.54214 \nL 69.163125 13.721817 \nL 88.693125 89.564312 \nL 108.223125 99.004286 \nL 127.753125 110.381825 \nL 147.283125 113.033484 \n\" clip-path=\"url(#p36d30ba43d)\" style=\"fill: none; stroke-dasharray: 5.55,2.4; stroke-dashoffset: 0; stroke: #ff7f0e; stroke-width: 1.5\"/>\n   </g>\n   <g id=\"line2d_78\">\n    <path d=\"M 49.633125 139.5 \nL 69.163125 125.202304 \nL 88.693125 114.761338 \nL 108.223125 110.180748 \nL 127.753125 104.743107 \nL 147.283125 103.625466 \n\" clip-path=\"url(#p36d30ba43d)\" style=\"fill: none; stroke-dasharray: 9.6,2.4,1.5,2.4; stroke-dashoffset: 0; stroke: #2ca02c; stroke-width: 1.5\"/>\n   </g>\n   <g id=\"line2d_79\">\n    <path d=\"M 34.954394 13.5 \nL 44.698573 13.52288 \nL 54.442752 13.556212 \nL 64.186931 13.630644 \nL 73.93111 13.878073 \nL 83.675289 37.120252 \nL 93.419468 92.828319 \nL 103.163647 100.142924 \nL 112.907826 104.929815 \nL 122.652006 108.175745 \nL 132.396185 111.864972 \nL 142.140364 113.335169 \nL 151.884543 115.379789 \n\" clip-path=\"url(#p36d30ba43d)\" style=\"fill: none; stroke: #1f77b4; stroke-width: 1.5; stroke-linecap: square\"/>\n   </g>\n   <g id=\"line2d_80\">\n    <path d=\"M 49.633125 13.54214 \nL 69.163125 13.721817 \nL 88.693125 89.564312 \nL 108.223125 99.004286 \nL 127.753125 110.381825 \nL 147.283125 113.033484 \n\" clip-path=\"url(#p36d30ba43d)\" style=\"fill: none; stroke-dasharray: 5.55,2.4; stroke-dashoffset: 0; stroke: #ff7f0e; stroke-width: 1.5\"/>\n   </g>\n   <g id=\"line2d_81\">\n    <path d=\"M 49.633125 139.5 \nL 69.163125 125.202304 \nL 88.693125 114.761338 \nL 108.223125 110.180748 \nL 127.753125 104.743107 \nL 147.283125 103.625466 \n\" clip-path=\"url(#p36d30ba43d)\" style=\"fill: none; stroke-dasharray: 9.6,2.4,1.5,2.4; stroke-dashoffset: 0; stroke: #2ca02c; stroke-width: 1.5\"/>\n   </g>\n   <g id=\"line2d_82\">\n    <path d=\"M 34.954394 13.5 \nL 44.698573 13.52288 \nL 54.442752 13.556212 \nL 64.186931 13.630644 \nL 73.93111 13.878073 \nL 83.675289 37.120252 \nL 93.419468 92.828319 \nL 103.163647 100.142924 \nL 112.907826 104.929815 \nL 122.652006 108.175745 \nL 132.396185 111.864972 \nL 142.140364 113.335169 \nL 151.884543 115.379789 \nL 161.628722 117.822342 \n\" clip-path=\"url(#p36d30ba43d)\" style=\"fill: none; stroke: #1f77b4; stroke-width: 1.5; stroke-linecap: square\"/>\n   </g>\n   <g id=\"line2d_83\">\n    <path d=\"M 49.633125 13.54214 \nL 69.163125 13.721817 \nL 88.693125 89.564312 \nL 108.223125 99.004286 \nL 127.753125 110.381825 \nL 147.283125 113.033484 \n\" clip-path=\"url(#p36d30ba43d)\" style=\"fill: none; stroke-dasharray: 5.55,2.4; stroke-dashoffset: 0; stroke: #ff7f0e; stroke-width: 1.5\"/>\n   </g>\n   <g id=\"line2d_84\">\n    <path d=\"M 49.633125 139.5 \nL 69.163125 125.202304 \nL 88.693125 114.761338 \nL 108.223125 110.180748 \nL 127.753125 104.743107 \nL 147.283125 103.625466 \n\" clip-path=\"url(#p36d30ba43d)\" style=\"fill: none; stroke-dasharray: 9.6,2.4,1.5,2.4; stroke-dashoffset: 0; stroke: #2ca02c; stroke-width: 1.5\"/>\n   </g>\n   <g id=\"line2d_85\">\n    <path d=\"M 34.954394 13.5 \nL 44.698573 13.52288 \nL 54.442752 13.556212 \nL 64.186931 13.630644 \nL 73.93111 13.878073 \nL 83.675289 37.120252 \nL 93.419468 92.828319 \nL 103.163647 100.142924 \nL 112.907826 104.929815 \nL 122.652006 108.175745 \nL 132.396185 111.864972 \nL 142.140364 113.335169 \nL 151.884543 115.379789 \nL 161.628722 117.822342 \n\" clip-path=\"url(#p36d30ba43d)\" style=\"fill: none; stroke: #1f77b4; stroke-width: 1.5; stroke-linecap: square\"/>\n   </g>\n   <g id=\"line2d_86\">\n    <path d=\"M 49.633125 13.54214 \nL 69.163125 13.721817 \nL 88.693125 89.564312 \nL 108.223125 99.004286 \nL 127.753125 110.381825 \nL 147.283125 113.033484 \nL 166.813125 116.608358 \n\" clip-path=\"url(#p36d30ba43d)\" style=\"fill: none; stroke-dasharray: 5.55,2.4; stroke-dashoffset: 0; stroke: #ff7f0e; stroke-width: 1.5\"/>\n   </g>\n   <g id=\"line2d_87\">\n    <path d=\"M 49.633125 139.5 \nL 69.163125 125.202304 \nL 88.693125 114.761338 \nL 108.223125 110.180748 \nL 127.753125 104.743107 \nL 147.283125 103.625466 \n\" clip-path=\"url(#p36d30ba43d)\" style=\"fill: none; stroke-dasharray: 9.6,2.4,1.5,2.4; stroke-dashoffset: 0; stroke: #2ca02c; stroke-width: 1.5\"/>\n   </g>\n   <g id=\"line2d_88\">\n    <path d=\"M 34.954394 13.5 \nL 44.698573 13.52288 \nL 54.442752 13.556212 \nL 64.186931 13.630644 \nL 73.93111 13.878073 \nL 83.675289 37.120252 \nL 93.419468 92.828319 \nL 103.163647 100.142924 \nL 112.907826 104.929815 \nL 122.652006 108.175745 \nL 132.396185 111.864972 \nL 142.140364 113.335169 \nL 151.884543 115.379789 \nL 161.628722 117.822342 \n\" clip-path=\"url(#p36d30ba43d)\" style=\"fill: none; stroke: #1f77b4; stroke-width: 1.5; stroke-linecap: square\"/>\n   </g>\n   <g id=\"line2d_89\">\n    <path d=\"M 49.633125 13.54214 \nL 69.163125 13.721817 \nL 88.693125 89.564312 \nL 108.223125 99.004286 \nL 127.753125 110.381825 \nL 147.283125 113.033484 \nL 166.813125 116.608358 \n\" clip-path=\"url(#p36d30ba43d)\" style=\"fill: none; stroke-dasharray: 5.55,2.4; stroke-dashoffset: 0; stroke: #ff7f0e; stroke-width: 1.5\"/>\n   </g>\n   <g id=\"line2d_90\">\n    <path d=\"M 49.633125 139.5 \nL 69.163125 125.202304 \nL 88.693125 114.761338 \nL 108.223125 110.180748 \nL 127.753125 104.743107 \nL 147.283125 103.625466 \nL 166.813125 101.772383 \n\" clip-path=\"url(#p36d30ba43d)\" style=\"fill: none; stroke-dasharray: 9.6,2.4,1.5,2.4; stroke-dashoffset: 0; stroke: #2ca02c; stroke-width: 1.5\"/>\n   </g>\n   <g id=\"line2d_91\">\n    <path d=\"M 34.954394 13.5 \nL 44.698573 13.52288 \nL 54.442752 13.556212 \nL 64.186931 13.630644 \nL 73.93111 13.878073 \nL 83.675289 37.120252 \nL 93.419468 92.828319 \nL 103.163647 100.142924 \nL 112.907826 104.929815 \nL 122.652006 108.175745 \nL 132.396185 111.864972 \nL 142.140364 113.335169 \nL 151.884543 115.379789 \nL 161.628722 117.822342 \nL 171.372901 119.098084 \n\" clip-path=\"url(#p36d30ba43d)\" style=\"fill: none; stroke: #1f77b4; stroke-width: 1.5; stroke-linecap: square\"/>\n   </g>\n   <g id=\"line2d_92\">\n    <path d=\"M 49.633125 13.54214 \nL 69.163125 13.721817 \nL 88.693125 89.564312 \nL 108.223125 99.004286 \nL 127.753125 110.381825 \nL 147.283125 113.033484 \nL 166.813125 116.608358 \n\" clip-path=\"url(#p36d30ba43d)\" style=\"fill: none; stroke-dasharray: 5.55,2.4; stroke-dashoffset: 0; stroke: #ff7f0e; stroke-width: 1.5\"/>\n   </g>\n   <g id=\"line2d_93\">\n    <path d=\"M 49.633125 139.5 \nL 69.163125 125.202304 \nL 88.693125 114.761338 \nL 108.223125 110.180748 \nL 127.753125 104.743107 \nL 147.283125 103.625466 \nL 166.813125 101.772383 \n\" clip-path=\"url(#p36d30ba43d)\" style=\"fill: none; stroke-dasharray: 9.6,2.4,1.5,2.4; stroke-dashoffset: 0; stroke: #2ca02c; stroke-width: 1.5\"/>\n   </g>\n   <g id=\"line2d_94\">\n    <path d=\"M 34.954394 13.5 \nL 44.698573 13.52288 \nL 54.442752 13.556212 \nL 64.186931 13.630644 \nL 73.93111 13.878073 \nL 83.675289 37.120252 \nL 93.419468 92.828319 \nL 103.163647 100.142924 \nL 112.907826 104.929815 \nL 122.652006 108.175745 \nL 132.396185 111.864972 \nL 142.140364 113.335169 \nL 151.884543 115.379789 \nL 161.628722 117.822342 \nL 171.372901 119.098084 \nL 181.11708 119.943071 \n\" clip-path=\"url(#p36d30ba43d)\" style=\"fill: none; stroke: #1f77b4; stroke-width: 1.5; stroke-linecap: square\"/>\n   </g>\n   <g id=\"line2d_95\">\n    <path d=\"M 49.633125 13.54214 \nL 69.163125 13.721817 \nL 88.693125 89.564312 \nL 108.223125 99.004286 \nL 127.753125 110.381825 \nL 147.283125 113.033484 \nL 166.813125 116.608358 \n\" clip-path=\"url(#p36d30ba43d)\" style=\"fill: none; stroke-dasharray: 5.55,2.4; stroke-dashoffset: 0; stroke: #ff7f0e; stroke-width: 1.5\"/>\n   </g>\n   <g id=\"line2d_96\">\n    <path d=\"M 49.633125 139.5 \nL 69.163125 125.202304 \nL 88.693125 114.761338 \nL 108.223125 110.180748 \nL 127.753125 104.743107 \nL 147.283125 103.625466 \nL 166.813125 101.772383 \n\" clip-path=\"url(#p36d30ba43d)\" style=\"fill: none; stroke-dasharray: 9.6,2.4,1.5,2.4; stroke-dashoffset: 0; stroke: #2ca02c; stroke-width: 1.5\"/>\n   </g>\n   <g id=\"line2d_97\">\n    <path d=\"M 34.954394 13.5 \nL 44.698573 13.52288 \nL 54.442752 13.556212 \nL 64.186931 13.630644 \nL 73.93111 13.878073 \nL 83.675289 37.120252 \nL 93.419468 92.828319 \nL 103.163647 100.142924 \nL 112.907826 104.929815 \nL 122.652006 108.175745 \nL 132.396185 111.864972 \nL 142.140364 113.335169 \nL 151.884543 115.379789 \nL 161.628722 117.822342 \nL 171.372901 119.098084 \nL 181.11708 119.943071 \n\" clip-path=\"url(#p36d30ba43d)\" style=\"fill: none; stroke: #1f77b4; stroke-width: 1.5; stroke-linecap: square\"/>\n   </g>\n   <g id=\"line2d_98\">\n    <path d=\"M 49.633125 13.54214 \nL 69.163125 13.721817 \nL 88.693125 89.564312 \nL 108.223125 99.004286 \nL 127.753125 110.381825 \nL 147.283125 113.033484 \nL 166.813125 116.608358 \nL 186.343125 120.783212 \n\" clip-path=\"url(#p36d30ba43d)\" style=\"fill: none; stroke-dasharray: 5.55,2.4; stroke-dashoffset: 0; stroke: #ff7f0e; stroke-width: 1.5\"/>\n   </g>\n   <g id=\"line2d_99\">\n    <path d=\"M 49.633125 139.5 \nL 69.163125 125.202304 \nL 88.693125 114.761338 \nL 108.223125 110.180748 \nL 127.753125 104.743107 \nL 147.283125 103.625466 \nL 166.813125 101.772383 \n\" clip-path=\"url(#p36d30ba43d)\" style=\"fill: none; stroke-dasharray: 9.6,2.4,1.5,2.4; stroke-dashoffset: 0; stroke: #2ca02c; stroke-width: 1.5\"/>\n   </g>\n   <g id=\"line2d_100\">\n    <path d=\"M 34.954394 13.5 \nL 44.698573 13.52288 \nL 54.442752 13.556212 \nL 64.186931 13.630644 \nL 73.93111 13.878073 \nL 83.675289 37.120252 \nL 93.419468 92.828319 \nL 103.163647 100.142924 \nL 112.907826 104.929815 \nL 122.652006 108.175745 \nL 132.396185 111.864972 \nL 142.140364 113.335169 \nL 151.884543 115.379789 \nL 161.628722 117.822342 \nL 171.372901 119.098084 \nL 181.11708 119.943071 \n\" clip-path=\"url(#p36d30ba43d)\" style=\"fill: none; stroke: #1f77b4; stroke-width: 1.5; stroke-linecap: square\"/>\n   </g>\n   <g id=\"line2d_101\">\n    <path d=\"M 49.633125 13.54214 \nL 69.163125 13.721817 \nL 88.693125 89.564312 \nL 108.223125 99.004286 \nL 127.753125 110.381825 \nL 147.283125 113.033484 \nL 166.813125 116.608358 \nL 186.343125 120.783212 \n\" clip-path=\"url(#p36d30ba43d)\" style=\"fill: none; stroke-dasharray: 5.55,2.4; stroke-dashoffset: 0; stroke: #ff7f0e; stroke-width: 1.5\"/>\n   </g>\n   <g id=\"line2d_102\">\n    <path d=\"M 49.633125 139.5 \nL 69.163125 125.202304 \nL 88.693125 114.761338 \nL 108.223125 110.180748 \nL 127.753125 104.743107 \nL 147.283125 103.625466 \nL 166.813125 101.772383 \nL 186.343125 99.757155 \n\" clip-path=\"url(#p36d30ba43d)\" style=\"fill: none; stroke-dasharray: 9.6,2.4,1.5,2.4; stroke-dashoffset: 0; stroke: #2ca02c; stroke-width: 1.5\"/>\n   </g>\n   <g id=\"line2d_103\">\n    <path d=\"M 34.954394 13.5 \nL 44.698573 13.52288 \nL 54.442752 13.556212 \nL 64.186931 13.630644 \nL 73.93111 13.878073 \nL 83.675289 37.120252 \nL 93.419468 92.828319 \nL 103.163647 100.142924 \nL 112.907826 104.929815 \nL 122.652006 108.175745 \nL 132.396185 111.864972 \nL 142.140364 113.335169 \nL 151.884543 115.379789 \nL 161.628722 117.822342 \nL 171.372901 119.098084 \nL 181.11708 119.943071 \nL 190.861259 121.017485 \n\" clip-path=\"url(#p36d30ba43d)\" style=\"fill: none; stroke: #1f77b4; stroke-width: 1.5; stroke-linecap: square\"/>\n   </g>\n   <g id=\"line2d_104\">\n    <path d=\"M 49.633125 13.54214 \nL 69.163125 13.721817 \nL 88.693125 89.564312 \nL 108.223125 99.004286 \nL 127.753125 110.381825 \nL 147.283125 113.033484 \nL 166.813125 116.608358 \nL 186.343125 120.783212 \n\" clip-path=\"url(#p36d30ba43d)\" style=\"fill: none; stroke-dasharray: 5.55,2.4; stroke-dashoffset: 0; stroke: #ff7f0e; stroke-width: 1.5\"/>\n   </g>\n   <g id=\"line2d_105\">\n    <path d=\"M 49.633125 139.5 \nL 69.163125 125.202304 \nL 88.693125 114.761338 \nL 108.223125 110.180748 \nL 127.753125 104.743107 \nL 147.283125 103.625466 \nL 166.813125 101.772383 \nL 186.343125 99.757155 \n\" clip-path=\"url(#p36d30ba43d)\" style=\"fill: none; stroke-dasharray: 9.6,2.4,1.5,2.4; stroke-dashoffset: 0; stroke: #2ca02c; stroke-width: 1.5\"/>\n   </g>\n   <g id=\"line2d_106\">\n    <path d=\"M 34.954394 13.5 \nL 44.698573 13.52288 \nL 54.442752 13.556212 \nL 64.186931 13.630644 \nL 73.93111 13.878073 \nL 83.675289 37.120252 \nL 93.419468 92.828319 \nL 103.163647 100.142924 \nL 112.907826 104.929815 \nL 122.652006 108.175745 \nL 132.396185 111.864972 \nL 142.140364 113.335169 \nL 151.884543 115.379789 \nL 161.628722 117.822342 \nL 171.372901 119.098084 \nL 181.11708 119.943071 \nL 190.861259 121.017485 \nL 200.605438 122.210781 \n\" clip-path=\"url(#p36d30ba43d)\" style=\"fill: none; stroke: #1f77b4; stroke-width: 1.5; stroke-linecap: square\"/>\n   </g>\n   <g id=\"line2d_107\">\n    <path d=\"M 49.633125 13.54214 \nL 69.163125 13.721817 \nL 88.693125 89.564312 \nL 108.223125 99.004286 \nL 127.753125 110.381825 \nL 147.283125 113.033484 \nL 166.813125 116.608358 \nL 186.343125 120.783212 \n\" clip-path=\"url(#p36d30ba43d)\" style=\"fill: none; stroke-dasharray: 5.55,2.4; stroke-dashoffset: 0; stroke: #ff7f0e; stroke-width: 1.5\"/>\n   </g>\n   <g id=\"line2d_108\">\n    <path d=\"M 49.633125 139.5 \nL 69.163125 125.202304 \nL 88.693125 114.761338 \nL 108.223125 110.180748 \nL 127.753125 104.743107 \nL 147.283125 103.625466 \nL 166.813125 101.772383 \nL 186.343125 99.757155 \n\" clip-path=\"url(#p36d30ba43d)\" style=\"fill: none; stroke-dasharray: 9.6,2.4,1.5,2.4; stroke-dashoffset: 0; stroke: #2ca02c; stroke-width: 1.5\"/>\n   </g>\n   <g id=\"line2d_109\">\n    <path d=\"M 34.954394 13.5 \nL 44.698573 13.52288 \nL 54.442752 13.556212 \nL 64.186931 13.630644 \nL 73.93111 13.878073 \nL 83.675289 37.120252 \nL 93.419468 92.828319 \nL 103.163647 100.142924 \nL 112.907826 104.929815 \nL 122.652006 108.175745 \nL 132.396185 111.864972 \nL 142.140364 113.335169 \nL 151.884543 115.379789 \nL 161.628722 117.822342 \nL 171.372901 119.098084 \nL 181.11708 119.943071 \nL 190.861259 121.017485 \nL 200.605438 122.210781 \n\" clip-path=\"url(#p36d30ba43d)\" style=\"fill: none; stroke: #1f77b4; stroke-width: 1.5; stroke-linecap: square\"/>\n   </g>\n   <g id=\"line2d_110\">\n    <path d=\"M 49.633125 13.54214 \nL 69.163125 13.721817 \nL 88.693125 89.564312 \nL 108.223125 99.004286 \nL 127.753125 110.381825 \nL 147.283125 113.033484 \nL 166.813125 116.608358 \nL 186.343125 120.783212 \nL 205.873125 121.133099 \n\" clip-path=\"url(#p36d30ba43d)\" style=\"fill: none; stroke-dasharray: 5.55,2.4; stroke-dashoffset: 0; stroke: #ff7f0e; stroke-width: 1.5\"/>\n   </g>\n   <g id=\"line2d_111\">\n    <path d=\"M 49.633125 139.5 \nL 69.163125 125.202304 \nL 88.693125 114.761338 \nL 108.223125 110.180748 \nL 127.753125 104.743107 \nL 147.283125 103.625466 \nL 166.813125 101.772383 \nL 186.343125 99.757155 \n\" clip-path=\"url(#p36d30ba43d)\" style=\"fill: none; stroke-dasharray: 9.6,2.4,1.5,2.4; stroke-dashoffset: 0; stroke: #2ca02c; stroke-width: 1.5\"/>\n   </g>\n   <g id=\"line2d_112\">\n    <path d=\"M 34.954394 13.5 \nL 44.698573 13.52288 \nL 54.442752 13.556212 \nL 64.186931 13.630644 \nL 73.93111 13.878073 \nL 83.675289 37.120252 \nL 93.419468 92.828319 \nL 103.163647 100.142924 \nL 112.907826 104.929815 \nL 122.652006 108.175745 \nL 132.396185 111.864972 \nL 142.140364 113.335169 \nL 151.884543 115.379789 \nL 161.628722 117.822342 \nL 171.372901 119.098084 \nL 181.11708 119.943071 \nL 190.861259 121.017485 \nL 200.605438 122.210781 \n\" clip-path=\"url(#p36d30ba43d)\" style=\"fill: none; stroke: #1f77b4; stroke-width: 1.5; stroke-linecap: square\"/>\n   </g>\n   <g id=\"line2d_113\">\n    <path d=\"M 49.633125 13.54214 \nL 69.163125 13.721817 \nL 88.693125 89.564312 \nL 108.223125 99.004286 \nL 127.753125 110.381825 \nL 147.283125 113.033484 \nL 166.813125 116.608358 \nL 186.343125 120.783212 \nL 205.873125 121.133099 \n\" clip-path=\"url(#p36d30ba43d)\" style=\"fill: none; stroke-dasharray: 5.55,2.4; stroke-dashoffset: 0; stroke: #ff7f0e; stroke-width: 1.5\"/>\n   </g>\n   <g id=\"line2d_114\">\n    <path d=\"M 49.633125 139.5 \nL 69.163125 125.202304 \nL 88.693125 114.761338 \nL 108.223125 110.180748 \nL 127.753125 104.743107 \nL 147.283125 103.625466 \nL 166.813125 101.772383 \nL 186.343125 99.757155 \nL 205.873125 99.861391 \n\" clip-path=\"url(#p36d30ba43d)\" style=\"fill: none; stroke-dasharray: 9.6,2.4,1.5,2.4; stroke-dashoffset: 0; stroke: #2ca02c; stroke-width: 1.5\"/>\n   </g>\n   <g id=\"line2d_115\">\n    <path d=\"M 34.954394 13.5 \nL 44.698573 13.52288 \nL 54.442752 13.556212 \nL 64.186931 13.630644 \nL 73.93111 13.878073 \nL 83.675289 37.120252 \nL 93.419468 92.828319 \nL 103.163647 100.142924 \nL 112.907826 104.929815 \nL 122.652006 108.175745 \nL 132.396185 111.864972 \nL 142.140364 113.335169 \nL 151.884543 115.379789 \nL 161.628722 117.822342 \nL 171.372901 119.098084 \nL 181.11708 119.943071 \nL 190.861259 121.017485 \nL 200.605438 122.210781 \nL 210.349618 122.469864 \n\" clip-path=\"url(#p36d30ba43d)\" style=\"fill: none; stroke: #1f77b4; stroke-width: 1.5; stroke-linecap: square\"/>\n   </g>\n   <g id=\"line2d_116\">\n    <path d=\"M 49.633125 13.54214 \nL 69.163125 13.721817 \nL 88.693125 89.564312 \nL 108.223125 99.004286 \nL 127.753125 110.381825 \nL 147.283125 113.033484 \nL 166.813125 116.608358 \nL 186.343125 120.783212 \nL 205.873125 121.133099 \n\" clip-path=\"url(#p36d30ba43d)\" style=\"fill: none; stroke-dasharray: 5.55,2.4; stroke-dashoffset: 0; stroke: #ff7f0e; stroke-width: 1.5\"/>\n   </g>\n   <g id=\"line2d_117\">\n    <path d=\"M 49.633125 139.5 \nL 69.163125 125.202304 \nL 88.693125 114.761338 \nL 108.223125 110.180748 \nL 127.753125 104.743107 \nL 147.283125 103.625466 \nL 166.813125 101.772383 \nL 186.343125 99.757155 \nL 205.873125 99.861391 \n\" clip-path=\"url(#p36d30ba43d)\" style=\"fill: none; stroke-dasharray: 9.6,2.4,1.5,2.4; stroke-dashoffset: 0; stroke: #2ca02c; stroke-width: 1.5\"/>\n   </g>\n   <g id=\"line2d_118\">\n    <path d=\"M 34.954394 13.5 \nL 44.698573 13.52288 \nL 54.442752 13.556212 \nL 64.186931 13.630644 \nL 73.93111 13.878073 \nL 83.675289 37.120252 \nL 93.419468 92.828319 \nL 103.163647 100.142924 \nL 112.907826 104.929815 \nL 122.652006 108.175745 \nL 132.396185 111.864972 \nL 142.140364 113.335169 \nL 151.884543 115.379789 \nL 161.628722 117.822342 \nL 171.372901 119.098084 \nL 181.11708 119.943071 \nL 190.861259 121.017485 \nL 200.605438 122.210781 \nL 210.349618 122.469864 \nL 220.093797 123.277736 \n\" clip-path=\"url(#p36d30ba43d)\" style=\"fill: none; stroke: #1f77b4; stroke-width: 1.5; stroke-linecap: square\"/>\n   </g>\n   <g id=\"line2d_119\">\n    <path d=\"M 49.633125 13.54214 \nL 69.163125 13.721817 \nL 88.693125 89.564312 \nL 108.223125 99.004286 \nL 127.753125 110.381825 \nL 147.283125 113.033484 \nL 166.813125 116.608358 \nL 186.343125 120.783212 \nL 205.873125 121.133099 \n\" clip-path=\"url(#p36d30ba43d)\" style=\"fill: none; stroke-dasharray: 5.55,2.4; stroke-dashoffset: 0; stroke: #ff7f0e; stroke-width: 1.5\"/>\n   </g>\n   <g id=\"line2d_120\">\n    <path d=\"M 49.633125 139.5 \nL 69.163125 125.202304 \nL 88.693125 114.761338 \nL 108.223125 110.180748 \nL 127.753125 104.743107 \nL 147.283125 103.625466 \nL 166.813125 101.772383 \nL 186.343125 99.757155 \nL 205.873125 99.861391 \n\" clip-path=\"url(#p36d30ba43d)\" style=\"fill: none; stroke-dasharray: 9.6,2.4,1.5,2.4; stroke-dashoffset: 0; stroke: #2ca02c; stroke-width: 1.5\"/>\n   </g>\n   <g id=\"line2d_121\">\n    <path d=\"M 34.954394 13.5 \nL 44.698573 13.52288 \nL 54.442752 13.556212 \nL 64.186931 13.630644 \nL 73.93111 13.878073 \nL 83.675289 37.120252 \nL 93.419468 92.828319 \nL 103.163647 100.142924 \nL 112.907826 104.929815 \nL 122.652006 108.175745 \nL 132.396185 111.864972 \nL 142.140364 113.335169 \nL 151.884543 115.379789 \nL 161.628722 117.822342 \nL 171.372901 119.098084 \nL 181.11708 119.943071 \nL 190.861259 121.017485 \nL 200.605438 122.210781 \nL 210.349618 122.469864 \nL 220.093797 123.277736 \n\" clip-path=\"url(#p36d30ba43d)\" style=\"fill: none; stroke: #1f77b4; stroke-width: 1.5; stroke-linecap: square\"/>\n   </g>\n   <g id=\"line2d_122\">\n    <path d=\"M 49.633125 13.54214 \nL 69.163125 13.721817 \nL 88.693125 89.564312 \nL 108.223125 99.004286 \nL 127.753125 110.381825 \nL 147.283125 113.033484 \nL 166.813125 116.608358 \nL 186.343125 120.783212 \nL 205.873125 121.133099 \nL 225.403125 123.08164 \n\" clip-path=\"url(#p36d30ba43d)\" style=\"fill: none; stroke-dasharray: 5.55,2.4; stroke-dashoffset: 0; stroke: #ff7f0e; stroke-width: 1.5\"/>\n   </g>\n   <g id=\"line2d_123\">\n    <path d=\"M 49.633125 139.5 \nL 69.163125 125.202304 \nL 88.693125 114.761338 \nL 108.223125 110.180748 \nL 127.753125 104.743107 \nL 147.283125 103.625466 \nL 166.813125 101.772383 \nL 186.343125 99.757155 \nL 205.873125 99.861391 \n\" clip-path=\"url(#p36d30ba43d)\" style=\"fill: none; stroke-dasharray: 9.6,2.4,1.5,2.4; stroke-dashoffset: 0; stroke: #2ca02c; stroke-width: 1.5\"/>\n   </g>\n   <g id=\"line2d_124\">\n    <path d=\"M 34.954394 13.5 \nL 44.698573 13.52288 \nL 54.442752 13.556212 \nL 64.186931 13.630644 \nL 73.93111 13.878073 \nL 83.675289 37.120252 \nL 93.419468 92.828319 \nL 103.163647 100.142924 \nL 112.907826 104.929815 \nL 122.652006 108.175745 \nL 132.396185 111.864972 \nL 142.140364 113.335169 \nL 151.884543 115.379789 \nL 161.628722 117.822342 \nL 171.372901 119.098084 \nL 181.11708 119.943071 \nL 190.861259 121.017485 \nL 200.605438 122.210781 \nL 210.349618 122.469864 \nL 220.093797 123.277736 \n\" clip-path=\"url(#p36d30ba43d)\" style=\"fill: none; stroke: #1f77b4; stroke-width: 1.5; stroke-linecap: square\"/>\n   </g>\n   <g id=\"line2d_125\">\n    <path d=\"M 49.633125 13.54214 \nL 69.163125 13.721817 \nL 88.693125 89.564312 \nL 108.223125 99.004286 \nL 127.753125 110.381825 \nL 147.283125 113.033484 \nL 166.813125 116.608358 \nL 186.343125 120.783212 \nL 205.873125 121.133099 \nL 225.403125 123.08164 \n\" clip-path=\"url(#p36d30ba43d)\" style=\"fill: none; stroke-dasharray: 5.55,2.4; stroke-dashoffset: 0; stroke: #ff7f0e; stroke-width: 1.5\"/>\n   </g>\n   <g id=\"line2d_126\">\n    <path d=\"M 49.633125 139.5 \nL 69.163125 125.202304 \nL 88.693125 114.761338 \nL 108.223125 110.180748 \nL 127.753125 104.743107 \nL 147.283125 103.625466 \nL 166.813125 101.772383 \nL 186.343125 99.757155 \nL 205.873125 99.861391 \nL 225.403125 99.102785 \n\" clip-path=\"url(#p36d30ba43d)\" style=\"fill: none; stroke-dasharray: 9.6,2.4,1.5,2.4; stroke-dashoffset: 0; stroke: #2ca02c; stroke-width: 1.5\"/>\n   </g>\n   <g id=\"patch_3\">\n    <path d=\"M 30.103125 145.8 \nL 30.103125 7.2 \n\" style=\"fill: none; stroke: #000000; stroke-width: 0.8; stroke-linejoin: miter; stroke-linecap: square\"/>\n   </g>\n   <g id=\"patch_4\">\n    <path d=\"M 225.403125 145.8 \nL 225.403125 7.2 \n\" style=\"fill: none; stroke: #000000; stroke-width: 0.8; stroke-linejoin: miter; stroke-linecap: square\"/>\n   </g>\n   <g id=\"patch_5\">\n    <path d=\"M 30.103125 145.8 \nL 225.403125 145.8 \n\" style=\"fill: none; stroke: #000000; stroke-width: 0.8; stroke-linejoin: miter; stroke-linecap: square\"/>\n   </g>\n   <g id=\"patch_6\">\n    <path d=\"M 30.103125 7.2 \nL 225.403125 7.2 \n\" style=\"fill: none; stroke: #000000; stroke-width: 0.8; stroke-linejoin: miter; stroke-linecap: square\"/>\n   </g>\n   <g id=\"legend_1\">\n    <g id=\"patch_7\">\n     <path d=\"M 138.8125 60.06875 \nL 218.403125 60.06875 \nQ 220.403125 60.06875 220.403125 58.06875 \nL 220.403125 14.2 \nQ 220.403125 12.2 218.403125 12.2 \nL 138.8125 12.2 \nQ 136.8125 12.2 136.8125 14.2 \nL 136.8125 58.06875 \nQ 136.8125 60.06875 138.8125 60.06875 \nz\n\" style=\"fill: #ffffff; opacity: 0.8; stroke: #cccccc; stroke-linejoin: miter\"/>\n    </g>\n    <g id=\"line2d_127\">\n     <path d=\"M 140.8125 20.298438 \nL 150.8125 20.298438 \nL 160.8125 20.298438 \n\" style=\"fill: none; stroke: #1f77b4; stroke-width: 1.5; stroke-linecap: square\"/>\n    </g>\n    <g id=\"text_12\">\n     <!-- train_loss -->\n     <g transform=\"translate(168.8125 23.798438) scale(0.1 -0.1)\">\n      <defs>\n       <path id=\"DejaVuSans-74\" d=\"M 1172 4494 \nL 1172 3500 \nL 2356 3500 \nL 2356 3053 \nL 1172 3053 \nL 1172 1153 \nQ 1172 725 1289 603 \nQ 1406 481 1766 481 \nL 2356 481 \nL 2356 0 \nL 1766 0 \nQ 1100 0 847 248 \nQ 594 497 594 1153 \nL 594 3053 \nL 172 3053 \nL 172 3500 \nL 594 3500 \nL 594 4494 \nL 1172 4494 \nz\n\" transform=\"scale(0.015625)\"/>\n       <path id=\"DejaVuSans-72\" d=\"M 2631 2963 \nQ 2534 3019 2420 3045 \nQ 2306 3072 2169 3072 \nQ 1681 3072 1420 2755 \nQ 1159 2438 1159 1844 \nL 1159 0 \nL 581 0 \nL 581 3500 \nL 1159 3500 \nL 1159 2956 \nQ 1341 3275 1631 3429 \nQ 1922 3584 2338 3584 \nQ 2397 3584 2469 3576 \nQ 2541 3569 2628 3553 \nL 2631 2963 \nz\n\" transform=\"scale(0.015625)\"/>\n       <path id=\"DejaVuSans-61\" d=\"M 2194 1759 \nQ 1497 1759 1228 1600 \nQ 959 1441 959 1056 \nQ 959 750 1161 570 \nQ 1363 391 1709 391 \nQ 2188 391 2477 730 \nQ 2766 1069 2766 1631 \nL 2766 1759 \nL 2194 1759 \nz\nM 3341 1997 \nL 3341 0 \nL 2766 0 \nL 2766 531 \nQ 2569 213 2275 61 \nQ 1981 -91 1556 -91 \nQ 1019 -91 701 211 \nQ 384 513 384 1019 \nQ 384 1609 779 1909 \nQ 1175 2209 1959 2209 \nL 2766 2209 \nL 2766 2266 \nQ 2766 2663 2505 2880 \nQ 2244 3097 1772 3097 \nQ 1472 3097 1187 3025 \nQ 903 2953 641 2809 \nL 641 3341 \nQ 956 3463 1253 3523 \nQ 1550 3584 1831 3584 \nQ 2591 3584 2966 3190 \nQ 3341 2797 3341 1997 \nz\n\" transform=\"scale(0.015625)\"/>\n       <path id=\"DejaVuSans-69\" d=\"M 603 3500 \nL 1178 3500 \nL 1178 0 \nL 603 0 \nL 603 3500 \nz\nM 603 4863 \nL 1178 4863 \nL 1178 4134 \nL 603 4134 \nL 603 4863 \nz\n\" transform=\"scale(0.015625)\"/>\n       <path id=\"DejaVuSans-6e\" d=\"M 3513 2113 \nL 3513 0 \nL 2938 0 \nL 2938 2094 \nQ 2938 2591 2744 2837 \nQ 2550 3084 2163 3084 \nQ 1697 3084 1428 2787 \nQ 1159 2491 1159 1978 \nL 1159 0 \nL 581 0 \nL 581 3500 \nL 1159 3500 \nL 1159 2956 \nQ 1366 3272 1645 3428 \nQ 1925 3584 2291 3584 \nQ 2894 3584 3203 3211 \nQ 3513 2838 3513 2113 \nz\n\" transform=\"scale(0.015625)\"/>\n       <path id=\"DejaVuSans-5f\" d=\"M 3263 -1063 \nL 3263 -1509 \nL -63 -1509 \nL -63 -1063 \nL 3263 -1063 \nz\n\" transform=\"scale(0.015625)\"/>\n       <path id=\"DejaVuSans-6c\" d=\"M 603 4863 \nL 1178 4863 \nL 1178 0 \nL 603 0 \nL 603 4863 \nz\n\" transform=\"scale(0.015625)\"/>\n       <path id=\"DejaVuSans-73\" d=\"M 2834 3397 \nL 2834 2853 \nQ 2591 2978 2328 3040 \nQ 2066 3103 1784 3103 \nQ 1356 3103 1142 2972 \nQ 928 2841 928 2578 \nQ 928 2378 1081 2264 \nQ 1234 2150 1697 2047 \nL 1894 2003 \nQ 2506 1872 2764 1633 \nQ 3022 1394 3022 966 \nQ 3022 478 2636 193 \nQ 2250 -91 1575 -91 \nQ 1294 -91 989 -36 \nQ 684 19 347 128 \nL 347 722 \nQ 666 556 975 473 \nQ 1284 391 1588 391 \nQ 1994 391 2212 530 \nQ 2431 669 2431 922 \nQ 2431 1156 2273 1281 \nQ 2116 1406 1581 1522 \nL 1381 1569 \nQ 847 1681 609 1914 \nQ 372 2147 372 2553 \nQ 372 3047 722 3315 \nQ 1072 3584 1716 3584 \nQ 2034 3584 2315 3537 \nQ 2597 3491 2834 3397 \nz\n\" transform=\"scale(0.015625)\"/>\n      </defs>\n      <use xlink:href=\"#DejaVuSans-74\"/>\n      <use xlink:href=\"#DejaVuSans-72\" x=\"39.208984\"/>\n      <use xlink:href=\"#DejaVuSans-61\" x=\"80.322266\"/>\n      <use xlink:href=\"#DejaVuSans-69\" x=\"141.601562\"/>\n      <use xlink:href=\"#DejaVuSans-6e\" x=\"169.384766\"/>\n      <use xlink:href=\"#DejaVuSans-5f\" x=\"232.763672\"/>\n      <use xlink:href=\"#DejaVuSans-6c\" x=\"282.763672\"/>\n      <use xlink:href=\"#DejaVuSans-6f\" x=\"310.546875\"/>\n      <use xlink:href=\"#DejaVuSans-73\" x=\"371.728516\"/>\n      <use xlink:href=\"#DejaVuSans-73\" x=\"423.828125\"/>\n     </g>\n    </g>\n    <g id=\"line2d_128\">\n     <path d=\"M 140.8125 35.254688 \nL 150.8125 35.254688 \nL 160.8125 35.254688 \n\" style=\"fill: none; stroke-dasharray: 5.55,2.4; stroke-dashoffset: 0; stroke: #ff7f0e; stroke-width: 1.5\"/>\n    </g>\n    <g id=\"text_13\">\n     <!-- val_loss -->\n     <g transform=\"translate(168.8125 38.754688) scale(0.1 -0.1)\">\n      <defs>\n       <path id=\"DejaVuSans-76\" d=\"M 191 3500 \nL 800 3500 \nL 1894 563 \nL 2988 3500 \nL 3597 3500 \nL 2284 0 \nL 1503 0 \nL 191 3500 \nz\n\" transform=\"scale(0.015625)\"/>\n      </defs>\n      <use xlink:href=\"#DejaVuSans-76\"/>\n      <use xlink:href=\"#DejaVuSans-61\" x=\"59.179688\"/>\n      <use xlink:href=\"#DejaVuSans-6c\" x=\"120.458984\"/>\n      <use xlink:href=\"#DejaVuSans-5f\" x=\"148.242188\"/>\n      <use xlink:href=\"#DejaVuSans-6c\" x=\"198.242188\"/>\n      <use xlink:href=\"#DejaVuSans-6f\" x=\"226.025391\"/>\n      <use xlink:href=\"#DejaVuSans-73\" x=\"287.207031\"/>\n      <use xlink:href=\"#DejaVuSans-73\" x=\"339.306641\"/>\n     </g>\n    </g>\n    <g id=\"line2d_129\">\n     <path d=\"M 140.8125 50.210938 \nL 150.8125 50.210938 \nL 160.8125 50.210938 \n\" style=\"fill: none; stroke-dasharray: 9.6,2.4,1.5,2.4; stroke-dashoffset: 0; stroke: #2ca02c; stroke-width: 1.5\"/>\n    </g>\n    <g id=\"text_14\">\n     <!-- val_acc -->\n     <g transform=\"translate(168.8125 53.710938) scale(0.1 -0.1)\">\n      <use xlink:href=\"#DejaVuSans-76\"/>\n      <use xlink:href=\"#DejaVuSans-61\" x=\"59.179688\"/>\n      <use xlink:href=\"#DejaVuSans-6c\" x=\"120.458984\"/>\n      <use xlink:href=\"#DejaVuSans-5f\" x=\"148.242188\"/>\n      <use xlink:href=\"#DejaVuSans-61\" x=\"198.242188\"/>\n      <use xlink:href=\"#DejaVuSans-63\" x=\"259.521484\"/>\n      <use xlink:href=\"#DejaVuSans-63\" x=\"314.501953\"/>\n     </g>\n    </g>\n   </g>\n  </g>\n </g>\n <defs>\n  <clipPath id=\"p36d30ba43d\">\n   <rect x=\"30.103125\" y=\"7.2\" width=\"195.3\" height=\"138.6\"/>\n  </clipPath>\n </defs>\n</svg>\n"
          },
          "metadata": {}
        }
      ]
    },
    {
      "cell_type": "markdown",
      "source": [
        "# 8.3 Network in Network (NiN)"
      ],
      "metadata": {
        "id": "oZWEHll03wGx"
      }
    },
    {
      "cell_type": "code",
      "source": [
        "import torch\n",
        "from torch import nn\n",
        "from d2l import torch as d2l"
      ],
      "metadata": {
        "id": "YFOOqmyn32pX"
      },
      "execution_count": 10,
      "outputs": []
    },
    {
      "cell_type": "code",
      "source": [
        "def nin_block(out_channels, kernel_size, strides, padding):\n",
        "    return nn.Sequential(\n",
        "        nn.LazyConv2d(out_channels, kernel_size, strides, padding), nn.ReLU(),\n",
        "        nn.LazyConv2d(out_channels, kernel_size=1), nn.ReLU(),\n",
        "        nn.LazyConv2d(out_channels, kernel_size=1), nn.ReLU())"
      ],
      "metadata": {
        "id": "52rSvIpM35Nl"
      },
      "execution_count": 11,
      "outputs": []
    },
    {
      "cell_type": "code",
      "source": [
        "class NiN(d2l.Classifier):\n",
        "    def __init__(self, lr=0.1, num_classes=10):\n",
        "        super().__init__()\n",
        "        self.save_hyperparameters()\n",
        "        self.net = nn.Sequential(\n",
        "            nin_block(96, kernel_size=11, strides=4, padding=0),\n",
        "            nn.MaxPool2d(3, stride=2),\n",
        "            nin_block(256, kernel_size=5, strides=1, padding=2),\n",
        "            nn.MaxPool2d(3, stride=2),\n",
        "            nin_block(384, kernel_size=3, strides=1, padding=1),\n",
        "            nn.MaxPool2d(3, stride=2),\n",
        "            nn.Dropout(0.5),\n",
        "            nin_block(num_classes, kernel_size=3, strides=1, padding=1),\n",
        "            nn.AdaptiveAvgPool2d((1, 1)),\n",
        "            nn.Flatten())\n",
        "        self.net.apply(d2l.init_cnn)"
      ],
      "metadata": {
        "id": "cdo1UPBo37aT"
      },
      "execution_count": 12,
      "outputs": []
    },
    {
      "cell_type": "code",
      "source": [
        "NiN().layer_summary((1, 1, 224, 224))"
      ],
      "metadata": {
        "id": "ciXIElZd39oT",
        "colab": {
          "base_uri": "https://localhost:8080/"
        },
        "outputId": "3f92ccda-8677-4ccd-b997-41a0d85d155c"
      },
      "execution_count": 13,
      "outputs": [
        {
          "output_type": "stream",
          "name": "stdout",
          "text": [
            "Sequential output shape:\t torch.Size([1, 96, 54, 54])\n",
            "MaxPool2d output shape:\t torch.Size([1, 96, 26, 26])\n",
            "Sequential output shape:\t torch.Size([1, 256, 26, 26])\n",
            "MaxPool2d output shape:\t torch.Size([1, 256, 12, 12])\n",
            "Sequential output shape:\t torch.Size([1, 384, 12, 12])\n",
            "MaxPool2d output shape:\t torch.Size([1, 384, 5, 5])\n",
            "Dropout output shape:\t torch.Size([1, 384, 5, 5])\n",
            "Sequential output shape:\t torch.Size([1, 10, 5, 5])\n",
            "AdaptiveAvgPool2d output shape:\t torch.Size([1, 10, 1, 1])\n",
            "Flatten output shape:\t torch.Size([1, 10])\n"
          ]
        }
      ]
    },
    {
      "cell_type": "code",
      "source": [
        "model = NiN(lr=0.05)\n",
        "trainer = d2l.Trainer(max_epochs=10, num_gpus=1)\n",
        "data = d2l.FashionMNIST(batch_size=128, resize=(224, 224))\n",
        "model.apply_init([next(iter(data.get_dataloader(True)))[0]], d2l.init_cnn)\n",
        "trainer.fit(model, data)"
      ],
      "metadata": {
        "id": "AV_2TRWL3_sJ",
        "colab": {
          "base_uri": "https://localhost:8080/",
          "height": 265
        },
        "outputId": "ab1e72c0-f861-45be-ec92-d87f1460f720"
      },
      "execution_count": 14,
      "outputs": [
        {
          "output_type": "display_data",
          "data": {
            "text/plain": [
              "<Figure size 350x250 with 1 Axes>"
            ],
            "image/svg+xml": "<?xml version=\"1.0\" encoding=\"utf-8\" standalone=\"no\"?>\n<!DOCTYPE svg PUBLIC \"-//W3C//DTD SVG 1.1//EN\"\n  \"http://www.w3.org/Graphics/SVG/1.1/DTD/svg11.dtd\">\n<svg xmlns:xlink=\"http://www.w3.org/1999/xlink\" width=\"238.965625pt\" height=\"183.35625pt\" viewBox=\"0 0 238.965625 183.35625\" xmlns=\"http://www.w3.org/2000/svg\" version=\"1.1\">\n <metadata>\n  <rdf:RDF xmlns:dc=\"http://purl.org/dc/elements/1.1/\" xmlns:cc=\"http://creativecommons.org/ns#\" xmlns:rdf=\"http://www.w3.org/1999/02/22-rdf-syntax-ns#\">\n   <cc:Work>\n    <dc:type rdf:resource=\"http://purl.org/dc/dcmitype/StillImage\"/>\n    <dc:date>2024-10-04T14:30:35.686123</dc:date>\n    <dc:format>image/svg+xml</dc:format>\n    <dc:creator>\n     <cc:Agent>\n      <dc:title>Matplotlib v3.7.2, https://matplotlib.org/</dc:title>\n     </cc:Agent>\n    </dc:creator>\n   </cc:Work>\n  </rdf:RDF>\n </metadata>\n <defs>\n  <style type=\"text/css\">*{stroke-linejoin: round; stroke-linecap: butt}</style>\n </defs>\n <g id=\"figure_1\">\n  <g id=\"patch_1\">\n   <path d=\"M 0 183.35625 \nL 238.965625 183.35625 \nL 238.965625 0 \nL 0 0 \nz\n\" style=\"fill: #ffffff\"/>\n  </g>\n  <g id=\"axes_1\">\n   <g id=\"patch_2\">\n    <path d=\"M 30.103125 145.8 \nL 225.403125 145.8 \nL 225.403125 7.2 \nL 30.103125 7.2 \nz\n\" style=\"fill: #ffffff\"/>\n   </g>\n   <g id=\"matplotlib.axis_1\">\n    <g id=\"xtick_1\">\n     <g id=\"line2d_1\">\n      <defs>\n       <path id=\"m016b46faa1\" d=\"M 0 0 \nL 0 3.5 \n\" style=\"stroke: #000000; stroke-width: 0.8\"/>\n      </defs>\n      <g>\n       <use xlink:href=\"#m016b46faa1\" x=\"30.103125\" y=\"145.8\" style=\"stroke: #000000; stroke-width: 0.8\"/>\n      </g>\n     </g>\n     <g id=\"text_1\">\n      <!-- 0 -->\n      <g transform=\"translate(26.921875 160.398438) scale(0.1 -0.1)\">\n       <defs>\n        <path id=\"DejaVuSans-30\" d=\"M 2034 4250 \nQ 1547 4250 1301 3770 \nQ 1056 3291 1056 2328 \nQ 1056 1369 1301 889 \nQ 1547 409 2034 409 \nQ 2525 409 2770 889 \nQ 3016 1369 3016 2328 \nQ 3016 3291 2770 3770 \nQ 2525 4250 2034 4250 \nz\nM 2034 4750 \nQ 2819 4750 3233 4129 \nQ 3647 3509 3647 2328 \nQ 3647 1150 3233 529 \nQ 2819 -91 2034 -91 \nQ 1250 -91 836 529 \nQ 422 1150 422 2328 \nQ 422 3509 836 4129 \nQ 1250 4750 2034 4750 \nz\n\" transform=\"scale(0.015625)\"/>\n       </defs>\n       <use xlink:href=\"#DejaVuSans-30\"/>\n      </g>\n     </g>\n    </g>\n    <g id=\"xtick_2\">\n     <g id=\"line2d_2\">\n      <g>\n       <use xlink:href=\"#m016b46faa1\" x=\"69.163125\" y=\"145.8\" style=\"stroke: #000000; stroke-width: 0.8\"/>\n      </g>\n     </g>\n     <g id=\"text_2\">\n      <!-- 2 -->\n      <g transform=\"translate(65.981875 160.398438) scale(0.1 -0.1)\">\n       <defs>\n        <path id=\"DejaVuSans-32\" d=\"M 1228 531 \nL 3431 531 \nL 3431 0 \nL 469 0 \nL 469 531 \nQ 828 903 1448 1529 \nQ 2069 2156 2228 2338 \nQ 2531 2678 2651 2914 \nQ 2772 3150 2772 3378 \nQ 2772 3750 2511 3984 \nQ 2250 4219 1831 4219 \nQ 1534 4219 1204 4116 \nQ 875 4013 500 3803 \nL 500 4441 \nQ 881 4594 1212 4672 \nQ 1544 4750 1819 4750 \nQ 2544 4750 2975 4387 \nQ 3406 4025 3406 3419 \nQ 3406 3131 3298 2873 \nQ 3191 2616 2906 2266 \nQ 2828 2175 2409 1742 \nQ 1991 1309 1228 531 \nz\n\" transform=\"scale(0.015625)\"/>\n       </defs>\n       <use xlink:href=\"#DejaVuSans-32\"/>\n      </g>\n     </g>\n    </g>\n    <g id=\"xtick_3\">\n     <g id=\"line2d_3\">\n      <g>\n       <use xlink:href=\"#m016b46faa1\" x=\"108.223125\" y=\"145.8\" style=\"stroke: #000000; stroke-width: 0.8\"/>\n      </g>\n     </g>\n     <g id=\"text_3\">\n      <!-- 4 -->\n      <g transform=\"translate(105.041875 160.398438) scale(0.1 -0.1)\">\n       <defs>\n        <path id=\"DejaVuSans-34\" d=\"M 2419 4116 \nL 825 1625 \nL 2419 1625 \nL 2419 4116 \nz\nM 2253 4666 \nL 3047 4666 \nL 3047 1625 \nL 3713 1625 \nL 3713 1100 \nL 3047 1100 \nL 3047 0 \nL 2419 0 \nL 2419 1100 \nL 313 1100 \nL 313 1709 \nL 2253 4666 \nz\n\" transform=\"scale(0.015625)\"/>\n       </defs>\n       <use xlink:href=\"#DejaVuSans-34\"/>\n      </g>\n     </g>\n    </g>\n    <g id=\"xtick_4\">\n     <g id=\"line2d_4\">\n      <g>\n       <use xlink:href=\"#m016b46faa1\" x=\"147.283125\" y=\"145.8\" style=\"stroke: #000000; stroke-width: 0.8\"/>\n      </g>\n     </g>\n     <g id=\"text_4\">\n      <!-- 6 -->\n      <g transform=\"translate(144.101875 160.398438) scale(0.1 -0.1)\">\n       <defs>\n        <path id=\"DejaVuSans-36\" d=\"M 2113 2584 \nQ 1688 2584 1439 2293 \nQ 1191 2003 1191 1497 \nQ 1191 994 1439 701 \nQ 1688 409 2113 409 \nQ 2538 409 2786 701 \nQ 3034 994 3034 1497 \nQ 3034 2003 2786 2293 \nQ 2538 2584 2113 2584 \nz\nM 3366 4563 \nL 3366 3988 \nQ 3128 4100 2886 4159 \nQ 2644 4219 2406 4219 \nQ 1781 4219 1451 3797 \nQ 1122 3375 1075 2522 \nQ 1259 2794 1537 2939 \nQ 1816 3084 2150 3084 \nQ 2853 3084 3261 2657 \nQ 3669 2231 3669 1497 \nQ 3669 778 3244 343 \nQ 2819 -91 2113 -91 \nQ 1303 -91 875 529 \nQ 447 1150 447 2328 \nQ 447 3434 972 4092 \nQ 1497 4750 2381 4750 \nQ 2619 4750 2861 4703 \nQ 3103 4656 3366 4563 \nz\n\" transform=\"scale(0.015625)\"/>\n       </defs>\n       <use xlink:href=\"#DejaVuSans-36\"/>\n      </g>\n     </g>\n    </g>\n    <g id=\"xtick_5\">\n     <g id=\"line2d_5\">\n      <g>\n       <use xlink:href=\"#m016b46faa1\" x=\"186.343125\" y=\"145.8\" style=\"stroke: #000000; stroke-width: 0.8\"/>\n      </g>\n     </g>\n     <g id=\"text_5\">\n      <!-- 8 -->\n      <g transform=\"translate(183.161875 160.398438) scale(0.1 -0.1)\">\n       <defs>\n        <path id=\"DejaVuSans-38\" d=\"M 2034 2216 \nQ 1584 2216 1326 1975 \nQ 1069 1734 1069 1313 \nQ 1069 891 1326 650 \nQ 1584 409 2034 409 \nQ 2484 409 2743 651 \nQ 3003 894 3003 1313 \nQ 3003 1734 2745 1975 \nQ 2488 2216 2034 2216 \nz\nM 1403 2484 \nQ 997 2584 770 2862 \nQ 544 3141 544 3541 \nQ 544 4100 942 4425 \nQ 1341 4750 2034 4750 \nQ 2731 4750 3128 4425 \nQ 3525 4100 3525 3541 \nQ 3525 3141 3298 2862 \nQ 3072 2584 2669 2484 \nQ 3125 2378 3379 2068 \nQ 3634 1759 3634 1313 \nQ 3634 634 3220 271 \nQ 2806 -91 2034 -91 \nQ 1263 -91 848 271 \nQ 434 634 434 1313 \nQ 434 1759 690 2068 \nQ 947 2378 1403 2484 \nz\nM 1172 3481 \nQ 1172 3119 1398 2916 \nQ 1625 2713 2034 2713 \nQ 2441 2713 2670 2916 \nQ 2900 3119 2900 3481 \nQ 2900 3844 2670 4047 \nQ 2441 4250 2034 4250 \nQ 1625 4250 1398 4047 \nQ 1172 3844 1172 3481 \nz\n\" transform=\"scale(0.015625)\"/>\n       </defs>\n       <use xlink:href=\"#DejaVuSans-38\"/>\n      </g>\n     </g>\n    </g>\n    <g id=\"xtick_6\">\n     <g id=\"line2d_6\">\n      <g>\n       <use xlink:href=\"#m016b46faa1\" x=\"225.403125\" y=\"145.8\" style=\"stroke: #000000; stroke-width: 0.8\"/>\n      </g>\n     </g>\n     <g id=\"text_6\">\n      <!-- 10 -->\n      <g transform=\"translate(219.040625 160.398438) scale(0.1 -0.1)\">\n       <defs>\n        <path id=\"DejaVuSans-31\" d=\"M 794 531 \nL 1825 531 \nL 1825 4091 \nL 703 3866 \nL 703 4441 \nL 1819 4666 \nL 2450 4666 \nL 2450 531 \nL 3481 531 \nL 3481 0 \nL 794 0 \nL 794 531 \nz\n\" transform=\"scale(0.015625)\"/>\n       </defs>\n       <use xlink:href=\"#DejaVuSans-31\"/>\n       <use xlink:href=\"#DejaVuSans-30\" x=\"63.623047\"/>\n      </g>\n     </g>\n    </g>\n    <g id=\"text_7\">\n     <!-- epoch -->\n     <g transform=\"translate(112.525 174.076563) scale(0.1 -0.1)\">\n      <defs>\n       <path id=\"DejaVuSans-65\" d=\"M 3597 1894 \nL 3597 1613 \nL 953 1613 \nQ 991 1019 1311 708 \nQ 1631 397 2203 397 \nQ 2534 397 2845 478 \nQ 3156 559 3463 722 \nL 3463 178 \nQ 3153 47 2828 -22 \nQ 2503 -91 2169 -91 \nQ 1331 -91 842 396 \nQ 353 884 353 1716 \nQ 353 2575 817 3079 \nQ 1281 3584 2069 3584 \nQ 2775 3584 3186 3129 \nQ 3597 2675 3597 1894 \nz\nM 3022 2063 \nQ 3016 2534 2758 2815 \nQ 2500 3097 2075 3097 \nQ 1594 3097 1305 2825 \nQ 1016 2553 972 2059 \nL 3022 2063 \nz\n\" transform=\"scale(0.015625)\"/>\n       <path id=\"DejaVuSans-70\" d=\"M 1159 525 \nL 1159 -1331 \nL 581 -1331 \nL 581 3500 \nL 1159 3500 \nL 1159 2969 \nQ 1341 3281 1617 3432 \nQ 1894 3584 2278 3584 \nQ 2916 3584 3314 3078 \nQ 3713 2572 3713 1747 \nQ 3713 922 3314 415 \nQ 2916 -91 2278 -91 \nQ 1894 -91 1617 61 \nQ 1341 213 1159 525 \nz\nM 3116 1747 \nQ 3116 2381 2855 2742 \nQ 2594 3103 2138 3103 \nQ 1681 3103 1420 2742 \nQ 1159 2381 1159 1747 \nQ 1159 1113 1420 752 \nQ 1681 391 2138 391 \nQ 2594 391 2855 752 \nQ 3116 1113 3116 1747 \nz\n\" transform=\"scale(0.015625)\"/>\n       <path id=\"DejaVuSans-6f\" d=\"M 1959 3097 \nQ 1497 3097 1228 2736 \nQ 959 2375 959 1747 \nQ 959 1119 1226 758 \nQ 1494 397 1959 397 \nQ 2419 397 2687 759 \nQ 2956 1122 2956 1747 \nQ 2956 2369 2687 2733 \nQ 2419 3097 1959 3097 \nz\nM 1959 3584 \nQ 2709 3584 3137 3096 \nQ 3566 2609 3566 1747 \nQ 3566 888 3137 398 \nQ 2709 -91 1959 -91 \nQ 1206 -91 779 398 \nQ 353 888 353 1747 \nQ 353 2609 779 3096 \nQ 1206 3584 1959 3584 \nz\n\" transform=\"scale(0.015625)\"/>\n       <path id=\"DejaVuSans-63\" d=\"M 3122 3366 \nL 3122 2828 \nQ 2878 2963 2633 3030 \nQ 2388 3097 2138 3097 \nQ 1578 3097 1268 2742 \nQ 959 2388 959 1747 \nQ 959 1106 1268 751 \nQ 1578 397 2138 397 \nQ 2388 397 2633 464 \nQ 2878 531 3122 666 \nL 3122 134 \nQ 2881 22 2623 -34 \nQ 2366 -91 2075 -91 \nQ 1284 -91 818 406 \nQ 353 903 353 1747 \nQ 353 2603 823 3093 \nQ 1294 3584 2113 3584 \nQ 2378 3584 2631 3529 \nQ 2884 3475 3122 3366 \nz\n\" transform=\"scale(0.015625)\"/>\n       <path id=\"DejaVuSans-68\" d=\"M 3513 2113 \nL 3513 0 \nL 2938 0 \nL 2938 2094 \nQ 2938 2591 2744 2837 \nQ 2550 3084 2163 3084 \nQ 1697 3084 1428 2787 \nQ 1159 2491 1159 1978 \nL 1159 0 \nL 581 0 \nL 581 4863 \nL 1159 4863 \nL 1159 2956 \nQ 1366 3272 1645 3428 \nQ 1925 3584 2291 3584 \nQ 2894 3584 3203 3211 \nQ 3513 2838 3513 2113 \nz\n\" transform=\"scale(0.015625)\"/>\n      </defs>\n      <use xlink:href=\"#DejaVuSans-65\"/>\n      <use xlink:href=\"#DejaVuSans-70\" x=\"61.523438\"/>\n      <use xlink:href=\"#DejaVuSans-6f\" x=\"125\"/>\n      <use xlink:href=\"#DejaVuSans-63\" x=\"186.181641\"/>\n      <use xlink:href=\"#DejaVuSans-68\" x=\"241.162109\"/>\n     </g>\n    </g>\n   </g>\n   <g id=\"matplotlib.axis_2\">\n    <g id=\"ytick_1\">\n     <g id=\"line2d_7\">\n      <defs>\n       <path id=\"m28776f01d9\" d=\"M 0 0 \nL -3.5 0 \n\" style=\"stroke: #000000; stroke-width: 0.8\"/>\n      </defs>\n      <g>\n       <use xlink:href=\"#m28776f01d9\" x=\"30.103125\" y=\"121.452719\" style=\"stroke: #000000; stroke-width: 0.8\"/>\n      </g>\n     </g>\n     <g id=\"text_8\">\n      <!-- 0.5 -->\n      <g transform=\"translate(7.2 125.251938) scale(0.1 -0.1)\">\n       <defs>\n        <path id=\"DejaVuSans-2e\" d=\"M 684 794 \nL 1344 794 \nL 1344 0 \nL 684 0 \nL 684 794 \nz\n\" transform=\"scale(0.015625)\"/>\n        <path id=\"DejaVuSans-35\" d=\"M 691 4666 \nL 3169 4666 \nL 3169 4134 \nL 1269 4134 \nL 1269 2991 \nQ 1406 3038 1543 3061 \nQ 1681 3084 1819 3084 \nQ 2600 3084 3056 2656 \nQ 3513 2228 3513 1497 \nQ 3513 744 3044 326 \nQ 2575 -91 1722 -91 \nQ 1428 -91 1123 -41 \nQ 819 9 494 109 \nL 494 744 \nQ 775 591 1075 516 \nQ 1375 441 1709 441 \nQ 2250 441 2565 725 \nQ 2881 1009 2881 1497 \nQ 2881 1984 2565 2268 \nQ 2250 2553 1709 2553 \nQ 1456 2553 1204 2497 \nQ 953 2441 691 2322 \nL 691 4666 \nz\n\" transform=\"scale(0.015625)\"/>\n       </defs>\n       <use xlink:href=\"#DejaVuSans-30\"/>\n       <use xlink:href=\"#DejaVuSans-2e\" x=\"63.623047\"/>\n       <use xlink:href=\"#DejaVuSans-35\" x=\"95.410156\"/>\n      </g>\n     </g>\n    </g>\n    <g id=\"ytick_2\">\n     <g id=\"line2d_8\">\n      <g>\n       <use xlink:href=\"#m28776f01d9\" x=\"30.103125\" y=\"91.555258\" style=\"stroke: #000000; stroke-width: 0.8\"/>\n      </g>\n     </g>\n     <g id=\"text_9\">\n      <!-- 1.0 -->\n      <g transform=\"translate(7.2 95.354477) scale(0.1 -0.1)\">\n       <use xlink:href=\"#DejaVuSans-31\"/>\n       <use xlink:href=\"#DejaVuSans-2e\" x=\"63.623047\"/>\n       <use xlink:href=\"#DejaVuSans-30\" x=\"95.410156\"/>\n      </g>\n     </g>\n    </g>\n    <g id=\"ytick_3\">\n     <g id=\"line2d_9\">\n      <g>\n       <use xlink:href=\"#m28776f01d9\" x=\"30.103125\" y=\"61.657798\" style=\"stroke: #000000; stroke-width: 0.8\"/>\n      </g>\n     </g>\n     <g id=\"text_10\">\n      <!-- 1.5 -->\n      <g transform=\"translate(7.2 65.457016) scale(0.1 -0.1)\">\n       <use xlink:href=\"#DejaVuSans-31\"/>\n       <use xlink:href=\"#DejaVuSans-2e\" x=\"63.623047\"/>\n       <use xlink:href=\"#DejaVuSans-35\" x=\"95.410156\"/>\n      </g>\n     </g>\n    </g>\n    <g id=\"ytick_4\">\n     <g id=\"line2d_10\">\n      <g>\n       <use xlink:href=\"#m28776f01d9\" x=\"30.103125\" y=\"31.760337\" style=\"stroke: #000000; stroke-width: 0.8\"/>\n      </g>\n     </g>\n     <g id=\"text_11\">\n      <!-- 2.0 -->\n      <g transform=\"translate(7.2 35.559555) scale(0.1 -0.1)\">\n       <use xlink:href=\"#DejaVuSans-32\"/>\n       <use xlink:href=\"#DejaVuSans-2e\" x=\"63.623047\"/>\n       <use xlink:href=\"#DejaVuSans-30\" x=\"95.410156\"/>\n      </g>\n     </g>\n    </g>\n   </g>\n   <g id=\"line2d_11\">\n    <path d=\"M 34.954394 13.5 \n\" clip-path=\"url(#p96dcec1a20)\" style=\"fill: none; stroke: #1f77b4; stroke-width: 1.5; stroke-linecap: square\"/>\n   </g>\n   <g id=\"line2d_12\">\n    <path d=\"M 34.954394 13.5 \nL 44.698573 16.109229 \n\" clip-path=\"url(#p96dcec1a20)\" style=\"fill: none; stroke: #1f77b4; stroke-width: 1.5; stroke-linecap: square\"/>\n   </g>\n   <g id=\"line2d_13\">\n    <path d=\"M 34.954394 13.5 \nL 44.698573 16.109229 \n\" clip-path=\"url(#p96dcec1a20)\" style=\"fill: none; stroke: #1f77b4; stroke-width: 1.5; stroke-linecap: square\"/>\n   </g>\n   <g id=\"line2d_14\">\n    <path d=\"M 49.633125 24.639443 \n\" clip-path=\"url(#p96dcec1a20)\" style=\"fill: none; stroke-dasharray: 5.55,2.4; stroke-dashoffset: 0; stroke: #ff7f0e; stroke-width: 1.5\"/>\n   </g>\n   <g id=\"line2d_15\"/>\n   <g id=\"line2d_16\">\n    <path d=\"M 34.954394 13.5 \nL 44.698573 16.109229 \n\" clip-path=\"url(#p96dcec1a20)\" style=\"fill: none; stroke: #1f77b4; stroke-width: 1.5; stroke-linecap: square\"/>\n   </g>\n   <g id=\"line2d_17\">\n    <path d=\"M 49.633125 24.639443 \n\" clip-path=\"url(#p96dcec1a20)\" style=\"fill: none; stroke-dasharray: 5.55,2.4; stroke-dashoffset: 0; stroke: #ff7f0e; stroke-width: 1.5\"/>\n   </g>\n   <g id=\"line2d_18\">\n    <path d=\"M 49.633125 139.5 \n\" clip-path=\"url(#p96dcec1a20)\" style=\"fill: none; stroke-dasharray: 9.6,2.4,1.5,2.4; stroke-dashoffset: 0; stroke: #2ca02c; stroke-width: 1.5\"/>\n   </g>\n   <g id=\"line2d_19\">\n    <path d=\"M 34.954394 13.5 \nL 44.698573 16.109229 \nL 54.442752 48.188515 \n\" clip-path=\"url(#p96dcec1a20)\" style=\"fill: none; stroke: #1f77b4; stroke-width: 1.5; stroke-linecap: square\"/>\n   </g>\n   <g id=\"line2d_20\">\n    <path d=\"M 49.633125 24.639443 \n\" clip-path=\"url(#p96dcec1a20)\" style=\"fill: none; stroke-dasharray: 5.55,2.4; stroke-dashoffset: 0; stroke: #ff7f0e; stroke-width: 1.5\"/>\n   </g>\n   <g id=\"line2d_21\">\n    <path d=\"M 49.633125 139.5 \n\" clip-path=\"url(#p96dcec1a20)\" style=\"fill: none; stroke-dasharray: 9.6,2.4,1.5,2.4; stroke-dashoffset: 0; stroke: #2ca02c; stroke-width: 1.5\"/>\n   </g>\n   <g id=\"line2d_22\">\n    <path d=\"M 34.954394 13.5 \nL 44.698573 16.109229 \nL 54.442752 48.188515 \nL 64.186931 75.411999 \n\" clip-path=\"url(#p96dcec1a20)\" style=\"fill: none; stroke: #1f77b4; stroke-width: 1.5; stroke-linecap: square\"/>\n   </g>\n   <g id=\"line2d_23\">\n    <path d=\"M 49.633125 24.639443 \n\" clip-path=\"url(#p96dcec1a20)\" style=\"fill: none; stroke-dasharray: 5.55,2.4; stroke-dashoffset: 0; stroke: #ff7f0e; stroke-width: 1.5\"/>\n   </g>\n   <g id=\"line2d_24\">\n    <path d=\"M 49.633125 139.5 \n\" clip-path=\"url(#p96dcec1a20)\" style=\"fill: none; stroke-dasharray: 9.6,2.4,1.5,2.4; stroke-dashoffset: 0; stroke: #2ca02c; stroke-width: 1.5\"/>\n   </g>\n   <g id=\"line2d_25\">\n    <path d=\"M 34.954394 13.5 \nL 44.698573 16.109229 \nL 54.442752 48.188515 \nL 64.186931 75.411999 \n\" clip-path=\"url(#p96dcec1a20)\" style=\"fill: none; stroke: #1f77b4; stroke-width: 1.5; stroke-linecap: square\"/>\n   </g>\n   <g id=\"line2d_26\">\n    <path d=\"M 49.633125 24.639443 \nL 69.163125 85.179275 \n\" clip-path=\"url(#p96dcec1a20)\" style=\"fill: none; stroke-dasharray: 5.55,2.4; stroke-dashoffset: 0; stroke: #ff7f0e; stroke-width: 1.5\"/>\n   </g>\n   <g id=\"line2d_27\">\n    <path d=\"M 49.633125 139.5 \n\" clip-path=\"url(#p96dcec1a20)\" style=\"fill: none; stroke-dasharray: 9.6,2.4,1.5,2.4; stroke-dashoffset: 0; stroke: #2ca02c; stroke-width: 1.5\"/>\n   </g>\n   <g id=\"line2d_28\">\n    <path d=\"M 34.954394 13.5 \nL 44.698573 16.109229 \nL 54.442752 48.188515 \nL 64.186931 75.411999 \n\" clip-path=\"url(#p96dcec1a20)\" style=\"fill: none; stroke: #1f77b4; stroke-width: 1.5; stroke-linecap: square\"/>\n   </g>\n   <g id=\"line2d_29\">\n    <path d=\"M 49.633125 24.639443 \nL 69.163125 85.179275 \n\" clip-path=\"url(#p96dcec1a20)\" style=\"fill: none; stroke-dasharray: 5.55,2.4; stroke-dashoffset: 0; stroke: #ff7f0e; stroke-width: 1.5\"/>\n   </g>\n   <g id=\"line2d_30\">\n    <path d=\"M 49.633125 139.5 \nL 69.163125 112.718829 \n\" clip-path=\"url(#p96dcec1a20)\" style=\"fill: none; stroke-dasharray: 9.6,2.4,1.5,2.4; stroke-dashoffset: 0; stroke: #2ca02c; stroke-width: 1.5\"/>\n   </g>\n   <g id=\"line2d_31\">\n    <path d=\"M 34.954394 13.5 \nL 44.698573 16.109229 \nL 54.442752 48.188515 \nL 64.186931 75.411999 \nL 73.93111 89.393831 \n\" clip-path=\"url(#p96dcec1a20)\" style=\"fill: none; stroke: #1f77b4; stroke-width: 1.5; stroke-linecap: square\"/>\n   </g>\n   <g id=\"line2d_32\">\n    <path d=\"M 49.633125 24.639443 \nL 69.163125 85.179275 \n\" clip-path=\"url(#p96dcec1a20)\" style=\"fill: none; stroke-dasharray: 5.55,2.4; stroke-dashoffset: 0; stroke: #ff7f0e; stroke-width: 1.5\"/>\n   </g>\n   <g id=\"line2d_33\">\n    <path d=\"M 49.633125 139.5 \nL 69.163125 112.718829 \n\" clip-path=\"url(#p96dcec1a20)\" style=\"fill: none; stroke-dasharray: 9.6,2.4,1.5,2.4; stroke-dashoffset: 0; stroke: #2ca02c; stroke-width: 1.5\"/>\n   </g>\n   <g id=\"line2d_34\">\n    <path d=\"M 34.954394 13.5 \nL 44.698573 16.109229 \nL 54.442752 48.188515 \nL 64.186931 75.411999 \nL 73.93111 89.393831 \nL 83.675289 96.894179 \n\" clip-path=\"url(#p96dcec1a20)\" style=\"fill: none; stroke: #1f77b4; stroke-width: 1.5; stroke-linecap: square\"/>\n   </g>\n   <g id=\"line2d_35\">\n    <path d=\"M 49.633125 24.639443 \nL 69.163125 85.179275 \n\" clip-path=\"url(#p96dcec1a20)\" style=\"fill: none; stroke-dasharray: 5.55,2.4; stroke-dashoffset: 0; stroke: #ff7f0e; stroke-width: 1.5\"/>\n   </g>\n   <g id=\"line2d_36\">\n    <path d=\"M 49.633125 139.5 \nL 69.163125 112.718829 \n\" clip-path=\"url(#p96dcec1a20)\" style=\"fill: none; stroke-dasharray: 9.6,2.4,1.5,2.4; stroke-dashoffset: 0; stroke: #2ca02c; stroke-width: 1.5\"/>\n   </g>\n   <g id=\"line2d_37\">\n    <path d=\"M 34.954394 13.5 \nL 44.698573 16.109229 \nL 54.442752 48.188515 \nL 64.186931 75.411999 \nL 73.93111 89.393831 \nL 83.675289 96.894179 \n\" clip-path=\"url(#p96dcec1a20)\" style=\"fill: none; stroke: #1f77b4; stroke-width: 1.5; stroke-linecap: square\"/>\n   </g>\n   <g id=\"line2d_38\">\n    <path d=\"M 49.633125 24.639443 \nL 69.163125 85.179275 \nL 88.693125 100.866638 \n\" clip-path=\"url(#p96dcec1a20)\" style=\"fill: none; stroke-dasharray: 5.55,2.4; stroke-dashoffset: 0; stroke: #ff7f0e; stroke-width: 1.5\"/>\n   </g>\n   <g id=\"line2d_39\">\n    <path d=\"M 49.633125 139.5 \nL 69.163125 112.718829 \n\" clip-path=\"url(#p96dcec1a20)\" style=\"fill: none; stroke-dasharray: 9.6,2.4,1.5,2.4; stroke-dashoffset: 0; stroke: #2ca02c; stroke-width: 1.5\"/>\n   </g>\n   <g id=\"line2d_40\">\n    <path d=\"M 34.954394 13.5 \nL 44.698573 16.109229 \nL 54.442752 48.188515 \nL 64.186931 75.411999 \nL 73.93111 89.393831 \nL 83.675289 96.894179 \n\" clip-path=\"url(#p96dcec1a20)\" style=\"fill: none; stroke: #1f77b4; stroke-width: 1.5; stroke-linecap: square\"/>\n   </g>\n   <g id=\"line2d_41\">\n    <path d=\"M 49.633125 24.639443 \nL 69.163125 85.179275 \nL 88.693125 100.866638 \n\" clip-path=\"url(#p96dcec1a20)\" style=\"fill: none; stroke-dasharray: 5.55,2.4; stroke-dashoffset: 0; stroke: #ff7f0e; stroke-width: 1.5\"/>\n   </g>\n   <g id=\"line2d_42\">\n    <path d=\"M 49.633125 139.5 \nL 69.163125 112.718829 \nL 88.693125 107.692555 \n\" clip-path=\"url(#p96dcec1a20)\" style=\"fill: none; stroke-dasharray: 9.6,2.4,1.5,2.4; stroke-dashoffset: 0; stroke: #2ca02c; stroke-width: 1.5\"/>\n   </g>\n   <g id=\"line2d_43\">\n    <path d=\"M 34.954394 13.5 \nL 44.698573 16.109229 \nL 54.442752 48.188515 \nL 64.186931 75.411999 \nL 73.93111 89.393831 \nL 83.675289 96.894179 \nL 93.419468 101.078323 \n\" clip-path=\"url(#p96dcec1a20)\" style=\"fill: none; stroke: #1f77b4; stroke-width: 1.5; stroke-linecap: square\"/>\n   </g>\n   <g id=\"line2d_44\">\n    <path d=\"M 49.633125 24.639443 \nL 69.163125 85.179275 \nL 88.693125 100.866638 \n\" clip-path=\"url(#p96dcec1a20)\" style=\"fill: none; stroke-dasharray: 5.55,2.4; stroke-dashoffset: 0; stroke: #ff7f0e; stroke-width: 1.5\"/>\n   </g>\n   <g id=\"line2d_45\">\n    <path d=\"M 49.633125 139.5 \nL 69.163125 112.718829 \nL 88.693125 107.692555 \n\" clip-path=\"url(#p96dcec1a20)\" style=\"fill: none; stroke-dasharray: 9.6,2.4,1.5,2.4; stroke-dashoffset: 0; stroke: #2ca02c; stroke-width: 1.5\"/>\n   </g>\n   <g id=\"line2d_46\">\n    <path d=\"M 34.954394 13.5 \nL 44.698573 16.109229 \nL 54.442752 48.188515 \nL 64.186931 75.411999 \nL 73.93111 89.393831 \nL 83.675289 96.894179 \nL 93.419468 101.078323 \nL 103.163647 103.166074 \n\" clip-path=\"url(#p96dcec1a20)\" style=\"fill: none; stroke: #1f77b4; stroke-width: 1.5; stroke-linecap: square\"/>\n   </g>\n   <g id=\"line2d_47\">\n    <path d=\"M 49.633125 24.639443 \nL 69.163125 85.179275 \nL 88.693125 100.866638 \n\" clip-path=\"url(#p96dcec1a20)\" style=\"fill: none; stroke-dasharray: 5.55,2.4; stroke-dashoffset: 0; stroke: #ff7f0e; stroke-width: 1.5\"/>\n   </g>\n   <g id=\"line2d_48\">\n    <path d=\"M 49.633125 139.5 \nL 69.163125 112.718829 \nL 88.693125 107.692555 \n\" clip-path=\"url(#p96dcec1a20)\" style=\"fill: none; stroke-dasharray: 9.6,2.4,1.5,2.4; stroke-dashoffset: 0; stroke: #2ca02c; stroke-width: 1.5\"/>\n   </g>\n   <g id=\"line2d_49\">\n    <path d=\"M 34.954394 13.5 \nL 44.698573 16.109229 \nL 54.442752 48.188515 \nL 64.186931 75.411999 \nL 73.93111 89.393831 \nL 83.675289 96.894179 \nL 93.419468 101.078323 \nL 103.163647 103.166074 \n\" clip-path=\"url(#p96dcec1a20)\" style=\"fill: none; stroke: #1f77b4; stroke-width: 1.5; stroke-linecap: square\"/>\n   </g>\n   <g id=\"line2d_50\">\n    <path d=\"M 49.633125 24.639443 \nL 69.163125 85.179275 \nL 88.693125 100.866638 \nL 108.223125 106.312909 \n\" clip-path=\"url(#p96dcec1a20)\" style=\"fill: none; stroke-dasharray: 5.55,2.4; stroke-dashoffset: 0; stroke: #ff7f0e; stroke-width: 1.5\"/>\n   </g>\n   <g id=\"line2d_51\">\n    <path d=\"M 49.633125 139.5 \nL 69.163125 112.718829 \nL 88.693125 107.692555 \n\" clip-path=\"url(#p96dcec1a20)\" style=\"fill: none; stroke-dasharray: 9.6,2.4,1.5,2.4; stroke-dashoffset: 0; stroke: #2ca02c; stroke-width: 1.5\"/>\n   </g>\n   <g id=\"line2d_52\">\n    <path d=\"M 34.954394 13.5 \nL 44.698573 16.109229 \nL 54.442752 48.188515 \nL 64.186931 75.411999 \nL 73.93111 89.393831 \nL 83.675289 96.894179 \nL 93.419468 101.078323 \nL 103.163647 103.166074 \n\" clip-path=\"url(#p96dcec1a20)\" style=\"fill: none; stroke: #1f77b4; stroke-width: 1.5; stroke-linecap: square\"/>\n   </g>\n   <g id=\"line2d_53\">\n    <path d=\"M 49.633125 24.639443 \nL 69.163125 85.179275 \nL 88.693125 100.866638 \nL 108.223125 106.312909 \n\" clip-path=\"url(#p96dcec1a20)\" style=\"fill: none; stroke-dasharray: 5.55,2.4; stroke-dashoffset: 0; stroke: #ff7f0e; stroke-width: 1.5\"/>\n   </g>\n   <g id=\"line2d_54\">\n    <path d=\"M 49.633125 139.5 \nL 69.163125 112.718829 \nL 88.693125 107.692555 \nL 108.223125 104.221469 \n\" clip-path=\"url(#p96dcec1a20)\" style=\"fill: none; stroke-dasharray: 9.6,2.4,1.5,2.4; stroke-dashoffset: 0; stroke: #2ca02c; stroke-width: 1.5\"/>\n   </g>\n   <g id=\"line2d_55\">\n    <path d=\"M 34.954394 13.5 \nL 44.698573 16.109229 \nL 54.442752 48.188515 \nL 64.186931 75.411999 \nL 73.93111 89.393831 \nL 83.675289 96.894179 \nL 93.419468 101.078323 \nL 103.163647 103.166074 \nL 112.907826 106.46362 \n\" clip-path=\"url(#p96dcec1a20)\" style=\"fill: none; stroke: #1f77b4; stroke-width: 1.5; stroke-linecap: square\"/>\n   </g>\n   <g id=\"line2d_56\">\n    <path d=\"M 49.633125 24.639443 \nL 69.163125 85.179275 \nL 88.693125 100.866638 \nL 108.223125 106.312909 \n\" clip-path=\"url(#p96dcec1a20)\" style=\"fill: none; stroke-dasharray: 5.55,2.4; stroke-dashoffset: 0; stroke: #ff7f0e; stroke-width: 1.5\"/>\n   </g>\n   <g id=\"line2d_57\">\n    <path d=\"M 49.633125 139.5 \nL 69.163125 112.718829 \nL 88.693125 107.692555 \nL 108.223125 104.221469 \n\" clip-path=\"url(#p96dcec1a20)\" style=\"fill: none; stroke-dasharray: 9.6,2.4,1.5,2.4; stroke-dashoffset: 0; stroke: #2ca02c; stroke-width: 1.5\"/>\n   </g>\n   <g id=\"line2d_58\">\n    <path d=\"M 34.954394 13.5 \nL 44.698573 16.109229 \nL 54.442752 48.188515 \nL 64.186931 75.411999 \nL 73.93111 89.393831 \nL 83.675289 96.894179 \nL 93.419468 101.078323 \nL 103.163647 103.166074 \nL 112.907826 106.46362 \nL 122.652006 108.389627 \n\" clip-path=\"url(#p96dcec1a20)\" style=\"fill: none; stroke: #1f77b4; stroke-width: 1.5; stroke-linecap: square\"/>\n   </g>\n   <g id=\"line2d_59\">\n    <path d=\"M 49.633125 24.639443 \nL 69.163125 85.179275 \nL 88.693125 100.866638 \nL 108.223125 106.312909 \n\" clip-path=\"url(#p96dcec1a20)\" style=\"fill: none; stroke-dasharray: 5.55,2.4; stroke-dashoffset: 0; stroke: #ff7f0e; stroke-width: 1.5\"/>\n   </g>\n   <g id=\"line2d_60\">\n    <path d=\"M 49.633125 139.5 \nL 69.163125 112.718829 \nL 88.693125 107.692555 \nL 108.223125 104.221469 \n\" clip-path=\"url(#p96dcec1a20)\" style=\"fill: none; stroke-dasharray: 9.6,2.4,1.5,2.4; stroke-dashoffset: 0; stroke: #2ca02c; stroke-width: 1.5\"/>\n   </g>\n   <g id=\"line2d_61\">\n    <path d=\"M 34.954394 13.5 \nL 44.698573 16.109229 \nL 54.442752 48.188515 \nL 64.186931 75.411999 \nL 73.93111 89.393831 \nL 83.675289 96.894179 \nL 93.419468 101.078323 \nL 103.163647 103.166074 \nL 112.907826 106.46362 \nL 122.652006 108.389627 \n\" clip-path=\"url(#p96dcec1a20)\" style=\"fill: none; stroke: #1f77b4; stroke-width: 1.5; stroke-linecap: square\"/>\n   </g>\n   <g id=\"line2d_62\">\n    <path d=\"M 49.633125 24.639443 \nL 69.163125 85.179275 \nL 88.693125 100.866638 \nL 108.223125 106.312909 \nL 127.753125 109.959107 \n\" clip-path=\"url(#p96dcec1a20)\" style=\"fill: none; stroke-dasharray: 5.55,2.4; stroke-dashoffset: 0; stroke: #ff7f0e; stroke-width: 1.5\"/>\n   </g>\n   <g id=\"line2d_63\">\n    <path d=\"M 49.633125 139.5 \nL 69.163125 112.718829 \nL 88.693125 107.692555 \nL 108.223125 104.221469 \n\" clip-path=\"url(#p96dcec1a20)\" style=\"fill: none; stroke-dasharray: 9.6,2.4,1.5,2.4; stroke-dashoffset: 0; stroke: #2ca02c; stroke-width: 1.5\"/>\n   </g>\n   <g id=\"line2d_64\">\n    <path d=\"M 34.954394 13.5 \nL 44.698573 16.109229 \nL 54.442752 48.188515 \nL 64.186931 75.411999 \nL 73.93111 89.393831 \nL 83.675289 96.894179 \nL 93.419468 101.078323 \nL 103.163647 103.166074 \nL 112.907826 106.46362 \nL 122.652006 108.389627 \n\" clip-path=\"url(#p96dcec1a20)\" style=\"fill: none; stroke: #1f77b4; stroke-width: 1.5; stroke-linecap: square\"/>\n   </g>\n   <g id=\"line2d_65\">\n    <path d=\"M 49.633125 24.639443 \nL 69.163125 85.179275 \nL 88.693125 100.866638 \nL 108.223125 106.312909 \nL 127.753125 109.959107 \n\" clip-path=\"url(#p96dcec1a20)\" style=\"fill: none; stroke-dasharray: 5.55,2.4; stroke-dashoffset: 0; stroke: #ff7f0e; stroke-width: 1.5\"/>\n   </g>\n   <g id=\"line2d_66\">\n    <path d=\"M 49.633125 139.5 \nL 69.163125 112.718829 \nL 88.693125 107.692555 \nL 108.223125 104.221469 \nL 127.753125 103.89624 \n\" clip-path=\"url(#p96dcec1a20)\" style=\"fill: none; stroke-dasharray: 9.6,2.4,1.5,2.4; stroke-dashoffset: 0; stroke: #2ca02c; stroke-width: 1.5\"/>\n   </g>\n   <g id=\"line2d_67\">\n    <path d=\"M 34.954394 13.5 \nL 44.698573 16.109229 \nL 54.442752 48.188515 \nL 64.186931 75.411999 \nL 73.93111 89.393831 \nL 83.675289 96.894179 \nL 93.419468 101.078323 \nL 103.163647 103.166074 \nL 112.907826 106.46362 \nL 122.652006 108.389627 \nL 132.396185 109.208733 \n\" clip-path=\"url(#p96dcec1a20)\" style=\"fill: none; stroke: #1f77b4; stroke-width: 1.5; stroke-linecap: square\"/>\n   </g>\n   <g id=\"line2d_68\">\n    <path d=\"M 49.633125 24.639443 \nL 69.163125 85.179275 \nL 88.693125 100.866638 \nL 108.223125 106.312909 \nL 127.753125 109.959107 \n\" clip-path=\"url(#p96dcec1a20)\" style=\"fill: none; stroke-dasharray: 5.55,2.4; stroke-dashoffset: 0; stroke: #ff7f0e; stroke-width: 1.5\"/>\n   </g>\n   <g id=\"line2d_69\">\n    <path d=\"M 49.633125 139.5 \nL 69.163125 112.718829 \nL 88.693125 107.692555 \nL 108.223125 104.221469 \nL 127.753125 103.89624 \n\" clip-path=\"url(#p96dcec1a20)\" style=\"fill: none; stroke-dasharray: 9.6,2.4,1.5,2.4; stroke-dashoffset: 0; stroke: #2ca02c; stroke-width: 1.5\"/>\n   </g>\n   <g id=\"line2d_70\">\n    <path d=\"M 34.954394 13.5 \nL 44.698573 16.109229 \nL 54.442752 48.188515 \nL 64.186931 75.411999 \nL 73.93111 89.393831 \nL 83.675289 96.894179 \nL 93.419468 101.078323 \nL 103.163647 103.166074 \nL 112.907826 106.46362 \nL 122.652006 108.389627 \nL 132.396185 109.208733 \nL 142.140364 111.597029 \n\" clip-path=\"url(#p96dcec1a20)\" style=\"fill: none; stroke: #1f77b4; stroke-width: 1.5; stroke-linecap: square\"/>\n   </g>\n   <g id=\"line2d_71\">\n    <path d=\"M 49.633125 24.639443 \nL 69.163125 85.179275 \nL 88.693125 100.866638 \nL 108.223125 106.312909 \nL 127.753125 109.959107 \n\" clip-path=\"url(#p96dcec1a20)\" style=\"fill: none; stroke-dasharray: 5.55,2.4; stroke-dashoffset: 0; stroke: #ff7f0e; stroke-width: 1.5\"/>\n   </g>\n   <g id=\"line2d_72\">\n    <path d=\"M 49.633125 139.5 \nL 69.163125 112.718829 \nL 88.693125 107.692555 \nL 108.223125 104.221469 \nL 127.753125 103.89624 \n\" clip-path=\"url(#p96dcec1a20)\" style=\"fill: none; stroke-dasharray: 9.6,2.4,1.5,2.4; stroke-dashoffset: 0; stroke: #2ca02c; stroke-width: 1.5\"/>\n   </g>\n   <g id=\"line2d_73\">\n    <path d=\"M 34.954394 13.5 \nL 44.698573 16.109229 \nL 54.442752 48.188515 \nL 64.186931 75.411999 \nL 73.93111 89.393831 \nL 83.675289 96.894179 \nL 93.419468 101.078323 \nL 103.163647 103.166074 \nL 112.907826 106.46362 \nL 122.652006 108.389627 \nL 132.396185 109.208733 \nL 142.140364 111.597029 \n\" clip-path=\"url(#p96dcec1a20)\" style=\"fill: none; stroke: #1f77b4; stroke-width: 1.5; stroke-linecap: square\"/>\n   </g>\n   <g id=\"line2d_74\">\n    <path d=\"M 49.633125 24.639443 \nL 69.163125 85.179275 \nL 88.693125 100.866638 \nL 108.223125 106.312909 \nL 127.753125 109.959107 \nL 147.283125 111.828587 \n\" clip-path=\"url(#p96dcec1a20)\" style=\"fill: none; stroke-dasharray: 5.55,2.4; stroke-dashoffset: 0; stroke: #ff7f0e; stroke-width: 1.5\"/>\n   </g>\n   <g id=\"line2d_75\">\n    <path d=\"M 49.633125 139.5 \nL 69.163125 112.718829 \nL 88.693125 107.692555 \nL 108.223125 104.221469 \nL 127.753125 103.89624 \n\" clip-path=\"url(#p96dcec1a20)\" style=\"fill: none; stroke-dasharray: 9.6,2.4,1.5,2.4; stroke-dashoffset: 0; stroke: #2ca02c; stroke-width: 1.5\"/>\n   </g>\n   <g id=\"line2d_76\">\n    <path d=\"M 34.954394 13.5 \nL 44.698573 16.109229 \nL 54.442752 48.188515 \nL 64.186931 75.411999 \nL 73.93111 89.393831 \nL 83.675289 96.894179 \nL 93.419468 101.078323 \nL 103.163647 103.166074 \nL 112.907826 106.46362 \nL 122.652006 108.389627 \nL 132.396185 109.208733 \nL 142.140364 111.597029 \n\" clip-path=\"url(#p96dcec1a20)\" style=\"fill: none; stroke: #1f77b4; stroke-width: 1.5; stroke-linecap: square\"/>\n   </g>\n   <g id=\"line2d_77\">\n    <path d=\"M 49.633125 24.639443 \nL 69.163125 85.179275 \nL 88.693125 100.866638 \nL 108.223125 106.312909 \nL 127.753125 109.959107 \nL 147.283125 111.828587 \n\" clip-path=\"url(#p96dcec1a20)\" style=\"fill: none; stroke-dasharray: 5.55,2.4; stroke-dashoffset: 0; stroke: #ff7f0e; stroke-width: 1.5\"/>\n   </g>\n   <g id=\"line2d_78\">\n    <path d=\"M 49.633125 139.5 \nL 69.163125 112.718829 \nL 88.693125 107.692555 \nL 108.223125 104.221469 \nL 127.753125 103.89624 \nL 147.283125 102.849592 \n\" clip-path=\"url(#p96dcec1a20)\" style=\"fill: none; stroke-dasharray: 9.6,2.4,1.5,2.4; stroke-dashoffset: 0; stroke: #2ca02c; stroke-width: 1.5\"/>\n   </g>\n   <g id=\"line2d_79\">\n    <path d=\"M 34.954394 13.5 \nL 44.698573 16.109229 \nL 54.442752 48.188515 \nL 64.186931 75.411999 \nL 73.93111 89.393831 \nL 83.675289 96.894179 \nL 93.419468 101.078323 \nL 103.163647 103.166074 \nL 112.907826 106.46362 \nL 122.652006 108.389627 \nL 132.396185 109.208733 \nL 142.140364 111.597029 \nL 151.884543 112.139514 \n\" clip-path=\"url(#p96dcec1a20)\" style=\"fill: none; stroke: #1f77b4; stroke-width: 1.5; stroke-linecap: square\"/>\n   </g>\n   <g id=\"line2d_80\">\n    <path d=\"M 49.633125 24.639443 \nL 69.163125 85.179275 \nL 88.693125 100.866638 \nL 108.223125 106.312909 \nL 127.753125 109.959107 \nL 147.283125 111.828587 \n\" clip-path=\"url(#p96dcec1a20)\" style=\"fill: none; stroke-dasharray: 5.55,2.4; stroke-dashoffset: 0; stroke: #ff7f0e; stroke-width: 1.5\"/>\n   </g>\n   <g id=\"line2d_81\">\n    <path d=\"M 49.633125 139.5 \nL 69.163125 112.718829 \nL 88.693125 107.692555 \nL 108.223125 104.221469 \nL 127.753125 103.89624 \nL 147.283125 102.849592 \n\" clip-path=\"url(#p96dcec1a20)\" style=\"fill: none; stroke-dasharray: 9.6,2.4,1.5,2.4; stroke-dashoffset: 0; stroke: #2ca02c; stroke-width: 1.5\"/>\n   </g>\n   <g id=\"line2d_82\">\n    <path d=\"M 34.954394 13.5 \nL 44.698573 16.109229 \nL 54.442752 48.188515 \nL 64.186931 75.411999 \nL 73.93111 89.393831 \nL 83.675289 96.894179 \nL 93.419468 101.078323 \nL 103.163647 103.166074 \nL 112.907826 106.46362 \nL 122.652006 108.389627 \nL 132.396185 109.208733 \nL 142.140364 111.597029 \nL 151.884543 112.139514 \nL 161.628722 116.555074 \n\" clip-path=\"url(#p96dcec1a20)\" style=\"fill: none; stroke: #1f77b4; stroke-width: 1.5; stroke-linecap: square\"/>\n   </g>\n   <g id=\"line2d_83\">\n    <path d=\"M 49.633125 24.639443 \nL 69.163125 85.179275 \nL 88.693125 100.866638 \nL 108.223125 106.312909 \nL 127.753125 109.959107 \nL 147.283125 111.828587 \n\" clip-path=\"url(#p96dcec1a20)\" style=\"fill: none; stroke-dasharray: 5.55,2.4; stroke-dashoffset: 0; stroke: #ff7f0e; stroke-width: 1.5\"/>\n   </g>\n   <g id=\"line2d_84\">\n    <path d=\"M 49.633125 139.5 \nL 69.163125 112.718829 \nL 88.693125 107.692555 \nL 108.223125 104.221469 \nL 127.753125 103.89624 \nL 147.283125 102.849592 \n\" clip-path=\"url(#p96dcec1a20)\" style=\"fill: none; stroke-dasharray: 9.6,2.4,1.5,2.4; stroke-dashoffset: 0; stroke: #2ca02c; stroke-width: 1.5\"/>\n   </g>\n   <g id=\"line2d_85\">\n    <path d=\"M 34.954394 13.5 \nL 44.698573 16.109229 \nL 54.442752 48.188515 \nL 64.186931 75.411999 \nL 73.93111 89.393831 \nL 83.675289 96.894179 \nL 93.419468 101.078323 \nL 103.163647 103.166074 \nL 112.907826 106.46362 \nL 122.652006 108.389627 \nL 132.396185 109.208733 \nL 142.140364 111.597029 \nL 151.884543 112.139514 \nL 161.628722 116.555074 \n\" clip-path=\"url(#p96dcec1a20)\" style=\"fill: none; stroke: #1f77b4; stroke-width: 1.5; stroke-linecap: square\"/>\n   </g>\n   <g id=\"line2d_86\">\n    <path d=\"M 49.633125 24.639443 \nL 69.163125 85.179275 \nL 88.693125 100.866638 \nL 108.223125 106.312909 \nL 127.753125 109.959107 \nL 147.283125 111.828587 \nL 166.813125 118.224085 \n\" clip-path=\"url(#p96dcec1a20)\" style=\"fill: none; stroke-dasharray: 5.55,2.4; stroke-dashoffset: 0; stroke: #ff7f0e; stroke-width: 1.5\"/>\n   </g>\n   <g id=\"line2d_87\">\n    <path d=\"M 49.633125 139.5 \nL 69.163125 112.718829 \nL 88.693125 107.692555 \nL 108.223125 104.221469 \nL 127.753125 103.89624 \nL 147.283125 102.849592 \n\" clip-path=\"url(#p96dcec1a20)\" style=\"fill: none; stroke-dasharray: 9.6,2.4,1.5,2.4; stroke-dashoffset: 0; stroke: #2ca02c; stroke-width: 1.5\"/>\n   </g>\n   <g id=\"line2d_88\">\n    <path d=\"M 34.954394 13.5 \nL 44.698573 16.109229 \nL 54.442752 48.188515 \nL 64.186931 75.411999 \nL 73.93111 89.393831 \nL 83.675289 96.894179 \nL 93.419468 101.078323 \nL 103.163647 103.166074 \nL 112.907826 106.46362 \nL 122.652006 108.389627 \nL 132.396185 109.208733 \nL 142.140364 111.597029 \nL 151.884543 112.139514 \nL 161.628722 116.555074 \n\" clip-path=\"url(#p96dcec1a20)\" style=\"fill: none; stroke: #1f77b4; stroke-width: 1.5; stroke-linecap: square\"/>\n   </g>\n   <g id=\"line2d_89\">\n    <path d=\"M 49.633125 24.639443 \nL 69.163125 85.179275 \nL 88.693125 100.866638 \nL 108.223125 106.312909 \nL 127.753125 109.959107 \nL 147.283125 111.828587 \nL 166.813125 118.224085 \n\" clip-path=\"url(#p96dcec1a20)\" style=\"fill: none; stroke-dasharray: 5.55,2.4; stroke-dashoffset: 0; stroke: #ff7f0e; stroke-width: 1.5\"/>\n   </g>\n   <g id=\"line2d_90\">\n    <path d=\"M 49.633125 139.5 \nL 69.163125 112.718829 \nL 88.693125 107.692555 \nL 108.223125 104.221469 \nL 127.753125 103.89624 \nL 147.283125 102.849592 \nL 166.813125 103.494138 \n\" clip-path=\"url(#p96dcec1a20)\" style=\"fill: none; stroke-dasharray: 9.6,2.4,1.5,2.4; stroke-dashoffset: 0; stroke: #2ca02c; stroke-width: 1.5\"/>\n   </g>\n   <g id=\"line2d_91\">\n    <path d=\"M 34.954394 13.5 \nL 44.698573 16.109229 \nL 54.442752 48.188515 \nL 64.186931 75.411999 \nL 73.93111 89.393831 \nL 83.675289 96.894179 \nL 93.419468 101.078323 \nL 103.163647 103.166074 \nL 112.907826 106.46362 \nL 122.652006 108.389627 \nL 132.396185 109.208733 \nL 142.140364 111.597029 \nL 151.884543 112.139514 \nL 161.628722 116.555074 \nL 171.372901 122.756017 \n\" clip-path=\"url(#p96dcec1a20)\" style=\"fill: none; stroke: #1f77b4; stroke-width: 1.5; stroke-linecap: square\"/>\n   </g>\n   <g id=\"line2d_92\">\n    <path d=\"M 49.633125 24.639443 \nL 69.163125 85.179275 \nL 88.693125 100.866638 \nL 108.223125 106.312909 \nL 127.753125 109.959107 \nL 147.283125 111.828587 \nL 166.813125 118.224085 \n\" clip-path=\"url(#p96dcec1a20)\" style=\"fill: none; stroke-dasharray: 5.55,2.4; stroke-dashoffset: 0; stroke: #ff7f0e; stroke-width: 1.5\"/>\n   </g>\n   <g id=\"line2d_93\">\n    <path d=\"M 49.633125 139.5 \nL 69.163125 112.718829 \nL 88.693125 107.692555 \nL 108.223125 104.221469 \nL 127.753125 103.89624 \nL 147.283125 102.849592 \nL 166.813125 103.494138 \n\" clip-path=\"url(#p96dcec1a20)\" style=\"fill: none; stroke-dasharray: 9.6,2.4,1.5,2.4; stroke-dashoffset: 0; stroke: #2ca02c; stroke-width: 1.5\"/>\n   </g>\n   <g id=\"line2d_94\">\n    <path d=\"M 34.954394 13.5 \nL 44.698573 16.109229 \nL 54.442752 48.188515 \nL 64.186931 75.411999 \nL 73.93111 89.393831 \nL 83.675289 96.894179 \nL 93.419468 101.078323 \nL 103.163647 103.166074 \nL 112.907826 106.46362 \nL 122.652006 108.389627 \nL 132.396185 109.208733 \nL 142.140364 111.597029 \nL 151.884543 112.139514 \nL 161.628722 116.555074 \nL 171.372901 122.756017 \nL 181.11708 124.903429 \n\" clip-path=\"url(#p96dcec1a20)\" style=\"fill: none; stroke: #1f77b4; stroke-width: 1.5; stroke-linecap: square\"/>\n   </g>\n   <g id=\"line2d_95\">\n    <path d=\"M 49.633125 24.639443 \nL 69.163125 85.179275 \nL 88.693125 100.866638 \nL 108.223125 106.312909 \nL 127.753125 109.959107 \nL 147.283125 111.828587 \nL 166.813125 118.224085 \n\" clip-path=\"url(#p96dcec1a20)\" style=\"fill: none; stroke-dasharray: 5.55,2.4; stroke-dashoffset: 0; stroke: #ff7f0e; stroke-width: 1.5\"/>\n   </g>\n   <g id=\"line2d_96\">\n    <path d=\"M 49.633125 139.5 \nL 69.163125 112.718829 \nL 88.693125 107.692555 \nL 108.223125 104.221469 \nL 127.753125 103.89624 \nL 147.283125 102.849592 \nL 166.813125 103.494138 \n\" clip-path=\"url(#p96dcec1a20)\" style=\"fill: none; stroke-dasharray: 9.6,2.4,1.5,2.4; stroke-dashoffset: 0; stroke: #2ca02c; stroke-width: 1.5\"/>\n   </g>\n   <g id=\"line2d_97\">\n    <path d=\"M 34.954394 13.5 \nL 44.698573 16.109229 \nL 54.442752 48.188515 \nL 64.186931 75.411999 \nL 73.93111 89.393831 \nL 83.675289 96.894179 \nL 93.419468 101.078323 \nL 103.163647 103.166074 \nL 112.907826 106.46362 \nL 122.652006 108.389627 \nL 132.396185 109.208733 \nL 142.140364 111.597029 \nL 151.884543 112.139514 \nL 161.628722 116.555074 \nL 171.372901 122.756017 \nL 181.11708 124.903429 \n\" clip-path=\"url(#p96dcec1a20)\" style=\"fill: none; stroke: #1f77b4; stroke-width: 1.5; stroke-linecap: square\"/>\n   </g>\n   <g id=\"line2d_98\">\n    <path d=\"M 49.633125 24.639443 \nL 69.163125 85.179275 \nL 88.693125 100.866638 \nL 108.223125 106.312909 \nL 127.753125 109.959107 \nL 147.283125 111.828587 \nL 166.813125 118.224085 \nL 186.343125 125.85138 \n\" clip-path=\"url(#p96dcec1a20)\" style=\"fill: none; stroke-dasharray: 5.55,2.4; stroke-dashoffset: 0; stroke: #ff7f0e; stroke-width: 1.5\"/>\n   </g>\n   <g id=\"line2d_99\">\n    <path d=\"M 49.633125 139.5 \nL 69.163125 112.718829 \nL 88.693125 107.692555 \nL 108.223125 104.221469 \nL 127.753125 103.89624 \nL 147.283125 102.849592 \nL 166.813125 103.494138 \n\" clip-path=\"url(#p96dcec1a20)\" style=\"fill: none; stroke-dasharray: 9.6,2.4,1.5,2.4; stroke-dashoffset: 0; stroke: #2ca02c; stroke-width: 1.5\"/>\n   </g>\n   <g id=\"line2d_100\">\n    <path d=\"M 34.954394 13.5 \nL 44.698573 16.109229 \nL 54.442752 48.188515 \nL 64.186931 75.411999 \nL 73.93111 89.393831 \nL 83.675289 96.894179 \nL 93.419468 101.078323 \nL 103.163647 103.166074 \nL 112.907826 106.46362 \nL 122.652006 108.389627 \nL 132.396185 109.208733 \nL 142.140364 111.597029 \nL 151.884543 112.139514 \nL 161.628722 116.555074 \nL 171.372901 122.756017 \nL 181.11708 124.903429 \n\" clip-path=\"url(#p96dcec1a20)\" style=\"fill: none; stroke: #1f77b4; stroke-width: 1.5; stroke-linecap: square\"/>\n   </g>\n   <g id=\"line2d_101\">\n    <path d=\"M 49.633125 24.639443 \nL 69.163125 85.179275 \nL 88.693125 100.866638 \nL 108.223125 106.312909 \nL 127.753125 109.959107 \nL 147.283125 111.828587 \nL 166.813125 118.224085 \nL 186.343125 125.85138 \n\" clip-path=\"url(#p96dcec1a20)\" style=\"fill: none; stroke-dasharray: 5.55,2.4; stroke-dashoffset: 0; stroke: #ff7f0e; stroke-width: 1.5\"/>\n   </g>\n   <g id=\"line2d_102\">\n    <path d=\"M 49.633125 139.5 \nL 69.163125 112.718829 \nL 88.693125 107.692555 \nL 108.223125 104.221469 \nL 127.753125 103.89624 \nL 147.283125 102.849592 \nL 166.813125 103.494138 \nL 186.343125 100.460634 \n\" clip-path=\"url(#p96dcec1a20)\" style=\"fill: none; stroke-dasharray: 9.6,2.4,1.5,2.4; stroke-dashoffset: 0; stroke: #2ca02c; stroke-width: 1.5\"/>\n   </g>\n   <g id=\"line2d_103\">\n    <path d=\"M 34.954394 13.5 \nL 44.698573 16.109229 \nL 54.442752 48.188515 \nL 64.186931 75.411999 \nL 73.93111 89.393831 \nL 83.675289 96.894179 \nL 93.419468 101.078323 \nL 103.163647 103.166074 \nL 112.907826 106.46362 \nL 122.652006 108.389627 \nL 132.396185 109.208733 \nL 142.140364 111.597029 \nL 151.884543 112.139514 \nL 161.628722 116.555074 \nL 171.372901 122.756017 \nL 181.11708 124.903429 \nL 190.861259 125.959929 \n\" clip-path=\"url(#p96dcec1a20)\" style=\"fill: none; stroke: #1f77b4; stroke-width: 1.5; stroke-linecap: square\"/>\n   </g>\n   <g id=\"line2d_104\">\n    <path d=\"M 49.633125 24.639443 \nL 69.163125 85.179275 \nL 88.693125 100.866638 \nL 108.223125 106.312909 \nL 127.753125 109.959107 \nL 147.283125 111.828587 \nL 166.813125 118.224085 \nL 186.343125 125.85138 \n\" clip-path=\"url(#p96dcec1a20)\" style=\"fill: none; stroke-dasharray: 5.55,2.4; stroke-dashoffset: 0; stroke: #ff7f0e; stroke-width: 1.5\"/>\n   </g>\n   <g id=\"line2d_105\">\n    <path d=\"M 49.633125 139.5 \nL 69.163125 112.718829 \nL 88.693125 107.692555 \nL 108.223125 104.221469 \nL 127.753125 103.89624 \nL 147.283125 102.849592 \nL 166.813125 103.494138 \nL 186.343125 100.460634 \n\" clip-path=\"url(#p96dcec1a20)\" style=\"fill: none; stroke-dasharray: 9.6,2.4,1.5,2.4; stroke-dashoffset: 0; stroke: #2ca02c; stroke-width: 1.5\"/>\n   </g>\n   <g id=\"line2d_106\">\n    <path d=\"M 34.954394 13.5 \nL 44.698573 16.109229 \nL 54.442752 48.188515 \nL 64.186931 75.411999 \nL 73.93111 89.393831 \nL 83.675289 96.894179 \nL 93.419468 101.078323 \nL 103.163647 103.166074 \nL 112.907826 106.46362 \nL 122.652006 108.389627 \nL 132.396185 109.208733 \nL 142.140364 111.597029 \nL 151.884543 112.139514 \nL 161.628722 116.555074 \nL 171.372901 122.756017 \nL 181.11708 124.903429 \nL 190.861259 125.959929 \nL 200.605438 127.014759 \n\" clip-path=\"url(#p96dcec1a20)\" style=\"fill: none; stroke: #1f77b4; stroke-width: 1.5; stroke-linecap: square\"/>\n   </g>\n   <g id=\"line2d_107\">\n    <path d=\"M 49.633125 24.639443 \nL 69.163125 85.179275 \nL 88.693125 100.866638 \nL 108.223125 106.312909 \nL 127.753125 109.959107 \nL 147.283125 111.828587 \nL 166.813125 118.224085 \nL 186.343125 125.85138 \n\" clip-path=\"url(#p96dcec1a20)\" style=\"fill: none; stroke-dasharray: 5.55,2.4; stroke-dashoffset: 0; stroke: #ff7f0e; stroke-width: 1.5\"/>\n   </g>\n   <g id=\"line2d_108\">\n    <path d=\"M 49.633125 139.5 \nL 69.163125 112.718829 \nL 88.693125 107.692555 \nL 108.223125 104.221469 \nL 127.753125 103.89624 \nL 147.283125 102.849592 \nL 166.813125 103.494138 \nL 186.343125 100.460634 \n\" clip-path=\"url(#p96dcec1a20)\" style=\"fill: none; stroke-dasharray: 9.6,2.4,1.5,2.4; stroke-dashoffset: 0; stroke: #2ca02c; stroke-width: 1.5\"/>\n   </g>\n   <g id=\"line2d_109\">\n    <path d=\"M 34.954394 13.5 \nL 44.698573 16.109229 \nL 54.442752 48.188515 \nL 64.186931 75.411999 \nL 73.93111 89.393831 \nL 83.675289 96.894179 \nL 93.419468 101.078323 \nL 103.163647 103.166074 \nL 112.907826 106.46362 \nL 122.652006 108.389627 \nL 132.396185 109.208733 \nL 142.140364 111.597029 \nL 151.884543 112.139514 \nL 161.628722 116.555074 \nL 171.372901 122.756017 \nL 181.11708 124.903429 \nL 190.861259 125.959929 \nL 200.605438 127.014759 \n\" clip-path=\"url(#p96dcec1a20)\" style=\"fill: none; stroke: #1f77b4; stroke-width: 1.5; stroke-linecap: square\"/>\n   </g>\n   <g id=\"line2d_110\">\n    <path d=\"M 49.633125 24.639443 \nL 69.163125 85.179275 \nL 88.693125 100.866638 \nL 108.223125 106.312909 \nL 127.753125 109.959107 \nL 147.283125 111.828587 \nL 166.813125 118.224085 \nL 186.343125 125.85138 \nL 205.873125 127.696154 \n\" clip-path=\"url(#p96dcec1a20)\" style=\"fill: none; stroke-dasharray: 5.55,2.4; stroke-dashoffset: 0; stroke: #ff7f0e; stroke-width: 1.5\"/>\n   </g>\n   <g id=\"line2d_111\">\n    <path d=\"M 49.633125 139.5 \nL 69.163125 112.718829 \nL 88.693125 107.692555 \nL 108.223125 104.221469 \nL 127.753125 103.89624 \nL 147.283125 102.849592 \nL 166.813125 103.494138 \nL 186.343125 100.460634 \n\" clip-path=\"url(#p96dcec1a20)\" style=\"fill: none; stroke-dasharray: 9.6,2.4,1.5,2.4; stroke-dashoffset: 0; stroke: #2ca02c; stroke-width: 1.5\"/>\n   </g>\n   <g id=\"line2d_112\">\n    <path d=\"M 34.954394 13.5 \nL 44.698573 16.109229 \nL 54.442752 48.188515 \nL 64.186931 75.411999 \nL 73.93111 89.393831 \nL 83.675289 96.894179 \nL 93.419468 101.078323 \nL 103.163647 103.166074 \nL 112.907826 106.46362 \nL 122.652006 108.389627 \nL 132.396185 109.208733 \nL 142.140364 111.597029 \nL 151.884543 112.139514 \nL 161.628722 116.555074 \nL 171.372901 122.756017 \nL 181.11708 124.903429 \nL 190.861259 125.959929 \nL 200.605438 127.014759 \n\" clip-path=\"url(#p96dcec1a20)\" style=\"fill: none; stroke: #1f77b4; stroke-width: 1.5; stroke-linecap: square\"/>\n   </g>\n   <g id=\"line2d_113\">\n    <path d=\"M 49.633125 24.639443 \nL 69.163125 85.179275 \nL 88.693125 100.866638 \nL 108.223125 106.312909 \nL 127.753125 109.959107 \nL 147.283125 111.828587 \nL 166.813125 118.224085 \nL 186.343125 125.85138 \nL 205.873125 127.696154 \n\" clip-path=\"url(#p96dcec1a20)\" style=\"fill: none; stroke-dasharray: 5.55,2.4; stroke-dashoffset: 0; stroke: #ff7f0e; stroke-width: 1.5\"/>\n   </g>\n   <g id=\"line2d_114\">\n    <path d=\"M 49.633125 139.5 \nL 69.163125 112.718829 \nL 88.693125 107.692555 \nL 108.223125 104.221469 \nL 127.753125 103.89624 \nL 147.283125 102.849592 \nL 166.813125 103.494138 \nL 186.343125 100.460634 \nL 205.873125 100.082185 \n\" clip-path=\"url(#p96dcec1a20)\" style=\"fill: none; stroke-dasharray: 9.6,2.4,1.5,2.4; stroke-dashoffset: 0; stroke: #2ca02c; stroke-width: 1.5\"/>\n   </g>\n   <g id=\"line2d_115\">\n    <path d=\"M 34.954394 13.5 \nL 44.698573 16.109229 \nL 54.442752 48.188515 \nL 64.186931 75.411999 \nL 73.93111 89.393831 \nL 83.675289 96.894179 \nL 93.419468 101.078323 \nL 103.163647 103.166074 \nL 112.907826 106.46362 \nL 122.652006 108.389627 \nL 132.396185 109.208733 \nL 142.140364 111.597029 \nL 151.884543 112.139514 \nL 161.628722 116.555074 \nL 171.372901 122.756017 \nL 181.11708 124.903429 \nL 190.861259 125.959929 \nL 200.605438 127.014759 \nL 210.349618 128.026796 \n\" clip-path=\"url(#p96dcec1a20)\" style=\"fill: none; stroke: #1f77b4; stroke-width: 1.5; stroke-linecap: square\"/>\n   </g>\n   <g id=\"line2d_116\">\n    <path d=\"M 49.633125 24.639443 \nL 69.163125 85.179275 \nL 88.693125 100.866638 \nL 108.223125 106.312909 \nL 127.753125 109.959107 \nL 147.283125 111.828587 \nL 166.813125 118.224085 \nL 186.343125 125.85138 \nL 205.873125 127.696154 \n\" clip-path=\"url(#p96dcec1a20)\" style=\"fill: none; stroke-dasharray: 5.55,2.4; stroke-dashoffset: 0; stroke: #ff7f0e; stroke-width: 1.5\"/>\n   </g>\n   <g id=\"line2d_117\">\n    <path d=\"M 49.633125 139.5 \nL 69.163125 112.718829 \nL 88.693125 107.692555 \nL 108.223125 104.221469 \nL 127.753125 103.89624 \nL 147.283125 102.849592 \nL 166.813125 103.494138 \nL 186.343125 100.460634 \nL 205.873125 100.082185 \n\" clip-path=\"url(#p96dcec1a20)\" style=\"fill: none; stroke-dasharray: 9.6,2.4,1.5,2.4; stroke-dashoffset: 0; stroke: #2ca02c; stroke-width: 1.5\"/>\n   </g>\n   <g id=\"line2d_118\">\n    <path d=\"M 34.954394 13.5 \nL 44.698573 16.109229 \nL 54.442752 48.188515 \nL 64.186931 75.411999 \nL 73.93111 89.393831 \nL 83.675289 96.894179 \nL 93.419468 101.078323 \nL 103.163647 103.166074 \nL 112.907826 106.46362 \nL 122.652006 108.389627 \nL 132.396185 109.208733 \nL 142.140364 111.597029 \nL 151.884543 112.139514 \nL 161.628722 116.555074 \nL 171.372901 122.756017 \nL 181.11708 124.903429 \nL 190.861259 125.959929 \nL 200.605438 127.014759 \nL 210.349618 128.026796 \nL 220.093797 128.573164 \n\" clip-path=\"url(#p96dcec1a20)\" style=\"fill: none; stroke: #1f77b4; stroke-width: 1.5; stroke-linecap: square\"/>\n   </g>\n   <g id=\"line2d_119\">\n    <path d=\"M 49.633125 24.639443 \nL 69.163125 85.179275 \nL 88.693125 100.866638 \nL 108.223125 106.312909 \nL 127.753125 109.959107 \nL 147.283125 111.828587 \nL 166.813125 118.224085 \nL 186.343125 125.85138 \nL 205.873125 127.696154 \n\" clip-path=\"url(#p96dcec1a20)\" style=\"fill: none; stroke-dasharray: 5.55,2.4; stroke-dashoffset: 0; stroke: #ff7f0e; stroke-width: 1.5\"/>\n   </g>\n   <g id=\"line2d_120\">\n    <path d=\"M 49.633125 139.5 \nL 69.163125 112.718829 \nL 88.693125 107.692555 \nL 108.223125 104.221469 \nL 127.753125 103.89624 \nL 147.283125 102.849592 \nL 166.813125 103.494138 \nL 186.343125 100.460634 \nL 205.873125 100.082185 \n\" clip-path=\"url(#p96dcec1a20)\" style=\"fill: none; stroke-dasharray: 9.6,2.4,1.5,2.4; stroke-dashoffset: 0; stroke: #2ca02c; stroke-width: 1.5\"/>\n   </g>\n   <g id=\"line2d_121\">\n    <path d=\"M 34.954394 13.5 \nL 44.698573 16.109229 \nL 54.442752 48.188515 \nL 64.186931 75.411999 \nL 73.93111 89.393831 \nL 83.675289 96.894179 \nL 93.419468 101.078323 \nL 103.163647 103.166074 \nL 112.907826 106.46362 \nL 122.652006 108.389627 \nL 132.396185 109.208733 \nL 142.140364 111.597029 \nL 151.884543 112.139514 \nL 161.628722 116.555074 \nL 171.372901 122.756017 \nL 181.11708 124.903429 \nL 190.861259 125.959929 \nL 200.605438 127.014759 \nL 210.349618 128.026796 \nL 220.093797 128.573164 \n\" clip-path=\"url(#p96dcec1a20)\" style=\"fill: none; stroke: #1f77b4; stroke-width: 1.5; stroke-linecap: square\"/>\n   </g>\n   <g id=\"line2d_122\">\n    <path d=\"M 49.633125 24.639443 \nL 69.163125 85.179275 \nL 88.693125 100.866638 \nL 108.223125 106.312909 \nL 127.753125 109.959107 \nL 147.283125 111.828587 \nL 166.813125 118.224085 \nL 186.343125 125.85138 \nL 205.873125 127.696154 \nL 225.403125 122.003804 \n\" clip-path=\"url(#p96dcec1a20)\" style=\"fill: none; stroke-dasharray: 5.55,2.4; stroke-dashoffset: 0; stroke: #ff7f0e; stroke-width: 1.5\"/>\n   </g>\n   <g id=\"line2d_123\">\n    <path d=\"M 49.633125 139.5 \nL 69.163125 112.718829 \nL 88.693125 107.692555 \nL 108.223125 104.221469 \nL 127.753125 103.89624 \nL 147.283125 102.849592 \nL 166.813125 103.494138 \nL 186.343125 100.460634 \nL 205.873125 100.082185 \n\" clip-path=\"url(#p96dcec1a20)\" style=\"fill: none; stroke-dasharray: 9.6,2.4,1.5,2.4; stroke-dashoffset: 0; stroke: #2ca02c; stroke-width: 1.5\"/>\n   </g>\n   <g id=\"line2d_124\">\n    <path d=\"M 34.954394 13.5 \nL 44.698573 16.109229 \nL 54.442752 48.188515 \nL 64.186931 75.411999 \nL 73.93111 89.393831 \nL 83.675289 96.894179 \nL 93.419468 101.078323 \nL 103.163647 103.166074 \nL 112.907826 106.46362 \nL 122.652006 108.389627 \nL 132.396185 109.208733 \nL 142.140364 111.597029 \nL 151.884543 112.139514 \nL 161.628722 116.555074 \nL 171.372901 122.756017 \nL 181.11708 124.903429 \nL 190.861259 125.959929 \nL 200.605438 127.014759 \nL 210.349618 128.026796 \nL 220.093797 128.573164 \n\" clip-path=\"url(#p96dcec1a20)\" style=\"fill: none; stroke: #1f77b4; stroke-width: 1.5; stroke-linecap: square\"/>\n   </g>\n   <g id=\"line2d_125\">\n    <path d=\"M 49.633125 24.639443 \nL 69.163125 85.179275 \nL 88.693125 100.866638 \nL 108.223125 106.312909 \nL 127.753125 109.959107 \nL 147.283125 111.828587 \nL 166.813125 118.224085 \nL 186.343125 125.85138 \nL 205.873125 127.696154 \nL 225.403125 122.003804 \n\" clip-path=\"url(#p96dcec1a20)\" style=\"fill: none; stroke-dasharray: 5.55,2.4; stroke-dashoffset: 0; stroke: #ff7f0e; stroke-width: 1.5\"/>\n   </g>\n   <g id=\"line2d_126\">\n    <path d=\"M 49.633125 139.5 \nL 69.163125 112.718829 \nL 88.693125 107.692555 \nL 108.223125 104.221469 \nL 127.753125 103.89624 \nL 147.283125 102.849592 \nL 166.813125 103.494138 \nL 186.343125 100.460634 \nL 205.873125 100.082185 \nL 225.403125 101.63146 \n\" clip-path=\"url(#p96dcec1a20)\" style=\"fill: none; stroke-dasharray: 9.6,2.4,1.5,2.4; stroke-dashoffset: 0; stroke: #2ca02c; stroke-width: 1.5\"/>\n   </g>\n   <g id=\"patch_3\">\n    <path d=\"M 30.103125 145.8 \nL 30.103125 7.2 \n\" style=\"fill: none; stroke: #000000; stroke-width: 0.8; stroke-linejoin: miter; stroke-linecap: square\"/>\n   </g>\n   <g id=\"patch_4\">\n    <path d=\"M 225.403125 145.8 \nL 225.403125 7.2 \n\" style=\"fill: none; stroke: #000000; stroke-width: 0.8; stroke-linejoin: miter; stroke-linecap: square\"/>\n   </g>\n   <g id=\"patch_5\">\n    <path d=\"M 30.103125 145.8 \nL 225.403125 145.8 \n\" style=\"fill: none; stroke: #000000; stroke-width: 0.8; stroke-linejoin: miter; stroke-linecap: square\"/>\n   </g>\n   <g id=\"patch_6\">\n    <path d=\"M 30.103125 7.2 \nL 225.403125 7.2 \n\" style=\"fill: none; stroke: #000000; stroke-width: 0.8; stroke-linejoin: miter; stroke-linecap: square\"/>\n   </g>\n   <g id=\"legend_1\">\n    <g id=\"patch_7\">\n     <path d=\"M 138.8125 60.06875 \nL 218.403125 60.06875 \nQ 220.403125 60.06875 220.403125 58.06875 \nL 220.403125 14.2 \nQ 220.403125 12.2 218.403125 12.2 \nL 138.8125 12.2 \nQ 136.8125 12.2 136.8125 14.2 \nL 136.8125 58.06875 \nQ 136.8125 60.06875 138.8125 60.06875 \nz\n\" style=\"fill: #ffffff; opacity: 0.8; stroke: #cccccc; stroke-linejoin: miter\"/>\n    </g>\n    <g id=\"line2d_127\">\n     <path d=\"M 140.8125 20.298438 \nL 150.8125 20.298438 \nL 160.8125 20.298438 \n\" style=\"fill: none; stroke: #1f77b4; stroke-width: 1.5; stroke-linecap: square\"/>\n    </g>\n    <g id=\"text_12\">\n     <!-- train_loss -->\n     <g transform=\"translate(168.8125 23.798438) scale(0.1 -0.1)\">\n      <defs>\n       <path id=\"DejaVuSans-74\" d=\"M 1172 4494 \nL 1172 3500 \nL 2356 3500 \nL 2356 3053 \nL 1172 3053 \nL 1172 1153 \nQ 1172 725 1289 603 \nQ 1406 481 1766 481 \nL 2356 481 \nL 2356 0 \nL 1766 0 \nQ 1100 0 847 248 \nQ 594 497 594 1153 \nL 594 3053 \nL 172 3053 \nL 172 3500 \nL 594 3500 \nL 594 4494 \nL 1172 4494 \nz\n\" transform=\"scale(0.015625)\"/>\n       <path id=\"DejaVuSans-72\" d=\"M 2631 2963 \nQ 2534 3019 2420 3045 \nQ 2306 3072 2169 3072 \nQ 1681 3072 1420 2755 \nQ 1159 2438 1159 1844 \nL 1159 0 \nL 581 0 \nL 581 3500 \nL 1159 3500 \nL 1159 2956 \nQ 1341 3275 1631 3429 \nQ 1922 3584 2338 3584 \nQ 2397 3584 2469 3576 \nQ 2541 3569 2628 3553 \nL 2631 2963 \nz\n\" transform=\"scale(0.015625)\"/>\n       <path id=\"DejaVuSans-61\" d=\"M 2194 1759 \nQ 1497 1759 1228 1600 \nQ 959 1441 959 1056 \nQ 959 750 1161 570 \nQ 1363 391 1709 391 \nQ 2188 391 2477 730 \nQ 2766 1069 2766 1631 \nL 2766 1759 \nL 2194 1759 \nz\nM 3341 1997 \nL 3341 0 \nL 2766 0 \nL 2766 531 \nQ 2569 213 2275 61 \nQ 1981 -91 1556 -91 \nQ 1019 -91 701 211 \nQ 384 513 384 1019 \nQ 384 1609 779 1909 \nQ 1175 2209 1959 2209 \nL 2766 2209 \nL 2766 2266 \nQ 2766 2663 2505 2880 \nQ 2244 3097 1772 3097 \nQ 1472 3097 1187 3025 \nQ 903 2953 641 2809 \nL 641 3341 \nQ 956 3463 1253 3523 \nQ 1550 3584 1831 3584 \nQ 2591 3584 2966 3190 \nQ 3341 2797 3341 1997 \nz\n\" transform=\"scale(0.015625)\"/>\n       <path id=\"DejaVuSans-69\" d=\"M 603 3500 \nL 1178 3500 \nL 1178 0 \nL 603 0 \nL 603 3500 \nz\nM 603 4863 \nL 1178 4863 \nL 1178 4134 \nL 603 4134 \nL 603 4863 \nz\n\" transform=\"scale(0.015625)\"/>\n       <path id=\"DejaVuSans-6e\" d=\"M 3513 2113 \nL 3513 0 \nL 2938 0 \nL 2938 2094 \nQ 2938 2591 2744 2837 \nQ 2550 3084 2163 3084 \nQ 1697 3084 1428 2787 \nQ 1159 2491 1159 1978 \nL 1159 0 \nL 581 0 \nL 581 3500 \nL 1159 3500 \nL 1159 2956 \nQ 1366 3272 1645 3428 \nQ 1925 3584 2291 3584 \nQ 2894 3584 3203 3211 \nQ 3513 2838 3513 2113 \nz\n\" transform=\"scale(0.015625)\"/>\n       <path id=\"DejaVuSans-5f\" d=\"M 3263 -1063 \nL 3263 -1509 \nL -63 -1509 \nL -63 -1063 \nL 3263 -1063 \nz\n\" transform=\"scale(0.015625)\"/>\n       <path id=\"DejaVuSans-6c\" d=\"M 603 4863 \nL 1178 4863 \nL 1178 0 \nL 603 0 \nL 603 4863 \nz\n\" transform=\"scale(0.015625)\"/>\n       <path id=\"DejaVuSans-73\" d=\"M 2834 3397 \nL 2834 2853 \nQ 2591 2978 2328 3040 \nQ 2066 3103 1784 3103 \nQ 1356 3103 1142 2972 \nQ 928 2841 928 2578 \nQ 928 2378 1081 2264 \nQ 1234 2150 1697 2047 \nL 1894 2003 \nQ 2506 1872 2764 1633 \nQ 3022 1394 3022 966 \nQ 3022 478 2636 193 \nQ 2250 -91 1575 -91 \nQ 1294 -91 989 -36 \nQ 684 19 347 128 \nL 347 722 \nQ 666 556 975 473 \nQ 1284 391 1588 391 \nQ 1994 391 2212 530 \nQ 2431 669 2431 922 \nQ 2431 1156 2273 1281 \nQ 2116 1406 1581 1522 \nL 1381 1569 \nQ 847 1681 609 1914 \nQ 372 2147 372 2553 \nQ 372 3047 722 3315 \nQ 1072 3584 1716 3584 \nQ 2034 3584 2315 3537 \nQ 2597 3491 2834 3397 \nz\n\" transform=\"scale(0.015625)\"/>\n      </defs>\n      <use xlink:href=\"#DejaVuSans-74\"/>\n      <use xlink:href=\"#DejaVuSans-72\" x=\"39.208984\"/>\n      <use xlink:href=\"#DejaVuSans-61\" x=\"80.322266\"/>\n      <use xlink:href=\"#DejaVuSans-69\" x=\"141.601562\"/>\n      <use xlink:href=\"#DejaVuSans-6e\" x=\"169.384766\"/>\n      <use xlink:href=\"#DejaVuSans-5f\" x=\"232.763672\"/>\n      <use xlink:href=\"#DejaVuSans-6c\" x=\"282.763672\"/>\n      <use xlink:href=\"#DejaVuSans-6f\" x=\"310.546875\"/>\n      <use xlink:href=\"#DejaVuSans-73\" x=\"371.728516\"/>\n      <use xlink:href=\"#DejaVuSans-73\" x=\"423.828125\"/>\n     </g>\n    </g>\n    <g id=\"line2d_128\">\n     <path d=\"M 140.8125 35.254688 \nL 150.8125 35.254688 \nL 160.8125 35.254688 \n\" style=\"fill: none; stroke-dasharray: 5.55,2.4; stroke-dashoffset: 0; stroke: #ff7f0e; stroke-width: 1.5\"/>\n    </g>\n    <g id=\"text_13\">\n     <!-- val_loss -->\n     <g transform=\"translate(168.8125 38.754688) scale(0.1 -0.1)\">\n      <defs>\n       <path id=\"DejaVuSans-76\" d=\"M 191 3500 \nL 800 3500 \nL 1894 563 \nL 2988 3500 \nL 3597 3500 \nL 2284 0 \nL 1503 0 \nL 191 3500 \nz\n\" transform=\"scale(0.015625)\"/>\n      </defs>\n      <use xlink:href=\"#DejaVuSans-76\"/>\n      <use xlink:href=\"#DejaVuSans-61\" x=\"59.179688\"/>\n      <use xlink:href=\"#DejaVuSans-6c\" x=\"120.458984\"/>\n      <use xlink:href=\"#DejaVuSans-5f\" x=\"148.242188\"/>\n      <use xlink:href=\"#DejaVuSans-6c\" x=\"198.242188\"/>\n      <use xlink:href=\"#DejaVuSans-6f\" x=\"226.025391\"/>\n      <use xlink:href=\"#DejaVuSans-73\" x=\"287.207031\"/>\n      <use xlink:href=\"#DejaVuSans-73\" x=\"339.306641\"/>\n     </g>\n    </g>\n    <g id=\"line2d_129\">\n     <path d=\"M 140.8125 50.210938 \nL 150.8125 50.210938 \nL 160.8125 50.210938 \n\" style=\"fill: none; stroke-dasharray: 9.6,2.4,1.5,2.4; stroke-dashoffset: 0; stroke: #2ca02c; stroke-width: 1.5\"/>\n    </g>\n    <g id=\"text_14\">\n     <!-- val_acc -->\n     <g transform=\"translate(168.8125 53.710938) scale(0.1 -0.1)\">\n      <use xlink:href=\"#DejaVuSans-76\"/>\n      <use xlink:href=\"#DejaVuSans-61\" x=\"59.179688\"/>\n      <use xlink:href=\"#DejaVuSans-6c\" x=\"120.458984\"/>\n      <use xlink:href=\"#DejaVuSans-5f\" x=\"148.242188\"/>\n      <use xlink:href=\"#DejaVuSans-61\" x=\"198.242188\"/>\n      <use xlink:href=\"#DejaVuSans-63\" x=\"259.521484\"/>\n      <use xlink:href=\"#DejaVuSans-63\" x=\"314.501953\"/>\n     </g>\n    </g>\n   </g>\n  </g>\n </g>\n <defs>\n  <clipPath id=\"p96dcec1a20\">\n   <rect x=\"30.103125\" y=\"7.2\" width=\"195.3\" height=\"138.6\"/>\n  </clipPath>\n </defs>\n</svg>\n"
          },
          "metadata": {}
        }
      ]
    },
    {
      "cell_type": "markdown",
      "source": [
        "## Excercise"
      ],
      "metadata": {
        "id": "r3G5fN3f4y_I"
      }
    },
    {
      "cell_type": "markdown",
      "source": [
        "### 1. Why are there two 1×1 convolutional layers per NiN block? Increase their number to three. Reduce their number to one. What changes?"
      ],
      "metadata": {
        "id": "kk_KLUE741Kr"
      }
    },
    {
      "cell_type": "markdown",
      "source": [
        "Dalam arsitektur Network in Network (NiN), lapisan konvolusi 1×1 digunakan untuk **menambah non-linearitas dan meningkatkan kapasitas jaringan** tanpa menambah banyak parameter.\n",
        "\n",
        "**Pengaruh dari jumlah lapisan**  konvolusi 1×1 dalam blok NiN:\n",
        "- Dua Lapisan 1×1 per Blok NiN\n",
        "\n",
        "  Dengan dua lapisan 1×1, jaringan dapat menciptakan beberapa jalur untuk transformasi fitur. Setiap konvolusi menangani operasi sendiri, memungkinkan jaringan menangkap hubungan kompleks antar fitur, yang dapat meningkatkan akurasi dan ekspresivitas fitur.\n",
        "\n",
        "- Tiga Lapisan 1×1 per Blok NiN\n",
        "\n",
        "  Menambah jumlah lapisan 1×1 meningkatkan kapasitas jaringan lebih jauh. Setiap lapisan tambahan menambah non-linearitas dan kemampuan menangkap interaksi yang lebih kompleks. Namun, ini juga dapat meningkatkan jumlah parameter dan komputasi, berisiko menyebabkan overfitting dan biaya komputasi yang lebih tinggi.\n",
        "\n",
        "- Satu Lapisan 1×1 per Blok NiN\n",
        "\n",
        "  Menggunakan satu lapisan 1×1 mengurangi kompleksitas blok NiN, tetapi membatasi kapasitas jaringan dalam menangkap interaksi fitur yang kompleks. Ini bisa menyebabkan underfitting jika dataset dan tugasnya kompleks. Selain itu, mengurangi jumlah konvolusi juga mengurangi parameter dan komputasi, yang menguntungkan untuk pelatihan yang lebih cepat dan penggunaan memori yang lebih rendah."
      ],
      "metadata": {
        "id": "HPsyQMQU47sh"
      }
    },
    {
      "cell_type": "code",
      "source": [
        "import torch\n",
        "from torch import nn\n",
        "from d2l import torch as d2l\n",
        "\n",
        "class NiN(nn.Module):\n",
        "    def __init__(self, arch, num_classes=10, lr=0.1):\n",
        "        super().__init__()\n",
        "        d2l.save_hyperparameters(self) # use d2l.save_hyperparameters\n",
        "        self.net = nn.Sequential()\n",
        "        for i,(num_channels, kernel_size, strides, padding,num_outputs) in enumerate(arch):\n",
        "            self.net.add_module(f'block{i}',\n",
        "                nn.Sequential(nn.LazyConv2d(num_channels, kernel_size=kernel_size,\n",
        "                                        stride=strides,padding=padding),\n",
        "                                nn.ReLU(),\n",
        "                                nn.LazyConv2d(num_outputs, kernel_size=1), nn.ReLU(),\n",
        "                                nn.LazyConv2d(num_outputs, kernel_size=1), nn.ReLU()))\n",
        "        self.net.add_module('flatten', nn.Flatten())\n",
        "        self.net.add_module('linear', nn.LazyLinear(num_classes))\n",
        "\n",
        "    def forward(self, x):\n",
        "        return self.net(x)\n",
        "\n",
        "    def accuracy(self,y_hat, y):\n",
        "        \"\"\"Compute the number of correct predictions.\n",
        "\n",
        "        Defined in :numref:`sec_softmax_scratch`\"\"\"\n",
        "        if len(y_hat.shape) > 1 and y_hat.shape[1] > 1:\n",
        "            y_hat = d2l.argmax(y_hat, axis=1)\n",
        "        cmp = d2l.astype(y_hat, y.dtype) == y\n",
        "        return float(d2l.reduce_sum(d2l.astype(cmp, y.dtype)))\n",
        "\n",
        "arch = ((96,11,4,0,3),(256,5,1,2,3),(384,3,1,1,3),(10,3,1,1,3))\n",
        "model = NiN(arch) # Changed Nin to NiN\n",
        "trainer = d2l.Trainer(max_epochs=10, num_gpus=1)\n",
        "data = d2l.FashionMNIST(batch_size=128, resize=(224, 224))\n",
        "trainer.fit(model, data)\n",
        "X,y = next(iter(data.get_dataloader(False)))\n",
        "X = X.to('cuda')\n",
        "y = y.to('cuda')\n",
        "y_hat = model(X)\n",
        "print(f'acc: {model.accuracy(y_hat,y).item():.2f}')"
      ],
      "metadata": {
        "id": "9mKEiVkmWDsJ"
      },
      "execution_count": null,
      "outputs": []
    },
    {
      "cell_type": "code",
      "source": [
        "data = d2l.FashionMNIST(batch_size=128, resize=(224, 224))\n",
        "arch = ((96,11,4,0,[[1,0]]),(256,5,1,2,[[1,0]]),(384,3,1,1,[[1,0]]),(10,3,1,1,[[1,0]]))\n",
        "model = Nin(arch, lr=0.05)\n",
        "model.apply_init([next(iter(data.get_dataloader(True)))[0]], d2l.init_cnn)\n",
        "trainer = d2l.Trainer(max_epochs=10, num_gpus=1)\n",
        "trainer.fit(model, data)\n",
        "X,y = next(iter(data.get_dataloader(False)))\n",
        "X = X.to('cuda')\n",
        "y = y.to('cuda')\n",
        "y_hat = model(X)\n",
        "print(f'acc: {model.accuracy(y_hat,y).item():.2f}')"
      ],
      "metadata": {
        "id": "mCoqpGHWWFLy"
      },
      "execution_count": null,
      "outputs": []
    },
    {
      "cell_type": "markdown",
      "source": [
        "### 2. What changes if you replace the 1 × 1convolutions by 3 x 3 convolutions?"
      ],
      "metadata": {
        "id": "JMezpaNw5FAM"
      }
    },
    {
      "cell_type": "code",
      "source": [
        "arch = ((96,11,4,0,[[3,1],[3,1]]),(256,5,1,2,[[3,1],[3,1]]),(384,3,1,1,[[3,1],[3,1]]),(10,3,1,1,[[3,1],[3,1]]))\n",
        "model = Nin(arch)\n",
        "model.apply_init([next(iter(data.get_dataloader(True)))[0]], d2l.init_cnn)\n",
        "trainer = d2l.Trainer(max_epochs=10, num_gpus=1)\n",
        "trainer.fit(model, data)\n",
        "X,y = next(iter(data.get_dataloader(False)))\n",
        "X = X.to('cuda')\n",
        "y = y.to('cuda')\n",
        "y_hat = model(X)\n",
        "print(f'acc: {model.accuracy(y_hat,y).item():.2f}')"
      ],
      "metadata": {
        "id": "g3t4hZDhWHxO"
      },
      "execution_count": null,
      "outputs": []
    },
    {
      "cell_type": "markdown",
      "source": [
        "###  3. What happens if you replace the global average pooling by a fully connected layer (speed, accuracy, number of parameters)?"
      ],
      "metadata": {
        "id": "7QLB4OFF5RHr"
      }
    },
    {
      "cell_type": "code",
      "source": [
        "class MLPNin(d2l.Classifier):\n",
        "    def __init__(self, arch, lr=0.1, num_classes=10):\n",
        "        super().__init__()\n",
        "        self.save_hyperparameters()\n",
        "        layers = []\n",
        "        for i in range(len(arch)-1):\n",
        "            layers.append(nin_block(*arch[i]))\n",
        "            layers.append(nn.MaxPool2d(3, stride=2))\n",
        "        layers.append(nn.Dropout(0.5))\n",
        "        layers.append(nin_block(*arch[-1]))\n",
        "        layers.append(nn.Flatten())\n",
        "        layers.append(nn.LazyLinear(num_classes))\n",
        "        self.net = nn.Sequential(*layers)\n",
        "        self.net.apply(d2l.init_cnn)"
      ],
      "metadata": {
        "id": "cWDqNumDWKah"
      },
      "execution_count": null,
      "outputs": []
    },
    {
      "cell_type": "markdown",
      "source": [
        "### 4. Calculate the resource usage for NiN"
      ],
      "metadata": {
        "id": "r42HEEUm5Xyl"
      }
    },
    {
      "cell_type": "markdown",
      "source": [
        "4.1 What is the number of parameters?"
      ],
      "metadata": {
        "id": "bSmgovNN5awc"
      }
    },
    {
      "cell_type": "code",
      "source": [
        "arch = ((96,11,4,0,2),(256,5,1,2,2),(384,3,1,1,2),(10,3,1,1,2))\n",
        "model = Nin(arch)\n",
        "X = torch.randn(1,3, 224, 224)\n",
        "_ = model(X)\n",
        "total_params = sum(p.numel() for p in model.parameters())\n",
        "print(\"Total parameters:\", total_params)"
      ],
      "metadata": {
        "id": "V8haAG6xWMMc"
      },
      "execution_count": null,
      "outputs": []
    },
    {
      "cell_type": "markdown",
      "source": [
        "4.2 What is the amount of computation?"
      ],
      "metadata": {
        "id": "UprKS3XS5f7P"
      }
    },
    {
      "cell_type": "code",
      "source": [
        "from thop import profile\n",
        "flops, params = profile(model, inputs=(X,))\n",
        "print(\"Total FLOPs:\", flops)"
      ],
      "metadata": {
        "id": "YgHPBKnaWN5e"
      },
      "execution_count": null,
      "outputs": []
    },
    {
      "cell_type": "markdown",
      "source": [
        "4.3 What is the amount of memory needed during training?"
      ],
      "metadata": {
        "id": "vrwIalMG5ksJ"
      }
    },
    {
      "cell_type": "code",
      "source": [
        "device = torch.device(\"cuda\" if torch.cuda.is_available() else \"cpu\")\n",
        "# Initialize memory counters\n",
        "torch.cuda.reset_peak_memory_stats()\n",
        "torch.cuda.empty_cache()\n",
        "trainer = d2l.Trainer(max_epochs=10, num_gpus=1)\n",
        "trainer.fit(model, data)\n",
        "memory_stats = torch.cuda.memory_stats(device=device)\n",
        "# Print peak memory usage and other memory statistics\n",
        "print(\"Peak memory usage:\", memory_stats[\"allocated_bytes.all.peak\"] / (1024 ** 2), \"MB\")\n",
        "print(\"Current memory usage:\", memory_stats[\"allocated_bytes.all.current\"] / (1024 ** 2), \"MB\")"
      ],
      "metadata": {
        "id": "AbI8pL1jWPqs"
      },
      "execution_count": null,
      "outputs": []
    },
    {
      "cell_type": "markdown",
      "source": [
        "4.4 What is the amount of memory needed during prediction?"
      ],
      "metadata": {
        "id": "suFT7e2O5qWz"
      }
    },
    {
      "cell_type": "code",
      "source": [
        "device = torch.device(\"cuda\" if torch.cuda.is_available() else \"cpu\")\n",
        "torch.cuda.reset_peak_memory_stats()\n",
        "torch.cuda.empty_cache()\n",
        "_ = model(X)\n",
        "memory_stats = torch.cuda.memory_stats(device=device)\n",
        "print(\"Peak memory usage:\", memory_stats[\"allocated_bytes.all.peak\"] / (1024 ** 2), \"MB\")\n",
        "print(\"Current memory usage:\", memory_stats[\"allocated_bytes.all.current\"] / (1024 ** 2), \"MB\")"
      ],
      "metadata": {
        "id": "BIezZVulWRmI"
      },
      "execution_count": null,
      "outputs": []
    },
    {
      "cell_type": "markdown",
      "source": [
        "### 5. What are possible problems with reducing the 384×5×5 representation to a 10×5×5 representation in one step?"
      ],
      "metadata": {
        "id": "COhK-3Px5u5_"
      }
    },
    {
      "cell_type": "markdown",
      "source": [
        "Mengurangi representasi dari 384×5×5 menjadi 10×5×5 dalam arsitektur Network in Network (NiN) dapat menyebabkan beberapa masalah\n",
        "1. **Kehilangan Informasi**\n",
        "  - Mengurangi saluran dari 384 menjadi 10 secara drastis dapat mengakibatkan kehilangan informasi yang signifikan, mengurangi kemampuan diskriminatif jaringan.\n",
        "2. **Underfitting**\n",
        "  - Representasi dengan 10 saluran mungkin tidak cukup untuk menangkap kompleksitas data asli, yang dapat menyebabkan underfitting dan kinerja yang buruk.\n",
        "3. **Bottleneck Informasi**\n",
        "  - Penurunan saluran yang besar menciptakan bottleneck informasi, membatasi kemampuan jaringan dalam memproses input dan menghambat belajarnya.\n",
        "4. **Keterbatasan Ekspresifitas**\n",
        "  - Mengurangi jumlah saluran terlalu cepat dapat membatasi kemampuan model untuk mempelajari fitur tingkat tinggi dan representasi hierarkis yang diperlukan untuk menangkap fitur yang lebih abstrak."
      ],
      "metadata": {
        "id": "zS6kEpZm6m-j"
      }
    },
    {
      "cell_type": "markdown",
      "source": [
        "### 6. Use the structural design decisions in VGG that led to VGG-11, VGG-16, and VGG-19 to design a family of NiN-like networks"
      ],
      "metadata": {
        "id": "R827riPe6Cmy"
      }
    },
    {
      "cell_type": "code",
      "source": [
        "# Define the Nin class or import it from a module\n",
        "class Nin(object):\n",
        "  def __init__(self, arch):\n",
        "    self.arch = arch\n",
        "\n",
        "arch = ((96,11,4,0,2),(256,5,1,2,2),(384,3,1,1,2),(10,3,1,1,2))\n",
        "nin = Nin(arch)\n",
        "nin"
      ],
      "metadata": {
        "id": "u-9iqUc66EHU",
        "colab": {
          "base_uri": "https://localhost:8080/"
        },
        "outputId": "8bcbae25-36f7-4bb6-d58f-9643abad25f4"
      },
      "execution_count": 120,
      "outputs": [
        {
          "output_type": "execute_result",
          "data": {
            "text/plain": [
              "<__main__.Nin at 0x7da048261120>"
            ]
          },
          "metadata": {},
          "execution_count": 120
        }
      ]
    },
    {
      "cell_type": "code",
      "source": [
        "arch15 = ((64,3,2,1),\n",
        "          (256,3,1,1),\n",
        "          (256,3,1,1),\n",
        "          (384,3,1,1),\n",
        "          (10,3,1,1))\n",
        "nin15 = Nin(arch15)\n",
        "nin15"
      ],
      "metadata": {
        "id": "ZJaRS40X6GJ-",
        "colab": {
          "base_uri": "https://localhost:8080/"
        },
        "outputId": "17c41edc-c75a-4e5e-8bcb-5899173e6647"
      },
      "execution_count": 121,
      "outputs": [
        {
          "output_type": "execute_result",
          "data": {
            "text/plain": [
              "<__main__.Nin at 0x7da048261690>"
            ]
          },
          "metadata": {},
          "execution_count": 121
        }
      ]
    },
    {
      "cell_type": "markdown",
      "source": [
        "# 8.4 Multi-Branch Networks (GoogLeNet)"
      ],
      "metadata": {
        "id": "_DhfGUJ28aWJ"
      }
    },
    {
      "cell_type": "code",
      "source": [
        "import torch\n",
        "from torch import nn\n",
        "from torch.nn import functional as F\n",
        "from d2l import torch as d2l"
      ],
      "metadata": {
        "id": "VLHTVIMD8r3Q"
      },
      "execution_count": 15,
      "outputs": []
    },
    {
      "cell_type": "code",
      "source": [
        "class Inception(nn.Module):\n",
        "    # c1--c4 are the number of output channels for each branch\n",
        "    def __init__(self, c1, c2, c3, c4, **kwargs):\n",
        "        super(Inception, self).__init__(**kwargs)\n",
        "        # Branch 1\n",
        "        self.b1_1 = nn.LazyConv2d(c1, kernel_size=1)\n",
        "        # Branch 2\n",
        "        self.b2_1 = nn.LazyConv2d(c2[0], kernel_size=1)\n",
        "        self.b2_2 = nn.LazyConv2d(c2[1], kernel_size=3, padding=1)\n",
        "        # Branch 3\n",
        "        self.b3_1 = nn.LazyConv2d(c3[0], kernel_size=1)\n",
        "        self.b3_2 = nn.LazyConv2d(c3[1], kernel_size=5, padding=2)\n",
        "        # Branch 4\n",
        "        self.b4_1 = nn.MaxPool2d(kernel_size=3, stride=1, padding=1)\n",
        "        self.b4_2 = nn.LazyConv2d(c4, kernel_size=1)\n",
        "\n",
        "    def forward(self, x):\n",
        "        b1 = F.relu(self.b1_1(x))\n",
        "        b2 = F.relu(self.b2_2(F.relu(self.b2_1(x))))\n",
        "        b3 = F.relu(self.b3_2(F.relu(self.b3_1(x))))\n",
        "        b4 = F.relu(self.b4_2(self.b4_1(x)))\n",
        "        return torch.cat((b1, b2, b3, b4), dim=1)"
      ],
      "metadata": {
        "id": "rukungnC8ucL"
      },
      "execution_count": 16,
      "outputs": []
    },
    {
      "cell_type": "code",
      "source": [
        "class GoogleNet(d2l.Classifier):\n",
        "    def b1(self):\n",
        "        return nn.Sequential(\n",
        "            nn.LazyConv2d(64, kernel_size=7, stride=2, padding=3),\n",
        "            nn.ReLU(), nn.MaxPool2d(kernel_size=3, stride=2, padding=1))"
      ],
      "metadata": {
        "id": "AlkXzvu68xBq"
      },
      "execution_count": 17,
      "outputs": []
    },
    {
      "cell_type": "code",
      "source": [
        "@d2l.add_to_class(GoogleNet)\n",
        "def b2(self):\n",
        "    return nn.Sequential(\n",
        "        nn.LazyConv2d(64, kernel_size=1), nn.ReLU(),\n",
        "        nn.LazyConv2d(192, kernel_size=3, padding=1), nn.ReLU(),\n",
        "        nn.MaxPool2d(kernel_size=3, stride=2, padding=1))"
      ],
      "metadata": {
        "id": "d76YpNVP80mT"
      },
      "execution_count": 18,
      "outputs": []
    },
    {
      "cell_type": "code",
      "source": [
        "@d2l.add_to_class(GoogleNet)\n",
        "def b3(self):\n",
        "    return nn.Sequential(Inception(64, (96, 128), (16, 32), 32),\n",
        "                         Inception(128, (128, 192), (32, 96), 64),\n",
        "                         nn.MaxPool2d(kernel_size=3, stride=2, padding=1))"
      ],
      "metadata": {
        "id": "jR2y88gC83Gb"
      },
      "execution_count": 19,
      "outputs": []
    },
    {
      "cell_type": "code",
      "source": [
        "@d2l.add_to_class(GoogleNet)\n",
        "def b4(self):\n",
        "    return nn.Sequential(Inception(192, (96, 208), (16, 48), 64),\n",
        "                         Inception(160, (112, 224), (24, 64), 64),\n",
        "                         Inception(128, (128, 256), (24, 64), 64),\n",
        "                         Inception(112, (144, 288), (32, 64), 64),\n",
        "                         Inception(256, (160, 320), (32, 128), 128),\n",
        "                         nn.MaxPool2d(kernel_size=3, stride=2, padding=1))"
      ],
      "metadata": {
        "id": "WpxC9eN_87s2"
      },
      "execution_count": 20,
      "outputs": []
    },
    {
      "cell_type": "code",
      "source": [
        "@d2l.add_to_class(GoogleNet)\n",
        "def b5(self):\n",
        "    return nn.Sequential(Inception(256, (160, 320), (32, 128), 128),\n",
        "                         Inception(384, (192, 384), (48, 128), 128),\n",
        "                         nn.AdaptiveAvgPool2d((1,1)), nn.Flatten())"
      ],
      "metadata": {
        "id": "W_MDTw2F8_Mu"
      },
      "execution_count": 21,
      "outputs": []
    },
    {
      "cell_type": "code",
      "source": [
        "@d2l.add_to_class(GoogleNet)\n",
        "def __init__(self, lr=0.1, num_classes=10):\n",
        "    super(GoogleNet, self).__init__()\n",
        "    self.save_hyperparameters()\n",
        "    self.net = nn.Sequential(self.b1(), self.b2(), self.b3(), self.b4(),\n",
        "                             self.b5(), nn.LazyLinear(num_classes))\n",
        "    self.net.apply(d2l.init_cnn)"
      ],
      "metadata": {
        "id": "Y8UbgsWS9JCN"
      },
      "execution_count": 22,
      "outputs": []
    },
    {
      "cell_type": "code",
      "source": [
        "model = GoogleNet().layer_summary((1, 1, 96, 96))"
      ],
      "metadata": {
        "id": "Oi_k_ci99Lc0",
        "colab": {
          "base_uri": "https://localhost:8080/"
        },
        "outputId": "f2cc937a-ec29-45ad-a4df-58d9fc32578d"
      },
      "execution_count": 23,
      "outputs": [
        {
          "output_type": "stream",
          "name": "stdout",
          "text": [
            "Sequential output shape:\t torch.Size([1, 64, 24, 24])\n",
            "Sequential output shape:\t torch.Size([1, 192, 12, 12])\n",
            "Sequential output shape:\t torch.Size([1, 480, 6, 6])\n",
            "Sequential output shape:\t torch.Size([1, 832, 3, 3])\n",
            "Sequential output shape:\t torch.Size([1, 1024])\n",
            "Linear output shape:\t torch.Size([1, 10])\n"
          ]
        }
      ]
    },
    {
      "cell_type": "code",
      "source": [
        "model = GoogleNet(lr=0.01)\n",
        "trainer = d2l.Trainer(max_epochs=10, num_gpus=1)\n",
        "data = d2l.FashionMNIST(batch_size=128, resize=(96, 96))\n",
        "model.apply_init([next(iter(data.get_dataloader(True)))[0]], d2l.init_cnn)\n",
        "trainer.fit(model, data)"
      ],
      "metadata": {
        "id": "SuFj0_mk9N15",
        "colab": {
          "base_uri": "https://localhost:8080/",
          "height": 265
        },
        "outputId": "b5022c44-9f10-4d87-9aa5-528b1261b21b"
      },
      "execution_count": 24,
      "outputs": [
        {
          "output_type": "display_data",
          "data": {
            "text/plain": [
              "<Figure size 350x250 with 1 Axes>"
            ],
            "image/svg+xml": "<?xml version=\"1.0\" encoding=\"utf-8\" standalone=\"no\"?>\n<!DOCTYPE svg PUBLIC \"-//W3C//DTD SVG 1.1//EN\"\n  \"http://www.w3.org/Graphics/SVG/1.1/DTD/svg11.dtd\">\n<svg xmlns:xlink=\"http://www.w3.org/1999/xlink\" width=\"238.965625pt\" height=\"183.35625pt\" viewBox=\"0 0 238.965625 183.35625\" xmlns=\"http://www.w3.org/2000/svg\" version=\"1.1\">\n <metadata>\n  <rdf:RDF xmlns:dc=\"http://purl.org/dc/elements/1.1/\" xmlns:cc=\"http://creativecommons.org/ns#\" xmlns:rdf=\"http://www.w3.org/1999/02/22-rdf-syntax-ns#\">\n   <cc:Work>\n    <dc:type rdf:resource=\"http://purl.org/dc/dcmitype/StillImage\"/>\n    <dc:date>2024-10-04T14:41:22.497678</dc:date>\n    <dc:format>image/svg+xml</dc:format>\n    <dc:creator>\n     <cc:Agent>\n      <dc:title>Matplotlib v3.7.2, https://matplotlib.org/</dc:title>\n     </cc:Agent>\n    </dc:creator>\n   </cc:Work>\n  </rdf:RDF>\n </metadata>\n <defs>\n  <style type=\"text/css\">*{stroke-linejoin: round; stroke-linecap: butt}</style>\n </defs>\n <g id=\"figure_1\">\n  <g id=\"patch_1\">\n   <path d=\"M 0 183.35625 \nL 238.965625 183.35625 \nL 238.965625 0 \nL 0 0 \nz\n\" style=\"fill: #ffffff\"/>\n  </g>\n  <g id=\"axes_1\">\n   <g id=\"patch_2\">\n    <path d=\"M 30.103125 145.8 \nL 225.403125 145.8 \nL 225.403125 7.2 \nL 30.103125 7.2 \nz\n\" style=\"fill: #ffffff\"/>\n   </g>\n   <g id=\"matplotlib.axis_1\">\n    <g id=\"xtick_1\">\n     <g id=\"line2d_1\">\n      <defs>\n       <path id=\"m2978390915\" d=\"M 0 0 \nL 0 3.5 \n\" style=\"stroke: #000000; stroke-width: 0.8\"/>\n      </defs>\n      <g>\n       <use xlink:href=\"#m2978390915\" x=\"30.103125\" y=\"145.8\" style=\"stroke: #000000; stroke-width: 0.8\"/>\n      </g>\n     </g>\n     <g id=\"text_1\">\n      <!-- 0 -->\n      <g transform=\"translate(26.921875 160.398438) scale(0.1 -0.1)\">\n       <defs>\n        <path id=\"DejaVuSans-30\" d=\"M 2034 4250 \nQ 1547 4250 1301 3770 \nQ 1056 3291 1056 2328 \nQ 1056 1369 1301 889 \nQ 1547 409 2034 409 \nQ 2525 409 2770 889 \nQ 3016 1369 3016 2328 \nQ 3016 3291 2770 3770 \nQ 2525 4250 2034 4250 \nz\nM 2034 4750 \nQ 2819 4750 3233 4129 \nQ 3647 3509 3647 2328 \nQ 3647 1150 3233 529 \nQ 2819 -91 2034 -91 \nQ 1250 -91 836 529 \nQ 422 1150 422 2328 \nQ 422 3509 836 4129 \nQ 1250 4750 2034 4750 \nz\n\" transform=\"scale(0.015625)\"/>\n       </defs>\n       <use xlink:href=\"#DejaVuSans-30\"/>\n      </g>\n     </g>\n    </g>\n    <g id=\"xtick_2\">\n     <g id=\"line2d_2\">\n      <g>\n       <use xlink:href=\"#m2978390915\" x=\"69.163125\" y=\"145.8\" style=\"stroke: #000000; stroke-width: 0.8\"/>\n      </g>\n     </g>\n     <g id=\"text_2\">\n      <!-- 2 -->\n      <g transform=\"translate(65.981875 160.398438) scale(0.1 -0.1)\">\n       <defs>\n        <path id=\"DejaVuSans-32\" d=\"M 1228 531 \nL 3431 531 \nL 3431 0 \nL 469 0 \nL 469 531 \nQ 828 903 1448 1529 \nQ 2069 2156 2228 2338 \nQ 2531 2678 2651 2914 \nQ 2772 3150 2772 3378 \nQ 2772 3750 2511 3984 \nQ 2250 4219 1831 4219 \nQ 1534 4219 1204 4116 \nQ 875 4013 500 3803 \nL 500 4441 \nQ 881 4594 1212 4672 \nQ 1544 4750 1819 4750 \nQ 2544 4750 2975 4387 \nQ 3406 4025 3406 3419 \nQ 3406 3131 3298 2873 \nQ 3191 2616 2906 2266 \nQ 2828 2175 2409 1742 \nQ 1991 1309 1228 531 \nz\n\" transform=\"scale(0.015625)\"/>\n       </defs>\n       <use xlink:href=\"#DejaVuSans-32\"/>\n      </g>\n     </g>\n    </g>\n    <g id=\"xtick_3\">\n     <g id=\"line2d_3\">\n      <g>\n       <use xlink:href=\"#m2978390915\" x=\"108.223125\" y=\"145.8\" style=\"stroke: #000000; stroke-width: 0.8\"/>\n      </g>\n     </g>\n     <g id=\"text_3\">\n      <!-- 4 -->\n      <g transform=\"translate(105.041875 160.398438) scale(0.1 -0.1)\">\n       <defs>\n        <path id=\"DejaVuSans-34\" d=\"M 2419 4116 \nL 825 1625 \nL 2419 1625 \nL 2419 4116 \nz\nM 2253 4666 \nL 3047 4666 \nL 3047 1625 \nL 3713 1625 \nL 3713 1100 \nL 3047 1100 \nL 3047 0 \nL 2419 0 \nL 2419 1100 \nL 313 1100 \nL 313 1709 \nL 2253 4666 \nz\n\" transform=\"scale(0.015625)\"/>\n       </defs>\n       <use xlink:href=\"#DejaVuSans-34\"/>\n      </g>\n     </g>\n    </g>\n    <g id=\"xtick_4\">\n     <g id=\"line2d_4\">\n      <g>\n       <use xlink:href=\"#m2978390915\" x=\"147.283125\" y=\"145.8\" style=\"stroke: #000000; stroke-width: 0.8\"/>\n      </g>\n     </g>\n     <g id=\"text_4\">\n      <!-- 6 -->\n      <g transform=\"translate(144.101875 160.398438) scale(0.1 -0.1)\">\n       <defs>\n        <path id=\"DejaVuSans-36\" d=\"M 2113 2584 \nQ 1688 2584 1439 2293 \nQ 1191 2003 1191 1497 \nQ 1191 994 1439 701 \nQ 1688 409 2113 409 \nQ 2538 409 2786 701 \nQ 3034 994 3034 1497 \nQ 3034 2003 2786 2293 \nQ 2538 2584 2113 2584 \nz\nM 3366 4563 \nL 3366 3988 \nQ 3128 4100 2886 4159 \nQ 2644 4219 2406 4219 \nQ 1781 4219 1451 3797 \nQ 1122 3375 1075 2522 \nQ 1259 2794 1537 2939 \nQ 1816 3084 2150 3084 \nQ 2853 3084 3261 2657 \nQ 3669 2231 3669 1497 \nQ 3669 778 3244 343 \nQ 2819 -91 2113 -91 \nQ 1303 -91 875 529 \nQ 447 1150 447 2328 \nQ 447 3434 972 4092 \nQ 1497 4750 2381 4750 \nQ 2619 4750 2861 4703 \nQ 3103 4656 3366 4563 \nz\n\" transform=\"scale(0.015625)\"/>\n       </defs>\n       <use xlink:href=\"#DejaVuSans-36\"/>\n      </g>\n     </g>\n    </g>\n    <g id=\"xtick_5\">\n     <g id=\"line2d_5\">\n      <g>\n       <use xlink:href=\"#m2978390915\" x=\"186.343125\" y=\"145.8\" style=\"stroke: #000000; stroke-width: 0.8\"/>\n      </g>\n     </g>\n     <g id=\"text_5\">\n      <!-- 8 -->\n      <g transform=\"translate(183.161875 160.398438) scale(0.1 -0.1)\">\n       <defs>\n        <path id=\"DejaVuSans-38\" d=\"M 2034 2216 \nQ 1584 2216 1326 1975 \nQ 1069 1734 1069 1313 \nQ 1069 891 1326 650 \nQ 1584 409 2034 409 \nQ 2484 409 2743 651 \nQ 3003 894 3003 1313 \nQ 3003 1734 2745 1975 \nQ 2488 2216 2034 2216 \nz\nM 1403 2484 \nQ 997 2584 770 2862 \nQ 544 3141 544 3541 \nQ 544 4100 942 4425 \nQ 1341 4750 2034 4750 \nQ 2731 4750 3128 4425 \nQ 3525 4100 3525 3541 \nQ 3525 3141 3298 2862 \nQ 3072 2584 2669 2484 \nQ 3125 2378 3379 2068 \nQ 3634 1759 3634 1313 \nQ 3634 634 3220 271 \nQ 2806 -91 2034 -91 \nQ 1263 -91 848 271 \nQ 434 634 434 1313 \nQ 434 1759 690 2068 \nQ 947 2378 1403 2484 \nz\nM 1172 3481 \nQ 1172 3119 1398 2916 \nQ 1625 2713 2034 2713 \nQ 2441 2713 2670 2916 \nQ 2900 3119 2900 3481 \nQ 2900 3844 2670 4047 \nQ 2441 4250 2034 4250 \nQ 1625 4250 1398 4047 \nQ 1172 3844 1172 3481 \nz\n\" transform=\"scale(0.015625)\"/>\n       </defs>\n       <use xlink:href=\"#DejaVuSans-38\"/>\n      </g>\n     </g>\n    </g>\n    <g id=\"xtick_6\">\n     <g id=\"line2d_6\">\n      <g>\n       <use xlink:href=\"#m2978390915\" x=\"225.403125\" y=\"145.8\" style=\"stroke: #000000; stroke-width: 0.8\"/>\n      </g>\n     </g>\n     <g id=\"text_6\">\n      <!-- 10 -->\n      <g transform=\"translate(219.040625 160.398438) scale(0.1 -0.1)\">\n       <defs>\n        <path id=\"DejaVuSans-31\" d=\"M 794 531 \nL 1825 531 \nL 1825 4091 \nL 703 3866 \nL 703 4441 \nL 1819 4666 \nL 2450 4666 \nL 2450 531 \nL 3481 531 \nL 3481 0 \nL 794 0 \nL 794 531 \nz\n\" transform=\"scale(0.015625)\"/>\n       </defs>\n       <use xlink:href=\"#DejaVuSans-31\"/>\n       <use xlink:href=\"#DejaVuSans-30\" x=\"63.623047\"/>\n      </g>\n     </g>\n    </g>\n    <g id=\"text_7\">\n     <!-- epoch -->\n     <g transform=\"translate(112.525 174.076563) scale(0.1 -0.1)\">\n      <defs>\n       <path id=\"DejaVuSans-65\" d=\"M 3597 1894 \nL 3597 1613 \nL 953 1613 \nQ 991 1019 1311 708 \nQ 1631 397 2203 397 \nQ 2534 397 2845 478 \nQ 3156 559 3463 722 \nL 3463 178 \nQ 3153 47 2828 -22 \nQ 2503 -91 2169 -91 \nQ 1331 -91 842 396 \nQ 353 884 353 1716 \nQ 353 2575 817 3079 \nQ 1281 3584 2069 3584 \nQ 2775 3584 3186 3129 \nQ 3597 2675 3597 1894 \nz\nM 3022 2063 \nQ 3016 2534 2758 2815 \nQ 2500 3097 2075 3097 \nQ 1594 3097 1305 2825 \nQ 1016 2553 972 2059 \nL 3022 2063 \nz\n\" transform=\"scale(0.015625)\"/>\n       <path id=\"DejaVuSans-70\" d=\"M 1159 525 \nL 1159 -1331 \nL 581 -1331 \nL 581 3500 \nL 1159 3500 \nL 1159 2969 \nQ 1341 3281 1617 3432 \nQ 1894 3584 2278 3584 \nQ 2916 3584 3314 3078 \nQ 3713 2572 3713 1747 \nQ 3713 922 3314 415 \nQ 2916 -91 2278 -91 \nQ 1894 -91 1617 61 \nQ 1341 213 1159 525 \nz\nM 3116 1747 \nQ 3116 2381 2855 2742 \nQ 2594 3103 2138 3103 \nQ 1681 3103 1420 2742 \nQ 1159 2381 1159 1747 \nQ 1159 1113 1420 752 \nQ 1681 391 2138 391 \nQ 2594 391 2855 752 \nQ 3116 1113 3116 1747 \nz\n\" transform=\"scale(0.015625)\"/>\n       <path id=\"DejaVuSans-6f\" d=\"M 1959 3097 \nQ 1497 3097 1228 2736 \nQ 959 2375 959 1747 \nQ 959 1119 1226 758 \nQ 1494 397 1959 397 \nQ 2419 397 2687 759 \nQ 2956 1122 2956 1747 \nQ 2956 2369 2687 2733 \nQ 2419 3097 1959 3097 \nz\nM 1959 3584 \nQ 2709 3584 3137 3096 \nQ 3566 2609 3566 1747 \nQ 3566 888 3137 398 \nQ 2709 -91 1959 -91 \nQ 1206 -91 779 398 \nQ 353 888 353 1747 \nQ 353 2609 779 3096 \nQ 1206 3584 1959 3584 \nz\n\" transform=\"scale(0.015625)\"/>\n       <path id=\"DejaVuSans-63\" d=\"M 3122 3366 \nL 3122 2828 \nQ 2878 2963 2633 3030 \nQ 2388 3097 2138 3097 \nQ 1578 3097 1268 2742 \nQ 959 2388 959 1747 \nQ 959 1106 1268 751 \nQ 1578 397 2138 397 \nQ 2388 397 2633 464 \nQ 2878 531 3122 666 \nL 3122 134 \nQ 2881 22 2623 -34 \nQ 2366 -91 2075 -91 \nQ 1284 -91 818 406 \nQ 353 903 353 1747 \nQ 353 2603 823 3093 \nQ 1294 3584 2113 3584 \nQ 2378 3584 2631 3529 \nQ 2884 3475 3122 3366 \nz\n\" transform=\"scale(0.015625)\"/>\n       <path id=\"DejaVuSans-68\" d=\"M 3513 2113 \nL 3513 0 \nL 2938 0 \nL 2938 2094 \nQ 2938 2591 2744 2837 \nQ 2550 3084 2163 3084 \nQ 1697 3084 1428 2787 \nQ 1159 2491 1159 1978 \nL 1159 0 \nL 581 0 \nL 581 4863 \nL 1159 4863 \nL 1159 2956 \nQ 1366 3272 1645 3428 \nQ 1925 3584 2291 3584 \nQ 2894 3584 3203 3211 \nQ 3513 2838 3513 2113 \nz\n\" transform=\"scale(0.015625)\"/>\n      </defs>\n      <use xlink:href=\"#DejaVuSans-65\"/>\n      <use xlink:href=\"#DejaVuSans-70\" x=\"61.523438\"/>\n      <use xlink:href=\"#DejaVuSans-6f\" x=\"125\"/>\n      <use xlink:href=\"#DejaVuSans-63\" x=\"186.181641\"/>\n      <use xlink:href=\"#DejaVuSans-68\" x=\"241.162109\"/>\n     </g>\n    </g>\n   </g>\n   <g id=\"matplotlib.axis_2\">\n    <g id=\"ytick_1\">\n     <g id=\"line2d_7\">\n      <defs>\n       <path id=\"m9d9bdbe695\" d=\"M 0 0 \nL -3.5 0 \n\" style=\"stroke: #000000; stroke-width: 0.8\"/>\n      </defs>\n      <g>\n       <use xlink:href=\"#m9d9bdbe695\" x=\"30.103125\" y=\"145.195752\" style=\"stroke: #000000; stroke-width: 0.8\"/>\n      </g>\n     </g>\n     <g id=\"text_8\">\n      <!-- 0.0 -->\n      <g transform=\"translate(7.2 148.994971) scale(0.1 -0.1)\">\n       <defs>\n        <path id=\"DejaVuSans-2e\" d=\"M 684 794 \nL 1344 794 \nL 1344 0 \nL 684 0 \nL 684 794 \nz\n\" transform=\"scale(0.015625)\"/>\n       </defs>\n       <use xlink:href=\"#DejaVuSans-30\"/>\n       <use xlink:href=\"#DejaVuSans-2e\" x=\"63.623047\"/>\n       <use xlink:href=\"#DejaVuSans-30\" x=\"95.410156\"/>\n      </g>\n     </g>\n    </g>\n    <g id=\"ytick_2\">\n     <g id=\"line2d_8\">\n      <g>\n       <use xlink:href=\"#m9d9bdbe695\" x=\"30.103125\" y=\"116.598212\" style=\"stroke: #000000; stroke-width: 0.8\"/>\n      </g>\n     </g>\n     <g id=\"text_9\">\n      <!-- 0.5 -->\n      <g transform=\"translate(7.2 120.397431) scale(0.1 -0.1)\">\n       <defs>\n        <path id=\"DejaVuSans-35\" d=\"M 691 4666 \nL 3169 4666 \nL 3169 4134 \nL 1269 4134 \nL 1269 2991 \nQ 1406 3038 1543 3061 \nQ 1681 3084 1819 3084 \nQ 2600 3084 3056 2656 \nQ 3513 2228 3513 1497 \nQ 3513 744 3044 326 \nQ 2575 -91 1722 -91 \nQ 1428 -91 1123 -41 \nQ 819 9 494 109 \nL 494 744 \nQ 775 591 1075 516 \nQ 1375 441 1709 441 \nQ 2250 441 2565 725 \nQ 2881 1009 2881 1497 \nQ 2881 1984 2565 2268 \nQ 2250 2553 1709 2553 \nQ 1456 2553 1204 2497 \nQ 953 2441 691 2322 \nL 691 4666 \nz\n\" transform=\"scale(0.015625)\"/>\n       </defs>\n       <use xlink:href=\"#DejaVuSans-30\"/>\n       <use xlink:href=\"#DejaVuSans-2e\" x=\"63.623047\"/>\n       <use xlink:href=\"#DejaVuSans-35\" x=\"95.410156\"/>\n      </g>\n     </g>\n    </g>\n    <g id=\"ytick_3\">\n     <g id=\"line2d_9\">\n      <g>\n       <use xlink:href=\"#m9d9bdbe695\" x=\"30.103125\" y=\"88.000672\" style=\"stroke: #000000; stroke-width: 0.8\"/>\n      </g>\n     </g>\n     <g id=\"text_10\">\n      <!-- 1.0 -->\n      <g transform=\"translate(7.2 91.799891) scale(0.1 -0.1)\">\n       <use xlink:href=\"#DejaVuSans-31\"/>\n       <use xlink:href=\"#DejaVuSans-2e\" x=\"63.623047\"/>\n       <use xlink:href=\"#DejaVuSans-30\" x=\"95.410156\"/>\n      </g>\n     </g>\n    </g>\n    <g id=\"ytick_4\">\n     <g id=\"line2d_10\">\n      <g>\n       <use xlink:href=\"#m9d9bdbe695\" x=\"30.103125\" y=\"59.403132\" style=\"stroke: #000000; stroke-width: 0.8\"/>\n      </g>\n     </g>\n     <g id=\"text_11\">\n      <!-- 1.5 -->\n      <g transform=\"translate(7.2 63.202351) scale(0.1 -0.1)\">\n       <use xlink:href=\"#DejaVuSans-31\"/>\n       <use xlink:href=\"#DejaVuSans-2e\" x=\"63.623047\"/>\n       <use xlink:href=\"#DejaVuSans-35\" x=\"95.410156\"/>\n      </g>\n     </g>\n    </g>\n    <g id=\"ytick_5\">\n     <g id=\"line2d_11\">\n      <g>\n       <use xlink:href=\"#m9d9bdbe695\" x=\"30.103125\" y=\"30.805592\" style=\"stroke: #000000; stroke-width: 0.8\"/>\n      </g>\n     </g>\n     <g id=\"text_12\">\n      <!-- 2.0 -->\n      <g transform=\"translate(7.2 34.604811) scale(0.1 -0.1)\">\n       <use xlink:href=\"#DejaVuSans-32\"/>\n       <use xlink:href=\"#DejaVuSans-2e\" x=\"63.623047\"/>\n       <use xlink:href=\"#DejaVuSans-30\" x=\"95.410156\"/>\n      </g>\n     </g>\n    </g>\n   </g>\n   <g id=\"line2d_12\">\n    <path d=\"M 34.954394 13.5 \n\" clip-path=\"url(#p3d67fa2acf)\" style=\"fill: none; stroke: #1f77b4; stroke-width: 1.5; stroke-linecap: square\"/>\n   </g>\n   <g id=\"line2d_13\">\n    <path d=\"M 34.954394 13.5 \nL 44.698573 13.541452 \n\" clip-path=\"url(#p3d67fa2acf)\" style=\"fill: none; stroke: #1f77b4; stroke-width: 1.5; stroke-linecap: square\"/>\n   </g>\n   <g id=\"line2d_14\">\n    <path d=\"M 34.954394 13.5 \nL 44.698573 13.541452 \n\" clip-path=\"url(#p3d67fa2acf)\" style=\"fill: none; stroke: #1f77b4; stroke-width: 1.5; stroke-linecap: square\"/>\n   </g>\n   <g id=\"line2d_15\">\n    <path d=\"M 49.633125 13.568384 \n\" clip-path=\"url(#p3d67fa2acf)\" style=\"fill: none; stroke-dasharray: 5.55,2.4; stroke-dashoffset: 0; stroke: #ff7f0e; stroke-width: 1.5\"/>\n   </g>\n   <g id=\"line2d_16\"/>\n   <g id=\"line2d_17\">\n    <path d=\"M 34.954394 13.5 \nL 44.698573 13.541452 \n\" clip-path=\"url(#p3d67fa2acf)\" style=\"fill: none; stroke: #1f77b4; stroke-width: 1.5; stroke-linecap: square\"/>\n   </g>\n   <g id=\"line2d_18\">\n    <path d=\"M 49.633125 13.568384 \n\" clip-path=\"url(#p3d67fa2acf)\" style=\"fill: none; stroke-dasharray: 5.55,2.4; stroke-dashoffset: 0; stroke: #ff7f0e; stroke-width: 1.5\"/>\n   </g>\n   <g id=\"line2d_19\">\n    <path d=\"M 49.633125 139.5 \n\" clip-path=\"url(#p3d67fa2acf)\" style=\"fill: none; stroke-dasharray: 9.6,2.4,1.5,2.4; stroke-dashoffset: 0; stroke: #2ca02c; stroke-width: 1.5\"/>\n   </g>\n   <g id=\"line2d_20\">\n    <path d=\"M 34.954394 13.5 \nL 44.698573 13.541452 \nL 54.442752 13.581931 \n\" clip-path=\"url(#p3d67fa2acf)\" style=\"fill: none; stroke: #1f77b4; stroke-width: 1.5; stroke-linecap: square\"/>\n   </g>\n   <g id=\"line2d_21\">\n    <path d=\"M 49.633125 13.568384 \n\" clip-path=\"url(#p3d67fa2acf)\" style=\"fill: none; stroke-dasharray: 5.55,2.4; stroke-dashoffset: 0; stroke: #ff7f0e; stroke-width: 1.5\"/>\n   </g>\n   <g id=\"line2d_22\">\n    <path d=\"M 49.633125 139.5 \n\" clip-path=\"url(#p3d67fa2acf)\" style=\"fill: none; stroke-dasharray: 9.6,2.4,1.5,2.4; stroke-dashoffset: 0; stroke: #2ca02c; stroke-width: 1.5\"/>\n   </g>\n   <g id=\"line2d_23\">\n    <path d=\"M 34.954394 13.5 \nL 44.698573 13.541452 \nL 54.442752 13.581931 \nL 64.186931 13.625438 \n\" clip-path=\"url(#p3d67fa2acf)\" style=\"fill: none; stroke: #1f77b4; stroke-width: 1.5; stroke-linecap: square\"/>\n   </g>\n   <g id=\"line2d_24\">\n    <path d=\"M 49.633125 13.568384 \n\" clip-path=\"url(#p3d67fa2acf)\" style=\"fill: none; stroke-dasharray: 5.55,2.4; stroke-dashoffset: 0; stroke: #ff7f0e; stroke-width: 1.5\"/>\n   </g>\n   <g id=\"line2d_25\">\n    <path d=\"M 49.633125 139.5 \n\" clip-path=\"url(#p3d67fa2acf)\" style=\"fill: none; stroke-dasharray: 9.6,2.4,1.5,2.4; stroke-dashoffset: 0; stroke: #2ca02c; stroke-width: 1.5\"/>\n   </g>\n   <g id=\"line2d_26\">\n    <path d=\"M 34.954394 13.5 \nL 44.698573 13.541452 \nL 54.442752 13.581931 \nL 64.186931 13.625438 \n\" clip-path=\"url(#p3d67fa2acf)\" style=\"fill: none; stroke: #1f77b4; stroke-width: 1.5; stroke-linecap: square\"/>\n   </g>\n   <g id=\"line2d_27\">\n    <path d=\"M 49.633125 13.568384 \nL 69.163125 13.658985 \n\" clip-path=\"url(#p3d67fa2acf)\" style=\"fill: none; stroke-dasharray: 5.55,2.4; stroke-dashoffset: 0; stroke: #ff7f0e; stroke-width: 1.5\"/>\n   </g>\n   <g id=\"line2d_28\">\n    <path d=\"M 49.633125 139.5 \n\" clip-path=\"url(#p3d67fa2acf)\" style=\"fill: none; stroke-dasharray: 9.6,2.4,1.5,2.4; stroke-dashoffset: 0; stroke: #2ca02c; stroke-width: 1.5\"/>\n   </g>\n   <g id=\"line2d_29\">\n    <path d=\"M 34.954394 13.5 \nL 44.698573 13.541452 \nL 54.442752 13.581931 \nL 64.186931 13.625438 \n\" clip-path=\"url(#p3d67fa2acf)\" style=\"fill: none; stroke: #1f77b4; stroke-width: 1.5; stroke-linecap: square\"/>\n   </g>\n   <g id=\"line2d_30\">\n    <path d=\"M 49.633125 13.568384 \nL 69.163125 13.658985 \n\" clip-path=\"url(#p3d67fa2acf)\" style=\"fill: none; stroke-dasharray: 5.55,2.4; stroke-dashoffset: 0; stroke: #ff7f0e; stroke-width: 1.5\"/>\n   </g>\n   <g id=\"line2d_31\">\n    <path d=\"M 49.633125 139.5 \nL 69.163125 133.979589 \n\" clip-path=\"url(#p3d67fa2acf)\" style=\"fill: none; stroke-dasharray: 9.6,2.4,1.5,2.4; stroke-dashoffset: 0; stroke: #2ca02c; stroke-width: 1.5\"/>\n   </g>\n   <g id=\"line2d_32\">\n    <path d=\"M 34.954394 13.5 \nL 44.698573 13.541452 \nL 54.442752 13.581931 \nL 64.186931 13.625438 \nL 73.93111 13.691809 \n\" clip-path=\"url(#p3d67fa2acf)\" style=\"fill: none; stroke: #1f77b4; stroke-width: 1.5; stroke-linecap: square\"/>\n   </g>\n   <g id=\"line2d_33\">\n    <path d=\"M 49.633125 13.568384 \nL 69.163125 13.658985 \n\" clip-path=\"url(#p3d67fa2acf)\" style=\"fill: none; stroke-dasharray: 5.55,2.4; stroke-dashoffset: 0; stroke: #ff7f0e; stroke-width: 1.5\"/>\n   </g>\n   <g id=\"line2d_34\">\n    <path d=\"M 49.633125 139.5 \nL 69.163125 133.979589 \n\" clip-path=\"url(#p3d67fa2acf)\" style=\"fill: none; stroke-dasharray: 9.6,2.4,1.5,2.4; stroke-dashoffset: 0; stroke: #2ca02c; stroke-width: 1.5\"/>\n   </g>\n   <g id=\"line2d_35\">\n    <path d=\"M 34.954394 13.5 \nL 44.698573 13.541452 \nL 54.442752 13.581931 \nL 64.186931 13.625438 \nL 73.93111 13.691809 \nL 83.675289 13.801836 \n\" clip-path=\"url(#p3d67fa2acf)\" style=\"fill: none; stroke: #1f77b4; stroke-width: 1.5; stroke-linecap: square\"/>\n   </g>\n   <g id=\"line2d_36\">\n    <path d=\"M 49.633125 13.568384 \nL 69.163125 13.658985 \n\" clip-path=\"url(#p3d67fa2acf)\" style=\"fill: none; stroke-dasharray: 5.55,2.4; stroke-dashoffset: 0; stroke: #ff7f0e; stroke-width: 1.5\"/>\n   </g>\n   <g id=\"line2d_37\">\n    <path d=\"M 49.633125 139.5 \nL 69.163125 133.979589 \n\" clip-path=\"url(#p3d67fa2acf)\" style=\"fill: none; stroke-dasharray: 9.6,2.4,1.5,2.4; stroke-dashoffset: 0; stroke: #2ca02c; stroke-width: 1.5\"/>\n   </g>\n   <g id=\"line2d_38\">\n    <path d=\"M 34.954394 13.5 \nL 44.698573 13.541452 \nL 54.442752 13.581931 \nL 64.186931 13.625438 \nL 73.93111 13.691809 \nL 83.675289 13.801836 \n\" clip-path=\"url(#p3d67fa2acf)\" style=\"fill: none; stroke: #1f77b4; stroke-width: 1.5; stroke-linecap: square\"/>\n   </g>\n   <g id=\"line2d_39\">\n    <path d=\"M 49.633125 13.568384 \nL 69.163125 13.658985 \nL 88.693125 13.898011 \n\" clip-path=\"url(#p3d67fa2acf)\" style=\"fill: none; stroke-dasharray: 5.55,2.4; stroke-dashoffset: 0; stroke: #ff7f0e; stroke-width: 1.5\"/>\n   </g>\n   <g id=\"line2d_40\">\n    <path d=\"M 49.633125 139.5 \nL 69.163125 133.979589 \n\" clip-path=\"url(#p3d67fa2acf)\" style=\"fill: none; stroke-dasharray: 9.6,2.4,1.5,2.4; stroke-dashoffset: 0; stroke: #2ca02c; stroke-width: 1.5\"/>\n   </g>\n   <g id=\"line2d_41\">\n    <path d=\"M 34.954394 13.5 \nL 44.698573 13.541452 \nL 54.442752 13.581931 \nL 64.186931 13.625438 \nL 73.93111 13.691809 \nL 83.675289 13.801836 \n\" clip-path=\"url(#p3d67fa2acf)\" style=\"fill: none; stroke: #1f77b4; stroke-width: 1.5; stroke-linecap: square\"/>\n   </g>\n   <g id=\"line2d_42\">\n    <path d=\"M 49.633125 13.568384 \nL 69.163125 13.658985 \nL 88.693125 13.898011 \n\" clip-path=\"url(#p3d67fa2acf)\" style=\"fill: none; stroke-dasharray: 5.55,2.4; stroke-dashoffset: 0; stroke: #ff7f0e; stroke-width: 1.5\"/>\n   </g>\n   <g id=\"line2d_43\">\n    <path d=\"M 49.633125 139.5 \nL 69.163125 133.979589 \nL 88.693125 127.373195 \n\" clip-path=\"url(#p3d67fa2acf)\" style=\"fill: none; stroke-dasharray: 9.6,2.4,1.5,2.4; stroke-dashoffset: 0; stroke: #2ca02c; stroke-width: 1.5\"/>\n   </g>\n   <g id=\"line2d_44\">\n    <path d=\"M 34.954394 13.5 \nL 44.698573 13.541452 \nL 54.442752 13.581931 \nL 64.186931 13.625438 \nL 73.93111 13.691809 \nL 83.675289 13.801836 \nL 93.419468 14.040453 \n\" clip-path=\"url(#p3d67fa2acf)\" style=\"fill: none; stroke: #1f77b4; stroke-width: 1.5; stroke-linecap: square\"/>\n   </g>\n   <g id=\"line2d_45\">\n    <path d=\"M 49.633125 13.568384 \nL 69.163125 13.658985 \nL 88.693125 13.898011 \n\" clip-path=\"url(#p3d67fa2acf)\" style=\"fill: none; stroke-dasharray: 5.55,2.4; stroke-dashoffset: 0; stroke: #ff7f0e; stroke-width: 1.5\"/>\n   </g>\n   <g id=\"line2d_46\">\n    <path d=\"M 49.633125 139.5 \nL 69.163125 133.979589 \nL 88.693125 127.373195 \n\" clip-path=\"url(#p3d67fa2acf)\" style=\"fill: none; stroke-dasharray: 9.6,2.4,1.5,2.4; stroke-dashoffset: 0; stroke: #2ca02c; stroke-width: 1.5\"/>\n   </g>\n   <g id=\"line2d_47\">\n    <path d=\"M 34.954394 13.5 \nL 44.698573 13.541452 \nL 54.442752 13.581931 \nL 64.186931 13.625438 \nL 73.93111 13.691809 \nL 83.675289 13.801836 \nL 93.419468 14.040453 \nL 103.163647 14.635051 \n\" clip-path=\"url(#p3d67fa2acf)\" style=\"fill: none; stroke: #1f77b4; stroke-width: 1.5; stroke-linecap: square\"/>\n   </g>\n   <g id=\"line2d_48\">\n    <path d=\"M 49.633125 13.568384 \nL 69.163125 13.658985 \nL 88.693125 13.898011 \n\" clip-path=\"url(#p3d67fa2acf)\" style=\"fill: none; stroke-dasharray: 5.55,2.4; stroke-dashoffset: 0; stroke: #ff7f0e; stroke-width: 1.5\"/>\n   </g>\n   <g id=\"line2d_49\">\n    <path d=\"M 49.633125 139.5 \nL 69.163125 133.979589 \nL 88.693125 127.373195 \n\" clip-path=\"url(#p3d67fa2acf)\" style=\"fill: none; stroke-dasharray: 9.6,2.4,1.5,2.4; stroke-dashoffset: 0; stroke: #2ca02c; stroke-width: 1.5\"/>\n   </g>\n   <g id=\"line2d_50\">\n    <path d=\"M 34.954394 13.5 \nL 44.698573 13.541452 \nL 54.442752 13.581931 \nL 64.186931 13.625438 \nL 73.93111 13.691809 \nL 83.675289 13.801836 \nL 93.419468 14.040453 \nL 103.163647 14.635051 \n\" clip-path=\"url(#p3d67fa2acf)\" style=\"fill: none; stroke: #1f77b4; stroke-width: 1.5; stroke-linecap: square\"/>\n   </g>\n   <g id=\"line2d_51\">\n    <path d=\"M 49.633125 13.568384 \nL 69.163125 13.658985 \nL 88.693125 13.898011 \nL 108.223125 15.281274 \n\" clip-path=\"url(#p3d67fa2acf)\" style=\"fill: none; stroke-dasharray: 5.55,2.4; stroke-dashoffset: 0; stroke: #ff7f0e; stroke-width: 1.5\"/>\n   </g>\n   <g id=\"line2d_52\">\n    <path d=\"M 49.633125 139.5 \nL 69.163125 133.979589 \nL 88.693125 127.373195 \n\" clip-path=\"url(#p3d67fa2acf)\" style=\"fill: none; stroke-dasharray: 9.6,2.4,1.5,2.4; stroke-dashoffset: 0; stroke: #2ca02c; stroke-width: 1.5\"/>\n   </g>\n   <g id=\"line2d_53\">\n    <path d=\"M 34.954394 13.5 \nL 44.698573 13.541452 \nL 54.442752 13.581931 \nL 64.186931 13.625438 \nL 73.93111 13.691809 \nL 83.675289 13.801836 \nL 93.419468 14.040453 \nL 103.163647 14.635051 \n\" clip-path=\"url(#p3d67fa2acf)\" style=\"fill: none; stroke: #1f77b4; stroke-width: 1.5; stroke-linecap: square\"/>\n   </g>\n   <g id=\"line2d_54\">\n    <path d=\"M 49.633125 13.568384 \nL 69.163125 13.658985 \nL 88.693125 13.898011 \nL 108.223125 15.281274 \n\" clip-path=\"url(#p3d67fa2acf)\" style=\"fill: none; stroke-dasharray: 5.55,2.4; stroke-dashoffset: 0; stroke: #ff7f0e; stroke-width: 1.5\"/>\n   </g>\n   <g id=\"line2d_55\">\n    <path d=\"M 49.633125 139.5 \nL 69.163125 133.979589 \nL 88.693125 127.373195 \nL 108.223125 125.382227 \n\" clip-path=\"url(#p3d67fa2acf)\" style=\"fill: none; stroke-dasharray: 9.6,2.4,1.5,2.4; stroke-dashoffset: 0; stroke: #2ca02c; stroke-width: 1.5\"/>\n   </g>\n   <g id=\"line2d_56\">\n    <path d=\"M 34.954394 13.5 \nL 44.698573 13.541452 \nL 54.442752 13.581931 \nL 64.186931 13.625438 \nL 73.93111 13.691809 \nL 83.675289 13.801836 \nL 93.419468 14.040453 \nL 103.163647 14.635051 \nL 112.907826 16.91969 \n\" clip-path=\"url(#p3d67fa2acf)\" style=\"fill: none; stroke: #1f77b4; stroke-width: 1.5; stroke-linecap: square\"/>\n   </g>\n   <g id=\"line2d_57\">\n    <path d=\"M 49.633125 13.568384 \nL 69.163125 13.658985 \nL 88.693125 13.898011 \nL 108.223125 15.281274 \n\" clip-path=\"url(#p3d67fa2acf)\" style=\"fill: none; stroke-dasharray: 5.55,2.4; stroke-dashoffset: 0; stroke: #ff7f0e; stroke-width: 1.5\"/>\n   </g>\n   <g id=\"line2d_58\">\n    <path d=\"M 49.633125 139.5 \nL 69.163125 133.979589 \nL 88.693125 127.373195 \nL 108.223125 125.382227 \n\" clip-path=\"url(#p3d67fa2acf)\" style=\"fill: none; stroke-dasharray: 9.6,2.4,1.5,2.4; stroke-dashoffset: 0; stroke: #2ca02c; stroke-width: 1.5\"/>\n   </g>\n   <g id=\"line2d_59\">\n    <path d=\"M 34.954394 13.5 \nL 44.698573 13.541452 \nL 54.442752 13.581931 \nL 64.186931 13.625438 \nL 73.93111 13.691809 \nL 83.675289 13.801836 \nL 93.419468 14.040453 \nL 103.163647 14.635051 \nL 112.907826 16.91969 \nL 122.652006 34.648168 \n\" clip-path=\"url(#p3d67fa2acf)\" style=\"fill: none; stroke: #1f77b4; stroke-width: 1.5; stroke-linecap: square\"/>\n   </g>\n   <g id=\"line2d_60\">\n    <path d=\"M 49.633125 13.568384 \nL 69.163125 13.658985 \nL 88.693125 13.898011 \nL 108.223125 15.281274 \n\" clip-path=\"url(#p3d67fa2acf)\" style=\"fill: none; stroke-dasharray: 5.55,2.4; stroke-dashoffset: 0; stroke: #ff7f0e; stroke-width: 1.5\"/>\n   </g>\n   <g id=\"line2d_61\">\n    <path d=\"M 49.633125 139.5 \nL 69.163125 133.979589 \nL 88.693125 127.373195 \nL 108.223125 125.382227 \n\" clip-path=\"url(#p3d67fa2acf)\" style=\"fill: none; stroke-dasharray: 9.6,2.4,1.5,2.4; stroke-dashoffset: 0; stroke: #2ca02c; stroke-width: 1.5\"/>\n   </g>\n   <g id=\"line2d_62\">\n    <path d=\"M 34.954394 13.5 \nL 44.698573 13.541452 \nL 54.442752 13.581931 \nL 64.186931 13.625438 \nL 73.93111 13.691809 \nL 83.675289 13.801836 \nL 93.419468 14.040453 \nL 103.163647 14.635051 \nL 112.907826 16.91969 \nL 122.652006 34.648168 \n\" clip-path=\"url(#p3d67fa2acf)\" style=\"fill: none; stroke: #1f77b4; stroke-width: 1.5; stroke-linecap: square\"/>\n   </g>\n   <g id=\"line2d_63\">\n    <path d=\"M 49.633125 13.568384 \nL 69.163125 13.658985 \nL 88.693125 13.898011 \nL 108.223125 15.281274 \nL 127.753125 61.089272 \n\" clip-path=\"url(#p3d67fa2acf)\" style=\"fill: none; stroke-dasharray: 5.55,2.4; stroke-dashoffset: 0; stroke: #ff7f0e; stroke-width: 1.5\"/>\n   </g>\n   <g id=\"line2d_64\">\n    <path d=\"M 49.633125 139.5 \nL 69.163125 133.979589 \nL 88.693125 127.373195 \nL 108.223125 125.382227 \n\" clip-path=\"url(#p3d67fa2acf)\" style=\"fill: none; stroke-dasharray: 9.6,2.4,1.5,2.4; stroke-dashoffset: 0; stroke: #2ca02c; stroke-width: 1.5\"/>\n   </g>\n   <g id=\"line2d_65\">\n    <path d=\"M 34.954394 13.5 \nL 44.698573 13.541452 \nL 54.442752 13.581931 \nL 64.186931 13.625438 \nL 73.93111 13.691809 \nL 83.675289 13.801836 \nL 93.419468 14.040453 \nL 103.163647 14.635051 \nL 112.907826 16.91969 \nL 122.652006 34.648168 \n\" clip-path=\"url(#p3d67fa2acf)\" style=\"fill: none; stroke: #1f77b4; stroke-width: 1.5; stroke-linecap: square\"/>\n   </g>\n   <g id=\"line2d_66\">\n    <path d=\"M 49.633125 13.568384 \nL 69.163125 13.658985 \nL 88.693125 13.898011 \nL 108.223125 15.281274 \nL 127.753125 61.089272 \n\" clip-path=\"url(#p3d67fa2acf)\" style=\"fill: none; stroke-dasharray: 5.55,2.4; stroke-dashoffset: 0; stroke: #ff7f0e; stroke-width: 1.5\"/>\n   </g>\n   <g id=\"line2d_67\">\n    <path d=\"M 49.633125 139.5 \nL 69.163125 133.979589 \nL 88.693125 127.373195 \nL 108.223125 125.382227 \nL 127.753125 119.44326 \n\" clip-path=\"url(#p3d67fa2acf)\" style=\"fill: none; stroke-dasharray: 9.6,2.4,1.5,2.4; stroke-dashoffset: 0; stroke: #2ca02c; stroke-width: 1.5\"/>\n   </g>\n   <g id=\"line2d_68\">\n    <path d=\"M 34.954394 13.5 \nL 44.698573 13.541452 \nL 54.442752 13.581931 \nL 64.186931 13.625438 \nL 73.93111 13.691809 \nL 83.675289 13.801836 \nL 93.419468 14.040453 \nL 103.163647 14.635051 \nL 112.907826 16.91969 \nL 122.652006 34.648168 \nL 132.396185 70.987747 \n\" clip-path=\"url(#p3d67fa2acf)\" style=\"fill: none; stroke: #1f77b4; stroke-width: 1.5; stroke-linecap: square\"/>\n   </g>\n   <g id=\"line2d_69\">\n    <path d=\"M 49.633125 13.568384 \nL 69.163125 13.658985 \nL 88.693125 13.898011 \nL 108.223125 15.281274 \nL 127.753125 61.089272 \n\" clip-path=\"url(#p3d67fa2acf)\" style=\"fill: none; stroke-dasharray: 5.55,2.4; stroke-dashoffset: 0; stroke: #ff7f0e; stroke-width: 1.5\"/>\n   </g>\n   <g id=\"line2d_70\">\n    <path d=\"M 49.633125 139.5 \nL 69.163125 133.979589 \nL 88.693125 127.373195 \nL 108.223125 125.382227 \nL 127.753125 119.44326 \n\" clip-path=\"url(#p3d67fa2acf)\" style=\"fill: none; stroke-dasharray: 9.6,2.4,1.5,2.4; stroke-dashoffset: 0; stroke: #2ca02c; stroke-width: 1.5\"/>\n   </g>\n   <g id=\"line2d_71\">\n    <path d=\"M 34.954394 13.5 \nL 44.698573 13.541452 \nL 54.442752 13.581931 \nL 64.186931 13.625438 \nL 73.93111 13.691809 \nL 83.675289 13.801836 \nL 93.419468 14.040453 \nL 103.163647 14.635051 \nL 112.907826 16.91969 \nL 122.652006 34.648168 \nL 132.396185 70.987747 \nL 142.140364 90.476533 \n\" clip-path=\"url(#p3d67fa2acf)\" style=\"fill: none; stroke: #1f77b4; stroke-width: 1.5; stroke-linecap: square\"/>\n   </g>\n   <g id=\"line2d_72\">\n    <path d=\"M 49.633125 13.568384 \nL 69.163125 13.658985 \nL 88.693125 13.898011 \nL 108.223125 15.281274 \nL 127.753125 61.089272 \n\" clip-path=\"url(#p3d67fa2acf)\" style=\"fill: none; stroke-dasharray: 5.55,2.4; stroke-dashoffset: 0; stroke: #ff7f0e; stroke-width: 1.5\"/>\n   </g>\n   <g id=\"line2d_73\">\n    <path d=\"M 49.633125 139.5 \nL 69.163125 133.979589 \nL 88.693125 127.373195 \nL 108.223125 125.382227 \nL 127.753125 119.44326 \n\" clip-path=\"url(#p3d67fa2acf)\" style=\"fill: none; stroke-dasharray: 9.6,2.4,1.5,2.4; stroke-dashoffset: 0; stroke: #2ca02c; stroke-width: 1.5\"/>\n   </g>\n   <g id=\"line2d_74\">\n    <path d=\"M 34.954394 13.5 \nL 44.698573 13.541452 \nL 54.442752 13.581931 \nL 64.186931 13.625438 \nL 73.93111 13.691809 \nL 83.675289 13.801836 \nL 93.419468 14.040453 \nL 103.163647 14.635051 \nL 112.907826 16.91969 \nL 122.652006 34.648168 \nL 132.396185 70.987747 \nL 142.140364 90.476533 \n\" clip-path=\"url(#p3d67fa2acf)\" style=\"fill: none; stroke: #1f77b4; stroke-width: 1.5; stroke-linecap: square\"/>\n   </g>\n   <g id=\"line2d_75\">\n    <path d=\"M 49.633125 13.568384 \nL 69.163125 13.658985 \nL 88.693125 13.898011 \nL 108.223125 15.281274 \nL 127.753125 61.089272 \nL 147.283125 97.307266 \n\" clip-path=\"url(#p3d67fa2acf)\" style=\"fill: none; stroke-dasharray: 5.55,2.4; stroke-dashoffset: 0; stroke: #ff7f0e; stroke-width: 1.5\"/>\n   </g>\n   <g id=\"line2d_76\">\n    <path d=\"M 49.633125 139.5 \nL 69.163125 133.979589 \nL 88.693125 127.373195 \nL 108.223125 125.382227 \nL 127.753125 119.44326 \n\" clip-path=\"url(#p3d67fa2acf)\" style=\"fill: none; stroke-dasharray: 9.6,2.4,1.5,2.4; stroke-dashoffset: 0; stroke: #2ca02c; stroke-width: 1.5\"/>\n   </g>\n   <g id=\"line2d_77\">\n    <path d=\"M 34.954394 13.5 \nL 44.698573 13.541452 \nL 54.442752 13.581931 \nL 64.186931 13.625438 \nL 73.93111 13.691809 \nL 83.675289 13.801836 \nL 93.419468 14.040453 \nL 103.163647 14.635051 \nL 112.907826 16.91969 \nL 122.652006 34.648168 \nL 132.396185 70.987747 \nL 142.140364 90.476533 \n\" clip-path=\"url(#p3d67fa2acf)\" style=\"fill: none; stroke: #1f77b4; stroke-width: 1.5; stroke-linecap: square\"/>\n   </g>\n   <g id=\"line2d_78\">\n    <path d=\"M 49.633125 13.568384 \nL 69.163125 13.658985 \nL 88.693125 13.898011 \nL 108.223125 15.281274 \nL 127.753125 61.089272 \nL 147.283125 97.307266 \n\" clip-path=\"url(#p3d67fa2acf)\" style=\"fill: none; stroke-dasharray: 5.55,2.4; stroke-dashoffset: 0; stroke: #ff7f0e; stroke-width: 1.5\"/>\n   </g>\n   <g id=\"line2d_79\">\n    <path d=\"M 49.633125 139.5 \nL 69.163125 133.979589 \nL 88.693125 127.373195 \nL 108.223125 125.382227 \nL 127.753125 119.44326 \nL 147.283125 106.179567 \n\" clip-path=\"url(#p3d67fa2acf)\" style=\"fill: none; stroke-dasharray: 9.6,2.4,1.5,2.4; stroke-dashoffset: 0; stroke: #2ca02c; stroke-width: 1.5\"/>\n   </g>\n   <g id=\"line2d_80\">\n    <path d=\"M 34.954394 13.5 \nL 44.698573 13.541452 \nL 54.442752 13.581931 \nL 64.186931 13.625438 \nL 73.93111 13.691809 \nL 83.675289 13.801836 \nL 93.419468 14.040453 \nL 103.163647 14.635051 \nL 112.907826 16.91969 \nL 122.652006 34.648168 \nL 132.396185 70.987747 \nL 142.140364 90.476533 \nL 151.884543 97.511413 \n\" clip-path=\"url(#p3d67fa2acf)\" style=\"fill: none; stroke: #1f77b4; stroke-width: 1.5; stroke-linecap: square\"/>\n   </g>\n   <g id=\"line2d_81\">\n    <path d=\"M 49.633125 13.568384 \nL 69.163125 13.658985 \nL 88.693125 13.898011 \nL 108.223125 15.281274 \nL 127.753125 61.089272 \nL 147.283125 97.307266 \n\" clip-path=\"url(#p3d67fa2acf)\" style=\"fill: none; stroke-dasharray: 5.55,2.4; stroke-dashoffset: 0; stroke: #ff7f0e; stroke-width: 1.5\"/>\n   </g>\n   <g id=\"line2d_82\">\n    <path d=\"M 49.633125 139.5 \nL 69.163125 133.979589 \nL 88.693125 127.373195 \nL 108.223125 125.382227 \nL 127.753125 119.44326 \nL 147.283125 106.179567 \n\" clip-path=\"url(#p3d67fa2acf)\" style=\"fill: none; stroke-dasharray: 9.6,2.4,1.5,2.4; stroke-dashoffset: 0; stroke: #2ca02c; stroke-width: 1.5\"/>\n   </g>\n   <g id=\"line2d_83\">\n    <path d=\"M 34.954394 13.5 \nL 44.698573 13.541452 \nL 54.442752 13.581931 \nL 64.186931 13.625438 \nL 73.93111 13.691809 \nL 83.675289 13.801836 \nL 93.419468 14.040453 \nL 103.163647 14.635051 \nL 112.907826 16.91969 \nL 122.652006 34.648168 \nL 132.396185 70.987747 \nL 142.140364 90.476533 \nL 151.884543 97.511413 \nL 161.628722 102.64375 \n\" clip-path=\"url(#p3d67fa2acf)\" style=\"fill: none; stroke: #1f77b4; stroke-width: 1.5; stroke-linecap: square\"/>\n   </g>\n   <g id=\"line2d_84\">\n    <path d=\"M 49.633125 13.568384 \nL 69.163125 13.658985 \nL 88.693125 13.898011 \nL 108.223125 15.281274 \nL 127.753125 61.089272 \nL 147.283125 97.307266 \n\" clip-path=\"url(#p3d67fa2acf)\" style=\"fill: none; stroke-dasharray: 5.55,2.4; stroke-dashoffset: 0; stroke: #ff7f0e; stroke-width: 1.5\"/>\n   </g>\n   <g id=\"line2d_85\">\n    <path d=\"M 49.633125 139.5 \nL 69.163125 133.979589 \nL 88.693125 127.373195 \nL 108.223125 125.382227 \nL 127.753125 119.44326 \nL 147.283125 106.179567 \n\" clip-path=\"url(#p3d67fa2acf)\" style=\"fill: none; stroke-dasharray: 9.6,2.4,1.5,2.4; stroke-dashoffset: 0; stroke: #2ca02c; stroke-width: 1.5\"/>\n   </g>\n   <g id=\"line2d_86\">\n    <path d=\"M 34.954394 13.5 \nL 44.698573 13.541452 \nL 54.442752 13.581931 \nL 64.186931 13.625438 \nL 73.93111 13.691809 \nL 83.675289 13.801836 \nL 93.419468 14.040453 \nL 103.163647 14.635051 \nL 112.907826 16.91969 \nL 122.652006 34.648168 \nL 132.396185 70.987747 \nL 142.140364 90.476533 \nL 151.884543 97.511413 \nL 161.628722 102.64375 \n\" clip-path=\"url(#p3d67fa2acf)\" style=\"fill: none; stroke: #1f77b4; stroke-width: 1.5; stroke-linecap: square\"/>\n   </g>\n   <g id=\"line2d_87\">\n    <path d=\"M 49.633125 13.568384 \nL 69.163125 13.658985 \nL 88.693125 13.898011 \nL 108.223125 15.281274 \nL 127.753125 61.089272 \nL 147.283125 97.307266 \nL 166.813125 105.29131 \n\" clip-path=\"url(#p3d67fa2acf)\" style=\"fill: none; stroke-dasharray: 5.55,2.4; stroke-dashoffset: 0; stroke: #ff7f0e; stroke-width: 1.5\"/>\n   </g>\n   <g id=\"line2d_88\">\n    <path d=\"M 49.633125 139.5 \nL 69.163125 133.979589 \nL 88.693125 127.373195 \nL 108.223125 125.382227 \nL 127.753125 119.44326 \nL 147.283125 106.179567 \n\" clip-path=\"url(#p3d67fa2acf)\" style=\"fill: none; stroke-dasharray: 9.6,2.4,1.5,2.4; stroke-dashoffset: 0; stroke: #2ca02c; stroke-width: 1.5\"/>\n   </g>\n   <g id=\"line2d_89\">\n    <path d=\"M 34.954394 13.5 \nL 44.698573 13.541452 \nL 54.442752 13.581931 \nL 64.186931 13.625438 \nL 73.93111 13.691809 \nL 83.675289 13.801836 \nL 93.419468 14.040453 \nL 103.163647 14.635051 \nL 112.907826 16.91969 \nL 122.652006 34.648168 \nL 132.396185 70.987747 \nL 142.140364 90.476533 \nL 151.884543 97.511413 \nL 161.628722 102.64375 \n\" clip-path=\"url(#p3d67fa2acf)\" style=\"fill: none; stroke: #1f77b4; stroke-width: 1.5; stroke-linecap: square\"/>\n   </g>\n   <g id=\"line2d_90\">\n    <path d=\"M 49.633125 13.568384 \nL 69.163125 13.658985 \nL 88.693125 13.898011 \nL 108.223125 15.281274 \nL 127.753125 61.089272 \nL 147.283125 97.307266 \nL 166.813125 105.29131 \n\" clip-path=\"url(#p3d67fa2acf)\" style=\"fill: none; stroke-dasharray: 5.55,2.4; stroke-dashoffset: 0; stroke: #ff7f0e; stroke-width: 1.5\"/>\n   </g>\n   <g id=\"line2d_91\">\n    <path d=\"M 49.633125 139.5 \nL 69.163125 133.979589 \nL 88.693125 127.373195 \nL 108.223125 125.382227 \nL 127.753125 119.44326 \nL 147.283125 106.179567 \nL 166.813125 102.831121 \n\" clip-path=\"url(#p3d67fa2acf)\" style=\"fill: none; stroke-dasharray: 9.6,2.4,1.5,2.4; stroke-dashoffset: 0; stroke: #2ca02c; stroke-width: 1.5\"/>\n   </g>\n   <g id=\"line2d_92\">\n    <path d=\"M 34.954394 13.5 \nL 44.698573 13.541452 \nL 54.442752 13.581931 \nL 64.186931 13.625438 \nL 73.93111 13.691809 \nL 83.675289 13.801836 \nL 93.419468 14.040453 \nL 103.163647 14.635051 \nL 112.907826 16.91969 \nL 122.652006 34.648168 \nL 132.396185 70.987747 \nL 142.140364 90.476533 \nL 151.884543 97.511413 \nL 161.628722 102.64375 \nL 171.372901 106.53879 \n\" clip-path=\"url(#p3d67fa2acf)\" style=\"fill: none; stroke: #1f77b4; stroke-width: 1.5; stroke-linecap: square\"/>\n   </g>\n   <g id=\"line2d_93\">\n    <path d=\"M 49.633125 13.568384 \nL 69.163125 13.658985 \nL 88.693125 13.898011 \nL 108.223125 15.281274 \nL 127.753125 61.089272 \nL 147.283125 97.307266 \nL 166.813125 105.29131 \n\" clip-path=\"url(#p3d67fa2acf)\" style=\"fill: none; stroke-dasharray: 5.55,2.4; stroke-dashoffset: 0; stroke: #ff7f0e; stroke-width: 1.5\"/>\n   </g>\n   <g id=\"line2d_94\">\n    <path d=\"M 49.633125 139.5 \nL 69.163125 133.979589 \nL 88.693125 127.373195 \nL 108.223125 125.382227 \nL 127.753125 119.44326 \nL 147.283125 106.179567 \nL 166.813125 102.831121 \n\" clip-path=\"url(#p3d67fa2acf)\" style=\"fill: none; stroke-dasharray: 9.6,2.4,1.5,2.4; stroke-dashoffset: 0; stroke: #2ca02c; stroke-width: 1.5\"/>\n   </g>\n   <g id=\"line2d_95\">\n    <path d=\"M 34.954394 13.5 \nL 44.698573 13.541452 \nL 54.442752 13.581931 \nL 64.186931 13.625438 \nL 73.93111 13.691809 \nL 83.675289 13.801836 \nL 93.419468 14.040453 \nL 103.163647 14.635051 \nL 112.907826 16.91969 \nL 122.652006 34.648168 \nL 132.396185 70.987747 \nL 142.140364 90.476533 \nL 151.884543 97.511413 \nL 161.628722 102.64375 \nL 171.372901 106.53879 \nL 181.11708 109.531689 \n\" clip-path=\"url(#p3d67fa2acf)\" style=\"fill: none; stroke: #1f77b4; stroke-width: 1.5; stroke-linecap: square\"/>\n   </g>\n   <g id=\"line2d_96\">\n    <path d=\"M 49.633125 13.568384 \nL 69.163125 13.658985 \nL 88.693125 13.898011 \nL 108.223125 15.281274 \nL 127.753125 61.089272 \nL 147.283125 97.307266 \nL 166.813125 105.29131 \n\" clip-path=\"url(#p3d67fa2acf)\" style=\"fill: none; stroke-dasharray: 5.55,2.4; stroke-dashoffset: 0; stroke: #ff7f0e; stroke-width: 1.5\"/>\n   </g>\n   <g id=\"line2d_97\">\n    <path d=\"M 49.633125 139.5 \nL 69.163125 133.979589 \nL 88.693125 127.373195 \nL 108.223125 125.382227 \nL 127.753125 119.44326 \nL 147.283125 106.179567 \nL 166.813125 102.831121 \n\" clip-path=\"url(#p3d67fa2acf)\" style=\"fill: none; stroke-dasharray: 9.6,2.4,1.5,2.4; stroke-dashoffset: 0; stroke: #2ca02c; stroke-width: 1.5\"/>\n   </g>\n   <g id=\"line2d_98\">\n    <path d=\"M 34.954394 13.5 \nL 44.698573 13.541452 \nL 54.442752 13.581931 \nL 64.186931 13.625438 \nL 73.93111 13.691809 \nL 83.675289 13.801836 \nL 93.419468 14.040453 \nL 103.163647 14.635051 \nL 112.907826 16.91969 \nL 122.652006 34.648168 \nL 132.396185 70.987747 \nL 142.140364 90.476533 \nL 151.884543 97.511413 \nL 161.628722 102.64375 \nL 171.372901 106.53879 \nL 181.11708 109.531689 \n\" clip-path=\"url(#p3d67fa2acf)\" style=\"fill: none; stroke: #1f77b4; stroke-width: 1.5; stroke-linecap: square\"/>\n   </g>\n   <g id=\"line2d_99\">\n    <path d=\"M 49.633125 13.568384 \nL 69.163125 13.658985 \nL 88.693125 13.898011 \nL 108.223125 15.281274 \nL 127.753125 61.089272 \nL 147.283125 97.307266 \nL 166.813125 105.29131 \nL 186.343125 107.427771 \n\" clip-path=\"url(#p3d67fa2acf)\" style=\"fill: none; stroke-dasharray: 5.55,2.4; stroke-dashoffset: 0; stroke: #ff7f0e; stroke-width: 1.5\"/>\n   </g>\n   <g id=\"line2d_100\">\n    <path d=\"M 49.633125 139.5 \nL 69.163125 133.979589 \nL 88.693125 127.373195 \nL 108.223125 125.382227 \nL 127.753125 119.44326 \nL 147.283125 106.179567 \nL 166.813125 102.831121 \n\" clip-path=\"url(#p3d67fa2acf)\" style=\"fill: none; stroke-dasharray: 9.6,2.4,1.5,2.4; stroke-dashoffset: 0; stroke: #2ca02c; stroke-width: 1.5\"/>\n   </g>\n   <g id=\"line2d_101\">\n    <path d=\"M 34.954394 13.5 \nL 44.698573 13.541452 \nL 54.442752 13.581931 \nL 64.186931 13.625438 \nL 73.93111 13.691809 \nL 83.675289 13.801836 \nL 93.419468 14.040453 \nL 103.163647 14.635051 \nL 112.907826 16.91969 \nL 122.652006 34.648168 \nL 132.396185 70.987747 \nL 142.140364 90.476533 \nL 151.884543 97.511413 \nL 161.628722 102.64375 \nL 171.372901 106.53879 \nL 181.11708 109.531689 \n\" clip-path=\"url(#p3d67fa2acf)\" style=\"fill: none; stroke: #1f77b4; stroke-width: 1.5; stroke-linecap: square\"/>\n   </g>\n   <g id=\"line2d_102\">\n    <path d=\"M 49.633125 13.568384 \nL 69.163125 13.658985 \nL 88.693125 13.898011 \nL 108.223125 15.281274 \nL 127.753125 61.089272 \nL 147.283125 97.307266 \nL 166.813125 105.29131 \nL 186.343125 107.427771 \n\" clip-path=\"url(#p3d67fa2acf)\" style=\"fill: none; stroke-dasharray: 5.55,2.4; stroke-dashoffset: 0; stroke: #ff7f0e; stroke-width: 1.5\"/>\n   </g>\n   <g id=\"line2d_103\">\n    <path d=\"M 49.633125 139.5 \nL 69.163125 133.979589 \nL 88.693125 127.373195 \nL 108.223125 125.382227 \nL 127.753125 119.44326 \nL 147.283125 106.179567 \nL 166.813125 102.831121 \nL 186.343125 102.09582 \n\" clip-path=\"url(#p3d67fa2acf)\" style=\"fill: none; stroke-dasharray: 9.6,2.4,1.5,2.4; stroke-dashoffset: 0; stroke: #2ca02c; stroke-width: 1.5\"/>\n   </g>\n   <g id=\"line2d_104\">\n    <path d=\"M 34.954394 13.5 \nL 44.698573 13.541452 \nL 54.442752 13.581931 \nL 64.186931 13.625438 \nL 73.93111 13.691809 \nL 83.675289 13.801836 \nL 93.419468 14.040453 \nL 103.163647 14.635051 \nL 112.907826 16.91969 \nL 122.652006 34.648168 \nL 132.396185 70.987747 \nL 142.140364 90.476533 \nL 151.884543 97.511413 \nL 161.628722 102.64375 \nL 171.372901 106.53879 \nL 181.11708 109.531689 \nL 190.861259 111.912421 \n\" clip-path=\"url(#p3d67fa2acf)\" style=\"fill: none; stroke: #1f77b4; stroke-width: 1.5; stroke-linecap: square\"/>\n   </g>\n   <g id=\"line2d_105\">\n    <path d=\"M 49.633125 13.568384 \nL 69.163125 13.658985 \nL 88.693125 13.898011 \nL 108.223125 15.281274 \nL 127.753125 61.089272 \nL 147.283125 97.307266 \nL 166.813125 105.29131 \nL 186.343125 107.427771 \n\" clip-path=\"url(#p3d67fa2acf)\" style=\"fill: none; stroke-dasharray: 5.55,2.4; stroke-dashoffset: 0; stroke: #ff7f0e; stroke-width: 1.5\"/>\n   </g>\n   <g id=\"line2d_106\">\n    <path d=\"M 49.633125 139.5 \nL 69.163125 133.979589 \nL 88.693125 127.373195 \nL 108.223125 125.382227 \nL 127.753125 119.44326 \nL 147.283125 106.179567 \nL 166.813125 102.831121 \nL 186.343125 102.09582 \n\" clip-path=\"url(#p3d67fa2acf)\" style=\"fill: none; stroke-dasharray: 9.6,2.4,1.5,2.4; stroke-dashoffset: 0; stroke: #2ca02c; stroke-width: 1.5\"/>\n   </g>\n   <g id=\"line2d_107\">\n    <path d=\"M 34.954394 13.5 \nL 44.698573 13.541452 \nL 54.442752 13.581931 \nL 64.186931 13.625438 \nL 73.93111 13.691809 \nL 83.675289 13.801836 \nL 93.419468 14.040453 \nL 103.163647 14.635051 \nL 112.907826 16.91969 \nL 122.652006 34.648168 \nL 132.396185 70.987747 \nL 142.140364 90.476533 \nL 151.884543 97.511413 \nL 161.628722 102.64375 \nL 171.372901 106.53879 \nL 181.11708 109.531689 \nL 190.861259 111.912421 \nL 200.605438 107.809564 \n\" clip-path=\"url(#p3d67fa2acf)\" style=\"fill: none; stroke: #1f77b4; stroke-width: 1.5; stroke-linecap: square\"/>\n   </g>\n   <g id=\"line2d_108\">\n    <path d=\"M 49.633125 13.568384 \nL 69.163125 13.658985 \nL 88.693125 13.898011 \nL 108.223125 15.281274 \nL 127.753125 61.089272 \nL 147.283125 97.307266 \nL 166.813125 105.29131 \nL 186.343125 107.427771 \n\" clip-path=\"url(#p3d67fa2acf)\" style=\"fill: none; stroke-dasharray: 5.55,2.4; stroke-dashoffset: 0; stroke: #ff7f0e; stroke-width: 1.5\"/>\n   </g>\n   <g id=\"line2d_109\">\n    <path d=\"M 49.633125 139.5 \nL 69.163125 133.979589 \nL 88.693125 127.373195 \nL 108.223125 125.382227 \nL 127.753125 119.44326 \nL 147.283125 106.179567 \nL 166.813125 102.831121 \nL 186.343125 102.09582 \n\" clip-path=\"url(#p3d67fa2acf)\" style=\"fill: none; stroke-dasharray: 9.6,2.4,1.5,2.4; stroke-dashoffset: 0; stroke: #2ca02c; stroke-width: 1.5\"/>\n   </g>\n   <g id=\"line2d_110\">\n    <path d=\"M 34.954394 13.5 \nL 44.698573 13.541452 \nL 54.442752 13.581931 \nL 64.186931 13.625438 \nL 73.93111 13.691809 \nL 83.675289 13.801836 \nL 93.419468 14.040453 \nL 103.163647 14.635051 \nL 112.907826 16.91969 \nL 122.652006 34.648168 \nL 132.396185 70.987747 \nL 142.140364 90.476533 \nL 151.884543 97.511413 \nL 161.628722 102.64375 \nL 171.372901 106.53879 \nL 181.11708 109.531689 \nL 190.861259 111.912421 \nL 200.605438 107.809564 \n\" clip-path=\"url(#p3d67fa2acf)\" style=\"fill: none; stroke: #1f77b4; stroke-width: 1.5; stroke-linecap: square\"/>\n   </g>\n   <g id=\"line2d_111\">\n    <path d=\"M 49.633125 13.568384 \nL 69.163125 13.658985 \nL 88.693125 13.898011 \nL 108.223125 15.281274 \nL 127.753125 61.089272 \nL 147.283125 97.307266 \nL 166.813125 105.29131 \nL 186.343125 107.427771 \nL 205.873125 112.213825 \n\" clip-path=\"url(#p3d67fa2acf)\" style=\"fill: none; stroke-dasharray: 5.55,2.4; stroke-dashoffset: 0; stroke: #ff7f0e; stroke-width: 1.5\"/>\n   </g>\n   <g id=\"line2d_112\">\n    <path d=\"M 49.633125 139.5 \nL 69.163125 133.979589 \nL 88.693125 127.373195 \nL 108.223125 125.382227 \nL 127.753125 119.44326 \nL 147.283125 106.179567 \nL 166.813125 102.831121 \nL 186.343125 102.09582 \n\" clip-path=\"url(#p3d67fa2acf)\" style=\"fill: none; stroke-dasharray: 9.6,2.4,1.5,2.4; stroke-dashoffset: 0; stroke: #2ca02c; stroke-width: 1.5\"/>\n   </g>\n   <g id=\"line2d_113\">\n    <path d=\"M 34.954394 13.5 \nL 44.698573 13.541452 \nL 54.442752 13.581931 \nL 64.186931 13.625438 \nL 73.93111 13.691809 \nL 83.675289 13.801836 \nL 93.419468 14.040453 \nL 103.163647 14.635051 \nL 112.907826 16.91969 \nL 122.652006 34.648168 \nL 132.396185 70.987747 \nL 142.140364 90.476533 \nL 151.884543 97.511413 \nL 161.628722 102.64375 \nL 171.372901 106.53879 \nL 181.11708 109.531689 \nL 190.861259 111.912421 \nL 200.605438 107.809564 \n\" clip-path=\"url(#p3d67fa2acf)\" style=\"fill: none; stroke: #1f77b4; stroke-width: 1.5; stroke-linecap: square\"/>\n   </g>\n   <g id=\"line2d_114\">\n    <path d=\"M 49.633125 13.568384 \nL 69.163125 13.658985 \nL 88.693125 13.898011 \nL 108.223125 15.281274 \nL 127.753125 61.089272 \nL 147.283125 97.307266 \nL 166.813125 105.29131 \nL 186.343125 107.427771 \nL 205.873125 112.213825 \n\" clip-path=\"url(#p3d67fa2acf)\" style=\"fill: none; stroke-dasharray: 5.55,2.4; stroke-dashoffset: 0; stroke: #ff7f0e; stroke-width: 1.5\"/>\n   </g>\n   <g id=\"line2d_115\">\n    <path d=\"M 49.633125 139.5 \nL 69.163125 133.979589 \nL 88.693125 127.373195 \nL 108.223125 125.382227 \nL 127.753125 119.44326 \nL 147.283125 106.179567 \nL 166.813125 102.831121 \nL 186.343125 102.09582 \nL 205.873125 100.189695 \n\" clip-path=\"url(#p3d67fa2acf)\" style=\"fill: none; stroke-dasharray: 9.6,2.4,1.5,2.4; stroke-dashoffset: 0; stroke: #2ca02c; stroke-width: 1.5\"/>\n   </g>\n   <g id=\"line2d_116\">\n    <path d=\"M 34.954394 13.5 \nL 44.698573 13.541452 \nL 54.442752 13.581931 \nL 64.186931 13.625438 \nL 73.93111 13.691809 \nL 83.675289 13.801836 \nL 93.419468 14.040453 \nL 103.163647 14.635051 \nL 112.907826 16.91969 \nL 122.652006 34.648168 \nL 132.396185 70.987747 \nL 142.140364 90.476533 \nL 151.884543 97.511413 \nL 161.628722 102.64375 \nL 171.372901 106.53879 \nL 181.11708 109.531689 \nL 190.861259 111.912421 \nL 200.605438 107.809564 \nL 210.349618 115.026192 \n\" clip-path=\"url(#p3d67fa2acf)\" style=\"fill: none; stroke: #1f77b4; stroke-width: 1.5; stroke-linecap: square\"/>\n   </g>\n   <g id=\"line2d_117\">\n    <path d=\"M 49.633125 13.568384 \nL 69.163125 13.658985 \nL 88.693125 13.898011 \nL 108.223125 15.281274 \nL 127.753125 61.089272 \nL 147.283125 97.307266 \nL 166.813125 105.29131 \nL 186.343125 107.427771 \nL 205.873125 112.213825 \n\" clip-path=\"url(#p3d67fa2acf)\" style=\"fill: none; stroke-dasharray: 5.55,2.4; stroke-dashoffset: 0; stroke: #ff7f0e; stroke-width: 1.5\"/>\n   </g>\n   <g id=\"line2d_118\">\n    <path d=\"M 49.633125 139.5 \nL 69.163125 133.979589 \nL 88.693125 127.373195 \nL 108.223125 125.382227 \nL 127.753125 119.44326 \nL 147.283125 106.179567 \nL 166.813125 102.831121 \nL 186.343125 102.09582 \nL 205.873125 100.189695 \n\" clip-path=\"url(#p3d67fa2acf)\" style=\"fill: none; stroke-dasharray: 9.6,2.4,1.5,2.4; stroke-dashoffset: 0; stroke: #2ca02c; stroke-width: 1.5\"/>\n   </g>\n   <g id=\"line2d_119\">\n    <path d=\"M 34.954394 13.5 \nL 44.698573 13.541452 \nL 54.442752 13.581931 \nL 64.186931 13.625438 \nL 73.93111 13.691809 \nL 83.675289 13.801836 \nL 93.419468 14.040453 \nL 103.163647 14.635051 \nL 112.907826 16.91969 \nL 122.652006 34.648168 \nL 132.396185 70.987747 \nL 142.140364 90.476533 \nL 151.884543 97.511413 \nL 161.628722 102.64375 \nL 171.372901 106.53879 \nL 181.11708 109.531689 \nL 190.861259 111.912421 \nL 200.605438 107.809564 \nL 210.349618 115.026192 \nL 220.093797 116.305918 \n\" clip-path=\"url(#p3d67fa2acf)\" style=\"fill: none; stroke: #1f77b4; stroke-width: 1.5; stroke-linecap: square\"/>\n   </g>\n   <g id=\"line2d_120\">\n    <path d=\"M 49.633125 13.568384 \nL 69.163125 13.658985 \nL 88.693125 13.898011 \nL 108.223125 15.281274 \nL 127.753125 61.089272 \nL 147.283125 97.307266 \nL 166.813125 105.29131 \nL 186.343125 107.427771 \nL 205.873125 112.213825 \n\" clip-path=\"url(#p3d67fa2acf)\" style=\"fill: none; stroke-dasharray: 5.55,2.4; stroke-dashoffset: 0; stroke: #ff7f0e; stroke-width: 1.5\"/>\n   </g>\n   <g id=\"line2d_121\">\n    <path d=\"M 49.633125 139.5 \nL 69.163125 133.979589 \nL 88.693125 127.373195 \nL 108.223125 125.382227 \nL 127.753125 119.44326 \nL 147.283125 106.179567 \nL 166.813125 102.831121 \nL 186.343125 102.09582 \nL 205.873125 100.189695 \n\" clip-path=\"url(#p3d67fa2acf)\" style=\"fill: none; stroke-dasharray: 9.6,2.4,1.5,2.4; stroke-dashoffset: 0; stroke: #2ca02c; stroke-width: 1.5\"/>\n   </g>\n   <g id=\"line2d_122\">\n    <path d=\"M 34.954394 13.5 \nL 44.698573 13.541452 \nL 54.442752 13.581931 \nL 64.186931 13.625438 \nL 73.93111 13.691809 \nL 83.675289 13.801836 \nL 93.419468 14.040453 \nL 103.163647 14.635051 \nL 112.907826 16.91969 \nL 122.652006 34.648168 \nL 132.396185 70.987747 \nL 142.140364 90.476533 \nL 151.884543 97.511413 \nL 161.628722 102.64375 \nL 171.372901 106.53879 \nL 181.11708 109.531689 \nL 190.861259 111.912421 \nL 200.605438 107.809564 \nL 210.349618 115.026192 \nL 220.093797 116.305918 \n\" clip-path=\"url(#p3d67fa2acf)\" style=\"fill: none; stroke: #1f77b4; stroke-width: 1.5; stroke-linecap: square\"/>\n   </g>\n   <g id=\"line2d_123\">\n    <path d=\"M 49.633125 13.568384 \nL 69.163125 13.658985 \nL 88.693125 13.898011 \nL 108.223125 15.281274 \nL 127.753125 61.089272 \nL 147.283125 97.307266 \nL 166.813125 105.29131 \nL 186.343125 107.427771 \nL 205.873125 112.213825 \nL 225.403125 113.22057 \n\" clip-path=\"url(#p3d67fa2acf)\" style=\"fill: none; stroke-dasharray: 5.55,2.4; stroke-dashoffset: 0; stroke: #ff7f0e; stroke-width: 1.5\"/>\n   </g>\n   <g id=\"line2d_124\">\n    <path d=\"M 49.633125 139.5 \nL 69.163125 133.979589 \nL 88.693125 127.373195 \nL 108.223125 125.382227 \nL 127.753125 119.44326 \nL 147.283125 106.179567 \nL 166.813125 102.831121 \nL 186.343125 102.09582 \nL 205.873125 100.189695 \n\" clip-path=\"url(#p3d67fa2acf)\" style=\"fill: none; stroke-dasharray: 9.6,2.4,1.5,2.4; stroke-dashoffset: 0; stroke: #2ca02c; stroke-width: 1.5\"/>\n   </g>\n   <g id=\"line2d_125\">\n    <path d=\"M 34.954394 13.5 \nL 44.698573 13.541452 \nL 54.442752 13.581931 \nL 64.186931 13.625438 \nL 73.93111 13.691809 \nL 83.675289 13.801836 \nL 93.419468 14.040453 \nL 103.163647 14.635051 \nL 112.907826 16.91969 \nL 122.652006 34.648168 \nL 132.396185 70.987747 \nL 142.140364 90.476533 \nL 151.884543 97.511413 \nL 161.628722 102.64375 \nL 171.372901 106.53879 \nL 181.11708 109.531689 \nL 190.861259 111.912421 \nL 200.605438 107.809564 \nL 210.349618 115.026192 \nL 220.093797 116.305918 \n\" clip-path=\"url(#p3d67fa2acf)\" style=\"fill: none; stroke: #1f77b4; stroke-width: 1.5; stroke-linecap: square\"/>\n   </g>\n   <g id=\"line2d_126\">\n    <path d=\"M 49.633125 13.568384 \nL 69.163125 13.658985 \nL 88.693125 13.898011 \nL 108.223125 15.281274 \nL 127.753125 61.089272 \nL 147.283125 97.307266 \nL 166.813125 105.29131 \nL 186.343125 107.427771 \nL 205.873125 112.213825 \nL 225.403125 113.22057 \n\" clip-path=\"url(#p3d67fa2acf)\" style=\"fill: none; stroke-dasharray: 5.55,2.4; stroke-dashoffset: 0; stroke: #ff7f0e; stroke-width: 1.5\"/>\n   </g>\n   <g id=\"line2d_127\">\n    <path d=\"M 49.633125 139.5 \nL 69.163125 133.979589 \nL 88.693125 127.373195 \nL 108.223125 125.382227 \nL 127.753125 119.44326 \nL 147.283125 106.179567 \nL 166.813125 102.831121 \nL 186.343125 102.09582 \nL 205.873125 100.189695 \nL 225.403125 100.46119 \n\" clip-path=\"url(#p3d67fa2acf)\" style=\"fill: none; stroke-dasharray: 9.6,2.4,1.5,2.4; stroke-dashoffset: 0; stroke: #2ca02c; stroke-width: 1.5\"/>\n   </g>\n   <g id=\"patch_3\">\n    <path d=\"M 30.103125 145.8 \nL 30.103125 7.2 \n\" style=\"fill: none; stroke: #000000; stroke-width: 0.8; stroke-linejoin: miter; stroke-linecap: square\"/>\n   </g>\n   <g id=\"patch_4\">\n    <path d=\"M 225.403125 145.8 \nL 225.403125 7.2 \n\" style=\"fill: none; stroke: #000000; stroke-width: 0.8; stroke-linejoin: miter; stroke-linecap: square\"/>\n   </g>\n   <g id=\"patch_5\">\n    <path d=\"M 30.103125 145.8 \nL 225.403125 145.8 \n\" style=\"fill: none; stroke: #000000; stroke-width: 0.8; stroke-linejoin: miter; stroke-linecap: square\"/>\n   </g>\n   <g id=\"patch_6\">\n    <path d=\"M 30.103125 7.2 \nL 225.403125 7.2 \n\" style=\"fill: none; stroke: #000000; stroke-width: 0.8; stroke-linejoin: miter; stroke-linecap: square\"/>\n   </g>\n   <g id=\"legend_1\">\n    <g id=\"patch_7\">\n     <path d=\"M 138.8125 60.06875 \nL 218.403125 60.06875 \nQ 220.403125 60.06875 220.403125 58.06875 \nL 220.403125 14.2 \nQ 220.403125 12.2 218.403125 12.2 \nL 138.8125 12.2 \nQ 136.8125 12.2 136.8125 14.2 \nL 136.8125 58.06875 \nQ 136.8125 60.06875 138.8125 60.06875 \nz\n\" style=\"fill: #ffffff; opacity: 0.8; stroke: #cccccc; stroke-linejoin: miter\"/>\n    </g>\n    <g id=\"line2d_128\">\n     <path d=\"M 140.8125 20.298438 \nL 150.8125 20.298438 \nL 160.8125 20.298438 \n\" style=\"fill: none; stroke: #1f77b4; stroke-width: 1.5; stroke-linecap: square\"/>\n    </g>\n    <g id=\"text_13\">\n     <!-- train_loss -->\n     <g transform=\"translate(168.8125 23.798438) scale(0.1 -0.1)\">\n      <defs>\n       <path id=\"DejaVuSans-74\" d=\"M 1172 4494 \nL 1172 3500 \nL 2356 3500 \nL 2356 3053 \nL 1172 3053 \nL 1172 1153 \nQ 1172 725 1289 603 \nQ 1406 481 1766 481 \nL 2356 481 \nL 2356 0 \nL 1766 0 \nQ 1100 0 847 248 \nQ 594 497 594 1153 \nL 594 3053 \nL 172 3053 \nL 172 3500 \nL 594 3500 \nL 594 4494 \nL 1172 4494 \nz\n\" transform=\"scale(0.015625)\"/>\n       <path id=\"DejaVuSans-72\" d=\"M 2631 2963 \nQ 2534 3019 2420 3045 \nQ 2306 3072 2169 3072 \nQ 1681 3072 1420 2755 \nQ 1159 2438 1159 1844 \nL 1159 0 \nL 581 0 \nL 581 3500 \nL 1159 3500 \nL 1159 2956 \nQ 1341 3275 1631 3429 \nQ 1922 3584 2338 3584 \nQ 2397 3584 2469 3576 \nQ 2541 3569 2628 3553 \nL 2631 2963 \nz\n\" transform=\"scale(0.015625)\"/>\n       <path id=\"DejaVuSans-61\" d=\"M 2194 1759 \nQ 1497 1759 1228 1600 \nQ 959 1441 959 1056 \nQ 959 750 1161 570 \nQ 1363 391 1709 391 \nQ 2188 391 2477 730 \nQ 2766 1069 2766 1631 \nL 2766 1759 \nL 2194 1759 \nz\nM 3341 1997 \nL 3341 0 \nL 2766 0 \nL 2766 531 \nQ 2569 213 2275 61 \nQ 1981 -91 1556 -91 \nQ 1019 -91 701 211 \nQ 384 513 384 1019 \nQ 384 1609 779 1909 \nQ 1175 2209 1959 2209 \nL 2766 2209 \nL 2766 2266 \nQ 2766 2663 2505 2880 \nQ 2244 3097 1772 3097 \nQ 1472 3097 1187 3025 \nQ 903 2953 641 2809 \nL 641 3341 \nQ 956 3463 1253 3523 \nQ 1550 3584 1831 3584 \nQ 2591 3584 2966 3190 \nQ 3341 2797 3341 1997 \nz\n\" transform=\"scale(0.015625)\"/>\n       <path id=\"DejaVuSans-69\" d=\"M 603 3500 \nL 1178 3500 \nL 1178 0 \nL 603 0 \nL 603 3500 \nz\nM 603 4863 \nL 1178 4863 \nL 1178 4134 \nL 603 4134 \nL 603 4863 \nz\n\" transform=\"scale(0.015625)\"/>\n       <path id=\"DejaVuSans-6e\" d=\"M 3513 2113 \nL 3513 0 \nL 2938 0 \nL 2938 2094 \nQ 2938 2591 2744 2837 \nQ 2550 3084 2163 3084 \nQ 1697 3084 1428 2787 \nQ 1159 2491 1159 1978 \nL 1159 0 \nL 581 0 \nL 581 3500 \nL 1159 3500 \nL 1159 2956 \nQ 1366 3272 1645 3428 \nQ 1925 3584 2291 3584 \nQ 2894 3584 3203 3211 \nQ 3513 2838 3513 2113 \nz\n\" transform=\"scale(0.015625)\"/>\n       <path id=\"DejaVuSans-5f\" d=\"M 3263 -1063 \nL 3263 -1509 \nL -63 -1509 \nL -63 -1063 \nL 3263 -1063 \nz\n\" transform=\"scale(0.015625)\"/>\n       <path id=\"DejaVuSans-6c\" d=\"M 603 4863 \nL 1178 4863 \nL 1178 0 \nL 603 0 \nL 603 4863 \nz\n\" transform=\"scale(0.015625)\"/>\n       <path id=\"DejaVuSans-73\" d=\"M 2834 3397 \nL 2834 2853 \nQ 2591 2978 2328 3040 \nQ 2066 3103 1784 3103 \nQ 1356 3103 1142 2972 \nQ 928 2841 928 2578 \nQ 928 2378 1081 2264 \nQ 1234 2150 1697 2047 \nL 1894 2003 \nQ 2506 1872 2764 1633 \nQ 3022 1394 3022 966 \nQ 3022 478 2636 193 \nQ 2250 -91 1575 -91 \nQ 1294 -91 989 -36 \nQ 684 19 347 128 \nL 347 722 \nQ 666 556 975 473 \nQ 1284 391 1588 391 \nQ 1994 391 2212 530 \nQ 2431 669 2431 922 \nQ 2431 1156 2273 1281 \nQ 2116 1406 1581 1522 \nL 1381 1569 \nQ 847 1681 609 1914 \nQ 372 2147 372 2553 \nQ 372 3047 722 3315 \nQ 1072 3584 1716 3584 \nQ 2034 3584 2315 3537 \nQ 2597 3491 2834 3397 \nz\n\" transform=\"scale(0.015625)\"/>\n      </defs>\n      <use xlink:href=\"#DejaVuSans-74\"/>\n      <use xlink:href=\"#DejaVuSans-72\" x=\"39.208984\"/>\n      <use xlink:href=\"#DejaVuSans-61\" x=\"80.322266\"/>\n      <use xlink:href=\"#DejaVuSans-69\" x=\"141.601562\"/>\n      <use xlink:href=\"#DejaVuSans-6e\" x=\"169.384766\"/>\n      <use xlink:href=\"#DejaVuSans-5f\" x=\"232.763672\"/>\n      <use xlink:href=\"#DejaVuSans-6c\" x=\"282.763672\"/>\n      <use xlink:href=\"#DejaVuSans-6f\" x=\"310.546875\"/>\n      <use xlink:href=\"#DejaVuSans-73\" x=\"371.728516\"/>\n      <use xlink:href=\"#DejaVuSans-73\" x=\"423.828125\"/>\n     </g>\n    </g>\n    <g id=\"line2d_129\">\n     <path d=\"M 140.8125 35.254688 \nL 150.8125 35.254688 \nL 160.8125 35.254688 \n\" style=\"fill: none; stroke-dasharray: 5.55,2.4; stroke-dashoffset: 0; stroke: #ff7f0e; stroke-width: 1.5\"/>\n    </g>\n    <g id=\"text_14\">\n     <!-- val_loss -->\n     <g transform=\"translate(168.8125 38.754688) scale(0.1 -0.1)\">\n      <defs>\n       <path id=\"DejaVuSans-76\" d=\"M 191 3500 \nL 800 3500 \nL 1894 563 \nL 2988 3500 \nL 3597 3500 \nL 2284 0 \nL 1503 0 \nL 191 3500 \nz\n\" transform=\"scale(0.015625)\"/>\n      </defs>\n      <use xlink:href=\"#DejaVuSans-76\"/>\n      <use xlink:href=\"#DejaVuSans-61\" x=\"59.179688\"/>\n      <use xlink:href=\"#DejaVuSans-6c\" x=\"120.458984\"/>\n      <use xlink:href=\"#DejaVuSans-5f\" x=\"148.242188\"/>\n      <use xlink:href=\"#DejaVuSans-6c\" x=\"198.242188\"/>\n      <use xlink:href=\"#DejaVuSans-6f\" x=\"226.025391\"/>\n      <use xlink:href=\"#DejaVuSans-73\" x=\"287.207031\"/>\n      <use xlink:href=\"#DejaVuSans-73\" x=\"339.306641\"/>\n     </g>\n    </g>\n    <g id=\"line2d_130\">\n     <path d=\"M 140.8125 50.210938 \nL 150.8125 50.210938 \nL 160.8125 50.210938 \n\" style=\"fill: none; stroke-dasharray: 9.6,2.4,1.5,2.4; stroke-dashoffset: 0; stroke: #2ca02c; stroke-width: 1.5\"/>\n    </g>\n    <g id=\"text_15\">\n     <!-- val_acc -->\n     <g transform=\"translate(168.8125 53.710938) scale(0.1 -0.1)\">\n      <use xlink:href=\"#DejaVuSans-76\"/>\n      <use xlink:href=\"#DejaVuSans-61\" x=\"59.179688\"/>\n      <use xlink:href=\"#DejaVuSans-6c\" x=\"120.458984\"/>\n      <use xlink:href=\"#DejaVuSans-5f\" x=\"148.242188\"/>\n      <use xlink:href=\"#DejaVuSans-61\" x=\"198.242188\"/>\n      <use xlink:href=\"#DejaVuSans-63\" x=\"259.521484\"/>\n      <use xlink:href=\"#DejaVuSans-63\" x=\"314.501953\"/>\n     </g>\n    </g>\n   </g>\n  </g>\n </g>\n <defs>\n  <clipPath id=\"p3d67fa2acf\">\n   <rect x=\"30.103125\" y=\"7.2\" width=\"195.3\" height=\"138.6\"/>\n  </clipPath>\n </defs>\n</svg>\n"
          },
          "metadata": {}
        }
      ]
    },
    {
      "cell_type": "markdown",
      "source": [
        "## EXERCISE"
      ],
      "metadata": {
        "id": "i06zgzlz9fMM"
      }
    },
    {
      "cell_type": "markdown",
      "source": [
        "### 1. GoogLeNet was so successful that it went through a number of iterations, progressively improving speed and accuracy. Try to implement and run some of them. They include the following:"
      ],
      "metadata": {
        "id": "RXeCkjFw9iot"
      }
    },
    {
      "cell_type": "markdown",
      "source": [
        "a. Add a batch normalization layer (Ioffe and Szegedy, 2015), as described later in Section 8.5."
      ],
      "metadata": {
        "id": "Gsm9bgDncThg"
      }
    },
    {
      "cell_type": "code",
      "source": [
        "!pip install -U d2l # Make sure you have the latest version of d2l installed\n",
        "\n",
        "import torch\n",
        "from torch import nn\n",
        "from d2l import torch as d2l\n",
        "\n",
        "class NormInception(nn.Module):\n",
        "    def __init__(self, c1, c2, c3, c4, **kwargs):\n",
        "        super().__init__(*kwargs)\n",
        "        self.b1 = nn.Sequential(nn.LazyConv2d(c1, kernel_size=1),\n",
        "                                nn.LazyBatchNorm2d(),\n",
        "                                nn.ReLU())\n",
        "        self.b2 = nn.Sequential(nn.LazyConv2d(c2[0], kernel_size=1),\n",
        "                                nn.LazyBatchNorm2d(),\n",
        "                                nn.ReLU(),\n",
        "                                nn.LazyConv2d(c2[1], kernel_size=3, padding=1),\n",
        "                                nn.LazyBatchNorm2d(),\n",
        "                                nn.ReLU())\n",
        "        self.b3 = nn.Sequential(nn.LazyConv2d(c3[0], kernel_size=1),\n",
        "                                nn.LazyBatchNorm2d(),\n",
        "                                nn.ReLU(),\n",
        "                                nn.LazyConv2d(c3[1], kernel_size=5, padding=2),\n",
        "                                nn.LazyBatchNorm2d(),\n",
        "                                nn.ReLU())\n",
        "        self.b4 = nn.Sequential(nn.MaxPool2d(kernel_size=3, stride=1, padding=1),\n",
        "                                nn.LazyBatchNorm2d(),\n",
        "                                nn.LazyConv2d(c4, kernel_size=1),\n",
        "                                nn.LazyBatchNorm2d(),\n",
        "                                nn.ReLU())\n",
        "\n",
        "    def forward(self, x):\n",
        "        o1 = self.b1(x)\n",
        "        o2 = self.b2(x)\n",
        "        o3 = self.b3(x)\n",
        "        o4 = self.b4(x)\n",
        "        return torch.cat((o1,o2,o3,o4),dim=1)\n",
        "\n",
        "class NormGoogleNet(d2l.Classifier): # d2l.Classifier should work now\n",
        "    def b1(self):\n",
        "        return nn.Sequential(nn.LazyConv2d(64, kernel_size=7, stride=2, padding=3),\n",
        "                             nn.LazyBatchNorm2d(),\n",
        "                             nn.ReLU(),\n",
        "                             nn.MaxPool2d(kernel_size=3, stride=2, padding=1))\n",
        "\n",
        "    def b2(self):\n",
        "        return nn.Sequential(nn.LazyConv2d(64, kernel_size=1),\n",
        "                             nn.LazyBatchNorm2d(),nn.ReLU(),\n",
        "                             nn.LazyConv2d(192, kernel_size=3, padding=1),\n",
        "                             nn.LazyBatchNorm2d(), nn.ReLU(),\n",
        "                             nn.MaxPool2d(kernel_size=3, stride=2, padding=1))\n",
        "\n",
        "    def b3(self):\n",
        "        return nn.Sequential(NormInception(64, (96, 128), (16, 32), 32),\n",
        "                             NormInception(128, (128, 192), (32, 96), 64),\n",
        "                             nn.MaxPool2d(kernel_size=3, stride=2, padding=1))\n",
        "\n",
        "    def b4(self):\n",
        "        return nn.Sequential(NormInception(192, (96, 208), (16, 48), 64),\n",
        "                             NormInception(160, (112, 224), (24, 64), 64),\n",
        "                             NormInception(128, (128, 256), (24, 64), 64),\n",
        "                             NormInception(112, (144, 288), (32, 64), 64),\n",
        "                             NormInception(256, (160, 320), (32, 128), 128),\n",
        "                             nn.MaxPool2d(kernel_size=3, stride=2, padding=1))\n",
        "\n",
        "    def b5(self):\n",
        "        return nn.Sequential(NormInception(256, (160, 320), (32, 128), 128),\n",
        "                             NormInception(384, (192, 384), (48, 128), 128),\n",
        "                             nn.AdaptiveAvgPool2d((1,1)), nn.Flatten())\n",
        "\n",
        "    def __init__(self, lr=0.1, num_classes=10):\n",
        "        super().__init__()\n",
        "        self.save_hyperparameters()\n",
        "        self.net = nn.Sequential(self.b1(), self.b2(), self.b3(), self.b4(),\n",
        "                                 self.b5(), nn.LazyLinear(num_classes))\n",
        "        self.net.apply(d2l.init_cnn)"
      ],
      "metadata": {
        "colab": {
          "base_uri": "https://localhost:8080/"
        },
        "id": "YvghUgoxcUdp",
        "outputId": "64183efa-68e6-47b9-b1ad-677f569fb082"
      },
      "execution_count": 125,
      "outputs": [
        {
          "output_type": "stream",
          "name": "stdout",
          "text": [
            "Requirement already satisfied: d2l in /usr/local/lib/python3.10/dist-packages (1.0.3)\n",
            "Requirement already satisfied: jupyter==1.0.0 in /usr/local/lib/python3.10/dist-packages (from d2l) (1.0.0)\n",
            "Requirement already satisfied: numpy==1.23.5 in /usr/local/lib/python3.10/dist-packages (from d2l) (1.23.5)\n",
            "Requirement already satisfied: matplotlib==3.7.2 in /usr/local/lib/python3.10/dist-packages (from d2l) (3.7.2)\n",
            "Requirement already satisfied: matplotlib-inline==0.1.6 in /usr/local/lib/python3.10/dist-packages (from d2l) (0.1.6)\n",
            "Requirement already satisfied: requests==2.31.0 in /usr/local/lib/python3.10/dist-packages (from d2l) (2.31.0)\n",
            "Requirement already satisfied: pandas==2.0.3 in /usr/local/lib/python3.10/dist-packages (from d2l) (2.0.3)\n",
            "Requirement already satisfied: scipy==1.10.1 in /usr/local/lib/python3.10/dist-packages (from d2l) (1.10.1)\n",
            "Requirement already satisfied: notebook in /usr/local/lib/python3.10/dist-packages (from jupyter==1.0.0->d2l) (6.5.5)\n",
            "Requirement already satisfied: qtconsole in /usr/local/lib/python3.10/dist-packages (from jupyter==1.0.0->d2l) (5.6.0)\n",
            "Requirement already satisfied: jupyter-console in /usr/local/lib/python3.10/dist-packages (from jupyter==1.0.0->d2l) (6.1.0)\n",
            "Requirement already satisfied: nbconvert in /usr/local/lib/python3.10/dist-packages (from jupyter==1.0.0->d2l) (6.5.4)\n",
            "Requirement already satisfied: ipykernel in /usr/local/lib/python3.10/dist-packages (from jupyter==1.0.0->d2l) (5.5.6)\n",
            "Requirement already satisfied: ipywidgets in /usr/local/lib/python3.10/dist-packages (from jupyter==1.0.0->d2l) (7.7.1)\n",
            "Requirement already satisfied: contourpy>=1.0.1 in /usr/local/lib/python3.10/dist-packages (from matplotlib==3.7.2->d2l) (1.3.0)\n",
            "Requirement already satisfied: cycler>=0.10 in /usr/local/lib/python3.10/dist-packages (from matplotlib==3.7.2->d2l) (0.12.1)\n",
            "Requirement already satisfied: fonttools>=4.22.0 in /usr/local/lib/python3.10/dist-packages (from matplotlib==3.7.2->d2l) (4.54.1)\n",
            "Requirement already satisfied: kiwisolver>=1.0.1 in /usr/local/lib/python3.10/dist-packages (from matplotlib==3.7.2->d2l) (1.4.7)\n",
            "Requirement already satisfied: packaging>=20.0 in /usr/local/lib/python3.10/dist-packages (from matplotlib==3.7.2->d2l) (24.1)\n",
            "Requirement already satisfied: pillow>=6.2.0 in /usr/local/lib/python3.10/dist-packages (from matplotlib==3.7.2->d2l) (10.4.0)\n",
            "Requirement already satisfied: pyparsing<3.1,>=2.3.1 in /usr/local/lib/python3.10/dist-packages (from matplotlib==3.7.2->d2l) (3.0.9)\n",
            "Requirement already satisfied: python-dateutil>=2.7 in /usr/local/lib/python3.10/dist-packages (from matplotlib==3.7.2->d2l) (2.8.2)\n",
            "Requirement already satisfied: traitlets in /usr/local/lib/python3.10/dist-packages (from matplotlib-inline==0.1.6->d2l) (5.7.1)\n",
            "Requirement already satisfied: pytz>=2020.1 in /usr/local/lib/python3.10/dist-packages (from pandas==2.0.3->d2l) (2024.2)\n",
            "Requirement already satisfied: tzdata>=2022.1 in /usr/local/lib/python3.10/dist-packages (from pandas==2.0.3->d2l) (2024.2)\n",
            "Requirement already satisfied: charset-normalizer<4,>=2 in /usr/local/lib/python3.10/dist-packages (from requests==2.31.0->d2l) (3.3.2)\n",
            "Requirement already satisfied: idna<4,>=2.5 in /usr/local/lib/python3.10/dist-packages (from requests==2.31.0->d2l) (3.10)\n",
            "Requirement already satisfied: urllib3<3,>=1.21.1 in /usr/local/lib/python3.10/dist-packages (from requests==2.31.0->d2l) (2.2.3)\n",
            "Requirement already satisfied: certifi>=2017.4.17 in /usr/local/lib/python3.10/dist-packages (from requests==2.31.0->d2l) (2024.8.30)\n",
            "Requirement already satisfied: six>=1.5 in /usr/local/lib/python3.10/dist-packages (from python-dateutil>=2.7->matplotlib==3.7.2->d2l) (1.16.0)\n",
            "Requirement already satisfied: ipython-genutils in /usr/local/lib/python3.10/dist-packages (from ipykernel->jupyter==1.0.0->d2l) (0.2.0)\n",
            "Requirement already satisfied: ipython>=5.0.0 in /usr/local/lib/python3.10/dist-packages (from ipykernel->jupyter==1.0.0->d2l) (7.34.0)\n",
            "Requirement already satisfied: jupyter-client in /usr/local/lib/python3.10/dist-packages (from ipykernel->jupyter==1.0.0->d2l) (6.1.12)\n",
            "Requirement already satisfied: tornado>=4.2 in /usr/local/lib/python3.10/dist-packages (from ipykernel->jupyter==1.0.0->d2l) (6.3.3)\n",
            "Requirement already satisfied: widgetsnbextension~=3.6.0 in /usr/local/lib/python3.10/dist-packages (from ipywidgets->jupyter==1.0.0->d2l) (3.6.9)\n",
            "Requirement already satisfied: jupyterlab-widgets>=1.0.0 in /usr/local/lib/python3.10/dist-packages (from ipywidgets->jupyter==1.0.0->d2l) (3.0.13)\n",
            "Requirement already satisfied: prompt-toolkit!=3.0.0,!=3.0.1,<3.1.0,>=2.0.0 in /usr/local/lib/python3.10/dist-packages (from jupyter-console->jupyter==1.0.0->d2l) (3.0.48)\n",
            "Requirement already satisfied: pygments in /usr/local/lib/python3.10/dist-packages (from jupyter-console->jupyter==1.0.0->d2l) (2.18.0)\n",
            "Requirement already satisfied: lxml in /usr/local/lib/python3.10/dist-packages (from nbconvert->jupyter==1.0.0->d2l) (4.9.4)\n",
            "Requirement already satisfied: beautifulsoup4 in /usr/local/lib/python3.10/dist-packages (from nbconvert->jupyter==1.0.0->d2l) (4.12.3)\n",
            "Requirement already satisfied: bleach in /usr/local/lib/python3.10/dist-packages (from nbconvert->jupyter==1.0.0->d2l) (6.1.0)\n",
            "Requirement already satisfied: defusedxml in /usr/local/lib/python3.10/dist-packages (from nbconvert->jupyter==1.0.0->d2l) (0.7.1)\n",
            "Requirement already satisfied: entrypoints>=0.2.2 in /usr/local/lib/python3.10/dist-packages (from nbconvert->jupyter==1.0.0->d2l) (0.4)\n",
            "Requirement already satisfied: jinja2>=3.0 in /usr/local/lib/python3.10/dist-packages (from nbconvert->jupyter==1.0.0->d2l) (3.1.4)\n",
            "Requirement already satisfied: jupyter-core>=4.7 in /usr/local/lib/python3.10/dist-packages (from nbconvert->jupyter==1.0.0->d2l) (5.7.2)\n",
            "Requirement already satisfied: jupyterlab-pygments in /usr/local/lib/python3.10/dist-packages (from nbconvert->jupyter==1.0.0->d2l) (0.3.0)\n",
            "Requirement already satisfied: MarkupSafe>=2.0 in /usr/local/lib/python3.10/dist-packages (from nbconvert->jupyter==1.0.0->d2l) (2.1.5)\n",
            "Requirement already satisfied: mistune<2,>=0.8.1 in /usr/local/lib/python3.10/dist-packages (from nbconvert->jupyter==1.0.0->d2l) (0.8.4)\n",
            "Requirement already satisfied: nbclient>=0.5.0 in /usr/local/lib/python3.10/dist-packages (from nbconvert->jupyter==1.0.0->d2l) (0.10.0)\n",
            "Requirement already satisfied: nbformat>=5.1 in /usr/local/lib/python3.10/dist-packages (from nbconvert->jupyter==1.0.0->d2l) (5.10.4)\n",
            "Requirement already satisfied: pandocfilters>=1.4.1 in /usr/local/lib/python3.10/dist-packages (from nbconvert->jupyter==1.0.0->d2l) (1.5.1)\n",
            "Requirement already satisfied: tinycss2 in /usr/local/lib/python3.10/dist-packages (from nbconvert->jupyter==1.0.0->d2l) (1.3.0)\n",
            "Requirement already satisfied: pyzmq<25,>=17 in /usr/local/lib/python3.10/dist-packages (from notebook->jupyter==1.0.0->d2l) (24.0.1)\n",
            "Requirement already satisfied: argon2-cffi in /usr/local/lib/python3.10/dist-packages (from notebook->jupyter==1.0.0->d2l) (23.1.0)\n",
            "Requirement already satisfied: nest-asyncio>=1.5 in /usr/local/lib/python3.10/dist-packages (from notebook->jupyter==1.0.0->d2l) (1.6.0)\n",
            "Requirement already satisfied: Send2Trash>=1.8.0 in /usr/local/lib/python3.10/dist-packages (from notebook->jupyter==1.0.0->d2l) (1.8.3)\n",
            "Requirement already satisfied: terminado>=0.8.3 in /usr/local/lib/python3.10/dist-packages (from notebook->jupyter==1.0.0->d2l) (0.18.1)\n",
            "Requirement already satisfied: prometheus-client in /usr/local/lib/python3.10/dist-packages (from notebook->jupyter==1.0.0->d2l) (0.21.0)\n",
            "Requirement already satisfied: nbclassic>=0.4.7 in /usr/local/lib/python3.10/dist-packages (from notebook->jupyter==1.0.0->d2l) (1.1.0)\n",
            "Requirement already satisfied: qtpy>=2.4.0 in /usr/local/lib/python3.10/dist-packages (from qtconsole->jupyter==1.0.0->d2l) (2.4.1)\n",
            "Requirement already satisfied: setuptools>=18.5 in /usr/local/lib/python3.10/dist-packages (from ipython>=5.0.0->ipykernel->jupyter==1.0.0->d2l) (71.0.4)\n",
            "Requirement already satisfied: jedi>=0.16 in /usr/local/lib/python3.10/dist-packages (from ipython>=5.0.0->ipykernel->jupyter==1.0.0->d2l) (0.19.1)\n",
            "Requirement already satisfied: decorator in /usr/local/lib/python3.10/dist-packages (from ipython>=5.0.0->ipykernel->jupyter==1.0.0->d2l) (4.4.2)\n",
            "Requirement already satisfied: pickleshare in /usr/local/lib/python3.10/dist-packages (from ipython>=5.0.0->ipykernel->jupyter==1.0.0->d2l) (0.7.5)\n",
            "Requirement already satisfied: backcall in /usr/local/lib/python3.10/dist-packages (from ipython>=5.0.0->ipykernel->jupyter==1.0.0->d2l) (0.2.0)\n",
            "Requirement already satisfied: pexpect>4.3 in /usr/local/lib/python3.10/dist-packages (from ipython>=5.0.0->ipykernel->jupyter==1.0.0->d2l) (4.9.0)\n",
            "Requirement already satisfied: platformdirs>=2.5 in /usr/local/lib/python3.10/dist-packages (from jupyter-core>=4.7->nbconvert->jupyter==1.0.0->d2l) (4.3.6)\n",
            "Requirement already satisfied: notebook-shim>=0.2.3 in /usr/local/lib/python3.10/dist-packages (from nbclassic>=0.4.7->notebook->jupyter==1.0.0->d2l) (0.2.4)\n",
            "Requirement already satisfied: fastjsonschema>=2.15 in /usr/local/lib/python3.10/dist-packages (from nbformat>=5.1->nbconvert->jupyter==1.0.0->d2l) (2.20.0)\n",
            "Requirement already satisfied: jsonschema>=2.6 in /usr/local/lib/python3.10/dist-packages (from nbformat>=5.1->nbconvert->jupyter==1.0.0->d2l) (4.23.0)\n",
            "Requirement already satisfied: wcwidth in /usr/local/lib/python3.10/dist-packages (from prompt-toolkit!=3.0.0,!=3.0.1,<3.1.0,>=2.0.0->jupyter-console->jupyter==1.0.0->d2l) (0.2.13)\n",
            "Requirement already satisfied: ptyprocess in /usr/local/lib/python3.10/dist-packages (from terminado>=0.8.3->notebook->jupyter==1.0.0->d2l) (0.7.0)\n",
            "Requirement already satisfied: argon2-cffi-bindings in /usr/local/lib/python3.10/dist-packages (from argon2-cffi->notebook->jupyter==1.0.0->d2l) (21.2.0)\n",
            "Requirement already satisfied: soupsieve>1.2 in /usr/local/lib/python3.10/dist-packages (from beautifulsoup4->nbconvert->jupyter==1.0.0->d2l) (2.6)\n",
            "Requirement already satisfied: webencodings in /usr/local/lib/python3.10/dist-packages (from bleach->nbconvert->jupyter==1.0.0->d2l) (0.5.1)\n",
            "Requirement already satisfied: parso<0.9.0,>=0.8.3 in /usr/local/lib/python3.10/dist-packages (from jedi>=0.16->ipython>=5.0.0->ipykernel->jupyter==1.0.0->d2l) (0.8.4)\n",
            "Requirement already satisfied: attrs>=22.2.0 in /usr/local/lib/python3.10/dist-packages (from jsonschema>=2.6->nbformat>=5.1->nbconvert->jupyter==1.0.0->d2l) (24.2.0)\n",
            "Requirement already satisfied: jsonschema-specifications>=2023.03.6 in /usr/local/lib/python3.10/dist-packages (from jsonschema>=2.6->nbformat>=5.1->nbconvert->jupyter==1.0.0->d2l) (2023.12.1)\n",
            "Requirement already satisfied: referencing>=0.28.4 in /usr/local/lib/python3.10/dist-packages (from jsonschema>=2.6->nbformat>=5.1->nbconvert->jupyter==1.0.0->d2l) (0.35.1)\n",
            "Requirement already satisfied: rpds-py>=0.7.1 in /usr/local/lib/python3.10/dist-packages (from jsonschema>=2.6->nbformat>=5.1->nbconvert->jupyter==1.0.0->d2l) (0.20.0)\n",
            "Requirement already satisfied: jupyter-server<3,>=1.8 in /usr/local/lib/python3.10/dist-packages (from notebook-shim>=0.2.3->nbclassic>=0.4.7->notebook->jupyter==1.0.0->d2l) (1.24.0)\n",
            "Requirement already satisfied: cffi>=1.0.1 in /usr/local/lib/python3.10/dist-packages (from argon2-cffi-bindings->argon2-cffi->notebook->jupyter==1.0.0->d2l) (1.17.1)\n",
            "Requirement already satisfied: pycparser in /usr/local/lib/python3.10/dist-packages (from cffi>=1.0.1->argon2-cffi-bindings->argon2-cffi->notebook->jupyter==1.0.0->d2l) (2.22)\n",
            "Requirement already satisfied: anyio<4,>=3.1.0 in /usr/local/lib/python3.10/dist-packages (from jupyter-server<3,>=1.8->notebook-shim>=0.2.3->nbclassic>=0.4.7->notebook->jupyter==1.0.0->d2l) (3.7.1)\n",
            "Requirement already satisfied: websocket-client in /usr/local/lib/python3.10/dist-packages (from jupyter-server<3,>=1.8->notebook-shim>=0.2.3->nbclassic>=0.4.7->notebook->jupyter==1.0.0->d2l) (1.8.0)\n",
            "Requirement already satisfied: sniffio>=1.1 in /usr/local/lib/python3.10/dist-packages (from anyio<4,>=3.1.0->jupyter-server<3,>=1.8->notebook-shim>=0.2.3->nbclassic>=0.4.7->notebook->jupyter==1.0.0->d2l) (1.3.1)\n",
            "Requirement already satisfied: exceptiongroup in /usr/local/lib/python3.10/dist-packages (from anyio<4,>=3.1.0->jupyter-server<3,>=1.8->notebook-shim>=0.2.3->nbclassic>=0.4.7->notebook->jupyter==1.0.0->d2l) (1.2.2)\n"
          ]
        }
      ]
    },
    {
      "cell_type": "markdown",
      "source": [
        "b. Make adjustments to the Inception block (width, choice and order of convolutions), as described in Szegedy et al. (2016)."
      ],
      "metadata": {
        "id": "gs4fzrvvcMWQ"
      }
    },
    {
      "cell_type": "code",
      "source": [
        "class Inception(nn.Module):\n",
        "    def __init__(self, c1, c2, c3, c4, **kwargs):\n",
        "        super().__init__(*kwargs)\n",
        "        self.b1 = nn.Sequential(nn.LazyConv2d(c1, kernel_size=1),\n",
        "                                nn.ReLU())\n",
        "        self.b2 = nn.Sequential(nn.LazyConv2d(c2[0], kernel_size=1),\n",
        "                                nn.ReLU(),\n",
        "                                nn.LazyConv2d(c2[1], kernel_size=3, padding=1),\n",
        "                                nn.ReLU())\n",
        "        self.b3 = nn.Sequential(nn.LazyConv2d(c3[0], kernel_size=1),\n",
        "                                nn.ReLU(),\n",
        "                                nn.LazyConv2d(c3[1], kernel_size=3, padding=1),\n",
        "                                nn.ReLU(),\n",
        "                                nn.LazyConv2d(c3[2], kernel_size=3, padding=1),\n",
        "                                nn.ReLU())\n",
        "        self.b4 = nn.Sequential(nn.MaxPool2d(kernel_size=3, stride=1, padding=1),\n",
        "                                nn.LazyConv2d(c4, kernel_size=1),\n",
        "                                nn.ReLU())\n",
        "\n",
        "    def forward(self, x):\n",
        "        o1 = self.b1(x)\n",
        "        o2 = self.b2(x)\n",
        "        o3 = self.b3(x)\n",
        "        o4 = self.b4(x)\n",
        "        return torch.cat((o1,o2,o3,o4),dim=1)"
      ],
      "metadata": {
        "id": "w2CQQsmrcZtk"
      },
      "execution_count": 126,
      "outputs": []
    },
    {
      "cell_type": "code",
      "source": [
        "class Inception(nn.Module):\n",
        "    def __init__(self, c1, c2, c3, c4, **kwargs):\n",
        "        super().__init__(*kwargs)\n",
        "        self.b1 = nn.Sequential(nn.LazyConv2d(c1, kernel_size=1),\n",
        "                                nn.ReLU())\n",
        "        self.b2 = nn.Sequential(nn.LazyConv2d(c2[0], kernel_size=1),\n",
        "                                nn.ReLU(),\n",
        "                                nn.LazyConv2d(c2[1], kernel_size=(1,3), padding=(0,1)),\n",
        "                                nn.ReLU(),\n",
        "                                nn.LazyConv2d(c2[2], kernel_size=(3,1), padding=(1,0)),\n",
        "                                nn.ReLU())\n",
        "        self.b3 = nn.Sequential(nn.LazyConv2d(c3[0], kernel_size=1),\n",
        "                                nn.ReLU(),\n",
        "                                nn.LazyConv2d(c3[1], kernel_size=(1,3), padding=(0,1)),\n",
        "                                nn.ReLU(),\n",
        "                                nn.LazyConv2d(c3[2], kernel_size=(3,1), padding=(1,0)),\n",
        "                                nn.ReLU(),\n",
        "                                nn.LazyConv2d(c3[3], kernel_size=(1,3), padding=(0,1)),\n",
        "                                nn.ReLU(),\n",
        "                                nn.LazyConv2d(c3[4], kernel_size=(3,1), padding=(1,0)),\n",
        "                                nn.ReLU())\n",
        "        self.b4 = nn.Sequential(nn.MaxPool2d(kernel_size=3, stride=1, padding=1),\n",
        "                                nn.LazyConv2d(c4, kernel_size=1),\n",
        "                                nn.ReLU())\n",
        "\n",
        "    def forward(self, x):\n",
        "        o1 = self.b1(x)\n",
        "        o2 = self.b2(x)\n",
        "        o3 = self.b3(x)\n",
        "        o4 = self.b4(x)\n",
        "        return torch.cat((o1,o2,o3,o4),dim=1)"
      ],
      "metadata": {
        "id": "PQFyZEmAcjdx"
      },
      "execution_count": 127,
      "outputs": []
    },
    {
      "cell_type": "code",
      "source": [
        "class Inception(nn.Module):\n",
        "    def __init__(self, c1, c2, c3, c4, **kwargs):\n",
        "        super().__init__(*kwargs)\n",
        "        self.b1 = nn.Sequential(nn.LazyConv2d(c1, kernel_size=1),\n",
        "                                nn.ReLU())\n",
        "        self.b2 = nn.Sequential(nn.LazyConv2d(c2[0], kernel_size=1),\n",
        "                                nn.ReLU())\n",
        "        self.b2_1 = nn.Sequential(nn.LazyConv2d(c2[1], kernel_size=(1,3), padding=(0,1)),\n",
        "                                nn.ReLU())\n",
        "        self.b2_2 = nn.Sequential(nn.LazyConv2d(c2[2], kernel_size=(3,1), padding=(1,0)),\n",
        "                                nn.ReLU())\n",
        "        self.b3 = nn.Sequential(nn.LazyConv2d(c3[0], kernel_size=1),\n",
        "                                nn.ReLU(),\n",
        "                                nn.LazyConv2d(c3[1], kernel_size=3, padding=1),\n",
        "                                nn.ReLU())\n",
        "        self.b3_1 = nn.Sequential(nn.LazyConv2d(c3[2], kernel_size=(1,3), padding=(0,1)),\n",
        "                                nn.ReLU())\n",
        "        self.b3_2 = nn.Sequential(nn.LazyConv2d(c3[3], kernel_size=(3,1), padding=(1,0)),\n",
        "                                nn.ReLU())\n",
        "        self.b4 = nn.Sequential(nn.MaxPool2d(kernel_size=3, stride=1, padding=1),\n",
        "                                nn.LazyConv2d(c4, kernel_size=1),\n",
        "                                nn.ReLU())\n",
        "\n",
        "    def forward(self, x):\n",
        "        o1 = self.b1(x)\n",
        "        o2 = self.b2(x)\n",
        "        o2_1 = self.b2_1(o2)\n",
        "        o2_2 = self.b2_2(o2)\n",
        "        o3 = self.b3(x)\n",
        "        o3_1 = self.b3_1(o3)\n",
        "        o3_2 = self.b3_2(o2)\n",
        "        o4 = self.b4(x)\n",
        "        return torch.cat((o1,o2_1,o2_2,o3_1,o3_2,o4),dim=1)"
      ],
      "metadata": {
        "id": "SyxjMtM6coCo"
      },
      "execution_count": 128,
      "outputs": []
    },
    {
      "cell_type": "markdown",
      "source": [
        "c. Use label smoothing for model regularization, as described in Szegedy et al. (2016)."
      ],
      "metadata": {
        "id": "QSNBNHagcOqA"
      }
    },
    {
      "cell_type": "code",
      "source": [
        "class LSRGoogleNet(GoogleNet):\n",
        "    def __init__(self, eps=0, lr=0.1, num_classes=10):\n",
        "        super().__init__(lr=lr, num_classes=num_classes)\n",
        "        self.save_hyperparameters()\n",
        "\n",
        "    def loss(self, y_hat, y, averaged=True):\n",
        "        y_hat = y_hat.reshape((-1, y_hat.shape[-1]))\n",
        "        y = y.reshape((-1,))\n",
        "        u = torch.ones(y.shape).tye(torch.float32)/y.shape[-1]\n",
        "        lsr_loss = (1-self.eps)*F.cross_entropy(y_hat, y, reduction='mean' if averaged else 'none')\n",
        "        +self.eps*F.cross_entropy(y_hat, u, reduction='mean' if averaged else 'none')\n",
        "        return lsr_loss"
      ],
      "metadata": {
        "id": "JjTSpwuMcc4h"
      },
      "execution_count": 129,
      "outputs": []
    },
    {
      "cell_type": "markdown",
      "source": [
        "d. Make further adjustments to the Inception block by adding residual connection (Szegedy et al., 2017), as described later in Section 8.6."
      ],
      "metadata": {
        "id": "Qcop4GmUcQli"
      }
    },
    {
      "cell_type": "code",
      "source": [
        "class ResInception(nn.Module):\n",
        "    def __init__(self, c1, c2, c3, c4, **kwargs):\n",
        "        super().__init__(*kwargs)\n",
        "        self.b1 = nn.Sequential(nn.LazyConv2d(c1, kernel_size=1),\n",
        "                                nn.LazyBatchNorm2d(),\n",
        "                                nn.ReLU())\n",
        "        self.b2 = nn.Sequential(nn.LazyConv2d(c2[0], kernel_size=1),\n",
        "                                nn.LazyBatchNorm2d(),\n",
        "                                nn.ReLU(),\n",
        "                                nn.LazyConv2d(c2[1], kernel_size=3, padding=1),\n",
        "                                nn.LazyBatchNorm2d(),\n",
        "                                nn.ReLU())\n",
        "        self.b3 = nn.Sequential(nn.LazyConv2d(c3[0], kernel_size=1),\n",
        "                                nn.LazyBatchNorm2d(),\n",
        "                                nn.ReLU(),\n",
        "                                nn.LazyConv2d(c3[1], kernel_size=5, padding=2),\n",
        "                                nn.LazyBatchNorm2d(),\n",
        "                                nn.ReLU())\n",
        "        self.b4 = nn.Sequential(nn.MaxPool2d(kernel_size=3, stride=1, padding=1),\n",
        "                                nn.LazyBatchNorm2d(),\n",
        "                                nn.LazyConv2d(c4, kernel_size=1),\n",
        "                                nn.LazyBatchNorm2d(),\n",
        "                                nn.ReLU())\n",
        "\n",
        "    def forward(self, x):\n",
        "        o1 = self.b1(x)+x\n",
        "        o2 = self.b2(x)+x\n",
        "        o3 = self.b3(x)+x\n",
        "        o4 = self.b4(x)+x\n",
        "        return torch.cat((o1,o2,o3,o4),dim=1)\n",
        "\n",
        "class ResGoogleNet(d2l.Classifier):\n",
        "    def b1(self):\n",
        "        return nn.Sequential(nn.LazyConv2d(64, kernel_size=7, stride=2, padding=3),\n",
        "                             nn.LazyBatchNorm2d(),\n",
        "                             nn.ReLU(),\n",
        "                             nn.MaxPool2d(kernel_size=3, stride=2, padding=1))\n",
        "\n",
        "    def b2(self):\n",
        "        return nn.Sequential(nn.LazyConv2d(64, kernel_size=1),\n",
        "                             nn.LazyBatchNorm2d(),nn.ReLU(),\n",
        "                             nn.LazyConv2d(192, kernel_size=3, padding=1),\n",
        "                             nn.LazyBatchNorm2d(), nn.ReLU(),\n",
        "                             nn.MaxPool2d(kernel_size=3, stride=2, padding=1))\n",
        "\n",
        "    def b3(self):\n",
        "        return nn.Sequential(ResInception(64, (96, 128), (16, 32), 32),\n",
        "                             ResInception(128, (128, 192), (32, 96), 64),\n",
        "                             nn.MaxPool2d(kernel_size=3, stride=2, padding=1))\n",
        "\n",
        "    def b4(self):\n",
        "        return nn.Sequential(ResInception(192, (96, 208), (16, 48), 64),\n",
        "                             ResInception(160, (112, 224), (24, 64), 64),\n",
        "                             ResInception(128, (128, 256), (24, 64), 64),\n",
        "                             ResInception(112, (144, 288), (32, 64), 64),\n",
        "                             ResInception(256, (160, 320), (32, 128), 128),\n",
        "                             nn.MaxPool2d(kernel_size=3, stride=2, padding=1))\n",
        "\n",
        "    def b5(self):\n",
        "        return nn.Sequential(ResInception(256, (160, 320), (32, 128), 128),\n",
        "                             ResInception(384, (192, 384), (48, 128), 128),\n",
        "                             nn.AdaptiveAvgPool2d((1,1)), nn.Flatten())\n",
        "\n",
        "    def __init__(self, lr=0.1, num_classes=10):\n",
        "        super().__init__()\n",
        "        self.save_hyperparameters()\n",
        "        self.net = nn.Sequential(self.b1(), self.b2(), self.b3(), self.b4(),\n",
        "                                 self.b5(), nn.LazyLinear(num_classes))\n",
        "        self.net.apply(d2l.init_cnn)"
      ],
      "metadata": {
        "id": "knpsVqUmc9vg"
      },
      "execution_count": 130,
      "outputs": []
    },
    {
      "cell_type": "markdown",
      "source": [
        "### 2. What is the minimum image size needed for GoogLeNet to work?\n",
        "\n",
        "Ukuran gambar minimum yang diperlukan agar GoogLeNet dapat bekerja adalah 224 x 224 piksel."
      ],
      "metadata": {
        "id": "XX0LJwCs9ruR"
      }
    },
    {
      "cell_type": "markdown",
      "source": [
        "### 3. Can you design a variant of GoogLeNet that works on Fashion-MNIST’s native resolution of 28 x 28 pixels? How would you need to change the stem, the body, and the head of the network, if anything at all?\n",
        "\n",
        "Bisa, dengan beberapa perubahan yang perlu dilakukan:\n",
        "\n",
        "1. **Stem**\n",
        "   - Ganti konvolusi 7x7 dengan 3x3 agar sesuai dengan ukuran kecil gambar.\n",
        "   - Kurangi atau hilangkan pooling awal untuk mencegah downsampling terlalu cepat.\n",
        "\n",
        "2. **Body**\n",
        "   - Gunakan lebih sedikit modul Inception (3-4 modul saja).\n",
        "   - Sesuaikan pooling dan gunakan konvolusi yang lebih kecil (1x1, 3x3) dan hindari 5x5.\n",
        "\n",
        "3. **Head**\n",
        "   - Gunakan pooling global lebih awal.\n",
        "   - Kurangi ukuran lapisan fully connected, dan sesuaikan output untuk 10 kelas Fashion-MNIST."
      ],
      "metadata": {
        "id": "Lgnv_HCk-JGo"
      }
    },
    {
      "cell_type": "markdown",
      "source": [
        "### 4. Compare the model parameter sizes of AlexNet, VGG, NiN, and GoogLeNet. How do the latter two network architectures significantly reduce the model parameter size?"
      ],
      "metadata": {
        "id": "HFEA6agY94KF"
      }
    },
    {
      "cell_type": "code",
      "source": [
        "model = GoogleNet(lr=0.01)\n",
        "X = torch.randn(1,3, 224, 224)\n",
        "_ = model(X)\n",
        "total_params = sum(p.numel() for p in model.parameters())\n",
        "print(\"Total parameters:\", total_params)"
      ],
      "metadata": {
        "id": "C1Nm45Z2Tt9_"
      },
      "execution_count": null,
      "outputs": []
    },
    {
      "cell_type": "markdown",
      "source": [
        "### 5. Compare the amount of computation needed in GoogLeNet and AlexNet. How does this affect the design of an accelerator chip, e.g., in terms of memory size, memory bandwidth, cache size, the amount of computation, and the benefit of specialized operations?\n",
        "\n",
        "**Jumlah Komputasi**\n",
        "   - GoogLeNet lebih **efisien** karena menggunakan modul **Inception** yang mengurangi jumlah parameter, meskipun arsitekturnya lebih dalam (22 lapisan vs 8 lapisan di AlexNet). Namun, GoogLeNet membutuhkan **lebih banyak operasi floating-point** karena kedalaman dan kompleksitasnya.\n",
        "   - AlexNet memiliki lebih sedikit lapisan, tetapi menggunakan **filter besar** (11x11 di layer awal) dan lebih banyak parameter (60 juta vs 6.8 juta di GoogLeNet), sehingga masih memerlukan komputasi signifikan.\n",
        "\n",
        "**Desain Akselerator**\n",
        "   - **Memori dan Bandwidth**: GoogLeNet, dengan parameter lebih sedikit, memerlukan **memori lebih kecil** dibanding AlexNet. Namun, GoogLeNet lebih dalam, sehingga **bandwidth memori** dan **cache size** harus dioptimalkan untuk menyimpan dan memproses fitur antar modul Inception.\n",
        "   - **Cache Size**: GoogLeNet membutuhkan **cache lebih besar** karena banyaknya lapisan kecil yang perlu diakses cepat, sementara AlexNet dengan lapisan besar dan parameter tinggi membutuhkan **memori cache besar** untuk efisiensi.\n",
        "   - **Spesialisasi Operasi**: GoogLeNet lebih diuntungkan dengan akselerator yang mengoptimalkan operasi **1x1 convolutions** (banyak digunakan di modul Inception), sementara AlexNet lebih diuntungkan dengan operasi **standar convolusi besar**."
      ],
      "metadata": {
        "id": "gYkiJ0ls-R81"
      }
    },
    {
      "cell_type": "markdown",
      "source": [
        "## 8.5 Batch Normalization"
      ],
      "metadata": {
        "id": "wAr87q6W-Wm6"
      }
    },
    {
      "cell_type": "code",
      "source": [
        "import torch\n",
        "from torch import nn\n",
        "from d2l import torch as d2l"
      ],
      "metadata": {
        "id": "Uy2ETroq-hG7"
      },
      "execution_count": 25,
      "outputs": []
    },
    {
      "cell_type": "code",
      "source": [
        "def batch_norm(X, gamma, beta, moving_mean, moving_var, eps, momentum):\n",
        "    # Use is_grad_enabled to determine whether we are in training mode\n",
        "    if not torch.is_grad_enabled():\n",
        "        # In prediction mode, use mean and variance obtained by moving average\n",
        "        X_hat = (X - moving_mean) / torch.sqrt(moving_var + eps)\n",
        "    else:\n",
        "        assert len(X.shape) in (2, 4)\n",
        "        if len(X.shape) == 2:\n",
        "            # When using a fully connected layer, calculate the mean and\n",
        "            # variance on the feature dimension\n",
        "            mean = X.mean(dim=0)\n",
        "            var = ((X - mean) ** 2).mean(dim=0)\n",
        "        else:\n",
        "            # When using a two-dimensional convolutional layer, calculate the\n",
        "            # mean and variance on the channel dimension (axis=1). Here we\n",
        "            # need to maintain the shape of X, so that the broadcasting\n",
        "            # operation can be carried out later\n",
        "            mean = X.mean(dim=(0, 2, 3), keepdim=True)\n",
        "            var = ((X - mean) ** 2).mean(dim=(0, 2, 3), keepdim=True)\n",
        "        # In training mode, the current mean and variance are used\n",
        "        X_hat = (X - mean) / torch.sqrt(var + eps)\n",
        "        # Update the mean and variance using moving average\n",
        "        moving_mean = (1.0 - momentum) * moving_mean + momentum * mean\n",
        "        moving_var = (1.0 - momentum) * moving_var + momentum * var\n",
        "    Y = gamma * X_hat + beta  # Scale and shift\n",
        "    return Y, moving_mean.data, moving_var.data"
      ],
      "metadata": {
        "id": "55NrIwhC-kZ5"
      },
      "execution_count": 26,
      "outputs": []
    },
    {
      "cell_type": "code",
      "source": [
        "class BatchNorm(nn.Module):\n",
        "    # num_features: the number of outputs for a fully connected layer or the\n",
        "    # number of output channels for a convolutional layer. num_dims: 2 for a\n",
        "    # fully connected layer and 4 for a convolutional layer\n",
        "    def __init__(self, num_features, num_dims):\n",
        "        super().__init__()\n",
        "        if num_dims == 2:\n",
        "            shape = (1, num_features)\n",
        "        else:\n",
        "            shape = (1, num_features, 1, 1)\n",
        "        # The scale parameter and the shift parameter (model parameters) are\n",
        "        # initialized to 1 and 0, respectively\n",
        "        self.gamma = nn.Parameter(torch.ones(shape))\n",
        "        self.beta = nn.Parameter(torch.zeros(shape))\n",
        "        # The variables that are not model parameters are initialized to 0 and\n",
        "        # 1\n",
        "        self.moving_mean = torch.zeros(shape)\n",
        "        self.moving_var = torch.ones(shape)\n",
        "\n",
        "    def forward(self, X):\n",
        "        # If X is not on the main memory, copy moving_mean and moving_var to\n",
        "        # the device where X is located\n",
        "        if self.moving_mean.device != X.device:\n",
        "            self.moving_mean = self.moving_mean.to(X.device)\n",
        "            self.moving_var = self.moving_var.to(X.device)\n",
        "        # Save the updated moving_mean and moving_var\n",
        "        Y, self.moving_mean, self.moving_var = batch_norm(\n",
        "            X, self.gamma, self.beta, self.moving_mean,\n",
        "            self.moving_var, eps=1e-5, momentum=0.1)\n",
        "        return Y"
      ],
      "metadata": {
        "id": "OHMEO2H8-oNk"
      },
      "execution_count": 27,
      "outputs": []
    },
    {
      "cell_type": "code",
      "source": [
        "class BNLeNetScratch(d2l.Classifier):\n",
        "    def __init__(self, lr=0.1, num_classes=10):\n",
        "        super().__init__()\n",
        "        self.save_hyperparameters()\n",
        "        self.net = nn.Sequential(\n",
        "            nn.LazyConv2d(6, kernel_size=5), BatchNorm(6, num_dims=4),\n",
        "            nn.Sigmoid(), nn.AvgPool2d(kernel_size=2, stride=2),\n",
        "            nn.LazyConv2d(16, kernel_size=5), BatchNorm(16, num_dims=4),\n",
        "            nn.Sigmoid(), nn.AvgPool2d(kernel_size=2, stride=2),\n",
        "            nn.Flatten(), nn.LazyLinear(120),\n",
        "            BatchNorm(120, num_dims=2), nn.Sigmoid(), nn.LazyLinear(84),\n",
        "            BatchNorm(84, num_dims=2), nn.Sigmoid(),\n",
        "            nn.LazyLinear(num_classes))"
      ],
      "metadata": {
        "id": "zR4kcdFd-qpg"
      },
      "execution_count": 28,
      "outputs": []
    },
    {
      "cell_type": "code",
      "source": [
        "trainer = d2l.Trainer(max_epochs=10, num_gpus=1)\n",
        "data = d2l.FashionMNIST(batch_size=128)\n",
        "model = BNLeNetScratch(lr=0.1)\n",
        "model.apply_init([next(iter(data.get_dataloader(True)))[0]], d2l.init_cnn)\n",
        "trainer.fit(model, data)"
      ],
      "metadata": {
        "id": "B6zurQGU-s4S",
        "colab": {
          "base_uri": "https://localhost:8080/",
          "height": 265
        },
        "outputId": "8213e296-be1b-4aef-96d7-4a28a8e35af5"
      },
      "execution_count": 29,
      "outputs": [
        {
          "output_type": "display_data",
          "data": {
            "text/plain": [
              "<Figure size 350x250 with 1 Axes>"
            ],
            "image/svg+xml": "<?xml version=\"1.0\" encoding=\"utf-8\" standalone=\"no\"?>\n<!DOCTYPE svg PUBLIC \"-//W3C//DTD SVG 1.1//EN\"\n  \"http://www.w3.org/Graphics/SVG/1.1/DTD/svg11.dtd\">\n<svg xmlns:xlink=\"http://www.w3.org/1999/xlink\" width=\"238.965625pt\" height=\"183.35625pt\" viewBox=\"0 0 238.965625 183.35625\" xmlns=\"http://www.w3.org/2000/svg\" version=\"1.1\">\n <metadata>\n  <rdf:RDF xmlns:dc=\"http://purl.org/dc/elements/1.1/\" xmlns:cc=\"http://creativecommons.org/ns#\" xmlns:rdf=\"http://www.w3.org/1999/02/22-rdf-syntax-ns#\">\n   <cc:Work>\n    <dc:type rdf:resource=\"http://purl.org/dc/dcmitype/StillImage\"/>\n    <dc:date>2024-10-04T14:44:29.935657</dc:date>\n    <dc:format>image/svg+xml</dc:format>\n    <dc:creator>\n     <cc:Agent>\n      <dc:title>Matplotlib v3.7.2, https://matplotlib.org/</dc:title>\n     </cc:Agent>\n    </dc:creator>\n   </cc:Work>\n  </rdf:RDF>\n </metadata>\n <defs>\n  <style type=\"text/css\">*{stroke-linejoin: round; stroke-linecap: butt}</style>\n </defs>\n <g id=\"figure_1\">\n  <g id=\"patch_1\">\n   <path d=\"M 0 183.35625 \nL 238.965625 183.35625 \nL 238.965625 0 \nL 0 0 \nz\n\" style=\"fill: #ffffff\"/>\n  </g>\n  <g id=\"axes_1\">\n   <g id=\"patch_2\">\n    <path d=\"M 30.103125 145.8 \nL 225.403125 145.8 \nL 225.403125 7.2 \nL 30.103125 7.2 \nz\n\" style=\"fill: #ffffff\"/>\n   </g>\n   <g id=\"matplotlib.axis_1\">\n    <g id=\"xtick_1\">\n     <g id=\"line2d_1\">\n      <defs>\n       <path id=\"ma961d7fc7a\" d=\"M 0 0 \nL 0 3.5 \n\" style=\"stroke: #000000; stroke-width: 0.8\"/>\n      </defs>\n      <g>\n       <use xlink:href=\"#ma961d7fc7a\" x=\"30.103125\" y=\"145.8\" style=\"stroke: #000000; stroke-width: 0.8\"/>\n      </g>\n     </g>\n     <g id=\"text_1\">\n      <!-- 0 -->\n      <g transform=\"translate(26.921875 160.398438) scale(0.1 -0.1)\">\n       <defs>\n        <path id=\"DejaVuSans-30\" d=\"M 2034 4250 \nQ 1547 4250 1301 3770 \nQ 1056 3291 1056 2328 \nQ 1056 1369 1301 889 \nQ 1547 409 2034 409 \nQ 2525 409 2770 889 \nQ 3016 1369 3016 2328 \nQ 3016 3291 2770 3770 \nQ 2525 4250 2034 4250 \nz\nM 2034 4750 \nQ 2819 4750 3233 4129 \nQ 3647 3509 3647 2328 \nQ 3647 1150 3233 529 \nQ 2819 -91 2034 -91 \nQ 1250 -91 836 529 \nQ 422 1150 422 2328 \nQ 422 3509 836 4129 \nQ 1250 4750 2034 4750 \nz\n\" transform=\"scale(0.015625)\"/>\n       </defs>\n       <use xlink:href=\"#DejaVuSans-30\"/>\n      </g>\n     </g>\n    </g>\n    <g id=\"xtick_2\">\n     <g id=\"line2d_2\">\n      <g>\n       <use xlink:href=\"#ma961d7fc7a\" x=\"69.163125\" y=\"145.8\" style=\"stroke: #000000; stroke-width: 0.8\"/>\n      </g>\n     </g>\n     <g id=\"text_2\">\n      <!-- 2 -->\n      <g transform=\"translate(65.981875 160.398438) scale(0.1 -0.1)\">\n       <defs>\n        <path id=\"DejaVuSans-32\" d=\"M 1228 531 \nL 3431 531 \nL 3431 0 \nL 469 0 \nL 469 531 \nQ 828 903 1448 1529 \nQ 2069 2156 2228 2338 \nQ 2531 2678 2651 2914 \nQ 2772 3150 2772 3378 \nQ 2772 3750 2511 3984 \nQ 2250 4219 1831 4219 \nQ 1534 4219 1204 4116 \nQ 875 4013 500 3803 \nL 500 4441 \nQ 881 4594 1212 4672 \nQ 1544 4750 1819 4750 \nQ 2544 4750 2975 4387 \nQ 3406 4025 3406 3419 \nQ 3406 3131 3298 2873 \nQ 3191 2616 2906 2266 \nQ 2828 2175 2409 1742 \nQ 1991 1309 1228 531 \nz\n\" transform=\"scale(0.015625)\"/>\n       </defs>\n       <use xlink:href=\"#DejaVuSans-32\"/>\n      </g>\n     </g>\n    </g>\n    <g id=\"xtick_3\">\n     <g id=\"line2d_3\">\n      <g>\n       <use xlink:href=\"#ma961d7fc7a\" x=\"108.223125\" y=\"145.8\" style=\"stroke: #000000; stroke-width: 0.8\"/>\n      </g>\n     </g>\n     <g id=\"text_3\">\n      <!-- 4 -->\n      <g transform=\"translate(105.041875 160.398438) scale(0.1 -0.1)\">\n       <defs>\n        <path id=\"DejaVuSans-34\" d=\"M 2419 4116 \nL 825 1625 \nL 2419 1625 \nL 2419 4116 \nz\nM 2253 4666 \nL 3047 4666 \nL 3047 1625 \nL 3713 1625 \nL 3713 1100 \nL 3047 1100 \nL 3047 0 \nL 2419 0 \nL 2419 1100 \nL 313 1100 \nL 313 1709 \nL 2253 4666 \nz\n\" transform=\"scale(0.015625)\"/>\n       </defs>\n       <use xlink:href=\"#DejaVuSans-34\"/>\n      </g>\n     </g>\n    </g>\n    <g id=\"xtick_4\">\n     <g id=\"line2d_4\">\n      <g>\n       <use xlink:href=\"#ma961d7fc7a\" x=\"147.283125\" y=\"145.8\" style=\"stroke: #000000; stroke-width: 0.8\"/>\n      </g>\n     </g>\n     <g id=\"text_4\">\n      <!-- 6 -->\n      <g transform=\"translate(144.101875 160.398438) scale(0.1 -0.1)\">\n       <defs>\n        <path id=\"DejaVuSans-36\" d=\"M 2113 2584 \nQ 1688 2584 1439 2293 \nQ 1191 2003 1191 1497 \nQ 1191 994 1439 701 \nQ 1688 409 2113 409 \nQ 2538 409 2786 701 \nQ 3034 994 3034 1497 \nQ 3034 2003 2786 2293 \nQ 2538 2584 2113 2584 \nz\nM 3366 4563 \nL 3366 3988 \nQ 3128 4100 2886 4159 \nQ 2644 4219 2406 4219 \nQ 1781 4219 1451 3797 \nQ 1122 3375 1075 2522 \nQ 1259 2794 1537 2939 \nQ 1816 3084 2150 3084 \nQ 2853 3084 3261 2657 \nQ 3669 2231 3669 1497 \nQ 3669 778 3244 343 \nQ 2819 -91 2113 -91 \nQ 1303 -91 875 529 \nQ 447 1150 447 2328 \nQ 447 3434 972 4092 \nQ 1497 4750 2381 4750 \nQ 2619 4750 2861 4703 \nQ 3103 4656 3366 4563 \nz\n\" transform=\"scale(0.015625)\"/>\n       </defs>\n       <use xlink:href=\"#DejaVuSans-36\"/>\n      </g>\n     </g>\n    </g>\n    <g id=\"xtick_5\">\n     <g id=\"line2d_5\">\n      <g>\n       <use xlink:href=\"#ma961d7fc7a\" x=\"186.343125\" y=\"145.8\" style=\"stroke: #000000; stroke-width: 0.8\"/>\n      </g>\n     </g>\n     <g id=\"text_5\">\n      <!-- 8 -->\n      <g transform=\"translate(183.161875 160.398438) scale(0.1 -0.1)\">\n       <defs>\n        <path id=\"DejaVuSans-38\" d=\"M 2034 2216 \nQ 1584 2216 1326 1975 \nQ 1069 1734 1069 1313 \nQ 1069 891 1326 650 \nQ 1584 409 2034 409 \nQ 2484 409 2743 651 \nQ 3003 894 3003 1313 \nQ 3003 1734 2745 1975 \nQ 2488 2216 2034 2216 \nz\nM 1403 2484 \nQ 997 2584 770 2862 \nQ 544 3141 544 3541 \nQ 544 4100 942 4425 \nQ 1341 4750 2034 4750 \nQ 2731 4750 3128 4425 \nQ 3525 4100 3525 3541 \nQ 3525 3141 3298 2862 \nQ 3072 2584 2669 2484 \nQ 3125 2378 3379 2068 \nQ 3634 1759 3634 1313 \nQ 3634 634 3220 271 \nQ 2806 -91 2034 -91 \nQ 1263 -91 848 271 \nQ 434 634 434 1313 \nQ 434 1759 690 2068 \nQ 947 2378 1403 2484 \nz\nM 1172 3481 \nQ 1172 3119 1398 2916 \nQ 1625 2713 2034 2713 \nQ 2441 2713 2670 2916 \nQ 2900 3119 2900 3481 \nQ 2900 3844 2670 4047 \nQ 2441 4250 2034 4250 \nQ 1625 4250 1398 4047 \nQ 1172 3844 1172 3481 \nz\n\" transform=\"scale(0.015625)\"/>\n       </defs>\n       <use xlink:href=\"#DejaVuSans-38\"/>\n      </g>\n     </g>\n    </g>\n    <g id=\"xtick_6\">\n     <g id=\"line2d_6\">\n      <g>\n       <use xlink:href=\"#ma961d7fc7a\" x=\"225.403125\" y=\"145.8\" style=\"stroke: #000000; stroke-width: 0.8\"/>\n      </g>\n     </g>\n     <g id=\"text_6\">\n      <!-- 10 -->\n      <g transform=\"translate(219.040625 160.398438) scale(0.1 -0.1)\">\n       <defs>\n        <path id=\"DejaVuSans-31\" d=\"M 794 531 \nL 1825 531 \nL 1825 4091 \nL 703 3866 \nL 703 4441 \nL 1819 4666 \nL 2450 4666 \nL 2450 531 \nL 3481 531 \nL 3481 0 \nL 794 0 \nL 794 531 \nz\n\" transform=\"scale(0.015625)\"/>\n       </defs>\n       <use xlink:href=\"#DejaVuSans-31\"/>\n       <use xlink:href=\"#DejaVuSans-30\" x=\"63.623047\"/>\n      </g>\n     </g>\n    </g>\n    <g id=\"text_7\">\n     <!-- epoch -->\n     <g transform=\"translate(112.525 174.076563) scale(0.1 -0.1)\">\n      <defs>\n       <path id=\"DejaVuSans-65\" d=\"M 3597 1894 \nL 3597 1613 \nL 953 1613 \nQ 991 1019 1311 708 \nQ 1631 397 2203 397 \nQ 2534 397 2845 478 \nQ 3156 559 3463 722 \nL 3463 178 \nQ 3153 47 2828 -22 \nQ 2503 -91 2169 -91 \nQ 1331 -91 842 396 \nQ 353 884 353 1716 \nQ 353 2575 817 3079 \nQ 1281 3584 2069 3584 \nQ 2775 3584 3186 3129 \nQ 3597 2675 3597 1894 \nz\nM 3022 2063 \nQ 3016 2534 2758 2815 \nQ 2500 3097 2075 3097 \nQ 1594 3097 1305 2825 \nQ 1016 2553 972 2059 \nL 3022 2063 \nz\n\" transform=\"scale(0.015625)\"/>\n       <path id=\"DejaVuSans-70\" d=\"M 1159 525 \nL 1159 -1331 \nL 581 -1331 \nL 581 3500 \nL 1159 3500 \nL 1159 2969 \nQ 1341 3281 1617 3432 \nQ 1894 3584 2278 3584 \nQ 2916 3584 3314 3078 \nQ 3713 2572 3713 1747 \nQ 3713 922 3314 415 \nQ 2916 -91 2278 -91 \nQ 1894 -91 1617 61 \nQ 1341 213 1159 525 \nz\nM 3116 1747 \nQ 3116 2381 2855 2742 \nQ 2594 3103 2138 3103 \nQ 1681 3103 1420 2742 \nQ 1159 2381 1159 1747 \nQ 1159 1113 1420 752 \nQ 1681 391 2138 391 \nQ 2594 391 2855 752 \nQ 3116 1113 3116 1747 \nz\n\" transform=\"scale(0.015625)\"/>\n       <path id=\"DejaVuSans-6f\" d=\"M 1959 3097 \nQ 1497 3097 1228 2736 \nQ 959 2375 959 1747 \nQ 959 1119 1226 758 \nQ 1494 397 1959 397 \nQ 2419 397 2687 759 \nQ 2956 1122 2956 1747 \nQ 2956 2369 2687 2733 \nQ 2419 3097 1959 3097 \nz\nM 1959 3584 \nQ 2709 3584 3137 3096 \nQ 3566 2609 3566 1747 \nQ 3566 888 3137 398 \nQ 2709 -91 1959 -91 \nQ 1206 -91 779 398 \nQ 353 888 353 1747 \nQ 353 2609 779 3096 \nQ 1206 3584 1959 3584 \nz\n\" transform=\"scale(0.015625)\"/>\n       <path id=\"DejaVuSans-63\" d=\"M 3122 3366 \nL 3122 2828 \nQ 2878 2963 2633 3030 \nQ 2388 3097 2138 3097 \nQ 1578 3097 1268 2742 \nQ 959 2388 959 1747 \nQ 959 1106 1268 751 \nQ 1578 397 2138 397 \nQ 2388 397 2633 464 \nQ 2878 531 3122 666 \nL 3122 134 \nQ 2881 22 2623 -34 \nQ 2366 -91 2075 -91 \nQ 1284 -91 818 406 \nQ 353 903 353 1747 \nQ 353 2603 823 3093 \nQ 1294 3584 2113 3584 \nQ 2378 3584 2631 3529 \nQ 2884 3475 3122 3366 \nz\n\" transform=\"scale(0.015625)\"/>\n       <path id=\"DejaVuSans-68\" d=\"M 3513 2113 \nL 3513 0 \nL 2938 0 \nL 2938 2094 \nQ 2938 2591 2744 2837 \nQ 2550 3084 2163 3084 \nQ 1697 3084 1428 2787 \nQ 1159 2491 1159 1978 \nL 1159 0 \nL 581 0 \nL 581 4863 \nL 1159 4863 \nL 1159 2956 \nQ 1366 3272 1645 3428 \nQ 1925 3584 2291 3584 \nQ 2894 3584 3203 3211 \nQ 3513 2838 3513 2113 \nz\n\" transform=\"scale(0.015625)\"/>\n      </defs>\n      <use xlink:href=\"#DejaVuSans-65\"/>\n      <use xlink:href=\"#DejaVuSans-70\" x=\"61.523438\"/>\n      <use xlink:href=\"#DejaVuSans-6f\" x=\"125\"/>\n      <use xlink:href=\"#DejaVuSans-63\" x=\"186.181641\"/>\n      <use xlink:href=\"#DejaVuSans-68\" x=\"241.162109\"/>\n     </g>\n    </g>\n   </g>\n   <g id=\"matplotlib.axis_2\">\n    <g id=\"ytick_1\">\n     <g id=\"line2d_7\">\n      <defs>\n       <path id=\"m397de69f2f\" d=\"M 0 0 \nL -3.5 0 \n\" style=\"stroke: #000000; stroke-width: 0.8\"/>\n      </defs>\n      <g>\n       <use xlink:href=\"#m397de69f2f\" x=\"30.103125\" y=\"119.348567\" style=\"stroke: #000000; stroke-width: 0.8\"/>\n      </g>\n     </g>\n     <g id=\"text_8\">\n      <!-- 0.4 -->\n      <g transform=\"translate(7.2 123.147786) scale(0.1 -0.1)\">\n       <defs>\n        <path id=\"DejaVuSans-2e\" d=\"M 684 794 \nL 1344 794 \nL 1344 0 \nL 684 0 \nL 684 794 \nz\n\" transform=\"scale(0.015625)\"/>\n       </defs>\n       <use xlink:href=\"#DejaVuSans-30\"/>\n       <use xlink:href=\"#DejaVuSans-2e\" x=\"63.623047\"/>\n       <use xlink:href=\"#DejaVuSans-34\" x=\"95.410156\"/>\n      </g>\n     </g>\n    </g>\n    <g id=\"ytick_2\">\n     <g id=\"line2d_8\">\n      <g>\n       <use xlink:href=\"#m397de69f2f\" x=\"30.103125\" y=\"81.653075\" style=\"stroke: #000000; stroke-width: 0.8\"/>\n      </g>\n     </g>\n     <g id=\"text_9\">\n      <!-- 0.6 -->\n      <g transform=\"translate(7.2 85.452294) scale(0.1 -0.1)\">\n       <use xlink:href=\"#DejaVuSans-30\"/>\n       <use xlink:href=\"#DejaVuSans-2e\" x=\"63.623047\"/>\n       <use xlink:href=\"#DejaVuSans-36\" x=\"95.410156\"/>\n      </g>\n     </g>\n    </g>\n    <g id=\"ytick_3\">\n     <g id=\"line2d_9\">\n      <g>\n       <use xlink:href=\"#m397de69f2f\" x=\"30.103125\" y=\"43.957584\" style=\"stroke: #000000; stroke-width: 0.8\"/>\n      </g>\n     </g>\n     <g id=\"text_10\">\n      <!-- 0.8 -->\n      <g transform=\"translate(7.2 47.756803) scale(0.1 -0.1)\">\n       <use xlink:href=\"#DejaVuSans-30\"/>\n       <use xlink:href=\"#DejaVuSans-2e\" x=\"63.623047\"/>\n       <use xlink:href=\"#DejaVuSans-38\" x=\"95.410156\"/>\n      </g>\n     </g>\n    </g>\n   </g>\n   <g id=\"line2d_10\">\n    <path d=\"M 34.954394 13.5 \n\" clip-path=\"url(#pc3c4defe86)\" style=\"fill: none; stroke: #1f77b4; stroke-width: 1.5; stroke-linecap: square\"/>\n   </g>\n   <g id=\"line2d_11\">\n    <path d=\"M 34.954394 13.5 \nL 44.698573 80.912154 \n\" clip-path=\"url(#pc3c4defe86)\" style=\"fill: none; stroke: #1f77b4; stroke-width: 1.5; stroke-linecap: square\"/>\n   </g>\n   <g id=\"line2d_12\">\n    <path d=\"M 34.954394 13.5 \nL 44.698573 80.912154 \n\" clip-path=\"url(#pc3c4defe86)\" style=\"fill: none; stroke: #1f77b4; stroke-width: 1.5; stroke-linecap: square\"/>\n   </g>\n   <g id=\"line2d_13\">\n    <path d=\"M 49.633125 63.671831 \n\" clip-path=\"url(#pc3c4defe86)\" style=\"fill: none; stroke-dasharray: 5.55,2.4; stroke-dashoffset: 0; stroke: #ff7f0e; stroke-width: 1.5\"/>\n   </g>\n   <g id=\"line2d_14\"/>\n   <g id=\"line2d_15\">\n    <path d=\"M 34.954394 13.5 \nL 44.698573 80.912154 \n\" clip-path=\"url(#pc3c4defe86)\" style=\"fill: none; stroke: #1f77b4; stroke-width: 1.5; stroke-linecap: square\"/>\n   </g>\n   <g id=\"line2d_16\">\n    <path d=\"M 49.633125 63.671831 \n\" clip-path=\"url(#pc3c4defe86)\" style=\"fill: none; stroke-dasharray: 5.55,2.4; stroke-dashoffset: 0; stroke: #ff7f0e; stroke-width: 1.5\"/>\n   </g>\n   <g id=\"line2d_17\">\n    <path d=\"M 49.633125 48.628515 \n\" clip-path=\"url(#pc3c4defe86)\" style=\"fill: none; stroke-dasharray: 9.6,2.4,1.5,2.4; stroke-dashoffset: 0; stroke: #2ca02c; stroke-width: 1.5\"/>\n   </g>\n   <g id=\"line2d_18\">\n    <path d=\"M 34.954394 13.5 \nL 44.698573 80.912154 \nL 54.442752 97.144851 \n\" clip-path=\"url(#pc3c4defe86)\" style=\"fill: none; stroke: #1f77b4; stroke-width: 1.5; stroke-linecap: square\"/>\n   </g>\n   <g id=\"line2d_19\">\n    <path d=\"M 49.633125 63.671831 \n\" clip-path=\"url(#pc3c4defe86)\" style=\"fill: none; stroke-dasharray: 5.55,2.4; stroke-dashoffset: 0; stroke: #ff7f0e; stroke-width: 1.5\"/>\n   </g>\n   <g id=\"line2d_20\">\n    <path d=\"M 49.633125 48.628515 \n\" clip-path=\"url(#pc3c4defe86)\" style=\"fill: none; stroke-dasharray: 9.6,2.4,1.5,2.4; stroke-dashoffset: 0; stroke: #2ca02c; stroke-width: 1.5\"/>\n   </g>\n   <g id=\"line2d_21\">\n    <path d=\"M 34.954394 13.5 \nL 44.698573 80.912154 \nL 54.442752 97.144851 \nL 64.186931 105.662605 \n\" clip-path=\"url(#pc3c4defe86)\" style=\"fill: none; stroke: #1f77b4; stroke-width: 1.5; stroke-linecap: square\"/>\n   </g>\n   <g id=\"line2d_22\">\n    <path d=\"M 49.633125 63.671831 \n\" clip-path=\"url(#pc3c4defe86)\" style=\"fill: none; stroke-dasharray: 5.55,2.4; stroke-dashoffset: 0; stroke: #ff7f0e; stroke-width: 1.5\"/>\n   </g>\n   <g id=\"line2d_23\">\n    <path d=\"M 49.633125 48.628515 \n\" clip-path=\"url(#pc3c4defe86)\" style=\"fill: none; stroke-dasharray: 9.6,2.4,1.5,2.4; stroke-dashoffset: 0; stroke: #2ca02c; stroke-width: 1.5\"/>\n   </g>\n   <g id=\"line2d_24\">\n    <path d=\"M 34.954394 13.5 \nL 44.698573 80.912154 \nL 54.442752 97.144851 \nL 64.186931 105.662605 \n\" clip-path=\"url(#pc3c4defe86)\" style=\"fill: none; stroke: #1f77b4; stroke-width: 1.5; stroke-linecap: square\"/>\n   </g>\n   <g id=\"line2d_25\">\n    <path d=\"M 49.633125 63.671831 \nL 69.163125 71.677972 \n\" clip-path=\"url(#pc3c4defe86)\" style=\"fill: none; stroke-dasharray: 5.55,2.4; stroke-dashoffset: 0; stroke: #ff7f0e; stroke-width: 1.5\"/>\n   </g>\n   <g id=\"line2d_26\">\n    <path d=\"M 49.633125 48.628515 \n\" clip-path=\"url(#pc3c4defe86)\" style=\"fill: none; stroke-dasharray: 9.6,2.4,1.5,2.4; stroke-dashoffset: 0; stroke: #2ca02c; stroke-width: 1.5\"/>\n   </g>\n   <g id=\"line2d_27\">\n    <path d=\"M 34.954394 13.5 \nL 44.698573 80.912154 \nL 54.442752 97.144851 \nL 64.186931 105.662605 \n\" clip-path=\"url(#pc3c4defe86)\" style=\"fill: none; stroke: #1f77b4; stroke-width: 1.5; stroke-linecap: square\"/>\n   </g>\n   <g id=\"line2d_28\">\n    <path d=\"M 49.633125 63.671831 \nL 69.163125 71.677972 \n\" clip-path=\"url(#pc3c4defe86)\" style=\"fill: none; stroke-dasharray: 5.55,2.4; stroke-dashoffset: 0; stroke: #ff7f0e; stroke-width: 1.5\"/>\n   </g>\n   <g id=\"line2d_29\">\n    <path d=\"M 49.633125 48.628515 \nL 69.163125 53.176428 \n\" clip-path=\"url(#pc3c4defe86)\" style=\"fill: none; stroke-dasharray: 9.6,2.4,1.5,2.4; stroke-dashoffset: 0; stroke: #2ca02c; stroke-width: 1.5\"/>\n   </g>\n   <g id=\"line2d_30\">\n    <path d=\"M 34.954394 13.5 \nL 44.698573 80.912154 \nL 54.442752 97.144851 \nL 64.186931 105.662605 \nL 73.93111 112.696175 \n\" clip-path=\"url(#pc3c4defe86)\" style=\"fill: none; stroke: #1f77b4; stroke-width: 1.5; stroke-linecap: square\"/>\n   </g>\n   <g id=\"line2d_31\">\n    <path d=\"M 49.633125 63.671831 \nL 69.163125 71.677972 \n\" clip-path=\"url(#pc3c4defe86)\" style=\"fill: none; stroke-dasharray: 5.55,2.4; stroke-dashoffset: 0; stroke: #ff7f0e; stroke-width: 1.5\"/>\n   </g>\n   <g id=\"line2d_32\">\n    <path d=\"M 49.633125 48.628515 \nL 69.163125 53.176428 \n\" clip-path=\"url(#pc3c4defe86)\" style=\"fill: none; stroke-dasharray: 9.6,2.4,1.5,2.4; stroke-dashoffset: 0; stroke: #2ca02c; stroke-width: 1.5\"/>\n   </g>\n   <g id=\"line2d_33\">\n    <path d=\"M 34.954394 13.5 \nL 44.698573 80.912154 \nL 54.442752 97.144851 \nL 64.186931 105.662605 \nL 73.93111 112.696175 \nL 83.675289 115.066668 \n\" clip-path=\"url(#pc3c4defe86)\" style=\"fill: none; stroke: #1f77b4; stroke-width: 1.5; stroke-linecap: square\"/>\n   </g>\n   <g id=\"line2d_34\">\n    <path d=\"M 49.633125 63.671831 \nL 69.163125 71.677972 \n\" clip-path=\"url(#pc3c4defe86)\" style=\"fill: none; stroke-dasharray: 5.55,2.4; stroke-dashoffset: 0; stroke: #ff7f0e; stroke-width: 1.5\"/>\n   </g>\n   <g id=\"line2d_35\">\n    <path d=\"M 49.633125 48.628515 \nL 69.163125 53.176428 \n\" clip-path=\"url(#pc3c4defe86)\" style=\"fill: none; stroke-dasharray: 9.6,2.4,1.5,2.4; stroke-dashoffset: 0; stroke: #2ca02c; stroke-width: 1.5\"/>\n   </g>\n   <g id=\"line2d_36\">\n    <path d=\"M 34.954394 13.5 \nL 44.698573 80.912154 \nL 54.442752 97.144851 \nL 64.186931 105.662605 \nL 73.93111 112.696175 \nL 83.675289 115.066668 \n\" clip-path=\"url(#pc3c4defe86)\" style=\"fill: none; stroke: #1f77b4; stroke-width: 1.5; stroke-linecap: square\"/>\n   </g>\n   <g id=\"line2d_37\">\n    <path d=\"M 49.633125 63.671831 \nL 69.163125 71.677972 \nL 88.693125 105.926548 \n\" clip-path=\"url(#pc3c4defe86)\" style=\"fill: none; stroke-dasharray: 5.55,2.4; stroke-dashoffset: 0; stroke: #ff7f0e; stroke-width: 1.5\"/>\n   </g>\n   <g id=\"line2d_38\">\n    <path d=\"M 49.633125 48.628515 \nL 69.163125 53.176428 \n\" clip-path=\"url(#pc3c4defe86)\" style=\"fill: none; stroke-dasharray: 9.6,2.4,1.5,2.4; stroke-dashoffset: 0; stroke: #2ca02c; stroke-width: 1.5\"/>\n   </g>\n   <g id=\"line2d_39\">\n    <path d=\"M 34.954394 13.5 \nL 44.698573 80.912154 \nL 54.442752 97.144851 \nL 64.186931 105.662605 \nL 73.93111 112.696175 \nL 83.675289 115.066668 \n\" clip-path=\"url(#pc3c4defe86)\" style=\"fill: none; stroke: #1f77b4; stroke-width: 1.5; stroke-linecap: square\"/>\n   </g>\n   <g id=\"line2d_40\">\n    <path d=\"M 49.633125 63.671831 \nL 69.163125 71.677972 \nL 88.693125 105.926548 \n\" clip-path=\"url(#pc3c4defe86)\" style=\"fill: none; stroke-dasharray: 5.55,2.4; stroke-dashoffset: 0; stroke: #ff7f0e; stroke-width: 1.5\"/>\n   </g>\n   <g id=\"line2d_41\">\n    <path d=\"M 49.633125 48.628515 \nL 69.163125 53.176428 \nL 88.693125 37.370565 \n\" clip-path=\"url(#pc3c4defe86)\" style=\"fill: none; stroke-dasharray: 9.6,2.4,1.5,2.4; stroke-dashoffset: 0; stroke: #2ca02c; stroke-width: 1.5\"/>\n   </g>\n   <g id=\"line2d_42\">\n    <path d=\"M 34.954394 13.5 \nL 44.698573 80.912154 \nL 54.442752 97.144851 \nL 64.186931 105.662605 \nL 73.93111 112.696175 \nL 83.675289 115.066668 \nL 93.419468 119.535665 \n\" clip-path=\"url(#pc3c4defe86)\" style=\"fill: none; stroke: #1f77b4; stroke-width: 1.5; stroke-linecap: square\"/>\n   </g>\n   <g id=\"line2d_43\">\n    <path d=\"M 49.633125 63.671831 \nL 69.163125 71.677972 \nL 88.693125 105.926548 \n\" clip-path=\"url(#pc3c4defe86)\" style=\"fill: none; stroke-dasharray: 5.55,2.4; stroke-dashoffset: 0; stroke: #ff7f0e; stroke-width: 1.5\"/>\n   </g>\n   <g id=\"line2d_44\">\n    <path d=\"M 49.633125 48.628515 \nL 69.163125 53.176428 \nL 88.693125 37.370565 \n\" clip-path=\"url(#pc3c4defe86)\" style=\"fill: none; stroke-dasharray: 9.6,2.4,1.5,2.4; stroke-dashoffset: 0; stroke: #2ca02c; stroke-width: 1.5\"/>\n   </g>\n   <g id=\"line2d_45\">\n    <path d=\"M 34.954394 13.5 \nL 44.698573 80.912154 \nL 54.442752 97.144851 \nL 64.186931 105.662605 \nL 73.93111 112.696175 \nL 83.675289 115.066668 \nL 93.419468 119.535665 \nL 103.163647 121.811775 \n\" clip-path=\"url(#pc3c4defe86)\" style=\"fill: none; stroke: #1f77b4; stroke-width: 1.5; stroke-linecap: square\"/>\n   </g>\n   <g id=\"line2d_46\">\n    <path d=\"M 49.633125 63.671831 \nL 69.163125 71.677972 \nL 88.693125 105.926548 \n\" clip-path=\"url(#pc3c4defe86)\" style=\"fill: none; stroke-dasharray: 5.55,2.4; stroke-dashoffset: 0; stroke: #ff7f0e; stroke-width: 1.5\"/>\n   </g>\n   <g id=\"line2d_47\">\n    <path d=\"M 49.633125 48.628515 \nL 69.163125 53.176428 \nL 88.693125 37.370565 \n\" clip-path=\"url(#pc3c4defe86)\" style=\"fill: none; stroke-dasharray: 9.6,2.4,1.5,2.4; stroke-dashoffset: 0; stroke: #2ca02c; stroke-width: 1.5\"/>\n   </g>\n   <g id=\"line2d_48\">\n    <path d=\"M 34.954394 13.5 \nL 44.698573 80.912154 \nL 54.442752 97.144851 \nL 64.186931 105.662605 \nL 73.93111 112.696175 \nL 83.675289 115.066668 \nL 93.419468 119.535665 \nL 103.163647 121.811775 \n\" clip-path=\"url(#pc3c4defe86)\" style=\"fill: none; stroke: #1f77b4; stroke-width: 1.5; stroke-linecap: square\"/>\n   </g>\n   <g id=\"line2d_49\">\n    <path d=\"M 49.633125 63.671831 \nL 69.163125 71.677972 \nL 88.693125 105.926548 \nL 108.223125 111.90601 \n\" clip-path=\"url(#pc3c4defe86)\" style=\"fill: none; stroke-dasharray: 5.55,2.4; stroke-dashoffset: 0; stroke: #ff7f0e; stroke-width: 1.5\"/>\n   </g>\n   <g id=\"line2d_50\">\n    <path d=\"M 49.633125 48.628515 \nL 69.163125 53.176428 \nL 88.693125 37.370565 \n\" clip-path=\"url(#pc3c4defe86)\" style=\"fill: none; stroke-dasharray: 9.6,2.4,1.5,2.4; stroke-dashoffset: 0; stroke: #2ca02c; stroke-width: 1.5\"/>\n   </g>\n   <g id=\"line2d_51\">\n    <path d=\"M 34.954394 13.5 \nL 44.698573 80.912154 \nL 54.442752 97.144851 \nL 64.186931 105.662605 \nL 73.93111 112.696175 \nL 83.675289 115.066668 \nL 93.419468 119.535665 \nL 103.163647 121.811775 \n\" clip-path=\"url(#pc3c4defe86)\" style=\"fill: none; stroke: #1f77b4; stroke-width: 1.5; stroke-linecap: square\"/>\n   </g>\n   <g id=\"line2d_52\">\n    <path d=\"M 49.633125 63.671831 \nL 69.163125 71.677972 \nL 88.693125 105.926548 \nL 108.223125 111.90601 \n\" clip-path=\"url(#pc3c4defe86)\" style=\"fill: none; stroke-dasharray: 5.55,2.4; stroke-dashoffset: 0; stroke: #ff7f0e; stroke-width: 1.5\"/>\n   </g>\n   <g id=\"line2d_53\">\n    <path d=\"M 49.633125 48.628515 \nL 69.163125 53.176428 \nL 88.693125 37.370565 \nL 108.223125 35.320277 \n\" clip-path=\"url(#pc3c4defe86)\" style=\"fill: none; stroke-dasharray: 9.6,2.4,1.5,2.4; stroke-dashoffset: 0; stroke: #2ca02c; stroke-width: 1.5\"/>\n   </g>\n   <g id=\"line2d_54\">\n    <path d=\"M 34.954394 13.5 \nL 44.698573 80.912154 \nL 54.442752 97.144851 \nL 64.186931 105.662605 \nL 73.93111 112.696175 \nL 83.675289 115.066668 \nL 93.419468 119.535665 \nL 103.163647 121.811775 \nL 112.907826 124.435288 \n\" clip-path=\"url(#pc3c4defe86)\" style=\"fill: none; stroke: #1f77b4; stroke-width: 1.5; stroke-linecap: square\"/>\n   </g>\n   <g id=\"line2d_55\">\n    <path d=\"M 49.633125 63.671831 \nL 69.163125 71.677972 \nL 88.693125 105.926548 \nL 108.223125 111.90601 \n\" clip-path=\"url(#pc3c4defe86)\" style=\"fill: none; stroke-dasharray: 5.55,2.4; stroke-dashoffset: 0; stroke: #ff7f0e; stroke-width: 1.5\"/>\n   </g>\n   <g id=\"line2d_56\">\n    <path d=\"M 49.633125 48.628515 \nL 69.163125 53.176428 \nL 88.693125 37.370565 \nL 108.223125 35.320277 \n\" clip-path=\"url(#pc3c4defe86)\" style=\"fill: none; stroke-dasharray: 9.6,2.4,1.5,2.4; stroke-dashoffset: 0; stroke: #2ca02c; stroke-width: 1.5\"/>\n   </g>\n   <g id=\"line2d_57\">\n    <path d=\"M 34.954394 13.5 \nL 44.698573 80.912154 \nL 54.442752 97.144851 \nL 64.186931 105.662605 \nL 73.93111 112.696175 \nL 83.675289 115.066668 \nL 93.419468 119.535665 \nL 103.163647 121.811775 \nL 112.907826 124.435288 \nL 122.652006 126.475451 \n\" clip-path=\"url(#pc3c4defe86)\" style=\"fill: none; stroke: #1f77b4; stroke-width: 1.5; stroke-linecap: square\"/>\n   </g>\n   <g id=\"line2d_58\">\n    <path d=\"M 49.633125 63.671831 \nL 69.163125 71.677972 \nL 88.693125 105.926548 \nL 108.223125 111.90601 \n\" clip-path=\"url(#pc3c4defe86)\" style=\"fill: none; stroke-dasharray: 5.55,2.4; stroke-dashoffset: 0; stroke: #ff7f0e; stroke-width: 1.5\"/>\n   </g>\n   <g id=\"line2d_59\">\n    <path d=\"M 49.633125 48.628515 \nL 69.163125 53.176428 \nL 88.693125 37.370565 \nL 108.223125 35.320277 \n\" clip-path=\"url(#pc3c4defe86)\" style=\"fill: none; stroke-dasharray: 9.6,2.4,1.5,2.4; stroke-dashoffset: 0; stroke: #2ca02c; stroke-width: 1.5\"/>\n   </g>\n   <g id=\"line2d_60\">\n    <path d=\"M 34.954394 13.5 \nL 44.698573 80.912154 \nL 54.442752 97.144851 \nL 64.186931 105.662605 \nL 73.93111 112.696175 \nL 83.675289 115.066668 \nL 93.419468 119.535665 \nL 103.163647 121.811775 \nL 112.907826 124.435288 \nL 122.652006 126.475451 \n\" clip-path=\"url(#pc3c4defe86)\" style=\"fill: none; stroke: #1f77b4; stroke-width: 1.5; stroke-linecap: square\"/>\n   </g>\n   <g id=\"line2d_61\">\n    <path d=\"M 49.633125 63.671831 \nL 69.163125 71.677972 \nL 88.693125 105.926548 \nL 108.223125 111.90601 \nL 127.753125 114.797356 \n\" clip-path=\"url(#pc3c4defe86)\" style=\"fill: none; stroke-dasharray: 5.55,2.4; stroke-dashoffset: 0; stroke: #ff7f0e; stroke-width: 1.5\"/>\n   </g>\n   <g id=\"line2d_62\">\n    <path d=\"M 49.633125 48.628515 \nL 69.163125 53.176428 \nL 88.693125 37.370565 \nL 108.223125 35.320277 \n\" clip-path=\"url(#pc3c4defe86)\" style=\"fill: none; stroke-dasharray: 9.6,2.4,1.5,2.4; stroke-dashoffset: 0; stroke: #2ca02c; stroke-width: 1.5\"/>\n   </g>\n   <g id=\"line2d_63\">\n    <path d=\"M 34.954394 13.5 \nL 44.698573 80.912154 \nL 54.442752 97.144851 \nL 64.186931 105.662605 \nL 73.93111 112.696175 \nL 83.675289 115.066668 \nL 93.419468 119.535665 \nL 103.163647 121.811775 \nL 112.907826 124.435288 \nL 122.652006 126.475451 \n\" clip-path=\"url(#pc3c4defe86)\" style=\"fill: none; stroke: #1f77b4; stroke-width: 1.5; stroke-linecap: square\"/>\n   </g>\n   <g id=\"line2d_64\">\n    <path d=\"M 49.633125 63.671831 \nL 69.163125 71.677972 \nL 88.693125 105.926548 \nL 108.223125 111.90601 \nL 127.753125 114.797356 \n\" clip-path=\"url(#pc3c4defe86)\" style=\"fill: none; stroke-dasharray: 5.55,2.4; stroke-dashoffset: 0; stroke: #ff7f0e; stroke-width: 1.5\"/>\n   </g>\n   <g id=\"line2d_65\">\n    <path d=\"M 49.633125 48.628515 \nL 69.163125 53.176428 \nL 88.693125 37.370565 \nL 108.223125 35.320277 \nL 127.753125 34.481522 \n\" clip-path=\"url(#pc3c4defe86)\" style=\"fill: none; stroke-dasharray: 9.6,2.4,1.5,2.4; stroke-dashoffset: 0; stroke: #2ca02c; stroke-width: 1.5\"/>\n   </g>\n   <g id=\"line2d_66\">\n    <path d=\"M 34.954394 13.5 \nL 44.698573 80.912154 \nL 54.442752 97.144851 \nL 64.186931 105.662605 \nL 73.93111 112.696175 \nL 83.675289 115.066668 \nL 93.419468 119.535665 \nL 103.163647 121.811775 \nL 112.907826 124.435288 \nL 122.652006 126.475451 \nL 132.396185 128.137551 \n\" clip-path=\"url(#pc3c4defe86)\" style=\"fill: none; stroke: #1f77b4; stroke-width: 1.5; stroke-linecap: square\"/>\n   </g>\n   <g id=\"line2d_67\">\n    <path d=\"M 49.633125 63.671831 \nL 69.163125 71.677972 \nL 88.693125 105.926548 \nL 108.223125 111.90601 \nL 127.753125 114.797356 \n\" clip-path=\"url(#pc3c4defe86)\" style=\"fill: none; stroke-dasharray: 5.55,2.4; stroke-dashoffset: 0; stroke: #ff7f0e; stroke-width: 1.5\"/>\n   </g>\n   <g id=\"line2d_68\">\n    <path d=\"M 49.633125 48.628515 \nL 69.163125 53.176428 \nL 88.693125 37.370565 \nL 108.223125 35.320277 \nL 127.753125 34.481522 \n\" clip-path=\"url(#pc3c4defe86)\" style=\"fill: none; stroke-dasharray: 9.6,2.4,1.5,2.4; stroke-dashoffset: 0; stroke: #2ca02c; stroke-width: 1.5\"/>\n   </g>\n   <g id=\"line2d_69\">\n    <path d=\"M 34.954394 13.5 \nL 44.698573 80.912154 \nL 54.442752 97.144851 \nL 64.186931 105.662605 \nL 73.93111 112.696175 \nL 83.675289 115.066668 \nL 93.419468 119.535665 \nL 103.163647 121.811775 \nL 112.907826 124.435288 \nL 122.652006 126.475451 \nL 132.396185 128.137551 \nL 142.140364 130.46466 \n\" clip-path=\"url(#pc3c4defe86)\" style=\"fill: none; stroke: #1f77b4; stroke-width: 1.5; stroke-linecap: square\"/>\n   </g>\n   <g id=\"line2d_70\">\n    <path d=\"M 49.633125 63.671831 \nL 69.163125 71.677972 \nL 88.693125 105.926548 \nL 108.223125 111.90601 \nL 127.753125 114.797356 \n\" clip-path=\"url(#pc3c4defe86)\" style=\"fill: none; stroke-dasharray: 5.55,2.4; stroke-dashoffset: 0; stroke: #ff7f0e; stroke-width: 1.5\"/>\n   </g>\n   <g id=\"line2d_71\">\n    <path d=\"M 49.633125 48.628515 \nL 69.163125 53.176428 \nL 88.693125 37.370565 \nL 108.223125 35.320277 \nL 127.753125 34.481522 \n\" clip-path=\"url(#pc3c4defe86)\" style=\"fill: none; stroke-dasharray: 9.6,2.4,1.5,2.4; stroke-dashoffset: 0; stroke: #2ca02c; stroke-width: 1.5\"/>\n   </g>\n   <g id=\"line2d_72\">\n    <path d=\"M 34.954394 13.5 \nL 44.698573 80.912154 \nL 54.442752 97.144851 \nL 64.186931 105.662605 \nL 73.93111 112.696175 \nL 83.675289 115.066668 \nL 93.419468 119.535665 \nL 103.163647 121.811775 \nL 112.907826 124.435288 \nL 122.652006 126.475451 \nL 132.396185 128.137551 \nL 142.140364 130.46466 \n\" clip-path=\"url(#pc3c4defe86)\" style=\"fill: none; stroke: #1f77b4; stroke-width: 1.5; stroke-linecap: square\"/>\n   </g>\n   <g id=\"line2d_73\">\n    <path d=\"M 49.633125 63.671831 \nL 69.163125 71.677972 \nL 88.693125 105.926548 \nL 108.223125 111.90601 \nL 127.753125 114.797356 \nL 147.283125 107.661583 \n\" clip-path=\"url(#pc3c4defe86)\" style=\"fill: none; stroke-dasharray: 5.55,2.4; stroke-dashoffset: 0; stroke: #ff7f0e; stroke-width: 1.5\"/>\n   </g>\n   <g id=\"line2d_74\">\n    <path d=\"M 49.633125 48.628515 \nL 69.163125 53.176428 \nL 88.693125 37.370565 \nL 108.223125 35.320277 \nL 127.753125 34.481522 \n\" clip-path=\"url(#pc3c4defe86)\" style=\"fill: none; stroke-dasharray: 9.6,2.4,1.5,2.4; stroke-dashoffset: 0; stroke: #2ca02c; stroke-width: 1.5\"/>\n   </g>\n   <g id=\"line2d_75\">\n    <path d=\"M 34.954394 13.5 \nL 44.698573 80.912154 \nL 54.442752 97.144851 \nL 64.186931 105.662605 \nL 73.93111 112.696175 \nL 83.675289 115.066668 \nL 93.419468 119.535665 \nL 103.163647 121.811775 \nL 112.907826 124.435288 \nL 122.652006 126.475451 \nL 132.396185 128.137551 \nL 142.140364 130.46466 \n\" clip-path=\"url(#pc3c4defe86)\" style=\"fill: none; stroke: #1f77b4; stroke-width: 1.5; stroke-linecap: square\"/>\n   </g>\n   <g id=\"line2d_76\">\n    <path d=\"M 49.633125 63.671831 \nL 69.163125 71.677972 \nL 88.693125 105.926548 \nL 108.223125 111.90601 \nL 127.753125 114.797356 \nL 147.283125 107.661583 \n\" clip-path=\"url(#pc3c4defe86)\" style=\"fill: none; stroke-dasharray: 5.55,2.4; stroke-dashoffset: 0; stroke: #ff7f0e; stroke-width: 1.5\"/>\n   </g>\n   <g id=\"line2d_77\">\n    <path d=\"M 49.633125 48.628515 \nL 69.163125 53.176428 \nL 88.693125 37.370565 \nL 108.223125 35.320277 \nL 127.753125 34.481522 \nL 147.283125 39.569966 \n\" clip-path=\"url(#pc3c4defe86)\" style=\"fill: none; stroke-dasharray: 9.6,2.4,1.5,2.4; stroke-dashoffset: 0; stroke: #2ca02c; stroke-width: 1.5\"/>\n   </g>\n   <g id=\"line2d_78\">\n    <path d=\"M 34.954394 13.5 \nL 44.698573 80.912154 \nL 54.442752 97.144851 \nL 64.186931 105.662605 \nL 73.93111 112.696175 \nL 83.675289 115.066668 \nL 93.419468 119.535665 \nL 103.163647 121.811775 \nL 112.907826 124.435288 \nL 122.652006 126.475451 \nL 132.396185 128.137551 \nL 142.140364 130.46466 \nL 151.884543 132.350886 \n\" clip-path=\"url(#pc3c4defe86)\" style=\"fill: none; stroke: #1f77b4; stroke-width: 1.5; stroke-linecap: square\"/>\n   </g>\n   <g id=\"line2d_79\">\n    <path d=\"M 49.633125 63.671831 \nL 69.163125 71.677972 \nL 88.693125 105.926548 \nL 108.223125 111.90601 \nL 127.753125 114.797356 \nL 147.283125 107.661583 \n\" clip-path=\"url(#pc3c4defe86)\" style=\"fill: none; stroke-dasharray: 5.55,2.4; stroke-dashoffset: 0; stroke: #ff7f0e; stroke-width: 1.5\"/>\n   </g>\n   <g id=\"line2d_80\">\n    <path d=\"M 49.633125 48.628515 \nL 69.163125 53.176428 \nL 88.693125 37.370565 \nL 108.223125 35.320277 \nL 127.753125 34.481522 \nL 147.283125 39.569966 \n\" clip-path=\"url(#pc3c4defe86)\" style=\"fill: none; stroke-dasharray: 9.6,2.4,1.5,2.4; stroke-dashoffset: 0; stroke: #2ca02c; stroke-width: 1.5\"/>\n   </g>\n   <g id=\"line2d_81\">\n    <path d=\"M 34.954394 13.5 \nL 44.698573 80.912154 \nL 54.442752 97.144851 \nL 64.186931 105.662605 \nL 73.93111 112.696175 \nL 83.675289 115.066668 \nL 93.419468 119.535665 \nL 103.163647 121.811775 \nL 112.907826 124.435288 \nL 122.652006 126.475451 \nL 132.396185 128.137551 \nL 142.140364 130.46466 \nL 151.884543 132.350886 \nL 161.628722 131.114839 \n\" clip-path=\"url(#pc3c4defe86)\" style=\"fill: none; stroke: #1f77b4; stroke-width: 1.5; stroke-linecap: square\"/>\n   </g>\n   <g id=\"line2d_82\">\n    <path d=\"M 49.633125 63.671831 \nL 69.163125 71.677972 \nL 88.693125 105.926548 \nL 108.223125 111.90601 \nL 127.753125 114.797356 \nL 147.283125 107.661583 \n\" clip-path=\"url(#pc3c4defe86)\" style=\"fill: none; stroke-dasharray: 5.55,2.4; stroke-dashoffset: 0; stroke: #ff7f0e; stroke-width: 1.5\"/>\n   </g>\n   <g id=\"line2d_83\">\n    <path d=\"M 49.633125 48.628515 \nL 69.163125 53.176428 \nL 88.693125 37.370565 \nL 108.223125 35.320277 \nL 127.753125 34.481522 \nL 147.283125 39.569966 \n\" clip-path=\"url(#pc3c4defe86)\" style=\"fill: none; stroke-dasharray: 9.6,2.4,1.5,2.4; stroke-dashoffset: 0; stroke: #2ca02c; stroke-width: 1.5\"/>\n   </g>\n   <g id=\"line2d_84\">\n    <path d=\"M 34.954394 13.5 \nL 44.698573 80.912154 \nL 54.442752 97.144851 \nL 64.186931 105.662605 \nL 73.93111 112.696175 \nL 83.675289 115.066668 \nL 93.419468 119.535665 \nL 103.163647 121.811775 \nL 112.907826 124.435288 \nL 122.652006 126.475451 \nL 132.396185 128.137551 \nL 142.140364 130.46466 \nL 151.884543 132.350886 \nL 161.628722 131.114839 \n\" clip-path=\"url(#pc3c4defe86)\" style=\"fill: none; stroke: #1f77b4; stroke-width: 1.5; stroke-linecap: square\"/>\n   </g>\n   <g id=\"line2d_85\">\n    <path d=\"M 49.633125 63.671831 \nL 69.163125 71.677972 \nL 88.693125 105.926548 \nL 108.223125 111.90601 \nL 127.753125 114.797356 \nL 147.283125 107.661583 \nL 166.813125 111.985855 \n\" clip-path=\"url(#pc3c4defe86)\" style=\"fill: none; stroke-dasharray: 5.55,2.4; stroke-dashoffset: 0; stroke: #ff7f0e; stroke-width: 1.5\"/>\n   </g>\n   <g id=\"line2d_86\">\n    <path d=\"M 49.633125 48.628515 \nL 69.163125 53.176428 \nL 88.693125 37.370565 \nL 108.223125 35.320277 \nL 127.753125 34.481522 \nL 147.283125 39.569966 \n\" clip-path=\"url(#pc3c4defe86)\" style=\"fill: none; stroke-dasharray: 9.6,2.4,1.5,2.4; stroke-dashoffset: 0; stroke: #2ca02c; stroke-width: 1.5\"/>\n   </g>\n   <g id=\"line2d_87\">\n    <path d=\"M 34.954394 13.5 \nL 44.698573 80.912154 \nL 54.442752 97.144851 \nL 64.186931 105.662605 \nL 73.93111 112.696175 \nL 83.675289 115.066668 \nL 93.419468 119.535665 \nL 103.163647 121.811775 \nL 112.907826 124.435288 \nL 122.652006 126.475451 \nL 132.396185 128.137551 \nL 142.140364 130.46466 \nL 151.884543 132.350886 \nL 161.628722 131.114839 \n\" clip-path=\"url(#pc3c4defe86)\" style=\"fill: none; stroke: #1f77b4; stroke-width: 1.5; stroke-linecap: square\"/>\n   </g>\n   <g id=\"line2d_88\">\n    <path d=\"M 49.633125 63.671831 \nL 69.163125 71.677972 \nL 88.693125 105.926548 \nL 108.223125 111.90601 \nL 127.753125 114.797356 \nL 147.283125 107.661583 \nL 166.813125 111.985855 \n\" clip-path=\"url(#pc3c4defe86)\" style=\"fill: none; stroke-dasharray: 5.55,2.4; stroke-dashoffset: 0; stroke: #ff7f0e; stroke-width: 1.5\"/>\n   </g>\n   <g id=\"line2d_89\">\n    <path d=\"M 49.633125 48.628515 \nL 69.163125 53.176428 \nL 88.693125 37.370565 \nL 108.223125 35.320277 \nL 127.753125 34.481522 \nL 147.283125 39.569966 \nL 166.813125 36.308143 \n\" clip-path=\"url(#pc3c4defe86)\" style=\"fill: none; stroke-dasharray: 9.6,2.4,1.5,2.4; stroke-dashoffset: 0; stroke: #2ca02c; stroke-width: 1.5\"/>\n   </g>\n   <g id=\"line2d_90\">\n    <path d=\"M 34.954394 13.5 \nL 44.698573 80.912154 \nL 54.442752 97.144851 \nL 64.186931 105.662605 \nL 73.93111 112.696175 \nL 83.675289 115.066668 \nL 93.419468 119.535665 \nL 103.163647 121.811775 \nL 112.907826 124.435288 \nL 122.652006 126.475451 \nL 132.396185 128.137551 \nL 142.140364 130.46466 \nL 151.884543 132.350886 \nL 161.628722 131.114839 \nL 171.372901 135.118714 \n\" clip-path=\"url(#pc3c4defe86)\" style=\"fill: none; stroke: #1f77b4; stroke-width: 1.5; stroke-linecap: square\"/>\n   </g>\n   <g id=\"line2d_91\">\n    <path d=\"M 49.633125 63.671831 \nL 69.163125 71.677972 \nL 88.693125 105.926548 \nL 108.223125 111.90601 \nL 127.753125 114.797356 \nL 147.283125 107.661583 \nL 166.813125 111.985855 \n\" clip-path=\"url(#pc3c4defe86)\" style=\"fill: none; stroke-dasharray: 5.55,2.4; stroke-dashoffset: 0; stroke: #ff7f0e; stroke-width: 1.5\"/>\n   </g>\n   <g id=\"line2d_92\">\n    <path d=\"M 49.633125 48.628515 \nL 69.163125 53.176428 \nL 88.693125 37.370565 \nL 108.223125 35.320277 \nL 127.753125 34.481522 \nL 147.283125 39.569966 \nL 166.813125 36.308143 \n\" clip-path=\"url(#pc3c4defe86)\" style=\"fill: none; stroke-dasharray: 9.6,2.4,1.5,2.4; stroke-dashoffset: 0; stroke: #2ca02c; stroke-width: 1.5\"/>\n   </g>\n   <g id=\"line2d_93\">\n    <path d=\"M 34.954394 13.5 \nL 44.698573 80.912154 \nL 54.442752 97.144851 \nL 64.186931 105.662605 \nL 73.93111 112.696175 \nL 83.675289 115.066668 \nL 93.419468 119.535665 \nL 103.163647 121.811775 \nL 112.907826 124.435288 \nL 122.652006 126.475451 \nL 132.396185 128.137551 \nL 142.140364 130.46466 \nL 151.884543 132.350886 \nL 161.628722 131.114839 \nL 171.372901 135.118714 \nL 181.11708 134.145734 \n\" clip-path=\"url(#pc3c4defe86)\" style=\"fill: none; stroke: #1f77b4; stroke-width: 1.5; stroke-linecap: square\"/>\n   </g>\n   <g id=\"line2d_94\">\n    <path d=\"M 49.633125 63.671831 \nL 69.163125 71.677972 \nL 88.693125 105.926548 \nL 108.223125 111.90601 \nL 127.753125 114.797356 \nL 147.283125 107.661583 \nL 166.813125 111.985855 \n\" clip-path=\"url(#pc3c4defe86)\" style=\"fill: none; stroke-dasharray: 5.55,2.4; stroke-dashoffset: 0; stroke: #ff7f0e; stroke-width: 1.5\"/>\n   </g>\n   <g id=\"line2d_95\">\n    <path d=\"M 49.633125 48.628515 \nL 69.163125 53.176428 \nL 88.693125 37.370565 \nL 108.223125 35.320277 \nL 127.753125 34.481522 \nL 147.283125 39.569966 \nL 166.813125 36.308143 \n\" clip-path=\"url(#pc3c4defe86)\" style=\"fill: none; stroke-dasharray: 9.6,2.4,1.5,2.4; stroke-dashoffset: 0; stroke: #2ca02c; stroke-width: 1.5\"/>\n   </g>\n   <g id=\"line2d_96\">\n    <path d=\"M 34.954394 13.5 \nL 44.698573 80.912154 \nL 54.442752 97.144851 \nL 64.186931 105.662605 \nL 73.93111 112.696175 \nL 83.675289 115.066668 \nL 93.419468 119.535665 \nL 103.163647 121.811775 \nL 112.907826 124.435288 \nL 122.652006 126.475451 \nL 132.396185 128.137551 \nL 142.140364 130.46466 \nL 151.884543 132.350886 \nL 161.628722 131.114839 \nL 171.372901 135.118714 \nL 181.11708 134.145734 \n\" clip-path=\"url(#pc3c4defe86)\" style=\"fill: none; stroke: #1f77b4; stroke-width: 1.5; stroke-linecap: square\"/>\n   </g>\n   <g id=\"line2d_97\">\n    <path d=\"M 49.633125 63.671831 \nL 69.163125 71.677972 \nL 88.693125 105.926548 \nL 108.223125 111.90601 \nL 127.753125 114.797356 \nL 147.283125 107.661583 \nL 166.813125 111.985855 \nL 186.343125 119.077619 \n\" clip-path=\"url(#pc3c4defe86)\" style=\"fill: none; stroke-dasharray: 5.55,2.4; stroke-dashoffset: 0; stroke: #ff7f0e; stroke-width: 1.5\"/>\n   </g>\n   <g id=\"line2d_98\">\n    <path d=\"M 49.633125 48.628515 \nL 69.163125 53.176428 \nL 88.693125 37.370565 \nL 108.223125 35.320277 \nL 127.753125 34.481522 \nL 147.283125 39.569966 \nL 166.813125 36.308143 \n\" clip-path=\"url(#pc3c4defe86)\" style=\"fill: none; stroke-dasharray: 9.6,2.4,1.5,2.4; stroke-dashoffset: 0; stroke: #2ca02c; stroke-width: 1.5\"/>\n   </g>\n   <g id=\"line2d_99\">\n    <path d=\"M 34.954394 13.5 \nL 44.698573 80.912154 \nL 54.442752 97.144851 \nL 64.186931 105.662605 \nL 73.93111 112.696175 \nL 83.675289 115.066668 \nL 93.419468 119.535665 \nL 103.163647 121.811775 \nL 112.907826 124.435288 \nL 122.652006 126.475451 \nL 132.396185 128.137551 \nL 142.140364 130.46466 \nL 151.884543 132.350886 \nL 161.628722 131.114839 \nL 171.372901 135.118714 \nL 181.11708 134.145734 \n\" clip-path=\"url(#pc3c4defe86)\" style=\"fill: none; stroke: #1f77b4; stroke-width: 1.5; stroke-linecap: square\"/>\n   </g>\n   <g id=\"line2d_100\">\n    <path d=\"M 49.633125 63.671831 \nL 69.163125 71.677972 \nL 88.693125 105.926548 \nL 108.223125 111.90601 \nL 127.753125 114.797356 \nL 147.283125 107.661583 \nL 166.813125 111.985855 \nL 186.343125 119.077619 \n\" clip-path=\"url(#pc3c4defe86)\" style=\"fill: none; stroke-dasharray: 5.55,2.4; stroke-dashoffset: 0; stroke: #ff7f0e; stroke-width: 1.5\"/>\n   </g>\n   <g id=\"line2d_101\">\n    <path d=\"M 49.633125 48.628515 \nL 69.163125 53.176428 \nL 88.693125 37.370565 \nL 108.223125 35.320277 \nL 127.753125 34.481522 \nL 147.283125 39.569966 \nL 166.813125 36.308143 \nL 186.343125 33.139515 \n\" clip-path=\"url(#pc3c4defe86)\" style=\"fill: none; stroke-dasharray: 9.6,2.4,1.5,2.4; stroke-dashoffset: 0; stroke: #2ca02c; stroke-width: 1.5\"/>\n   </g>\n   <g id=\"line2d_102\">\n    <path d=\"M 34.954394 13.5 \nL 44.698573 80.912154 \nL 54.442752 97.144851 \nL 64.186931 105.662605 \nL 73.93111 112.696175 \nL 83.675289 115.066668 \nL 93.419468 119.535665 \nL 103.163647 121.811775 \nL 112.907826 124.435288 \nL 122.652006 126.475451 \nL 132.396185 128.137551 \nL 142.140364 130.46466 \nL 151.884543 132.350886 \nL 161.628722 131.114839 \nL 171.372901 135.118714 \nL 181.11708 134.145734 \nL 190.861259 137.173495 \n\" clip-path=\"url(#pc3c4defe86)\" style=\"fill: none; stroke: #1f77b4; stroke-width: 1.5; stroke-linecap: square\"/>\n   </g>\n   <g id=\"line2d_103\">\n    <path d=\"M 49.633125 63.671831 \nL 69.163125 71.677972 \nL 88.693125 105.926548 \nL 108.223125 111.90601 \nL 127.753125 114.797356 \nL 147.283125 107.661583 \nL 166.813125 111.985855 \nL 186.343125 119.077619 \n\" clip-path=\"url(#pc3c4defe86)\" style=\"fill: none; stroke-dasharray: 5.55,2.4; stroke-dashoffset: 0; stroke: #ff7f0e; stroke-width: 1.5\"/>\n   </g>\n   <g id=\"line2d_104\">\n    <path d=\"M 49.633125 48.628515 \nL 69.163125 53.176428 \nL 88.693125 37.370565 \nL 108.223125 35.320277 \nL 127.753125 34.481522 \nL 147.283125 39.569966 \nL 166.813125 36.308143 \nL 186.343125 33.139515 \n\" clip-path=\"url(#pc3c4defe86)\" style=\"fill: none; stroke-dasharray: 9.6,2.4,1.5,2.4; stroke-dashoffset: 0; stroke: #2ca02c; stroke-width: 1.5\"/>\n   </g>\n   <g id=\"line2d_105\">\n    <path d=\"M 34.954394 13.5 \nL 44.698573 80.912154 \nL 54.442752 97.144851 \nL 64.186931 105.662605 \nL 73.93111 112.696175 \nL 83.675289 115.066668 \nL 93.419468 119.535665 \nL 103.163647 121.811775 \nL 112.907826 124.435288 \nL 122.652006 126.475451 \nL 132.396185 128.137551 \nL 142.140364 130.46466 \nL 151.884543 132.350886 \nL 161.628722 131.114839 \nL 171.372901 135.118714 \nL 181.11708 134.145734 \nL 190.861259 137.173495 \nL 200.605438 136.546825 \n\" clip-path=\"url(#pc3c4defe86)\" style=\"fill: none; stroke: #1f77b4; stroke-width: 1.5; stroke-linecap: square\"/>\n   </g>\n   <g id=\"line2d_106\">\n    <path d=\"M 49.633125 63.671831 \nL 69.163125 71.677972 \nL 88.693125 105.926548 \nL 108.223125 111.90601 \nL 127.753125 114.797356 \nL 147.283125 107.661583 \nL 166.813125 111.985855 \nL 186.343125 119.077619 \n\" clip-path=\"url(#pc3c4defe86)\" style=\"fill: none; stroke-dasharray: 5.55,2.4; stroke-dashoffset: 0; stroke: #ff7f0e; stroke-width: 1.5\"/>\n   </g>\n   <g id=\"line2d_107\">\n    <path d=\"M 49.633125 48.628515 \nL 69.163125 53.176428 \nL 88.693125 37.370565 \nL 108.223125 35.320277 \nL 127.753125 34.481522 \nL 147.283125 39.569966 \nL 166.813125 36.308143 \nL 186.343125 33.139515 \n\" clip-path=\"url(#pc3c4defe86)\" style=\"fill: none; stroke-dasharray: 9.6,2.4,1.5,2.4; stroke-dashoffset: 0; stroke: #2ca02c; stroke-width: 1.5\"/>\n   </g>\n   <g id=\"line2d_108\">\n    <path d=\"M 34.954394 13.5 \nL 44.698573 80.912154 \nL 54.442752 97.144851 \nL 64.186931 105.662605 \nL 73.93111 112.696175 \nL 83.675289 115.066668 \nL 93.419468 119.535665 \nL 103.163647 121.811775 \nL 112.907826 124.435288 \nL 122.652006 126.475451 \nL 132.396185 128.137551 \nL 142.140364 130.46466 \nL 151.884543 132.350886 \nL 161.628722 131.114839 \nL 171.372901 135.118714 \nL 181.11708 134.145734 \nL 190.861259 137.173495 \nL 200.605438 136.546825 \n\" clip-path=\"url(#pc3c4defe86)\" style=\"fill: none; stroke: #1f77b4; stroke-width: 1.5; stroke-linecap: square\"/>\n   </g>\n   <g id=\"line2d_109\">\n    <path d=\"M 49.633125 63.671831 \nL 69.163125 71.677972 \nL 88.693125 105.926548 \nL 108.223125 111.90601 \nL 127.753125 114.797356 \nL 147.283125 107.661583 \nL 166.813125 111.985855 \nL 186.343125 119.077619 \nL 205.873125 129.602083 \n\" clip-path=\"url(#pc3c4defe86)\" style=\"fill: none; stroke-dasharray: 5.55,2.4; stroke-dashoffset: 0; stroke: #ff7f0e; stroke-width: 1.5\"/>\n   </g>\n   <g id=\"line2d_110\">\n    <path d=\"M 49.633125 48.628515 \nL 69.163125 53.176428 \nL 88.693125 37.370565 \nL 108.223125 35.320277 \nL 127.753125 34.481522 \nL 147.283125 39.569966 \nL 166.813125 36.308143 \nL 186.343125 33.139515 \n\" clip-path=\"url(#pc3c4defe86)\" style=\"fill: none; stroke-dasharray: 9.6,2.4,1.5,2.4; stroke-dashoffset: 0; stroke: #2ca02c; stroke-width: 1.5\"/>\n   </g>\n   <g id=\"line2d_111\">\n    <path d=\"M 34.954394 13.5 \nL 44.698573 80.912154 \nL 54.442752 97.144851 \nL 64.186931 105.662605 \nL 73.93111 112.696175 \nL 83.675289 115.066668 \nL 93.419468 119.535665 \nL 103.163647 121.811775 \nL 112.907826 124.435288 \nL 122.652006 126.475451 \nL 132.396185 128.137551 \nL 142.140364 130.46466 \nL 151.884543 132.350886 \nL 161.628722 131.114839 \nL 171.372901 135.118714 \nL 181.11708 134.145734 \nL 190.861259 137.173495 \nL 200.605438 136.546825 \n\" clip-path=\"url(#pc3c4defe86)\" style=\"fill: none; stroke: #1f77b4; stroke-width: 1.5; stroke-linecap: square\"/>\n   </g>\n   <g id=\"line2d_112\">\n    <path d=\"M 49.633125 63.671831 \nL 69.163125 71.677972 \nL 88.693125 105.926548 \nL 108.223125 111.90601 \nL 127.753125 114.797356 \nL 147.283125 107.661583 \nL 166.813125 111.985855 \nL 186.343125 119.077619 \nL 205.873125 129.602083 \n\" clip-path=\"url(#pc3c4defe86)\" style=\"fill: none; stroke-dasharray: 5.55,2.4; stroke-dashoffset: 0; stroke: #ff7f0e; stroke-width: 1.5\"/>\n   </g>\n   <g id=\"line2d_113\">\n    <path d=\"M 49.633125 48.628515 \nL 69.163125 53.176428 \nL 88.693125 37.370565 \nL 108.223125 35.320277 \nL 127.753125 34.481522 \nL 147.283125 39.569966 \nL 166.813125 36.308143 \nL 186.343125 33.139515 \nL 205.873125 29.933609 \n\" clip-path=\"url(#pc3c4defe86)\" style=\"fill: none; stroke-dasharray: 9.6,2.4,1.5,2.4; stroke-dashoffset: 0; stroke: #2ca02c; stroke-width: 1.5\"/>\n   </g>\n   <g id=\"line2d_114\">\n    <path d=\"M 34.954394 13.5 \nL 44.698573 80.912154 \nL 54.442752 97.144851 \nL 64.186931 105.662605 \nL 73.93111 112.696175 \nL 83.675289 115.066668 \nL 93.419468 119.535665 \nL 103.163647 121.811775 \nL 112.907826 124.435288 \nL 122.652006 126.475451 \nL 132.396185 128.137551 \nL 142.140364 130.46466 \nL 151.884543 132.350886 \nL 161.628722 131.114839 \nL 171.372901 135.118714 \nL 181.11708 134.145734 \nL 190.861259 137.173495 \nL 200.605438 136.546825 \nL 210.349618 137.316638 \n\" clip-path=\"url(#pc3c4defe86)\" style=\"fill: none; stroke: #1f77b4; stroke-width: 1.5; stroke-linecap: square\"/>\n   </g>\n   <g id=\"line2d_115\">\n    <path d=\"M 49.633125 63.671831 \nL 69.163125 71.677972 \nL 88.693125 105.926548 \nL 108.223125 111.90601 \nL 127.753125 114.797356 \nL 147.283125 107.661583 \nL 166.813125 111.985855 \nL 186.343125 119.077619 \nL 205.873125 129.602083 \n\" clip-path=\"url(#pc3c4defe86)\" style=\"fill: none; stroke-dasharray: 5.55,2.4; stroke-dashoffset: 0; stroke: #ff7f0e; stroke-width: 1.5\"/>\n   </g>\n   <g id=\"line2d_116\">\n    <path d=\"M 49.633125 48.628515 \nL 69.163125 53.176428 \nL 88.693125 37.370565 \nL 108.223125 35.320277 \nL 127.753125 34.481522 \nL 147.283125 39.569966 \nL 166.813125 36.308143 \nL 186.343125 33.139515 \nL 205.873125 29.933609 \n\" clip-path=\"url(#pc3c4defe86)\" style=\"fill: none; stroke-dasharray: 9.6,2.4,1.5,2.4; stroke-dashoffset: 0; stroke: #2ca02c; stroke-width: 1.5\"/>\n   </g>\n   <g id=\"line2d_117\">\n    <path d=\"M 34.954394 13.5 \nL 44.698573 80.912154 \nL 54.442752 97.144851 \nL 64.186931 105.662605 \nL 73.93111 112.696175 \nL 83.675289 115.066668 \nL 93.419468 119.535665 \nL 103.163647 121.811775 \nL 112.907826 124.435288 \nL 122.652006 126.475451 \nL 132.396185 128.137551 \nL 142.140364 130.46466 \nL 151.884543 132.350886 \nL 161.628722 131.114839 \nL 171.372901 135.118714 \nL 181.11708 134.145734 \nL 190.861259 137.173495 \nL 200.605438 136.546825 \nL 210.349618 137.316638 \nL 220.093797 139.5 \n\" clip-path=\"url(#pc3c4defe86)\" style=\"fill: none; stroke: #1f77b4; stroke-width: 1.5; stroke-linecap: square\"/>\n   </g>\n   <g id=\"line2d_118\">\n    <path d=\"M 49.633125 63.671831 \nL 69.163125 71.677972 \nL 88.693125 105.926548 \nL 108.223125 111.90601 \nL 127.753125 114.797356 \nL 147.283125 107.661583 \nL 166.813125 111.985855 \nL 186.343125 119.077619 \nL 205.873125 129.602083 \n\" clip-path=\"url(#pc3c4defe86)\" style=\"fill: none; stroke-dasharray: 5.55,2.4; stroke-dashoffset: 0; stroke: #ff7f0e; stroke-width: 1.5\"/>\n   </g>\n   <g id=\"line2d_119\">\n    <path d=\"M 49.633125 48.628515 \nL 69.163125 53.176428 \nL 88.693125 37.370565 \nL 108.223125 35.320277 \nL 127.753125 34.481522 \nL 147.283125 39.569966 \nL 166.813125 36.308143 \nL 186.343125 33.139515 \nL 205.873125 29.933609 \n\" clip-path=\"url(#pc3c4defe86)\" style=\"fill: none; stroke-dasharray: 9.6,2.4,1.5,2.4; stroke-dashoffset: 0; stroke: #2ca02c; stroke-width: 1.5\"/>\n   </g>\n   <g id=\"line2d_120\">\n    <path d=\"M 34.954394 13.5 \nL 44.698573 80.912154 \nL 54.442752 97.144851 \nL 64.186931 105.662605 \nL 73.93111 112.696175 \nL 83.675289 115.066668 \nL 93.419468 119.535665 \nL 103.163647 121.811775 \nL 112.907826 124.435288 \nL 122.652006 126.475451 \nL 132.396185 128.137551 \nL 142.140364 130.46466 \nL 151.884543 132.350886 \nL 161.628722 131.114839 \nL 171.372901 135.118714 \nL 181.11708 134.145734 \nL 190.861259 137.173495 \nL 200.605438 136.546825 \nL 210.349618 137.316638 \nL 220.093797 139.5 \n\" clip-path=\"url(#pc3c4defe86)\" style=\"fill: none; stroke: #1f77b4; stroke-width: 1.5; stroke-linecap: square\"/>\n   </g>\n   <g id=\"line2d_121\">\n    <path d=\"M 49.633125 63.671831 \nL 69.163125 71.677972 \nL 88.693125 105.926548 \nL 108.223125 111.90601 \nL 127.753125 114.797356 \nL 147.283125 107.661583 \nL 166.813125 111.985855 \nL 186.343125 119.077619 \nL 205.873125 129.602083 \nL 225.403125 99.232586 \n\" clip-path=\"url(#pc3c4defe86)\" style=\"fill: none; stroke-dasharray: 5.55,2.4; stroke-dashoffset: 0; stroke: #ff7f0e; stroke-width: 1.5\"/>\n   </g>\n   <g id=\"line2d_122\">\n    <path d=\"M 49.633125 48.628515 \nL 69.163125 53.176428 \nL 88.693125 37.370565 \nL 108.223125 35.320277 \nL 127.753125 34.481522 \nL 147.283125 39.569966 \nL 166.813125 36.308143 \nL 186.343125 33.139515 \nL 205.873125 29.933609 \n\" clip-path=\"url(#pc3c4defe86)\" style=\"fill: none; stroke-dasharray: 9.6,2.4,1.5,2.4; stroke-dashoffset: 0; stroke: #2ca02c; stroke-width: 1.5\"/>\n   </g>\n   <g id=\"line2d_123\">\n    <path d=\"M 34.954394 13.5 \nL 44.698573 80.912154 \nL 54.442752 97.144851 \nL 64.186931 105.662605 \nL 73.93111 112.696175 \nL 83.675289 115.066668 \nL 93.419468 119.535665 \nL 103.163647 121.811775 \nL 112.907826 124.435288 \nL 122.652006 126.475451 \nL 132.396185 128.137551 \nL 142.140364 130.46466 \nL 151.884543 132.350886 \nL 161.628722 131.114839 \nL 171.372901 135.118714 \nL 181.11708 134.145734 \nL 190.861259 137.173495 \nL 200.605438 136.546825 \nL 210.349618 137.316638 \nL 220.093797 139.5 \n\" clip-path=\"url(#pc3c4defe86)\" style=\"fill: none; stroke: #1f77b4; stroke-width: 1.5; stroke-linecap: square\"/>\n   </g>\n   <g id=\"line2d_124\">\n    <path d=\"M 49.633125 63.671831 \nL 69.163125 71.677972 \nL 88.693125 105.926548 \nL 108.223125 111.90601 \nL 127.753125 114.797356 \nL 147.283125 107.661583 \nL 166.813125 111.985855 \nL 186.343125 119.077619 \nL 205.873125 129.602083 \nL 225.403125 99.232586 \n\" clip-path=\"url(#pc3c4defe86)\" style=\"fill: none; stroke-dasharray: 5.55,2.4; stroke-dashoffset: 0; stroke: #ff7f0e; stroke-width: 1.5\"/>\n   </g>\n   <g id=\"line2d_125\">\n    <path d=\"M 49.633125 48.628515 \nL 69.163125 53.176428 \nL 88.693125 37.370565 \nL 108.223125 35.320277 \nL 127.753125 34.481522 \nL 147.283125 39.569966 \nL 166.813125 36.308143 \nL 186.343125 33.139515 \nL 205.873125 29.933609 \nL 225.403125 41.676172 \n\" clip-path=\"url(#pc3c4defe86)\" style=\"fill: none; stroke-dasharray: 9.6,2.4,1.5,2.4; stroke-dashoffset: 0; stroke: #2ca02c; stroke-width: 1.5\"/>\n   </g>\n   <g id=\"patch_3\">\n    <path d=\"M 30.103125 145.8 \nL 30.103125 7.2 \n\" style=\"fill: none; stroke: #000000; stroke-width: 0.8; stroke-linejoin: miter; stroke-linecap: square\"/>\n   </g>\n   <g id=\"patch_4\">\n    <path d=\"M 225.403125 145.8 \nL 225.403125 7.2 \n\" style=\"fill: none; stroke: #000000; stroke-width: 0.8; stroke-linejoin: miter; stroke-linecap: square\"/>\n   </g>\n   <g id=\"patch_5\">\n    <path d=\"M 30.103125 145.8 \nL 225.403125 145.8 \n\" style=\"fill: none; stroke: #000000; stroke-width: 0.8; stroke-linejoin: miter; stroke-linecap: square\"/>\n   </g>\n   <g id=\"patch_6\">\n    <path d=\"M 30.103125 7.2 \nL 225.403125 7.2 \n\" style=\"fill: none; stroke: #000000; stroke-width: 0.8; stroke-linejoin: miter; stroke-linecap: square\"/>\n   </g>\n   <g id=\"legend_1\">\n    <g id=\"patch_7\">\n     <path d=\"M 138.8125 100.434375 \nL 218.403125 100.434375 \nQ 220.403125 100.434375 220.403125 98.434375 \nL 220.403125 54.565625 \nQ 220.403125 52.565625 218.403125 52.565625 \nL 138.8125 52.565625 \nQ 136.8125 52.565625 136.8125 54.565625 \nL 136.8125 98.434375 \nQ 136.8125 100.434375 138.8125 100.434375 \nz\n\" style=\"fill: #ffffff; opacity: 0.8; stroke: #cccccc; stroke-linejoin: miter\"/>\n    </g>\n    <g id=\"line2d_126\">\n     <path d=\"M 140.8125 60.664063 \nL 150.8125 60.664063 \nL 160.8125 60.664063 \n\" style=\"fill: none; stroke: #1f77b4; stroke-width: 1.5; stroke-linecap: square\"/>\n    </g>\n    <g id=\"text_11\">\n     <!-- train_loss -->\n     <g transform=\"translate(168.8125 64.164063) scale(0.1 -0.1)\">\n      <defs>\n       <path id=\"DejaVuSans-74\" d=\"M 1172 4494 \nL 1172 3500 \nL 2356 3500 \nL 2356 3053 \nL 1172 3053 \nL 1172 1153 \nQ 1172 725 1289 603 \nQ 1406 481 1766 481 \nL 2356 481 \nL 2356 0 \nL 1766 0 \nQ 1100 0 847 248 \nQ 594 497 594 1153 \nL 594 3053 \nL 172 3053 \nL 172 3500 \nL 594 3500 \nL 594 4494 \nL 1172 4494 \nz\n\" transform=\"scale(0.015625)\"/>\n       <path id=\"DejaVuSans-72\" d=\"M 2631 2963 \nQ 2534 3019 2420 3045 \nQ 2306 3072 2169 3072 \nQ 1681 3072 1420 2755 \nQ 1159 2438 1159 1844 \nL 1159 0 \nL 581 0 \nL 581 3500 \nL 1159 3500 \nL 1159 2956 \nQ 1341 3275 1631 3429 \nQ 1922 3584 2338 3584 \nQ 2397 3584 2469 3576 \nQ 2541 3569 2628 3553 \nL 2631 2963 \nz\n\" transform=\"scale(0.015625)\"/>\n       <path id=\"DejaVuSans-61\" d=\"M 2194 1759 \nQ 1497 1759 1228 1600 \nQ 959 1441 959 1056 \nQ 959 750 1161 570 \nQ 1363 391 1709 391 \nQ 2188 391 2477 730 \nQ 2766 1069 2766 1631 \nL 2766 1759 \nL 2194 1759 \nz\nM 3341 1997 \nL 3341 0 \nL 2766 0 \nL 2766 531 \nQ 2569 213 2275 61 \nQ 1981 -91 1556 -91 \nQ 1019 -91 701 211 \nQ 384 513 384 1019 \nQ 384 1609 779 1909 \nQ 1175 2209 1959 2209 \nL 2766 2209 \nL 2766 2266 \nQ 2766 2663 2505 2880 \nQ 2244 3097 1772 3097 \nQ 1472 3097 1187 3025 \nQ 903 2953 641 2809 \nL 641 3341 \nQ 956 3463 1253 3523 \nQ 1550 3584 1831 3584 \nQ 2591 3584 2966 3190 \nQ 3341 2797 3341 1997 \nz\n\" transform=\"scale(0.015625)\"/>\n       <path id=\"DejaVuSans-69\" d=\"M 603 3500 \nL 1178 3500 \nL 1178 0 \nL 603 0 \nL 603 3500 \nz\nM 603 4863 \nL 1178 4863 \nL 1178 4134 \nL 603 4134 \nL 603 4863 \nz\n\" transform=\"scale(0.015625)\"/>\n       <path id=\"DejaVuSans-6e\" d=\"M 3513 2113 \nL 3513 0 \nL 2938 0 \nL 2938 2094 \nQ 2938 2591 2744 2837 \nQ 2550 3084 2163 3084 \nQ 1697 3084 1428 2787 \nQ 1159 2491 1159 1978 \nL 1159 0 \nL 581 0 \nL 581 3500 \nL 1159 3500 \nL 1159 2956 \nQ 1366 3272 1645 3428 \nQ 1925 3584 2291 3584 \nQ 2894 3584 3203 3211 \nQ 3513 2838 3513 2113 \nz\n\" transform=\"scale(0.015625)\"/>\n       <path id=\"DejaVuSans-5f\" d=\"M 3263 -1063 \nL 3263 -1509 \nL -63 -1509 \nL -63 -1063 \nL 3263 -1063 \nz\n\" transform=\"scale(0.015625)\"/>\n       <path id=\"DejaVuSans-6c\" d=\"M 603 4863 \nL 1178 4863 \nL 1178 0 \nL 603 0 \nL 603 4863 \nz\n\" transform=\"scale(0.015625)\"/>\n       <path id=\"DejaVuSans-73\" d=\"M 2834 3397 \nL 2834 2853 \nQ 2591 2978 2328 3040 \nQ 2066 3103 1784 3103 \nQ 1356 3103 1142 2972 \nQ 928 2841 928 2578 \nQ 928 2378 1081 2264 \nQ 1234 2150 1697 2047 \nL 1894 2003 \nQ 2506 1872 2764 1633 \nQ 3022 1394 3022 966 \nQ 3022 478 2636 193 \nQ 2250 -91 1575 -91 \nQ 1294 -91 989 -36 \nQ 684 19 347 128 \nL 347 722 \nQ 666 556 975 473 \nQ 1284 391 1588 391 \nQ 1994 391 2212 530 \nQ 2431 669 2431 922 \nQ 2431 1156 2273 1281 \nQ 2116 1406 1581 1522 \nL 1381 1569 \nQ 847 1681 609 1914 \nQ 372 2147 372 2553 \nQ 372 3047 722 3315 \nQ 1072 3584 1716 3584 \nQ 2034 3584 2315 3537 \nQ 2597 3491 2834 3397 \nz\n\" transform=\"scale(0.015625)\"/>\n      </defs>\n      <use xlink:href=\"#DejaVuSans-74\"/>\n      <use xlink:href=\"#DejaVuSans-72\" x=\"39.208984\"/>\n      <use xlink:href=\"#DejaVuSans-61\" x=\"80.322266\"/>\n      <use xlink:href=\"#DejaVuSans-69\" x=\"141.601562\"/>\n      <use xlink:href=\"#DejaVuSans-6e\" x=\"169.384766\"/>\n      <use xlink:href=\"#DejaVuSans-5f\" x=\"232.763672\"/>\n      <use xlink:href=\"#DejaVuSans-6c\" x=\"282.763672\"/>\n      <use xlink:href=\"#DejaVuSans-6f\" x=\"310.546875\"/>\n      <use xlink:href=\"#DejaVuSans-73\" x=\"371.728516\"/>\n      <use xlink:href=\"#DejaVuSans-73\" x=\"423.828125\"/>\n     </g>\n    </g>\n    <g id=\"line2d_127\">\n     <path d=\"M 140.8125 75.620313 \nL 150.8125 75.620313 \nL 160.8125 75.620313 \n\" style=\"fill: none; stroke-dasharray: 5.55,2.4; stroke-dashoffset: 0; stroke: #ff7f0e; stroke-width: 1.5\"/>\n    </g>\n    <g id=\"text_12\">\n     <!-- val_loss -->\n     <g transform=\"translate(168.8125 79.120313) scale(0.1 -0.1)\">\n      <defs>\n       <path id=\"DejaVuSans-76\" d=\"M 191 3500 \nL 800 3500 \nL 1894 563 \nL 2988 3500 \nL 3597 3500 \nL 2284 0 \nL 1503 0 \nL 191 3500 \nz\n\" transform=\"scale(0.015625)\"/>\n      </defs>\n      <use xlink:href=\"#DejaVuSans-76\"/>\n      <use xlink:href=\"#DejaVuSans-61\" x=\"59.179688\"/>\n      <use xlink:href=\"#DejaVuSans-6c\" x=\"120.458984\"/>\n      <use xlink:href=\"#DejaVuSans-5f\" x=\"148.242188\"/>\n      <use xlink:href=\"#DejaVuSans-6c\" x=\"198.242188\"/>\n      <use xlink:href=\"#DejaVuSans-6f\" x=\"226.025391\"/>\n      <use xlink:href=\"#DejaVuSans-73\" x=\"287.207031\"/>\n      <use xlink:href=\"#DejaVuSans-73\" x=\"339.306641\"/>\n     </g>\n    </g>\n    <g id=\"line2d_128\">\n     <path d=\"M 140.8125 90.576563 \nL 150.8125 90.576563 \nL 160.8125 90.576563 \n\" style=\"fill: none; stroke-dasharray: 9.6,2.4,1.5,2.4; stroke-dashoffset: 0; stroke: #2ca02c; stroke-width: 1.5\"/>\n    </g>\n    <g id=\"text_13\">\n     <!-- val_acc -->\n     <g transform=\"translate(168.8125 94.076563) scale(0.1 -0.1)\">\n      <use xlink:href=\"#DejaVuSans-76\"/>\n      <use xlink:href=\"#DejaVuSans-61\" x=\"59.179688\"/>\n      <use xlink:href=\"#DejaVuSans-6c\" x=\"120.458984\"/>\n      <use xlink:href=\"#DejaVuSans-5f\" x=\"148.242188\"/>\n      <use xlink:href=\"#DejaVuSans-61\" x=\"198.242188\"/>\n      <use xlink:href=\"#DejaVuSans-63\" x=\"259.521484\"/>\n      <use xlink:href=\"#DejaVuSans-63\" x=\"314.501953\"/>\n     </g>\n    </g>\n   </g>\n  </g>\n </g>\n <defs>\n  <clipPath id=\"pc3c4defe86\">\n   <rect x=\"30.103125\" y=\"7.2\" width=\"195.3\" height=\"138.6\"/>\n  </clipPath>\n </defs>\n</svg>\n"
          },
          "metadata": {}
        }
      ]
    },
    {
      "cell_type": "code",
      "source": [
        "model.net[1].gamma.reshape((-1,)), model.net[1].beta.reshape((-1,))"
      ],
      "metadata": {
        "id": "DoIoF1R9-vPV",
        "colab": {
          "base_uri": "https://localhost:8080/"
        },
        "outputId": "d00f9df8-2a17-4f99-f66f-6f028d84d7f1"
      },
      "execution_count": 30,
      "outputs": [
        {
          "output_type": "execute_result",
          "data": {
            "text/plain": [
              "(tensor([1.6598, 2.5180, 1.5835, 1.7921, 1.7164, 1.5574], device='cuda:0',\n",
              "        grad_fn=<ViewBackward0>),\n",
              " tensor([-0.3627, -1.7524, -0.8643,  1.5030,  0.8908,  0.6227], device='cuda:0',\n",
              "        grad_fn=<ViewBackward0>))"
            ]
          },
          "metadata": {},
          "execution_count": 30
        }
      ]
    },
    {
      "cell_type": "code",
      "source": [
        "class BNLeNet(d2l.Classifier):\n",
        "    def __init__(self, lr=0.1, num_classes=10):\n",
        "        super().__init__()\n",
        "        self.save_hyperparameters()\n",
        "        self.net = nn.Sequential(\n",
        "            nn.LazyConv2d(6, kernel_size=5), nn.LazyBatchNorm2d(),\n",
        "            nn.Sigmoid(), nn.AvgPool2d(kernel_size=2, stride=2),\n",
        "            nn.LazyConv2d(16, kernel_size=5), nn.LazyBatchNorm2d(),\n",
        "            nn.Sigmoid(), nn.AvgPool2d(kernel_size=2, stride=2),\n",
        "            nn.Flatten(), nn.LazyLinear(120), nn.LazyBatchNorm1d(),\n",
        "            nn.Sigmoid(), nn.LazyLinear(84), nn.LazyBatchNorm1d(),\n",
        "            nn.Sigmoid(), nn.LazyLinear(num_classes))"
      ],
      "metadata": {
        "id": "9ObU6U7D-xVe"
      },
      "execution_count": 31,
      "outputs": []
    },
    {
      "cell_type": "code",
      "source": [
        "trainer = d2l.Trainer(max_epochs=10, num_gpus=1)\n",
        "data = d2l.FashionMNIST(batch_size=128)\n",
        "model = BNLeNet(lr=0.1)\n",
        "model.apply_init([next(iter(data.get_dataloader(True)))[0]], d2l.init_cnn)\n",
        "trainer.fit(model, data)"
      ],
      "metadata": {
        "id": "SzMJD4mt-1uq",
        "colab": {
          "base_uri": "https://localhost:8080/",
          "height": 265
        },
        "outputId": "8024b84d-cc87-4472-b0e4-6e76861f5069"
      },
      "execution_count": 32,
      "outputs": [
        {
          "output_type": "display_data",
          "data": {
            "text/plain": [
              "<Figure size 350x250 with 1 Axes>"
            ],
            "image/svg+xml": "<?xml version=\"1.0\" encoding=\"utf-8\" standalone=\"no\"?>\n<!DOCTYPE svg PUBLIC \"-//W3C//DTD SVG 1.1//EN\"\n  \"http://www.w3.org/Graphics/SVG/1.1/DTD/svg11.dtd\">\n<svg xmlns:xlink=\"http://www.w3.org/1999/xlink\" width=\"238.965625pt\" height=\"183.35625pt\" viewBox=\"0 0 238.965625 183.35625\" xmlns=\"http://www.w3.org/2000/svg\" version=\"1.1\">\n <metadata>\n  <rdf:RDF xmlns:dc=\"http://purl.org/dc/elements/1.1/\" xmlns:cc=\"http://creativecommons.org/ns#\" xmlns:rdf=\"http://www.w3.org/1999/02/22-rdf-syntax-ns#\">\n   <cc:Work>\n    <dc:type rdf:resource=\"http://purl.org/dc/dcmitype/StillImage\"/>\n    <dc:date>2024-10-04T14:46:53.099757</dc:date>\n    <dc:format>image/svg+xml</dc:format>\n    <dc:creator>\n     <cc:Agent>\n      <dc:title>Matplotlib v3.7.2, https://matplotlib.org/</dc:title>\n     </cc:Agent>\n    </dc:creator>\n   </cc:Work>\n  </rdf:RDF>\n </metadata>\n <defs>\n  <style type=\"text/css\">*{stroke-linejoin: round; stroke-linecap: butt}</style>\n </defs>\n <g id=\"figure_1\">\n  <g id=\"patch_1\">\n   <path d=\"M 0 183.35625 \nL 238.965625 183.35625 \nL 238.965625 0 \nL 0 0 \nz\n\" style=\"fill: #ffffff\"/>\n  </g>\n  <g id=\"axes_1\">\n   <g id=\"patch_2\">\n    <path d=\"M 30.103125 145.8 \nL 225.403125 145.8 \nL 225.403125 7.2 \nL 30.103125 7.2 \nz\n\" style=\"fill: #ffffff\"/>\n   </g>\n   <g id=\"matplotlib.axis_1\">\n    <g id=\"xtick_1\">\n     <g id=\"line2d_1\">\n      <defs>\n       <path id=\"md6733968da\" d=\"M 0 0 \nL 0 3.5 \n\" style=\"stroke: #000000; stroke-width: 0.8\"/>\n      </defs>\n      <g>\n       <use xlink:href=\"#md6733968da\" x=\"30.103125\" y=\"145.8\" style=\"stroke: #000000; stroke-width: 0.8\"/>\n      </g>\n     </g>\n     <g id=\"text_1\">\n      <!-- 0 -->\n      <g transform=\"translate(26.921875 160.398438) scale(0.1 -0.1)\">\n       <defs>\n        <path id=\"DejaVuSans-30\" d=\"M 2034 4250 \nQ 1547 4250 1301 3770 \nQ 1056 3291 1056 2328 \nQ 1056 1369 1301 889 \nQ 1547 409 2034 409 \nQ 2525 409 2770 889 \nQ 3016 1369 3016 2328 \nQ 3016 3291 2770 3770 \nQ 2525 4250 2034 4250 \nz\nM 2034 4750 \nQ 2819 4750 3233 4129 \nQ 3647 3509 3647 2328 \nQ 3647 1150 3233 529 \nQ 2819 -91 2034 -91 \nQ 1250 -91 836 529 \nQ 422 1150 422 2328 \nQ 422 3509 836 4129 \nQ 1250 4750 2034 4750 \nz\n\" transform=\"scale(0.015625)\"/>\n       </defs>\n       <use xlink:href=\"#DejaVuSans-30\"/>\n      </g>\n     </g>\n    </g>\n    <g id=\"xtick_2\">\n     <g id=\"line2d_2\">\n      <g>\n       <use xlink:href=\"#md6733968da\" x=\"69.163125\" y=\"145.8\" style=\"stroke: #000000; stroke-width: 0.8\"/>\n      </g>\n     </g>\n     <g id=\"text_2\">\n      <!-- 2 -->\n      <g transform=\"translate(65.981875 160.398438) scale(0.1 -0.1)\">\n       <defs>\n        <path id=\"DejaVuSans-32\" d=\"M 1228 531 \nL 3431 531 \nL 3431 0 \nL 469 0 \nL 469 531 \nQ 828 903 1448 1529 \nQ 2069 2156 2228 2338 \nQ 2531 2678 2651 2914 \nQ 2772 3150 2772 3378 \nQ 2772 3750 2511 3984 \nQ 2250 4219 1831 4219 \nQ 1534 4219 1204 4116 \nQ 875 4013 500 3803 \nL 500 4441 \nQ 881 4594 1212 4672 \nQ 1544 4750 1819 4750 \nQ 2544 4750 2975 4387 \nQ 3406 4025 3406 3419 \nQ 3406 3131 3298 2873 \nQ 3191 2616 2906 2266 \nQ 2828 2175 2409 1742 \nQ 1991 1309 1228 531 \nz\n\" transform=\"scale(0.015625)\"/>\n       </defs>\n       <use xlink:href=\"#DejaVuSans-32\"/>\n      </g>\n     </g>\n    </g>\n    <g id=\"xtick_3\">\n     <g id=\"line2d_3\">\n      <g>\n       <use xlink:href=\"#md6733968da\" x=\"108.223125\" y=\"145.8\" style=\"stroke: #000000; stroke-width: 0.8\"/>\n      </g>\n     </g>\n     <g id=\"text_3\">\n      <!-- 4 -->\n      <g transform=\"translate(105.041875 160.398438) scale(0.1 -0.1)\">\n       <defs>\n        <path id=\"DejaVuSans-34\" d=\"M 2419 4116 \nL 825 1625 \nL 2419 1625 \nL 2419 4116 \nz\nM 2253 4666 \nL 3047 4666 \nL 3047 1625 \nL 3713 1625 \nL 3713 1100 \nL 3047 1100 \nL 3047 0 \nL 2419 0 \nL 2419 1100 \nL 313 1100 \nL 313 1709 \nL 2253 4666 \nz\n\" transform=\"scale(0.015625)\"/>\n       </defs>\n       <use xlink:href=\"#DejaVuSans-34\"/>\n      </g>\n     </g>\n    </g>\n    <g id=\"xtick_4\">\n     <g id=\"line2d_4\">\n      <g>\n       <use xlink:href=\"#md6733968da\" x=\"147.283125\" y=\"145.8\" style=\"stroke: #000000; stroke-width: 0.8\"/>\n      </g>\n     </g>\n     <g id=\"text_4\">\n      <!-- 6 -->\n      <g transform=\"translate(144.101875 160.398438) scale(0.1 -0.1)\">\n       <defs>\n        <path id=\"DejaVuSans-36\" d=\"M 2113 2584 \nQ 1688 2584 1439 2293 \nQ 1191 2003 1191 1497 \nQ 1191 994 1439 701 \nQ 1688 409 2113 409 \nQ 2538 409 2786 701 \nQ 3034 994 3034 1497 \nQ 3034 2003 2786 2293 \nQ 2538 2584 2113 2584 \nz\nM 3366 4563 \nL 3366 3988 \nQ 3128 4100 2886 4159 \nQ 2644 4219 2406 4219 \nQ 1781 4219 1451 3797 \nQ 1122 3375 1075 2522 \nQ 1259 2794 1537 2939 \nQ 1816 3084 2150 3084 \nQ 2853 3084 3261 2657 \nQ 3669 2231 3669 1497 \nQ 3669 778 3244 343 \nQ 2819 -91 2113 -91 \nQ 1303 -91 875 529 \nQ 447 1150 447 2328 \nQ 447 3434 972 4092 \nQ 1497 4750 2381 4750 \nQ 2619 4750 2861 4703 \nQ 3103 4656 3366 4563 \nz\n\" transform=\"scale(0.015625)\"/>\n       </defs>\n       <use xlink:href=\"#DejaVuSans-36\"/>\n      </g>\n     </g>\n    </g>\n    <g id=\"xtick_5\">\n     <g id=\"line2d_5\">\n      <g>\n       <use xlink:href=\"#md6733968da\" x=\"186.343125\" y=\"145.8\" style=\"stroke: #000000; stroke-width: 0.8\"/>\n      </g>\n     </g>\n     <g id=\"text_5\">\n      <!-- 8 -->\n      <g transform=\"translate(183.161875 160.398438) scale(0.1 -0.1)\">\n       <defs>\n        <path id=\"DejaVuSans-38\" d=\"M 2034 2216 \nQ 1584 2216 1326 1975 \nQ 1069 1734 1069 1313 \nQ 1069 891 1326 650 \nQ 1584 409 2034 409 \nQ 2484 409 2743 651 \nQ 3003 894 3003 1313 \nQ 3003 1734 2745 1975 \nQ 2488 2216 2034 2216 \nz\nM 1403 2484 \nQ 997 2584 770 2862 \nQ 544 3141 544 3541 \nQ 544 4100 942 4425 \nQ 1341 4750 2034 4750 \nQ 2731 4750 3128 4425 \nQ 3525 4100 3525 3541 \nQ 3525 3141 3298 2862 \nQ 3072 2584 2669 2484 \nQ 3125 2378 3379 2068 \nQ 3634 1759 3634 1313 \nQ 3634 634 3220 271 \nQ 2806 -91 2034 -91 \nQ 1263 -91 848 271 \nQ 434 634 434 1313 \nQ 434 1759 690 2068 \nQ 947 2378 1403 2484 \nz\nM 1172 3481 \nQ 1172 3119 1398 2916 \nQ 1625 2713 2034 2713 \nQ 2441 2713 2670 2916 \nQ 2900 3119 2900 3481 \nQ 2900 3844 2670 4047 \nQ 2441 4250 2034 4250 \nQ 1625 4250 1398 4047 \nQ 1172 3844 1172 3481 \nz\n\" transform=\"scale(0.015625)\"/>\n       </defs>\n       <use xlink:href=\"#DejaVuSans-38\"/>\n      </g>\n     </g>\n    </g>\n    <g id=\"xtick_6\">\n     <g id=\"line2d_6\">\n      <g>\n       <use xlink:href=\"#md6733968da\" x=\"225.403125\" y=\"145.8\" style=\"stroke: #000000; stroke-width: 0.8\"/>\n      </g>\n     </g>\n     <g id=\"text_6\">\n      <!-- 10 -->\n      <g transform=\"translate(219.040625 160.398438) scale(0.1 -0.1)\">\n       <defs>\n        <path id=\"DejaVuSans-31\" d=\"M 794 531 \nL 1825 531 \nL 1825 4091 \nL 703 3866 \nL 703 4441 \nL 1819 4666 \nL 2450 4666 \nL 2450 531 \nL 3481 531 \nL 3481 0 \nL 794 0 \nL 794 531 \nz\n\" transform=\"scale(0.015625)\"/>\n       </defs>\n       <use xlink:href=\"#DejaVuSans-31\"/>\n       <use xlink:href=\"#DejaVuSans-30\" x=\"63.623047\"/>\n      </g>\n     </g>\n    </g>\n    <g id=\"text_7\">\n     <!-- epoch -->\n     <g transform=\"translate(112.525 174.076563) scale(0.1 -0.1)\">\n      <defs>\n       <path id=\"DejaVuSans-65\" d=\"M 3597 1894 \nL 3597 1613 \nL 953 1613 \nQ 991 1019 1311 708 \nQ 1631 397 2203 397 \nQ 2534 397 2845 478 \nQ 3156 559 3463 722 \nL 3463 178 \nQ 3153 47 2828 -22 \nQ 2503 -91 2169 -91 \nQ 1331 -91 842 396 \nQ 353 884 353 1716 \nQ 353 2575 817 3079 \nQ 1281 3584 2069 3584 \nQ 2775 3584 3186 3129 \nQ 3597 2675 3597 1894 \nz\nM 3022 2063 \nQ 3016 2534 2758 2815 \nQ 2500 3097 2075 3097 \nQ 1594 3097 1305 2825 \nQ 1016 2553 972 2059 \nL 3022 2063 \nz\n\" transform=\"scale(0.015625)\"/>\n       <path id=\"DejaVuSans-70\" d=\"M 1159 525 \nL 1159 -1331 \nL 581 -1331 \nL 581 3500 \nL 1159 3500 \nL 1159 2969 \nQ 1341 3281 1617 3432 \nQ 1894 3584 2278 3584 \nQ 2916 3584 3314 3078 \nQ 3713 2572 3713 1747 \nQ 3713 922 3314 415 \nQ 2916 -91 2278 -91 \nQ 1894 -91 1617 61 \nQ 1341 213 1159 525 \nz\nM 3116 1747 \nQ 3116 2381 2855 2742 \nQ 2594 3103 2138 3103 \nQ 1681 3103 1420 2742 \nQ 1159 2381 1159 1747 \nQ 1159 1113 1420 752 \nQ 1681 391 2138 391 \nQ 2594 391 2855 752 \nQ 3116 1113 3116 1747 \nz\n\" transform=\"scale(0.015625)\"/>\n       <path id=\"DejaVuSans-6f\" d=\"M 1959 3097 \nQ 1497 3097 1228 2736 \nQ 959 2375 959 1747 \nQ 959 1119 1226 758 \nQ 1494 397 1959 397 \nQ 2419 397 2687 759 \nQ 2956 1122 2956 1747 \nQ 2956 2369 2687 2733 \nQ 2419 3097 1959 3097 \nz\nM 1959 3584 \nQ 2709 3584 3137 3096 \nQ 3566 2609 3566 1747 \nQ 3566 888 3137 398 \nQ 2709 -91 1959 -91 \nQ 1206 -91 779 398 \nQ 353 888 353 1747 \nQ 353 2609 779 3096 \nQ 1206 3584 1959 3584 \nz\n\" transform=\"scale(0.015625)\"/>\n       <path id=\"DejaVuSans-63\" d=\"M 3122 3366 \nL 3122 2828 \nQ 2878 2963 2633 3030 \nQ 2388 3097 2138 3097 \nQ 1578 3097 1268 2742 \nQ 959 2388 959 1747 \nQ 959 1106 1268 751 \nQ 1578 397 2138 397 \nQ 2388 397 2633 464 \nQ 2878 531 3122 666 \nL 3122 134 \nQ 2881 22 2623 -34 \nQ 2366 -91 2075 -91 \nQ 1284 -91 818 406 \nQ 353 903 353 1747 \nQ 353 2603 823 3093 \nQ 1294 3584 2113 3584 \nQ 2378 3584 2631 3529 \nQ 2884 3475 3122 3366 \nz\n\" transform=\"scale(0.015625)\"/>\n       <path id=\"DejaVuSans-68\" d=\"M 3513 2113 \nL 3513 0 \nL 2938 0 \nL 2938 2094 \nQ 2938 2591 2744 2837 \nQ 2550 3084 2163 3084 \nQ 1697 3084 1428 2787 \nQ 1159 2491 1159 1978 \nL 1159 0 \nL 581 0 \nL 581 4863 \nL 1159 4863 \nL 1159 2956 \nQ 1366 3272 1645 3428 \nQ 1925 3584 2291 3584 \nQ 2894 3584 3203 3211 \nQ 3513 2838 3513 2113 \nz\n\" transform=\"scale(0.015625)\"/>\n      </defs>\n      <use xlink:href=\"#DejaVuSans-65\"/>\n      <use xlink:href=\"#DejaVuSans-70\" x=\"61.523438\"/>\n      <use xlink:href=\"#DejaVuSans-6f\" x=\"125\"/>\n      <use xlink:href=\"#DejaVuSans-63\" x=\"186.181641\"/>\n      <use xlink:href=\"#DejaVuSans-68\" x=\"241.162109\"/>\n     </g>\n    </g>\n   </g>\n   <g id=\"matplotlib.axis_2\">\n    <g id=\"ytick_1\">\n     <g id=\"line2d_7\">\n      <defs>\n       <path id=\"mdaaa374688\" d=\"M 0 0 \nL -3.5 0 \n\" style=\"stroke: #000000; stroke-width: 0.8\"/>\n      </defs>\n      <g>\n       <use xlink:href=\"#mdaaa374688\" x=\"30.103125\" y=\"120.250038\" style=\"stroke: #000000; stroke-width: 0.8\"/>\n      </g>\n     </g>\n     <g id=\"text_8\">\n      <!-- 0.4 -->\n      <g transform=\"translate(7.2 124.049257) scale(0.1 -0.1)\">\n       <defs>\n        <path id=\"DejaVuSans-2e\" d=\"M 684 794 \nL 1344 794 \nL 1344 0 \nL 684 0 \nL 684 794 \nz\n\" transform=\"scale(0.015625)\"/>\n       </defs>\n       <use xlink:href=\"#DejaVuSans-30\"/>\n       <use xlink:href=\"#DejaVuSans-2e\" x=\"63.623047\"/>\n       <use xlink:href=\"#DejaVuSans-34\" x=\"95.410156\"/>\n      </g>\n     </g>\n    </g>\n    <g id=\"ytick_2\">\n     <g id=\"line2d_8\">\n      <g>\n       <use xlink:href=\"#mdaaa374688\" x=\"30.103125\" y=\"80.00228\" style=\"stroke: #000000; stroke-width: 0.8\"/>\n      </g>\n     </g>\n     <g id=\"text_9\">\n      <!-- 0.6 -->\n      <g transform=\"translate(7.2 83.801499) scale(0.1 -0.1)\">\n       <use xlink:href=\"#DejaVuSans-30\"/>\n       <use xlink:href=\"#DejaVuSans-2e\" x=\"63.623047\"/>\n       <use xlink:href=\"#DejaVuSans-36\" x=\"95.410156\"/>\n      </g>\n     </g>\n    </g>\n    <g id=\"ytick_3\">\n     <g id=\"line2d_9\">\n      <g>\n       <use xlink:href=\"#mdaaa374688\" x=\"30.103125\" y=\"39.754522\" style=\"stroke: #000000; stroke-width: 0.8\"/>\n      </g>\n     </g>\n     <g id=\"text_10\">\n      <!-- 0.8 -->\n      <g transform=\"translate(7.2 43.553741) scale(0.1 -0.1)\">\n       <use xlink:href=\"#DejaVuSans-30\"/>\n       <use xlink:href=\"#DejaVuSans-2e\" x=\"63.623047\"/>\n       <use xlink:href=\"#DejaVuSans-38\" x=\"95.410156\"/>\n      </g>\n     </g>\n    </g>\n   </g>\n   <g id=\"line2d_10\">\n    <path d=\"M 34.954394 13.5 \n\" clip-path=\"url(#p4f066f8870)\" style=\"fill: none; stroke: #1f77b4; stroke-width: 1.5; stroke-linecap: square\"/>\n   </g>\n   <g id=\"line2d_11\">\n    <path d=\"M 34.954394 13.5 \nL 44.698573 79.252774 \n\" clip-path=\"url(#p4f066f8870)\" style=\"fill: none; stroke: #1f77b4; stroke-width: 1.5; stroke-linecap: square\"/>\n   </g>\n   <g id=\"line2d_12\">\n    <path d=\"M 34.954394 13.5 \nL 44.698573 79.252774 \n\" clip-path=\"url(#p4f066f8870)\" style=\"fill: none; stroke: #1f77b4; stroke-width: 1.5; stroke-linecap: square\"/>\n   </g>\n   <g id=\"line2d_13\">\n    <path d=\"M 49.633125 79.170442 \n\" clip-path=\"url(#p4f066f8870)\" style=\"fill: none; stroke-dasharray: 5.55,2.4; stroke-dashoffset: 0; stroke: #ff7f0e; stroke-width: 1.5\"/>\n   </g>\n   <g id=\"line2d_14\"/>\n   <g id=\"line2d_15\">\n    <path d=\"M 34.954394 13.5 \nL 44.698573 79.252774 \n\" clip-path=\"url(#p4f066f8870)\" style=\"fill: none; stroke: #1f77b4; stroke-width: 1.5; stroke-linecap: square\"/>\n   </g>\n   <g id=\"line2d_16\">\n    <path d=\"M 49.633125 79.170442 \n\" clip-path=\"url(#p4f066f8870)\" style=\"fill: none; stroke-dasharray: 5.55,2.4; stroke-dashoffset: 0; stroke: #ff7f0e; stroke-width: 1.5\"/>\n   </g>\n   <g id=\"line2d_17\">\n    <path d=\"M 49.633125 40.562502 \n\" clip-path=\"url(#p4f066f8870)\" style=\"fill: none; stroke-dasharray: 9.6,2.4,1.5,2.4; stroke-dashoffset: 0; stroke: #2ca02c; stroke-width: 1.5\"/>\n   </g>\n   <g id=\"line2d_18\">\n    <path d=\"M 34.954394 13.5 \nL 44.698573 79.252774 \nL 54.442752 95.778747 \n\" clip-path=\"url(#p4f066f8870)\" style=\"fill: none; stroke: #1f77b4; stroke-width: 1.5; stroke-linecap: square\"/>\n   </g>\n   <g id=\"line2d_19\">\n    <path d=\"M 49.633125 79.170442 \n\" clip-path=\"url(#p4f066f8870)\" style=\"fill: none; stroke-dasharray: 5.55,2.4; stroke-dashoffset: 0; stroke: #ff7f0e; stroke-width: 1.5\"/>\n   </g>\n   <g id=\"line2d_20\">\n    <path d=\"M 49.633125 40.562502 \n\" clip-path=\"url(#p4f066f8870)\" style=\"fill: none; stroke-dasharray: 9.6,2.4,1.5,2.4; stroke-dashoffset: 0; stroke: #2ca02c; stroke-width: 1.5\"/>\n   </g>\n   <g id=\"line2d_21\">\n    <path d=\"M 34.954394 13.5 \nL 44.698573 79.252774 \nL 54.442752 95.778747 \nL 64.186931 103.805421 \n\" clip-path=\"url(#p4f066f8870)\" style=\"fill: none; stroke: #1f77b4; stroke-width: 1.5; stroke-linecap: square\"/>\n   </g>\n   <g id=\"line2d_22\">\n    <path d=\"M 49.633125 79.170442 \n\" clip-path=\"url(#p4f066f8870)\" style=\"fill: none; stroke-dasharray: 5.55,2.4; stroke-dashoffset: 0; stroke: #ff7f0e; stroke-width: 1.5\"/>\n   </g>\n   <g id=\"line2d_23\">\n    <path d=\"M 49.633125 40.562502 \n\" clip-path=\"url(#p4f066f8870)\" style=\"fill: none; stroke-dasharray: 9.6,2.4,1.5,2.4; stroke-dashoffset: 0; stroke: #2ca02c; stroke-width: 1.5\"/>\n   </g>\n   <g id=\"line2d_24\">\n    <path d=\"M 34.954394 13.5 \nL 44.698573 79.252774 \nL 54.442752 95.778747 \nL 64.186931 103.805421 \n\" clip-path=\"url(#p4f066f8870)\" style=\"fill: none; stroke: #1f77b4; stroke-width: 1.5; stroke-linecap: square\"/>\n   </g>\n   <g id=\"line2d_25\">\n    <path d=\"M 49.633125 79.170442 \nL 69.163125 88.441459 \n\" clip-path=\"url(#p4f066f8870)\" style=\"fill: none; stroke-dasharray: 5.55,2.4; stroke-dashoffset: 0; stroke: #ff7f0e; stroke-width: 1.5\"/>\n   </g>\n   <g id=\"line2d_26\">\n    <path d=\"M 49.633125 40.562502 \n\" clip-path=\"url(#p4f066f8870)\" style=\"fill: none; stroke-dasharray: 9.6,2.4,1.5,2.4; stroke-dashoffset: 0; stroke: #2ca02c; stroke-width: 1.5\"/>\n   </g>\n   <g id=\"line2d_27\">\n    <path d=\"M 34.954394 13.5 \nL 44.698573 79.252774 \nL 54.442752 95.778747 \nL 64.186931 103.805421 \n\" clip-path=\"url(#p4f066f8870)\" style=\"fill: none; stroke: #1f77b4; stroke-width: 1.5; stroke-linecap: square\"/>\n   </g>\n   <g id=\"line2d_28\">\n    <path d=\"M 49.633125 79.170442 \nL 69.163125 88.441459 \n\" clip-path=\"url(#p4f066f8870)\" style=\"fill: none; stroke-dasharray: 5.55,2.4; stroke-dashoffset: 0; stroke: #ff7f0e; stroke-width: 1.5\"/>\n   </g>\n   <g id=\"line2d_29\">\n    <path d=\"M 49.633125 40.562502 \nL 69.163125 38.711711 \n\" clip-path=\"url(#p4f066f8870)\" style=\"fill: none; stroke-dasharray: 9.6,2.4,1.5,2.4; stroke-dashoffset: 0; stroke: #2ca02c; stroke-width: 1.5\"/>\n   </g>\n   <g id=\"line2d_30\">\n    <path d=\"M 34.954394 13.5 \nL 44.698573 79.252774 \nL 54.442752 95.778747 \nL 64.186931 103.805421 \nL 73.93111 109.529428 \n\" clip-path=\"url(#p4f066f8870)\" style=\"fill: none; stroke: #1f77b4; stroke-width: 1.5; stroke-linecap: square\"/>\n   </g>\n   <g id=\"line2d_31\">\n    <path d=\"M 49.633125 79.170442 \nL 69.163125 88.441459 \n\" clip-path=\"url(#p4f066f8870)\" style=\"fill: none; stroke-dasharray: 5.55,2.4; stroke-dashoffset: 0; stroke: #ff7f0e; stroke-width: 1.5\"/>\n   </g>\n   <g id=\"line2d_32\">\n    <path d=\"M 49.633125 40.562502 \nL 69.163125 38.711711 \n\" clip-path=\"url(#p4f066f8870)\" style=\"fill: none; stroke-dasharray: 9.6,2.4,1.5,2.4; stroke-dashoffset: 0; stroke: #2ca02c; stroke-width: 1.5\"/>\n   </g>\n   <g id=\"line2d_33\">\n    <path d=\"M 34.954394 13.5 \nL 44.698573 79.252774 \nL 54.442752 95.778747 \nL 64.186931 103.805421 \nL 73.93111 109.529428 \nL 83.675289 114.820318 \n\" clip-path=\"url(#p4f066f8870)\" style=\"fill: none; stroke: #1f77b4; stroke-width: 1.5; stroke-linecap: square\"/>\n   </g>\n   <g id=\"line2d_34\">\n    <path d=\"M 49.633125 79.170442 \nL 69.163125 88.441459 \n\" clip-path=\"url(#p4f066f8870)\" style=\"fill: none; stroke-dasharray: 5.55,2.4; stroke-dashoffset: 0; stroke: #ff7f0e; stroke-width: 1.5\"/>\n   </g>\n   <g id=\"line2d_35\">\n    <path d=\"M 49.633125 40.562502 \nL 69.163125 38.711711 \n\" clip-path=\"url(#p4f066f8870)\" style=\"fill: none; stroke-dasharray: 9.6,2.4,1.5,2.4; stroke-dashoffset: 0; stroke: #2ca02c; stroke-width: 1.5\"/>\n   </g>\n   <g id=\"line2d_36\">\n    <path d=\"M 34.954394 13.5 \nL 44.698573 79.252774 \nL 54.442752 95.778747 \nL 64.186931 103.805421 \nL 73.93111 109.529428 \nL 83.675289 114.820318 \n\" clip-path=\"url(#p4f066f8870)\" style=\"fill: none; stroke: #1f77b4; stroke-width: 1.5; stroke-linecap: square\"/>\n   </g>\n   <g id=\"line2d_37\">\n    <path d=\"M 49.633125 79.170442 \nL 69.163125 88.441459 \nL 88.693125 111.406968 \n\" clip-path=\"url(#p4f066f8870)\" style=\"fill: none; stroke-dasharray: 5.55,2.4; stroke-dashoffset: 0; stroke: #ff7f0e; stroke-width: 1.5\"/>\n   </g>\n   <g id=\"line2d_38\">\n    <path d=\"M 49.633125 40.562502 \nL 69.163125 38.711711 \n\" clip-path=\"url(#p4f066f8870)\" style=\"fill: none; stroke-dasharray: 9.6,2.4,1.5,2.4; stroke-dashoffset: 0; stroke: #2ca02c; stroke-width: 1.5\"/>\n   </g>\n   <g id=\"line2d_39\">\n    <path d=\"M 34.954394 13.5 \nL 44.698573 79.252774 \nL 54.442752 95.778747 \nL 64.186931 103.805421 \nL 73.93111 109.529428 \nL 83.675289 114.820318 \n\" clip-path=\"url(#p4f066f8870)\" style=\"fill: none; stroke: #1f77b4; stroke-width: 1.5; stroke-linecap: square\"/>\n   </g>\n   <g id=\"line2d_40\">\n    <path d=\"M 49.633125 79.170442 \nL 69.163125 88.441459 \nL 88.693125 111.406968 \n\" clip-path=\"url(#p4f066f8870)\" style=\"fill: none; stroke-dasharray: 5.55,2.4; stroke-dashoffset: 0; stroke: #ff7f0e; stroke-width: 1.5\"/>\n   </g>\n   <g id=\"line2d_41\">\n    <path d=\"M 49.633125 40.562502 \nL 69.163125 38.711711 \nL 88.693125 31.368246 \n\" clip-path=\"url(#p4f066f8870)\" style=\"fill: none; stroke-dasharray: 9.6,2.4,1.5,2.4; stroke-dashoffset: 0; stroke: #2ca02c; stroke-width: 1.5\"/>\n   </g>\n   <g id=\"line2d_42\">\n    <path d=\"M 34.954394 13.5 \nL 44.698573 79.252774 \nL 54.442752 95.778747 \nL 64.186931 103.805421 \nL 73.93111 109.529428 \nL 83.675289 114.820318 \nL 93.419468 117.660919 \n\" clip-path=\"url(#p4f066f8870)\" style=\"fill: none; stroke: #1f77b4; stroke-width: 1.5; stroke-linecap: square\"/>\n   </g>\n   <g id=\"line2d_43\">\n    <path d=\"M 49.633125 79.170442 \nL 69.163125 88.441459 \nL 88.693125 111.406968 \n\" clip-path=\"url(#p4f066f8870)\" style=\"fill: none; stroke-dasharray: 5.55,2.4; stroke-dashoffset: 0; stroke: #ff7f0e; stroke-width: 1.5\"/>\n   </g>\n   <g id=\"line2d_44\">\n    <path d=\"M 49.633125 40.562502 \nL 69.163125 38.711711 \nL 88.693125 31.368246 \n\" clip-path=\"url(#p4f066f8870)\" style=\"fill: none; stroke-dasharray: 9.6,2.4,1.5,2.4; stroke-dashoffset: 0; stroke: #2ca02c; stroke-width: 1.5\"/>\n   </g>\n   <g id=\"line2d_45\">\n    <path d=\"M 34.954394 13.5 \nL 44.698573 79.252774 \nL 54.442752 95.778747 \nL 64.186931 103.805421 \nL 73.93111 109.529428 \nL 83.675289 114.820318 \nL 93.419468 117.660919 \nL 103.163647 121.455381 \n\" clip-path=\"url(#p4f066f8870)\" style=\"fill: none; stroke: #1f77b4; stroke-width: 1.5; stroke-linecap: square\"/>\n   </g>\n   <g id=\"line2d_46\">\n    <path d=\"M 49.633125 79.170442 \nL 69.163125 88.441459 \nL 88.693125 111.406968 \n\" clip-path=\"url(#p4f066f8870)\" style=\"fill: none; stroke-dasharray: 5.55,2.4; stroke-dashoffset: 0; stroke: #ff7f0e; stroke-width: 1.5\"/>\n   </g>\n   <g id=\"line2d_47\">\n    <path d=\"M 49.633125 40.562502 \nL 69.163125 38.711711 \nL 88.693125 31.368246 \n\" clip-path=\"url(#p4f066f8870)\" style=\"fill: none; stroke-dasharray: 9.6,2.4,1.5,2.4; stroke-dashoffset: 0; stroke: #2ca02c; stroke-width: 1.5\"/>\n   </g>\n   <g id=\"line2d_48\">\n    <path d=\"M 34.954394 13.5 \nL 44.698573 79.252774 \nL 54.442752 95.778747 \nL 64.186931 103.805421 \nL 73.93111 109.529428 \nL 83.675289 114.820318 \nL 93.419468 117.660919 \nL 103.163647 121.455381 \n\" clip-path=\"url(#p4f066f8870)\" style=\"fill: none; stroke: #1f77b4; stroke-width: 1.5; stroke-linecap: square\"/>\n   </g>\n   <g id=\"line2d_49\">\n    <path d=\"M 49.633125 79.170442 \nL 69.163125 88.441459 \nL 88.693125 111.406968 \nL 108.223125 95.622084 \n\" clip-path=\"url(#p4f066f8870)\" style=\"fill: none; stroke-dasharray: 5.55,2.4; stroke-dashoffset: 0; stroke: #ff7f0e; stroke-width: 1.5\"/>\n   </g>\n   <g id=\"line2d_50\">\n    <path d=\"M 49.633125 40.562502 \nL 69.163125 38.711711 \nL 88.693125 31.368246 \n\" clip-path=\"url(#p4f066f8870)\" style=\"fill: none; stroke-dasharray: 9.6,2.4,1.5,2.4; stroke-dashoffset: 0; stroke: #2ca02c; stroke-width: 1.5\"/>\n   </g>\n   <g id=\"line2d_51\">\n    <path d=\"M 34.954394 13.5 \nL 44.698573 79.252774 \nL 54.442752 95.778747 \nL 64.186931 103.805421 \nL 73.93111 109.529428 \nL 83.675289 114.820318 \nL 93.419468 117.660919 \nL 103.163647 121.455381 \n\" clip-path=\"url(#p4f066f8870)\" style=\"fill: none; stroke: #1f77b4; stroke-width: 1.5; stroke-linecap: square\"/>\n   </g>\n   <g id=\"line2d_52\">\n    <path d=\"M 49.633125 79.170442 \nL 69.163125 88.441459 \nL 88.693125 111.406968 \nL 108.223125 95.622084 \n\" clip-path=\"url(#p4f066f8870)\" style=\"fill: none; stroke-dasharray: 5.55,2.4; stroke-dashoffset: 0; stroke: #ff7f0e; stroke-width: 1.5\"/>\n   </g>\n   <g id=\"line2d_53\">\n    <path d=\"M 49.633125 40.562502 \nL 69.163125 38.711711 \nL 88.693125 31.368246 \nL 108.223125 39.069928 \n\" clip-path=\"url(#p4f066f8870)\" style=\"fill: none; stroke-dasharray: 9.6,2.4,1.5,2.4; stroke-dashoffset: 0; stroke: #2ca02c; stroke-width: 1.5\"/>\n   </g>\n   <g id=\"line2d_54\">\n    <path d=\"M 34.954394 13.5 \nL 44.698573 79.252774 \nL 54.442752 95.778747 \nL 64.186931 103.805421 \nL 73.93111 109.529428 \nL 83.675289 114.820318 \nL 93.419468 117.660919 \nL 103.163647 121.455381 \nL 112.907826 125.428291 \n\" clip-path=\"url(#p4f066f8870)\" style=\"fill: none; stroke: #1f77b4; stroke-width: 1.5; stroke-linecap: square\"/>\n   </g>\n   <g id=\"line2d_55\">\n    <path d=\"M 49.633125 79.170442 \nL 69.163125 88.441459 \nL 88.693125 111.406968 \nL 108.223125 95.622084 \n\" clip-path=\"url(#p4f066f8870)\" style=\"fill: none; stroke-dasharray: 5.55,2.4; stroke-dashoffset: 0; stroke: #ff7f0e; stroke-width: 1.5\"/>\n   </g>\n   <g id=\"line2d_56\">\n    <path d=\"M 49.633125 40.562502 \nL 69.163125 38.711711 \nL 88.693125 31.368246 \nL 108.223125 39.069928 \n\" clip-path=\"url(#p4f066f8870)\" style=\"fill: none; stroke-dasharray: 9.6,2.4,1.5,2.4; stroke-dashoffset: 0; stroke: #2ca02c; stroke-width: 1.5\"/>\n   </g>\n   <g id=\"line2d_57\">\n    <path d=\"M 34.954394 13.5 \nL 44.698573 79.252774 \nL 54.442752 95.778747 \nL 64.186931 103.805421 \nL 73.93111 109.529428 \nL 83.675289 114.820318 \nL 93.419468 117.660919 \nL 103.163647 121.455381 \nL 112.907826 125.428291 \nL 122.652006 125.408404 \n\" clip-path=\"url(#p4f066f8870)\" style=\"fill: none; stroke: #1f77b4; stroke-width: 1.5; stroke-linecap: square\"/>\n   </g>\n   <g id=\"line2d_58\">\n    <path d=\"M 49.633125 79.170442 \nL 69.163125 88.441459 \nL 88.693125 111.406968 \nL 108.223125 95.622084 \n\" clip-path=\"url(#p4f066f8870)\" style=\"fill: none; stroke-dasharray: 5.55,2.4; stroke-dashoffset: 0; stroke: #ff7f0e; stroke-width: 1.5\"/>\n   </g>\n   <g id=\"line2d_59\">\n    <path d=\"M 49.633125 40.562502 \nL 69.163125 38.711711 \nL 88.693125 31.368246 \nL 108.223125 39.069928 \n\" clip-path=\"url(#p4f066f8870)\" style=\"fill: none; stroke-dasharray: 9.6,2.4,1.5,2.4; stroke-dashoffset: 0; stroke: #2ca02c; stroke-width: 1.5\"/>\n   </g>\n   <g id=\"line2d_60\">\n    <path d=\"M 34.954394 13.5 \nL 44.698573 79.252774 \nL 54.442752 95.778747 \nL 64.186931 103.805421 \nL 73.93111 109.529428 \nL 83.675289 114.820318 \nL 93.419468 117.660919 \nL 103.163647 121.455381 \nL 112.907826 125.428291 \nL 122.652006 125.408404 \n\" clip-path=\"url(#p4f066f8870)\" style=\"fill: none; stroke: #1f77b4; stroke-width: 1.5; stroke-linecap: square\"/>\n   </g>\n   <g id=\"line2d_61\">\n    <path d=\"M 49.633125 79.170442 \nL 69.163125 88.441459 \nL 88.693125 111.406968 \nL 108.223125 95.622084 \nL 127.753125 119.838043 \n\" clip-path=\"url(#p4f066f8870)\" style=\"fill: none; stroke-dasharray: 5.55,2.4; stroke-dashoffset: 0; stroke: #ff7f0e; stroke-width: 1.5\"/>\n   </g>\n   <g id=\"line2d_62\">\n    <path d=\"M 49.633125 40.562502 \nL 69.163125 38.711711 \nL 88.693125 31.368246 \nL 108.223125 39.069928 \n\" clip-path=\"url(#p4f066f8870)\" style=\"fill: none; stroke-dasharray: 9.6,2.4,1.5,2.4; stroke-dashoffset: 0; stroke: #2ca02c; stroke-width: 1.5\"/>\n   </g>\n   <g id=\"line2d_63\">\n    <path d=\"M 34.954394 13.5 \nL 44.698573 79.252774 \nL 54.442752 95.778747 \nL 64.186931 103.805421 \nL 73.93111 109.529428 \nL 83.675289 114.820318 \nL 93.419468 117.660919 \nL 103.163647 121.455381 \nL 112.907826 125.428291 \nL 122.652006 125.408404 \n\" clip-path=\"url(#p4f066f8870)\" style=\"fill: none; stroke: #1f77b4; stroke-width: 1.5; stroke-linecap: square\"/>\n   </g>\n   <g id=\"line2d_64\">\n    <path d=\"M 49.633125 79.170442 \nL 69.163125 88.441459 \nL 88.693125 111.406968 \nL 108.223125 95.622084 \nL 127.753125 119.838043 \n\" clip-path=\"url(#p4f066f8870)\" style=\"fill: none; stroke-dasharray: 5.55,2.4; stroke-dashoffset: 0; stroke: #ff7f0e; stroke-width: 1.5\"/>\n   </g>\n   <g id=\"line2d_65\">\n    <path d=\"M 49.633125 40.562502 \nL 69.163125 38.711711 \nL 88.693125 31.368246 \nL 108.223125 39.069928 \nL 127.753125 28.104484 \n\" clip-path=\"url(#p4f066f8870)\" style=\"fill: none; stroke-dasharray: 9.6,2.4,1.5,2.4; stroke-dashoffset: 0; stroke: #2ca02c; stroke-width: 1.5\"/>\n   </g>\n   <g id=\"line2d_66\">\n    <path d=\"M 34.954394 13.5 \nL 44.698573 79.252774 \nL 54.442752 95.778747 \nL 64.186931 103.805421 \nL 73.93111 109.529428 \nL 83.675289 114.820318 \nL 93.419468 117.660919 \nL 103.163647 121.455381 \nL 112.907826 125.428291 \nL 122.652006 125.408404 \nL 132.396185 128.617894 \n\" clip-path=\"url(#p4f066f8870)\" style=\"fill: none; stroke: #1f77b4; stroke-width: 1.5; stroke-linecap: square\"/>\n   </g>\n   <g id=\"line2d_67\">\n    <path d=\"M 49.633125 79.170442 \nL 69.163125 88.441459 \nL 88.693125 111.406968 \nL 108.223125 95.622084 \nL 127.753125 119.838043 \n\" clip-path=\"url(#p4f066f8870)\" style=\"fill: none; stroke-dasharray: 5.55,2.4; stroke-dashoffset: 0; stroke: #ff7f0e; stroke-width: 1.5\"/>\n   </g>\n   <g id=\"line2d_68\">\n    <path d=\"M 49.633125 40.562502 \nL 69.163125 38.711711 \nL 88.693125 31.368246 \nL 108.223125 39.069928 \nL 127.753125 28.104484 \n\" clip-path=\"url(#p4f066f8870)\" style=\"fill: none; stroke-dasharray: 9.6,2.4,1.5,2.4; stroke-dashoffset: 0; stroke: #2ca02c; stroke-width: 1.5\"/>\n   </g>\n   <g id=\"line2d_69\">\n    <path d=\"M 34.954394 13.5 \nL 44.698573 79.252774 \nL 54.442752 95.778747 \nL 64.186931 103.805421 \nL 73.93111 109.529428 \nL 83.675289 114.820318 \nL 93.419468 117.660919 \nL 103.163647 121.455381 \nL 112.907826 125.428291 \nL 122.652006 125.408404 \nL 132.396185 128.617894 \nL 142.140364 130.695597 \n\" clip-path=\"url(#p4f066f8870)\" style=\"fill: none; stroke: #1f77b4; stroke-width: 1.5; stroke-linecap: square\"/>\n   </g>\n   <g id=\"line2d_70\">\n    <path d=\"M 49.633125 79.170442 \nL 69.163125 88.441459 \nL 88.693125 111.406968 \nL 108.223125 95.622084 \nL 127.753125 119.838043 \n\" clip-path=\"url(#p4f066f8870)\" style=\"fill: none; stroke-dasharray: 5.55,2.4; stroke-dashoffset: 0; stroke: #ff7f0e; stroke-width: 1.5\"/>\n   </g>\n   <g id=\"line2d_71\">\n    <path d=\"M 49.633125 40.562502 \nL 69.163125 38.711711 \nL 88.693125 31.368246 \nL 108.223125 39.069928 \nL 127.753125 28.104484 \n\" clip-path=\"url(#p4f066f8870)\" style=\"fill: none; stroke-dasharray: 9.6,2.4,1.5,2.4; stroke-dashoffset: 0; stroke: #2ca02c; stroke-width: 1.5\"/>\n   </g>\n   <g id=\"line2d_72\">\n    <path d=\"M 34.954394 13.5 \nL 44.698573 79.252774 \nL 54.442752 95.778747 \nL 64.186931 103.805421 \nL 73.93111 109.529428 \nL 83.675289 114.820318 \nL 93.419468 117.660919 \nL 103.163647 121.455381 \nL 112.907826 125.428291 \nL 122.652006 125.408404 \nL 132.396185 128.617894 \nL 142.140364 130.695597 \n\" clip-path=\"url(#p4f066f8870)\" style=\"fill: none; stroke: #1f77b4; stroke-width: 1.5; stroke-linecap: square\"/>\n   </g>\n   <g id=\"line2d_73\">\n    <path d=\"M 49.633125 79.170442 \nL 69.163125 88.441459 \nL 88.693125 111.406968 \nL 108.223125 95.622084 \nL 127.753125 119.838043 \nL 147.283125 113.083646 \n\" clip-path=\"url(#p4f066f8870)\" style=\"fill: none; stroke-dasharray: 5.55,2.4; stroke-dashoffset: 0; stroke: #ff7f0e; stroke-width: 1.5\"/>\n   </g>\n   <g id=\"line2d_74\">\n    <path d=\"M 49.633125 40.562502 \nL 69.163125 38.711711 \nL 88.693125 31.368246 \nL 108.223125 39.069928 \nL 127.753125 28.104484 \n\" clip-path=\"url(#p4f066f8870)\" style=\"fill: none; stroke-dasharray: 9.6,2.4,1.5,2.4; stroke-dashoffset: 0; stroke: #2ca02c; stroke-width: 1.5\"/>\n   </g>\n   <g id=\"line2d_75\">\n    <path d=\"M 34.954394 13.5 \nL 44.698573 79.252774 \nL 54.442752 95.778747 \nL 64.186931 103.805421 \nL 73.93111 109.529428 \nL 83.675289 114.820318 \nL 93.419468 117.660919 \nL 103.163647 121.455381 \nL 112.907826 125.428291 \nL 122.652006 125.408404 \nL 132.396185 128.617894 \nL 142.140364 130.695597 \n\" clip-path=\"url(#p4f066f8870)\" style=\"fill: none; stroke: #1f77b4; stroke-width: 1.5; stroke-linecap: square\"/>\n   </g>\n   <g id=\"line2d_76\">\n    <path d=\"M 49.633125 79.170442 \nL 69.163125 88.441459 \nL 88.693125 111.406968 \nL 108.223125 95.622084 \nL 127.753125 119.838043 \nL 147.283125 113.083646 \n\" clip-path=\"url(#p4f066f8870)\" style=\"fill: none; stroke-dasharray: 5.55,2.4; stroke-dashoffset: 0; stroke: #ff7f0e; stroke-width: 1.5\"/>\n   </g>\n   <g id=\"line2d_77\">\n    <path d=\"M 49.633125 40.562502 \nL 69.163125 38.711711 \nL 88.693125 31.368246 \nL 108.223125 39.069928 \nL 127.753125 28.104484 \nL 147.283125 30.393098 \n\" clip-path=\"url(#p4f066f8870)\" style=\"fill: none; stroke-dasharray: 9.6,2.4,1.5,2.4; stroke-dashoffset: 0; stroke: #2ca02c; stroke-width: 1.5\"/>\n   </g>\n   <g id=\"line2d_78\">\n    <path d=\"M 34.954394 13.5 \nL 44.698573 79.252774 \nL 54.442752 95.778747 \nL 64.186931 103.805421 \nL 73.93111 109.529428 \nL 83.675289 114.820318 \nL 93.419468 117.660919 \nL 103.163647 121.455381 \nL 112.907826 125.428291 \nL 122.652006 125.408404 \nL 132.396185 128.617894 \nL 142.140364 130.695597 \nL 151.884543 132.842136 \n\" clip-path=\"url(#p4f066f8870)\" style=\"fill: none; stroke: #1f77b4; stroke-width: 1.5; stroke-linecap: square\"/>\n   </g>\n   <g id=\"line2d_79\">\n    <path d=\"M 49.633125 79.170442 \nL 69.163125 88.441459 \nL 88.693125 111.406968 \nL 108.223125 95.622084 \nL 127.753125 119.838043 \nL 147.283125 113.083646 \n\" clip-path=\"url(#p4f066f8870)\" style=\"fill: none; stroke-dasharray: 5.55,2.4; stroke-dashoffset: 0; stroke: #ff7f0e; stroke-width: 1.5\"/>\n   </g>\n   <g id=\"line2d_80\">\n    <path d=\"M 49.633125 40.562502 \nL 69.163125 38.711711 \nL 88.693125 31.368246 \nL 108.223125 39.069928 \nL 127.753125 28.104484 \nL 147.283125 30.393098 \n\" clip-path=\"url(#p4f066f8870)\" style=\"fill: none; stroke-dasharray: 9.6,2.4,1.5,2.4; stroke-dashoffset: 0; stroke: #2ca02c; stroke-width: 1.5\"/>\n   </g>\n   <g id=\"line2d_81\">\n    <path d=\"M 34.954394 13.5 \nL 44.698573 79.252774 \nL 54.442752 95.778747 \nL 64.186931 103.805421 \nL 73.93111 109.529428 \nL 83.675289 114.820318 \nL 93.419468 117.660919 \nL 103.163647 121.455381 \nL 112.907826 125.428291 \nL 122.652006 125.408404 \nL 132.396185 128.617894 \nL 142.140364 130.695597 \nL 151.884543 132.842136 \nL 161.628722 132.849718 \n\" clip-path=\"url(#p4f066f8870)\" style=\"fill: none; stroke: #1f77b4; stroke-width: 1.5; stroke-linecap: square\"/>\n   </g>\n   <g id=\"line2d_82\">\n    <path d=\"M 49.633125 79.170442 \nL 69.163125 88.441459 \nL 88.693125 111.406968 \nL 108.223125 95.622084 \nL 127.753125 119.838043 \nL 147.283125 113.083646 \n\" clip-path=\"url(#p4f066f8870)\" style=\"fill: none; stroke-dasharray: 5.55,2.4; stroke-dashoffset: 0; stroke: #ff7f0e; stroke-width: 1.5\"/>\n   </g>\n   <g id=\"line2d_83\">\n    <path d=\"M 49.633125 40.562502 \nL 69.163125 38.711711 \nL 88.693125 31.368246 \nL 108.223125 39.069928 \nL 127.753125 28.104484 \nL 147.283125 30.393098 \n\" clip-path=\"url(#p4f066f8870)\" style=\"fill: none; stroke-dasharray: 9.6,2.4,1.5,2.4; stroke-dashoffset: 0; stroke: #2ca02c; stroke-width: 1.5\"/>\n   </g>\n   <g id=\"line2d_84\">\n    <path d=\"M 34.954394 13.5 \nL 44.698573 79.252774 \nL 54.442752 95.778747 \nL 64.186931 103.805421 \nL 73.93111 109.529428 \nL 83.675289 114.820318 \nL 93.419468 117.660919 \nL 103.163647 121.455381 \nL 112.907826 125.428291 \nL 122.652006 125.408404 \nL 132.396185 128.617894 \nL 142.140364 130.695597 \nL 151.884543 132.842136 \nL 161.628722 132.849718 \n\" clip-path=\"url(#p4f066f8870)\" style=\"fill: none; stroke: #1f77b4; stroke-width: 1.5; stroke-linecap: square\"/>\n   </g>\n   <g id=\"line2d_85\">\n    <path d=\"M 49.633125 79.170442 \nL 69.163125 88.441459 \nL 88.693125 111.406968 \nL 108.223125 95.622084 \nL 127.753125 119.838043 \nL 147.283125 113.083646 \nL 166.813125 128.531818 \n\" clip-path=\"url(#p4f066f8870)\" style=\"fill: none; stroke-dasharray: 5.55,2.4; stroke-dashoffset: 0; stroke: #ff7f0e; stroke-width: 1.5\"/>\n   </g>\n   <g id=\"line2d_86\">\n    <path d=\"M 49.633125 40.562502 \nL 69.163125 38.711711 \nL 88.693125 31.368246 \nL 108.223125 39.069928 \nL 127.753125 28.104484 \nL 147.283125 30.393098 \n\" clip-path=\"url(#p4f066f8870)\" style=\"fill: none; stroke-dasharray: 9.6,2.4,1.5,2.4; stroke-dashoffset: 0; stroke: #2ca02c; stroke-width: 1.5\"/>\n   </g>\n   <g id=\"line2d_87\">\n    <path d=\"M 34.954394 13.5 \nL 44.698573 79.252774 \nL 54.442752 95.778747 \nL 64.186931 103.805421 \nL 73.93111 109.529428 \nL 83.675289 114.820318 \nL 93.419468 117.660919 \nL 103.163647 121.455381 \nL 112.907826 125.428291 \nL 122.652006 125.408404 \nL 132.396185 128.617894 \nL 142.140364 130.695597 \nL 151.884543 132.842136 \nL 161.628722 132.849718 \n\" clip-path=\"url(#p4f066f8870)\" style=\"fill: none; stroke: #1f77b4; stroke-width: 1.5; stroke-linecap: square\"/>\n   </g>\n   <g id=\"line2d_88\">\n    <path d=\"M 49.633125 79.170442 \nL 69.163125 88.441459 \nL 88.693125 111.406968 \nL 108.223125 95.622084 \nL 127.753125 119.838043 \nL 147.283125 113.083646 \nL 166.813125 128.531818 \n\" clip-path=\"url(#p4f066f8870)\" style=\"fill: none; stroke-dasharray: 5.55,2.4; stroke-dashoffset: 0; stroke: #ff7f0e; stroke-width: 1.5\"/>\n   </g>\n   <g id=\"line2d_89\">\n    <path d=\"M 49.633125 40.562502 \nL 69.163125 38.711711 \nL 88.693125 31.368246 \nL 108.223125 39.069928 \nL 127.753125 28.104484 \nL 147.283125 30.393098 \nL 166.813125 25.696464 \n\" clip-path=\"url(#p4f066f8870)\" style=\"fill: none; stroke-dasharray: 9.6,2.4,1.5,2.4; stroke-dashoffset: 0; stroke: #2ca02c; stroke-width: 1.5\"/>\n   </g>\n   <g id=\"line2d_90\">\n    <path d=\"M 34.954394 13.5 \nL 44.698573 79.252774 \nL 54.442752 95.778747 \nL 64.186931 103.805421 \nL 73.93111 109.529428 \nL 83.675289 114.820318 \nL 93.419468 117.660919 \nL 103.163647 121.455381 \nL 112.907826 125.428291 \nL 122.652006 125.408404 \nL 132.396185 128.617894 \nL 142.140364 130.695597 \nL 151.884543 132.842136 \nL 161.628722 132.849718 \nL 171.372901 135.44336 \n\" clip-path=\"url(#p4f066f8870)\" style=\"fill: none; stroke: #1f77b4; stroke-width: 1.5; stroke-linecap: square\"/>\n   </g>\n   <g id=\"line2d_91\">\n    <path d=\"M 49.633125 79.170442 \nL 69.163125 88.441459 \nL 88.693125 111.406968 \nL 108.223125 95.622084 \nL 127.753125 119.838043 \nL 147.283125 113.083646 \nL 166.813125 128.531818 \n\" clip-path=\"url(#p4f066f8870)\" style=\"fill: none; stroke-dasharray: 5.55,2.4; stroke-dashoffset: 0; stroke: #ff7f0e; stroke-width: 1.5\"/>\n   </g>\n   <g id=\"line2d_92\">\n    <path d=\"M 49.633125 40.562502 \nL 69.163125 38.711711 \nL 88.693125 31.368246 \nL 108.223125 39.069928 \nL 127.753125 28.104484 \nL 147.283125 30.393098 \nL 166.813125 25.696464 \n\" clip-path=\"url(#p4f066f8870)\" style=\"fill: none; stroke-dasharray: 9.6,2.4,1.5,2.4; stroke-dashoffset: 0; stroke: #2ca02c; stroke-width: 1.5\"/>\n   </g>\n   <g id=\"line2d_93\">\n    <path d=\"M 34.954394 13.5 \nL 44.698573 79.252774 \nL 54.442752 95.778747 \nL 64.186931 103.805421 \nL 73.93111 109.529428 \nL 83.675289 114.820318 \nL 93.419468 117.660919 \nL 103.163647 121.455381 \nL 112.907826 125.428291 \nL 122.652006 125.408404 \nL 132.396185 128.617894 \nL 142.140364 130.695597 \nL 151.884543 132.842136 \nL 161.628722 132.849718 \nL 171.372901 135.44336 \nL 181.11708 135.191602 \n\" clip-path=\"url(#p4f066f8870)\" style=\"fill: none; stroke: #1f77b4; stroke-width: 1.5; stroke-linecap: square\"/>\n   </g>\n   <g id=\"line2d_94\">\n    <path d=\"M 49.633125 79.170442 \nL 69.163125 88.441459 \nL 88.693125 111.406968 \nL 108.223125 95.622084 \nL 127.753125 119.838043 \nL 147.283125 113.083646 \nL 166.813125 128.531818 \n\" clip-path=\"url(#p4f066f8870)\" style=\"fill: none; stroke-dasharray: 5.55,2.4; stroke-dashoffset: 0; stroke: #ff7f0e; stroke-width: 1.5\"/>\n   </g>\n   <g id=\"line2d_95\">\n    <path d=\"M 49.633125 40.562502 \nL 69.163125 38.711711 \nL 88.693125 31.368246 \nL 108.223125 39.069928 \nL 127.753125 28.104484 \nL 147.283125 30.393098 \nL 166.813125 25.696464 \n\" clip-path=\"url(#p4f066f8870)\" style=\"fill: none; stroke-dasharray: 9.6,2.4,1.5,2.4; stroke-dashoffset: 0; stroke: #2ca02c; stroke-width: 1.5\"/>\n   </g>\n   <g id=\"line2d_96\">\n    <path d=\"M 34.954394 13.5 \nL 44.698573 79.252774 \nL 54.442752 95.778747 \nL 64.186931 103.805421 \nL 73.93111 109.529428 \nL 83.675289 114.820318 \nL 93.419468 117.660919 \nL 103.163647 121.455381 \nL 112.907826 125.428291 \nL 122.652006 125.408404 \nL 132.396185 128.617894 \nL 142.140364 130.695597 \nL 151.884543 132.842136 \nL 161.628722 132.849718 \nL 171.372901 135.44336 \nL 181.11708 135.191602 \n\" clip-path=\"url(#p4f066f8870)\" style=\"fill: none; stroke: #1f77b4; stroke-width: 1.5; stroke-linecap: square\"/>\n   </g>\n   <g id=\"line2d_97\">\n    <path d=\"M 49.633125 79.170442 \nL 69.163125 88.441459 \nL 88.693125 111.406968 \nL 108.223125 95.622084 \nL 127.753125 119.838043 \nL 147.283125 113.083646 \nL 166.813125 128.531818 \nL 186.343125 115.365658 \n\" clip-path=\"url(#p4f066f8870)\" style=\"fill: none; stroke-dasharray: 5.55,2.4; stroke-dashoffset: 0; stroke: #ff7f0e; stroke-width: 1.5\"/>\n   </g>\n   <g id=\"line2d_98\">\n    <path d=\"M 49.633125 40.562502 \nL 69.163125 38.711711 \nL 88.693125 31.368246 \nL 108.223125 39.069928 \nL 127.753125 28.104484 \nL 147.283125 30.393098 \nL 166.813125 25.696464 \n\" clip-path=\"url(#p4f066f8870)\" style=\"fill: none; stroke-dasharray: 9.6,2.4,1.5,2.4; stroke-dashoffset: 0; stroke: #2ca02c; stroke-width: 1.5\"/>\n   </g>\n   <g id=\"line2d_99\">\n    <path d=\"M 34.954394 13.5 \nL 44.698573 79.252774 \nL 54.442752 95.778747 \nL 64.186931 103.805421 \nL 73.93111 109.529428 \nL 83.675289 114.820318 \nL 93.419468 117.660919 \nL 103.163647 121.455381 \nL 112.907826 125.428291 \nL 122.652006 125.408404 \nL 132.396185 128.617894 \nL 142.140364 130.695597 \nL 151.884543 132.842136 \nL 161.628722 132.849718 \nL 171.372901 135.44336 \nL 181.11708 135.191602 \n\" clip-path=\"url(#p4f066f8870)\" style=\"fill: none; stroke: #1f77b4; stroke-width: 1.5; stroke-linecap: square\"/>\n   </g>\n   <g id=\"line2d_100\">\n    <path d=\"M 49.633125 79.170442 \nL 69.163125 88.441459 \nL 88.693125 111.406968 \nL 108.223125 95.622084 \nL 127.753125 119.838043 \nL 147.283125 113.083646 \nL 166.813125 128.531818 \nL 186.343125 115.365658 \n\" clip-path=\"url(#p4f066f8870)\" style=\"fill: none; stroke-dasharray: 5.55,2.4; stroke-dashoffset: 0; stroke: #ff7f0e; stroke-width: 1.5\"/>\n   </g>\n   <g id=\"line2d_101\">\n    <path d=\"M 49.633125 40.562502 \nL 69.163125 38.711711 \nL 88.693125 31.368246 \nL 108.223125 39.069928 \nL 127.753125 28.104484 \nL 147.283125 30.393098 \nL 166.813125 25.696464 \nL 186.343125 28.840821 \n\" clip-path=\"url(#p4f066f8870)\" style=\"fill: none; stroke-dasharray: 9.6,2.4,1.5,2.4; stroke-dashoffset: 0; stroke: #2ca02c; stroke-width: 1.5\"/>\n   </g>\n   <g id=\"line2d_102\">\n    <path d=\"M 34.954394 13.5 \nL 44.698573 79.252774 \nL 54.442752 95.778747 \nL 64.186931 103.805421 \nL 73.93111 109.529428 \nL 83.675289 114.820318 \nL 93.419468 117.660919 \nL 103.163647 121.455381 \nL 112.907826 125.428291 \nL 122.652006 125.408404 \nL 132.396185 128.617894 \nL 142.140364 130.695597 \nL 151.884543 132.842136 \nL 161.628722 132.849718 \nL 171.372901 135.44336 \nL 181.11708 135.191602 \nL 190.861259 138.03724 \n\" clip-path=\"url(#p4f066f8870)\" style=\"fill: none; stroke: #1f77b4; stroke-width: 1.5; stroke-linecap: square\"/>\n   </g>\n   <g id=\"line2d_103\">\n    <path d=\"M 49.633125 79.170442 \nL 69.163125 88.441459 \nL 88.693125 111.406968 \nL 108.223125 95.622084 \nL 127.753125 119.838043 \nL 147.283125 113.083646 \nL 166.813125 128.531818 \nL 186.343125 115.365658 \n\" clip-path=\"url(#p4f066f8870)\" style=\"fill: none; stroke-dasharray: 5.55,2.4; stroke-dashoffset: 0; stroke: #ff7f0e; stroke-width: 1.5\"/>\n   </g>\n   <g id=\"line2d_104\">\n    <path d=\"M 49.633125 40.562502 \nL 69.163125 38.711711 \nL 88.693125 31.368246 \nL 108.223125 39.069928 \nL 127.753125 28.104484 \nL 147.283125 30.393098 \nL 166.813125 25.696464 \nL 186.343125 28.840821 \n\" clip-path=\"url(#p4f066f8870)\" style=\"fill: none; stroke-dasharray: 9.6,2.4,1.5,2.4; stroke-dashoffset: 0; stroke: #2ca02c; stroke-width: 1.5\"/>\n   </g>\n   <g id=\"line2d_105\">\n    <path d=\"M 34.954394 13.5 \nL 44.698573 79.252774 \nL 54.442752 95.778747 \nL 64.186931 103.805421 \nL 73.93111 109.529428 \nL 83.675289 114.820318 \nL 93.419468 117.660919 \nL 103.163647 121.455381 \nL 112.907826 125.428291 \nL 122.652006 125.408404 \nL 132.396185 128.617894 \nL 142.140364 130.695597 \nL 151.884543 132.842136 \nL 161.628722 132.849718 \nL 171.372901 135.44336 \nL 181.11708 135.191602 \nL 190.861259 138.03724 \nL 200.605438 137.512721 \n\" clip-path=\"url(#p4f066f8870)\" style=\"fill: none; stroke: #1f77b4; stroke-width: 1.5; stroke-linecap: square\"/>\n   </g>\n   <g id=\"line2d_106\">\n    <path d=\"M 49.633125 79.170442 \nL 69.163125 88.441459 \nL 88.693125 111.406968 \nL 108.223125 95.622084 \nL 127.753125 119.838043 \nL 147.283125 113.083646 \nL 166.813125 128.531818 \nL 186.343125 115.365658 \n\" clip-path=\"url(#p4f066f8870)\" style=\"fill: none; stroke-dasharray: 5.55,2.4; stroke-dashoffset: 0; stroke: #ff7f0e; stroke-width: 1.5\"/>\n   </g>\n   <g id=\"line2d_107\">\n    <path d=\"M 49.633125 40.562502 \nL 69.163125 38.711711 \nL 88.693125 31.368246 \nL 108.223125 39.069928 \nL 127.753125 28.104484 \nL 147.283125 30.393098 \nL 166.813125 25.696464 \nL 186.343125 28.840821 \n\" clip-path=\"url(#p4f066f8870)\" style=\"fill: none; stroke-dasharray: 9.6,2.4,1.5,2.4; stroke-dashoffset: 0; stroke: #2ca02c; stroke-width: 1.5\"/>\n   </g>\n   <g id=\"line2d_108\">\n    <path d=\"M 34.954394 13.5 \nL 44.698573 79.252774 \nL 54.442752 95.778747 \nL 64.186931 103.805421 \nL 73.93111 109.529428 \nL 83.675289 114.820318 \nL 93.419468 117.660919 \nL 103.163647 121.455381 \nL 112.907826 125.428291 \nL 122.652006 125.408404 \nL 132.396185 128.617894 \nL 142.140364 130.695597 \nL 151.884543 132.842136 \nL 161.628722 132.849718 \nL 171.372901 135.44336 \nL 181.11708 135.191602 \nL 190.861259 138.03724 \nL 200.605438 137.512721 \n\" clip-path=\"url(#p4f066f8870)\" style=\"fill: none; stroke: #1f77b4; stroke-width: 1.5; stroke-linecap: square\"/>\n   </g>\n   <g id=\"line2d_109\">\n    <path d=\"M 49.633125 79.170442 \nL 69.163125 88.441459 \nL 88.693125 111.406968 \nL 108.223125 95.622084 \nL 127.753125 119.838043 \nL 147.283125 113.083646 \nL 166.813125 128.531818 \nL 186.343125 115.365658 \nL 205.873125 110.560832 \n\" clip-path=\"url(#p4f066f8870)\" style=\"fill: none; stroke-dasharray: 5.55,2.4; stroke-dashoffset: 0; stroke: #ff7f0e; stroke-width: 1.5\"/>\n   </g>\n   <g id=\"line2d_110\">\n    <path d=\"M 49.633125 40.562502 \nL 69.163125 38.711711 \nL 88.693125 31.368246 \nL 108.223125 39.069928 \nL 127.753125 28.104484 \nL 147.283125 30.393098 \nL 166.813125 25.696464 \nL 186.343125 28.840821 \n\" clip-path=\"url(#p4f066f8870)\" style=\"fill: none; stroke-dasharray: 9.6,2.4,1.5,2.4; stroke-dashoffset: 0; stroke: #2ca02c; stroke-width: 1.5\"/>\n   </g>\n   <g id=\"line2d_111\">\n    <path d=\"M 34.954394 13.5 \nL 44.698573 79.252774 \nL 54.442752 95.778747 \nL 64.186931 103.805421 \nL 73.93111 109.529428 \nL 83.675289 114.820318 \nL 93.419468 117.660919 \nL 103.163647 121.455381 \nL 112.907826 125.428291 \nL 122.652006 125.408404 \nL 132.396185 128.617894 \nL 142.140364 130.695597 \nL 151.884543 132.842136 \nL 161.628722 132.849718 \nL 171.372901 135.44336 \nL 181.11708 135.191602 \nL 190.861259 138.03724 \nL 200.605438 137.512721 \n\" clip-path=\"url(#p4f066f8870)\" style=\"fill: none; stroke: #1f77b4; stroke-width: 1.5; stroke-linecap: square\"/>\n   </g>\n   <g id=\"line2d_112\">\n    <path d=\"M 49.633125 79.170442 \nL 69.163125 88.441459 \nL 88.693125 111.406968 \nL 108.223125 95.622084 \nL 127.753125 119.838043 \nL 147.283125 113.083646 \nL 166.813125 128.531818 \nL 186.343125 115.365658 \nL 205.873125 110.560832 \n\" clip-path=\"url(#p4f066f8870)\" style=\"fill: none; stroke-dasharray: 5.55,2.4; stroke-dashoffset: 0; stroke: #ff7f0e; stroke-width: 1.5\"/>\n   </g>\n   <g id=\"line2d_113\">\n    <path d=\"M 49.633125 40.562502 \nL 69.163125 38.711711 \nL 88.693125 31.368246 \nL 108.223125 39.069928 \nL 127.753125 28.104484 \nL 147.283125 30.393098 \nL 166.813125 25.696464 \nL 186.343125 28.840821 \nL 205.873125 30.293593 \n\" clip-path=\"url(#p4f066f8870)\" style=\"fill: none; stroke-dasharray: 9.6,2.4,1.5,2.4; stroke-dashoffset: 0; stroke: #2ca02c; stroke-width: 1.5\"/>\n   </g>\n   <g id=\"line2d_114\">\n    <path d=\"M 34.954394 13.5 \nL 44.698573 79.252774 \nL 54.442752 95.778747 \nL 64.186931 103.805421 \nL 73.93111 109.529428 \nL 83.675289 114.820318 \nL 93.419468 117.660919 \nL 103.163647 121.455381 \nL 112.907826 125.428291 \nL 122.652006 125.408404 \nL 132.396185 128.617894 \nL 142.140364 130.695597 \nL 151.884543 132.842136 \nL 161.628722 132.849718 \nL 171.372901 135.44336 \nL 181.11708 135.191602 \nL 190.861259 138.03724 \nL 200.605438 137.512721 \nL 210.349618 138.999183 \n\" clip-path=\"url(#p4f066f8870)\" style=\"fill: none; stroke: #1f77b4; stroke-width: 1.5; stroke-linecap: square\"/>\n   </g>\n   <g id=\"line2d_115\">\n    <path d=\"M 49.633125 79.170442 \nL 69.163125 88.441459 \nL 88.693125 111.406968 \nL 108.223125 95.622084 \nL 127.753125 119.838043 \nL 147.283125 113.083646 \nL 166.813125 128.531818 \nL 186.343125 115.365658 \nL 205.873125 110.560832 \n\" clip-path=\"url(#p4f066f8870)\" style=\"fill: none; stroke-dasharray: 5.55,2.4; stroke-dashoffset: 0; stroke: #ff7f0e; stroke-width: 1.5\"/>\n   </g>\n   <g id=\"line2d_116\">\n    <path d=\"M 49.633125 40.562502 \nL 69.163125 38.711711 \nL 88.693125 31.368246 \nL 108.223125 39.069928 \nL 127.753125 28.104484 \nL 147.283125 30.393098 \nL 166.813125 25.696464 \nL 186.343125 28.840821 \nL 205.873125 30.293593 \n\" clip-path=\"url(#p4f066f8870)\" style=\"fill: none; stroke-dasharray: 9.6,2.4,1.5,2.4; stroke-dashoffset: 0; stroke: #2ca02c; stroke-width: 1.5\"/>\n   </g>\n   <g id=\"line2d_117\">\n    <path d=\"M 34.954394 13.5 \nL 44.698573 79.252774 \nL 54.442752 95.778747 \nL 64.186931 103.805421 \nL 73.93111 109.529428 \nL 83.675289 114.820318 \nL 93.419468 117.660919 \nL 103.163647 121.455381 \nL 112.907826 125.428291 \nL 122.652006 125.408404 \nL 132.396185 128.617894 \nL 142.140364 130.695597 \nL 151.884543 132.842136 \nL 161.628722 132.849718 \nL 171.372901 135.44336 \nL 181.11708 135.191602 \nL 190.861259 138.03724 \nL 200.605438 137.512721 \nL 210.349618 138.999183 \nL 220.093797 139.5 \n\" clip-path=\"url(#p4f066f8870)\" style=\"fill: none; stroke: #1f77b4; stroke-width: 1.5; stroke-linecap: square\"/>\n   </g>\n   <g id=\"line2d_118\">\n    <path d=\"M 49.633125 79.170442 \nL 69.163125 88.441459 \nL 88.693125 111.406968 \nL 108.223125 95.622084 \nL 127.753125 119.838043 \nL 147.283125 113.083646 \nL 166.813125 128.531818 \nL 186.343125 115.365658 \nL 205.873125 110.560832 \n\" clip-path=\"url(#p4f066f8870)\" style=\"fill: none; stroke-dasharray: 5.55,2.4; stroke-dashoffset: 0; stroke: #ff7f0e; stroke-width: 1.5\"/>\n   </g>\n   <g id=\"line2d_119\">\n    <path d=\"M 49.633125 40.562502 \nL 69.163125 38.711711 \nL 88.693125 31.368246 \nL 108.223125 39.069928 \nL 127.753125 28.104484 \nL 147.283125 30.393098 \nL 166.813125 25.696464 \nL 186.343125 28.840821 \nL 205.873125 30.293593 \n\" clip-path=\"url(#p4f066f8870)\" style=\"fill: none; stroke-dasharray: 9.6,2.4,1.5,2.4; stroke-dashoffset: 0; stroke: #2ca02c; stroke-width: 1.5\"/>\n   </g>\n   <g id=\"line2d_120\">\n    <path d=\"M 34.954394 13.5 \nL 44.698573 79.252774 \nL 54.442752 95.778747 \nL 64.186931 103.805421 \nL 73.93111 109.529428 \nL 83.675289 114.820318 \nL 93.419468 117.660919 \nL 103.163647 121.455381 \nL 112.907826 125.428291 \nL 122.652006 125.408404 \nL 132.396185 128.617894 \nL 142.140364 130.695597 \nL 151.884543 132.842136 \nL 161.628722 132.849718 \nL 171.372901 135.44336 \nL 181.11708 135.191602 \nL 190.861259 138.03724 \nL 200.605438 137.512721 \nL 210.349618 138.999183 \nL 220.093797 139.5 \n\" clip-path=\"url(#p4f066f8870)\" style=\"fill: none; stroke: #1f77b4; stroke-width: 1.5; stroke-linecap: square\"/>\n   </g>\n   <g id=\"line2d_121\">\n    <path d=\"M 49.633125 79.170442 \nL 69.163125 88.441459 \nL 88.693125 111.406968 \nL 108.223125 95.622084 \nL 127.753125 119.838043 \nL 147.283125 113.083646 \nL 166.813125 128.531818 \nL 186.343125 115.365658 \nL 205.873125 110.560832 \nL 225.403125 128.215932 \n\" clip-path=\"url(#p4f066f8870)\" style=\"fill: none; stroke-dasharray: 5.55,2.4; stroke-dashoffset: 0; stroke: #ff7f0e; stroke-width: 1.5\"/>\n   </g>\n   <g id=\"line2d_122\">\n    <path d=\"M 49.633125 40.562502 \nL 69.163125 38.711711 \nL 88.693125 31.368246 \nL 108.223125 39.069928 \nL 127.753125 28.104484 \nL 147.283125 30.393098 \nL 166.813125 25.696464 \nL 186.343125 28.840821 \nL 205.873125 30.293593 \n\" clip-path=\"url(#p4f066f8870)\" style=\"fill: none; stroke-dasharray: 9.6,2.4,1.5,2.4; stroke-dashoffset: 0; stroke: #2ca02c; stroke-width: 1.5\"/>\n   </g>\n   <g id=\"line2d_123\">\n    <path d=\"M 34.954394 13.5 \nL 44.698573 79.252774 \nL 54.442752 95.778747 \nL 64.186931 103.805421 \nL 73.93111 109.529428 \nL 83.675289 114.820318 \nL 93.419468 117.660919 \nL 103.163647 121.455381 \nL 112.907826 125.428291 \nL 122.652006 125.408404 \nL 132.396185 128.617894 \nL 142.140364 130.695597 \nL 151.884543 132.842136 \nL 161.628722 132.849718 \nL 171.372901 135.44336 \nL 181.11708 135.191602 \nL 190.861259 138.03724 \nL 200.605438 137.512721 \nL 210.349618 138.999183 \nL 220.093797 139.5 \n\" clip-path=\"url(#p4f066f8870)\" style=\"fill: none; stroke: #1f77b4; stroke-width: 1.5; stroke-linecap: square\"/>\n   </g>\n   <g id=\"line2d_124\">\n    <path d=\"M 49.633125 79.170442 \nL 69.163125 88.441459 \nL 88.693125 111.406968 \nL 108.223125 95.622084 \nL 127.753125 119.838043 \nL 147.283125 113.083646 \nL 166.813125 128.531818 \nL 186.343125 115.365658 \nL 205.873125 110.560832 \nL 225.403125 128.215932 \n\" clip-path=\"url(#p4f066f8870)\" style=\"fill: none; stroke-dasharray: 5.55,2.4; stroke-dashoffset: 0; stroke: #ff7f0e; stroke-width: 1.5\"/>\n   </g>\n   <g id=\"line2d_125\">\n    <path d=\"M 49.633125 40.562502 \nL 69.163125 38.711711 \nL 88.693125 31.368246 \nL 108.223125 39.069928 \nL 127.753125 28.104484 \nL 147.283125 30.393098 \nL 166.813125 25.696464 \nL 186.343125 28.840821 \nL 205.873125 30.293593 \nL 225.403125 24.980029 \n\" clip-path=\"url(#p4f066f8870)\" style=\"fill: none; stroke-dasharray: 9.6,2.4,1.5,2.4; stroke-dashoffset: 0; stroke: #2ca02c; stroke-width: 1.5\"/>\n   </g>\n   <g id=\"patch_3\">\n    <path d=\"M 30.103125 145.8 \nL 30.103125 7.2 \n\" style=\"fill: none; stroke: #000000; stroke-width: 0.8; stroke-linejoin: miter; stroke-linecap: square\"/>\n   </g>\n   <g id=\"patch_4\">\n    <path d=\"M 225.403125 145.8 \nL 225.403125 7.2 \n\" style=\"fill: none; stroke: #000000; stroke-width: 0.8; stroke-linejoin: miter; stroke-linecap: square\"/>\n   </g>\n   <g id=\"patch_5\">\n    <path d=\"M 30.103125 145.8 \nL 225.403125 145.8 \n\" style=\"fill: none; stroke: #000000; stroke-width: 0.8; stroke-linejoin: miter; stroke-linecap: square\"/>\n   </g>\n   <g id=\"patch_6\">\n    <path d=\"M 30.103125 7.2 \nL 225.403125 7.2 \n\" style=\"fill: none; stroke: #000000; stroke-width: 0.8; stroke-linejoin: miter; stroke-linecap: square\"/>\n   </g>\n   <g id=\"legend_1\">\n    <g id=\"patch_7\">\n     <path d=\"M 138.8125 100.434375 \nL 218.403125 100.434375 \nQ 220.403125 100.434375 220.403125 98.434375 \nL 220.403125 54.565625 \nQ 220.403125 52.565625 218.403125 52.565625 \nL 138.8125 52.565625 \nQ 136.8125 52.565625 136.8125 54.565625 \nL 136.8125 98.434375 \nQ 136.8125 100.434375 138.8125 100.434375 \nz\n\" style=\"fill: #ffffff; opacity: 0.8; stroke: #cccccc; stroke-linejoin: miter\"/>\n    </g>\n    <g id=\"line2d_126\">\n     <path d=\"M 140.8125 60.664063 \nL 150.8125 60.664063 \nL 160.8125 60.664063 \n\" style=\"fill: none; stroke: #1f77b4; stroke-width: 1.5; stroke-linecap: square\"/>\n    </g>\n    <g id=\"text_11\">\n     <!-- train_loss -->\n     <g transform=\"translate(168.8125 64.164063) scale(0.1 -0.1)\">\n      <defs>\n       <path id=\"DejaVuSans-74\" d=\"M 1172 4494 \nL 1172 3500 \nL 2356 3500 \nL 2356 3053 \nL 1172 3053 \nL 1172 1153 \nQ 1172 725 1289 603 \nQ 1406 481 1766 481 \nL 2356 481 \nL 2356 0 \nL 1766 0 \nQ 1100 0 847 248 \nQ 594 497 594 1153 \nL 594 3053 \nL 172 3053 \nL 172 3500 \nL 594 3500 \nL 594 4494 \nL 1172 4494 \nz\n\" transform=\"scale(0.015625)\"/>\n       <path id=\"DejaVuSans-72\" d=\"M 2631 2963 \nQ 2534 3019 2420 3045 \nQ 2306 3072 2169 3072 \nQ 1681 3072 1420 2755 \nQ 1159 2438 1159 1844 \nL 1159 0 \nL 581 0 \nL 581 3500 \nL 1159 3500 \nL 1159 2956 \nQ 1341 3275 1631 3429 \nQ 1922 3584 2338 3584 \nQ 2397 3584 2469 3576 \nQ 2541 3569 2628 3553 \nL 2631 2963 \nz\n\" transform=\"scale(0.015625)\"/>\n       <path id=\"DejaVuSans-61\" d=\"M 2194 1759 \nQ 1497 1759 1228 1600 \nQ 959 1441 959 1056 \nQ 959 750 1161 570 \nQ 1363 391 1709 391 \nQ 2188 391 2477 730 \nQ 2766 1069 2766 1631 \nL 2766 1759 \nL 2194 1759 \nz\nM 3341 1997 \nL 3341 0 \nL 2766 0 \nL 2766 531 \nQ 2569 213 2275 61 \nQ 1981 -91 1556 -91 \nQ 1019 -91 701 211 \nQ 384 513 384 1019 \nQ 384 1609 779 1909 \nQ 1175 2209 1959 2209 \nL 2766 2209 \nL 2766 2266 \nQ 2766 2663 2505 2880 \nQ 2244 3097 1772 3097 \nQ 1472 3097 1187 3025 \nQ 903 2953 641 2809 \nL 641 3341 \nQ 956 3463 1253 3523 \nQ 1550 3584 1831 3584 \nQ 2591 3584 2966 3190 \nQ 3341 2797 3341 1997 \nz\n\" transform=\"scale(0.015625)\"/>\n       <path id=\"DejaVuSans-69\" d=\"M 603 3500 \nL 1178 3500 \nL 1178 0 \nL 603 0 \nL 603 3500 \nz\nM 603 4863 \nL 1178 4863 \nL 1178 4134 \nL 603 4134 \nL 603 4863 \nz\n\" transform=\"scale(0.015625)\"/>\n       <path id=\"DejaVuSans-6e\" d=\"M 3513 2113 \nL 3513 0 \nL 2938 0 \nL 2938 2094 \nQ 2938 2591 2744 2837 \nQ 2550 3084 2163 3084 \nQ 1697 3084 1428 2787 \nQ 1159 2491 1159 1978 \nL 1159 0 \nL 581 0 \nL 581 3500 \nL 1159 3500 \nL 1159 2956 \nQ 1366 3272 1645 3428 \nQ 1925 3584 2291 3584 \nQ 2894 3584 3203 3211 \nQ 3513 2838 3513 2113 \nz\n\" transform=\"scale(0.015625)\"/>\n       <path id=\"DejaVuSans-5f\" d=\"M 3263 -1063 \nL 3263 -1509 \nL -63 -1509 \nL -63 -1063 \nL 3263 -1063 \nz\n\" transform=\"scale(0.015625)\"/>\n       <path id=\"DejaVuSans-6c\" d=\"M 603 4863 \nL 1178 4863 \nL 1178 0 \nL 603 0 \nL 603 4863 \nz\n\" transform=\"scale(0.015625)\"/>\n       <path id=\"DejaVuSans-73\" d=\"M 2834 3397 \nL 2834 2853 \nQ 2591 2978 2328 3040 \nQ 2066 3103 1784 3103 \nQ 1356 3103 1142 2972 \nQ 928 2841 928 2578 \nQ 928 2378 1081 2264 \nQ 1234 2150 1697 2047 \nL 1894 2003 \nQ 2506 1872 2764 1633 \nQ 3022 1394 3022 966 \nQ 3022 478 2636 193 \nQ 2250 -91 1575 -91 \nQ 1294 -91 989 -36 \nQ 684 19 347 128 \nL 347 722 \nQ 666 556 975 473 \nQ 1284 391 1588 391 \nQ 1994 391 2212 530 \nQ 2431 669 2431 922 \nQ 2431 1156 2273 1281 \nQ 2116 1406 1581 1522 \nL 1381 1569 \nQ 847 1681 609 1914 \nQ 372 2147 372 2553 \nQ 372 3047 722 3315 \nQ 1072 3584 1716 3584 \nQ 2034 3584 2315 3537 \nQ 2597 3491 2834 3397 \nz\n\" transform=\"scale(0.015625)\"/>\n      </defs>\n      <use xlink:href=\"#DejaVuSans-74\"/>\n      <use xlink:href=\"#DejaVuSans-72\" x=\"39.208984\"/>\n      <use xlink:href=\"#DejaVuSans-61\" x=\"80.322266\"/>\n      <use xlink:href=\"#DejaVuSans-69\" x=\"141.601562\"/>\n      <use xlink:href=\"#DejaVuSans-6e\" x=\"169.384766\"/>\n      <use xlink:href=\"#DejaVuSans-5f\" x=\"232.763672\"/>\n      <use xlink:href=\"#DejaVuSans-6c\" x=\"282.763672\"/>\n      <use xlink:href=\"#DejaVuSans-6f\" x=\"310.546875\"/>\n      <use xlink:href=\"#DejaVuSans-73\" x=\"371.728516\"/>\n      <use xlink:href=\"#DejaVuSans-73\" x=\"423.828125\"/>\n     </g>\n    </g>\n    <g id=\"line2d_127\">\n     <path d=\"M 140.8125 75.620313 \nL 150.8125 75.620313 \nL 160.8125 75.620313 \n\" style=\"fill: none; stroke-dasharray: 5.55,2.4; stroke-dashoffset: 0; stroke: #ff7f0e; stroke-width: 1.5\"/>\n    </g>\n    <g id=\"text_12\">\n     <!-- val_loss -->\n     <g transform=\"translate(168.8125 79.120313) scale(0.1 -0.1)\">\n      <defs>\n       <path id=\"DejaVuSans-76\" d=\"M 191 3500 \nL 800 3500 \nL 1894 563 \nL 2988 3500 \nL 3597 3500 \nL 2284 0 \nL 1503 0 \nL 191 3500 \nz\n\" transform=\"scale(0.015625)\"/>\n      </defs>\n      <use xlink:href=\"#DejaVuSans-76\"/>\n      <use xlink:href=\"#DejaVuSans-61\" x=\"59.179688\"/>\n      <use xlink:href=\"#DejaVuSans-6c\" x=\"120.458984\"/>\n      <use xlink:href=\"#DejaVuSans-5f\" x=\"148.242188\"/>\n      <use xlink:href=\"#DejaVuSans-6c\" x=\"198.242188\"/>\n      <use xlink:href=\"#DejaVuSans-6f\" x=\"226.025391\"/>\n      <use xlink:href=\"#DejaVuSans-73\" x=\"287.207031\"/>\n      <use xlink:href=\"#DejaVuSans-73\" x=\"339.306641\"/>\n     </g>\n    </g>\n    <g id=\"line2d_128\">\n     <path d=\"M 140.8125 90.576563 \nL 150.8125 90.576563 \nL 160.8125 90.576563 \n\" style=\"fill: none; stroke-dasharray: 9.6,2.4,1.5,2.4; stroke-dashoffset: 0; stroke: #2ca02c; stroke-width: 1.5\"/>\n    </g>\n    <g id=\"text_13\">\n     <!-- val_acc -->\n     <g transform=\"translate(168.8125 94.076563) scale(0.1 -0.1)\">\n      <use xlink:href=\"#DejaVuSans-76\"/>\n      <use xlink:href=\"#DejaVuSans-61\" x=\"59.179688\"/>\n      <use xlink:href=\"#DejaVuSans-6c\" x=\"120.458984\"/>\n      <use xlink:href=\"#DejaVuSans-5f\" x=\"148.242188\"/>\n      <use xlink:href=\"#DejaVuSans-61\" x=\"198.242188\"/>\n      <use xlink:href=\"#DejaVuSans-63\" x=\"259.521484\"/>\n      <use xlink:href=\"#DejaVuSans-63\" x=\"314.501953\"/>\n     </g>\n    </g>\n   </g>\n  </g>\n </g>\n <defs>\n  <clipPath id=\"p4f066f8870\">\n   <rect x=\"30.103125\" y=\"7.2\" width=\"195.3\" height=\"138.6\"/>\n  </clipPath>\n </defs>\n</svg>\n"
          },
          "metadata": {}
        }
      ]
    },
    {
      "cell_type": "markdown",
      "source": [
        "## EXERCISE"
      ],
      "metadata": {
        "id": "kMX0vt9e_BCp"
      }
    },
    {
      "cell_type": "markdown",
      "source": [
        "### 1. Should we remove the bias parameter from the fully connected layer or the convolutional layer before the batch normalization? Why?\n",
        "\n",
        "Karena batch normalization sudah melakukan normalisasi dan penyesuaian menggunakan dua parameter: **mean** dan **variance**. Dengan demikian, keberadaan bias menjadi **tidak diperlukan** karena fungsi yang dilakukannya sudah tercakup dalam proses normalisasi, sehingga menghapus bias dapat mengurangi jumlah parameter dan mempercepat komputasi tanpa memengaruhi performa model."
      ],
      "metadata": {
        "id": "XSjgRiEz_DHb"
      }
    },
    {
      "cell_type": "markdown",
      "source": [
        "### 2. Compare the learning rates for LeNet with and without batch normalization."
      ],
      "metadata": {
        "id": "aQP5XhOX_FG-"
      }
    },
    {
      "cell_type": "code",
      "source": [
        "#Import the necessary modules. Make sure you have the correct version of d2l installed.\n",
        "import sys\n",
        "import torch.nn as nn\n",
        "import torch\n",
        "import warnings\n",
        "sys.path.append('/home/jovyan/work/d2l_solutions/notebooks/exercises/d2l_utils/')\n",
        "import d2l\n",
        "from torchsummary import summary\n",
        "warnings.filterwarnings(\"ignore\")\n",
        "\n",
        "class LeNet(d2l.Classifier):  #save\n",
        "    \"\"\"The LeNet-5 model.\"\"\"\n",
        "    def __init__(self, lr=0.1, num_classes=10):\n",
        "        super().__init__()\n",
        "        self.save_hyperparameters()\n",
        "        self.net = nn.Sequential(\n",
        "            nn.LazyConv2d(6, kernel_size=5, padding=2), nn.Sigmoid(),\n",
        "            nn.AvgPool2d(kernel_size=2, stride=2),\n",
        "            nn.LazyConv2d(16, kernel_size=5), nn.Sigmoid(),\n",
        "            nn.AvgPool2d(kernel_size=2, stride=2),\n",
        "            nn.Flatten(),\n",
        "            nn.LazyLinear(120), nn.Sigmoid(),\n",
        "            nn.LazyLinear(84), nn.Sigmoid(),\n",
        "            nn.LazyLinear(num_classes))\n",
        "\n",
        "class BNLeNet(d2l.Classifier):\n",
        "    def __init__(self, lr=0.1, num_classes=10):\n",
        "        super().__init__()\n",
        "        self.save_hyperparameters()\n",
        "        self.net = nn.Sequential(\n",
        "            nn.LazyConv2d(6, kernel_size=5), nn.LazyBatchNorm2d(),\n",
        "            nn.Sigmoid(), nn.AvgPool2d(kernel_size=2, stride=2),\n",
        "            nn.LazyConv2d(16, kernel_size=5), nn.LazyBatchNorm2d(),\n",
        "            nn.Sigmoid(), nn.AvgPool2d(kernel_size=2, stride=2),\n",
        "            nn.Flatten(), nn.LazyLinear(120), nn.LazyBatchNorm1d(),\n",
        "            nn.Sigmoid(), nn.LazyLinear(84), nn.LazyBatchNorm1d(),\n",
        "            nn.Sigmoid(), nn.LazyLinear(num_classes))\n",
        "\n",
        "def stat_model_acc(model, data, plot_flag):\n",
        "    model.apply_init([next(iter(data.get_dataloader(True)))[0]], d2l.init_cnn)\n",
        "    trainer = d2l.Trainer(max_epochs=10, num_gpus=1,plot_flag=plot_flag)\n",
        "    trainer.fit(model, data)\n",
        "    X,y = next(iter(data.get_dataloader(False)))\n",
        "    X = X.to('cuda')\n",
        "    y = y.to('cuda')\n",
        "    y_hat = model(X)\n",
        "    return model.accuracy(y_hat,y).item()"
      ],
      "metadata": {
        "id": "BfVo3L98VgUl"
      },
      "execution_count": null,
      "outputs": []
    },
    {
      "cell_type": "markdown",
      "source": [
        "a. Plot the increase in validation accuracy."
      ],
      "metadata": {
        "id": "bSuDFoeRgdMR"
      }
    },
    {
      "cell_type": "code",
      "source": [
        "data = d2l.FashionMNIST(batch_size=128)\n",
        "lr_list = [0.001,0.01,0.03,0.1,0.3]\n",
        "le_accs= []\n",
        "ble_accs = []\n",
        "for lr in lr_list[:1]:\n",
        "    le = LeNet(lr=lr)\n",
        "    ble = BNLeNet(lr=lr)\n",
        "    le_acc.append(stat_model_acc(le, data, False))\n",
        "    ble_acc.append(stat_model_acc(ble, data, False))"
      ],
      "metadata": {
        "id": "_ohwwEnsVjLY"
      },
      "execution_count": null,
      "outputs": []
    },
    {
      "cell_type": "markdown",
      "source": [
        "\n",
        "b. How large can you make the learning rate before the optimization fails in both cases?"
      ],
      "metadata": {
        "id": "cFVMJwWggfGZ"
      }
    },
    {
      "cell_type": "markdown",
      "source": [
        "Langkah-langkah untuk menentukan seberapa besar learning rate yang dapat digunakan sebelum optimasi gagal\n",
        "\n",
        "1. Pelatihan Tanpa Batch Normalization\n",
        "   - Mulailah dengan learning rate kecil dan secara bertahap meningkatkannya (misalnya, menggunakan scheduler learning rate).\n",
        "   - Pantau kehilangan (loss) selama pelatihan. Jika kehilangan mulai menyimpang (meningkat secara signifikan), catat learning rate tepat sebelum penyimpangan tersebut terjadi.\n",
        "\n",
        "2. Pelatihan Dengan Batch Normalization\n",
        "   - Ulangi proses yang sama untuk model yang menggunakan batch normalization.\n",
        "\n",
        "**Hasil Hipotetis**\n",
        "- Learning Rate Maksimum Tanpa Batch Normalization: 0.01 (gagal pada 0.02)\n",
        "- Learning Rate Maksimum Dengan Batch Normalization: 0.1 (gagal pada 0.2)\n",
        "\n",
        "Ini menunjukkan bahwa penggunaan batch normalization memungkinkan penggunaan learning rate yang lebih besar sebelum optimasi gagal, yang mengindikasikan peningkatan stabilitas pelatihan."
      ],
      "metadata": {
        "id": "7g0N8Z2zg1gu"
      }
    },
    {
      "cell_type": "markdown",
      "source": [
        "### 3. Do we need batch normalization in every layer? Experiment with it.\n",
        "\n",
        "Penggunaan batch normalization di setiap lapisan bukan suatu keharusan, tetapi pilihan desain yang bergantung pada masalah spesifik, arsitektur, dan dinamika pelatihan.\n",
        "\n",
        "**Kelebihan**\n",
        "- Menormalkan aktivasi dapat mempercepat konvergensi dan stabilisasi propagasi gradien.\n",
        "- Mencegah overfitting dengan memberikan efek regulasi yang konsisten di seluruh jaringan.\n",
        "- Membantu mengatasi masalah vanishing/exploding gradient pada jaringan yang sangat dalam.\n",
        "- Memungkinkan penggunaan learning rate yang lebih besar dan teknik optimasi yang lebih agresif.\n",
        "\n",
        "**Kekurangan**\n",
        "- Terlalu sering menggunakan batch normalization dapat menyebabkan underfitting, terutama pada model kecil.\n",
        "- Menambah overhead komputasi, yang bisa memperlambat pelatihan, terutama pada perangkat keras terbatas.\n",
        "- Normalisasi berlebihan bisa menghilangkan informasi berguna dari aktivasi.\n",
        "- Statistik batch dapat tidak stabil, yang berpotensi mengurangi performa.\n",
        "\n"
      ],
      "metadata": {
        "id": "iMgRg6sC_Kzc"
      }
    },
    {
      "cell_type": "markdown",
      "source": [
        "### 4. Implement a “lite” version of batch normalization that only removes the mean, or alternatively one that only removes the variance. How does it behave?"
      ],
      "metadata": {
        "id": "2zAOBKd0_ZYc"
      }
    },
    {
      "cell_type": "code",
      "source": [
        "def lite_batch_norm(X, gamma, beta, moving_mean, moving_var, eps, momentum, mean_flag):\n",
        "    # Use is_grad_enabled to determine whether we are in training mode\n",
        "    if not torch.is_grad_enabled():\n",
        "        # In prediction mode, use mean and variance obtained by moving average\n",
        "        if mean_flag:\n",
        "            X_hat = X - moving_mean\n",
        "        else:\n",
        "            X_hat = X / torch.sqrt(moving_var + eps)\n",
        "    else:\n",
        "        assert len(X.shape) in (2, 4)\n",
        "        if len(X.shape) == 2:\n",
        "            # When using a fully connected layer, calculate the mean and\n",
        "            # variance on the feature dimension\n",
        "            mean = X.mean(dim=0)\n",
        "            var = ((X - mean) ** 2).mean(dim=0)\n",
        "        else:\n",
        "            # When using a two-dimensional convolutional layer, calculate the\n",
        "            # mean and variance on the channel dimension (axis=1). Here we\n",
        "            # need to maintain the shape of X, so that the broadcasting\n",
        "            # operation can be carried out later\n",
        "            mean = X.mean(dim=(0, 2, 3), keepdim=True)\n",
        "            var = ((X - mean) ** 2).mean(dim=(0, 2, 3), keepdim=True)\n",
        "        # In training mode, the current mean and variance are used\n",
        "        if mean_flag:\n",
        "            X_hat = X - mean\n",
        "        else:\n",
        "            X_hat = X / torch.sqrt(moving_var + eps)\n",
        "        # Update the mean and variance using moving average\n",
        "        moving_mean = (1.0 - momentum) * moving_mean + momentum * mean\n",
        "        moving_var = (1.0 - momentum) * moving_var + momentum * var\n",
        "    Y = gamma * X_hat + beta  # Scale and shift\n",
        "    return Y, moving_mean.data, moving_var.data\n",
        "\n",
        "class LiteBatchNorm(nn.Module):\n",
        "    # num_features: the number of outputs for a fully connected layer or the\n",
        "    # number of output channels for a convolutional layer. num_dims: 2 for a\n",
        "    # fully connected layer and 4 for a convolutional layer\n",
        "    def __init__(self, num_features, num_dims, mean_flag=True):\n",
        "        super().__init__()\n",
        "        if num_dims == 2:\n",
        "            shape = (1, num_features)\n",
        "        else:\n",
        "            shape = (1, num_features, 1, 1)\n",
        "        # The scale parameter and the shift parameter (model parameters) are\n",
        "        # initialized to 1 and 0, respectively\n",
        "        self.gamma = nn.Parameter(torch.ones(shape))\n",
        "        self.beta = nn.Parameter(torch.zeros(shape))\n",
        "        # The variables that are not model parameters are initialized to 0 and\n",
        "        # 1\n",
        "        self.moving_mean = torch.zeros(shape)\n",
        "        self.moving_var = torch.ones(shape)\n",
        "        self.mean_flag = mean_flag\n",
        "\n",
        "    def forward(self, X):\n",
        "        # If X is not on the main memory, copy moving_mean and moving_var to\n",
        "        # the device where X is located\n",
        "        if self.moving_mean.device != X.device:\n",
        "            self.moving_mean = self.moving_mean.to(X.device)\n",
        "            self.moving_var = self.moving_var.to(X.device)\n",
        "        # Save the updated moving_mean and moving_var\n",
        "        Y, self.moving_mean, self.moving_var = lite_batch_norm(\n",
        "            X, self.gamma, self.beta, self.moving_mean,\n",
        "            self.moving_var, eps=1e-5, momentum=0.1, mean_flag=self.mean_flag)\n",
        "        return Y\n",
        "\n",
        "\n",
        "class LiteBNLeNetScratch(d2l.Classifier):\n",
        "    def __init__(self, lr=0.1, num_classes=10, mean_flag=True):\n",
        "        super().__init__()\n",
        "        self.save_hyperparameters()\n",
        "        self.net = nn.Sequential(\n",
        "            nn.LazyConv2d(6, kernel_size=5), LiteBatchNorm(6, num_dims=4, mean_flag=mean_flag),\n",
        "            nn.Sigmoid(), nn.AvgPool2d(kernel_size=2, stride=2),\n",
        "            nn.LazyConv2d(16, kernel_size=5), LiteBatchNorm(16, num_dims=4, mean_flag=mean_flag),\n",
        "            nn.Sigmoid(), nn.AvgPool2d(kernel_size=2, stride=2),\n",
        "            nn.Flatten(), nn.LazyLinear(120),\n",
        "            LiteBatchNorm(120, num_dims=2, mean_flag=mean_flag), nn.Sigmoid(), nn.LazyLinear(84),\n",
        "            LiteBatchNorm(84, num_dims=2, mean_flag=mean_flag), nn.Sigmoid(),\n",
        "            nn.LazyLinear(num_classes))"
      ],
      "metadata": {
        "id": "jnKHkljIVm1G"
      },
      "execution_count": null,
      "outputs": []
    },
    {
      "cell_type": "code",
      "source": [
        "model = LiteBNLeNetScratch(lr=0.1)\n",
        "model.apply_init([next(iter(data.get_dataloader(True)))[0]], d2l.init_cnn)\n",
        "trainer = d2l.Trainer(max_epochs=10, num_gpus=1)\n",
        "trainer.fit(model, data)\n",
        "X,y = next(iter(data.get_dataloader(False)))\n",
        "X = X.to('cuda')\n",
        "y = y.to('cuda')\n",
        "y_hat = model(X)\n",
        "model.accuracy(y_hat,y).item()"
      ],
      "metadata": {
        "id": "LrzsCigbVo4H"
      },
      "execution_count": null,
      "outputs": []
    },
    {
      "cell_type": "code",
      "source": [
        "model = LiteBNLeNetScratch(lr=0.1,mean_flag=False)\n",
        "model.apply_init([next(iter(data.get_dataloader(True)))[0]], d2l.init_cnn)\n",
        "trainer = d2l.Trainer(max_epochs=10, num_gpus=1)\n",
        "trainer.fit(model, data)\n",
        "X,y = next(iter(data.get_dataloader(False)))\n",
        "X = X.to('cuda')\n",
        "y = y.to('cuda')\n",
        "y_hat = model(X)\n",
        "model.accuracy(y_hat,y).item()"
      ],
      "metadata": {
        "id": "jgnAxjPRVtbl"
      },
      "execution_count": null,
      "outputs": []
    },
    {
      "cell_type": "markdown",
      "source": [
        "### 5. Fix the parameters beta and gamma. Observe and analyze the results."
      ],
      "metadata": {
        "id": "tAWv6OMs_ciT"
      }
    },
    {
      "cell_type": "code",
      "source": [
        "class FixedBatchNorm(nn.Module):\n",
        "    # num_features: the number of outputs for a fully connected layer or the\n",
        "    # number of output channels for a convolutional layer. num_dims: 2 for a\n",
        "    # fully connected layer and 4 for a convolutional layer\n",
        "    def __init__(self, num_features, num_dims, beta=None, gamma=None):\n",
        "        super().__init__()\n",
        "        if num_dims == 2:\n",
        "            shape = (1, num_features)\n",
        "        else:\n",
        "            shape = (1, num_features, 1, 1)\n",
        "        # The scale parameter and the shift parameter (model parameters) are\n",
        "        # initialized to 1 and 0, respectively\n",
        "        self.gamma = torch.ones(shape) if gamma is None else gamma\n",
        "        self.beta = torch.zeros(shape) if beta is None else beta\n",
        "        # The variables that are not model parameters are initialized to 0 and\n",
        "        # 1\n",
        "        self.moving_mean = torch.zeros(shape)\n",
        "        self.moving_var = torch.ones(shape)\n",
        "\n",
        "    def forward(self, X):\n",
        "        # If X is not on the main memory, copy moving_mean and moving_var to\n",
        "        # the device where X is located\n",
        "        # print(X.device)\n",
        "        # X = X.to('cuda')\n",
        "        if self.moving_mean.device != X.device:\n",
        "            self.moving_mean = self.moving_mean.to(X.device)\n",
        "            self.moving_var = self.moving_var.to(X.device)\n",
        "        # Save the updated moving_mean and moving_var\n",
        "        Y, self.moving_mean, self.moving_var = batch_norm(\n",
        "            X, self.gamma, self.beta, self.moving_mean,\n",
        "            self.moving_var, eps=1e-5, momentum=0.1)\n",
        "        return Y\n",
        "\n",
        "\n",
        "class FixedBNLeNetScratch(d2l.Classifier):\n",
        "    def __init__(self, lr=0.1, num_classes=10, beta=None, gamma=None):\n",
        "        super().__init__()\n",
        "        self.save_hyperparameters()\n",
        "        self.net = nn.Sequential(\n",
        "            nn.LazyConv2d(6, kernel_size=5), FixedBatchNorm(6, num_dims=4, beta=beta, gamma=gamma),\n",
        "            nn.Sigmoid(), nn.AvgPool2d(kernel_size=2, stride=2),\n",
        "            nn.LazyConv2d(16, kernel_size=5), FixedBatchNorm(16, num_dims=4, beta=beta, gamma=gamma),\n",
        "            nn.Sigmoid(), nn.AvgPool2d(kernel_size=2, stride=2),\n",
        "            nn.Flatten(), nn.LazyLinear(120),\n",
        "            FixedBatchNorm(120, num_dims=2, beta=beta, gamma=gamma), nn.Sigmoid(), nn.LazyLinear(84),\n",
        "            FixedBatchNorm(84, num_dims=2, beta=beta, gamma=gamma), nn.Sigmoid(),\n",
        "            nn.LazyLinear(num_classes))"
      ],
      "metadata": {
        "id": "PNmpFOMOVwCk"
      },
      "execution_count": null,
      "outputs": []
    },
    {
      "cell_type": "code",
      "source": [
        "model = FixedBNLeNetScratch(lr=0.1)\n",
        "# stat_model_acc(model, data)\n",
        "model = model.to('cuda')\n",
        "model.apply_init([next(iter(data.get_dataloader(True)))[0].to('cuda')], d2l.init_cnn)\n",
        "trainer = d2l.Trainer(max_epochs=10, num_gpus=1)\n",
        "trainer.fit(model, data)\n",
        "X,y = next(iter(data.get_dataloader(False)))\n",
        "X = X.to('cuda')\n",
        "y = y.to('cuda')\n",
        "y_hat = model(X)\n",
        "model.accuracy(y_hat,y).item()"
      ],
      "metadata": {
        "id": "1KtxWIZWVyMG"
      },
      "execution_count": null,
      "outputs": []
    },
    {
      "cell_type": "markdown",
      "source": [
        "### 6. Can you replace dropout by batch normalization? How does the behavior change?\n",
        "\n",
        "Dropout dan batch normalization adalah dua teknik berbeda yang digunakan untuk regulasi dalam jaringan saraf. Meskipun keduanya bertujuan untuk mencegah overfitting, cara kerjanya berbeda.\n",
        "\n",
        "- **Dropout** melibatkan penghilangan unit (neuron) secara acak selama pelatihan, yang membantu mencegah model terlalu terlatih pada data pelatihan.\n",
        "- **Batch normalization** menormalkan aktivasi di setiap lapisan, yang membantu dalam stabilisasi pelatihan dan mempercepat konvergensi.\n"
      ],
      "metadata": {
        "id": "OS6Utm7A_gQH"
      }
    },
    {
      "cell_type": "markdown",
      "source": [
        "### 7. Research ideas: think of other normalization transforms that you can apply:"
      ],
      "metadata": {
        "id": "3n1tZSex_jsn"
      }
    },
    {
      "cell_type": "markdown",
      "source": [
        "a. Can you apply the probability integral transform?\n",
        "\n",
        "Probability Integral Transform (PIT) adalah metode yang mengubah distribusi data menjadi distribusi uniform melalui fungsi distribusi kumulatif (CDF). Menerapkan PIT dalam konteks normalisasi di jaringan saraf dapat memberikan beberapa keuntungan:\n",
        "- Dengan mengubah data menjadi distribusi uniform, model dapat lebih mudah mempelajari pola, yang dapat meningkatkan kecepatan konvergensi.\n",
        "- Menggunakan PIT dapat membantu menormalkan data secara lebih efektif, sehingga mengurangi risiko overfitting pada data pelatihan.\n",
        "- PIT dapat membantu dalam stabilisasi pelatihan, terutama dalam situasi di mana data memiliki distribusi yang tidak normal.\n",
        "- Karena PIT dapat diterapkan pada data input sebelum memasuki jaringan, dapat dengan mudah diintegrasikan dengan arsitektur yang ada tanpa memerlukan perubahan besar."
      ],
      "metadata": {
        "id": "zNwxAsJljdXt"
      }
    },
    {
      "cell_type": "markdown",
      "source": [
        "b. Can you use a full-rank covariance estimate? Why should you probably not do that?\n",
        "\n",
        "Estimasi kovarians penuh-rank dapat digunakan dalam konteks tertentu, terutama dalam situasi di mana jumlah sampel jauh lebih besar daripada jumlah fitur. Namun, dalam banyak situasi, disarankan untuk tidak menggunakan estimasi kovarians penuh-rank. Alasannya adalah\n",
        "- Ketika jumlah fitur mendekati atau melebihi jumlah sampel, matriks kovarians penuh-rank dapat menyesuaikan diri dengan noise dalam data daripada distribusi yang mendasarinya. Hal ini dapat menyebabkan overfitting, di mana model berkinerja baik pada data pelatihan tetapi buruk pada data yang tidak terlihat.\n",
        "- Matriks kovarians penuh-rank dapat menjadi mahal untuk dihitung dan dibalik, terutama saat dimensi meningkat. Ini dapat mengakibatkan waktu pelatihan yang lebih lambat dan penggunaan memori yang lebih tinggi.\n",
        "- Dalam ruang berdimensi tinggi, matriks kovarians dapat menjadi tidak terdefinisi dengan baik (ill-conditioned), sehingga sulit untuk secara akurat menghitung inversnya. Ini dapat menyebabkan ketidakstabilan numerik dalam perhitungan selanjutnya.\n",
        "- Dalam banyak aplikasi praktis, teknik seperti Analisis Komponen Utama (PCA) atau Regulasi (misalnya, Ridge Regression) lebih disukai, yang biasanya bekerja dengan estimasi kovarians low-rank atau yang diregulasi. Teknik-teknik ini dapat membantu menangkap fitur yang paling relevan sambil mengurangi masalah yang terkait dengan estimasi penuh-rank."
      ],
      "metadata": {
        "id": "DyeeVYVfjfee"
      }
    },
    {
      "cell_type": "markdown",
      "source": [
        "c. Can you use other compact matrix variants (block-diagonal, low-displacement rank, Monarch, etc.)?\n",
        "\n",
        "Kita bisa menggunakan compact matrix variant lain,\n",
        "- **Matriks blok-diagonal**\n",
        "\n",
        "  terdiri dari beberapa submatriks (blok) di sepanjang diagonal, sementara elemen di luar blok-blok tersebut adalah nol. Ini menciptakan representasi yang lebih ringkas dan dapat mengurangi kompleksitas komputasi.\n",
        "\n",
        "- **Matriks low-displacement rank**\n",
        "\n",
        "  matriks yang dapat diaproksimasi oleh matriks berukuran lebih kecil dengan melakukan perubahan tertentu. Metode ini mengurangi dimensi dengan tetap mempertahankan informasi penting.\n",
        "\n",
        "- **Monarch**\n",
        "\n",
        "  varian yang dirancang untuk memanfaatkan struktur tertentu dalam matriks, seperti sparsity atau redundansi. Ini berfokus pada kompresi dan efisiensi penyimpanan"
      ],
      "metadata": {
        "id": "RFBBDAbmjhUY"
      }
    },
    {
      "cell_type": "markdown",
      "source": [
        "d. Does a sparsification compression act as a regularizer?\n",
        "\n",
        "Kompresi sparsifikasi dapat berfungsi sebagai bentuk regularisasi dalam model pembelajaran mesin. Sparsifikasi adalah proses mengubah beberapa bobot atau parameter dalam model menjadi nol, menciptakan representasi yang lebih jarang.\n",
        "\n",
        "**Cara kompresi sparsifikasi bekerja sebagai regularisasi**\n",
        "\n",
        "1. Mengurangi Kompleksitas Model\n",
        "\n",
        "2. Mencegah Overfitting\n",
        "\n",
        "3. Meningkatkan Generalisasi\n",
        "\n",
        "4. Interpretabilitas\n",
        "\n",
        "5. Efisiensi"
      ],
      "metadata": {
        "id": "hZ1DPAxqjjOi"
      }
    },
    {
      "cell_type": "markdown",
      "source": [
        "e. Are there other projections (e.g., convex cone, symmetry group-specific transforms) that you can use?\n",
        "\n",
        "Proyeksi lain yang dapat digunakan\n",
        "\n",
        "1. **Proyeksi Konus Cembung**\n",
        "\n",
        "  Proyeksi ini digunakan untuk menemukan titik terdekat dalam konus cembung dari vektor tertentu, sering diterapkan dalam masalah optimisasi yang memerlukan pemenuhan batasan tertentu.\n",
        "\n",
        "2. **Transformasi Spesifik Grup Simetri**\n",
        "\n",
        "  Dalam aplikasi tertentu, data atau objek perlu ditransformasikan untuk menghormati simetri tertentu, seperti transformasi Fourier dalam kristalografi untuk mengungkap simetri kisi kristal.\n",
        "\n",
        "3. **Proyeksi Ortogonal**\n",
        "  \n",
        "  Menemukan titik terdekat dalam subruang dari vektor yang diberikan, umum digunakan dalam aljabar linier dan optimisasi.\n",
        "\n",
        "4. **Kuantisasi**\n",
        "\n",
        "  Operasi yang memetakan nilai kontinu ke set nilai diskrit, sering digunakan dalam pemrosesan sinyal dan kompresi data untuk mengurangi jumlah nilai sambil meminimalkan kehilangan informasi.\n",
        "\n",
        "5. **Penyisipan Manifold**\n",
        "\n",
        "  Teknik yang bertujuan untuk menyisipkan data berdimensi tinggi ke ruang berdimensi lebih rendah sambil mempertahankan properti tertentu, seperti Isomap atau t-SNE.\n",
        "\n",
        "6. **Masalah Prokrustes Ortogonal**\n",
        "    Mencari transformasi ortogonal yang terbaik untuk menyelaraskan dua set titik, sering digunakan dalam grafik komputer dan analisis bentuk."
      ],
      "metadata": {
        "id": "O5FPzjctjk4t"
      }
    },
    {
      "cell_type": "markdown",
      "source": [
        "# 8.6 Residual Networks (ResNet) and ResNeXt"
      ],
      "metadata": {
        "id": "AYQ1MBsF_rBe"
      }
    },
    {
      "cell_type": "code",
      "source": [
        "import torch\n",
        "from torch import nn\n",
        "from torch.nn import functional as F\n",
        "from d2l import torch as d2l"
      ],
      "metadata": {
        "id": "pbRqnhYk_xtt"
      },
      "execution_count": 33,
      "outputs": []
    },
    {
      "cell_type": "code",
      "source": [
        "class Residual(nn.Module):  #save\n",
        "    \"\"\"The Residual block of ResNet models.\"\"\"\n",
        "    def __init__(self, num_channels, use_1x1conv=False, strides=1):\n",
        "        super().__init__()\n",
        "        self.conv1 = nn.LazyConv2d(num_channels, kernel_size=3, padding=1,\n",
        "                                   stride=strides)\n",
        "        self.conv2 = nn.LazyConv2d(num_channels, kernel_size=3, padding=1)\n",
        "        if use_1x1conv:\n",
        "            self.conv3 = nn.LazyConv2d(num_channels, kernel_size=1,\n",
        "                                       stride=strides)\n",
        "        else:\n",
        "            self.conv3 = None\n",
        "        self.bn1 = nn.LazyBatchNorm2d()\n",
        "        self.bn2 = nn.LazyBatchNorm2d()\n",
        "\n",
        "    def forward(self, X):\n",
        "        Y = F.relu(self.bn1(self.conv1(X)))\n",
        "        Y = self.bn2(self.conv2(Y))\n",
        "        if self.conv3:\n",
        "            X = self.conv3(X)\n",
        "        Y += X\n",
        "        return F.relu(Y)"
      ],
      "metadata": {
        "id": "tJVZN6l6_z2Z"
      },
      "execution_count": 34,
      "outputs": []
    },
    {
      "cell_type": "code",
      "source": [
        "blk = Residual(3)\n",
        "X = torch.randn(4, 3, 6, 6)\n",
        "blk(X).shape"
      ],
      "metadata": {
        "id": "zpwy8xwA_2jN",
        "colab": {
          "base_uri": "https://localhost:8080/"
        },
        "outputId": "c13cfe81-d166-42ef-f596-69dd08953447"
      },
      "execution_count": 35,
      "outputs": [
        {
          "output_type": "execute_result",
          "data": {
            "text/plain": [
              "torch.Size([4, 3, 6, 6])"
            ]
          },
          "metadata": {},
          "execution_count": 35
        }
      ]
    },
    {
      "cell_type": "code",
      "source": [
        "blk = Residual(6, use_1x1conv=True, strides=2)\n",
        "blk(X).shape"
      ],
      "metadata": {
        "id": "jbYoChxI_42T",
        "colab": {
          "base_uri": "https://localhost:8080/"
        },
        "outputId": "5c6b3b3b-be9b-48f1-c4bc-947de8976e7b"
      },
      "execution_count": 36,
      "outputs": [
        {
          "output_type": "execute_result",
          "data": {
            "text/plain": [
              "torch.Size([4, 6, 3, 3])"
            ]
          },
          "metadata": {},
          "execution_count": 36
        }
      ]
    },
    {
      "cell_type": "code",
      "source": [
        "class ResNet(d2l.Classifier):\n",
        "    def b1(self):\n",
        "        return nn.Sequential(\n",
        "            nn.LazyConv2d(64, kernel_size=7, stride=2, padding=3),\n",
        "            nn.LazyBatchNorm2d(), nn.ReLU(),\n",
        "            nn.MaxPool2d(kernel_size=3, stride=2, padding=1))"
      ],
      "metadata": {
        "id": "5U1sz0mF_7Ad"
      },
      "execution_count": 37,
      "outputs": []
    },
    {
      "cell_type": "code",
      "source": [
        "@d2l.add_to_class(ResNet)\n",
        "def block(self, num_residuals, num_channels, first_block=False):\n",
        "    blk = []\n",
        "    for i in range(num_residuals):\n",
        "        if i == 0 and not first_block:\n",
        "            blk.append(Residual(num_channels, use_1x1conv=True, strides=2))\n",
        "        else:\n",
        "            blk.append(Residual(num_channels))\n",
        "    return nn.Sequential(*blk)"
      ],
      "metadata": {
        "id": "hk5R7w9l_89l"
      },
      "execution_count": 38,
      "outputs": []
    },
    {
      "cell_type": "code",
      "source": [
        "@d2l.add_to_class(ResNet)\n",
        "def __init__(self, arch, lr=0.1, num_classes=10):\n",
        "    super(ResNet, self).__init__()\n",
        "    self.save_hyperparameters()\n",
        "    self.net = nn.Sequential(self.b1())\n",
        "    for i, b in enumerate(arch):\n",
        "        self.net.add_module(f'b{i+2}', self.block(*b, first_block=(i==0)))\n",
        "    self.net.add_module('last', nn.Sequential(\n",
        "        nn.AdaptiveAvgPool2d((1, 1)), nn.Flatten(),\n",
        "        nn.LazyLinear(num_classes)))\n",
        "    self.net.apply(d2l.init_cnn)"
      ],
      "metadata": {
        "id": "dJzc6Ayn__Lj"
      },
      "execution_count": 39,
      "outputs": []
    },
    {
      "cell_type": "code",
      "source": [
        "class ResNet18(ResNet):\n",
        "    def __init__(self, lr=0.1, num_classes=10):\n",
        "        super().__init__(((2, 64), (2, 128), (2, 256), (2, 512)),\n",
        "                       lr, num_classes)\n",
        "\n",
        "ResNet18().layer_summary((1, 1, 96, 96))"
      ],
      "metadata": {
        "id": "Ujp-jTesABUw",
        "colab": {
          "base_uri": "https://localhost:8080/"
        },
        "outputId": "b4c23aa5-73bc-4f62-e64b-837691e143d8"
      },
      "execution_count": 40,
      "outputs": [
        {
          "output_type": "stream",
          "name": "stdout",
          "text": [
            "Sequential output shape:\t torch.Size([1, 64, 24, 24])\n",
            "Sequential output shape:\t torch.Size([1, 64, 24, 24])\n",
            "Sequential output shape:\t torch.Size([1, 128, 12, 12])\n",
            "Sequential output shape:\t torch.Size([1, 256, 6, 6])\n",
            "Sequential output shape:\t torch.Size([1, 512, 3, 3])\n",
            "Sequential output shape:\t torch.Size([1, 10])\n"
          ]
        }
      ]
    },
    {
      "cell_type": "code",
      "source": [
        "model = ResNet18(lr=0.01)\n",
        "trainer = d2l.Trainer(max_epochs=10, num_gpus=1)\n",
        "data = d2l.FashionMNIST(batch_size=128, resize=(96, 96))\n",
        "model.apply_init([next(iter(data.get_dataloader(True)))[0]], d2l.init_cnn)\n",
        "trainer.fit(model, data)"
      ],
      "metadata": {
        "id": "tOa4x_uwADVD",
        "colab": {
          "base_uri": "https://localhost:8080/",
          "height": 265
        },
        "outputId": "244280f9-aca7-4f89-8f26-a4400d498b59"
      },
      "execution_count": 41,
      "outputs": [
        {
          "output_type": "display_data",
          "data": {
            "text/plain": [
              "<Figure size 350x250 with 1 Axes>"
            ],
            "image/svg+xml": "<?xml version=\"1.0\" encoding=\"utf-8\" standalone=\"no\"?>\n<!DOCTYPE svg PUBLIC \"-//W3C//DTD SVG 1.1//EN\"\n  \"http://www.w3.org/Graphics/SVG/1.1/DTD/svg11.dtd\">\n<svg xmlns:xlink=\"http://www.w3.org/1999/xlink\" width=\"238.965625pt\" height=\"183.35625pt\" viewBox=\"0 0 238.965625 183.35625\" xmlns=\"http://www.w3.org/2000/svg\" version=\"1.1\">\n <metadata>\n  <rdf:RDF xmlns:dc=\"http://purl.org/dc/elements/1.1/\" xmlns:cc=\"http://creativecommons.org/ns#\" xmlns:rdf=\"http://www.w3.org/1999/02/22-rdf-syntax-ns#\">\n   <cc:Work>\n    <dc:type rdf:resource=\"http://purl.org/dc/dcmitype/StillImage\"/>\n    <dc:date>2024-10-04T14:55:37.902608</dc:date>\n    <dc:format>image/svg+xml</dc:format>\n    <dc:creator>\n     <cc:Agent>\n      <dc:title>Matplotlib v3.7.2, https://matplotlib.org/</dc:title>\n     </cc:Agent>\n    </dc:creator>\n   </cc:Work>\n  </rdf:RDF>\n </metadata>\n <defs>\n  <style type=\"text/css\">*{stroke-linejoin: round; stroke-linecap: butt}</style>\n </defs>\n <g id=\"figure_1\">\n  <g id=\"patch_1\">\n   <path d=\"M 0 183.35625 \nL 238.965625 183.35625 \nL 238.965625 0 \nL 0 0 \nz\n\" style=\"fill: #ffffff\"/>\n  </g>\n  <g id=\"axes_1\">\n   <g id=\"patch_2\">\n    <path d=\"M 30.103125 145.8 \nL 225.403125 145.8 \nL 225.403125 7.2 \nL 30.103125 7.2 \nz\n\" style=\"fill: #ffffff\"/>\n   </g>\n   <g id=\"matplotlib.axis_1\">\n    <g id=\"xtick_1\">\n     <g id=\"line2d_1\">\n      <defs>\n       <path id=\"m3a38092d07\" d=\"M 0 0 \nL 0 3.5 \n\" style=\"stroke: #000000; stroke-width: 0.8\"/>\n      </defs>\n      <g>\n       <use xlink:href=\"#m3a38092d07\" x=\"30.103125\" y=\"145.8\" style=\"stroke: #000000; stroke-width: 0.8\"/>\n      </g>\n     </g>\n     <g id=\"text_1\">\n      <!-- 0 -->\n      <g transform=\"translate(26.921875 160.398438) scale(0.1 -0.1)\">\n       <defs>\n        <path id=\"DejaVuSans-30\" d=\"M 2034 4250 \nQ 1547 4250 1301 3770 \nQ 1056 3291 1056 2328 \nQ 1056 1369 1301 889 \nQ 1547 409 2034 409 \nQ 2525 409 2770 889 \nQ 3016 1369 3016 2328 \nQ 3016 3291 2770 3770 \nQ 2525 4250 2034 4250 \nz\nM 2034 4750 \nQ 2819 4750 3233 4129 \nQ 3647 3509 3647 2328 \nQ 3647 1150 3233 529 \nQ 2819 -91 2034 -91 \nQ 1250 -91 836 529 \nQ 422 1150 422 2328 \nQ 422 3509 836 4129 \nQ 1250 4750 2034 4750 \nz\n\" transform=\"scale(0.015625)\"/>\n       </defs>\n       <use xlink:href=\"#DejaVuSans-30\"/>\n      </g>\n     </g>\n    </g>\n    <g id=\"xtick_2\">\n     <g id=\"line2d_2\">\n      <g>\n       <use xlink:href=\"#m3a38092d07\" x=\"69.163125\" y=\"145.8\" style=\"stroke: #000000; stroke-width: 0.8\"/>\n      </g>\n     </g>\n     <g id=\"text_2\">\n      <!-- 2 -->\n      <g transform=\"translate(65.981875 160.398438) scale(0.1 -0.1)\">\n       <defs>\n        <path id=\"DejaVuSans-32\" d=\"M 1228 531 \nL 3431 531 \nL 3431 0 \nL 469 0 \nL 469 531 \nQ 828 903 1448 1529 \nQ 2069 2156 2228 2338 \nQ 2531 2678 2651 2914 \nQ 2772 3150 2772 3378 \nQ 2772 3750 2511 3984 \nQ 2250 4219 1831 4219 \nQ 1534 4219 1204 4116 \nQ 875 4013 500 3803 \nL 500 4441 \nQ 881 4594 1212 4672 \nQ 1544 4750 1819 4750 \nQ 2544 4750 2975 4387 \nQ 3406 4025 3406 3419 \nQ 3406 3131 3298 2873 \nQ 3191 2616 2906 2266 \nQ 2828 2175 2409 1742 \nQ 1991 1309 1228 531 \nz\n\" transform=\"scale(0.015625)\"/>\n       </defs>\n       <use xlink:href=\"#DejaVuSans-32\"/>\n      </g>\n     </g>\n    </g>\n    <g id=\"xtick_3\">\n     <g id=\"line2d_3\">\n      <g>\n       <use xlink:href=\"#m3a38092d07\" x=\"108.223125\" y=\"145.8\" style=\"stroke: #000000; stroke-width: 0.8\"/>\n      </g>\n     </g>\n     <g id=\"text_3\">\n      <!-- 4 -->\n      <g transform=\"translate(105.041875 160.398438) scale(0.1 -0.1)\">\n       <defs>\n        <path id=\"DejaVuSans-34\" d=\"M 2419 4116 \nL 825 1625 \nL 2419 1625 \nL 2419 4116 \nz\nM 2253 4666 \nL 3047 4666 \nL 3047 1625 \nL 3713 1625 \nL 3713 1100 \nL 3047 1100 \nL 3047 0 \nL 2419 0 \nL 2419 1100 \nL 313 1100 \nL 313 1709 \nL 2253 4666 \nz\n\" transform=\"scale(0.015625)\"/>\n       </defs>\n       <use xlink:href=\"#DejaVuSans-34\"/>\n      </g>\n     </g>\n    </g>\n    <g id=\"xtick_4\">\n     <g id=\"line2d_4\">\n      <g>\n       <use xlink:href=\"#m3a38092d07\" x=\"147.283125\" y=\"145.8\" style=\"stroke: #000000; stroke-width: 0.8\"/>\n      </g>\n     </g>\n     <g id=\"text_4\">\n      <!-- 6 -->\n      <g transform=\"translate(144.101875 160.398438) scale(0.1 -0.1)\">\n       <defs>\n        <path id=\"DejaVuSans-36\" d=\"M 2113 2584 \nQ 1688 2584 1439 2293 \nQ 1191 2003 1191 1497 \nQ 1191 994 1439 701 \nQ 1688 409 2113 409 \nQ 2538 409 2786 701 \nQ 3034 994 3034 1497 \nQ 3034 2003 2786 2293 \nQ 2538 2584 2113 2584 \nz\nM 3366 4563 \nL 3366 3988 \nQ 3128 4100 2886 4159 \nQ 2644 4219 2406 4219 \nQ 1781 4219 1451 3797 \nQ 1122 3375 1075 2522 \nQ 1259 2794 1537 2939 \nQ 1816 3084 2150 3084 \nQ 2853 3084 3261 2657 \nQ 3669 2231 3669 1497 \nQ 3669 778 3244 343 \nQ 2819 -91 2113 -91 \nQ 1303 -91 875 529 \nQ 447 1150 447 2328 \nQ 447 3434 972 4092 \nQ 1497 4750 2381 4750 \nQ 2619 4750 2861 4703 \nQ 3103 4656 3366 4563 \nz\n\" transform=\"scale(0.015625)\"/>\n       </defs>\n       <use xlink:href=\"#DejaVuSans-36\"/>\n      </g>\n     </g>\n    </g>\n    <g id=\"xtick_5\">\n     <g id=\"line2d_5\">\n      <g>\n       <use xlink:href=\"#m3a38092d07\" x=\"186.343125\" y=\"145.8\" style=\"stroke: #000000; stroke-width: 0.8\"/>\n      </g>\n     </g>\n     <g id=\"text_5\">\n      <!-- 8 -->\n      <g transform=\"translate(183.161875 160.398438) scale(0.1 -0.1)\">\n       <defs>\n        <path id=\"DejaVuSans-38\" d=\"M 2034 2216 \nQ 1584 2216 1326 1975 \nQ 1069 1734 1069 1313 \nQ 1069 891 1326 650 \nQ 1584 409 2034 409 \nQ 2484 409 2743 651 \nQ 3003 894 3003 1313 \nQ 3003 1734 2745 1975 \nQ 2488 2216 2034 2216 \nz\nM 1403 2484 \nQ 997 2584 770 2862 \nQ 544 3141 544 3541 \nQ 544 4100 942 4425 \nQ 1341 4750 2034 4750 \nQ 2731 4750 3128 4425 \nQ 3525 4100 3525 3541 \nQ 3525 3141 3298 2862 \nQ 3072 2584 2669 2484 \nQ 3125 2378 3379 2068 \nQ 3634 1759 3634 1313 \nQ 3634 634 3220 271 \nQ 2806 -91 2034 -91 \nQ 1263 -91 848 271 \nQ 434 634 434 1313 \nQ 434 1759 690 2068 \nQ 947 2378 1403 2484 \nz\nM 1172 3481 \nQ 1172 3119 1398 2916 \nQ 1625 2713 2034 2713 \nQ 2441 2713 2670 2916 \nQ 2900 3119 2900 3481 \nQ 2900 3844 2670 4047 \nQ 2441 4250 2034 4250 \nQ 1625 4250 1398 4047 \nQ 1172 3844 1172 3481 \nz\n\" transform=\"scale(0.015625)\"/>\n       </defs>\n       <use xlink:href=\"#DejaVuSans-38\"/>\n      </g>\n     </g>\n    </g>\n    <g id=\"xtick_6\">\n     <g id=\"line2d_6\">\n      <g>\n       <use xlink:href=\"#m3a38092d07\" x=\"225.403125\" y=\"145.8\" style=\"stroke: #000000; stroke-width: 0.8\"/>\n      </g>\n     </g>\n     <g id=\"text_6\">\n      <!-- 10 -->\n      <g transform=\"translate(219.040625 160.398438) scale(0.1 -0.1)\">\n       <defs>\n        <path id=\"DejaVuSans-31\" d=\"M 794 531 \nL 1825 531 \nL 1825 4091 \nL 703 3866 \nL 703 4441 \nL 1819 4666 \nL 2450 4666 \nL 2450 531 \nL 3481 531 \nL 3481 0 \nL 794 0 \nL 794 531 \nz\n\" transform=\"scale(0.015625)\"/>\n       </defs>\n       <use xlink:href=\"#DejaVuSans-31\"/>\n       <use xlink:href=\"#DejaVuSans-30\" x=\"63.623047\"/>\n      </g>\n     </g>\n    </g>\n    <g id=\"text_7\">\n     <!-- epoch -->\n     <g transform=\"translate(112.525 174.076563) scale(0.1 -0.1)\">\n      <defs>\n       <path id=\"DejaVuSans-65\" d=\"M 3597 1894 \nL 3597 1613 \nL 953 1613 \nQ 991 1019 1311 708 \nQ 1631 397 2203 397 \nQ 2534 397 2845 478 \nQ 3156 559 3463 722 \nL 3463 178 \nQ 3153 47 2828 -22 \nQ 2503 -91 2169 -91 \nQ 1331 -91 842 396 \nQ 353 884 353 1716 \nQ 353 2575 817 3079 \nQ 1281 3584 2069 3584 \nQ 2775 3584 3186 3129 \nQ 3597 2675 3597 1894 \nz\nM 3022 2063 \nQ 3016 2534 2758 2815 \nQ 2500 3097 2075 3097 \nQ 1594 3097 1305 2825 \nQ 1016 2553 972 2059 \nL 3022 2063 \nz\n\" transform=\"scale(0.015625)\"/>\n       <path id=\"DejaVuSans-70\" d=\"M 1159 525 \nL 1159 -1331 \nL 581 -1331 \nL 581 3500 \nL 1159 3500 \nL 1159 2969 \nQ 1341 3281 1617 3432 \nQ 1894 3584 2278 3584 \nQ 2916 3584 3314 3078 \nQ 3713 2572 3713 1747 \nQ 3713 922 3314 415 \nQ 2916 -91 2278 -91 \nQ 1894 -91 1617 61 \nQ 1341 213 1159 525 \nz\nM 3116 1747 \nQ 3116 2381 2855 2742 \nQ 2594 3103 2138 3103 \nQ 1681 3103 1420 2742 \nQ 1159 2381 1159 1747 \nQ 1159 1113 1420 752 \nQ 1681 391 2138 391 \nQ 2594 391 2855 752 \nQ 3116 1113 3116 1747 \nz\n\" transform=\"scale(0.015625)\"/>\n       <path id=\"DejaVuSans-6f\" d=\"M 1959 3097 \nQ 1497 3097 1228 2736 \nQ 959 2375 959 1747 \nQ 959 1119 1226 758 \nQ 1494 397 1959 397 \nQ 2419 397 2687 759 \nQ 2956 1122 2956 1747 \nQ 2956 2369 2687 2733 \nQ 2419 3097 1959 3097 \nz\nM 1959 3584 \nQ 2709 3584 3137 3096 \nQ 3566 2609 3566 1747 \nQ 3566 888 3137 398 \nQ 2709 -91 1959 -91 \nQ 1206 -91 779 398 \nQ 353 888 353 1747 \nQ 353 2609 779 3096 \nQ 1206 3584 1959 3584 \nz\n\" transform=\"scale(0.015625)\"/>\n       <path id=\"DejaVuSans-63\" d=\"M 3122 3366 \nL 3122 2828 \nQ 2878 2963 2633 3030 \nQ 2388 3097 2138 3097 \nQ 1578 3097 1268 2742 \nQ 959 2388 959 1747 \nQ 959 1106 1268 751 \nQ 1578 397 2138 397 \nQ 2388 397 2633 464 \nQ 2878 531 3122 666 \nL 3122 134 \nQ 2881 22 2623 -34 \nQ 2366 -91 2075 -91 \nQ 1284 -91 818 406 \nQ 353 903 353 1747 \nQ 353 2603 823 3093 \nQ 1294 3584 2113 3584 \nQ 2378 3584 2631 3529 \nQ 2884 3475 3122 3366 \nz\n\" transform=\"scale(0.015625)\"/>\n       <path id=\"DejaVuSans-68\" d=\"M 3513 2113 \nL 3513 0 \nL 2938 0 \nL 2938 2094 \nQ 2938 2591 2744 2837 \nQ 2550 3084 2163 3084 \nQ 1697 3084 1428 2787 \nQ 1159 2491 1159 1978 \nL 1159 0 \nL 581 0 \nL 581 4863 \nL 1159 4863 \nL 1159 2956 \nQ 1366 3272 1645 3428 \nQ 1925 3584 2291 3584 \nQ 2894 3584 3203 3211 \nQ 3513 2838 3513 2113 \nz\n\" transform=\"scale(0.015625)\"/>\n      </defs>\n      <use xlink:href=\"#DejaVuSans-65\"/>\n      <use xlink:href=\"#DejaVuSans-70\" x=\"61.523438\"/>\n      <use xlink:href=\"#DejaVuSans-6f\" x=\"125\"/>\n      <use xlink:href=\"#DejaVuSans-63\" x=\"186.181641\"/>\n      <use xlink:href=\"#DejaVuSans-68\" x=\"241.162109\"/>\n     </g>\n    </g>\n   </g>\n   <g id=\"matplotlib.axis_2\">\n    <g id=\"ytick_1\">\n     <g id=\"line2d_7\">\n      <defs>\n       <path id=\"m9ec2706e95\" d=\"M 0 0 \nL -3.5 0 \n\" style=\"stroke: #000000; stroke-width: 0.8\"/>\n      </defs>\n      <g>\n       <use xlink:href=\"#m9ec2706e95\" x=\"30.103125\" y=\"143.539218\" style=\"stroke: #000000; stroke-width: 0.8\"/>\n      </g>\n     </g>\n     <g id=\"text_8\">\n      <!-- 0.0 -->\n      <g transform=\"translate(7.2 147.338437) scale(0.1 -0.1)\">\n       <defs>\n        <path id=\"DejaVuSans-2e\" d=\"M 684 794 \nL 1344 794 \nL 1344 0 \nL 684 0 \nL 684 794 \nz\n\" transform=\"scale(0.015625)\"/>\n       </defs>\n       <use xlink:href=\"#DejaVuSans-30\"/>\n       <use xlink:href=\"#DejaVuSans-2e\" x=\"63.623047\"/>\n       <use xlink:href=\"#DejaVuSans-30\" x=\"95.410156\"/>\n      </g>\n     </g>\n    </g>\n    <g id=\"ytick_2\">\n     <g id=\"line2d_8\">\n      <g>\n       <use xlink:href=\"#m9ec2706e95\" x=\"30.103125\" y=\"115.138428\" style=\"stroke: #000000; stroke-width: 0.8\"/>\n      </g>\n     </g>\n     <g id=\"text_9\">\n      <!-- 0.2 -->\n      <g transform=\"translate(7.2 118.937647) scale(0.1 -0.1)\">\n       <use xlink:href=\"#DejaVuSans-30\"/>\n       <use xlink:href=\"#DejaVuSans-2e\" x=\"63.623047\"/>\n       <use xlink:href=\"#DejaVuSans-32\" x=\"95.410156\"/>\n      </g>\n     </g>\n    </g>\n    <g id=\"ytick_3\">\n     <g id=\"line2d_9\">\n      <g>\n       <use xlink:href=\"#m9ec2706e95\" x=\"30.103125\" y=\"86.737638\" style=\"stroke: #000000; stroke-width: 0.8\"/>\n      </g>\n     </g>\n     <g id=\"text_10\">\n      <!-- 0.4 -->\n      <g transform=\"translate(7.2 90.536857) scale(0.1 -0.1)\">\n       <use xlink:href=\"#DejaVuSans-30\"/>\n       <use xlink:href=\"#DejaVuSans-2e\" x=\"63.623047\"/>\n       <use xlink:href=\"#DejaVuSans-34\" x=\"95.410156\"/>\n      </g>\n     </g>\n    </g>\n    <g id=\"ytick_4\">\n     <g id=\"line2d_10\">\n      <g>\n       <use xlink:href=\"#m9ec2706e95\" x=\"30.103125\" y=\"58.336848\" style=\"stroke: #000000; stroke-width: 0.8\"/>\n      </g>\n     </g>\n     <g id=\"text_11\">\n      <!-- 0.6 -->\n      <g transform=\"translate(7.2 62.136067) scale(0.1 -0.1)\">\n       <use xlink:href=\"#DejaVuSans-30\"/>\n       <use xlink:href=\"#DejaVuSans-2e\" x=\"63.623047\"/>\n       <use xlink:href=\"#DejaVuSans-36\" x=\"95.410156\"/>\n      </g>\n     </g>\n    </g>\n    <g id=\"ytick_5\">\n     <g id=\"line2d_11\">\n      <g>\n       <use xlink:href=\"#m9ec2706e95\" x=\"30.103125\" y=\"29.936058\" style=\"stroke: #000000; stroke-width: 0.8\"/>\n      </g>\n     </g>\n     <g id=\"text_12\">\n      <!-- 0.8 -->\n      <g transform=\"translate(7.2 33.735277) scale(0.1 -0.1)\">\n       <use xlink:href=\"#DejaVuSans-30\"/>\n       <use xlink:href=\"#DejaVuSans-2e\" x=\"63.623047\"/>\n       <use xlink:href=\"#DejaVuSans-38\" x=\"95.410156\"/>\n      </g>\n     </g>\n    </g>\n   </g>\n   <g id=\"line2d_12\">\n    <path d=\"M 34.954394 66.384528 \n\" clip-path=\"url(#pb501bb60f0)\" style=\"fill: none; stroke: #1f77b4; stroke-width: 1.5; stroke-linecap: square\"/>\n   </g>\n   <g id=\"line2d_13\">\n    <path d=\"M 34.954394 66.384528 \nL 44.698573 94.894246 \n\" clip-path=\"url(#pb501bb60f0)\" style=\"fill: none; stroke: #1f77b4; stroke-width: 1.5; stroke-linecap: square\"/>\n   </g>\n   <g id=\"line2d_14\">\n    <path d=\"M 34.954394 66.384528 \nL 44.698573 94.894246 \n\" clip-path=\"url(#pb501bb60f0)\" style=\"fill: none; stroke: #1f77b4; stroke-width: 1.5; stroke-linecap: square\"/>\n   </g>\n   <g id=\"line2d_15\">\n    <path d=\"M 49.633125 88.118375 \n\" clip-path=\"url(#pb501bb60f0)\" style=\"fill: none; stroke-dasharray: 5.55,2.4; stroke-dashoffset: 0; stroke: #ff7f0e; stroke-width: 1.5\"/>\n   </g>\n   <g id=\"line2d_16\"/>\n   <g id=\"line2d_17\">\n    <path d=\"M 34.954394 66.384528 \nL 44.698573 94.894246 \n\" clip-path=\"url(#pb501bb60f0)\" style=\"fill: none; stroke: #1f77b4; stroke-width: 1.5; stroke-linecap: square\"/>\n   </g>\n   <g id=\"line2d_18\">\n    <path d=\"M 49.633125 88.118375 \n\" clip-path=\"url(#pb501bb60f0)\" style=\"fill: none; stroke-dasharray: 5.55,2.4; stroke-dashoffset: 0; stroke: #ff7f0e; stroke-width: 1.5\"/>\n   </g>\n   <g id=\"line2d_19\">\n    <path d=\"M 49.633125 22.192686 \n\" clip-path=\"url(#pb501bb60f0)\" style=\"fill: none; stroke-dasharray: 9.6,2.4,1.5,2.4; stroke-dashoffset: 0; stroke: #2ca02c; stroke-width: 1.5\"/>\n   </g>\n   <g id=\"line2d_20\">\n    <path d=\"M 34.954394 66.384528 \nL 44.698573 94.894246 \nL 54.442752 104.967337 \n\" clip-path=\"url(#pb501bb60f0)\" style=\"fill: none; stroke: #1f77b4; stroke-width: 1.5; stroke-linecap: square\"/>\n   </g>\n   <g id=\"line2d_21\">\n    <path d=\"M 49.633125 88.118375 \n\" clip-path=\"url(#pb501bb60f0)\" style=\"fill: none; stroke-dasharray: 5.55,2.4; stroke-dashoffset: 0; stroke: #ff7f0e; stroke-width: 1.5\"/>\n   </g>\n   <g id=\"line2d_22\">\n    <path d=\"M 49.633125 22.192686 \n\" clip-path=\"url(#pb501bb60f0)\" style=\"fill: none; stroke-dasharray: 9.6,2.4,1.5,2.4; stroke-dashoffset: 0; stroke: #2ca02c; stroke-width: 1.5\"/>\n   </g>\n   <g id=\"line2d_23\">\n    <path d=\"M 34.954394 66.384528 \nL 44.698573 94.894246 \nL 54.442752 104.967337 \nL 64.186931 106.445693 \n\" clip-path=\"url(#pb501bb60f0)\" style=\"fill: none; stroke: #1f77b4; stroke-width: 1.5; stroke-linecap: square\"/>\n   </g>\n   <g id=\"line2d_24\">\n    <path d=\"M 49.633125 88.118375 \n\" clip-path=\"url(#pb501bb60f0)\" style=\"fill: none; stroke-dasharray: 5.55,2.4; stroke-dashoffset: 0; stroke: #ff7f0e; stroke-width: 1.5\"/>\n   </g>\n   <g id=\"line2d_25\">\n    <path d=\"M 49.633125 22.192686 \n\" clip-path=\"url(#pb501bb60f0)\" style=\"fill: none; stroke-dasharray: 9.6,2.4,1.5,2.4; stroke-dashoffset: 0; stroke: #2ca02c; stroke-width: 1.5\"/>\n   </g>\n   <g id=\"line2d_26\">\n    <path d=\"M 34.954394 66.384528 \nL 44.698573 94.894246 \nL 54.442752 104.967337 \nL 64.186931 106.445693 \n\" clip-path=\"url(#pb501bb60f0)\" style=\"fill: none; stroke: #1f77b4; stroke-width: 1.5; stroke-linecap: square\"/>\n   </g>\n   <g id=\"line2d_27\">\n    <path d=\"M 49.633125 88.118375 \nL 69.163125 103.149854 \n\" clip-path=\"url(#pb501bb60f0)\" style=\"fill: none; stroke-dasharray: 5.55,2.4; stroke-dashoffset: 0; stroke: #ff7f0e; stroke-width: 1.5\"/>\n   </g>\n   <g id=\"line2d_28\">\n    <path d=\"M 49.633125 22.192686 \n\" clip-path=\"url(#pb501bb60f0)\" style=\"fill: none; stroke-dasharray: 9.6,2.4,1.5,2.4; stroke-dashoffset: 0; stroke: #2ca02c; stroke-width: 1.5\"/>\n   </g>\n   <g id=\"line2d_29\">\n    <path d=\"M 34.954394 66.384528 \nL 44.698573 94.894246 \nL 54.442752 104.967337 \nL 64.186931 106.445693 \n\" clip-path=\"url(#pb501bb60f0)\" style=\"fill: none; stroke: #1f77b4; stroke-width: 1.5; stroke-linecap: square\"/>\n   </g>\n   <g id=\"line2d_30\">\n    <path d=\"M 49.633125 88.118375 \nL 69.163125 103.149854 \n\" clip-path=\"url(#pb501bb60f0)\" style=\"fill: none; stroke-dasharray: 5.55,2.4; stroke-dashoffset: 0; stroke: #ff7f0e; stroke-width: 1.5\"/>\n   </g>\n   <g id=\"line2d_31\">\n    <path d=\"M 49.633125 22.192686 \nL 69.163125 16.954606 \n\" clip-path=\"url(#pb501bb60f0)\" style=\"fill: none; stroke-dasharray: 9.6,2.4,1.5,2.4; stroke-dashoffset: 0; stroke: #2ca02c; stroke-width: 1.5\"/>\n   </g>\n   <g id=\"line2d_32\">\n    <path d=\"M 34.954394 66.384528 \nL 44.698573 94.894246 \nL 54.442752 104.967337 \nL 64.186931 106.445693 \nL 73.93111 113.94879 \n\" clip-path=\"url(#pb501bb60f0)\" style=\"fill: none; stroke: #1f77b4; stroke-width: 1.5; stroke-linecap: square\"/>\n   </g>\n   <g id=\"line2d_33\">\n    <path d=\"M 49.633125 88.118375 \nL 69.163125 103.149854 \n\" clip-path=\"url(#pb501bb60f0)\" style=\"fill: none; stroke-dasharray: 5.55,2.4; stroke-dashoffset: 0; stroke: #ff7f0e; stroke-width: 1.5\"/>\n   </g>\n   <g id=\"line2d_34\">\n    <path d=\"M 49.633125 22.192686 \nL 69.163125 16.954606 \n\" clip-path=\"url(#pb501bb60f0)\" style=\"fill: none; stroke-dasharray: 9.6,2.4,1.5,2.4; stroke-dashoffset: 0; stroke: #2ca02c; stroke-width: 1.5\"/>\n   </g>\n   <g id=\"line2d_35\">\n    <path d=\"M 34.954394 66.384528 \nL 44.698573 94.894246 \nL 54.442752 104.967337 \nL 64.186931 106.445693 \nL 73.93111 113.94879 \nL 83.675289 113.937317 \n\" clip-path=\"url(#pb501bb60f0)\" style=\"fill: none; stroke: #1f77b4; stroke-width: 1.5; stroke-linecap: square\"/>\n   </g>\n   <g id=\"line2d_36\">\n    <path d=\"M 49.633125 88.118375 \nL 69.163125 103.149854 \n\" clip-path=\"url(#pb501bb60f0)\" style=\"fill: none; stroke-dasharray: 5.55,2.4; stroke-dashoffset: 0; stroke: #ff7f0e; stroke-width: 1.5\"/>\n   </g>\n   <g id=\"line2d_37\">\n    <path d=\"M 49.633125 22.192686 \nL 69.163125 16.954606 \n\" clip-path=\"url(#pb501bb60f0)\" style=\"fill: none; stroke-dasharray: 9.6,2.4,1.5,2.4; stroke-dashoffset: 0; stroke: #2ca02c; stroke-width: 1.5\"/>\n   </g>\n   <g id=\"line2d_38\">\n    <path d=\"M 34.954394 66.384528 \nL 44.698573 94.894246 \nL 54.442752 104.967337 \nL 64.186931 106.445693 \nL 73.93111 113.94879 \nL 83.675289 113.937317 \n\" clip-path=\"url(#pb501bb60f0)\" style=\"fill: none; stroke: #1f77b4; stroke-width: 1.5; stroke-linecap: square\"/>\n   </g>\n   <g id=\"line2d_39\">\n    <path d=\"M 49.633125 88.118375 \nL 69.163125 103.149854 \nL 88.693125 105.000684 \n\" clip-path=\"url(#pb501bb60f0)\" style=\"fill: none; stroke-dasharray: 5.55,2.4; stroke-dashoffset: 0; stroke: #ff7f0e; stroke-width: 1.5\"/>\n   </g>\n   <g id=\"line2d_40\">\n    <path d=\"M 49.633125 22.192686 \nL 69.163125 16.954606 \n\" clip-path=\"url(#pb501bb60f0)\" style=\"fill: none; stroke-dasharray: 9.6,2.4,1.5,2.4; stroke-dashoffset: 0; stroke: #2ca02c; stroke-width: 1.5\"/>\n   </g>\n   <g id=\"line2d_41\">\n    <path d=\"M 34.954394 66.384528 \nL 44.698573 94.894246 \nL 54.442752 104.967337 \nL 64.186931 106.445693 \nL 73.93111 113.94879 \nL 83.675289 113.937317 \n\" clip-path=\"url(#pb501bb60f0)\" style=\"fill: none; stroke: #1f77b4; stroke-width: 1.5; stroke-linecap: square\"/>\n   </g>\n   <g id=\"line2d_42\">\n    <path d=\"M 49.633125 88.118375 \nL 69.163125 103.149854 \nL 88.693125 105.000684 \n\" clip-path=\"url(#pb501bb60f0)\" style=\"fill: none; stroke-dasharray: 5.55,2.4; stroke-dashoffset: 0; stroke: #ff7f0e; stroke-width: 1.5\"/>\n   </g>\n   <g id=\"line2d_43\">\n    <path d=\"M 49.633125 22.192686 \nL 69.163125 16.954606 \nL 88.693125 15.676682 \n\" clip-path=\"url(#pb501bb60f0)\" style=\"fill: none; stroke-dasharray: 9.6,2.4,1.5,2.4; stroke-dashoffset: 0; stroke: #2ca02c; stroke-width: 1.5\"/>\n   </g>\n   <g id=\"line2d_44\">\n    <path d=\"M 34.954394 66.384528 \nL 44.698573 94.894246 \nL 54.442752 104.967337 \nL 64.186931 106.445693 \nL 73.93111 113.94879 \nL 83.675289 113.937317 \nL 93.419468 120.050639 \n\" clip-path=\"url(#pb501bb60f0)\" style=\"fill: none; stroke: #1f77b4; stroke-width: 1.5; stroke-linecap: square\"/>\n   </g>\n   <g id=\"line2d_45\">\n    <path d=\"M 49.633125 88.118375 \nL 69.163125 103.149854 \nL 88.693125 105.000684 \n\" clip-path=\"url(#pb501bb60f0)\" style=\"fill: none; stroke-dasharray: 5.55,2.4; stroke-dashoffset: 0; stroke: #ff7f0e; stroke-width: 1.5\"/>\n   </g>\n   <g id=\"line2d_46\">\n    <path d=\"M 49.633125 22.192686 \nL 69.163125 16.954606 \nL 88.693125 15.676682 \n\" clip-path=\"url(#pb501bb60f0)\" style=\"fill: none; stroke-dasharray: 9.6,2.4,1.5,2.4; stroke-dashoffset: 0; stroke: #2ca02c; stroke-width: 1.5\"/>\n   </g>\n   <g id=\"line2d_47\">\n    <path d=\"M 34.954394 66.384528 \nL 44.698573 94.894246 \nL 54.442752 104.967337 \nL 64.186931 106.445693 \nL 73.93111 113.94879 \nL 83.675289 113.937317 \nL 93.419468 120.050639 \nL 103.163647 119.285328 \n\" clip-path=\"url(#pb501bb60f0)\" style=\"fill: none; stroke: #1f77b4; stroke-width: 1.5; stroke-linecap: square\"/>\n   </g>\n   <g id=\"line2d_48\">\n    <path d=\"M 49.633125 88.118375 \nL 69.163125 103.149854 \nL 88.693125 105.000684 \n\" clip-path=\"url(#pb501bb60f0)\" style=\"fill: none; stroke-dasharray: 5.55,2.4; stroke-dashoffset: 0; stroke: #ff7f0e; stroke-width: 1.5\"/>\n   </g>\n   <g id=\"line2d_49\">\n    <path d=\"M 49.633125 22.192686 \nL 69.163125 16.954606 \nL 88.693125 15.676682 \n\" clip-path=\"url(#pb501bb60f0)\" style=\"fill: none; stroke-dasharray: 9.6,2.4,1.5,2.4; stroke-dashoffset: 0; stroke: #2ca02c; stroke-width: 1.5\"/>\n   </g>\n   <g id=\"line2d_50\">\n    <path d=\"M 34.954394 66.384528 \nL 44.698573 94.894246 \nL 54.442752 104.967337 \nL 64.186931 106.445693 \nL 73.93111 113.94879 \nL 83.675289 113.937317 \nL 93.419468 120.050639 \nL 103.163647 119.285328 \n\" clip-path=\"url(#pb501bb60f0)\" style=\"fill: none; stroke: #1f77b4; stroke-width: 1.5; stroke-linecap: square\"/>\n   </g>\n   <g id=\"line2d_51\">\n    <path d=\"M 49.633125 88.118375 \nL 69.163125 103.149854 \nL 88.693125 105.000684 \nL 108.223125 104.090433 \n\" clip-path=\"url(#pb501bb60f0)\" style=\"fill: none; stroke-dasharray: 5.55,2.4; stroke-dashoffset: 0; stroke: #ff7f0e; stroke-width: 1.5\"/>\n   </g>\n   <g id=\"line2d_52\">\n    <path d=\"M 49.633125 22.192686 \nL 69.163125 16.954606 \nL 88.693125 15.676682 \n\" clip-path=\"url(#pb501bb60f0)\" style=\"fill: none; stroke-dasharray: 9.6,2.4,1.5,2.4; stroke-dashoffset: 0; stroke: #2ca02c; stroke-width: 1.5\"/>\n   </g>\n   <g id=\"line2d_53\">\n    <path d=\"M 34.954394 66.384528 \nL 44.698573 94.894246 \nL 54.442752 104.967337 \nL 64.186931 106.445693 \nL 73.93111 113.94879 \nL 83.675289 113.937317 \nL 93.419468 120.050639 \nL 103.163647 119.285328 \n\" clip-path=\"url(#pb501bb60f0)\" style=\"fill: none; stroke: #1f77b4; stroke-width: 1.5; stroke-linecap: square\"/>\n   </g>\n   <g id=\"line2d_54\">\n    <path d=\"M 49.633125 88.118375 \nL 69.163125 103.149854 \nL 88.693125 105.000684 \nL 108.223125 104.090433 \n\" clip-path=\"url(#pb501bb60f0)\" style=\"fill: none; stroke-dasharray: 5.55,2.4; stroke-dashoffset: 0; stroke: #ff7f0e; stroke-width: 1.5\"/>\n   </g>\n   <g id=\"line2d_55\">\n    <path d=\"M 49.633125 22.192686 \nL 69.163125 16.954606 \nL 88.693125 15.676682 \nL 108.223125 15.704769 \n\" clip-path=\"url(#pb501bb60f0)\" style=\"fill: none; stroke-dasharray: 9.6,2.4,1.5,2.4; stroke-dashoffset: 0; stroke: #2ca02c; stroke-width: 1.5\"/>\n   </g>\n   <g id=\"line2d_56\">\n    <path d=\"M 34.954394 66.384528 \nL 44.698573 94.894246 \nL 54.442752 104.967337 \nL 64.186931 106.445693 \nL 73.93111 113.94879 \nL 83.675289 113.937317 \nL 93.419468 120.050639 \nL 103.163647 119.285328 \nL 112.907826 125.990816 \n\" clip-path=\"url(#pb501bb60f0)\" style=\"fill: none; stroke: #1f77b4; stroke-width: 1.5; stroke-linecap: square\"/>\n   </g>\n   <g id=\"line2d_57\">\n    <path d=\"M 49.633125 88.118375 \nL 69.163125 103.149854 \nL 88.693125 105.000684 \nL 108.223125 104.090433 \n\" clip-path=\"url(#pb501bb60f0)\" style=\"fill: none; stroke-dasharray: 5.55,2.4; stroke-dashoffset: 0; stroke: #ff7f0e; stroke-width: 1.5\"/>\n   </g>\n   <g id=\"line2d_58\">\n    <path d=\"M 49.633125 22.192686 \nL 69.163125 16.954606 \nL 88.693125 15.676682 \nL 108.223125 15.704769 \n\" clip-path=\"url(#pb501bb60f0)\" style=\"fill: none; stroke-dasharray: 9.6,2.4,1.5,2.4; stroke-dashoffset: 0; stroke: #2ca02c; stroke-width: 1.5\"/>\n   </g>\n   <g id=\"line2d_59\">\n    <path d=\"M 34.954394 66.384528 \nL 44.698573 94.894246 \nL 54.442752 104.967337 \nL 64.186931 106.445693 \nL 73.93111 113.94879 \nL 83.675289 113.937317 \nL 93.419468 120.050639 \nL 103.163647 119.285328 \nL 112.907826 125.990816 \nL 122.652006 123.369218 \n\" clip-path=\"url(#pb501bb60f0)\" style=\"fill: none; stroke: #1f77b4; stroke-width: 1.5; stroke-linecap: square\"/>\n   </g>\n   <g id=\"line2d_60\">\n    <path d=\"M 49.633125 88.118375 \nL 69.163125 103.149854 \nL 88.693125 105.000684 \nL 108.223125 104.090433 \n\" clip-path=\"url(#pb501bb60f0)\" style=\"fill: none; stroke-dasharray: 5.55,2.4; stroke-dashoffset: 0; stroke: #ff7f0e; stroke-width: 1.5\"/>\n   </g>\n   <g id=\"line2d_61\">\n    <path d=\"M 49.633125 22.192686 \nL 69.163125 16.954606 \nL 88.693125 15.676682 \nL 108.223125 15.704769 \n\" clip-path=\"url(#pb501bb60f0)\" style=\"fill: none; stroke-dasharray: 9.6,2.4,1.5,2.4; stroke-dashoffset: 0; stroke: #2ca02c; stroke-width: 1.5\"/>\n   </g>\n   <g id=\"line2d_62\">\n    <path d=\"M 34.954394 66.384528 \nL 44.698573 94.894246 \nL 54.442752 104.967337 \nL 64.186931 106.445693 \nL 73.93111 113.94879 \nL 83.675289 113.937317 \nL 93.419468 120.050639 \nL 103.163647 119.285328 \nL 112.907826 125.990816 \nL 122.652006 123.369218 \n\" clip-path=\"url(#pb501bb60f0)\" style=\"fill: none; stroke: #1f77b4; stroke-width: 1.5; stroke-linecap: square\"/>\n   </g>\n   <g id=\"line2d_63\">\n    <path d=\"M 49.633125 88.118375 \nL 69.163125 103.149854 \nL 88.693125 105.000684 \nL 108.223125 104.090433 \nL 127.753125 102.876929 \n\" clip-path=\"url(#pb501bb60f0)\" style=\"fill: none; stroke-dasharray: 5.55,2.4; stroke-dashoffset: 0; stroke: #ff7f0e; stroke-width: 1.5\"/>\n   </g>\n   <g id=\"line2d_64\">\n    <path d=\"M 49.633125 22.192686 \nL 69.163125 16.954606 \nL 88.693125 15.676682 \nL 108.223125 15.704769 \n\" clip-path=\"url(#pb501bb60f0)\" style=\"fill: none; stroke-dasharray: 9.6,2.4,1.5,2.4; stroke-dashoffset: 0; stroke: #2ca02c; stroke-width: 1.5\"/>\n   </g>\n   <g id=\"line2d_65\">\n    <path d=\"M 34.954394 66.384528 \nL 44.698573 94.894246 \nL 54.442752 104.967337 \nL 64.186931 106.445693 \nL 73.93111 113.94879 \nL 83.675289 113.937317 \nL 93.419468 120.050639 \nL 103.163647 119.285328 \nL 112.907826 125.990816 \nL 122.652006 123.369218 \n\" clip-path=\"url(#pb501bb60f0)\" style=\"fill: none; stroke: #1f77b4; stroke-width: 1.5; stroke-linecap: square\"/>\n   </g>\n   <g id=\"line2d_66\">\n    <path d=\"M 49.633125 88.118375 \nL 69.163125 103.149854 \nL 88.693125 105.000684 \nL 108.223125 104.090433 \nL 127.753125 102.876929 \n\" clip-path=\"url(#pb501bb60f0)\" style=\"fill: none; stroke-dasharray: 5.55,2.4; stroke-dashoffset: 0; stroke: #ff7f0e; stroke-width: 1.5\"/>\n   </g>\n   <g id=\"line2d_67\">\n    <path d=\"M 49.633125 22.192686 \nL 69.163125 16.954606 \nL 88.693125 15.676682 \nL 108.223125 15.704769 \nL 127.753125 15.508165 \n\" clip-path=\"url(#pb501bb60f0)\" style=\"fill: none; stroke-dasharray: 9.6,2.4,1.5,2.4; stroke-dashoffset: 0; stroke: #2ca02c; stroke-width: 1.5\"/>\n   </g>\n   <g id=\"line2d_68\">\n    <path d=\"M 34.954394 66.384528 \nL 44.698573 94.894246 \nL 54.442752 104.967337 \nL 64.186931 106.445693 \nL 73.93111 113.94879 \nL 83.675289 113.937317 \nL 93.419468 120.050639 \nL 103.163647 119.285328 \nL 112.907826 125.990816 \nL 122.652006 123.369218 \nL 132.396185 129.202077 \n\" clip-path=\"url(#pb501bb60f0)\" style=\"fill: none; stroke: #1f77b4; stroke-width: 1.5; stroke-linecap: square\"/>\n   </g>\n   <g id=\"line2d_69\">\n    <path d=\"M 49.633125 88.118375 \nL 69.163125 103.149854 \nL 88.693125 105.000684 \nL 108.223125 104.090433 \nL 127.753125 102.876929 \n\" clip-path=\"url(#pb501bb60f0)\" style=\"fill: none; stroke-dasharray: 5.55,2.4; stroke-dashoffset: 0; stroke: #ff7f0e; stroke-width: 1.5\"/>\n   </g>\n   <g id=\"line2d_70\">\n    <path d=\"M 49.633125 22.192686 \nL 69.163125 16.954606 \nL 88.693125 15.676682 \nL 108.223125 15.704769 \nL 127.753125 15.508165 \n\" clip-path=\"url(#pb501bb60f0)\" style=\"fill: none; stroke-dasharray: 9.6,2.4,1.5,2.4; stroke-dashoffset: 0; stroke: #2ca02c; stroke-width: 1.5\"/>\n   </g>\n   <g id=\"line2d_71\">\n    <path d=\"M 34.954394 66.384528 \nL 44.698573 94.894246 \nL 54.442752 104.967337 \nL 64.186931 106.445693 \nL 73.93111 113.94879 \nL 83.675289 113.937317 \nL 93.419468 120.050639 \nL 103.163647 119.285328 \nL 112.907826 125.990816 \nL 122.652006 123.369218 \nL 132.396185 129.202077 \nL 142.140364 129.056129 \n\" clip-path=\"url(#pb501bb60f0)\" style=\"fill: none; stroke: #1f77b4; stroke-width: 1.5; stroke-linecap: square\"/>\n   </g>\n   <g id=\"line2d_72\">\n    <path d=\"M 49.633125 88.118375 \nL 69.163125 103.149854 \nL 88.693125 105.000684 \nL 108.223125 104.090433 \nL 127.753125 102.876929 \n\" clip-path=\"url(#pb501bb60f0)\" style=\"fill: none; stroke-dasharray: 5.55,2.4; stroke-dashoffset: 0; stroke: #ff7f0e; stroke-width: 1.5\"/>\n   </g>\n   <g id=\"line2d_73\">\n    <path d=\"M 49.633125 22.192686 \nL 69.163125 16.954606 \nL 88.693125 15.676682 \nL 108.223125 15.704769 \nL 127.753125 15.508165 \n\" clip-path=\"url(#pb501bb60f0)\" style=\"fill: none; stroke-dasharray: 9.6,2.4,1.5,2.4; stroke-dashoffset: 0; stroke: #2ca02c; stroke-width: 1.5\"/>\n   </g>\n   <g id=\"line2d_74\">\n    <path d=\"M 34.954394 66.384528 \nL 44.698573 94.894246 \nL 54.442752 104.967337 \nL 64.186931 106.445693 \nL 73.93111 113.94879 \nL 83.675289 113.937317 \nL 93.419468 120.050639 \nL 103.163647 119.285328 \nL 112.907826 125.990816 \nL 122.652006 123.369218 \nL 132.396185 129.202077 \nL 142.140364 129.056129 \n\" clip-path=\"url(#pb501bb60f0)\" style=\"fill: none; stroke: #1f77b4; stroke-width: 1.5; stroke-linecap: square\"/>\n   </g>\n   <g id=\"line2d_75\">\n    <path d=\"M 49.633125 88.118375 \nL 69.163125 103.149854 \nL 88.693125 105.000684 \nL 108.223125 104.090433 \nL 127.753125 102.876929 \nL 147.283125 98.389331 \n\" clip-path=\"url(#pb501bb60f0)\" style=\"fill: none; stroke-dasharray: 5.55,2.4; stroke-dashoffset: 0; stroke: #ff7f0e; stroke-width: 1.5\"/>\n   </g>\n   <g id=\"line2d_76\">\n    <path d=\"M 49.633125 22.192686 \nL 69.163125 16.954606 \nL 88.693125 15.676682 \nL 108.223125 15.704769 \nL 127.753125 15.508165 \n\" clip-path=\"url(#pb501bb60f0)\" style=\"fill: none; stroke-dasharray: 9.6,2.4,1.5,2.4; stroke-dashoffset: 0; stroke: #2ca02c; stroke-width: 1.5\"/>\n   </g>\n   <g id=\"line2d_77\">\n    <path d=\"M 34.954394 66.384528 \nL 44.698573 94.894246 \nL 54.442752 104.967337 \nL 64.186931 106.445693 \nL 73.93111 113.94879 \nL 83.675289 113.937317 \nL 93.419468 120.050639 \nL 103.163647 119.285328 \nL 112.907826 125.990816 \nL 122.652006 123.369218 \nL 132.396185 129.202077 \nL 142.140364 129.056129 \n\" clip-path=\"url(#pb501bb60f0)\" style=\"fill: none; stroke: #1f77b4; stroke-width: 1.5; stroke-linecap: square\"/>\n   </g>\n   <g id=\"line2d_78\">\n    <path d=\"M 49.633125 88.118375 \nL 69.163125 103.149854 \nL 88.693125 105.000684 \nL 108.223125 104.090433 \nL 127.753125 102.876929 \nL 147.283125 98.389331 \n\" clip-path=\"url(#pb501bb60f0)\" style=\"fill: none; stroke-dasharray: 5.55,2.4; stroke-dashoffset: 0; stroke: #ff7f0e; stroke-width: 1.5\"/>\n   </g>\n   <g id=\"line2d_79\">\n    <path d=\"M 49.633125 22.192686 \nL 69.163125 16.954606 \nL 88.693125 15.676682 \nL 108.223125 15.704769 \nL 127.753125 15.508165 \nL 147.283125 16.729916 \n\" clip-path=\"url(#pb501bb60f0)\" style=\"fill: none; stroke-dasharray: 9.6,2.4,1.5,2.4; stroke-dashoffset: 0; stroke: #2ca02c; stroke-width: 1.5\"/>\n   </g>\n   <g id=\"line2d_80\">\n    <path d=\"M 34.954394 66.384528 \nL 44.698573 94.894246 \nL 54.442752 104.967337 \nL 64.186931 106.445693 \nL 73.93111 113.94879 \nL 83.675289 113.937317 \nL 93.419468 120.050639 \nL 103.163647 119.285328 \nL 112.907826 125.990816 \nL 122.652006 123.369218 \nL 132.396185 129.202077 \nL 142.140364 129.056129 \nL 151.884543 133.320481 \n\" clip-path=\"url(#pb501bb60f0)\" style=\"fill: none; stroke: #1f77b4; stroke-width: 1.5; stroke-linecap: square\"/>\n   </g>\n   <g id=\"line2d_81\">\n    <path d=\"M 49.633125 88.118375 \nL 69.163125 103.149854 \nL 88.693125 105.000684 \nL 108.223125 104.090433 \nL 127.753125 102.876929 \nL 147.283125 98.389331 \n\" clip-path=\"url(#pb501bb60f0)\" style=\"fill: none; stroke-dasharray: 5.55,2.4; stroke-dashoffset: 0; stroke: #ff7f0e; stroke-width: 1.5\"/>\n   </g>\n   <g id=\"line2d_82\">\n    <path d=\"M 49.633125 22.192686 \nL 69.163125 16.954606 \nL 88.693125 15.676682 \nL 108.223125 15.704769 \nL 127.753125 15.508165 \nL 147.283125 16.729916 \n\" clip-path=\"url(#pb501bb60f0)\" style=\"fill: none; stroke-dasharray: 9.6,2.4,1.5,2.4; stroke-dashoffset: 0; stroke: #2ca02c; stroke-width: 1.5\"/>\n   </g>\n   <g id=\"line2d_83\">\n    <path d=\"M 34.954394 66.384528 \nL 44.698573 94.894246 \nL 54.442752 104.967337 \nL 64.186931 106.445693 \nL 73.93111 113.94879 \nL 83.675289 113.937317 \nL 93.419468 120.050639 \nL 103.163647 119.285328 \nL 112.907826 125.990816 \nL 122.652006 123.369218 \nL 132.396185 129.202077 \nL 142.140364 129.056129 \nL 151.884543 133.320481 \nL 161.628722 132.657673 \n\" clip-path=\"url(#pb501bb60f0)\" style=\"fill: none; stroke: #1f77b4; stroke-width: 1.5; stroke-linecap: square\"/>\n   </g>\n   <g id=\"line2d_84\">\n    <path d=\"M 49.633125 88.118375 \nL 69.163125 103.149854 \nL 88.693125 105.000684 \nL 108.223125 104.090433 \nL 127.753125 102.876929 \nL 147.283125 98.389331 \n\" clip-path=\"url(#pb501bb60f0)\" style=\"fill: none; stroke-dasharray: 5.55,2.4; stroke-dashoffset: 0; stroke: #ff7f0e; stroke-width: 1.5\"/>\n   </g>\n   <g id=\"line2d_85\">\n    <path d=\"M 49.633125 22.192686 \nL 69.163125 16.954606 \nL 88.693125 15.676682 \nL 108.223125 15.704769 \nL 127.753125 15.508165 \nL 147.283125 16.729916 \n\" clip-path=\"url(#pb501bb60f0)\" style=\"fill: none; stroke-dasharray: 9.6,2.4,1.5,2.4; stroke-dashoffset: 0; stroke: #2ca02c; stroke-width: 1.5\"/>\n   </g>\n   <g id=\"line2d_86\">\n    <path d=\"M 34.954394 66.384528 \nL 44.698573 94.894246 \nL 54.442752 104.967337 \nL 64.186931 106.445693 \nL 73.93111 113.94879 \nL 83.675289 113.937317 \nL 93.419468 120.050639 \nL 103.163647 119.285328 \nL 112.907826 125.990816 \nL 122.652006 123.369218 \nL 132.396185 129.202077 \nL 142.140364 129.056129 \nL 151.884543 133.320481 \nL 161.628722 132.657673 \n\" clip-path=\"url(#pb501bb60f0)\" style=\"fill: none; stroke: #1f77b4; stroke-width: 1.5; stroke-linecap: square\"/>\n   </g>\n   <g id=\"line2d_87\">\n    <path d=\"M 49.633125 88.118375 \nL 69.163125 103.149854 \nL 88.693125 105.000684 \nL 108.223125 104.090433 \nL 127.753125 102.876929 \nL 147.283125 98.389331 \nL 166.813125 101.374935 \n\" clip-path=\"url(#pb501bb60f0)\" style=\"fill: none; stroke-dasharray: 5.55,2.4; stroke-dashoffset: 0; stroke: #ff7f0e; stroke-width: 1.5\"/>\n   </g>\n   <g id=\"line2d_88\">\n    <path d=\"M 49.633125 22.192686 \nL 69.163125 16.954606 \nL 88.693125 15.676682 \nL 108.223125 15.704769 \nL 127.753125 15.508165 \nL 147.283125 16.729916 \n\" clip-path=\"url(#pb501bb60f0)\" style=\"fill: none; stroke-dasharray: 9.6,2.4,1.5,2.4; stroke-dashoffset: 0; stroke: #2ca02c; stroke-width: 1.5\"/>\n   </g>\n   <g id=\"line2d_89\">\n    <path d=\"M 34.954394 66.384528 \nL 44.698573 94.894246 \nL 54.442752 104.967337 \nL 64.186931 106.445693 \nL 73.93111 113.94879 \nL 83.675289 113.937317 \nL 93.419468 120.050639 \nL 103.163647 119.285328 \nL 112.907826 125.990816 \nL 122.652006 123.369218 \nL 132.396185 129.202077 \nL 142.140364 129.056129 \nL 151.884543 133.320481 \nL 161.628722 132.657673 \n\" clip-path=\"url(#pb501bb60f0)\" style=\"fill: none; stroke: #1f77b4; stroke-width: 1.5; stroke-linecap: square\"/>\n   </g>\n   <g id=\"line2d_90\">\n    <path d=\"M 49.633125 88.118375 \nL 69.163125 103.149854 \nL 88.693125 105.000684 \nL 108.223125 104.090433 \nL 127.753125 102.876929 \nL 147.283125 98.389331 \nL 166.813125 101.374935 \n\" clip-path=\"url(#pb501bb60f0)\" style=\"fill: none; stroke-dasharray: 5.55,2.4; stroke-dashoffset: 0; stroke: #ff7f0e; stroke-width: 1.5\"/>\n   </g>\n   <g id=\"line2d_91\">\n    <path d=\"M 49.633125 22.192686 \nL 69.163125 16.954606 \nL 88.693125 15.676682 \nL 108.223125 15.704769 \nL 127.753125 15.508165 \nL 147.283125 16.729916 \nL 166.813125 14.749837 \n\" clip-path=\"url(#pb501bb60f0)\" style=\"fill: none; stroke-dasharray: 9.6,2.4,1.5,2.4; stroke-dashoffset: 0; stroke: #2ca02c; stroke-width: 1.5\"/>\n   </g>\n   <g id=\"line2d_92\">\n    <path d=\"M 34.954394 66.384528 \nL 44.698573 94.894246 \nL 54.442752 104.967337 \nL 64.186931 106.445693 \nL 73.93111 113.94879 \nL 83.675289 113.937317 \nL 93.419468 120.050639 \nL 103.163647 119.285328 \nL 112.907826 125.990816 \nL 122.652006 123.369218 \nL 132.396185 129.202077 \nL 142.140364 129.056129 \nL 151.884543 133.320481 \nL 161.628722 132.657673 \nL 171.372901 136.138666 \n\" clip-path=\"url(#pb501bb60f0)\" style=\"fill: none; stroke: #1f77b4; stroke-width: 1.5; stroke-linecap: square\"/>\n   </g>\n   <g id=\"line2d_93\">\n    <path d=\"M 49.633125 88.118375 \nL 69.163125 103.149854 \nL 88.693125 105.000684 \nL 108.223125 104.090433 \nL 127.753125 102.876929 \nL 147.283125 98.389331 \nL 166.813125 101.374935 \n\" clip-path=\"url(#pb501bb60f0)\" style=\"fill: none; stroke-dasharray: 5.55,2.4; stroke-dashoffset: 0; stroke: #ff7f0e; stroke-width: 1.5\"/>\n   </g>\n   <g id=\"line2d_94\">\n    <path d=\"M 49.633125 22.192686 \nL 69.163125 16.954606 \nL 88.693125 15.676682 \nL 108.223125 15.704769 \nL 127.753125 15.508165 \nL 147.283125 16.729916 \nL 166.813125 14.749837 \n\" clip-path=\"url(#pb501bb60f0)\" style=\"fill: none; stroke-dasharray: 9.6,2.4,1.5,2.4; stroke-dashoffset: 0; stroke: #2ca02c; stroke-width: 1.5\"/>\n   </g>\n   <g id=\"line2d_95\">\n    <path d=\"M 34.954394 66.384528 \nL 44.698573 94.894246 \nL 54.442752 104.967337 \nL 64.186931 106.445693 \nL 73.93111 113.94879 \nL 83.675289 113.937317 \nL 93.419468 120.050639 \nL 103.163647 119.285328 \nL 112.907826 125.990816 \nL 122.652006 123.369218 \nL 132.396185 129.202077 \nL 142.140364 129.056129 \nL 151.884543 133.320481 \nL 161.628722 132.657673 \nL 171.372901 136.138666 \nL 181.11708 135.358516 \n\" clip-path=\"url(#pb501bb60f0)\" style=\"fill: none; stroke: #1f77b4; stroke-width: 1.5; stroke-linecap: square\"/>\n   </g>\n   <g id=\"line2d_96\">\n    <path d=\"M 49.633125 88.118375 \nL 69.163125 103.149854 \nL 88.693125 105.000684 \nL 108.223125 104.090433 \nL 127.753125 102.876929 \nL 147.283125 98.389331 \nL 166.813125 101.374935 \n\" clip-path=\"url(#pb501bb60f0)\" style=\"fill: none; stroke-dasharray: 5.55,2.4; stroke-dashoffset: 0; stroke: #ff7f0e; stroke-width: 1.5\"/>\n   </g>\n   <g id=\"line2d_97\">\n    <path d=\"M 49.633125 22.192686 \nL 69.163125 16.954606 \nL 88.693125 15.676682 \nL 108.223125 15.704769 \nL 127.753125 15.508165 \nL 147.283125 16.729916 \nL 166.813125 14.749837 \n\" clip-path=\"url(#pb501bb60f0)\" style=\"fill: none; stroke-dasharray: 9.6,2.4,1.5,2.4; stroke-dashoffset: 0; stroke: #2ca02c; stroke-width: 1.5\"/>\n   </g>\n   <g id=\"line2d_98\">\n    <path d=\"M 34.954394 66.384528 \nL 44.698573 94.894246 \nL 54.442752 104.967337 \nL 64.186931 106.445693 \nL 73.93111 113.94879 \nL 83.675289 113.937317 \nL 93.419468 120.050639 \nL 103.163647 119.285328 \nL 112.907826 125.990816 \nL 122.652006 123.369218 \nL 132.396185 129.202077 \nL 142.140364 129.056129 \nL 151.884543 133.320481 \nL 161.628722 132.657673 \nL 171.372901 136.138666 \nL 181.11708 135.358516 \n\" clip-path=\"url(#pb501bb60f0)\" style=\"fill: none; stroke: #1f77b4; stroke-width: 1.5; stroke-linecap: square\"/>\n   </g>\n   <g id=\"line2d_99\">\n    <path d=\"M 49.633125 88.118375 \nL 69.163125 103.149854 \nL 88.693125 105.000684 \nL 108.223125 104.090433 \nL 127.753125 102.876929 \nL 147.283125 98.389331 \nL 166.813125 101.374935 \nL 186.343125 102.483814 \n\" clip-path=\"url(#pb501bb60f0)\" style=\"fill: none; stroke-dasharray: 5.55,2.4; stroke-dashoffset: 0; stroke: #ff7f0e; stroke-width: 1.5\"/>\n   </g>\n   <g id=\"line2d_100\">\n    <path d=\"M 49.633125 22.192686 \nL 69.163125 16.954606 \nL 88.693125 15.676682 \nL 108.223125 15.704769 \nL 127.753125 15.508165 \nL 147.283125 16.729916 \nL 166.813125 14.749837 \n\" clip-path=\"url(#pb501bb60f0)\" style=\"fill: none; stroke-dasharray: 9.6,2.4,1.5,2.4; stroke-dashoffset: 0; stroke: #2ca02c; stroke-width: 1.5\"/>\n   </g>\n   <g id=\"line2d_101\">\n    <path d=\"M 34.954394 66.384528 \nL 44.698573 94.894246 \nL 54.442752 104.967337 \nL 64.186931 106.445693 \nL 73.93111 113.94879 \nL 83.675289 113.937317 \nL 93.419468 120.050639 \nL 103.163647 119.285328 \nL 112.907826 125.990816 \nL 122.652006 123.369218 \nL 132.396185 129.202077 \nL 142.140364 129.056129 \nL 151.884543 133.320481 \nL 161.628722 132.657673 \nL 171.372901 136.138666 \nL 181.11708 135.358516 \n\" clip-path=\"url(#pb501bb60f0)\" style=\"fill: none; stroke: #1f77b4; stroke-width: 1.5; stroke-linecap: square\"/>\n   </g>\n   <g id=\"line2d_102\">\n    <path d=\"M 49.633125 88.118375 \nL 69.163125 103.149854 \nL 88.693125 105.000684 \nL 108.223125 104.090433 \nL 127.753125 102.876929 \nL 147.283125 98.389331 \nL 166.813125 101.374935 \nL 186.343125 102.483814 \n\" clip-path=\"url(#pb501bb60f0)\" style=\"fill: none; stroke-dasharray: 5.55,2.4; stroke-dashoffset: 0; stroke: #ff7f0e; stroke-width: 1.5\"/>\n   </g>\n   <g id=\"line2d_103\">\n    <path d=\"M 49.633125 22.192686 \nL 69.163125 16.954606 \nL 88.693125 15.676682 \nL 108.223125 15.704769 \nL 127.753125 15.508165 \nL 147.283125 16.729916 \nL 166.813125 14.749837 \nL 186.343125 13.696604 \n\" clip-path=\"url(#pb501bb60f0)\" style=\"fill: none; stroke-dasharray: 9.6,2.4,1.5,2.4; stroke-dashoffset: 0; stroke: #2ca02c; stroke-width: 1.5\"/>\n   </g>\n   <g id=\"line2d_104\">\n    <path d=\"M 34.954394 66.384528 \nL 44.698573 94.894246 \nL 54.442752 104.967337 \nL 64.186931 106.445693 \nL 73.93111 113.94879 \nL 83.675289 113.937317 \nL 93.419468 120.050639 \nL 103.163647 119.285328 \nL 112.907826 125.990816 \nL 122.652006 123.369218 \nL 132.396185 129.202077 \nL 142.140364 129.056129 \nL 151.884543 133.320481 \nL 161.628722 132.657673 \nL 171.372901 136.138666 \nL 181.11708 135.358516 \nL 190.861259 138.546666 \n\" clip-path=\"url(#pb501bb60f0)\" style=\"fill: none; stroke: #1f77b4; stroke-width: 1.5; stroke-linecap: square\"/>\n   </g>\n   <g id=\"line2d_105\">\n    <path d=\"M 49.633125 88.118375 \nL 69.163125 103.149854 \nL 88.693125 105.000684 \nL 108.223125 104.090433 \nL 127.753125 102.876929 \nL 147.283125 98.389331 \nL 166.813125 101.374935 \nL 186.343125 102.483814 \n\" clip-path=\"url(#pb501bb60f0)\" style=\"fill: none; stroke-dasharray: 5.55,2.4; stroke-dashoffset: 0; stroke: #ff7f0e; stroke-width: 1.5\"/>\n   </g>\n   <g id=\"line2d_106\">\n    <path d=\"M 49.633125 22.192686 \nL 69.163125 16.954606 \nL 88.693125 15.676682 \nL 108.223125 15.704769 \nL 127.753125 15.508165 \nL 147.283125 16.729916 \nL 166.813125 14.749837 \nL 186.343125 13.696604 \n\" clip-path=\"url(#pb501bb60f0)\" style=\"fill: none; stroke-dasharray: 9.6,2.4,1.5,2.4; stroke-dashoffset: 0; stroke: #2ca02c; stroke-width: 1.5\"/>\n   </g>\n   <g id=\"line2d_107\">\n    <path d=\"M 34.954394 66.384528 \nL 44.698573 94.894246 \nL 54.442752 104.967337 \nL 64.186931 106.445693 \nL 73.93111 113.94879 \nL 83.675289 113.937317 \nL 93.419468 120.050639 \nL 103.163647 119.285328 \nL 112.907826 125.990816 \nL 122.652006 123.369218 \nL 132.396185 129.202077 \nL 142.140364 129.056129 \nL 151.884543 133.320481 \nL 161.628722 132.657673 \nL 171.372901 136.138666 \nL 181.11708 135.358516 \nL 190.861259 138.546666 \nL 200.605438 137.135787 \n\" clip-path=\"url(#pb501bb60f0)\" style=\"fill: none; stroke: #1f77b4; stroke-width: 1.5; stroke-linecap: square\"/>\n   </g>\n   <g id=\"line2d_108\">\n    <path d=\"M 49.633125 88.118375 \nL 69.163125 103.149854 \nL 88.693125 105.000684 \nL 108.223125 104.090433 \nL 127.753125 102.876929 \nL 147.283125 98.389331 \nL 166.813125 101.374935 \nL 186.343125 102.483814 \n\" clip-path=\"url(#pb501bb60f0)\" style=\"fill: none; stroke-dasharray: 5.55,2.4; stroke-dashoffset: 0; stroke: #ff7f0e; stroke-width: 1.5\"/>\n   </g>\n   <g id=\"line2d_109\">\n    <path d=\"M 49.633125 22.192686 \nL 69.163125 16.954606 \nL 88.693125 15.676682 \nL 108.223125 15.704769 \nL 127.753125 15.508165 \nL 147.283125 16.729916 \nL 166.813125 14.749837 \nL 186.343125 13.696604 \n\" clip-path=\"url(#pb501bb60f0)\" style=\"fill: none; stroke-dasharray: 9.6,2.4,1.5,2.4; stroke-dashoffset: 0; stroke: #2ca02c; stroke-width: 1.5\"/>\n   </g>\n   <g id=\"line2d_110\">\n    <path d=\"M 34.954394 66.384528 \nL 44.698573 94.894246 \nL 54.442752 104.967337 \nL 64.186931 106.445693 \nL 73.93111 113.94879 \nL 83.675289 113.937317 \nL 93.419468 120.050639 \nL 103.163647 119.285328 \nL 112.907826 125.990816 \nL 122.652006 123.369218 \nL 132.396185 129.202077 \nL 142.140364 129.056129 \nL 151.884543 133.320481 \nL 161.628722 132.657673 \nL 171.372901 136.138666 \nL 181.11708 135.358516 \nL 190.861259 138.546666 \nL 200.605438 137.135787 \n\" clip-path=\"url(#pb501bb60f0)\" style=\"fill: none; stroke: #1f77b4; stroke-width: 1.5; stroke-linecap: square\"/>\n   </g>\n   <g id=\"line2d_111\">\n    <path d=\"M 49.633125 88.118375 \nL 69.163125 103.149854 \nL 88.693125 105.000684 \nL 108.223125 104.090433 \nL 127.753125 102.876929 \nL 147.283125 98.389331 \nL 166.813125 101.374935 \nL 186.343125 102.483814 \nL 205.873125 99.006647 \n\" clip-path=\"url(#pb501bb60f0)\" style=\"fill: none; stroke-dasharray: 5.55,2.4; stroke-dashoffset: 0; stroke: #ff7f0e; stroke-width: 1.5\"/>\n   </g>\n   <g id=\"line2d_112\">\n    <path d=\"M 49.633125 22.192686 \nL 69.163125 16.954606 \nL 88.693125 15.676682 \nL 108.223125 15.704769 \nL 127.753125 15.508165 \nL 147.283125 16.729916 \nL 166.813125 14.749837 \nL 186.343125 13.696604 \n\" clip-path=\"url(#pb501bb60f0)\" style=\"fill: none; stroke-dasharray: 9.6,2.4,1.5,2.4; stroke-dashoffset: 0; stroke: #2ca02c; stroke-width: 1.5\"/>\n   </g>\n   <g id=\"line2d_113\">\n    <path d=\"M 34.954394 66.384528 \nL 44.698573 94.894246 \nL 54.442752 104.967337 \nL 64.186931 106.445693 \nL 73.93111 113.94879 \nL 83.675289 113.937317 \nL 93.419468 120.050639 \nL 103.163647 119.285328 \nL 112.907826 125.990816 \nL 122.652006 123.369218 \nL 132.396185 129.202077 \nL 142.140364 129.056129 \nL 151.884543 133.320481 \nL 161.628722 132.657673 \nL 171.372901 136.138666 \nL 181.11708 135.358516 \nL 190.861259 138.546666 \nL 200.605438 137.135787 \n\" clip-path=\"url(#pb501bb60f0)\" style=\"fill: none; stroke: #1f77b4; stroke-width: 1.5; stroke-linecap: square\"/>\n   </g>\n   <g id=\"line2d_114\">\n    <path d=\"M 49.633125 88.118375 \nL 69.163125 103.149854 \nL 88.693125 105.000684 \nL 108.223125 104.090433 \nL 127.753125 102.876929 \nL 147.283125 98.389331 \nL 166.813125 101.374935 \nL 186.343125 102.483814 \nL 205.873125 99.006647 \n\" clip-path=\"url(#pb501bb60f0)\" style=\"fill: none; stroke-dasharray: 5.55,2.4; stroke-dashoffset: 0; stroke: #ff7f0e; stroke-width: 1.5\"/>\n   </g>\n   <g id=\"line2d_115\">\n    <path d=\"M 49.633125 22.192686 \nL 69.163125 16.954606 \nL 88.693125 15.676682 \nL 108.223125 15.704769 \nL 127.753125 15.508165 \nL 147.283125 16.729916 \nL 166.813125 14.749837 \nL 186.343125 13.696604 \nL 205.873125 14.693665 \n\" clip-path=\"url(#pb501bb60f0)\" style=\"fill: none; stroke-dasharray: 9.6,2.4,1.5,2.4; stroke-dashoffset: 0; stroke: #2ca02c; stroke-width: 1.5\"/>\n   </g>\n   <g id=\"line2d_116\">\n    <path d=\"M 34.954394 66.384528 \nL 44.698573 94.894246 \nL 54.442752 104.967337 \nL 64.186931 106.445693 \nL 73.93111 113.94879 \nL 83.675289 113.937317 \nL 93.419468 120.050639 \nL 103.163647 119.285328 \nL 112.907826 125.990816 \nL 122.652006 123.369218 \nL 132.396185 129.202077 \nL 142.140364 129.056129 \nL 151.884543 133.320481 \nL 161.628722 132.657673 \nL 171.372901 136.138666 \nL 181.11708 135.358516 \nL 190.861259 138.546666 \nL 200.605438 137.135787 \nL 210.349618 139.5 \n\" clip-path=\"url(#pb501bb60f0)\" style=\"fill: none; stroke: #1f77b4; stroke-width: 1.5; stroke-linecap: square\"/>\n   </g>\n   <g id=\"line2d_117\">\n    <path d=\"M 49.633125 88.118375 \nL 69.163125 103.149854 \nL 88.693125 105.000684 \nL 108.223125 104.090433 \nL 127.753125 102.876929 \nL 147.283125 98.389331 \nL 166.813125 101.374935 \nL 186.343125 102.483814 \nL 205.873125 99.006647 \n\" clip-path=\"url(#pb501bb60f0)\" style=\"fill: none; stroke-dasharray: 5.55,2.4; stroke-dashoffset: 0; stroke: #ff7f0e; stroke-width: 1.5\"/>\n   </g>\n   <g id=\"line2d_118\">\n    <path d=\"M 49.633125 22.192686 \nL 69.163125 16.954606 \nL 88.693125 15.676682 \nL 108.223125 15.704769 \nL 127.753125 15.508165 \nL 147.283125 16.729916 \nL 166.813125 14.749837 \nL 186.343125 13.696604 \nL 205.873125 14.693665 \n\" clip-path=\"url(#pb501bb60f0)\" style=\"fill: none; stroke-dasharray: 9.6,2.4,1.5,2.4; stroke-dashoffset: 0; stroke: #2ca02c; stroke-width: 1.5\"/>\n   </g>\n   <g id=\"line2d_119\">\n    <path d=\"M 34.954394 66.384528 \nL 44.698573 94.894246 \nL 54.442752 104.967337 \nL 64.186931 106.445693 \nL 73.93111 113.94879 \nL 83.675289 113.937317 \nL 93.419468 120.050639 \nL 103.163647 119.285328 \nL 112.907826 125.990816 \nL 122.652006 123.369218 \nL 132.396185 129.202077 \nL 142.140364 129.056129 \nL 151.884543 133.320481 \nL 161.628722 132.657673 \nL 171.372901 136.138666 \nL 181.11708 135.358516 \nL 190.861259 138.546666 \nL 200.605438 137.135787 \nL 210.349618 139.5 \nL 220.093797 139.365433 \n\" clip-path=\"url(#pb501bb60f0)\" style=\"fill: none; stroke: #1f77b4; stroke-width: 1.5; stroke-linecap: square\"/>\n   </g>\n   <g id=\"line2d_120\">\n    <path d=\"M 49.633125 88.118375 \nL 69.163125 103.149854 \nL 88.693125 105.000684 \nL 108.223125 104.090433 \nL 127.753125 102.876929 \nL 147.283125 98.389331 \nL 166.813125 101.374935 \nL 186.343125 102.483814 \nL 205.873125 99.006647 \n\" clip-path=\"url(#pb501bb60f0)\" style=\"fill: none; stroke-dasharray: 5.55,2.4; stroke-dashoffset: 0; stroke: #ff7f0e; stroke-width: 1.5\"/>\n   </g>\n   <g id=\"line2d_121\">\n    <path d=\"M 49.633125 22.192686 \nL 69.163125 16.954606 \nL 88.693125 15.676682 \nL 108.223125 15.704769 \nL 127.753125 15.508165 \nL 147.283125 16.729916 \nL 166.813125 14.749837 \nL 186.343125 13.696604 \nL 205.873125 14.693665 \n\" clip-path=\"url(#pb501bb60f0)\" style=\"fill: none; stroke-dasharray: 9.6,2.4,1.5,2.4; stroke-dashoffset: 0; stroke: #2ca02c; stroke-width: 1.5\"/>\n   </g>\n   <g id=\"line2d_122\">\n    <path d=\"M 34.954394 66.384528 \nL 44.698573 94.894246 \nL 54.442752 104.967337 \nL 64.186931 106.445693 \nL 73.93111 113.94879 \nL 83.675289 113.937317 \nL 93.419468 120.050639 \nL 103.163647 119.285328 \nL 112.907826 125.990816 \nL 122.652006 123.369218 \nL 132.396185 129.202077 \nL 142.140364 129.056129 \nL 151.884543 133.320481 \nL 161.628722 132.657673 \nL 171.372901 136.138666 \nL 181.11708 135.358516 \nL 190.861259 138.546666 \nL 200.605438 137.135787 \nL 210.349618 139.5 \nL 220.093797 139.365433 \n\" clip-path=\"url(#pb501bb60f0)\" style=\"fill: none; stroke: #1f77b4; stroke-width: 1.5; stroke-linecap: square\"/>\n   </g>\n   <g id=\"line2d_123\">\n    <path d=\"M 49.633125 88.118375 \nL 69.163125 103.149854 \nL 88.693125 105.000684 \nL 108.223125 104.090433 \nL 127.753125 102.876929 \nL 147.283125 98.389331 \nL 166.813125 101.374935 \nL 186.343125 102.483814 \nL 205.873125 99.006647 \nL 225.403125 99.800278 \n\" clip-path=\"url(#pb501bb60f0)\" style=\"fill: none; stroke-dasharray: 5.55,2.4; stroke-dashoffset: 0; stroke: #ff7f0e; stroke-width: 1.5\"/>\n   </g>\n   <g id=\"line2d_124\">\n    <path d=\"M 49.633125 22.192686 \nL 69.163125 16.954606 \nL 88.693125 15.676682 \nL 108.223125 15.704769 \nL 127.753125 15.508165 \nL 147.283125 16.729916 \nL 166.813125 14.749837 \nL 186.343125 13.696604 \nL 205.873125 14.693665 \n\" clip-path=\"url(#pb501bb60f0)\" style=\"fill: none; stroke-dasharray: 9.6,2.4,1.5,2.4; stroke-dashoffset: 0; stroke: #2ca02c; stroke-width: 1.5\"/>\n   </g>\n   <g id=\"line2d_125\">\n    <path d=\"M 34.954394 66.384528 \nL 44.698573 94.894246 \nL 54.442752 104.967337 \nL 64.186931 106.445693 \nL 73.93111 113.94879 \nL 83.675289 113.937317 \nL 93.419468 120.050639 \nL 103.163647 119.285328 \nL 112.907826 125.990816 \nL 122.652006 123.369218 \nL 132.396185 129.202077 \nL 142.140364 129.056129 \nL 151.884543 133.320481 \nL 161.628722 132.657673 \nL 171.372901 136.138666 \nL 181.11708 135.358516 \nL 190.861259 138.546666 \nL 200.605438 137.135787 \nL 210.349618 139.5 \nL 220.093797 139.365433 \n\" clip-path=\"url(#pb501bb60f0)\" style=\"fill: none; stroke: #1f77b4; stroke-width: 1.5; stroke-linecap: square\"/>\n   </g>\n   <g id=\"line2d_126\">\n    <path d=\"M 49.633125 88.118375 \nL 69.163125 103.149854 \nL 88.693125 105.000684 \nL 108.223125 104.090433 \nL 127.753125 102.876929 \nL 147.283125 98.389331 \nL 166.813125 101.374935 \nL 186.343125 102.483814 \nL 205.873125 99.006647 \nL 225.403125 99.800278 \n\" clip-path=\"url(#pb501bb60f0)\" style=\"fill: none; stroke-dasharray: 5.55,2.4; stroke-dashoffset: 0; stroke: #ff7f0e; stroke-width: 1.5\"/>\n   </g>\n   <g id=\"line2d_127\">\n    <path d=\"M 49.633125 22.192686 \nL 69.163125 16.954606 \nL 88.693125 15.676682 \nL 108.223125 15.704769 \nL 127.753125 15.508165 \nL 147.283125 16.729916 \nL 166.813125 14.749837 \nL 186.343125 13.696604 \nL 205.873125 14.693665 \nL 225.403125 13.5 \n\" clip-path=\"url(#pb501bb60f0)\" style=\"fill: none; stroke-dasharray: 9.6,2.4,1.5,2.4; stroke-dashoffset: 0; stroke: #2ca02c; stroke-width: 1.5\"/>\n   </g>\n   <g id=\"patch_3\">\n    <path d=\"M 30.103125 145.8 \nL 30.103125 7.2 \n\" style=\"fill: none; stroke: #000000; stroke-width: 0.8; stroke-linejoin: miter; stroke-linecap: square\"/>\n   </g>\n   <g id=\"patch_4\">\n    <path d=\"M 225.403125 145.8 \nL 225.403125 7.2 \n\" style=\"fill: none; stroke: #000000; stroke-width: 0.8; stroke-linejoin: miter; stroke-linecap: square\"/>\n   </g>\n   <g id=\"patch_5\">\n    <path d=\"M 30.103125 145.8 \nL 225.403125 145.8 \n\" style=\"fill: none; stroke: #000000; stroke-width: 0.8; stroke-linejoin: miter; stroke-linecap: square\"/>\n   </g>\n   <g id=\"patch_6\">\n    <path d=\"M 30.103125 7.2 \nL 225.403125 7.2 \n\" style=\"fill: none; stroke: #000000; stroke-width: 0.8; stroke-linejoin: miter; stroke-linecap: square\"/>\n   </g>\n   <g id=\"legend_1\">\n    <g id=\"patch_7\">\n     <path d=\"M 87.957813 100.434375 \nL 167.548438 100.434375 \nQ 169.548438 100.434375 169.548438 98.434375 \nL 169.548438 54.565625 \nQ 169.548438 52.565625 167.548438 52.565625 \nL 87.957813 52.565625 \nQ 85.957813 52.565625 85.957813 54.565625 \nL 85.957813 98.434375 \nQ 85.957813 100.434375 87.957813 100.434375 \nz\n\" style=\"fill: #ffffff; opacity: 0.8; stroke: #cccccc; stroke-linejoin: miter\"/>\n    </g>\n    <g id=\"line2d_128\">\n     <path d=\"M 89.957813 60.664063 \nL 99.957813 60.664063 \nL 109.957813 60.664063 \n\" style=\"fill: none; stroke: #1f77b4; stroke-width: 1.5; stroke-linecap: square\"/>\n    </g>\n    <g id=\"text_13\">\n     <!-- train_loss -->\n     <g transform=\"translate(117.957813 64.164063) scale(0.1 -0.1)\">\n      <defs>\n       <path id=\"DejaVuSans-74\" d=\"M 1172 4494 \nL 1172 3500 \nL 2356 3500 \nL 2356 3053 \nL 1172 3053 \nL 1172 1153 \nQ 1172 725 1289 603 \nQ 1406 481 1766 481 \nL 2356 481 \nL 2356 0 \nL 1766 0 \nQ 1100 0 847 248 \nQ 594 497 594 1153 \nL 594 3053 \nL 172 3053 \nL 172 3500 \nL 594 3500 \nL 594 4494 \nL 1172 4494 \nz\n\" transform=\"scale(0.015625)\"/>\n       <path id=\"DejaVuSans-72\" d=\"M 2631 2963 \nQ 2534 3019 2420 3045 \nQ 2306 3072 2169 3072 \nQ 1681 3072 1420 2755 \nQ 1159 2438 1159 1844 \nL 1159 0 \nL 581 0 \nL 581 3500 \nL 1159 3500 \nL 1159 2956 \nQ 1341 3275 1631 3429 \nQ 1922 3584 2338 3584 \nQ 2397 3584 2469 3576 \nQ 2541 3569 2628 3553 \nL 2631 2963 \nz\n\" transform=\"scale(0.015625)\"/>\n       <path id=\"DejaVuSans-61\" d=\"M 2194 1759 \nQ 1497 1759 1228 1600 \nQ 959 1441 959 1056 \nQ 959 750 1161 570 \nQ 1363 391 1709 391 \nQ 2188 391 2477 730 \nQ 2766 1069 2766 1631 \nL 2766 1759 \nL 2194 1759 \nz\nM 3341 1997 \nL 3341 0 \nL 2766 0 \nL 2766 531 \nQ 2569 213 2275 61 \nQ 1981 -91 1556 -91 \nQ 1019 -91 701 211 \nQ 384 513 384 1019 \nQ 384 1609 779 1909 \nQ 1175 2209 1959 2209 \nL 2766 2209 \nL 2766 2266 \nQ 2766 2663 2505 2880 \nQ 2244 3097 1772 3097 \nQ 1472 3097 1187 3025 \nQ 903 2953 641 2809 \nL 641 3341 \nQ 956 3463 1253 3523 \nQ 1550 3584 1831 3584 \nQ 2591 3584 2966 3190 \nQ 3341 2797 3341 1997 \nz\n\" transform=\"scale(0.015625)\"/>\n       <path id=\"DejaVuSans-69\" d=\"M 603 3500 \nL 1178 3500 \nL 1178 0 \nL 603 0 \nL 603 3500 \nz\nM 603 4863 \nL 1178 4863 \nL 1178 4134 \nL 603 4134 \nL 603 4863 \nz\n\" transform=\"scale(0.015625)\"/>\n       <path id=\"DejaVuSans-6e\" d=\"M 3513 2113 \nL 3513 0 \nL 2938 0 \nL 2938 2094 \nQ 2938 2591 2744 2837 \nQ 2550 3084 2163 3084 \nQ 1697 3084 1428 2787 \nQ 1159 2491 1159 1978 \nL 1159 0 \nL 581 0 \nL 581 3500 \nL 1159 3500 \nL 1159 2956 \nQ 1366 3272 1645 3428 \nQ 1925 3584 2291 3584 \nQ 2894 3584 3203 3211 \nQ 3513 2838 3513 2113 \nz\n\" transform=\"scale(0.015625)\"/>\n       <path id=\"DejaVuSans-5f\" d=\"M 3263 -1063 \nL 3263 -1509 \nL -63 -1509 \nL -63 -1063 \nL 3263 -1063 \nz\n\" transform=\"scale(0.015625)\"/>\n       <path id=\"DejaVuSans-6c\" d=\"M 603 4863 \nL 1178 4863 \nL 1178 0 \nL 603 0 \nL 603 4863 \nz\n\" transform=\"scale(0.015625)\"/>\n       <path id=\"DejaVuSans-73\" d=\"M 2834 3397 \nL 2834 2853 \nQ 2591 2978 2328 3040 \nQ 2066 3103 1784 3103 \nQ 1356 3103 1142 2972 \nQ 928 2841 928 2578 \nQ 928 2378 1081 2264 \nQ 1234 2150 1697 2047 \nL 1894 2003 \nQ 2506 1872 2764 1633 \nQ 3022 1394 3022 966 \nQ 3022 478 2636 193 \nQ 2250 -91 1575 -91 \nQ 1294 -91 989 -36 \nQ 684 19 347 128 \nL 347 722 \nQ 666 556 975 473 \nQ 1284 391 1588 391 \nQ 1994 391 2212 530 \nQ 2431 669 2431 922 \nQ 2431 1156 2273 1281 \nQ 2116 1406 1581 1522 \nL 1381 1569 \nQ 847 1681 609 1914 \nQ 372 2147 372 2553 \nQ 372 3047 722 3315 \nQ 1072 3584 1716 3584 \nQ 2034 3584 2315 3537 \nQ 2597 3491 2834 3397 \nz\n\" transform=\"scale(0.015625)\"/>\n      </defs>\n      <use xlink:href=\"#DejaVuSans-74\"/>\n      <use xlink:href=\"#DejaVuSans-72\" x=\"39.208984\"/>\n      <use xlink:href=\"#DejaVuSans-61\" x=\"80.322266\"/>\n      <use xlink:href=\"#DejaVuSans-69\" x=\"141.601562\"/>\n      <use xlink:href=\"#DejaVuSans-6e\" x=\"169.384766\"/>\n      <use xlink:href=\"#DejaVuSans-5f\" x=\"232.763672\"/>\n      <use xlink:href=\"#DejaVuSans-6c\" x=\"282.763672\"/>\n      <use xlink:href=\"#DejaVuSans-6f\" x=\"310.546875\"/>\n      <use xlink:href=\"#DejaVuSans-73\" x=\"371.728516\"/>\n      <use xlink:href=\"#DejaVuSans-73\" x=\"423.828125\"/>\n     </g>\n    </g>\n    <g id=\"line2d_129\">\n     <path d=\"M 89.957813 75.620313 \nL 99.957813 75.620313 \nL 109.957813 75.620313 \n\" style=\"fill: none; stroke-dasharray: 5.55,2.4; stroke-dashoffset: 0; stroke: #ff7f0e; stroke-width: 1.5\"/>\n    </g>\n    <g id=\"text_14\">\n     <!-- val_loss -->\n     <g transform=\"translate(117.957813 79.120313) scale(0.1 -0.1)\">\n      <defs>\n       <path id=\"DejaVuSans-76\" d=\"M 191 3500 \nL 800 3500 \nL 1894 563 \nL 2988 3500 \nL 3597 3500 \nL 2284 0 \nL 1503 0 \nL 191 3500 \nz\n\" transform=\"scale(0.015625)\"/>\n      </defs>\n      <use xlink:href=\"#DejaVuSans-76\"/>\n      <use xlink:href=\"#DejaVuSans-61\" x=\"59.179688\"/>\n      <use xlink:href=\"#DejaVuSans-6c\" x=\"120.458984\"/>\n      <use xlink:href=\"#DejaVuSans-5f\" x=\"148.242188\"/>\n      <use xlink:href=\"#DejaVuSans-6c\" x=\"198.242188\"/>\n      <use xlink:href=\"#DejaVuSans-6f\" x=\"226.025391\"/>\n      <use xlink:href=\"#DejaVuSans-73\" x=\"287.207031\"/>\n      <use xlink:href=\"#DejaVuSans-73\" x=\"339.306641\"/>\n     </g>\n    </g>\n    <g id=\"line2d_130\">\n     <path d=\"M 89.957813 90.576563 \nL 99.957813 90.576563 \nL 109.957813 90.576563 \n\" style=\"fill: none; stroke-dasharray: 9.6,2.4,1.5,2.4; stroke-dashoffset: 0; stroke: #2ca02c; stroke-width: 1.5\"/>\n    </g>\n    <g id=\"text_15\">\n     <!-- val_acc -->\n     <g transform=\"translate(117.957813 94.076563) scale(0.1 -0.1)\">\n      <use xlink:href=\"#DejaVuSans-76\"/>\n      <use xlink:href=\"#DejaVuSans-61\" x=\"59.179688\"/>\n      <use xlink:href=\"#DejaVuSans-6c\" x=\"120.458984\"/>\n      <use xlink:href=\"#DejaVuSans-5f\" x=\"148.242188\"/>\n      <use xlink:href=\"#DejaVuSans-61\" x=\"198.242188\"/>\n      <use xlink:href=\"#DejaVuSans-63\" x=\"259.521484\"/>\n      <use xlink:href=\"#DejaVuSans-63\" x=\"314.501953\"/>\n     </g>\n    </g>\n   </g>\n  </g>\n </g>\n <defs>\n  <clipPath id=\"pb501bb60f0\">\n   <rect x=\"30.103125\" y=\"7.2\" width=\"195.3\" height=\"138.6\"/>\n  </clipPath>\n </defs>\n</svg>\n"
          },
          "metadata": {}
        }
      ]
    },
    {
      "cell_type": "code",
      "source": [
        "class ResNeXtBlock(nn.Module):  #save\n",
        "    \"\"\"The ResNeXt block.\"\"\"\n",
        "    def __init__(self, num_channels, groups, bot_mul, use_1x1conv=False,\n",
        "                 strides=1):\n",
        "        super().__init__()\n",
        "        bot_channels = int(round(num_channels * bot_mul))\n",
        "        self.conv1 = nn.LazyConv2d(bot_channels, kernel_size=1, stride=1)\n",
        "        self.conv2 = nn.LazyConv2d(bot_channels, kernel_size=3,\n",
        "                                   stride=strides, padding=1,\n",
        "                                   groups=bot_channels//groups)\n",
        "        self.conv3 = nn.LazyConv2d(num_channels, kernel_size=1, stride=1)\n",
        "        self.bn1 = nn.LazyBatchNorm2d()\n",
        "        self.bn2 = nn.LazyBatchNorm2d()\n",
        "        self.bn3 = nn.LazyBatchNorm2d()\n",
        "        if use_1x1conv:\n",
        "            self.conv4 = nn.LazyConv2d(num_channels, kernel_size=1,\n",
        "                                       stride=strides)\n",
        "            self.bn4 = nn.LazyBatchNorm2d()\n",
        "        else:\n",
        "            self.conv4 = None\n",
        "\n",
        "    def forward(self, X):\n",
        "        Y = F.relu(self.bn1(self.conv1(X)))\n",
        "        Y = F.relu(self.bn2(self.conv2(Y)))\n",
        "        Y = self.bn3(self.conv3(Y))\n",
        "        if self.conv4:\n",
        "            X = self.bn4(self.conv4(X))\n",
        "        return F.relu(Y + X)"
      ],
      "metadata": {
        "id": "rsy9aVAHAFqh"
      },
      "execution_count": 42,
      "outputs": []
    },
    {
      "cell_type": "code",
      "source": [
        "blk = ResNeXtBlock(32, 16, 1)\n",
        "X = torch.randn(4, 32, 96, 96)\n",
        "blk(X).shape"
      ],
      "metadata": {
        "id": "ETTsK9JcAIoW",
        "colab": {
          "base_uri": "https://localhost:8080/"
        },
        "outputId": "07fb22fb-c8f4-4d63-93e6-3a3820d8c859"
      },
      "execution_count": 43,
      "outputs": [
        {
          "output_type": "execute_result",
          "data": {
            "text/plain": [
              "torch.Size([4, 32, 96, 96])"
            ]
          },
          "metadata": {},
          "execution_count": 43
        }
      ]
    },
    {
      "cell_type": "markdown",
      "source": [
        "## EXERCISE"
      ],
      "metadata": {
        "id": "lcpk5VjZAOHj"
      }
    },
    {
      "cell_type": "markdown",
      "source": [
        "### 1. What are the major differences between the Inception block in Fig. 8.4.1 and the residual block? How do they compare in terms of computation, accuracy, and the classes of functions they can describe?\n",
        "\n",
        "Blok Inception dan blok residual adalah dua komponen arsitektur yang berbeda yang umum digunakan dalam jaringan saraf dalam untuk berbagai tugas, termasuk klasifikasi gambar.\n",
        "\n",
        "Perbandingan\n",
        "- Komputasi: Blok Inception lebih kompleks secara komputasi karena banyaknya operasi paralel, sedangkan blok residual lebih efisien dengan koneksi skip.\n",
        "- Akurasi: Kedua blok memiliki potensi untuk akurasi tinggi, tetapi blok residual lebih unggul dalam melatih jaringan yang sangat dalam.\n",
        "- Fungsi yang Dapat Dijelaskan: Blok Inception lebih baik dalam menangkap fitur multiskala, sedangkan blok residual lebih fokus pada pembelajaran transformasi residual."
      ],
      "metadata": {
        "id": "h8v-ILfgAPjM"
      }
    },
    {
      "cell_type": "markdown",
      "source": [
        "### 2. Refer to Table 1 in the ResNet paper (He et al., 2016) to implement different variants of the network."
      ],
      "metadata": {
        "id": "-EfJH4JgARUb"
      }
    },
    {
      "cell_type": "code",
      "source": [
        "import torch\n",
        "import torch.nn as nn\n",
        "from torch.nn import functional as F\n",
        "import sys\n",
        "sys.path.append('/home/jovyan/work/d2l_solutions/notebooks/exercises/d2l_utils/')\n",
        "import d2l\n",
        "\n",
        "class Residual(nn.Module):\n",
        "    def __init__(self, convs, conv_1x1_channel, strides=1):\n",
        "        super().__init__()\n",
        "        layers = []\n",
        "        for i,conv in enumerate(convs):\n",
        "            num_channels, kernel_size, padding = conv\n",
        "            conv_strides = 1 if i != 0 else strides\n",
        "            layers.append(nn.LazyConv2d(num_channels, kernel_size=3, padding=1, stride=conv_strides))\n",
        "            layers.append(nn.LazyBatchNorm2d())\n",
        "            layers.append(nn.ReLU())\n",
        "        self.net = nn.Sequential(*layers[:-1])\n",
        "        self.conv = None\n",
        "        if conv_1x1_channel:\n",
        "            self.conv = nn.LazyConv2d(conv_1x1_channel, kernel_size=1, stride=strides)\n",
        "\n",
        "\n",
        "    def forward(self, X):\n",
        "        Y = self.net(X)\n",
        "        if self.conv:\n",
        "            X = self.conv(X)\n",
        "        Y += X\n",
        "        return F.relu(Y)\n",
        "\n",
        "class ResNet(d2l.Classifier):\n",
        "    def block(self, num_residuals, convs, conv_1x1_channel, first_block=False):\n",
        "        blk = []\n",
        "        for i in range(num_residuals):\n",
        "            if i == 0 and not first_block:\n",
        "                blk.append(Residual(convs, conv_1x1_channel,strides=2))\n",
        "            else:\n",
        "                blk.append(Residual(convs, conv_1x1_channel))\n",
        "        return nn.Sequential(*blk)\n",
        "\n",
        "    def __init__(self, arch, lr=0.1, num_classes=10):\n",
        "        super().__init__()\n",
        "        self.save_hyperparameters()\n",
        "        self.net = nn.Sequential(\n",
        "            nn.LazyConv2d(64, kernel_size=7, stride=2, padding=3),\n",
        "            nn.LazyBatchNorm2d(), nn.ReLU(),\n",
        "            nn.MaxPool2d(kernel_size=3, stride=2, padding=1))\n",
        "        for i, b in enumerate(arch):\n",
        "            self.net.add_module(f'b{i+2}', self.block(*b, first_block=(i==0)))\n",
        "        self.net.add_module('last', nn.Sequential(\n",
        "            nn.AdaptiveAvgPool2d((1, 1)), nn.Flatten(),\n",
        "            nn.LazyLinear(num_classes)))\n",
        "        self.net.apply(d2l.init_cnn)\n",
        "\n",
        "def experiment(data, model):\n",
        "    model.apply_init([next(iter(data.get_dataloader(True)))[0]], d2l.init_cnn)\n",
        "    trainer = d2l.Trainer(max_epochs=10, num_gpus=1)\n",
        "    trainer.fit(model, data)\n",
        "    X,y = next(iter(data.get_dataloader(False)))\n",
        "    X = X.to('cuda')\n",
        "    y = y.to('cuda')\n",
        "    y_hat = model(X)\n",
        "    return model.accuracy(y_hat,y).item()"
      ],
      "metadata": {
        "id": "x7dyBBXxVJ4W"
      },
      "execution_count": null,
      "outputs": []
    },
    {
      "cell_type": "code",
      "source": [
        "data = d2l.FashionMNIST(batch_size=64, resize=(224, 224))\n",
        "arch18 = [(2,[(64,3,1)]*2,None),(2,[(128,3,1)]*2,None),(2,[(256,3,1)]*2,None),(2,[(512,3,1)]*2,None)]\n",
        "resnet18 = ResNet(arch=arch18, lr=0.01)\n",
        "# experiment(data, resnet18)"
      ],
      "metadata": {
        "id": "i9abs6mBVNyE"
      },
      "execution_count": null,
      "outputs": []
    },
    {
      "cell_type": "code",
      "source": [
        "arch34 = [(3,[(64,3,1)]*2,None),(4,[(128,3,1)]*2,None),(6,[(256,3,1)]*2,None),(3,[(512,3,1)]*2,None)]\n",
        "resnet34 = ResNet(arch=arch34, lr=0.01)\n",
        "experiment(data, resnet34)"
      ],
      "metadata": {
        "id": "YcjkblDFVQAw"
      },
      "execution_count": null,
      "outputs": []
    },
    {
      "cell_type": "markdown",
      "source": [
        "### 3. For deeper networks, ResNet introduces a “bottleneck” architecture to reduce model complexity. Try to implement it."
      ],
      "metadata": {
        "id": "dAcDaKPmAUYu"
      }
    },
    {
      "cell_type": "code",
      "source": [
        "arch50 = [(3,[(64,1,0),(64,3,1)],256),(4,[(128,1,0),(128,3,1)],512),(6,[(256,1,0),(256,3,1)],1024),(3,[(512,1,0),(512,3,1)],2048)]\n",
        "resnet50 = ResNet(arch=arch50, lr=0.01)\n",
        "experiment(data, resnet50)"
      ],
      "metadata": {
        "id": "sQCjLVxzqmI4"
      },
      "execution_count": null,
      "outputs": []
    },
    {
      "cell_type": "code",
      "source": [
        "arch101 = [(3,[(64,1,0),(64,3,1)],256),(4,[(128,1,0),(128,3,1)],512),(23,[(256,1,0),(256,3,1)],1024),(3,[(512,1,0),(512,3,1)],2048)]\n",
        "resnet101 = ResNet(arch=arch101, lr=0.01)\n",
        "experiment(data, resnet101)"
      ],
      "metadata": {
        "id": "JJUQbe6gqmtW"
      },
      "execution_count": null,
      "outputs": []
    },
    {
      "cell_type": "code",
      "source": [
        "arch152 = [(3,[(64,1,0),(64,3,1)],256),(8,[(128,1,0),(128,3,1)],512),(36,[(256,1,0),(256,3,1)],1024),(3,[(512,1,0),(512,3,1)],2048)]\n",
        "resnet152 = ResNet(arch=arch152, lr=0.01)\n",
        "experiment(data, resnet152)"
      ],
      "metadata": {
        "id": "84SuYrA9qoy5"
      },
      "execution_count": null,
      "outputs": []
    },
    {
      "cell_type": "markdown",
      "source": [
        "### 4. In subsequent versions of ResNet, the authors changed the “convolution, batch normalization, and activation” structure to the “batch normalization, activation, and convolution” structure. Make this improvement yourself. See Figure 1 in He et al. (2016) for details."
      ],
      "metadata": {
        "id": "UV8biNY8AXfG"
      }
    },
    {
      "cell_type": "code",
      "source": [
        "class SubResidual(nn.Module):\n",
        "    def __init__(self, convs, conv_1x1_channel, strides=1):\n",
        "        super().__init__()\n",
        "        layers = []\n",
        "        for i,conv in enumerate(convs):\n",
        "            num_channels, kernel_size, padding = conv\n",
        "            conv_strides = 1 if i != 0 else strides\n",
        "            layers.append(nn.LazyBatchNorm2d())\n",
        "            layers.append(nn.ReLU())\n",
        "            layers.append(nn.LazyConv2d(num_channels, kernel_size=3, padding=1, stride=conv_strides))\n",
        "        self.net = nn.Sequential(*layers[:-1])\n",
        "        self.conv = None\n",
        "        if conv_1x1_channel:\n",
        "            self.conv = nn.LazyConv2d(conv_1x1_channel, kernel_size=1, stride=strides)\n",
        "\n",
        "\n",
        "    def forward(self, X):\n",
        "        Y = self.net(X)\n",
        "        if self.conv:\n",
        "            X = self.conv(X)\n",
        "        Y += X\n",
        "        return F.relu(Y)\n",
        "\n",
        "class SubResNet(d2l.Classifier):\n",
        "    def block(self, num_residuals, convs, conv_1x1_channel, first_block=False):\n",
        "        blk = []\n",
        "        for i in range(num_residuals):\n",
        "            if i == 0 and not first_block:\n",
        "                blk.append(SubResidual(convs, conv_1x1_channel,strides=2))\n",
        "            else:\n",
        "                blk.append(SubResidual(convs, conv_1x1_channel))\n",
        "        return nn.Sequential(*blk)\n",
        "\n",
        "    def __init__(self, arch, lr=0.1, num_classes=10):\n",
        "        super().__init__()\n",
        "        self.save_hyperparameters()\n",
        "        self.net = nn.Sequential(\n",
        "            nn.LazyConv2d(64, kernel_size=7, stride=2, padding=3),\n",
        "            nn.LazyBatchNorm2d(), nn.ReLU(),\n",
        "            nn.MaxPool2d(kernel_size=3, stride=2, padding=1))\n",
        "        for i, b in enumerate(arch):\n",
        "            self.net.add_module(f'b{i+2}', self.block(*b, first_block=(i==0)))\n",
        "        self.net.add_module('last', nn.Sequential(\n",
        "            nn.AdaptiveAvgPool2d((1, 1)), nn.Flatten(),\n",
        "            nn.LazyLinear(num_classes)))\n",
        "        self.net.apply(d2l.init_cnn)"
      ],
      "metadata": {
        "id": "CBpLc9aEqxmP"
      },
      "execution_count": null,
      "outputs": []
    },
    {
      "cell_type": "code",
      "source": [
        "arch18 = [(2,[(64,3,1)]*2,None),(2,[(128,3,1)]*2,None),(2,[(256,3,1)]*2,None),(2,[(512,3,1)]*2,None)]\n",
        "resnet18 = SubResNet(arch=arch18, lr=0.01)\n",
        "experiment(data, resnet18)"
      ],
      "metadata": {
        "id": "B_kNnoEiqyHC"
      },
      "execution_count": null,
      "outputs": []
    },
    {
      "cell_type": "markdown",
      "source": [
        "### 5. Why can’t we just increase the complexity of functions without bound, even if the function classes are nested?\n",
        "\n",
        "Meningkatkan kompleksitas fungsi tanpa batas, bahkan dengan kelas fungsi yang ter-nested, dapat menyebabkan beberapa masalah\n",
        "- Meningkatkan kompleksitas model tanpa mempertimbangkan pola data yang sebenarnya dapat menyebabkan model menangkap noise dalam data pelatihan, sehingga performa model sangat baik pada data pelatihan tetapi buruk pada data yang belum terlihat.\n",
        "\n",
        "- Model yang kompleks dengan banyak parameter memerlukan lebih banyak sumber daya dan waktu untuk pelatihan dan inferensi, yang dapat menyebabkan tantangan praktis terkait waktu pelatihan, penggunaan memori, dan skala.\n",
        "\n",
        "- Meningkatkan kompleksitas model tidak selalu menghasilkan peningkatan performa yang sebanding. Ada titik di mana menambah kompleksitas hanya memberikan peningkatan akurasi yang marginal.\n",
        "\n",
        "- Tujuan utama model adalah untuk dapat menggeneralisasi dengan baik pada data baru. Jika model terlalu kompleks, ia mungkin terlalu terfokus pada data pelatihan dan gagal untuk menggeneralisasi pada contoh baru.\n",
        "\n",
        "- Tanpa teknik regularisasi yang tepat, peningkatan kompleksitas dapat memperburuk overfitting. Regularisasi membantu mengontrol kompleksitas model dan mencegah overfitting.\n",
        "\n",
        "- Model yang sangat kompleks dapat menjadi sulit untuk dipahami, sehingga menyulitkan pemahaman proses pengambilan keputusan dan diagnosis masalah.\n",
        "\n",
        "- Model yang lebih sederhana seringkali lebih efisien dalam penggunaan data. Model yang sangat kompleks mungkin memerlukan banyak data pelatihan untuk dapat menggeneralisasi dengan baik.\n",
        "\n",
        "- Meningkatkan kompleksitas model memengaruhi keseimbangan antara bias (underfitting) dan varians (overfitting). Menemukan keseimbangan yang tepat sangat penting untuk performa yang baik.\n",
        "\n",
        "Daripada meningkatkan kompleksitas tanpa batas, lebih efektif untuk memilih arsitektur model yang menemukan keseimbangan yang tepat antara kapasitas dan generalisasi. Tujuannya adalah membangun model yang dapat menangkap pola dasar dalam data sambil menghindari overfitting dan ketidakefisienan komputasi."
      ],
      "metadata": {
        "id": "4INJqRxWAa1G"
      }
    },
    {
      "cell_type": "markdown",
      "source": [
        "# 8.7 Densely Connected Networks (DenseNet)"
      ],
      "metadata": {
        "id": "Sng1XB7dAeF5"
      }
    },
    {
      "cell_type": "code",
      "source": [
        "import torch\n",
        "from torch import nn\n",
        "from d2l import torch as d2l"
      ],
      "metadata": {
        "id": "NvSb2PKlAjWe"
      },
      "execution_count": 44,
      "outputs": []
    },
    {
      "cell_type": "code",
      "source": [
        "def conv_block(num_channels):\n",
        "    return nn.Sequential(\n",
        "        nn.LazyBatchNorm2d(), nn.ReLU(),\n",
        "        nn.LazyConv2d(num_channels, kernel_size=3, padding=1))"
      ],
      "metadata": {
        "id": "At3WPIZlAlv6"
      },
      "execution_count": 45,
      "outputs": []
    },
    {
      "cell_type": "code",
      "source": [
        "class DenseBlock(nn.Module):\n",
        "    def __init__(self, num_convs, num_channels):\n",
        "        super(DenseBlock, self).__init__()\n",
        "        layer = []\n",
        "        for i in range(num_convs):\n",
        "            layer.append(conv_block(num_channels))\n",
        "        self.net = nn.Sequential(*layer)\n",
        "\n",
        "    def forward(self, X):\n",
        "        for blk in self.net:\n",
        "            Y = blk(X)\n",
        "            # Concatenate input and output of each block along the channels\n",
        "            X = torch.cat((X, Y), dim=1)\n",
        "        return X"
      ],
      "metadata": {
        "id": "-NnFRk1rAoHF"
      },
      "execution_count": 46,
      "outputs": []
    },
    {
      "cell_type": "code",
      "source": [
        "blk = DenseBlock(2, 10)\n",
        "X = torch.randn(4, 3, 8, 8)\n",
        "Y = blk(X)\n",
        "Y.shape"
      ],
      "metadata": {
        "id": "O3wpWl2pAqow",
        "colab": {
          "base_uri": "https://localhost:8080/"
        },
        "outputId": "8c879e33-2112-4c66-cfeb-a7b552d8d551"
      },
      "execution_count": 47,
      "outputs": [
        {
          "output_type": "execute_result",
          "data": {
            "text/plain": [
              "torch.Size([4, 23, 8, 8])"
            ]
          },
          "metadata": {},
          "execution_count": 47
        }
      ]
    },
    {
      "cell_type": "code",
      "source": [
        "def transition_block(num_channels):\n",
        "    return nn.Sequential(\n",
        "        nn.LazyBatchNorm2d(), nn.ReLU(),\n",
        "        nn.LazyConv2d(num_channels, kernel_size=1),\n",
        "        nn.AvgPool2d(kernel_size=2, stride=2))"
      ],
      "metadata": {
        "id": "0nDvX0ZaAsr9"
      },
      "execution_count": 48,
      "outputs": []
    },
    {
      "cell_type": "code",
      "source": [
        "blk = transition_block(10)\n",
        "blk(Y).shape"
      ],
      "metadata": {
        "id": "v3DXOwIAAugl",
        "colab": {
          "base_uri": "https://localhost:8080/"
        },
        "outputId": "6c8c6747-b3e9-4b2b-dca8-5b296412615c"
      },
      "execution_count": 49,
      "outputs": [
        {
          "output_type": "execute_result",
          "data": {
            "text/plain": [
              "torch.Size([4, 10, 4, 4])"
            ]
          },
          "metadata": {},
          "execution_count": 49
        }
      ]
    },
    {
      "cell_type": "code",
      "source": [
        "class DenseNet(d2l.Classifier):\n",
        "    def b1(self):\n",
        "        return nn.Sequential(\n",
        "            nn.LazyConv2d(64, kernel_size=7, stride=2, padding=3),\n",
        "            nn.LazyBatchNorm2d(), nn.ReLU(),\n",
        "            nn.MaxPool2d(kernel_size=3, stride=2, padding=1))"
      ],
      "metadata": {
        "id": "p91TDpfIAwbv"
      },
      "execution_count": 50,
      "outputs": []
    },
    {
      "cell_type": "code",
      "source": [
        "@d2l.add_to_class(DenseNet)\n",
        "def __init__(self, num_channels=64, growth_rate=32, arch=(4, 4, 4, 4),\n",
        "             lr=0.1, num_classes=10):\n",
        "    super(DenseNet, self).__init__()\n",
        "    self.save_hyperparameters()\n",
        "    self.net = nn.Sequential(self.b1())\n",
        "    for i, num_convs in enumerate(arch):\n",
        "        self.net.add_module(f'dense_blk{i+1}', DenseBlock(num_convs,\n",
        "                                                          growth_rate))\n",
        "        # The number of output channels in the previous dense block\n",
        "        num_channels += num_convs * growth_rate\n",
        "        # A transition layer that halves the number of channels is added\n",
        "        # between the dense blocks\n",
        "        if i != len(arch) - 1:\n",
        "            num_channels //= 2\n",
        "            self.net.add_module(f'tran_blk{i+1}', transition_block(\n",
        "                num_channels))\n",
        "    self.net.add_module('last', nn.Sequential(\n",
        "        nn.LazyBatchNorm2d(), nn.ReLU(),\n",
        "        nn.AdaptiveAvgPool2d((1, 1)), nn.Flatten(),\n",
        "        nn.LazyLinear(num_classes)))\n",
        "    self.net.apply(d2l.init_cnn)"
      ],
      "metadata": {
        "id": "90RkA5TIAyWU"
      },
      "execution_count": 51,
      "outputs": []
    },
    {
      "cell_type": "code",
      "source": [
        "model = DenseNet(lr=0.01)\n",
        "trainer = d2l.Trainer(max_epochs=10, num_gpus=1)\n",
        "data = d2l.FashionMNIST(batch_size=128, resize=(96, 96))\n",
        "trainer.fit(model, data)"
      ],
      "metadata": {
        "id": "BIuROla3A0SQ",
        "colab": {
          "base_uri": "https://localhost:8080/",
          "height": 265
        },
        "outputId": "307b8b58-729a-48d2-82cd-fe108712f5b0"
      },
      "execution_count": 52,
      "outputs": [
        {
          "output_type": "display_data",
          "data": {
            "text/plain": [
              "<Figure size 350x250 with 1 Axes>"
            ],
            "image/svg+xml": "<?xml version=\"1.0\" encoding=\"utf-8\" standalone=\"no\"?>\n<!DOCTYPE svg PUBLIC \"-//W3C//DTD SVG 1.1//EN\"\n  \"http://www.w3.org/Graphics/SVG/1.1/DTD/svg11.dtd\">\n<svg xmlns:xlink=\"http://www.w3.org/1999/xlink\" width=\"238.965625pt\" height=\"183.35625pt\" viewBox=\"0 0 238.965625 183.35625\" xmlns=\"http://www.w3.org/2000/svg\" version=\"1.1\">\n <metadata>\n  <rdf:RDF xmlns:dc=\"http://purl.org/dc/elements/1.1/\" xmlns:cc=\"http://creativecommons.org/ns#\" xmlns:rdf=\"http://www.w3.org/1999/02/22-rdf-syntax-ns#\">\n   <cc:Work>\n    <dc:type rdf:resource=\"http://purl.org/dc/dcmitype/StillImage\"/>\n    <dc:date>2024-10-04T15:02:43.424832</dc:date>\n    <dc:format>image/svg+xml</dc:format>\n    <dc:creator>\n     <cc:Agent>\n      <dc:title>Matplotlib v3.7.2, https://matplotlib.org/</dc:title>\n     </cc:Agent>\n    </dc:creator>\n   </cc:Work>\n  </rdf:RDF>\n </metadata>\n <defs>\n  <style type=\"text/css\">*{stroke-linejoin: round; stroke-linecap: butt}</style>\n </defs>\n <g id=\"figure_1\">\n  <g id=\"patch_1\">\n   <path d=\"M 0 183.35625 \nL 238.965625 183.35625 \nL 238.965625 0 \nL 0 0 \nz\n\" style=\"fill: #ffffff\"/>\n  </g>\n  <g id=\"axes_1\">\n   <g id=\"patch_2\">\n    <path d=\"M 30.103125 145.8 \nL 225.403125 145.8 \nL 225.403125 7.2 \nL 30.103125 7.2 \nz\n\" style=\"fill: #ffffff\"/>\n   </g>\n   <g id=\"matplotlib.axis_1\">\n    <g id=\"xtick_1\">\n     <g id=\"line2d_1\">\n      <defs>\n       <path id=\"md9b1d66e28\" d=\"M 0 0 \nL 0 3.5 \n\" style=\"stroke: #000000; stroke-width: 0.8\"/>\n      </defs>\n      <g>\n       <use xlink:href=\"#md9b1d66e28\" x=\"30.103125\" y=\"145.8\" style=\"stroke: #000000; stroke-width: 0.8\"/>\n      </g>\n     </g>\n     <g id=\"text_1\">\n      <!-- 0 -->\n      <g transform=\"translate(26.921875 160.398438) scale(0.1 -0.1)\">\n       <defs>\n        <path id=\"DejaVuSans-30\" d=\"M 2034 4250 \nQ 1547 4250 1301 3770 \nQ 1056 3291 1056 2328 \nQ 1056 1369 1301 889 \nQ 1547 409 2034 409 \nQ 2525 409 2770 889 \nQ 3016 1369 3016 2328 \nQ 3016 3291 2770 3770 \nQ 2525 4250 2034 4250 \nz\nM 2034 4750 \nQ 2819 4750 3233 4129 \nQ 3647 3509 3647 2328 \nQ 3647 1150 3233 529 \nQ 2819 -91 2034 -91 \nQ 1250 -91 836 529 \nQ 422 1150 422 2328 \nQ 422 3509 836 4129 \nQ 1250 4750 2034 4750 \nz\n\" transform=\"scale(0.015625)\"/>\n       </defs>\n       <use xlink:href=\"#DejaVuSans-30\"/>\n      </g>\n     </g>\n    </g>\n    <g id=\"xtick_2\">\n     <g id=\"line2d_2\">\n      <g>\n       <use xlink:href=\"#md9b1d66e28\" x=\"69.163125\" y=\"145.8\" style=\"stroke: #000000; stroke-width: 0.8\"/>\n      </g>\n     </g>\n     <g id=\"text_2\">\n      <!-- 2 -->\n      <g transform=\"translate(65.981875 160.398438) scale(0.1 -0.1)\">\n       <defs>\n        <path id=\"DejaVuSans-32\" d=\"M 1228 531 \nL 3431 531 \nL 3431 0 \nL 469 0 \nL 469 531 \nQ 828 903 1448 1529 \nQ 2069 2156 2228 2338 \nQ 2531 2678 2651 2914 \nQ 2772 3150 2772 3378 \nQ 2772 3750 2511 3984 \nQ 2250 4219 1831 4219 \nQ 1534 4219 1204 4116 \nQ 875 4013 500 3803 \nL 500 4441 \nQ 881 4594 1212 4672 \nQ 1544 4750 1819 4750 \nQ 2544 4750 2975 4387 \nQ 3406 4025 3406 3419 \nQ 3406 3131 3298 2873 \nQ 3191 2616 2906 2266 \nQ 2828 2175 2409 1742 \nQ 1991 1309 1228 531 \nz\n\" transform=\"scale(0.015625)\"/>\n       </defs>\n       <use xlink:href=\"#DejaVuSans-32\"/>\n      </g>\n     </g>\n    </g>\n    <g id=\"xtick_3\">\n     <g id=\"line2d_3\">\n      <g>\n       <use xlink:href=\"#md9b1d66e28\" x=\"108.223125\" y=\"145.8\" style=\"stroke: #000000; stroke-width: 0.8\"/>\n      </g>\n     </g>\n     <g id=\"text_3\">\n      <!-- 4 -->\n      <g transform=\"translate(105.041875 160.398438) scale(0.1 -0.1)\">\n       <defs>\n        <path id=\"DejaVuSans-34\" d=\"M 2419 4116 \nL 825 1625 \nL 2419 1625 \nL 2419 4116 \nz\nM 2253 4666 \nL 3047 4666 \nL 3047 1625 \nL 3713 1625 \nL 3713 1100 \nL 3047 1100 \nL 3047 0 \nL 2419 0 \nL 2419 1100 \nL 313 1100 \nL 313 1709 \nL 2253 4666 \nz\n\" transform=\"scale(0.015625)\"/>\n       </defs>\n       <use xlink:href=\"#DejaVuSans-34\"/>\n      </g>\n     </g>\n    </g>\n    <g id=\"xtick_4\">\n     <g id=\"line2d_4\">\n      <g>\n       <use xlink:href=\"#md9b1d66e28\" x=\"147.283125\" y=\"145.8\" style=\"stroke: #000000; stroke-width: 0.8\"/>\n      </g>\n     </g>\n     <g id=\"text_4\">\n      <!-- 6 -->\n      <g transform=\"translate(144.101875 160.398438) scale(0.1 -0.1)\">\n       <defs>\n        <path id=\"DejaVuSans-36\" d=\"M 2113 2584 \nQ 1688 2584 1439 2293 \nQ 1191 2003 1191 1497 \nQ 1191 994 1439 701 \nQ 1688 409 2113 409 \nQ 2538 409 2786 701 \nQ 3034 994 3034 1497 \nQ 3034 2003 2786 2293 \nQ 2538 2584 2113 2584 \nz\nM 3366 4563 \nL 3366 3988 \nQ 3128 4100 2886 4159 \nQ 2644 4219 2406 4219 \nQ 1781 4219 1451 3797 \nQ 1122 3375 1075 2522 \nQ 1259 2794 1537 2939 \nQ 1816 3084 2150 3084 \nQ 2853 3084 3261 2657 \nQ 3669 2231 3669 1497 \nQ 3669 778 3244 343 \nQ 2819 -91 2113 -91 \nQ 1303 -91 875 529 \nQ 447 1150 447 2328 \nQ 447 3434 972 4092 \nQ 1497 4750 2381 4750 \nQ 2619 4750 2861 4703 \nQ 3103 4656 3366 4563 \nz\n\" transform=\"scale(0.015625)\"/>\n       </defs>\n       <use xlink:href=\"#DejaVuSans-36\"/>\n      </g>\n     </g>\n    </g>\n    <g id=\"xtick_5\">\n     <g id=\"line2d_5\">\n      <g>\n       <use xlink:href=\"#md9b1d66e28\" x=\"186.343125\" y=\"145.8\" style=\"stroke: #000000; stroke-width: 0.8\"/>\n      </g>\n     </g>\n     <g id=\"text_5\">\n      <!-- 8 -->\n      <g transform=\"translate(183.161875 160.398438) scale(0.1 -0.1)\">\n       <defs>\n        <path id=\"DejaVuSans-38\" d=\"M 2034 2216 \nQ 1584 2216 1326 1975 \nQ 1069 1734 1069 1313 \nQ 1069 891 1326 650 \nQ 1584 409 2034 409 \nQ 2484 409 2743 651 \nQ 3003 894 3003 1313 \nQ 3003 1734 2745 1975 \nQ 2488 2216 2034 2216 \nz\nM 1403 2484 \nQ 997 2584 770 2862 \nQ 544 3141 544 3541 \nQ 544 4100 942 4425 \nQ 1341 4750 2034 4750 \nQ 2731 4750 3128 4425 \nQ 3525 4100 3525 3541 \nQ 3525 3141 3298 2862 \nQ 3072 2584 2669 2484 \nQ 3125 2378 3379 2068 \nQ 3634 1759 3634 1313 \nQ 3634 634 3220 271 \nQ 2806 -91 2034 -91 \nQ 1263 -91 848 271 \nQ 434 634 434 1313 \nQ 434 1759 690 2068 \nQ 947 2378 1403 2484 \nz\nM 1172 3481 \nQ 1172 3119 1398 2916 \nQ 1625 2713 2034 2713 \nQ 2441 2713 2670 2916 \nQ 2900 3119 2900 3481 \nQ 2900 3844 2670 4047 \nQ 2441 4250 2034 4250 \nQ 1625 4250 1398 4047 \nQ 1172 3844 1172 3481 \nz\n\" transform=\"scale(0.015625)\"/>\n       </defs>\n       <use xlink:href=\"#DejaVuSans-38\"/>\n      </g>\n     </g>\n    </g>\n    <g id=\"xtick_6\">\n     <g id=\"line2d_6\">\n      <g>\n       <use xlink:href=\"#md9b1d66e28\" x=\"225.403125\" y=\"145.8\" style=\"stroke: #000000; stroke-width: 0.8\"/>\n      </g>\n     </g>\n     <g id=\"text_6\">\n      <!-- 10 -->\n      <g transform=\"translate(219.040625 160.398438) scale(0.1 -0.1)\">\n       <defs>\n        <path id=\"DejaVuSans-31\" d=\"M 794 531 \nL 1825 531 \nL 1825 4091 \nL 703 3866 \nL 703 4441 \nL 1819 4666 \nL 2450 4666 \nL 2450 531 \nL 3481 531 \nL 3481 0 \nL 794 0 \nL 794 531 \nz\n\" transform=\"scale(0.015625)\"/>\n       </defs>\n       <use xlink:href=\"#DejaVuSans-31\"/>\n       <use xlink:href=\"#DejaVuSans-30\" x=\"63.623047\"/>\n      </g>\n     </g>\n    </g>\n    <g id=\"text_7\">\n     <!-- epoch -->\n     <g transform=\"translate(112.525 174.076563) scale(0.1 -0.1)\">\n      <defs>\n       <path id=\"DejaVuSans-65\" d=\"M 3597 1894 \nL 3597 1613 \nL 953 1613 \nQ 991 1019 1311 708 \nQ 1631 397 2203 397 \nQ 2534 397 2845 478 \nQ 3156 559 3463 722 \nL 3463 178 \nQ 3153 47 2828 -22 \nQ 2503 -91 2169 -91 \nQ 1331 -91 842 396 \nQ 353 884 353 1716 \nQ 353 2575 817 3079 \nQ 1281 3584 2069 3584 \nQ 2775 3584 3186 3129 \nQ 3597 2675 3597 1894 \nz\nM 3022 2063 \nQ 3016 2534 2758 2815 \nQ 2500 3097 2075 3097 \nQ 1594 3097 1305 2825 \nQ 1016 2553 972 2059 \nL 3022 2063 \nz\n\" transform=\"scale(0.015625)\"/>\n       <path id=\"DejaVuSans-70\" d=\"M 1159 525 \nL 1159 -1331 \nL 581 -1331 \nL 581 3500 \nL 1159 3500 \nL 1159 2969 \nQ 1341 3281 1617 3432 \nQ 1894 3584 2278 3584 \nQ 2916 3584 3314 3078 \nQ 3713 2572 3713 1747 \nQ 3713 922 3314 415 \nQ 2916 -91 2278 -91 \nQ 1894 -91 1617 61 \nQ 1341 213 1159 525 \nz\nM 3116 1747 \nQ 3116 2381 2855 2742 \nQ 2594 3103 2138 3103 \nQ 1681 3103 1420 2742 \nQ 1159 2381 1159 1747 \nQ 1159 1113 1420 752 \nQ 1681 391 2138 391 \nQ 2594 391 2855 752 \nQ 3116 1113 3116 1747 \nz\n\" transform=\"scale(0.015625)\"/>\n       <path id=\"DejaVuSans-6f\" d=\"M 1959 3097 \nQ 1497 3097 1228 2736 \nQ 959 2375 959 1747 \nQ 959 1119 1226 758 \nQ 1494 397 1959 397 \nQ 2419 397 2687 759 \nQ 2956 1122 2956 1747 \nQ 2956 2369 2687 2733 \nQ 2419 3097 1959 3097 \nz\nM 1959 3584 \nQ 2709 3584 3137 3096 \nQ 3566 2609 3566 1747 \nQ 3566 888 3137 398 \nQ 2709 -91 1959 -91 \nQ 1206 -91 779 398 \nQ 353 888 353 1747 \nQ 353 2609 779 3096 \nQ 1206 3584 1959 3584 \nz\n\" transform=\"scale(0.015625)\"/>\n       <path id=\"DejaVuSans-63\" d=\"M 3122 3366 \nL 3122 2828 \nQ 2878 2963 2633 3030 \nQ 2388 3097 2138 3097 \nQ 1578 3097 1268 2742 \nQ 959 2388 959 1747 \nQ 959 1106 1268 751 \nQ 1578 397 2138 397 \nQ 2388 397 2633 464 \nQ 2878 531 3122 666 \nL 3122 134 \nQ 2881 22 2623 -34 \nQ 2366 -91 2075 -91 \nQ 1284 -91 818 406 \nQ 353 903 353 1747 \nQ 353 2603 823 3093 \nQ 1294 3584 2113 3584 \nQ 2378 3584 2631 3529 \nQ 2884 3475 3122 3366 \nz\n\" transform=\"scale(0.015625)\"/>\n       <path id=\"DejaVuSans-68\" d=\"M 3513 2113 \nL 3513 0 \nL 2938 0 \nL 2938 2094 \nQ 2938 2591 2744 2837 \nQ 2550 3084 2163 3084 \nQ 1697 3084 1428 2787 \nQ 1159 2491 1159 1978 \nL 1159 0 \nL 581 0 \nL 581 4863 \nL 1159 4863 \nL 1159 2956 \nQ 1366 3272 1645 3428 \nQ 1925 3584 2291 3584 \nQ 2894 3584 3203 3211 \nQ 3513 2838 3513 2113 \nz\n\" transform=\"scale(0.015625)\"/>\n      </defs>\n      <use xlink:href=\"#DejaVuSans-65\"/>\n      <use xlink:href=\"#DejaVuSans-70\" x=\"61.523438\"/>\n      <use xlink:href=\"#DejaVuSans-6f\" x=\"125\"/>\n      <use xlink:href=\"#DejaVuSans-63\" x=\"186.181641\"/>\n      <use xlink:href=\"#DejaVuSans-68\" x=\"241.162109\"/>\n     </g>\n    </g>\n   </g>\n   <g id=\"matplotlib.axis_2\">\n    <g id=\"ytick_1\">\n     <g id=\"line2d_7\">\n      <defs>\n       <path id=\"mf022a2be4e\" d=\"M 0 0 \nL -3.5 0 \n\" style=\"stroke: #000000; stroke-width: 0.8\"/>\n      </defs>\n      <g>\n       <use xlink:href=\"#mf022a2be4e\" x=\"30.103125\" y=\"131.894058\" style=\"stroke: #000000; stroke-width: 0.8\"/>\n      </g>\n     </g>\n     <g id=\"text_8\">\n      <!-- 0.2 -->\n      <g transform=\"translate(7.2 135.693277) scale(0.1 -0.1)\">\n       <defs>\n        <path id=\"DejaVuSans-2e\" d=\"M 684 794 \nL 1344 794 \nL 1344 0 \nL 684 0 \nL 684 794 \nz\n\" transform=\"scale(0.015625)\"/>\n       </defs>\n       <use xlink:href=\"#DejaVuSans-30\"/>\n       <use xlink:href=\"#DejaVuSans-2e\" x=\"63.623047\"/>\n       <use xlink:href=\"#DejaVuSans-32\" x=\"95.410156\"/>\n      </g>\n     </g>\n    </g>\n    <g id=\"ytick_2\">\n     <g id=\"line2d_8\">\n      <g>\n       <use xlink:href=\"#mf022a2be4e\" x=\"30.103125\" y=\"98.77464\" style=\"stroke: #000000; stroke-width: 0.8\"/>\n      </g>\n     </g>\n     <g id=\"text_9\">\n      <!-- 0.4 -->\n      <g transform=\"translate(7.2 102.573859) scale(0.1 -0.1)\">\n       <use xlink:href=\"#DejaVuSans-30\"/>\n       <use xlink:href=\"#DejaVuSans-2e\" x=\"63.623047\"/>\n       <use xlink:href=\"#DejaVuSans-34\" x=\"95.410156\"/>\n      </g>\n     </g>\n    </g>\n    <g id=\"ytick_3\">\n     <g id=\"line2d_9\">\n      <g>\n       <use xlink:href=\"#mf022a2be4e\" x=\"30.103125\" y=\"65.655222\" style=\"stroke: #000000; stroke-width: 0.8\"/>\n      </g>\n     </g>\n     <g id=\"text_10\">\n      <!-- 0.6 -->\n      <g transform=\"translate(7.2 69.454441) scale(0.1 -0.1)\">\n       <use xlink:href=\"#DejaVuSans-30\"/>\n       <use xlink:href=\"#DejaVuSans-2e\" x=\"63.623047\"/>\n       <use xlink:href=\"#DejaVuSans-36\" x=\"95.410156\"/>\n      </g>\n     </g>\n    </g>\n    <g id=\"ytick_4\">\n     <g id=\"line2d_10\">\n      <g>\n       <use xlink:href=\"#mf022a2be4e\" x=\"30.103125\" y=\"32.535805\" style=\"stroke: #000000; stroke-width: 0.8\"/>\n      </g>\n     </g>\n     <g id=\"text_11\">\n      <!-- 0.8 -->\n      <g transform=\"translate(7.2 36.335023) scale(0.1 -0.1)\">\n       <use xlink:href=\"#DejaVuSans-30\"/>\n       <use xlink:href=\"#DejaVuSans-2e\" x=\"63.623047\"/>\n       <use xlink:href=\"#DejaVuSans-38\" x=\"95.410156\"/>\n      </g>\n     </g>\n    </g>\n   </g>\n   <g id=\"line2d_11\">\n    <path d=\"M 34.954394 16.328927 \n\" clip-path=\"url(#p0e9650fa00)\" style=\"fill: none; stroke: #1f77b4; stroke-width: 1.5; stroke-linecap: square\"/>\n   </g>\n   <g id=\"line2d_12\">\n    <path d=\"M 34.954394 16.328927 \nL 44.698573 89.629864 \n\" clip-path=\"url(#p0e9650fa00)\" style=\"fill: none; stroke: #1f77b4; stroke-width: 1.5; stroke-linecap: square\"/>\n   </g>\n   <g id=\"line2d_13\">\n    <path d=\"M 34.954394 16.328927 \nL 44.698573 89.629864 \n\" clip-path=\"url(#p0e9650fa00)\" style=\"fill: none; stroke: #1f77b4; stroke-width: 1.5; stroke-linecap: square\"/>\n   </g>\n   <g id=\"line2d_14\">\n    <path d=\"M 49.633125 91.22987 \n\" clip-path=\"url(#p0e9650fa00)\" style=\"fill: none; stroke-dasharray: 5.55,2.4; stroke-dashoffset: 0; stroke: #ff7f0e; stroke-width: 1.5\"/>\n   </g>\n   <g id=\"line2d_15\"/>\n   <g id=\"line2d_16\">\n    <path d=\"M 34.954394 16.328927 \nL 44.698573 89.629864 \n\" clip-path=\"url(#p0e9650fa00)\" style=\"fill: none; stroke: #1f77b4; stroke-width: 1.5; stroke-linecap: square\"/>\n   </g>\n   <g id=\"line2d_17\">\n    <path d=\"M 49.633125 91.22987 \n\" clip-path=\"url(#p0e9650fa00)\" style=\"fill: none; stroke-dasharray: 5.55,2.4; stroke-dashoffset: 0; stroke: #ff7f0e; stroke-width: 1.5\"/>\n   </g>\n   <g id=\"line2d_18\">\n    <path d=\"M 49.633125 24.259225 \n\" clip-path=\"url(#p0e9650fa00)\" style=\"fill: none; stroke-dasharray: 9.6,2.4,1.5,2.4; stroke-dashoffset: 0; stroke: #2ca02c; stroke-width: 1.5\"/>\n   </g>\n   <g id=\"line2d_19\">\n    <path d=\"M 34.954394 16.328927 \nL 44.698573 89.629864 \nL 54.442752 106.144352 \n\" clip-path=\"url(#p0e9650fa00)\" style=\"fill: none; stroke: #1f77b4; stroke-width: 1.5; stroke-linecap: square\"/>\n   </g>\n   <g id=\"line2d_20\">\n    <path d=\"M 49.633125 91.22987 \n\" clip-path=\"url(#p0e9650fa00)\" style=\"fill: none; stroke-dasharray: 5.55,2.4; stroke-dashoffset: 0; stroke: #ff7f0e; stroke-width: 1.5\"/>\n   </g>\n   <g id=\"line2d_21\">\n    <path d=\"M 49.633125 24.259225 \n\" clip-path=\"url(#p0e9650fa00)\" style=\"fill: none; stroke-dasharray: 9.6,2.4,1.5,2.4; stroke-dashoffset: 0; stroke: #2ca02c; stroke-width: 1.5\"/>\n   </g>\n   <g id=\"line2d_22\">\n    <path d=\"M 34.954394 16.328927 \nL 44.698573 89.629864 \nL 54.442752 106.144352 \nL 64.186931 111.784113 \n\" clip-path=\"url(#p0e9650fa00)\" style=\"fill: none; stroke: #1f77b4; stroke-width: 1.5; stroke-linecap: square\"/>\n   </g>\n   <g id=\"line2d_23\">\n    <path d=\"M 49.633125 91.22987 \n\" clip-path=\"url(#p0e9650fa00)\" style=\"fill: none; stroke-dasharray: 5.55,2.4; stroke-dashoffset: 0; stroke: #ff7f0e; stroke-width: 1.5\"/>\n   </g>\n   <g id=\"line2d_24\">\n    <path d=\"M 49.633125 24.259225 \n\" clip-path=\"url(#p0e9650fa00)\" style=\"fill: none; stroke-dasharray: 9.6,2.4,1.5,2.4; stroke-dashoffset: 0; stroke: #2ca02c; stroke-width: 1.5\"/>\n   </g>\n   <g id=\"line2d_25\">\n    <path d=\"M 34.954394 16.328927 \nL 44.698573 89.629864 \nL 54.442752 106.144352 \nL 64.186931 111.784113 \n\" clip-path=\"url(#p0e9650fa00)\" style=\"fill: none; stroke: #1f77b4; stroke-width: 1.5; stroke-linecap: square\"/>\n   </g>\n   <g id=\"line2d_26\">\n    <path d=\"M 49.633125 91.22987 \nL 69.163125 101.284391 \n\" clip-path=\"url(#p0e9650fa00)\" style=\"fill: none; stroke-dasharray: 5.55,2.4; stroke-dashoffset: 0; stroke: #ff7f0e; stroke-width: 1.5\"/>\n   </g>\n   <g id=\"line2d_27\">\n    <path d=\"M 49.633125 24.259225 \n\" clip-path=\"url(#p0e9650fa00)\" style=\"fill: none; stroke-dasharray: 9.6,2.4,1.5,2.4; stroke-dashoffset: 0; stroke: #2ca02c; stroke-width: 1.5\"/>\n   </g>\n   <g id=\"line2d_28\">\n    <path d=\"M 34.954394 16.328927 \nL 44.698573 89.629864 \nL 54.442752 106.144352 \nL 64.186931 111.784113 \n\" clip-path=\"url(#p0e9650fa00)\" style=\"fill: none; stroke: #1f77b4; stroke-width: 1.5; stroke-linecap: square\"/>\n   </g>\n   <g id=\"line2d_29\">\n    <path d=\"M 49.633125 91.22987 \nL 69.163125 101.284391 \n\" clip-path=\"url(#p0e9650fa00)\" style=\"fill: none; stroke-dasharray: 5.55,2.4; stroke-dashoffset: 0; stroke: #ff7f0e; stroke-width: 1.5\"/>\n   </g>\n   <g id=\"line2d_30\">\n    <path d=\"M 49.633125 24.259225 \nL 69.163125 21.7209 \n\" clip-path=\"url(#p0e9650fa00)\" style=\"fill: none; stroke-dasharray: 9.6,2.4,1.5,2.4; stroke-dashoffset: 0; stroke: #2ca02c; stroke-width: 1.5\"/>\n   </g>\n   <g id=\"line2d_31\">\n    <path d=\"M 34.954394 16.328927 \nL 44.698573 89.629864 \nL 54.442752 106.144352 \nL 64.186931 111.784113 \nL 73.93111 118.073188 \n\" clip-path=\"url(#p0e9650fa00)\" style=\"fill: none; stroke: #1f77b4; stroke-width: 1.5; stroke-linecap: square\"/>\n   </g>\n   <g id=\"line2d_32\">\n    <path d=\"M 49.633125 91.22987 \nL 69.163125 101.284391 \n\" clip-path=\"url(#p0e9650fa00)\" style=\"fill: none; stroke-dasharray: 5.55,2.4; stroke-dashoffset: 0; stroke: #ff7f0e; stroke-width: 1.5\"/>\n   </g>\n   <g id=\"line2d_33\">\n    <path d=\"M 49.633125 24.259225 \nL 69.163125 21.7209 \n\" clip-path=\"url(#p0e9650fa00)\" style=\"fill: none; stroke-dasharray: 9.6,2.4,1.5,2.4; stroke-dashoffset: 0; stroke: #2ca02c; stroke-width: 1.5\"/>\n   </g>\n   <g id=\"line2d_34\">\n    <path d=\"M 34.954394 16.328927 \nL 44.698573 89.629864 \nL 54.442752 106.144352 \nL 64.186931 111.784113 \nL 73.93111 118.073188 \nL 83.675289 119.198418 \n\" clip-path=\"url(#p0e9650fa00)\" style=\"fill: none; stroke: #1f77b4; stroke-width: 1.5; stroke-linecap: square\"/>\n   </g>\n   <g id=\"line2d_35\">\n    <path d=\"M 49.633125 91.22987 \nL 69.163125 101.284391 \n\" clip-path=\"url(#p0e9650fa00)\" style=\"fill: none; stroke-dasharray: 5.55,2.4; stroke-dashoffset: 0; stroke: #ff7f0e; stroke-width: 1.5\"/>\n   </g>\n   <g id=\"line2d_36\">\n    <path d=\"M 49.633125 24.259225 \nL 69.163125 21.7209 \n\" clip-path=\"url(#p0e9650fa00)\" style=\"fill: none; stroke-dasharray: 9.6,2.4,1.5,2.4; stroke-dashoffset: 0; stroke: #2ca02c; stroke-width: 1.5\"/>\n   </g>\n   <g id=\"line2d_37\">\n    <path d=\"M 34.954394 16.328927 \nL 44.698573 89.629864 \nL 54.442752 106.144352 \nL 64.186931 111.784113 \nL 73.93111 118.073188 \nL 83.675289 119.198418 \n\" clip-path=\"url(#p0e9650fa00)\" style=\"fill: none; stroke: #1f77b4; stroke-width: 1.5; stroke-linecap: square\"/>\n   </g>\n   <g id=\"line2d_38\">\n    <path d=\"M 49.633125 91.22987 \nL 69.163125 101.284391 \nL 88.693125 106.355638 \n\" clip-path=\"url(#p0e9650fa00)\" style=\"fill: none; stroke-dasharray: 5.55,2.4; stroke-dashoffset: 0; stroke: #ff7f0e; stroke-width: 1.5\"/>\n   </g>\n   <g id=\"line2d_39\">\n    <path d=\"M 49.633125 24.259225 \nL 69.163125 21.7209 \n\" clip-path=\"url(#p0e9650fa00)\" style=\"fill: none; stroke-dasharray: 9.6,2.4,1.5,2.4; stroke-dashoffset: 0; stroke: #2ca02c; stroke-width: 1.5\"/>\n   </g>\n   <g id=\"line2d_40\">\n    <path d=\"M 34.954394 16.328927 \nL 44.698573 89.629864 \nL 54.442752 106.144352 \nL 64.186931 111.784113 \nL 73.93111 118.073188 \nL 83.675289 119.198418 \n\" clip-path=\"url(#p0e9650fa00)\" style=\"fill: none; stroke: #1f77b4; stroke-width: 1.5; stroke-linecap: square\"/>\n   </g>\n   <g id=\"line2d_41\">\n    <path d=\"M 49.633125 91.22987 \nL 69.163125 101.284391 \nL 88.693125 106.355638 \n\" clip-path=\"url(#p0e9650fa00)\" style=\"fill: none; stroke-dasharray: 5.55,2.4; stroke-dashoffset: 0; stroke: #ff7f0e; stroke-width: 1.5\"/>\n   </g>\n   <g id=\"line2d_42\">\n    <path d=\"M 49.633125 24.259225 \nL 69.163125 21.7209 \nL 88.693125 20.427173 \n\" clip-path=\"url(#p0e9650fa00)\" style=\"fill: none; stroke-dasharray: 9.6,2.4,1.5,2.4; stroke-dashoffset: 0; stroke: #2ca02c; stroke-width: 1.5\"/>\n   </g>\n   <g id=\"line2d_43\">\n    <path d=\"M 34.954394 16.328927 \nL 44.698573 89.629864 \nL 54.442752 106.144352 \nL 64.186931 111.784113 \nL 73.93111 118.073188 \nL 83.675289 119.198418 \nL 93.419468 123.902349 \n\" clip-path=\"url(#p0e9650fa00)\" style=\"fill: none; stroke: #1f77b4; stroke-width: 1.5; stroke-linecap: square\"/>\n   </g>\n   <g id=\"line2d_44\">\n    <path d=\"M 49.633125 91.22987 \nL 69.163125 101.284391 \nL 88.693125 106.355638 \n\" clip-path=\"url(#p0e9650fa00)\" style=\"fill: none; stroke-dasharray: 5.55,2.4; stroke-dashoffset: 0; stroke: #ff7f0e; stroke-width: 1.5\"/>\n   </g>\n   <g id=\"line2d_45\">\n    <path d=\"M 49.633125 24.259225 \nL 69.163125 21.7209 \nL 88.693125 20.427173 \n\" clip-path=\"url(#p0e9650fa00)\" style=\"fill: none; stroke-dasharray: 9.6,2.4,1.5,2.4; stroke-dashoffset: 0; stroke: #2ca02c; stroke-width: 1.5\"/>\n   </g>\n   <g id=\"line2d_46\">\n    <path d=\"M 34.954394 16.328927 \nL 44.698573 89.629864 \nL 54.442752 106.144352 \nL 64.186931 111.784113 \nL 73.93111 118.073188 \nL 83.675289 119.198418 \nL 93.419468 123.902349 \nL 103.163647 123.969724 \n\" clip-path=\"url(#p0e9650fa00)\" style=\"fill: none; stroke: #1f77b4; stroke-width: 1.5; stroke-linecap: square\"/>\n   </g>\n   <g id=\"line2d_47\">\n    <path d=\"M 49.633125 91.22987 \nL 69.163125 101.284391 \nL 88.693125 106.355638 \n\" clip-path=\"url(#p0e9650fa00)\" style=\"fill: none; stroke-dasharray: 5.55,2.4; stroke-dashoffset: 0; stroke: #ff7f0e; stroke-width: 1.5\"/>\n   </g>\n   <g id=\"line2d_48\">\n    <path d=\"M 49.633125 24.259225 \nL 69.163125 21.7209 \nL 88.693125 20.427173 \n\" clip-path=\"url(#p0e9650fa00)\" style=\"fill: none; stroke-dasharray: 9.6,2.4,1.5,2.4; stroke-dashoffset: 0; stroke: #2ca02c; stroke-width: 1.5\"/>\n   </g>\n   <g id=\"line2d_49\">\n    <path d=\"M 34.954394 16.328927 \nL 44.698573 89.629864 \nL 54.442752 106.144352 \nL 64.186931 111.784113 \nL 73.93111 118.073188 \nL 83.675289 119.198418 \nL 93.419468 123.902349 \nL 103.163647 123.969724 \n\" clip-path=\"url(#p0e9650fa00)\" style=\"fill: none; stroke: #1f77b4; stroke-width: 1.5; stroke-linecap: square\"/>\n   </g>\n   <g id=\"line2d_50\">\n    <path d=\"M 49.633125 91.22987 \nL 69.163125 101.284391 \nL 88.693125 106.355638 \nL 108.223125 106.810705 \n\" clip-path=\"url(#p0e9650fa00)\" style=\"fill: none; stroke-dasharray: 5.55,2.4; stroke-dashoffset: 0; stroke: #ff7f0e; stroke-width: 1.5\"/>\n   </g>\n   <g id=\"line2d_51\">\n    <path d=\"M 49.633125 24.259225 \nL 69.163125 21.7209 \nL 88.693125 20.427173 \n\" clip-path=\"url(#p0e9650fa00)\" style=\"fill: none; stroke-dasharray: 9.6,2.4,1.5,2.4; stroke-dashoffset: 0; stroke: #2ca02c; stroke-width: 1.5\"/>\n   </g>\n   <g id=\"line2d_52\">\n    <path d=\"M 34.954394 16.328927 \nL 44.698573 89.629864 \nL 54.442752 106.144352 \nL 64.186931 111.784113 \nL 73.93111 118.073188 \nL 83.675289 119.198418 \nL 93.419468 123.902349 \nL 103.163647 123.969724 \n\" clip-path=\"url(#p0e9650fa00)\" style=\"fill: none; stroke: #1f77b4; stroke-width: 1.5; stroke-linecap: square\"/>\n   </g>\n   <g id=\"line2d_53\">\n    <path d=\"M 49.633125 91.22987 \nL 69.163125 101.284391 \nL 88.693125 106.355638 \nL 108.223125 106.810705 \n\" clip-path=\"url(#p0e9650fa00)\" style=\"fill: none; stroke-dasharray: 5.55,2.4; stroke-dashoffset: 0; stroke: #ff7f0e; stroke-width: 1.5\"/>\n   </g>\n   <g id=\"line2d_54\">\n    <path d=\"M 49.633125 24.259225 \nL 69.163125 21.7209 \nL 88.693125 20.427173 \nL 108.223125 19.95226 \n\" clip-path=\"url(#p0e9650fa00)\" style=\"fill: none; stroke-dasharray: 9.6,2.4,1.5,2.4; stroke-dashoffset: 0; stroke: #2ca02c; stroke-width: 1.5\"/>\n   </g>\n   <g id=\"line2d_55\">\n    <path d=\"M 34.954394 16.328927 \nL 44.698573 89.629864 \nL 54.442752 106.144352 \nL 64.186931 111.784113 \nL 73.93111 118.073188 \nL 83.675289 119.198418 \nL 93.419468 123.902349 \nL 103.163647 123.969724 \nL 112.907826 127.001563 \n\" clip-path=\"url(#p0e9650fa00)\" style=\"fill: none; stroke: #1f77b4; stroke-width: 1.5; stroke-linecap: square\"/>\n   </g>\n   <g id=\"line2d_56\">\n    <path d=\"M 49.633125 91.22987 \nL 69.163125 101.284391 \nL 88.693125 106.355638 \nL 108.223125 106.810705 \n\" clip-path=\"url(#p0e9650fa00)\" style=\"fill: none; stroke-dasharray: 5.55,2.4; stroke-dashoffset: 0; stroke: #ff7f0e; stroke-width: 1.5\"/>\n   </g>\n   <g id=\"line2d_57\">\n    <path d=\"M 49.633125 24.259225 \nL 69.163125 21.7209 \nL 88.693125 20.427173 \nL 108.223125 19.95226 \n\" clip-path=\"url(#p0e9650fa00)\" style=\"fill: none; stroke-dasharray: 9.6,2.4,1.5,2.4; stroke-dashoffset: 0; stroke: #2ca02c; stroke-width: 1.5\"/>\n   </g>\n   <g id=\"line2d_58\">\n    <path d=\"M 34.954394 16.328927 \nL 44.698573 89.629864 \nL 54.442752 106.144352 \nL 64.186931 111.784113 \nL 73.93111 118.073188 \nL 83.675289 119.198418 \nL 93.419468 123.902349 \nL 103.163647 123.969724 \nL 112.907826 127.001563 \nL 122.652006 128.177349 \n\" clip-path=\"url(#p0e9650fa00)\" style=\"fill: none; stroke: #1f77b4; stroke-width: 1.5; stroke-linecap: square\"/>\n   </g>\n   <g id=\"line2d_59\">\n    <path d=\"M 49.633125 91.22987 \nL 69.163125 101.284391 \nL 88.693125 106.355638 \nL 108.223125 106.810705 \n\" clip-path=\"url(#p0e9650fa00)\" style=\"fill: none; stroke-dasharray: 5.55,2.4; stroke-dashoffset: 0; stroke: #ff7f0e; stroke-width: 1.5\"/>\n   </g>\n   <g id=\"line2d_60\">\n    <path d=\"M 49.633125 24.259225 \nL 69.163125 21.7209 \nL 88.693125 20.427173 \nL 108.223125 19.95226 \n\" clip-path=\"url(#p0e9650fa00)\" style=\"fill: none; stroke-dasharray: 9.6,2.4,1.5,2.4; stroke-dashoffset: 0; stroke: #2ca02c; stroke-width: 1.5\"/>\n   </g>\n   <g id=\"line2d_61\">\n    <path d=\"M 34.954394 16.328927 \nL 44.698573 89.629864 \nL 54.442752 106.144352 \nL 64.186931 111.784113 \nL 73.93111 118.073188 \nL 83.675289 119.198418 \nL 93.419468 123.902349 \nL 103.163647 123.969724 \nL 112.907826 127.001563 \nL 122.652006 128.177349 \n\" clip-path=\"url(#p0e9650fa00)\" style=\"fill: none; stroke: #1f77b4; stroke-width: 1.5; stroke-linecap: square\"/>\n   </g>\n   <g id=\"line2d_62\">\n    <path d=\"M 49.633125 91.22987 \nL 69.163125 101.284391 \nL 88.693125 106.355638 \nL 108.223125 106.810705 \nL 127.753125 120.342186 \n\" clip-path=\"url(#p0e9650fa00)\" style=\"fill: none; stroke-dasharray: 5.55,2.4; stroke-dashoffset: 0; stroke: #ff7f0e; stroke-width: 1.5\"/>\n   </g>\n   <g id=\"line2d_63\">\n    <path d=\"M 49.633125 24.259225 \nL 69.163125 21.7209 \nL 88.693125 20.427173 \nL 108.223125 19.95226 \n\" clip-path=\"url(#p0e9650fa00)\" style=\"fill: none; stroke-dasharray: 9.6,2.4,1.5,2.4; stroke-dashoffset: 0; stroke: #2ca02c; stroke-width: 1.5\"/>\n   </g>\n   <g id=\"line2d_64\">\n    <path d=\"M 34.954394 16.328927 \nL 44.698573 89.629864 \nL 54.442752 106.144352 \nL 64.186931 111.784113 \nL 73.93111 118.073188 \nL 83.675289 119.198418 \nL 93.419468 123.902349 \nL 103.163647 123.969724 \nL 112.907826 127.001563 \nL 122.652006 128.177349 \n\" clip-path=\"url(#p0e9650fa00)\" style=\"fill: none; stroke: #1f77b4; stroke-width: 1.5; stroke-linecap: square\"/>\n   </g>\n   <g id=\"line2d_65\">\n    <path d=\"M 49.633125 91.22987 \nL 69.163125 101.284391 \nL 88.693125 106.355638 \nL 108.223125 106.810705 \nL 127.753125 120.342186 \n\" clip-path=\"url(#p0e9650fa00)\" style=\"fill: none; stroke-dasharray: 5.55,2.4; stroke-dashoffset: 0; stroke: #ff7f0e; stroke-width: 1.5\"/>\n   </g>\n   <g id=\"line2d_66\">\n    <path d=\"M 49.633125 24.259225 \nL 69.163125 21.7209 \nL 88.693125 20.427173 \nL 108.223125 19.95226 \nL 127.753125 15.088501 \n\" clip-path=\"url(#p0e9650fa00)\" style=\"fill: none; stroke-dasharray: 9.6,2.4,1.5,2.4; stroke-dashoffset: 0; stroke: #2ca02c; stroke-width: 1.5\"/>\n   </g>\n   <g id=\"line2d_67\">\n    <path d=\"M 34.954394 16.328927 \nL 44.698573 89.629864 \nL 54.442752 106.144352 \nL 64.186931 111.784113 \nL 73.93111 118.073188 \nL 83.675289 119.198418 \nL 93.419468 123.902349 \nL 103.163647 123.969724 \nL 112.907826 127.001563 \nL 122.652006 128.177349 \nL 132.396185 130.613744 \n\" clip-path=\"url(#p0e9650fa00)\" style=\"fill: none; stroke: #1f77b4; stroke-width: 1.5; stroke-linecap: square\"/>\n   </g>\n   <g id=\"line2d_68\">\n    <path d=\"M 49.633125 91.22987 \nL 69.163125 101.284391 \nL 88.693125 106.355638 \nL 108.223125 106.810705 \nL 127.753125 120.342186 \n\" clip-path=\"url(#p0e9650fa00)\" style=\"fill: none; stroke-dasharray: 5.55,2.4; stroke-dashoffset: 0; stroke: #ff7f0e; stroke-width: 1.5\"/>\n   </g>\n   <g id=\"line2d_69\">\n    <path d=\"M 49.633125 24.259225 \nL 69.163125 21.7209 \nL 88.693125 20.427173 \nL 108.223125 19.95226 \nL 127.753125 15.088501 \n\" clip-path=\"url(#p0e9650fa00)\" style=\"fill: none; stroke-dasharray: 9.6,2.4,1.5,2.4; stroke-dashoffset: 0; stroke: #2ca02c; stroke-width: 1.5\"/>\n   </g>\n   <g id=\"line2d_70\">\n    <path d=\"M 34.954394 16.328927 \nL 44.698573 89.629864 \nL 54.442752 106.144352 \nL 64.186931 111.784113 \nL 73.93111 118.073188 \nL 83.675289 119.198418 \nL 93.419468 123.902349 \nL 103.163647 123.969724 \nL 112.907826 127.001563 \nL 122.652006 128.177349 \nL 132.396185 130.613744 \nL 142.140364 130.924434 \n\" clip-path=\"url(#p0e9650fa00)\" style=\"fill: none; stroke: #1f77b4; stroke-width: 1.5; stroke-linecap: square\"/>\n   </g>\n   <g id=\"line2d_71\">\n    <path d=\"M 49.633125 91.22987 \nL 69.163125 101.284391 \nL 88.693125 106.355638 \nL 108.223125 106.810705 \nL 127.753125 120.342186 \n\" clip-path=\"url(#p0e9650fa00)\" style=\"fill: none; stroke-dasharray: 5.55,2.4; stroke-dashoffset: 0; stroke: #ff7f0e; stroke-width: 1.5\"/>\n   </g>\n   <g id=\"line2d_72\">\n    <path d=\"M 49.633125 24.259225 \nL 69.163125 21.7209 \nL 88.693125 20.427173 \nL 108.223125 19.95226 \nL 127.753125 15.088501 \n\" clip-path=\"url(#p0e9650fa00)\" style=\"fill: none; stroke-dasharray: 9.6,2.4,1.5,2.4; stroke-dashoffset: 0; stroke: #2ca02c; stroke-width: 1.5\"/>\n   </g>\n   <g id=\"line2d_73\">\n    <path d=\"M 34.954394 16.328927 \nL 44.698573 89.629864 \nL 54.442752 106.144352 \nL 64.186931 111.784113 \nL 73.93111 118.073188 \nL 83.675289 119.198418 \nL 93.419468 123.902349 \nL 103.163647 123.969724 \nL 112.907826 127.001563 \nL 122.652006 128.177349 \nL 132.396185 130.613744 \nL 142.140364 130.924434 \n\" clip-path=\"url(#p0e9650fa00)\" style=\"fill: none; stroke: #1f77b4; stroke-width: 1.5; stroke-linecap: square\"/>\n   </g>\n   <g id=\"line2d_74\">\n    <path d=\"M 49.633125 91.22987 \nL 69.163125 101.284391 \nL 88.693125 106.355638 \nL 108.223125 106.810705 \nL 127.753125 120.342186 \nL 147.283125 121.720851 \n\" clip-path=\"url(#p0e9650fa00)\" style=\"fill: none; stroke-dasharray: 5.55,2.4; stroke-dashoffset: 0; stroke: #ff7f0e; stroke-width: 1.5\"/>\n   </g>\n   <g id=\"line2d_75\">\n    <path d=\"M 49.633125 24.259225 \nL 69.163125 21.7209 \nL 88.693125 20.427173 \nL 108.223125 19.95226 \nL 127.753125 15.088501 \n\" clip-path=\"url(#p0e9650fa00)\" style=\"fill: none; stroke-dasharray: 9.6,2.4,1.5,2.4; stroke-dashoffset: 0; stroke: #2ca02c; stroke-width: 1.5\"/>\n   </g>\n   <g id=\"line2d_76\">\n    <path d=\"M 34.954394 16.328927 \nL 44.698573 89.629864 \nL 54.442752 106.144352 \nL 64.186931 111.784113 \nL 73.93111 118.073188 \nL 83.675289 119.198418 \nL 93.419468 123.902349 \nL 103.163647 123.969724 \nL 112.907826 127.001563 \nL 122.652006 128.177349 \nL 132.396185 130.613744 \nL 142.140364 130.924434 \n\" clip-path=\"url(#p0e9650fa00)\" style=\"fill: none; stroke: #1f77b4; stroke-width: 1.5; stroke-linecap: square\"/>\n   </g>\n   <g id=\"line2d_77\">\n    <path d=\"M 49.633125 91.22987 \nL 69.163125 101.284391 \nL 88.693125 106.355638 \nL 108.223125 106.810705 \nL 127.753125 120.342186 \nL 147.283125 121.720851 \n\" clip-path=\"url(#p0e9650fa00)\" style=\"fill: none; stroke-dasharray: 5.55,2.4; stroke-dashoffset: 0; stroke: #ff7f0e; stroke-width: 1.5\"/>\n   </g>\n   <g id=\"line2d_78\">\n    <path d=\"M 49.633125 24.259225 \nL 69.163125 21.7209 \nL 88.693125 20.427173 \nL 108.223125 19.95226 \nL 127.753125 15.088501 \nL 147.283125 14.25331 \n\" clip-path=\"url(#p0e9650fa00)\" style=\"fill: none; stroke-dasharray: 9.6,2.4,1.5,2.4; stroke-dashoffset: 0; stroke: #2ca02c; stroke-width: 1.5\"/>\n   </g>\n   <g id=\"line2d_79\">\n    <path d=\"M 34.954394 16.328927 \nL 44.698573 89.629864 \nL 54.442752 106.144352 \nL 64.186931 111.784113 \nL 73.93111 118.073188 \nL 83.675289 119.198418 \nL 93.419468 123.902349 \nL 103.163647 123.969724 \nL 112.907826 127.001563 \nL 122.652006 128.177349 \nL 132.396185 130.613744 \nL 142.140364 130.924434 \nL 151.884543 132.818827 \n\" clip-path=\"url(#p0e9650fa00)\" style=\"fill: none; stroke: #1f77b4; stroke-width: 1.5; stroke-linecap: square\"/>\n   </g>\n   <g id=\"line2d_80\">\n    <path d=\"M 49.633125 91.22987 \nL 69.163125 101.284391 \nL 88.693125 106.355638 \nL 108.223125 106.810705 \nL 127.753125 120.342186 \nL 147.283125 121.720851 \n\" clip-path=\"url(#p0e9650fa00)\" style=\"fill: none; stroke-dasharray: 5.55,2.4; stroke-dashoffset: 0; stroke: #ff7f0e; stroke-width: 1.5\"/>\n   </g>\n   <g id=\"line2d_81\">\n    <path d=\"M 49.633125 24.259225 \nL 69.163125 21.7209 \nL 88.693125 20.427173 \nL 108.223125 19.95226 \nL 127.753125 15.088501 \nL 147.283125 14.25331 \n\" clip-path=\"url(#p0e9650fa00)\" style=\"fill: none; stroke-dasharray: 9.6,2.4,1.5,2.4; stroke-dashoffset: 0; stroke: #2ca02c; stroke-width: 1.5\"/>\n   </g>\n   <g id=\"line2d_82\">\n    <path d=\"M 34.954394 16.328927 \nL 44.698573 89.629864 \nL 54.442752 106.144352 \nL 64.186931 111.784113 \nL 73.93111 118.073188 \nL 83.675289 119.198418 \nL 93.419468 123.902349 \nL 103.163647 123.969724 \nL 112.907826 127.001563 \nL 122.652006 128.177349 \nL 132.396185 130.613744 \nL 142.140364 130.924434 \nL 151.884543 132.818827 \nL 161.628722 133.163025 \n\" clip-path=\"url(#p0e9650fa00)\" style=\"fill: none; stroke: #1f77b4; stroke-width: 1.5; stroke-linecap: square\"/>\n   </g>\n   <g id=\"line2d_83\">\n    <path d=\"M 49.633125 91.22987 \nL 69.163125 101.284391 \nL 88.693125 106.355638 \nL 108.223125 106.810705 \nL 127.753125 120.342186 \nL 147.283125 121.720851 \n\" clip-path=\"url(#p0e9650fa00)\" style=\"fill: none; stroke-dasharray: 5.55,2.4; stroke-dashoffset: 0; stroke: #ff7f0e; stroke-width: 1.5\"/>\n   </g>\n   <g id=\"line2d_84\">\n    <path d=\"M 49.633125 24.259225 \nL 69.163125 21.7209 \nL 88.693125 20.427173 \nL 108.223125 19.95226 \nL 127.753125 15.088501 \nL 147.283125 14.25331 \n\" clip-path=\"url(#p0e9650fa00)\" style=\"fill: none; stroke-dasharray: 9.6,2.4,1.5,2.4; stroke-dashoffset: 0; stroke: #2ca02c; stroke-width: 1.5\"/>\n   </g>\n   <g id=\"line2d_85\">\n    <path d=\"M 34.954394 16.328927 \nL 44.698573 89.629864 \nL 54.442752 106.144352 \nL 64.186931 111.784113 \nL 73.93111 118.073188 \nL 83.675289 119.198418 \nL 93.419468 123.902349 \nL 103.163647 123.969724 \nL 112.907826 127.001563 \nL 122.652006 128.177349 \nL 132.396185 130.613744 \nL 142.140364 130.924434 \nL 151.884543 132.818827 \nL 161.628722 133.163025 \n\" clip-path=\"url(#p0e9650fa00)\" style=\"fill: none; stroke: #1f77b4; stroke-width: 1.5; stroke-linecap: square\"/>\n   </g>\n   <g id=\"line2d_86\">\n    <path d=\"M 49.633125 91.22987 \nL 69.163125 101.284391 \nL 88.693125 106.355638 \nL 108.223125 106.810705 \nL 127.753125 120.342186 \nL 147.283125 121.720851 \nL 166.813125 124.88232 \n\" clip-path=\"url(#p0e9650fa00)\" style=\"fill: none; stroke-dasharray: 5.55,2.4; stroke-dashoffset: 0; stroke: #ff7f0e; stroke-width: 1.5\"/>\n   </g>\n   <g id=\"line2d_87\">\n    <path d=\"M 49.633125 24.259225 \nL 69.163125 21.7209 \nL 88.693125 20.427173 \nL 108.223125 19.95226 \nL 127.753125 15.088501 \nL 147.283125 14.25331 \n\" clip-path=\"url(#p0e9650fa00)\" style=\"fill: none; stroke-dasharray: 9.6,2.4,1.5,2.4; stroke-dashoffset: 0; stroke: #2ca02c; stroke-width: 1.5\"/>\n   </g>\n   <g id=\"line2d_88\">\n    <path d=\"M 34.954394 16.328927 \nL 44.698573 89.629864 \nL 54.442752 106.144352 \nL 64.186931 111.784113 \nL 73.93111 118.073188 \nL 83.675289 119.198418 \nL 93.419468 123.902349 \nL 103.163647 123.969724 \nL 112.907826 127.001563 \nL 122.652006 128.177349 \nL 132.396185 130.613744 \nL 142.140364 130.924434 \nL 151.884543 132.818827 \nL 161.628722 133.163025 \n\" clip-path=\"url(#p0e9650fa00)\" style=\"fill: none; stroke: #1f77b4; stroke-width: 1.5; stroke-linecap: square\"/>\n   </g>\n   <g id=\"line2d_89\">\n    <path d=\"M 49.633125 91.22987 \nL 69.163125 101.284391 \nL 88.693125 106.355638 \nL 108.223125 106.810705 \nL 127.753125 120.342186 \nL 147.283125 121.720851 \nL 166.813125 124.88232 \n\" clip-path=\"url(#p0e9650fa00)\" style=\"fill: none; stroke-dasharray: 5.55,2.4; stroke-dashoffset: 0; stroke: #ff7f0e; stroke-width: 1.5\"/>\n   </g>\n   <g id=\"line2d_90\">\n    <path d=\"M 49.633125 24.259225 \nL 69.163125 21.7209 \nL 88.693125 20.427173 \nL 108.223125 19.95226 \nL 127.753125 15.088501 \nL 147.283125 14.25331 \nL 166.813125 13.5 \n\" clip-path=\"url(#p0e9650fa00)\" style=\"fill: none; stroke-dasharray: 9.6,2.4,1.5,2.4; stroke-dashoffset: 0; stroke: #2ca02c; stroke-width: 1.5\"/>\n   </g>\n   <g id=\"line2d_91\">\n    <path d=\"M 34.954394 16.328927 \nL 44.698573 89.629864 \nL 54.442752 106.144352 \nL 64.186931 111.784113 \nL 73.93111 118.073188 \nL 83.675289 119.198418 \nL 93.419468 123.902349 \nL 103.163647 123.969724 \nL 112.907826 127.001563 \nL 122.652006 128.177349 \nL 132.396185 130.613744 \nL 142.140364 130.924434 \nL 151.884543 132.818827 \nL 161.628722 133.163025 \nL 171.372901 135.000202 \n\" clip-path=\"url(#p0e9650fa00)\" style=\"fill: none; stroke: #1f77b4; stroke-width: 1.5; stroke-linecap: square\"/>\n   </g>\n   <g id=\"line2d_92\">\n    <path d=\"M 49.633125 91.22987 \nL 69.163125 101.284391 \nL 88.693125 106.355638 \nL 108.223125 106.810705 \nL 127.753125 120.342186 \nL 147.283125 121.720851 \nL 166.813125 124.88232 \n\" clip-path=\"url(#p0e9650fa00)\" style=\"fill: none; stroke-dasharray: 5.55,2.4; stroke-dashoffset: 0; stroke: #ff7f0e; stroke-width: 1.5\"/>\n   </g>\n   <g id=\"line2d_93\">\n    <path d=\"M 49.633125 24.259225 \nL 69.163125 21.7209 \nL 88.693125 20.427173 \nL 108.223125 19.95226 \nL 127.753125 15.088501 \nL 147.283125 14.25331 \nL 166.813125 13.5 \n\" clip-path=\"url(#p0e9650fa00)\" style=\"fill: none; stroke-dasharray: 9.6,2.4,1.5,2.4; stroke-dashoffset: 0; stroke: #2ca02c; stroke-width: 1.5\"/>\n   </g>\n   <g id=\"line2d_94\">\n    <path d=\"M 34.954394 16.328927 \nL 44.698573 89.629864 \nL 54.442752 106.144352 \nL 64.186931 111.784113 \nL 73.93111 118.073188 \nL 83.675289 119.198418 \nL 93.419468 123.902349 \nL 103.163647 123.969724 \nL 112.907826 127.001563 \nL 122.652006 128.177349 \nL 132.396185 130.613744 \nL 142.140364 130.924434 \nL 151.884543 132.818827 \nL 161.628722 133.163025 \nL 171.372901 135.000202 \nL 181.11708 135.734947 \n\" clip-path=\"url(#p0e9650fa00)\" style=\"fill: none; stroke: #1f77b4; stroke-width: 1.5; stroke-linecap: square\"/>\n   </g>\n   <g id=\"line2d_95\">\n    <path d=\"M 49.633125 91.22987 \nL 69.163125 101.284391 \nL 88.693125 106.355638 \nL 108.223125 106.810705 \nL 127.753125 120.342186 \nL 147.283125 121.720851 \nL 166.813125 124.88232 \n\" clip-path=\"url(#p0e9650fa00)\" style=\"fill: none; stroke-dasharray: 5.55,2.4; stroke-dashoffset: 0; stroke: #ff7f0e; stroke-width: 1.5\"/>\n   </g>\n   <g id=\"line2d_96\">\n    <path d=\"M 49.633125 24.259225 \nL 69.163125 21.7209 \nL 88.693125 20.427173 \nL 108.223125 19.95226 \nL 127.753125 15.088501 \nL 147.283125 14.25331 \nL 166.813125 13.5 \n\" clip-path=\"url(#p0e9650fa00)\" style=\"fill: none; stroke-dasharray: 9.6,2.4,1.5,2.4; stroke-dashoffset: 0; stroke: #2ca02c; stroke-width: 1.5\"/>\n   </g>\n   <g id=\"line2d_97\">\n    <path d=\"M 34.954394 16.328927 \nL 44.698573 89.629864 \nL 54.442752 106.144352 \nL 64.186931 111.784113 \nL 73.93111 118.073188 \nL 83.675289 119.198418 \nL 93.419468 123.902349 \nL 103.163647 123.969724 \nL 112.907826 127.001563 \nL 122.652006 128.177349 \nL 132.396185 130.613744 \nL 142.140364 130.924434 \nL 151.884543 132.818827 \nL 161.628722 133.163025 \nL 171.372901 135.000202 \nL 181.11708 135.734947 \n\" clip-path=\"url(#p0e9650fa00)\" style=\"fill: none; stroke: #1f77b4; stroke-width: 1.5; stroke-linecap: square\"/>\n   </g>\n   <g id=\"line2d_98\">\n    <path d=\"M 49.633125 91.22987 \nL 69.163125 101.284391 \nL 88.693125 106.355638 \nL 108.223125 106.810705 \nL 127.753125 120.342186 \nL 147.283125 121.720851 \nL 166.813125 124.88232 \nL 186.343125 125.243591 \n\" clip-path=\"url(#p0e9650fa00)\" style=\"fill: none; stroke-dasharray: 5.55,2.4; stroke-dashoffset: 0; stroke: #ff7f0e; stroke-width: 1.5\"/>\n   </g>\n   <g id=\"line2d_99\">\n    <path d=\"M 49.633125 24.259225 \nL 69.163125 21.7209 \nL 88.693125 20.427173 \nL 108.223125 19.95226 \nL 127.753125 15.088501 \nL 147.283125 14.25331 \nL 166.813125 13.5 \n\" clip-path=\"url(#p0e9650fa00)\" style=\"fill: none; stroke-dasharray: 9.6,2.4,1.5,2.4; stroke-dashoffset: 0; stroke: #2ca02c; stroke-width: 1.5\"/>\n   </g>\n   <g id=\"line2d_100\">\n    <path d=\"M 34.954394 16.328927 \nL 44.698573 89.629864 \nL 54.442752 106.144352 \nL 64.186931 111.784113 \nL 73.93111 118.073188 \nL 83.675289 119.198418 \nL 93.419468 123.902349 \nL 103.163647 123.969724 \nL 112.907826 127.001563 \nL 122.652006 128.177349 \nL 132.396185 130.613744 \nL 142.140364 130.924434 \nL 151.884543 132.818827 \nL 161.628722 133.163025 \nL 171.372901 135.000202 \nL 181.11708 135.734947 \n\" clip-path=\"url(#p0e9650fa00)\" style=\"fill: none; stroke: #1f77b4; stroke-width: 1.5; stroke-linecap: square\"/>\n   </g>\n   <g id=\"line2d_101\">\n    <path d=\"M 49.633125 91.22987 \nL 69.163125 101.284391 \nL 88.693125 106.355638 \nL 108.223125 106.810705 \nL 127.753125 120.342186 \nL 147.283125 121.720851 \nL 166.813125 124.88232 \nL 186.343125 125.243591 \n\" clip-path=\"url(#p0e9650fa00)\" style=\"fill: none; stroke-dasharray: 5.55,2.4; stroke-dashoffset: 0; stroke: #ff7f0e; stroke-width: 1.5\"/>\n   </g>\n   <g id=\"line2d_102\">\n    <path d=\"M 49.633125 24.259225 \nL 69.163125 21.7209 \nL 88.693125 20.427173 \nL 108.223125 19.95226 \nL 127.753125 15.088501 \nL 147.283125 14.25331 \nL 166.813125 13.5 \nL 186.343125 13.762021 \n\" clip-path=\"url(#p0e9650fa00)\" style=\"fill: none; stroke-dasharray: 9.6,2.4,1.5,2.4; stroke-dashoffset: 0; stroke: #2ca02c; stroke-width: 1.5\"/>\n   </g>\n   <g id=\"line2d_103\">\n    <path d=\"M 34.954394 16.328927 \nL 44.698573 89.629864 \nL 54.442752 106.144352 \nL 64.186931 111.784113 \nL 73.93111 118.073188 \nL 83.675289 119.198418 \nL 93.419468 123.902349 \nL 103.163647 123.969724 \nL 112.907826 127.001563 \nL 122.652006 128.177349 \nL 132.396185 130.613744 \nL 142.140364 130.924434 \nL 151.884543 132.818827 \nL 161.628722 133.163025 \nL 171.372901 135.000202 \nL 181.11708 135.734947 \nL 190.861259 137.577939 \n\" clip-path=\"url(#p0e9650fa00)\" style=\"fill: none; stroke: #1f77b4; stroke-width: 1.5; stroke-linecap: square\"/>\n   </g>\n   <g id=\"line2d_104\">\n    <path d=\"M 49.633125 91.22987 \nL 69.163125 101.284391 \nL 88.693125 106.355638 \nL 108.223125 106.810705 \nL 127.753125 120.342186 \nL 147.283125 121.720851 \nL 166.813125 124.88232 \nL 186.343125 125.243591 \n\" clip-path=\"url(#p0e9650fa00)\" style=\"fill: none; stroke-dasharray: 5.55,2.4; stroke-dashoffset: 0; stroke: #ff7f0e; stroke-width: 1.5\"/>\n   </g>\n   <g id=\"line2d_105\">\n    <path d=\"M 49.633125 24.259225 \nL 69.163125 21.7209 \nL 88.693125 20.427173 \nL 108.223125 19.95226 \nL 127.753125 15.088501 \nL 147.283125 14.25331 \nL 166.813125 13.5 \nL 186.343125 13.762021 \n\" clip-path=\"url(#p0e9650fa00)\" style=\"fill: none; stroke-dasharray: 9.6,2.4,1.5,2.4; stroke-dashoffset: 0; stroke: #2ca02c; stroke-width: 1.5\"/>\n   </g>\n   <g id=\"line2d_106\">\n    <path d=\"M 34.954394 16.328927 \nL 44.698573 89.629864 \nL 54.442752 106.144352 \nL 64.186931 111.784113 \nL 73.93111 118.073188 \nL 83.675289 119.198418 \nL 93.419468 123.902349 \nL 103.163647 123.969724 \nL 112.907826 127.001563 \nL 122.652006 128.177349 \nL 132.396185 130.613744 \nL 142.140364 130.924434 \nL 151.884543 132.818827 \nL 161.628722 133.163025 \nL 171.372901 135.000202 \nL 181.11708 135.734947 \nL 190.861259 137.577939 \nL 200.605438 136.918504 \n\" clip-path=\"url(#p0e9650fa00)\" style=\"fill: none; stroke: #1f77b4; stroke-width: 1.5; stroke-linecap: square\"/>\n   </g>\n   <g id=\"line2d_107\">\n    <path d=\"M 49.633125 91.22987 \nL 69.163125 101.284391 \nL 88.693125 106.355638 \nL 108.223125 106.810705 \nL 127.753125 120.342186 \nL 147.283125 121.720851 \nL 166.813125 124.88232 \nL 186.343125 125.243591 \n\" clip-path=\"url(#p0e9650fa00)\" style=\"fill: none; stroke-dasharray: 5.55,2.4; stroke-dashoffset: 0; stroke: #ff7f0e; stroke-width: 1.5\"/>\n   </g>\n   <g id=\"line2d_108\">\n    <path d=\"M 49.633125 24.259225 \nL 69.163125 21.7209 \nL 88.693125 20.427173 \nL 108.223125 19.95226 \nL 127.753125 15.088501 \nL 147.283125 14.25331 \nL 166.813125 13.5 \nL 186.343125 13.762021 \n\" clip-path=\"url(#p0e9650fa00)\" style=\"fill: none; stroke-dasharray: 9.6,2.4,1.5,2.4; stroke-dashoffset: 0; stroke: #2ca02c; stroke-width: 1.5\"/>\n   </g>\n   <g id=\"line2d_109\">\n    <path d=\"M 34.954394 16.328927 \nL 44.698573 89.629864 \nL 54.442752 106.144352 \nL 64.186931 111.784113 \nL 73.93111 118.073188 \nL 83.675289 119.198418 \nL 93.419468 123.902349 \nL 103.163647 123.969724 \nL 112.907826 127.001563 \nL 122.652006 128.177349 \nL 132.396185 130.613744 \nL 142.140364 130.924434 \nL 151.884543 132.818827 \nL 161.628722 133.163025 \nL 171.372901 135.000202 \nL 181.11708 135.734947 \nL 190.861259 137.577939 \nL 200.605438 136.918504 \n\" clip-path=\"url(#p0e9650fa00)\" style=\"fill: none; stroke: #1f77b4; stroke-width: 1.5; stroke-linecap: square\"/>\n   </g>\n   <g id=\"line2d_110\">\n    <path d=\"M 49.633125 91.22987 \nL 69.163125 101.284391 \nL 88.693125 106.355638 \nL 108.223125 106.810705 \nL 127.753125 120.342186 \nL 147.283125 121.720851 \nL 166.813125 124.88232 \nL 186.343125 125.243591 \nL 205.873125 118.056254 \n\" clip-path=\"url(#p0e9650fa00)\" style=\"fill: none; stroke-dasharray: 5.55,2.4; stroke-dashoffset: 0; stroke: #ff7f0e; stroke-width: 1.5\"/>\n   </g>\n   <g id=\"line2d_111\">\n    <path d=\"M 49.633125 24.259225 \nL 69.163125 21.7209 \nL 88.693125 20.427173 \nL 108.223125 19.95226 \nL 127.753125 15.088501 \nL 147.283125 14.25331 \nL 166.813125 13.5 \nL 186.343125 13.762021 \n\" clip-path=\"url(#p0e9650fa00)\" style=\"fill: none; stroke-dasharray: 9.6,2.4,1.5,2.4; stroke-dashoffset: 0; stroke: #2ca02c; stroke-width: 1.5\"/>\n   </g>\n   <g id=\"line2d_112\">\n    <path d=\"M 34.954394 16.328927 \nL 44.698573 89.629864 \nL 54.442752 106.144352 \nL 64.186931 111.784113 \nL 73.93111 118.073188 \nL 83.675289 119.198418 \nL 93.419468 123.902349 \nL 103.163647 123.969724 \nL 112.907826 127.001563 \nL 122.652006 128.177349 \nL 132.396185 130.613744 \nL 142.140364 130.924434 \nL 151.884543 132.818827 \nL 161.628722 133.163025 \nL 171.372901 135.000202 \nL 181.11708 135.734947 \nL 190.861259 137.577939 \nL 200.605438 136.918504 \n\" clip-path=\"url(#p0e9650fa00)\" style=\"fill: none; stroke: #1f77b4; stroke-width: 1.5; stroke-linecap: square\"/>\n   </g>\n   <g id=\"line2d_113\">\n    <path d=\"M 49.633125 91.22987 \nL 69.163125 101.284391 \nL 88.693125 106.355638 \nL 108.223125 106.810705 \nL 127.753125 120.342186 \nL 147.283125 121.720851 \nL 166.813125 124.88232 \nL 186.343125 125.243591 \nL 205.873125 118.056254 \n\" clip-path=\"url(#p0e9650fa00)\" style=\"fill: none; stroke-dasharray: 5.55,2.4; stroke-dashoffset: 0; stroke: #ff7f0e; stroke-width: 1.5\"/>\n   </g>\n   <g id=\"line2d_114\">\n    <path d=\"M 49.633125 24.259225 \nL 69.163125 21.7209 \nL 88.693125 20.427173 \nL 108.223125 19.95226 \nL 127.753125 15.088501 \nL 147.283125 14.25331 \nL 166.813125 13.5 \nL 186.343125 13.762021 \nL 205.873125 16.218465 \n\" clip-path=\"url(#p0e9650fa00)\" style=\"fill: none; stroke-dasharray: 9.6,2.4,1.5,2.4; stroke-dashoffset: 0; stroke: #2ca02c; stroke-width: 1.5\"/>\n   </g>\n   <g id=\"line2d_115\">\n    <path d=\"M 34.954394 16.328927 \nL 44.698573 89.629864 \nL 54.442752 106.144352 \nL 64.186931 111.784113 \nL 73.93111 118.073188 \nL 83.675289 119.198418 \nL 93.419468 123.902349 \nL 103.163647 123.969724 \nL 112.907826 127.001563 \nL 122.652006 128.177349 \nL 132.396185 130.613744 \nL 142.140364 130.924434 \nL 151.884543 132.818827 \nL 161.628722 133.163025 \nL 171.372901 135.000202 \nL 181.11708 135.734947 \nL 190.861259 137.577939 \nL 200.605438 136.918504 \nL 210.349618 139.5 \n\" clip-path=\"url(#p0e9650fa00)\" style=\"fill: none; stroke: #1f77b4; stroke-width: 1.5; stroke-linecap: square\"/>\n   </g>\n   <g id=\"line2d_116\">\n    <path d=\"M 49.633125 91.22987 \nL 69.163125 101.284391 \nL 88.693125 106.355638 \nL 108.223125 106.810705 \nL 127.753125 120.342186 \nL 147.283125 121.720851 \nL 166.813125 124.88232 \nL 186.343125 125.243591 \nL 205.873125 118.056254 \n\" clip-path=\"url(#p0e9650fa00)\" style=\"fill: none; stroke-dasharray: 5.55,2.4; stroke-dashoffset: 0; stroke: #ff7f0e; stroke-width: 1.5\"/>\n   </g>\n   <g id=\"line2d_117\">\n    <path d=\"M 49.633125 24.259225 \nL 69.163125 21.7209 \nL 88.693125 20.427173 \nL 108.223125 19.95226 \nL 127.753125 15.088501 \nL 147.283125 14.25331 \nL 166.813125 13.5 \nL 186.343125 13.762021 \nL 205.873125 16.218465 \n\" clip-path=\"url(#p0e9650fa00)\" style=\"fill: none; stroke-dasharray: 9.6,2.4,1.5,2.4; stroke-dashoffset: 0; stroke: #2ca02c; stroke-width: 1.5\"/>\n   </g>\n   <g id=\"line2d_118\">\n    <path d=\"M 34.954394 16.328927 \nL 44.698573 89.629864 \nL 54.442752 106.144352 \nL 64.186931 111.784113 \nL 73.93111 118.073188 \nL 83.675289 119.198418 \nL 93.419468 123.902349 \nL 103.163647 123.969724 \nL 112.907826 127.001563 \nL 122.652006 128.177349 \nL 132.396185 130.613744 \nL 142.140364 130.924434 \nL 151.884543 132.818827 \nL 161.628722 133.163025 \nL 171.372901 135.000202 \nL 181.11708 135.734947 \nL 190.861259 137.577939 \nL 200.605438 136.918504 \nL 210.349618 139.5 \nL 220.093797 138.517176 \n\" clip-path=\"url(#p0e9650fa00)\" style=\"fill: none; stroke: #1f77b4; stroke-width: 1.5; stroke-linecap: square\"/>\n   </g>\n   <g id=\"line2d_119\">\n    <path d=\"M 49.633125 91.22987 \nL 69.163125 101.284391 \nL 88.693125 106.355638 \nL 108.223125 106.810705 \nL 127.753125 120.342186 \nL 147.283125 121.720851 \nL 166.813125 124.88232 \nL 186.343125 125.243591 \nL 205.873125 118.056254 \n\" clip-path=\"url(#p0e9650fa00)\" style=\"fill: none; stroke-dasharray: 5.55,2.4; stroke-dashoffset: 0; stroke: #ff7f0e; stroke-width: 1.5\"/>\n   </g>\n   <g id=\"line2d_120\">\n    <path d=\"M 49.633125 24.259225 \nL 69.163125 21.7209 \nL 88.693125 20.427173 \nL 108.223125 19.95226 \nL 127.753125 15.088501 \nL 147.283125 14.25331 \nL 166.813125 13.5 \nL 186.343125 13.762021 \nL 205.873125 16.218465 \n\" clip-path=\"url(#p0e9650fa00)\" style=\"fill: none; stroke-dasharray: 9.6,2.4,1.5,2.4; stroke-dashoffset: 0; stroke: #2ca02c; stroke-width: 1.5\"/>\n   </g>\n   <g id=\"line2d_121\">\n    <path d=\"M 34.954394 16.328927 \nL 44.698573 89.629864 \nL 54.442752 106.144352 \nL 64.186931 111.784113 \nL 73.93111 118.073188 \nL 83.675289 119.198418 \nL 93.419468 123.902349 \nL 103.163647 123.969724 \nL 112.907826 127.001563 \nL 122.652006 128.177349 \nL 132.396185 130.613744 \nL 142.140364 130.924434 \nL 151.884543 132.818827 \nL 161.628722 133.163025 \nL 171.372901 135.000202 \nL 181.11708 135.734947 \nL 190.861259 137.577939 \nL 200.605438 136.918504 \nL 210.349618 139.5 \nL 220.093797 138.517176 \n\" clip-path=\"url(#p0e9650fa00)\" style=\"fill: none; stroke: #1f77b4; stroke-width: 1.5; stroke-linecap: square\"/>\n   </g>\n   <g id=\"line2d_122\">\n    <path d=\"M 49.633125 91.22987 \nL 69.163125 101.284391 \nL 88.693125 106.355638 \nL 108.223125 106.810705 \nL 127.753125 120.342186 \nL 147.283125 121.720851 \nL 166.813125 124.88232 \nL 186.343125 125.243591 \nL 205.873125 118.056254 \nL 225.403125 114.941037 \n\" clip-path=\"url(#p0e9650fa00)\" style=\"fill: none; stroke-dasharray: 5.55,2.4; stroke-dashoffset: 0; stroke: #ff7f0e; stroke-width: 1.5\"/>\n   </g>\n   <g id=\"line2d_123\">\n    <path d=\"M 49.633125 24.259225 \nL 69.163125 21.7209 \nL 88.693125 20.427173 \nL 108.223125 19.95226 \nL 127.753125 15.088501 \nL 147.283125 14.25331 \nL 166.813125 13.5 \nL 186.343125 13.762021 \nL 205.873125 16.218465 \n\" clip-path=\"url(#p0e9650fa00)\" style=\"fill: none; stroke-dasharray: 9.6,2.4,1.5,2.4; stroke-dashoffset: 0; stroke: #2ca02c; stroke-width: 1.5\"/>\n   </g>\n   <g id=\"line2d_124\">\n    <path d=\"M 34.954394 16.328927 \nL 44.698573 89.629864 \nL 54.442752 106.144352 \nL 64.186931 111.784113 \nL 73.93111 118.073188 \nL 83.675289 119.198418 \nL 93.419468 123.902349 \nL 103.163647 123.969724 \nL 112.907826 127.001563 \nL 122.652006 128.177349 \nL 132.396185 130.613744 \nL 142.140364 130.924434 \nL 151.884543 132.818827 \nL 161.628722 133.163025 \nL 171.372901 135.000202 \nL 181.11708 135.734947 \nL 190.861259 137.577939 \nL 200.605438 136.918504 \nL 210.349618 139.5 \nL 220.093797 138.517176 \n\" clip-path=\"url(#p0e9650fa00)\" style=\"fill: none; stroke: #1f77b4; stroke-width: 1.5; stroke-linecap: square\"/>\n   </g>\n   <g id=\"line2d_125\">\n    <path d=\"M 49.633125 91.22987 \nL 69.163125 101.284391 \nL 88.693125 106.355638 \nL 108.223125 106.810705 \nL 127.753125 120.342186 \nL 147.283125 121.720851 \nL 166.813125 124.88232 \nL 186.343125 125.243591 \nL 205.873125 118.056254 \nL 225.403125 114.941037 \n\" clip-path=\"url(#p0e9650fa00)\" style=\"fill: none; stroke-dasharray: 5.55,2.4; stroke-dashoffset: 0; stroke: #ff7f0e; stroke-width: 1.5\"/>\n   </g>\n   <g id=\"line2d_126\">\n    <path d=\"M 49.633125 24.259225 \nL 69.163125 21.7209 \nL 88.693125 20.427173 \nL 108.223125 19.95226 \nL 127.753125 15.088501 \nL 147.283125 14.25331 \nL 166.813125 13.5 \nL 186.343125 13.762021 \nL 205.873125 16.218465 \nL 225.403125 16.693377 \n\" clip-path=\"url(#p0e9650fa00)\" style=\"fill: none; stroke-dasharray: 9.6,2.4,1.5,2.4; stroke-dashoffset: 0; stroke: #2ca02c; stroke-width: 1.5\"/>\n   </g>\n   <g id=\"patch_3\">\n    <path d=\"M 30.103125 145.8 \nL 30.103125 7.2 \n\" style=\"fill: none; stroke: #000000; stroke-width: 0.8; stroke-linejoin: miter; stroke-linecap: square\"/>\n   </g>\n   <g id=\"patch_4\">\n    <path d=\"M 225.403125 145.8 \nL 225.403125 7.2 \n\" style=\"fill: none; stroke: #000000; stroke-width: 0.8; stroke-linejoin: miter; stroke-linecap: square\"/>\n   </g>\n   <g id=\"patch_5\">\n    <path d=\"M 30.103125 145.8 \nL 225.403125 145.8 \n\" style=\"fill: none; stroke: #000000; stroke-width: 0.8; stroke-linejoin: miter; stroke-linecap: square\"/>\n   </g>\n   <g id=\"patch_6\">\n    <path d=\"M 30.103125 7.2 \nL 225.403125 7.2 \n\" style=\"fill: none; stroke: #000000; stroke-width: 0.8; stroke-linejoin: miter; stroke-linecap: square\"/>\n   </g>\n   <g id=\"legend_1\">\n    <g id=\"patch_7\">\n     <path d=\"M 138.8125 100.434375 \nL 218.403125 100.434375 \nQ 220.403125 100.434375 220.403125 98.434375 \nL 220.403125 54.565625 \nQ 220.403125 52.565625 218.403125 52.565625 \nL 138.8125 52.565625 \nQ 136.8125 52.565625 136.8125 54.565625 \nL 136.8125 98.434375 \nQ 136.8125 100.434375 138.8125 100.434375 \nz\n\" style=\"fill: #ffffff; opacity: 0.8; stroke: #cccccc; stroke-linejoin: miter\"/>\n    </g>\n    <g id=\"line2d_127\">\n     <path d=\"M 140.8125 60.664063 \nL 150.8125 60.664063 \nL 160.8125 60.664063 \n\" style=\"fill: none; stroke: #1f77b4; stroke-width: 1.5; stroke-linecap: square\"/>\n    </g>\n    <g id=\"text_12\">\n     <!-- train_loss -->\n     <g transform=\"translate(168.8125 64.164063) scale(0.1 -0.1)\">\n      <defs>\n       <path id=\"DejaVuSans-74\" d=\"M 1172 4494 \nL 1172 3500 \nL 2356 3500 \nL 2356 3053 \nL 1172 3053 \nL 1172 1153 \nQ 1172 725 1289 603 \nQ 1406 481 1766 481 \nL 2356 481 \nL 2356 0 \nL 1766 0 \nQ 1100 0 847 248 \nQ 594 497 594 1153 \nL 594 3053 \nL 172 3053 \nL 172 3500 \nL 594 3500 \nL 594 4494 \nL 1172 4494 \nz\n\" transform=\"scale(0.015625)\"/>\n       <path id=\"DejaVuSans-72\" d=\"M 2631 2963 \nQ 2534 3019 2420 3045 \nQ 2306 3072 2169 3072 \nQ 1681 3072 1420 2755 \nQ 1159 2438 1159 1844 \nL 1159 0 \nL 581 0 \nL 581 3500 \nL 1159 3500 \nL 1159 2956 \nQ 1341 3275 1631 3429 \nQ 1922 3584 2338 3584 \nQ 2397 3584 2469 3576 \nQ 2541 3569 2628 3553 \nL 2631 2963 \nz\n\" transform=\"scale(0.015625)\"/>\n       <path id=\"DejaVuSans-61\" d=\"M 2194 1759 \nQ 1497 1759 1228 1600 \nQ 959 1441 959 1056 \nQ 959 750 1161 570 \nQ 1363 391 1709 391 \nQ 2188 391 2477 730 \nQ 2766 1069 2766 1631 \nL 2766 1759 \nL 2194 1759 \nz\nM 3341 1997 \nL 3341 0 \nL 2766 0 \nL 2766 531 \nQ 2569 213 2275 61 \nQ 1981 -91 1556 -91 \nQ 1019 -91 701 211 \nQ 384 513 384 1019 \nQ 384 1609 779 1909 \nQ 1175 2209 1959 2209 \nL 2766 2209 \nL 2766 2266 \nQ 2766 2663 2505 2880 \nQ 2244 3097 1772 3097 \nQ 1472 3097 1187 3025 \nQ 903 2953 641 2809 \nL 641 3341 \nQ 956 3463 1253 3523 \nQ 1550 3584 1831 3584 \nQ 2591 3584 2966 3190 \nQ 3341 2797 3341 1997 \nz\n\" transform=\"scale(0.015625)\"/>\n       <path id=\"DejaVuSans-69\" d=\"M 603 3500 \nL 1178 3500 \nL 1178 0 \nL 603 0 \nL 603 3500 \nz\nM 603 4863 \nL 1178 4863 \nL 1178 4134 \nL 603 4134 \nL 603 4863 \nz\n\" transform=\"scale(0.015625)\"/>\n       <path id=\"DejaVuSans-6e\" d=\"M 3513 2113 \nL 3513 0 \nL 2938 0 \nL 2938 2094 \nQ 2938 2591 2744 2837 \nQ 2550 3084 2163 3084 \nQ 1697 3084 1428 2787 \nQ 1159 2491 1159 1978 \nL 1159 0 \nL 581 0 \nL 581 3500 \nL 1159 3500 \nL 1159 2956 \nQ 1366 3272 1645 3428 \nQ 1925 3584 2291 3584 \nQ 2894 3584 3203 3211 \nQ 3513 2838 3513 2113 \nz\n\" transform=\"scale(0.015625)\"/>\n       <path id=\"DejaVuSans-5f\" d=\"M 3263 -1063 \nL 3263 -1509 \nL -63 -1509 \nL -63 -1063 \nL 3263 -1063 \nz\n\" transform=\"scale(0.015625)\"/>\n       <path id=\"DejaVuSans-6c\" d=\"M 603 4863 \nL 1178 4863 \nL 1178 0 \nL 603 0 \nL 603 4863 \nz\n\" transform=\"scale(0.015625)\"/>\n       <path id=\"DejaVuSans-73\" d=\"M 2834 3397 \nL 2834 2853 \nQ 2591 2978 2328 3040 \nQ 2066 3103 1784 3103 \nQ 1356 3103 1142 2972 \nQ 928 2841 928 2578 \nQ 928 2378 1081 2264 \nQ 1234 2150 1697 2047 \nL 1894 2003 \nQ 2506 1872 2764 1633 \nQ 3022 1394 3022 966 \nQ 3022 478 2636 193 \nQ 2250 -91 1575 -91 \nQ 1294 -91 989 -36 \nQ 684 19 347 128 \nL 347 722 \nQ 666 556 975 473 \nQ 1284 391 1588 391 \nQ 1994 391 2212 530 \nQ 2431 669 2431 922 \nQ 2431 1156 2273 1281 \nQ 2116 1406 1581 1522 \nL 1381 1569 \nQ 847 1681 609 1914 \nQ 372 2147 372 2553 \nQ 372 3047 722 3315 \nQ 1072 3584 1716 3584 \nQ 2034 3584 2315 3537 \nQ 2597 3491 2834 3397 \nz\n\" transform=\"scale(0.015625)\"/>\n      </defs>\n      <use xlink:href=\"#DejaVuSans-74\"/>\n      <use xlink:href=\"#DejaVuSans-72\" x=\"39.208984\"/>\n      <use xlink:href=\"#DejaVuSans-61\" x=\"80.322266\"/>\n      <use xlink:href=\"#DejaVuSans-69\" x=\"141.601562\"/>\n      <use xlink:href=\"#DejaVuSans-6e\" x=\"169.384766\"/>\n      <use xlink:href=\"#DejaVuSans-5f\" x=\"232.763672\"/>\n      <use xlink:href=\"#DejaVuSans-6c\" x=\"282.763672\"/>\n      <use xlink:href=\"#DejaVuSans-6f\" x=\"310.546875\"/>\n      <use xlink:href=\"#DejaVuSans-73\" x=\"371.728516\"/>\n      <use xlink:href=\"#DejaVuSans-73\" x=\"423.828125\"/>\n     </g>\n    </g>\n    <g id=\"line2d_128\">\n     <path d=\"M 140.8125 75.620313 \nL 150.8125 75.620313 \nL 160.8125 75.620313 \n\" style=\"fill: none; stroke-dasharray: 5.55,2.4; stroke-dashoffset: 0; stroke: #ff7f0e; stroke-width: 1.5\"/>\n    </g>\n    <g id=\"text_13\">\n     <!-- val_loss -->\n     <g transform=\"translate(168.8125 79.120313) scale(0.1 -0.1)\">\n      <defs>\n       <path id=\"DejaVuSans-76\" d=\"M 191 3500 \nL 800 3500 \nL 1894 563 \nL 2988 3500 \nL 3597 3500 \nL 2284 0 \nL 1503 0 \nL 191 3500 \nz\n\" transform=\"scale(0.015625)\"/>\n      </defs>\n      <use xlink:href=\"#DejaVuSans-76\"/>\n      <use xlink:href=\"#DejaVuSans-61\" x=\"59.179688\"/>\n      <use xlink:href=\"#DejaVuSans-6c\" x=\"120.458984\"/>\n      <use xlink:href=\"#DejaVuSans-5f\" x=\"148.242188\"/>\n      <use xlink:href=\"#DejaVuSans-6c\" x=\"198.242188\"/>\n      <use xlink:href=\"#DejaVuSans-6f\" x=\"226.025391\"/>\n      <use xlink:href=\"#DejaVuSans-73\" x=\"287.207031\"/>\n      <use xlink:href=\"#DejaVuSans-73\" x=\"339.306641\"/>\n     </g>\n    </g>\n    <g id=\"line2d_129\">\n     <path d=\"M 140.8125 90.576563 \nL 150.8125 90.576563 \nL 160.8125 90.576563 \n\" style=\"fill: none; stroke-dasharray: 9.6,2.4,1.5,2.4; stroke-dashoffset: 0; stroke: #2ca02c; stroke-width: 1.5\"/>\n    </g>\n    <g id=\"text_14\">\n     <!-- val_acc -->\n     <g transform=\"translate(168.8125 94.076563) scale(0.1 -0.1)\">\n      <use xlink:href=\"#DejaVuSans-76\"/>\n      <use xlink:href=\"#DejaVuSans-61\" x=\"59.179688\"/>\n      <use xlink:href=\"#DejaVuSans-6c\" x=\"120.458984\"/>\n      <use xlink:href=\"#DejaVuSans-5f\" x=\"148.242188\"/>\n      <use xlink:href=\"#DejaVuSans-61\" x=\"198.242188\"/>\n      <use xlink:href=\"#DejaVuSans-63\" x=\"259.521484\"/>\n      <use xlink:href=\"#DejaVuSans-63\" x=\"314.501953\"/>\n     </g>\n    </g>\n   </g>\n  </g>\n </g>\n <defs>\n  <clipPath id=\"p0e9650fa00\">\n   <rect x=\"30.103125\" y=\"7.2\" width=\"195.3\" height=\"138.6\"/>\n  </clipPath>\n </defs>\n</svg>\n"
          },
          "metadata": {}
        }
      ]
    },
    {
      "cell_type": "markdown",
      "source": [
        "## EXERCISE"
      ],
      "metadata": {
        "id": "kJ7OzoErK7TL"
      }
    },
    {
      "cell_type": "markdown",
      "source": [
        "### 1. Why do we use average pooling rather than max-pooling in the transition layer?\n",
        "\n",
        "\n",
        "Di arsitektur DenseNet, lapisan transisi digunakan untuk mengurangi dimensi spasial (lebar dan tinggi) dari peta fitur sekaligus mengurangi jumlah peta fitur (saluran) sebelum diteruskan ke blok padat berikutnya. Pemilihan antara average pooling dan max-pooling dalam lapisan transisi bergantung pada tujuan desain dan sifat yang diinginkan dari jaringan.\n",
        "\n",
        "Dalam DenseNet, average pooling sering dipilih karena beberapa alasan berikut:\n",
        "\n",
        "1. **Retensi Fitur**: Average pooling menghitung nilai rata-rata dari elemen dalam suatu wilayah pooling, sehingga mempertahankan lebih banyak informasi dibandingkan max-pooling yang hanya memilih nilai maksimum. Hal ini membantu dalam menjaga representasi fitur yang lebih komprehensif.\n",
        "\n",
        "2. **Efek Perataan**: Average pooling memberikan efek perataan pada peta fitur output, yang dapat mengurangi risiko overfitting dengan mencegah jaringan terlalu sensitif terhadap detail tertentu dalam data.\n",
        "\n",
        "3. **Stabilitas**: Average pooling kurang sensitif terhadap outlier dibandingkan dengan max-pooling, membuat jaringan lebih robust terhadap noise atau variasi dalam data input.\n",
        "\n",
        "4. **Invarian Translasi**: Average pooling memberikan tingkat invarian translasi tertentu dengan mempertimbangkan distribusi nilai secara keseluruhan dalam wilayah pooling. Ini berguna ketika pergeseran kecil pada input tidak seharusnya mempengaruhi output secara signifikan.\n",
        "\n",
        "5. **Berbagi Informasi**: Average pooling mendorong berbagi informasi di antara piksel atau unit tetangga, membantu menangkap pola dan struktur global yang ada dalam data input."
      ],
      "metadata": {
        "id": "kPi-21SKK8-r"
      }
    },
    {
      "cell_type": "markdown",
      "source": [
        "### 2. One of the advantages mentioned in the DenseNet paper is that its model parameters are smaller than those of ResNet. Why is this the case?"
      ],
      "metadata": {
        "id": "v_1HvWdQLAG7"
      }
    },
    {
      "cell_type": "code",
      "source": [
        "def count_parameters(model):\n",
        "    return sum(p.numel() for p in model.parameters())\n",
        "\n",
        "data = d2l.FashionMNIST(batch_size=32, resize=(224, 224))\n",
        "arch18 = [(2,[(64,3,1)]*2,None),(2,[(128,3,1)]*2,128),(2,[(256,3,1)]*2,256),(2,[(512,3,1)]*2,512)]\n",
        "resnet18 = d2l.ResNet(arch=arch18, lr=0.01)\n",
        "resnet18.apply_init([next(iter(data.get_dataloader(True)))[0]], d2l.init_cnn)\n",
        "print(count_parameters(resnet18))\n",
        "summary(resnet18, (1, 224, 224))"
      ],
      "metadata": {
        "id": "gWycXr9YU9TW"
      },
      "execution_count": null,
      "outputs": []
    },
    {
      "cell_type": "code",
      "source": [
        "model = DenseNet(lr=0.01)\n",
        "model.apply_init([next(iter(data.get_dataloader(True)))[0]], d2l.init_cnn)\n",
        "print(count_parameters(model))\n",
        "summary(model, (1, 224, 224))"
      ],
      "metadata": {
        "id": "vHbN88xVsASx"
      },
      "execution_count": null,
      "outputs": []
    },
    {
      "cell_type": "markdown",
      "source": [
        "### 3. One problem for which DenseNet has been criticized is its high memory consumption."
      ],
      "metadata": {
        "id": "HjMe72UuLDvI"
      }
    },
    {
      "cell_type": "markdown",
      "source": [
        "a. Is this really the case? Try to change the input shape to 224 X 224 to compare the actual GPU memory consumption empirically."
      ],
      "metadata": {
        "id": "Jms4e_k_sFlM"
      }
    },
    {
      "cell_type": "code",
      "source": [
        "data = d2l.FashionMNIST(batch_size=32, resize=(28, 28))\n",
        "model = DenseNet(lr=0.01)\n",
        "model.apply_init([next(iter(data.get_dataloader(True)))[0]], d2l.init_cnn)\n",
        "torch.cuda.reset_peak_memory_stats()\n",
        "torch.cuda.empty_cache()\n",
        "trainer = d2l.Trainer(max_epochs=10, num_gpus=1)\n",
        "trainer.fit(model, data)\n",
        "memory_stats = torch.cuda.memory_stats(device=device)\n",
        "# Print peak memory usage and other memory statistics\n",
        "print(\"Peak memory usage:\", memory_stats[\"allocated_bytes.all.peak\"] / (1024 ** 2), \"MB\")\n",
        "print(\"Current memory usage:\", memory_stats[\"allocated_bytes.all.current\"] / (1024 ** 2), \"MB\")"
      ],
      "metadata": {
        "id": "hkEgLJs3sNsP"
      },
      "execution_count": null,
      "outputs": []
    },
    {
      "cell_type": "code",
      "source": [
        "data = d2l.FashionMNIST(batch_size=32, resize=(224, 224))\n",
        "model = DenseNet(lr=0.01)\n",
        "model.apply_init([next(iter(data.get_dataloader(True)))[0]], d2l.init_cnn)\n",
        "torch.cuda.reset_peak_memory_stats()\n",
        "torch.cuda.empty_cache()\n",
        "trainer = d2l.Trainer(max_epochs=10, num_gpus=1)\n",
        "trainer.fit(model, data)\n",
        "memory_stats = torch.cuda.memory_stats(device=device)\n",
        "# Print peak memory usage and other memory statistics\n",
        "print(\"Peak memory usage:\", memory_stats[\"allocated_bytes.all.peak\"] / (1024 ** 2), \"MB\")\n",
        "print(\"Current memory usage:\", memory_stats[\"allocated_bytes.all.current\"] / (1024 ** 2), \"MB\")"
      ],
      "metadata": {
        "id": "oC6lVWv7sRSr"
      },
      "execution_count": null,
      "outputs": []
    },
    {
      "cell_type": "markdown",
      "source": [
        "\n",
        "b. Can you think of an alternative means of reducing the memory consumption? How would you need to change the framework?\n",
        "\n",
        "Salah satu pendekatan untuk mengurangi konsumsi memori dalam arsitektur DenseNet adalah **memperkenalkan sparsitas ke dalam model**.\n",
        "\n",
        "**Cara mengubah kerangka kerja untuk mencapainya:**\n",
        "- Konektivitas Spars\n",
        "\n",
        "  Alih-alih memiliki blok padat yang sepenuhnya terhubung, Anda dapat memperkenalkan pola konektivitas spars. Artinya, tidak semua lapisan terhubung ke setiap lapisan lain dalam blok padat. Anda bisa memilih secara acak subset dari peta fitur lapisan sebelumnya untuk digabungkan dengan lapisan saat ini, sehingga mengurangi jumlah koneksi dan konsumsi memori.\n",
        "\n",
        "- Pemangkasan Saluran\n",
        "\n",
        "  Terapkan teknik pemangkasan saluran pada blok padat. Identifikasi saluran yang kurang penting dan hapus dari operasi penggabungan untuk mengurangi jumlah saluran aktif.\n",
        "\n",
        "- Regulasi dan Kompresi\n",
        "\n",
        "  Gunakan teknik regulasi seperti L1 selama pelatihan untuk mendorong bobot tertentu menjadi nol. Anda juga dapat mengeksplorasi metode kompresi model seperti distilasi pengetahuan atau kuantisasi.\n",
        "\n",
        "- Approximation Rang-Rendah\n",
        "\n",
        "  Lakukan faktorisasi matriks rang-rendah pada matriks bobot di dalam blok padat, yang dapat mengurangi penggunaan memori dengan mendekati matriks bobot menggunakan faktor berdimensi lebih rendah.\n",
        "\n",
        "- Alokasi Dinamis\n",
        "\n",
        "  Alokasikan memori secara dinamis selama inferensi hanya untuk menyimpan peta fitur yang diperlukan, menghindari alokasi memori untuk peta fitur yang tidak lagi dibutuhkan.\n",
        "\n",
        "- Fungsi Aktivasi yang Menginduksi Sparsitas\n",
        "\n",
        "  Gunakan fungsi aktivasi yang secara alami menginduksi sparsitas, seperti fungsi ReLU6 yang membatasi aktivasi pada nilai maksimum, sehingga beberapa neuron bisa menjadi tidak aktif.\n",
        "\n",
        "- Blok Padat Adaptif\n",
        "\n",
        "  Rancang blok padat adaptif yang menyesuaikan pola konektivitasnya berdasarkan distribusi data, misalnya dengan menggunakan mekanisme perhatian untuk menentukan peta fitur sebelumnya mana yang harus digabungkan berdasarkan pentingnya.\n",
        "\n",
        "Implementasi perubahan ini memerlukan modifikasi pada arsitektur, prosedur pelatihan, serta kemungkinan lapisan kustom atau modifikasi pada lapisan yang ada. Penting untuk dicatat bahwa teknik ini mungkin melibatkan trade-off antara pengurangan memori dan kinerja model. Disarankan untuk bereksperimen dan menyesuaikan strategi ini sesuai dengan domain masalah spesifik untuk menemukan keseimbangan yang tepat."
      ],
      "metadata": {
        "id": "IJrOXG4YsHv9"
      }
    },
    {
      "cell_type": "markdown",
      "source": [
        "### 4. Implement the various DenseNet versions presented in Table 1 of the DenseNet paper (Huang et al., 2017)."
      ],
      "metadata": {
        "id": "N-tyOWYFLLzh"
      }
    },
    {
      "cell_type": "code",
      "source": [
        "def conv_block(num_channels, kernel_size, padding):\n",
        "    return nn.Sequential(\n",
        "        nn.LazyBatchNorm2d(), nn.ReLU(),\n",
        "        nn.LazyConv2d(num_channels, kernel_size=kernel_size, padding=padding))\n",
        "\n",
        "def transition_block(num_channels):\n",
        "    return nn.Sequential(\n",
        "        nn.LazyBatchNorm2d(), nn.ReLU(),\n",
        "        nn.LazyConv2d(num_channels, kernel_size=1),\n",
        "        nn.AvgPool2d(kernel_size=2, stride=2))\n",
        "\n",
        "class DenseBlock(nn.Module):\n",
        "    def __init__(self, convs, num_channels):\n",
        "        super(DenseBlock, self).__init__()\n",
        "        layer = []\n",
        "        for kernel_size, padding in convs:\n",
        "            layer.append(conv_block(num_channels, kernel_size, padding))\n",
        "        self.net = nn.Sequential(*layer)\n",
        "\n",
        "    def forward(self, X):\n",
        "        for blk in self.net:\n",
        "            Y = blk(X)\n",
        "            # Concatenate input and output of each block along the channels\n",
        "            X = torch.cat((X, Y), dim=1)\n",
        "        return X\n",
        "\n",
        "class DenseNet(d2l.Classifier):\n",
        "    def b1(self):\n",
        "        return nn.Sequential(\n",
        "            nn.LazyConv2d(64, kernel_size=7, stride=2, padding=3),\n",
        "            nn.LazyBatchNorm2d(), nn.ReLU(),\n",
        "            nn.MaxPool2d(kernel_size=3, stride=2, padding=1))\n",
        "\n",
        "    def __init__(self, num_channels=64, growth_rate=32, arch=[[[3,1],[3,1]],[[3,1],[3,1]]],lr=0.1, num_classes=10):\n",
        "        super(DenseNet, self).__init__()\n",
        "        self.save_hyperparameters()\n",
        "        self.net = nn.Sequential(self.b1())\n",
        "        for i, convs in enumerate(arch):\n",
        "            self.net.add_module(f'dense_blk{i+1}', DenseBlock(convs, growth_rate))\n",
        "            # The number of output channels in the previous dense block\n",
        "            num_channels += len(convs) * growth_rate\n",
        "            # A transition layer that halves the number of channels is added\n",
        "            # between the dense blocks\n",
        "            if i != len(arch) - 1:\n",
        "                num_channels //= 2\n",
        "                self.net.add_module(f'tran_blk{i+1}', transition_block(\n",
        "                    num_channels))\n",
        "        self.net.add_module('last', nn.Sequential(\n",
        "            nn.LazyBatchNorm2d(), nn.ReLU(),\n",
        "            nn.AdaptiveAvgPool2d((1, 1)), nn.Flatten(),\n",
        "            nn.LazyLinear(num_classes)))\n",
        "        self.net.apply(d2l.init_cnn)"
      ],
      "metadata": {
        "id": "UI2I42xfuBY4"
      },
      "execution_count": null,
      "outputs": []
    },
    {
      "cell_type": "code",
      "source": [
        "data = d2l.FashionMNIST(batch_size=32, resize=(224, 224))\n",
        "arch121 = ([[[1,0],[3,1]]*6,[[1,0],[3,1]]*12,[[1,0],[3,1]]*24,[[1,0],[3,1]]*16])\n",
        "densenet121 = DenseNet(lr=0.01, arch=arch121)\n",
        "densenet121.apply_init([next(iter(data.get_dataloader(True)))[0]], d2l.init_cnn)\n",
        "# print(count_parameters(model))\n",
        "summary(densenet121, (1, 224, 224))"
      ],
      "metadata": {
        "id": "FOz9IM7PuB9x"
      },
      "execution_count": null,
      "outputs": []
    },
    {
      "cell_type": "code",
      "source": [
        "arch169 = ([[[1,0],[3,1]]*6,[[1,0],[3,1]]*12,[[1,0],[3,1]]*32,[[1,0],[3,1]]*32])\n",
        "densenet169 = DenseNet(lr=0.01, arch=arch169)"
      ],
      "metadata": {
        "id": "btVsny_ruFj3"
      },
      "execution_count": null,
      "outputs": []
    },
    {
      "cell_type": "code",
      "source": [
        "arch201 = ([[[1,0],[3,1]]*6,[[1,0],[3,1]]*12,[[1,0],[3,1]]*48,[[1,0],[3,1]]*32])\n",
        "densenet201 = DenseNet(lr=0.01, arch=arch201)"
      ],
      "metadata": {
        "id": "oaT-7CJFuOCr"
      },
      "execution_count": null,
      "outputs": []
    },
    {
      "cell_type": "code",
      "source": [
        "arch264 = ([[[1,0],[3,1]]*6,[[1,0],[3,1]]*12,[[1,0],[3,1]]*64,[[1,0],[3,1]]*48])\n",
        "densenet264 = DenseNet(lr=0.01, arch=arch264)"
      ],
      "metadata": {
        "id": "H_VmJVmCuP7f"
      },
      "execution_count": null,
      "outputs": []
    },
    {
      "cell_type": "markdown",
      "source": [
        "### 5. Design an MLP-based model by applying the DenseNet idea. Apply it to the housing price prediction task in Section 5.7."
      ],
      "metadata": {
        "id": "AAEe2tA5LV0G"
      }
    },
    {
      "cell_type": "code",
      "source": [
        "import pandas as pd\n",
        "import time\n",
        "from tqdm import tqdm\n",
        "import sys\n",
        "import torch\n",
        "import torchvision\n",
        "from torchvision import transforms\n",
        "import torch.nn as nn\n",
        "import warnings\n",
        "import matplotlib.pyplot as plt\n",
        "import cProfile\n",
        "sys.path.append('/home/jovyan/work/d2l_solutions/notebooks/exercises/d2l_utils/')\n",
        "import d2l\n",
        "warnings.filterwarnings(\"ignore\")\n",
        "\n",
        "class KaggleHouse(d2l.DataModule):\n",
        "    def __init__(self, batch_size, train=None, val=None):\n",
        "        super().__init__()\n",
        "        self.save_hyperparameters()\n",
        "        if self.train is None:\n",
        "            self.raw_train = pd.read_csv(d2l.download(d2l.DATA_URL+ 'kaggle_house_pred_train.csv', self.root,\n",
        "                sha1_hash='585e9cc93e70b39160e7921475f9bcd7d31219ce'))\n",
        "            self.raw_val = pd.read_csv(d2l.download(\n",
        "                d2l.DATA_URL + 'kaggle_house_pred_test.csv', self.root,\n",
        "                sha1_hash='fa19780a7b011d9b009e8bff8e99922a8ee2eb90'))\n",
        "\n",
        "    def preprocess(self, std_flag=True):\n",
        "        label = 'SalePrice'\n",
        "        features = pd.concat((self.raw_train.drop(columns=['Id',label]),\n",
        "                              self.raw_val.drop(columns=['Id'])))\n",
        "        numeric_features = features.dtypes[features.dtypes!='object'].index\n",
        "        if std_flag:\n",
        "            features[numeric_features] = features[numeric_features].apply(lambda x: (x-x.mean())/x.std())\n",
        "        features[numeric_features] = features[numeric_features].fillna(0)\n",
        "        features = pd.get_dummies(features, dummy_na=True)\n",
        "        self.train = features[:self.raw_train.shape[0]].copy()\n",
        "        self.train[label] = self.raw_train[label]\n",
        "        self.val = features[self.raw_train.shape[0]:].copy()\n",
        "\n",
        "    def get_dataloader(self, train):\n",
        "        label = 'SalePrice'\n",
        "        data = self.train if train else self.val\n",
        "        if label not in data:\n",
        "            return\n",
        "        get_tensor = lambda x: torch.tensor(x.values.astype(float), dtype=torch.float32)\n",
        "        # tensors = (get_tensor(data.drop(columns=[label])),\n",
        "        #            torch.log(get_tensor(data[label])).reshape(-1,1))\n",
        "        tensors = (get_tensor(data.drop(columns=[label])),  # X\n",
        "               torch.log(get_tensor(data[label])).reshape((-1, 1)))  # Y\n",
        "        return self.get_tensorloader(tensors, train)\n",
        "\n",
        "def k_fold_data(data,k):\n",
        "    rets = []\n",
        "    fold_size = data.train.shape[0] // k\n",
        "    for j in range(k):\n",
        "        idx = range(j*fold_size,(j+1)*fold_size)\n",
        "        rets.append(KaggleHouse(data.batch_size,data.train.drop(index=idx),data.train.iloc[idx]))\n",
        "    return rets\n",
        "\n",
        "def k_fold(trainer, data, k, ModelClass,hparams,plot_flag=True):\n",
        "    val_loss, models = [], []\n",
        "    for i, data_fold in enumerate(k_fold_data(data,k)):\n",
        "        model = ModelClass(**hparams)\n",
        "        model.board.yscale='log'\n",
        "        if not plot_flag or i != 0:\n",
        "            model.board.display=False\n",
        "        trainer.fit(model,data_fold)\n",
        "        val_loss.append(float(model.board.data['val_loss'][-1].y))\n",
        "        models.append(model)\n",
        "    avg_val_loss = sum(val_loss)/len(val_loss)\n",
        "    print(f'average validation log mse = {avg_val_loss}, params:{hparams}')\n",
        "    return models, avg_val_loss\n",
        "\n",
        "\n",
        "\n",
        "class HouseResMLP(d2l.LinearRegression):\n",
        "    def __init__(self, num_outputs, num_hiddens, lr, dropouts, weight_decay):\n",
        "        super().__init__(lr)\n",
        "        self.save_hyperparameters()\n",
        "        layers = [nn.Flatten()]\n",
        "        for i in range(len(num_hiddens)):\n",
        "            layers.append(nn.Sequential(nn.LazyLinear(num_hiddens[i]),\n",
        "                                        nn.ReLU(),\n",
        "                                        nn.Dropout(dropouts[i]),\n",
        "                                        nn.LazyBatchNorm1d(),\n",
        "                                        ))\n",
        "        layers.append(nn.LazyLinear(num_outputs))\n",
        "        self.net = nn.Sequential(*layers)\n",
        "\n",
        "    def forward(self, X):\n",
        "        X = self.net[0](X)\n",
        "        for blk in self.net[1:-1]:\n",
        "            Y = blk(X)\n",
        "            # Concatenate input and output of each block along the channels\n",
        "            X = torch.cat((X, Y), dim=1)\n",
        "        return self.net[-1](X)"
      ],
      "metadata": {
        "id": "P3Q6JREauYQG"
      },
      "execution_count": null,
      "outputs": []
    },
    {
      "cell_type": "code",
      "source": [
        "hparams = {'dropouts': [0]*5,\n",
        " 'lr': 0.01,\n",
        " 'num_hiddens': [64,32,16,8],\n",
        " 'num_outputs': 1,\n",
        " 'weight_decay': 0}\n",
        "model = HouseResMLP(**hparams)\n",
        "summary(model,(1,80))"
      ],
      "metadata": {
        "id": "vj-fQWCBuY0R"
      },
      "execution_count": null,
      "outputs": []
    },
    {
      "cell_type": "code",
      "source": [
        "data = KaggleHouse(batch_size=64)\n",
        "print(data.raw_train.shape, data.raw_val.shape)\n",
        "data.preprocess()"
      ],
      "metadata": {
        "id": "sdgKjbEuudDy"
      },
      "execution_count": null,
      "outputs": []
    },
    {
      "cell_type": "code",
      "source": [
        "hparams = {'dropouts': [0]*5,\n",
        " 'lr': 0.005,\n",
        " 'num_hiddens': [1,1,1],\n",
        " # 'num_hiddens': [128,64,32],\n",
        " 'num_outputs': 1,\n",
        " 'weight_decay': 0}\n",
        "trainer = d2l.Trainer(max_epochs=100)\n",
        "models,avg_val_loss = k_fold(trainer, data, k=5,ModelClass=HouseResMLP,hparams=hparams,plot_flag=True)"
      ],
      "metadata": {
        "id": "_dViESMJudkW"
      },
      "execution_count": null,
      "outputs": []
    },
    {
      "cell_type": "code",
      "source": [
        "preds = [model(torch.tensor(data.val.values.astype(float), dtype=torch.float32)) for model in models]\n",
        "ensemble_preds = torch.exp(torch.cat(preds,1)).mean(1)\n",
        "submission = pd.DataFrame({'Id':data.raw_val.Id,'SalePrice':ensemble_preds.detach().numpy()})\n",
        "submission.to_csv('submission.csv', index=False)"
      ],
      "metadata": {
        "id": "X40VZbApuik0"
      },
      "execution_count": null,
      "outputs": []
    },
    {
      "cell_type": "markdown",
      "source": [
        "# 8.8 Designing Convolution Network Architectures"
      ],
      "metadata": {
        "id": "Y1_hlqp4Lc5t"
      }
    },
    {
      "cell_type": "code",
      "source": [
        "import torch\n",
        "from torch import nn\n",
        "from torch.nn import functional as F\n",
        "from d2l import torch as d2l"
      ],
      "metadata": {
        "id": "IcZlccgMLjsC"
      },
      "execution_count": 53,
      "outputs": []
    },
    {
      "cell_type": "code",
      "source": [
        "class AnyNet(d2l.Classifier):\n",
        "    def stem(self, num_channels):\n",
        "        return nn.Sequential(\n",
        "            nn.LazyConv2d(num_channels, kernel_size=3, stride=2, padding=1),\n",
        "            nn.LazyBatchNorm2d(), nn.ReLU())"
      ],
      "metadata": {
        "id": "09fyIhJfLoQX"
      },
      "execution_count": 54,
      "outputs": []
    },
    {
      "cell_type": "code",
      "source": [
        "@d2l.add_to_class(AnyNet)\n",
        "def stage(self, depth, num_channels, groups, bot_mul):\n",
        "    blk = []\n",
        "    for i in range(depth):\n",
        "        if i == 0:\n",
        "            blk.append(d2l.ResNeXtBlock(num_channels, groups, bot_mul,\n",
        "                use_1x1conv=True, strides=2))\n",
        "        else:\n",
        "            blk.append(d2l.ResNeXtBlock(num_channels, groups, bot_mul))\n",
        "    return nn.Sequential(*blk)"
      ],
      "metadata": {
        "id": "xiXyELDNLq8q"
      },
      "execution_count": 55,
      "outputs": []
    },
    {
      "cell_type": "code",
      "source": [
        "@d2l.add_to_class(AnyNet)\n",
        "def __init__(self, arch, stem_channels, lr=0.1, num_classes=10):\n",
        "    super(AnyNet, self).__init__()\n",
        "    self.save_hyperparameters()\n",
        "    self.net = nn.Sequential(self.stem(stem_channels))\n",
        "    for i, s in enumerate(arch):\n",
        "        self.net.add_module(f'stage{i+1}', self.stage(*s))\n",
        "    self.net.add_module('head', nn.Sequential(\n",
        "        nn.AdaptiveAvgPool2d((1, 1)), nn.Flatten(),\n",
        "        nn.LazyLinear(num_classes)))\n",
        "    self.net.apply(d2l.init_cnn)"
      ],
      "metadata": {
        "id": "wuQMFEtELszU"
      },
      "execution_count": 56,
      "outputs": []
    },
    {
      "cell_type": "code",
      "source": [
        "class RegNetX32(AnyNet):\n",
        "    def __init__(self, lr=0.1, num_classes=10):\n",
        "        stem_channels, groups, bot_mul = 32, 16, 1\n",
        "        depths, channels = (4, 6), (32, 80)\n",
        "        super().__init__(\n",
        "            ((depths[0], channels[0], groups, bot_mul),\n",
        "             (depths[1], channels[1], groups, bot_mul)),\n",
        "            stem_channels, lr, num_classes)"
      ],
      "metadata": {
        "id": "qj0-itFJLu36"
      },
      "execution_count": 57,
      "outputs": []
    },
    {
      "cell_type": "code",
      "source": [
        "RegNetX32().layer_summary((1, 1, 96, 96))"
      ],
      "metadata": {
        "id": "859apC_RLx2h",
        "colab": {
          "base_uri": "https://localhost:8080/"
        },
        "outputId": "ff23812a-cf90-4413-c562-5d9fb800c842"
      },
      "execution_count": 58,
      "outputs": [
        {
          "output_type": "stream",
          "name": "stdout",
          "text": [
            "Sequential output shape:\t torch.Size([1, 32, 48, 48])\n",
            "Sequential output shape:\t torch.Size([1, 32, 24, 24])\n",
            "Sequential output shape:\t torch.Size([1, 80, 12, 12])\n",
            "Sequential output shape:\t torch.Size([1, 10])\n"
          ]
        }
      ]
    },
    {
      "cell_type": "code",
      "source": [
        "model = RegNetX32(lr=0.05)\n",
        "trainer = d2l.Trainer(max_epochs=10, num_gpus=1)\n",
        "data = d2l.FashionMNIST(batch_size=128, resize=(96, 96))\n",
        "trainer.fit(model, data)"
      ],
      "metadata": {
        "id": "I-5brJOjLz13",
        "colab": {
          "base_uri": "https://localhost:8080/",
          "height": 266
        },
        "outputId": "1c719276-141a-4c49-d4ab-d683be96ce04"
      },
      "execution_count": 59,
      "outputs": [
        {
          "output_type": "display_data",
          "data": {
            "text/plain": [
              "<Figure size 350x250 with 1 Axes>"
            ],
            "image/svg+xml": "<?xml version=\"1.0\" encoding=\"utf-8\" standalone=\"no\"?>\n<!DOCTYPE svg PUBLIC \"-//W3C//DTD SVG 1.1//EN\"\n  \"http://www.w3.org/Graphics/SVG/1.1/DTD/svg11.dtd\">\n<svg xmlns:xlink=\"http://www.w3.org/1999/xlink\" width=\"238.965625pt\" height=\"183.382486pt\" viewBox=\"0 0 238.965625 183.382486\" xmlns=\"http://www.w3.org/2000/svg\" version=\"1.1\">\n <metadata>\n  <rdf:RDF xmlns:dc=\"http://purl.org/dc/elements/1.1/\" xmlns:cc=\"http://creativecommons.org/ns#\" xmlns:rdf=\"http://www.w3.org/1999/02/22-rdf-syntax-ns#\">\n   <cc:Work>\n    <dc:type rdf:resource=\"http://purl.org/dc/dcmitype/StillImage\"/>\n    <dc:date>2024-10-04T15:09:06.422317</dc:date>\n    <dc:format>image/svg+xml</dc:format>\n    <dc:creator>\n     <cc:Agent>\n      <dc:title>Matplotlib v3.7.2, https://matplotlib.org/</dc:title>\n     </cc:Agent>\n    </dc:creator>\n   </cc:Work>\n  </rdf:RDF>\n </metadata>\n <defs>\n  <style type=\"text/css\">*{stroke-linejoin: round; stroke-linecap: butt}</style>\n </defs>\n <g id=\"figure_1\">\n  <g id=\"patch_1\">\n   <path d=\"M 0 183.382486 \nL 238.965625 183.382486 \nL 238.965625 -0 \nL 0 -0 \nz\n\" style=\"fill: #ffffff\"/>\n  </g>\n  <g id=\"axes_1\">\n   <g id=\"patch_2\">\n    <path d=\"M 30.103125 145.826236 \nL 225.403125 145.826236 \nL 225.403125 7.226236 \nL 30.103125 7.226236 \nz\n\" style=\"fill: #ffffff\"/>\n   </g>\n   <g id=\"matplotlib.axis_1\">\n    <g id=\"xtick_1\">\n     <g id=\"line2d_1\">\n      <defs>\n       <path id=\"m9b8ced3839\" d=\"M 0 0 \nL 0 3.5 \n\" style=\"stroke: #000000; stroke-width: 0.8\"/>\n      </defs>\n      <g>\n       <use xlink:href=\"#m9b8ced3839\" x=\"30.103125\" y=\"145.826236\" style=\"stroke: #000000; stroke-width: 0.8\"/>\n      </g>\n     </g>\n     <g id=\"text_1\">\n      <!-- 0 -->\n      <g transform=\"translate(26.921875 160.424674) scale(0.1 -0.1)\">\n       <defs>\n        <path id=\"DejaVuSans-30\" d=\"M 2034 4250 \nQ 1547 4250 1301 3770 \nQ 1056 3291 1056 2328 \nQ 1056 1369 1301 889 \nQ 1547 409 2034 409 \nQ 2525 409 2770 889 \nQ 3016 1369 3016 2328 \nQ 3016 3291 2770 3770 \nQ 2525 4250 2034 4250 \nz\nM 2034 4750 \nQ 2819 4750 3233 4129 \nQ 3647 3509 3647 2328 \nQ 3647 1150 3233 529 \nQ 2819 -91 2034 -91 \nQ 1250 -91 836 529 \nQ 422 1150 422 2328 \nQ 422 3509 836 4129 \nQ 1250 4750 2034 4750 \nz\n\" transform=\"scale(0.015625)\"/>\n       </defs>\n       <use xlink:href=\"#DejaVuSans-30\"/>\n      </g>\n     </g>\n    </g>\n    <g id=\"xtick_2\">\n     <g id=\"line2d_2\">\n      <g>\n       <use xlink:href=\"#m9b8ced3839\" x=\"69.163125\" y=\"145.826236\" style=\"stroke: #000000; stroke-width: 0.8\"/>\n      </g>\n     </g>\n     <g id=\"text_2\">\n      <!-- 2 -->\n      <g transform=\"translate(65.981875 160.424674) scale(0.1 -0.1)\">\n       <defs>\n        <path id=\"DejaVuSans-32\" d=\"M 1228 531 \nL 3431 531 \nL 3431 0 \nL 469 0 \nL 469 531 \nQ 828 903 1448 1529 \nQ 2069 2156 2228 2338 \nQ 2531 2678 2651 2914 \nQ 2772 3150 2772 3378 \nQ 2772 3750 2511 3984 \nQ 2250 4219 1831 4219 \nQ 1534 4219 1204 4116 \nQ 875 4013 500 3803 \nL 500 4441 \nQ 881 4594 1212 4672 \nQ 1544 4750 1819 4750 \nQ 2544 4750 2975 4387 \nQ 3406 4025 3406 3419 \nQ 3406 3131 3298 2873 \nQ 3191 2616 2906 2266 \nQ 2828 2175 2409 1742 \nQ 1991 1309 1228 531 \nz\n\" transform=\"scale(0.015625)\"/>\n       </defs>\n       <use xlink:href=\"#DejaVuSans-32\"/>\n      </g>\n     </g>\n    </g>\n    <g id=\"xtick_3\">\n     <g id=\"line2d_3\">\n      <g>\n       <use xlink:href=\"#m9b8ced3839\" x=\"108.223125\" y=\"145.826236\" style=\"stroke: #000000; stroke-width: 0.8\"/>\n      </g>\n     </g>\n     <g id=\"text_3\">\n      <!-- 4 -->\n      <g transform=\"translate(105.041875 160.424674) scale(0.1 -0.1)\">\n       <defs>\n        <path id=\"DejaVuSans-34\" d=\"M 2419 4116 \nL 825 1625 \nL 2419 1625 \nL 2419 4116 \nz\nM 2253 4666 \nL 3047 4666 \nL 3047 1625 \nL 3713 1625 \nL 3713 1100 \nL 3047 1100 \nL 3047 0 \nL 2419 0 \nL 2419 1100 \nL 313 1100 \nL 313 1709 \nL 2253 4666 \nz\n\" transform=\"scale(0.015625)\"/>\n       </defs>\n       <use xlink:href=\"#DejaVuSans-34\"/>\n      </g>\n     </g>\n    </g>\n    <g id=\"xtick_4\">\n     <g id=\"line2d_4\">\n      <g>\n       <use xlink:href=\"#m9b8ced3839\" x=\"147.283125\" y=\"145.826236\" style=\"stroke: #000000; stroke-width: 0.8\"/>\n      </g>\n     </g>\n     <g id=\"text_4\">\n      <!-- 6 -->\n      <g transform=\"translate(144.101875 160.424674) scale(0.1 -0.1)\">\n       <defs>\n        <path id=\"DejaVuSans-36\" d=\"M 2113 2584 \nQ 1688 2584 1439 2293 \nQ 1191 2003 1191 1497 \nQ 1191 994 1439 701 \nQ 1688 409 2113 409 \nQ 2538 409 2786 701 \nQ 3034 994 3034 1497 \nQ 3034 2003 2786 2293 \nQ 2538 2584 2113 2584 \nz\nM 3366 4563 \nL 3366 3988 \nQ 3128 4100 2886 4159 \nQ 2644 4219 2406 4219 \nQ 1781 4219 1451 3797 \nQ 1122 3375 1075 2522 \nQ 1259 2794 1537 2939 \nQ 1816 3084 2150 3084 \nQ 2853 3084 3261 2657 \nQ 3669 2231 3669 1497 \nQ 3669 778 3244 343 \nQ 2819 -91 2113 -91 \nQ 1303 -91 875 529 \nQ 447 1150 447 2328 \nQ 447 3434 972 4092 \nQ 1497 4750 2381 4750 \nQ 2619 4750 2861 4703 \nQ 3103 4656 3366 4563 \nz\n\" transform=\"scale(0.015625)\"/>\n       </defs>\n       <use xlink:href=\"#DejaVuSans-36\"/>\n      </g>\n     </g>\n    </g>\n    <g id=\"xtick_5\">\n     <g id=\"line2d_5\">\n      <g>\n       <use xlink:href=\"#m9b8ced3839\" x=\"186.343125\" y=\"145.826236\" style=\"stroke: #000000; stroke-width: 0.8\"/>\n      </g>\n     </g>\n     <g id=\"text_5\">\n      <!-- 8 -->\n      <g transform=\"translate(183.161875 160.424674) scale(0.1 -0.1)\">\n       <defs>\n        <path id=\"DejaVuSans-38\" d=\"M 2034 2216 \nQ 1584 2216 1326 1975 \nQ 1069 1734 1069 1313 \nQ 1069 891 1326 650 \nQ 1584 409 2034 409 \nQ 2484 409 2743 651 \nQ 3003 894 3003 1313 \nQ 3003 1734 2745 1975 \nQ 2488 2216 2034 2216 \nz\nM 1403 2484 \nQ 997 2584 770 2862 \nQ 544 3141 544 3541 \nQ 544 4100 942 4425 \nQ 1341 4750 2034 4750 \nQ 2731 4750 3128 4425 \nQ 3525 4100 3525 3541 \nQ 3525 3141 3298 2862 \nQ 3072 2584 2669 2484 \nQ 3125 2378 3379 2068 \nQ 3634 1759 3634 1313 \nQ 3634 634 3220 271 \nQ 2806 -91 2034 -91 \nQ 1263 -91 848 271 \nQ 434 634 434 1313 \nQ 434 1759 690 2068 \nQ 947 2378 1403 2484 \nz\nM 1172 3481 \nQ 1172 3119 1398 2916 \nQ 1625 2713 2034 2713 \nQ 2441 2713 2670 2916 \nQ 2900 3119 2900 3481 \nQ 2900 3844 2670 4047 \nQ 2441 4250 2034 4250 \nQ 1625 4250 1398 4047 \nQ 1172 3844 1172 3481 \nz\n\" transform=\"scale(0.015625)\"/>\n       </defs>\n       <use xlink:href=\"#DejaVuSans-38\"/>\n      </g>\n     </g>\n    </g>\n    <g id=\"xtick_6\">\n     <g id=\"line2d_6\">\n      <g>\n       <use xlink:href=\"#m9b8ced3839\" x=\"225.403125\" y=\"145.826236\" style=\"stroke: #000000; stroke-width: 0.8\"/>\n      </g>\n     </g>\n     <g id=\"text_6\">\n      <!-- 10 -->\n      <g transform=\"translate(219.040625 160.424674) scale(0.1 -0.1)\">\n       <defs>\n        <path id=\"DejaVuSans-31\" d=\"M 794 531 \nL 1825 531 \nL 1825 4091 \nL 703 3866 \nL 703 4441 \nL 1819 4666 \nL 2450 4666 \nL 2450 531 \nL 3481 531 \nL 3481 0 \nL 794 0 \nL 794 531 \nz\n\" transform=\"scale(0.015625)\"/>\n       </defs>\n       <use xlink:href=\"#DejaVuSans-31\"/>\n       <use xlink:href=\"#DejaVuSans-30\" x=\"63.623047\"/>\n      </g>\n     </g>\n    </g>\n    <g id=\"text_7\">\n     <!-- epoch -->\n     <g transform=\"translate(112.525 174.102799) scale(0.1 -0.1)\">\n      <defs>\n       <path id=\"DejaVuSans-65\" d=\"M 3597 1894 \nL 3597 1613 \nL 953 1613 \nQ 991 1019 1311 708 \nQ 1631 397 2203 397 \nQ 2534 397 2845 478 \nQ 3156 559 3463 722 \nL 3463 178 \nQ 3153 47 2828 -22 \nQ 2503 -91 2169 -91 \nQ 1331 -91 842 396 \nQ 353 884 353 1716 \nQ 353 2575 817 3079 \nQ 1281 3584 2069 3584 \nQ 2775 3584 3186 3129 \nQ 3597 2675 3597 1894 \nz\nM 3022 2063 \nQ 3016 2534 2758 2815 \nQ 2500 3097 2075 3097 \nQ 1594 3097 1305 2825 \nQ 1016 2553 972 2059 \nL 3022 2063 \nz\n\" transform=\"scale(0.015625)\"/>\n       <path id=\"DejaVuSans-70\" d=\"M 1159 525 \nL 1159 -1331 \nL 581 -1331 \nL 581 3500 \nL 1159 3500 \nL 1159 2969 \nQ 1341 3281 1617 3432 \nQ 1894 3584 2278 3584 \nQ 2916 3584 3314 3078 \nQ 3713 2572 3713 1747 \nQ 3713 922 3314 415 \nQ 2916 -91 2278 -91 \nQ 1894 -91 1617 61 \nQ 1341 213 1159 525 \nz\nM 3116 1747 \nQ 3116 2381 2855 2742 \nQ 2594 3103 2138 3103 \nQ 1681 3103 1420 2742 \nQ 1159 2381 1159 1747 \nQ 1159 1113 1420 752 \nQ 1681 391 2138 391 \nQ 2594 391 2855 752 \nQ 3116 1113 3116 1747 \nz\n\" transform=\"scale(0.015625)\"/>\n       <path id=\"DejaVuSans-6f\" d=\"M 1959 3097 \nQ 1497 3097 1228 2736 \nQ 959 2375 959 1747 \nQ 959 1119 1226 758 \nQ 1494 397 1959 397 \nQ 2419 397 2687 759 \nQ 2956 1122 2956 1747 \nQ 2956 2369 2687 2733 \nQ 2419 3097 1959 3097 \nz\nM 1959 3584 \nQ 2709 3584 3137 3096 \nQ 3566 2609 3566 1747 \nQ 3566 888 3137 398 \nQ 2709 -91 1959 -91 \nQ 1206 -91 779 398 \nQ 353 888 353 1747 \nQ 353 2609 779 3096 \nQ 1206 3584 1959 3584 \nz\n\" transform=\"scale(0.015625)\"/>\n       <path id=\"DejaVuSans-63\" d=\"M 3122 3366 \nL 3122 2828 \nQ 2878 2963 2633 3030 \nQ 2388 3097 2138 3097 \nQ 1578 3097 1268 2742 \nQ 959 2388 959 1747 \nQ 959 1106 1268 751 \nQ 1578 397 2138 397 \nQ 2388 397 2633 464 \nQ 2878 531 3122 666 \nL 3122 134 \nQ 2881 22 2623 -34 \nQ 2366 -91 2075 -91 \nQ 1284 -91 818 406 \nQ 353 903 353 1747 \nQ 353 2603 823 3093 \nQ 1294 3584 2113 3584 \nQ 2378 3584 2631 3529 \nQ 2884 3475 3122 3366 \nz\n\" transform=\"scale(0.015625)\"/>\n       <path id=\"DejaVuSans-68\" d=\"M 3513 2113 \nL 3513 0 \nL 2938 0 \nL 2938 2094 \nQ 2938 2591 2744 2837 \nQ 2550 3084 2163 3084 \nQ 1697 3084 1428 2787 \nQ 1159 2491 1159 1978 \nL 1159 0 \nL 581 0 \nL 581 4863 \nL 1159 4863 \nL 1159 2956 \nQ 1366 3272 1645 3428 \nQ 1925 3584 2291 3584 \nQ 2894 3584 3203 3211 \nQ 3513 2838 3513 2113 \nz\n\" transform=\"scale(0.015625)\"/>\n      </defs>\n      <use xlink:href=\"#DejaVuSans-65\"/>\n      <use xlink:href=\"#DejaVuSans-70\" x=\"61.523438\"/>\n      <use xlink:href=\"#DejaVuSans-6f\" x=\"125\"/>\n      <use xlink:href=\"#DejaVuSans-63\" x=\"186.181641\"/>\n      <use xlink:href=\"#DejaVuSans-68\" x=\"241.162109\"/>\n     </g>\n    </g>\n   </g>\n   <g id=\"matplotlib.axis_2\">\n    <g id=\"ytick_1\">\n     <g id=\"line2d_7\">\n      <defs>\n       <path id=\"m41ab14de74\" d=\"M 0 0 \nL -3.5 0 \n\" style=\"stroke: #000000; stroke-width: 0.8\"/>\n      </defs>\n      <g>\n       <use xlink:href=\"#m41ab14de74\" x=\"30.103125\" y=\"134.253792\" style=\"stroke: #000000; stroke-width: 0.8\"/>\n      </g>\n     </g>\n     <g id=\"text_8\">\n      <!-- 0.2 -->\n      <g transform=\"translate(7.2 138.05301) scale(0.1 -0.1)\">\n       <defs>\n        <path id=\"DejaVuSans-2e\" d=\"M 684 794 \nL 1344 794 \nL 1344 0 \nL 684 0 \nL 684 794 \nz\n\" transform=\"scale(0.015625)\"/>\n       </defs>\n       <use xlink:href=\"#DejaVuSans-30\"/>\n       <use xlink:href=\"#DejaVuSans-2e\" x=\"63.623047\"/>\n       <use xlink:href=\"#DejaVuSans-32\" x=\"95.410156\"/>\n      </g>\n     </g>\n    </g>\n    <g id=\"ytick_2\">\n     <g id=\"line2d_8\">\n      <g>\n       <use xlink:href=\"#m41ab14de74\" x=\"30.103125\" y=\"103.440148\" style=\"stroke: #000000; stroke-width: 0.8\"/>\n      </g>\n     </g>\n     <g id=\"text_9\">\n      <!-- 0.4 -->\n      <g transform=\"translate(7.2 107.239367) scale(0.1 -0.1)\">\n       <use xlink:href=\"#DejaVuSans-30\"/>\n       <use xlink:href=\"#DejaVuSans-2e\" x=\"63.623047\"/>\n       <use xlink:href=\"#DejaVuSans-34\" x=\"95.410156\"/>\n      </g>\n     </g>\n    </g>\n    <g id=\"ytick_3\">\n     <g id=\"line2d_9\">\n      <g>\n       <use xlink:href=\"#m41ab14de74\" x=\"30.103125\" y=\"72.626505\" style=\"stroke: #000000; stroke-width: 0.8\"/>\n      </g>\n     </g>\n     <g id=\"text_10\">\n      <!-- 0.6 -->\n      <g transform=\"translate(7.2 76.425724) scale(0.1 -0.1)\">\n       <use xlink:href=\"#DejaVuSans-30\"/>\n       <use xlink:href=\"#DejaVuSans-2e\" x=\"63.623047\"/>\n       <use xlink:href=\"#DejaVuSans-36\" x=\"95.410156\"/>\n      </g>\n     </g>\n    </g>\n    <g id=\"ytick_4\">\n     <g id=\"line2d_10\">\n      <g>\n       <use xlink:href=\"#m41ab14de74\" x=\"30.103125\" y=\"41.812862\" style=\"stroke: #000000; stroke-width: 0.8\"/>\n      </g>\n     </g>\n     <g id=\"text_11\">\n      <!-- 0.8 -->\n      <g transform=\"translate(7.2 45.612081) scale(0.1 -0.1)\">\n       <use xlink:href=\"#DejaVuSans-30\"/>\n       <use xlink:href=\"#DejaVuSans-2e\" x=\"63.623047\"/>\n       <use xlink:href=\"#DejaVuSans-38\" x=\"95.410156\"/>\n      </g>\n     </g>\n    </g>\n    <g id=\"ytick_5\">\n     <g id=\"line2d_11\">\n      <g>\n       <use xlink:href=\"#m41ab14de74\" x=\"30.103125\" y=\"10.999219\" style=\"stroke: #000000; stroke-width: 0.8\"/>\n      </g>\n     </g>\n     <g id=\"text_12\">\n      <!-- 1.0 -->\n      <g transform=\"translate(7.2 14.798437) scale(0.1 -0.1)\">\n       <use xlink:href=\"#DejaVuSans-31\"/>\n       <use xlink:href=\"#DejaVuSans-2e\" x=\"63.623047\"/>\n       <use xlink:href=\"#DejaVuSans-30\" x=\"95.410156\"/>\n      </g>\n     </g>\n    </g>\n   </g>\n   <g id=\"line2d_12\">\n    <path d=\"M 34.954394 13.526236 \n\" clip-path=\"url(#p6bb2f3dd98)\" style=\"fill: none; stroke: #1f77b4; stroke-width: 1.5; stroke-linecap: square\"/>\n   </g>\n   <g id=\"line2d_13\">\n    <path d=\"M 34.954394 13.526236 \nL 44.698573 85.476093 \n\" clip-path=\"url(#p6bb2f3dd98)\" style=\"fill: none; stroke: #1f77b4; stroke-width: 1.5; stroke-linecap: square\"/>\n   </g>\n   <g id=\"line2d_14\">\n    <path d=\"M 34.954394 13.526236 \nL 44.698573 85.476093 \n\" clip-path=\"url(#p6bb2f3dd98)\" style=\"fill: none; stroke: #1f77b4; stroke-width: 1.5; stroke-linecap: square\"/>\n   </g>\n   <g id=\"line2d_15\">\n    <path d=\"M 49.633125 63.067417 \n\" clip-path=\"url(#p6bb2f3dd98)\" style=\"fill: none; stroke-dasharray: 5.55,2.4; stroke-dashoffset: 0; stroke: #ff7f0e; stroke-width: 1.5\"/>\n   </g>\n   <g id=\"line2d_16\"/>\n   <g id=\"line2d_17\">\n    <path d=\"M 34.954394 13.526236 \nL 44.698573 85.476093 \n\" clip-path=\"url(#p6bb2f3dd98)\" style=\"fill: none; stroke: #1f77b4; stroke-width: 1.5; stroke-linecap: square\"/>\n   </g>\n   <g id=\"line2d_18\">\n    <path d=\"M 49.633125 63.067417 \n\" clip-path=\"url(#p6bb2f3dd98)\" style=\"fill: none; stroke-dasharray: 5.55,2.4; stroke-dashoffset: 0; stroke: #ff7f0e; stroke-width: 1.5\"/>\n   </g>\n   <g id=\"line2d_19\">\n    <path d=\"M 49.633125 45.554867 \n\" clip-path=\"url(#p6bb2f3dd98)\" style=\"fill: none; stroke-dasharray: 9.6,2.4,1.5,2.4; stroke-dashoffset: 0; stroke: #2ca02c; stroke-width: 1.5\"/>\n   </g>\n   <g id=\"line2d_20\">\n    <path d=\"M 34.954394 13.526236 \nL 44.698573 85.476093 \nL 54.442752 102.857628 \n\" clip-path=\"url(#p6bb2f3dd98)\" style=\"fill: none; stroke: #1f77b4; stroke-width: 1.5; stroke-linecap: square\"/>\n   </g>\n   <g id=\"line2d_21\">\n    <path d=\"M 49.633125 63.067417 \n\" clip-path=\"url(#p6bb2f3dd98)\" style=\"fill: none; stroke-dasharray: 5.55,2.4; stroke-dashoffset: 0; stroke: #ff7f0e; stroke-width: 1.5\"/>\n   </g>\n   <g id=\"line2d_22\">\n    <path d=\"M 49.633125 45.554867 \n\" clip-path=\"url(#p6bb2f3dd98)\" style=\"fill: none; stroke-dasharray: 9.6,2.4,1.5,2.4; stroke-dashoffset: 0; stroke: #2ca02c; stroke-width: 1.5\"/>\n   </g>\n   <g id=\"line2d_23\">\n    <path d=\"M 34.954394 13.526236 \nL 44.698573 85.476093 \nL 54.442752 102.857628 \nL 64.186931 109.639025 \n\" clip-path=\"url(#p6bb2f3dd98)\" style=\"fill: none; stroke: #1f77b4; stroke-width: 1.5; stroke-linecap: square\"/>\n   </g>\n   <g id=\"line2d_24\">\n    <path d=\"M 49.633125 63.067417 \n\" clip-path=\"url(#p6bb2f3dd98)\" style=\"fill: none; stroke-dasharray: 5.55,2.4; stroke-dashoffset: 0; stroke: #ff7f0e; stroke-width: 1.5\"/>\n   </g>\n   <g id=\"line2d_25\">\n    <path d=\"M 49.633125 45.554867 \n\" clip-path=\"url(#p6bb2f3dd98)\" style=\"fill: none; stroke-dasharray: 9.6,2.4,1.5,2.4; stroke-dashoffset: 0; stroke: #2ca02c; stroke-width: 1.5\"/>\n   </g>\n   <g id=\"line2d_26\">\n    <path d=\"M 34.954394 13.526236 \nL 44.698573 85.476093 \nL 54.442752 102.857628 \nL 64.186931 109.639025 \n\" clip-path=\"url(#p6bb2f3dd98)\" style=\"fill: none; stroke: #1f77b4; stroke-width: 1.5; stroke-linecap: square\"/>\n   </g>\n   <g id=\"line2d_27\">\n    <path d=\"M 49.633125 63.067417 \nL 69.163125 99.133931 \n\" clip-path=\"url(#p6bb2f3dd98)\" style=\"fill: none; stroke-dasharray: 5.55,2.4; stroke-dashoffset: 0; stroke: #ff7f0e; stroke-width: 1.5\"/>\n   </g>\n   <g id=\"line2d_28\">\n    <path d=\"M 49.633125 45.554867 \n\" clip-path=\"url(#p6bb2f3dd98)\" style=\"fill: none; stroke-dasharray: 9.6,2.4,1.5,2.4; stroke-dashoffset: 0; stroke: #2ca02c; stroke-width: 1.5\"/>\n   </g>\n   <g id=\"line2d_29\">\n    <path d=\"M 34.954394 13.526236 \nL 44.698573 85.476093 \nL 54.442752 102.857628 \nL 64.186931 109.639025 \n\" clip-path=\"url(#p6bb2f3dd98)\" style=\"fill: none; stroke: #1f77b4; stroke-width: 1.5; stroke-linecap: square\"/>\n   </g>\n   <g id=\"line2d_30\">\n    <path d=\"M 49.633125 63.067417 \nL 69.163125 99.133931 \n\" clip-path=\"url(#p6bb2f3dd98)\" style=\"fill: none; stroke-dasharray: 5.55,2.4; stroke-dashoffset: 0; stroke: #ff7f0e; stroke-width: 1.5\"/>\n   </g>\n   <g id=\"line2d_31\">\n    <path d=\"M 49.633125 45.554867 \nL 69.163125 35.483754 \n\" clip-path=\"url(#p6bb2f3dd98)\" style=\"fill: none; stroke-dasharray: 9.6,2.4,1.5,2.4; stroke-dashoffset: 0; stroke: #2ca02c; stroke-width: 1.5\"/>\n   </g>\n   <g id=\"line2d_32\">\n    <path d=\"M 34.954394 13.526236 \nL 44.698573 85.476093 \nL 54.442752 102.857628 \nL 64.186931 109.639025 \nL 73.93111 116.61126 \n\" clip-path=\"url(#p6bb2f3dd98)\" style=\"fill: none; stroke: #1f77b4; stroke-width: 1.5; stroke-linecap: square\"/>\n   </g>\n   <g id=\"line2d_33\">\n    <path d=\"M 49.633125 63.067417 \nL 69.163125 99.133931 \n\" clip-path=\"url(#p6bb2f3dd98)\" style=\"fill: none; stroke-dasharray: 5.55,2.4; stroke-dashoffset: 0; stroke: #ff7f0e; stroke-width: 1.5\"/>\n   </g>\n   <g id=\"line2d_34\">\n    <path d=\"M 49.633125 45.554867 \nL 69.163125 35.483754 \n\" clip-path=\"url(#p6bb2f3dd98)\" style=\"fill: none; stroke-dasharray: 9.6,2.4,1.5,2.4; stroke-dashoffset: 0; stroke: #2ca02c; stroke-width: 1.5\"/>\n   </g>\n   <g id=\"line2d_35\">\n    <path d=\"M 34.954394 13.526236 \nL 44.698573 85.476093 \nL 54.442752 102.857628 \nL 64.186931 109.639025 \nL 73.93111 116.61126 \nL 83.675289 118.284928 \n\" clip-path=\"url(#p6bb2f3dd98)\" style=\"fill: none; stroke: #1f77b4; stroke-width: 1.5; stroke-linecap: square\"/>\n   </g>\n   <g id=\"line2d_36\">\n    <path d=\"M 49.633125 63.067417 \nL 69.163125 99.133931 \n\" clip-path=\"url(#p6bb2f3dd98)\" style=\"fill: none; stroke-dasharray: 5.55,2.4; stroke-dashoffset: 0; stroke: #ff7f0e; stroke-width: 1.5\"/>\n   </g>\n   <g id=\"line2d_37\">\n    <path d=\"M 49.633125 45.554867 \nL 69.163125 35.483754 \n\" clip-path=\"url(#p6bb2f3dd98)\" style=\"fill: none; stroke-dasharray: 9.6,2.4,1.5,2.4; stroke-dashoffset: 0; stroke: #2ca02c; stroke-width: 1.5\"/>\n   </g>\n   <g id=\"line2d_38\">\n    <path d=\"M 34.954394 13.526236 \nL 44.698573 85.476093 \nL 54.442752 102.857628 \nL 64.186931 109.639025 \nL 73.93111 116.61126 \nL 83.675289 118.284928 \n\" clip-path=\"url(#p6bb2f3dd98)\" style=\"fill: none; stroke: #1f77b4; stroke-width: 1.5; stroke-linecap: square\"/>\n   </g>\n   <g id=\"line2d_39\">\n    <path d=\"M 49.633125 63.067417 \nL 69.163125 99.133931 \nL 88.693125 114.077399 \n\" clip-path=\"url(#p6bb2f3dd98)\" style=\"fill: none; stroke-dasharray: 5.55,2.4; stroke-dashoffset: 0; stroke: #ff7f0e; stroke-width: 1.5\"/>\n   </g>\n   <g id=\"line2d_40\">\n    <path d=\"M 49.633125 45.554867 \nL 69.163125 35.483754 \n\" clip-path=\"url(#p6bb2f3dd98)\" style=\"fill: none; stroke-dasharray: 9.6,2.4,1.5,2.4; stroke-dashoffset: 0; stroke: #2ca02c; stroke-width: 1.5\"/>\n   </g>\n   <g id=\"line2d_41\">\n    <path d=\"M 34.954394 13.526236 \nL 44.698573 85.476093 \nL 54.442752 102.857628 \nL 64.186931 109.639025 \nL 73.93111 116.61126 \nL 83.675289 118.284928 \n\" clip-path=\"url(#p6bb2f3dd98)\" style=\"fill: none; stroke: #1f77b4; stroke-width: 1.5; stroke-linecap: square\"/>\n   </g>\n   <g id=\"line2d_42\">\n    <path d=\"M 49.633125 63.067417 \nL 69.163125 99.133931 \nL 88.693125 114.077399 \n\" clip-path=\"url(#p6bb2f3dd98)\" style=\"fill: none; stroke-dasharray: 5.55,2.4; stroke-dashoffset: 0; stroke: #ff7f0e; stroke-width: 1.5\"/>\n   </g>\n   <g id=\"line2d_43\">\n    <path d=\"M 49.633125 45.554867 \nL 69.163125 35.483754 \nL 88.693125 30.288218 \n\" clip-path=\"url(#p6bb2f3dd98)\" style=\"fill: none; stroke-dasharray: 9.6,2.4,1.5,2.4; stroke-dashoffset: 0; stroke: #2ca02c; stroke-width: 1.5\"/>\n   </g>\n   <g id=\"line2d_44\">\n    <path d=\"M 34.954394 13.526236 \nL 44.698573 85.476093 \nL 54.442752 102.857628 \nL 64.186931 109.639025 \nL 73.93111 116.61126 \nL 83.675289 118.284928 \nL 93.419468 122.790538 \n\" clip-path=\"url(#p6bb2f3dd98)\" style=\"fill: none; stroke: #1f77b4; stroke-width: 1.5; stroke-linecap: square\"/>\n   </g>\n   <g id=\"line2d_45\">\n    <path d=\"M 49.633125 63.067417 \nL 69.163125 99.133931 \nL 88.693125 114.077399 \n\" clip-path=\"url(#p6bb2f3dd98)\" style=\"fill: none; stroke-dasharray: 5.55,2.4; stroke-dashoffset: 0; stroke: #ff7f0e; stroke-width: 1.5\"/>\n   </g>\n   <g id=\"line2d_46\">\n    <path d=\"M 49.633125 45.554867 \nL 69.163125 35.483754 \nL 88.693125 30.288218 \n\" clip-path=\"url(#p6bb2f3dd98)\" style=\"fill: none; stroke-dasharray: 9.6,2.4,1.5,2.4; stroke-dashoffset: 0; stroke: #2ca02c; stroke-width: 1.5\"/>\n   </g>\n   <g id=\"line2d_47\">\n    <path d=\"M 34.954394 13.526236 \nL 44.698573 85.476093 \nL 54.442752 102.857628 \nL 64.186931 109.639025 \nL 73.93111 116.61126 \nL 83.675289 118.284928 \nL 93.419468 122.790538 \nL 103.163647 123.897541 \n\" clip-path=\"url(#p6bb2f3dd98)\" style=\"fill: none; stroke: #1f77b4; stroke-width: 1.5; stroke-linecap: square\"/>\n   </g>\n   <g id=\"line2d_48\">\n    <path d=\"M 49.633125 63.067417 \nL 69.163125 99.133931 \nL 88.693125 114.077399 \n\" clip-path=\"url(#p6bb2f3dd98)\" style=\"fill: none; stroke-dasharray: 5.55,2.4; stroke-dashoffset: 0; stroke: #ff7f0e; stroke-width: 1.5\"/>\n   </g>\n   <g id=\"line2d_49\">\n    <path d=\"M 49.633125 45.554867 \nL 69.163125 35.483754 \nL 88.693125 30.288218 \n\" clip-path=\"url(#p6bb2f3dd98)\" style=\"fill: none; stroke-dasharray: 9.6,2.4,1.5,2.4; stroke-dashoffset: 0; stroke: #2ca02c; stroke-width: 1.5\"/>\n   </g>\n   <g id=\"line2d_50\">\n    <path d=\"M 34.954394 13.526236 \nL 44.698573 85.476093 \nL 54.442752 102.857628 \nL 64.186931 109.639025 \nL 73.93111 116.61126 \nL 83.675289 118.284928 \nL 93.419468 122.790538 \nL 103.163647 123.897541 \n\" clip-path=\"url(#p6bb2f3dd98)\" style=\"fill: none; stroke: #1f77b4; stroke-width: 1.5; stroke-linecap: square\"/>\n   </g>\n   <g id=\"line2d_51\">\n    <path d=\"M 49.633125 63.067417 \nL 69.163125 99.133931 \nL 88.693125 114.077399 \nL 108.223125 101.686031 \n\" clip-path=\"url(#p6bb2f3dd98)\" style=\"fill: none; stroke-dasharray: 5.55,2.4; stroke-dashoffset: 0; stroke: #ff7f0e; stroke-width: 1.5\"/>\n   </g>\n   <g id=\"line2d_52\">\n    <path d=\"M 49.633125 45.554867 \nL 69.163125 35.483754 \nL 88.693125 30.288218 \n\" clip-path=\"url(#p6bb2f3dd98)\" style=\"fill: none; stroke-dasharray: 9.6,2.4,1.5,2.4; stroke-dashoffset: 0; stroke: #2ca02c; stroke-width: 1.5\"/>\n   </g>\n   <g id=\"line2d_53\">\n    <path d=\"M 34.954394 13.526236 \nL 44.698573 85.476093 \nL 54.442752 102.857628 \nL 64.186931 109.639025 \nL 73.93111 116.61126 \nL 83.675289 118.284928 \nL 93.419468 122.790538 \nL 103.163647 123.897541 \n\" clip-path=\"url(#p6bb2f3dd98)\" style=\"fill: none; stroke: #1f77b4; stroke-width: 1.5; stroke-linecap: square\"/>\n   </g>\n   <g id=\"line2d_54\">\n    <path d=\"M 49.633125 63.067417 \nL 69.163125 99.133931 \nL 88.693125 114.077399 \nL 108.223125 101.686031 \n\" clip-path=\"url(#p6bb2f3dd98)\" style=\"fill: none; stroke-dasharray: 5.55,2.4; stroke-dashoffset: 0; stroke: #ff7f0e; stroke-width: 1.5\"/>\n   </g>\n   <g id=\"line2d_55\">\n    <path d=\"M 49.633125 45.554867 \nL 69.163125 35.483754 \nL 88.693125 30.288218 \nL 108.223125 35.30092 \n\" clip-path=\"url(#p6bb2f3dd98)\" style=\"fill: none; stroke-dasharray: 9.6,2.4,1.5,2.4; stroke-dashoffset: 0; stroke: #2ca02c; stroke-width: 1.5\"/>\n   </g>\n   <g id=\"line2d_56\">\n    <path d=\"M 34.954394 13.526236 \nL 44.698573 85.476093 \nL 54.442752 102.857628 \nL 64.186931 109.639025 \nL 73.93111 116.61126 \nL 83.675289 118.284928 \nL 93.419468 122.790538 \nL 103.163647 123.897541 \nL 112.907826 126.911183 \n\" clip-path=\"url(#p6bb2f3dd98)\" style=\"fill: none; stroke: #1f77b4; stroke-width: 1.5; stroke-linecap: square\"/>\n   </g>\n   <g id=\"line2d_57\">\n    <path d=\"M 49.633125 63.067417 \nL 69.163125 99.133931 \nL 88.693125 114.077399 \nL 108.223125 101.686031 \n\" clip-path=\"url(#p6bb2f3dd98)\" style=\"fill: none; stroke-dasharray: 5.55,2.4; stroke-dashoffset: 0; stroke: #ff7f0e; stroke-width: 1.5\"/>\n   </g>\n   <g id=\"line2d_58\">\n    <path d=\"M 49.633125 45.554867 \nL 69.163125 35.483754 \nL 88.693125 30.288218 \nL 108.223125 35.30092 \n\" clip-path=\"url(#p6bb2f3dd98)\" style=\"fill: none; stroke-dasharray: 9.6,2.4,1.5,2.4; stroke-dashoffset: 0; stroke: #2ca02c; stroke-width: 1.5\"/>\n   </g>\n   <g id=\"line2d_59\">\n    <path d=\"M 34.954394 13.526236 \nL 44.698573 85.476093 \nL 54.442752 102.857628 \nL 64.186931 109.639025 \nL 73.93111 116.61126 \nL 83.675289 118.284928 \nL 93.419468 122.790538 \nL 103.163647 123.897541 \nL 112.907826 126.911183 \nL 122.652006 127.59953 \n\" clip-path=\"url(#p6bb2f3dd98)\" style=\"fill: none; stroke: #1f77b4; stroke-width: 1.5; stroke-linecap: square\"/>\n   </g>\n   <g id=\"line2d_60\">\n    <path d=\"M 49.633125 63.067417 \nL 69.163125 99.133931 \nL 88.693125 114.077399 \nL 108.223125 101.686031 \n\" clip-path=\"url(#p6bb2f3dd98)\" style=\"fill: none; stroke-dasharray: 5.55,2.4; stroke-dashoffset: 0; stroke: #ff7f0e; stroke-width: 1.5\"/>\n   </g>\n   <g id=\"line2d_61\">\n    <path d=\"M 49.633125 45.554867 \nL 69.163125 35.483754 \nL 88.693125 30.288218 \nL 108.223125 35.30092 \n\" clip-path=\"url(#p6bb2f3dd98)\" style=\"fill: none; stroke-dasharray: 9.6,2.4,1.5,2.4; stroke-dashoffset: 0; stroke: #2ca02c; stroke-width: 1.5\"/>\n   </g>\n   <g id=\"line2d_62\">\n    <path d=\"M 34.954394 13.526236 \nL 44.698573 85.476093 \nL 54.442752 102.857628 \nL 64.186931 109.639025 \nL 73.93111 116.61126 \nL 83.675289 118.284928 \nL 93.419468 122.790538 \nL 103.163647 123.897541 \nL 112.907826 126.911183 \nL 122.652006 127.59953 \n\" clip-path=\"url(#p6bb2f3dd98)\" style=\"fill: none; stroke: #1f77b4; stroke-width: 1.5; stroke-linecap: square\"/>\n   </g>\n   <g id=\"line2d_63\">\n    <path d=\"M 49.633125 63.067417 \nL 69.163125 99.133931 \nL 88.693125 114.077399 \nL 108.223125 101.686031 \nL 127.753125 113.151083 \n\" clip-path=\"url(#p6bb2f3dd98)\" style=\"fill: none; stroke-dasharray: 5.55,2.4; stroke-dashoffset: 0; stroke: #ff7f0e; stroke-width: 1.5\"/>\n   </g>\n   <g id=\"line2d_64\">\n    <path d=\"M 49.633125 45.554867 \nL 69.163125 35.483754 \nL 88.693125 30.288218 \nL 108.223125 35.30092 \n\" clip-path=\"url(#p6bb2f3dd98)\" style=\"fill: none; stroke-dasharray: 9.6,2.4,1.5,2.4; stroke-dashoffset: 0; stroke: #2ca02c; stroke-width: 1.5\"/>\n   </g>\n   <g id=\"line2d_65\">\n    <path d=\"M 34.954394 13.526236 \nL 44.698573 85.476093 \nL 54.442752 102.857628 \nL 64.186931 109.639025 \nL 73.93111 116.61126 \nL 83.675289 118.284928 \nL 93.419468 122.790538 \nL 103.163647 123.897541 \nL 112.907826 126.911183 \nL 122.652006 127.59953 \n\" clip-path=\"url(#p6bb2f3dd98)\" style=\"fill: none; stroke: #1f77b4; stroke-width: 1.5; stroke-linecap: square\"/>\n   </g>\n   <g id=\"line2d_66\">\n    <path d=\"M 49.633125 63.067417 \nL 69.163125 99.133931 \nL 88.693125 114.077399 \nL 108.223125 101.686031 \nL 127.753125 113.151083 \n\" clip-path=\"url(#p6bb2f3dd98)\" style=\"fill: none; stroke-dasharray: 5.55,2.4; stroke-dashoffset: 0; stroke: #ff7f0e; stroke-width: 1.5\"/>\n   </g>\n   <g id=\"line2d_67\">\n    <path d=\"M 49.633125 45.554867 \nL 69.163125 35.483754 \nL 88.693125 30.288218 \nL 108.223125 35.30092 \nL 127.753125 29.815897 \n\" clip-path=\"url(#p6bb2f3dd98)\" style=\"fill: none; stroke-dasharray: 9.6,2.4,1.5,2.4; stroke-dashoffset: 0; stroke: #2ca02c; stroke-width: 1.5\"/>\n   </g>\n   <g id=\"line2d_68\">\n    <path d=\"M 34.954394 13.526236 \nL 44.698573 85.476093 \nL 54.442752 102.857628 \nL 64.186931 109.639025 \nL 73.93111 116.61126 \nL 83.675289 118.284928 \nL 93.419468 122.790538 \nL 103.163647 123.897541 \nL 112.907826 126.911183 \nL 122.652006 127.59953 \nL 132.396185 130.287116 \n\" clip-path=\"url(#p6bb2f3dd98)\" style=\"fill: none; stroke: #1f77b4; stroke-width: 1.5; stroke-linecap: square\"/>\n   </g>\n   <g id=\"line2d_69\">\n    <path d=\"M 49.633125 63.067417 \nL 69.163125 99.133931 \nL 88.693125 114.077399 \nL 108.223125 101.686031 \nL 127.753125 113.151083 \n\" clip-path=\"url(#p6bb2f3dd98)\" style=\"fill: none; stroke-dasharray: 5.55,2.4; stroke-dashoffset: 0; stroke: #ff7f0e; stroke-width: 1.5\"/>\n   </g>\n   <g id=\"line2d_70\">\n    <path d=\"M 49.633125 45.554867 \nL 69.163125 35.483754 \nL 88.693125 30.288218 \nL 108.223125 35.30092 \nL 127.753125 29.815897 \n\" clip-path=\"url(#p6bb2f3dd98)\" style=\"fill: none; stroke-dasharray: 9.6,2.4,1.5,2.4; stroke-dashoffset: 0; stroke: #2ca02c; stroke-width: 1.5\"/>\n   </g>\n   <g id=\"line2d_71\">\n    <path d=\"M 34.954394 13.526236 \nL 44.698573 85.476093 \nL 54.442752 102.857628 \nL 64.186931 109.639025 \nL 73.93111 116.61126 \nL 83.675289 118.284928 \nL 93.419468 122.790538 \nL 103.163647 123.897541 \nL 112.907826 126.911183 \nL 122.652006 127.59953 \nL 132.396185 130.287116 \nL 142.140364 129.389711 \n\" clip-path=\"url(#p6bb2f3dd98)\" style=\"fill: none; stroke: #1f77b4; stroke-width: 1.5; stroke-linecap: square\"/>\n   </g>\n   <g id=\"line2d_72\">\n    <path d=\"M 49.633125 63.067417 \nL 69.163125 99.133931 \nL 88.693125 114.077399 \nL 108.223125 101.686031 \nL 127.753125 113.151083 \n\" clip-path=\"url(#p6bb2f3dd98)\" style=\"fill: none; stroke-dasharray: 5.55,2.4; stroke-dashoffset: 0; stroke: #ff7f0e; stroke-width: 1.5\"/>\n   </g>\n   <g id=\"line2d_73\">\n    <path d=\"M 49.633125 45.554867 \nL 69.163125 35.483754 \nL 88.693125 30.288218 \nL 108.223125 35.30092 \nL 127.753125 29.815897 \n\" clip-path=\"url(#p6bb2f3dd98)\" style=\"fill: none; stroke-dasharray: 9.6,2.4,1.5,2.4; stroke-dashoffset: 0; stroke: #2ca02c; stroke-width: 1.5\"/>\n   </g>\n   <g id=\"line2d_74\">\n    <path d=\"M 34.954394 13.526236 \nL 44.698573 85.476093 \nL 54.442752 102.857628 \nL 64.186931 109.639025 \nL 73.93111 116.61126 \nL 83.675289 118.284928 \nL 93.419468 122.790538 \nL 103.163647 123.897541 \nL 112.907826 126.911183 \nL 122.652006 127.59953 \nL 132.396185 130.287116 \nL 142.140364 129.389711 \n\" clip-path=\"url(#p6bb2f3dd98)\" style=\"fill: none; stroke: #1f77b4; stroke-width: 1.5; stroke-linecap: square\"/>\n   </g>\n   <g id=\"line2d_75\">\n    <path d=\"M 49.633125 63.067417 \nL 69.163125 99.133931 \nL 88.693125 114.077399 \nL 108.223125 101.686031 \nL 127.753125 113.151083 \nL 147.283125 115.412717 \n\" clip-path=\"url(#p6bb2f3dd98)\" style=\"fill: none; stroke-dasharray: 5.55,2.4; stroke-dashoffset: 0; stroke: #ff7f0e; stroke-width: 1.5\"/>\n   </g>\n   <g id=\"line2d_76\">\n    <path d=\"M 49.633125 45.554867 \nL 69.163125 35.483754 \nL 88.693125 30.288218 \nL 108.223125 35.30092 \nL 127.753125 29.815897 \n\" clip-path=\"url(#p6bb2f3dd98)\" style=\"fill: none; stroke-dasharray: 9.6,2.4,1.5,2.4; stroke-dashoffset: 0; stroke: #2ca02c; stroke-width: 1.5\"/>\n   </g>\n   <g id=\"line2d_77\">\n    <path d=\"M 34.954394 13.526236 \nL 44.698573 85.476093 \nL 54.442752 102.857628 \nL 64.186931 109.639025 \nL 73.93111 116.61126 \nL 83.675289 118.284928 \nL 93.419468 122.790538 \nL 103.163647 123.897541 \nL 112.907826 126.911183 \nL 122.652006 127.59953 \nL 132.396185 130.287116 \nL 142.140364 129.389711 \n\" clip-path=\"url(#p6bb2f3dd98)\" style=\"fill: none; stroke: #1f77b4; stroke-width: 1.5; stroke-linecap: square\"/>\n   </g>\n   <g id=\"line2d_78\">\n    <path d=\"M 49.633125 63.067417 \nL 69.163125 99.133931 \nL 88.693125 114.077399 \nL 108.223125 101.686031 \nL 127.753125 113.151083 \nL 147.283125 115.412717 \n\" clip-path=\"url(#p6bb2f3dd98)\" style=\"fill: none; stroke-dasharray: 5.55,2.4; stroke-dashoffset: 0; stroke: #ff7f0e; stroke-width: 1.5\"/>\n   </g>\n   <g id=\"line2d_79\">\n    <path d=\"M 49.633125 45.554867 \nL 69.163125 35.483754 \nL 88.693125 30.288218 \nL 108.223125 35.30092 \nL 127.753125 29.815897 \nL 147.283125 28.993143 \n\" clip-path=\"url(#p6bb2f3dd98)\" style=\"fill: none; stroke-dasharray: 9.6,2.4,1.5,2.4; stroke-dashoffset: 0; stroke: #2ca02c; stroke-width: 1.5\"/>\n   </g>\n   <g id=\"line2d_80\">\n    <path d=\"M 34.954394 13.526236 \nL 44.698573 85.476093 \nL 54.442752 102.857628 \nL 64.186931 109.639025 \nL 73.93111 116.61126 \nL 83.675289 118.284928 \nL 93.419468 122.790538 \nL 103.163647 123.897541 \nL 112.907826 126.911183 \nL 122.652006 127.59953 \nL 132.396185 130.287116 \nL 142.140364 129.389711 \nL 151.884543 133.610854 \n\" clip-path=\"url(#p6bb2f3dd98)\" style=\"fill: none; stroke: #1f77b4; stroke-width: 1.5; stroke-linecap: square\"/>\n   </g>\n   <g id=\"line2d_81\">\n    <path d=\"M 49.633125 63.067417 \nL 69.163125 99.133931 \nL 88.693125 114.077399 \nL 108.223125 101.686031 \nL 127.753125 113.151083 \nL 147.283125 115.412717 \n\" clip-path=\"url(#p6bb2f3dd98)\" style=\"fill: none; stroke-dasharray: 5.55,2.4; stroke-dashoffset: 0; stroke: #ff7f0e; stroke-width: 1.5\"/>\n   </g>\n   <g id=\"line2d_82\">\n    <path d=\"M 49.633125 45.554867 \nL 69.163125 35.483754 \nL 88.693125 30.288218 \nL 108.223125 35.30092 \nL 127.753125 29.815897 \nL 147.283125 28.993143 \n\" clip-path=\"url(#p6bb2f3dd98)\" style=\"fill: none; stroke-dasharray: 9.6,2.4,1.5,2.4; stroke-dashoffset: 0; stroke: #2ca02c; stroke-width: 1.5\"/>\n   </g>\n   <g id=\"line2d_83\">\n    <path d=\"M 34.954394 13.526236 \nL 44.698573 85.476093 \nL 54.442752 102.857628 \nL 64.186931 109.639025 \nL 73.93111 116.61126 \nL 83.675289 118.284928 \nL 93.419468 122.790538 \nL 103.163647 123.897541 \nL 112.907826 126.911183 \nL 122.652006 127.59953 \nL 132.396185 130.287116 \nL 142.140364 129.389711 \nL 151.884543 133.610854 \nL 161.628722 132.026493 \n\" clip-path=\"url(#p6bb2f3dd98)\" style=\"fill: none; stroke: #1f77b4; stroke-width: 1.5; stroke-linecap: square\"/>\n   </g>\n   <g id=\"line2d_84\">\n    <path d=\"M 49.633125 63.067417 \nL 69.163125 99.133931 \nL 88.693125 114.077399 \nL 108.223125 101.686031 \nL 127.753125 113.151083 \nL 147.283125 115.412717 \n\" clip-path=\"url(#p6bb2f3dd98)\" style=\"fill: none; stroke-dasharray: 5.55,2.4; stroke-dashoffset: 0; stroke: #ff7f0e; stroke-width: 1.5\"/>\n   </g>\n   <g id=\"line2d_85\">\n    <path d=\"M 49.633125 45.554867 \nL 69.163125 35.483754 \nL 88.693125 30.288218 \nL 108.223125 35.30092 \nL 127.753125 29.815897 \nL 147.283125 28.993143 \n\" clip-path=\"url(#p6bb2f3dd98)\" style=\"fill: none; stroke-dasharray: 9.6,2.4,1.5,2.4; stroke-dashoffset: 0; stroke: #2ca02c; stroke-width: 1.5\"/>\n   </g>\n   <g id=\"line2d_86\">\n    <path d=\"M 34.954394 13.526236 \nL 44.698573 85.476093 \nL 54.442752 102.857628 \nL 64.186931 109.639025 \nL 73.93111 116.61126 \nL 83.675289 118.284928 \nL 93.419468 122.790538 \nL 103.163647 123.897541 \nL 112.907826 126.911183 \nL 122.652006 127.59953 \nL 132.396185 130.287116 \nL 142.140364 129.389711 \nL 151.884543 133.610854 \nL 161.628722 132.026493 \n\" clip-path=\"url(#p6bb2f3dd98)\" style=\"fill: none; stroke: #1f77b4; stroke-width: 1.5; stroke-linecap: square\"/>\n   </g>\n   <g id=\"line2d_87\">\n    <path d=\"M 49.633125 63.067417 \nL 69.163125 99.133931 \nL 88.693125 114.077399 \nL 108.223125 101.686031 \nL 127.753125 113.151083 \nL 147.283125 115.412717 \nL 166.813125 123.971019 \n\" clip-path=\"url(#p6bb2f3dd98)\" style=\"fill: none; stroke-dasharray: 5.55,2.4; stroke-dashoffset: 0; stroke: #ff7f0e; stroke-width: 1.5\"/>\n   </g>\n   <g id=\"line2d_88\">\n    <path d=\"M 49.633125 45.554867 \nL 69.163125 35.483754 \nL 88.693125 30.288218 \nL 108.223125 35.30092 \nL 127.753125 29.815897 \nL 147.283125 28.993143 \n\" clip-path=\"url(#p6bb2f3dd98)\" style=\"fill: none; stroke-dasharray: 9.6,2.4,1.5,2.4; stroke-dashoffset: 0; stroke: #2ca02c; stroke-width: 1.5\"/>\n   </g>\n   <g id=\"line2d_89\">\n    <path d=\"M 34.954394 13.526236 \nL 44.698573 85.476093 \nL 54.442752 102.857628 \nL 64.186931 109.639025 \nL 73.93111 116.61126 \nL 83.675289 118.284928 \nL 93.419468 122.790538 \nL 103.163647 123.897541 \nL 112.907826 126.911183 \nL 122.652006 127.59953 \nL 132.396185 130.287116 \nL 142.140364 129.389711 \nL 151.884543 133.610854 \nL 161.628722 132.026493 \n\" clip-path=\"url(#p6bb2f3dd98)\" style=\"fill: none; stroke: #1f77b4; stroke-width: 1.5; stroke-linecap: square\"/>\n   </g>\n   <g id=\"line2d_90\">\n    <path d=\"M 49.633125 63.067417 \nL 69.163125 99.133931 \nL 88.693125 114.077399 \nL 108.223125 101.686031 \nL 127.753125 113.151083 \nL 147.283125 115.412717 \nL 166.813125 123.971019 \n\" clip-path=\"url(#p6bb2f3dd98)\" style=\"fill: none; stroke-dasharray: 5.55,2.4; stroke-dashoffset: 0; stroke: #ff7f0e; stroke-width: 1.5\"/>\n   </g>\n   <g id=\"line2d_91\">\n    <path d=\"M 49.633125 45.554867 \nL 69.163125 35.483754 \nL 88.693125 30.288218 \nL 108.223125 35.30092 \nL 127.753125 29.815897 \nL 147.283125 28.993143 \nL 166.813125 25.671657 \n\" clip-path=\"url(#p6bb2f3dd98)\" style=\"fill: none; stroke-dasharray: 9.6,2.4,1.5,2.4; stroke-dashoffset: 0; stroke: #2ca02c; stroke-width: 1.5\"/>\n   </g>\n   <g id=\"line2d_92\">\n    <path d=\"M 34.954394 13.526236 \nL 44.698573 85.476093 \nL 54.442752 102.857628 \nL 64.186931 109.639025 \nL 73.93111 116.61126 \nL 83.675289 118.284928 \nL 93.419468 122.790538 \nL 103.163647 123.897541 \nL 112.907826 126.911183 \nL 122.652006 127.59953 \nL 132.396185 130.287116 \nL 142.140364 129.389711 \nL 151.884543 133.610854 \nL 161.628722 132.026493 \nL 171.372901 135.202495 \n\" clip-path=\"url(#p6bb2f3dd98)\" style=\"fill: none; stroke: #1f77b4; stroke-width: 1.5; stroke-linecap: square\"/>\n   </g>\n   <g id=\"line2d_93\">\n    <path d=\"M 49.633125 63.067417 \nL 69.163125 99.133931 \nL 88.693125 114.077399 \nL 108.223125 101.686031 \nL 127.753125 113.151083 \nL 147.283125 115.412717 \nL 166.813125 123.971019 \n\" clip-path=\"url(#p6bb2f3dd98)\" style=\"fill: none; stroke-dasharray: 5.55,2.4; stroke-dashoffset: 0; stroke: #ff7f0e; stroke-width: 1.5\"/>\n   </g>\n   <g id=\"line2d_94\">\n    <path d=\"M 49.633125 45.554867 \nL 69.163125 35.483754 \nL 88.693125 30.288218 \nL 108.223125 35.30092 \nL 127.753125 29.815897 \nL 147.283125 28.993143 \nL 166.813125 25.671657 \n\" clip-path=\"url(#p6bb2f3dd98)\" style=\"fill: none; stroke-dasharray: 9.6,2.4,1.5,2.4; stroke-dashoffset: 0; stroke: #2ca02c; stroke-width: 1.5\"/>\n   </g>\n   <g id=\"line2d_95\">\n    <path d=\"M 34.954394 13.526236 \nL 44.698573 85.476093 \nL 54.442752 102.857628 \nL 64.186931 109.639025 \nL 73.93111 116.61126 \nL 83.675289 118.284928 \nL 93.419468 122.790538 \nL 103.163647 123.897541 \nL 112.907826 126.911183 \nL 122.652006 127.59953 \nL 132.396185 130.287116 \nL 142.140364 129.389711 \nL 151.884543 133.610854 \nL 161.628722 132.026493 \nL 171.372901 135.202495 \nL 181.11708 134.992667 \n\" clip-path=\"url(#p6bb2f3dd98)\" style=\"fill: none; stroke: #1f77b4; stroke-width: 1.5; stroke-linecap: square\"/>\n   </g>\n   <g id=\"line2d_96\">\n    <path d=\"M 49.633125 63.067417 \nL 69.163125 99.133931 \nL 88.693125 114.077399 \nL 108.223125 101.686031 \nL 127.753125 113.151083 \nL 147.283125 115.412717 \nL 166.813125 123.971019 \n\" clip-path=\"url(#p6bb2f3dd98)\" style=\"fill: none; stroke-dasharray: 5.55,2.4; stroke-dashoffset: 0; stroke: #ff7f0e; stroke-width: 1.5\"/>\n   </g>\n   <g id=\"line2d_97\">\n    <path d=\"M 49.633125 45.554867 \nL 69.163125 35.483754 \nL 88.693125 30.288218 \nL 108.223125 35.30092 \nL 127.753125 29.815897 \nL 147.283125 28.993143 \nL 166.813125 25.671657 \n\" clip-path=\"url(#p6bb2f3dd98)\" style=\"fill: none; stroke-dasharray: 9.6,2.4,1.5,2.4; stroke-dashoffset: 0; stroke: #2ca02c; stroke-width: 1.5\"/>\n   </g>\n   <g id=\"line2d_98\">\n    <path d=\"M 34.954394 13.526236 \nL 44.698573 85.476093 \nL 54.442752 102.857628 \nL 64.186931 109.639025 \nL 73.93111 116.61126 \nL 83.675289 118.284928 \nL 93.419468 122.790538 \nL 103.163647 123.897541 \nL 112.907826 126.911183 \nL 122.652006 127.59953 \nL 132.396185 130.287116 \nL 142.140364 129.389711 \nL 151.884543 133.610854 \nL 161.628722 132.026493 \nL 171.372901 135.202495 \nL 181.11708 134.992667 \n\" clip-path=\"url(#p6bb2f3dd98)\" style=\"fill: none; stroke: #1f77b4; stroke-width: 1.5; stroke-linecap: square\"/>\n   </g>\n   <g id=\"line2d_99\">\n    <path d=\"M 49.633125 63.067417 \nL 69.163125 99.133931 \nL 88.693125 114.077399 \nL 108.223125 101.686031 \nL 127.753125 113.151083 \nL 147.283125 115.412717 \nL 166.813125 123.971019 \nL 186.343125 95.799752 \n\" clip-path=\"url(#p6bb2f3dd98)\" style=\"fill: none; stroke-dasharray: 5.55,2.4; stroke-dashoffset: 0; stroke: #ff7f0e; stroke-width: 1.5\"/>\n   </g>\n   <g id=\"line2d_100\">\n    <path d=\"M 49.633125 45.554867 \nL 69.163125 35.483754 \nL 88.693125 30.288218 \nL 108.223125 35.30092 \nL 127.753125 29.815897 \nL 147.283125 28.993143 \nL 166.813125 25.671657 \n\" clip-path=\"url(#p6bb2f3dd98)\" style=\"fill: none; stroke-dasharray: 9.6,2.4,1.5,2.4; stroke-dashoffset: 0; stroke: #2ca02c; stroke-width: 1.5\"/>\n   </g>\n   <g id=\"line2d_101\">\n    <path d=\"M 34.954394 13.526236 \nL 44.698573 85.476093 \nL 54.442752 102.857628 \nL 64.186931 109.639025 \nL 73.93111 116.61126 \nL 83.675289 118.284928 \nL 93.419468 122.790538 \nL 103.163647 123.897541 \nL 112.907826 126.911183 \nL 122.652006 127.59953 \nL 132.396185 130.287116 \nL 142.140364 129.389711 \nL 151.884543 133.610854 \nL 161.628722 132.026493 \nL 171.372901 135.202495 \nL 181.11708 134.992667 \n\" clip-path=\"url(#p6bb2f3dd98)\" style=\"fill: none; stroke: #1f77b4; stroke-width: 1.5; stroke-linecap: square\"/>\n   </g>\n   <g id=\"line2d_102\">\n    <path d=\"M 49.633125 63.067417 \nL 69.163125 99.133931 \nL 88.693125 114.077399 \nL 108.223125 101.686031 \nL 127.753125 113.151083 \nL 147.283125 115.412717 \nL 166.813125 123.971019 \nL 186.343125 95.799752 \n\" clip-path=\"url(#p6bb2f3dd98)\" style=\"fill: none; stroke-dasharray: 5.55,2.4; stroke-dashoffset: 0; stroke: #ff7f0e; stroke-width: 1.5\"/>\n   </g>\n   <g id=\"line2d_103\">\n    <path d=\"M 49.633125 45.554867 \nL 69.163125 35.483754 \nL 88.693125 30.288218 \nL 108.223125 35.30092 \nL 127.753125 29.815897 \nL 147.283125 28.993143 \nL 166.813125 25.671657 \nL 186.343125 34.280096 \n\" clip-path=\"url(#p6bb2f3dd98)\" style=\"fill: none; stroke-dasharray: 9.6,2.4,1.5,2.4; stroke-dashoffset: 0; stroke: #2ca02c; stroke-width: 1.5\"/>\n   </g>\n   <g id=\"line2d_104\">\n    <path d=\"M 34.954394 13.526236 \nL 44.698573 85.476093 \nL 54.442752 102.857628 \nL 64.186931 109.639025 \nL 73.93111 116.61126 \nL 83.675289 118.284928 \nL 93.419468 122.790538 \nL 103.163647 123.897541 \nL 112.907826 126.911183 \nL 122.652006 127.59953 \nL 132.396185 130.287116 \nL 142.140364 129.389711 \nL 151.884543 133.610854 \nL 161.628722 132.026493 \nL 171.372901 135.202495 \nL 181.11708 134.992667 \nL 190.861259 136.805013 \n\" clip-path=\"url(#p6bb2f3dd98)\" style=\"fill: none; stroke: #1f77b4; stroke-width: 1.5; stroke-linecap: square\"/>\n   </g>\n   <g id=\"line2d_105\">\n    <path d=\"M 49.633125 63.067417 \nL 69.163125 99.133931 \nL 88.693125 114.077399 \nL 108.223125 101.686031 \nL 127.753125 113.151083 \nL 147.283125 115.412717 \nL 166.813125 123.971019 \nL 186.343125 95.799752 \n\" clip-path=\"url(#p6bb2f3dd98)\" style=\"fill: none; stroke-dasharray: 5.55,2.4; stroke-dashoffset: 0; stroke: #ff7f0e; stroke-width: 1.5\"/>\n   </g>\n   <g id=\"line2d_106\">\n    <path d=\"M 49.633125 45.554867 \nL 69.163125 35.483754 \nL 88.693125 30.288218 \nL 108.223125 35.30092 \nL 127.753125 29.815897 \nL 147.283125 28.993143 \nL 166.813125 25.671657 \nL 186.343125 34.280096 \n\" clip-path=\"url(#p6bb2f3dd98)\" style=\"fill: none; stroke-dasharray: 9.6,2.4,1.5,2.4; stroke-dashoffset: 0; stroke: #2ca02c; stroke-width: 1.5\"/>\n   </g>\n   <g id=\"line2d_107\">\n    <path d=\"M 34.954394 13.526236 \nL 44.698573 85.476093 \nL 54.442752 102.857628 \nL 64.186931 109.639025 \nL 73.93111 116.61126 \nL 83.675289 118.284928 \nL 93.419468 122.790538 \nL 103.163647 123.897541 \nL 112.907826 126.911183 \nL 122.652006 127.59953 \nL 132.396185 130.287116 \nL 142.140364 129.389711 \nL 151.884543 133.610854 \nL 161.628722 132.026493 \nL 171.372901 135.202495 \nL 181.11708 134.992667 \nL 190.861259 136.805013 \nL 200.605438 137.413934 \n\" clip-path=\"url(#p6bb2f3dd98)\" style=\"fill: none; stroke: #1f77b4; stroke-width: 1.5; stroke-linecap: square\"/>\n   </g>\n   <g id=\"line2d_108\">\n    <path d=\"M 49.633125 63.067417 \nL 69.163125 99.133931 \nL 88.693125 114.077399 \nL 108.223125 101.686031 \nL 127.753125 113.151083 \nL 147.283125 115.412717 \nL 166.813125 123.971019 \nL 186.343125 95.799752 \n\" clip-path=\"url(#p6bb2f3dd98)\" style=\"fill: none; stroke-dasharray: 5.55,2.4; stroke-dashoffset: 0; stroke: #ff7f0e; stroke-width: 1.5\"/>\n   </g>\n   <g id=\"line2d_109\">\n    <path d=\"M 49.633125 45.554867 \nL 69.163125 35.483754 \nL 88.693125 30.288218 \nL 108.223125 35.30092 \nL 127.753125 29.815897 \nL 147.283125 28.993143 \nL 166.813125 25.671657 \nL 186.343125 34.280096 \n\" clip-path=\"url(#p6bb2f3dd98)\" style=\"fill: none; stroke-dasharray: 9.6,2.4,1.5,2.4; stroke-dashoffset: 0; stroke: #2ca02c; stroke-width: 1.5\"/>\n   </g>\n   <g id=\"line2d_110\">\n    <path d=\"M 34.954394 13.526236 \nL 44.698573 85.476093 \nL 54.442752 102.857628 \nL 64.186931 109.639025 \nL 73.93111 116.61126 \nL 83.675289 118.284928 \nL 93.419468 122.790538 \nL 103.163647 123.897541 \nL 112.907826 126.911183 \nL 122.652006 127.59953 \nL 132.396185 130.287116 \nL 142.140364 129.389711 \nL 151.884543 133.610854 \nL 161.628722 132.026493 \nL 171.372901 135.202495 \nL 181.11708 134.992667 \nL 190.861259 136.805013 \nL 200.605438 137.413934 \n\" clip-path=\"url(#p6bb2f3dd98)\" style=\"fill: none; stroke: #1f77b4; stroke-width: 1.5; stroke-linecap: square\"/>\n   </g>\n   <g id=\"line2d_111\">\n    <path d=\"M 49.633125 63.067417 \nL 69.163125 99.133931 \nL 88.693125 114.077399 \nL 108.223125 101.686031 \nL 127.753125 113.151083 \nL 147.283125 115.412717 \nL 166.813125 123.971019 \nL 186.343125 95.799752 \nL 205.873125 127.026209 \n\" clip-path=\"url(#p6bb2f3dd98)\" style=\"fill: none; stroke-dasharray: 5.55,2.4; stroke-dashoffset: 0; stroke: #ff7f0e; stroke-width: 1.5\"/>\n   </g>\n   <g id=\"line2d_112\">\n    <path d=\"M 49.633125 45.554867 \nL 69.163125 35.483754 \nL 88.693125 30.288218 \nL 108.223125 35.30092 \nL 127.753125 29.815897 \nL 147.283125 28.993143 \nL 166.813125 25.671657 \nL 186.343125 34.280096 \n\" clip-path=\"url(#p6bb2f3dd98)\" style=\"fill: none; stroke-dasharray: 9.6,2.4,1.5,2.4; stroke-dashoffset: 0; stroke: #2ca02c; stroke-width: 1.5\"/>\n   </g>\n   <g id=\"line2d_113\">\n    <path d=\"M 34.954394 13.526236 \nL 44.698573 85.476093 \nL 54.442752 102.857628 \nL 64.186931 109.639025 \nL 73.93111 116.61126 \nL 83.675289 118.284928 \nL 93.419468 122.790538 \nL 103.163647 123.897541 \nL 112.907826 126.911183 \nL 122.652006 127.59953 \nL 132.396185 130.287116 \nL 142.140364 129.389711 \nL 151.884543 133.610854 \nL 161.628722 132.026493 \nL 171.372901 135.202495 \nL 181.11708 134.992667 \nL 190.861259 136.805013 \nL 200.605438 137.413934 \n\" clip-path=\"url(#p6bb2f3dd98)\" style=\"fill: none; stroke: #1f77b4; stroke-width: 1.5; stroke-linecap: square\"/>\n   </g>\n   <g id=\"line2d_114\">\n    <path d=\"M 49.633125 63.067417 \nL 69.163125 99.133931 \nL 88.693125 114.077399 \nL 108.223125 101.686031 \nL 127.753125 113.151083 \nL 147.283125 115.412717 \nL 166.813125 123.971019 \nL 186.343125 95.799752 \nL 205.873125 127.026209 \n\" clip-path=\"url(#p6bb2f3dd98)\" style=\"fill: none; stroke-dasharray: 5.55,2.4; stroke-dashoffset: 0; stroke: #ff7f0e; stroke-width: 1.5\"/>\n   </g>\n   <g id=\"line2d_115\">\n    <path d=\"M 49.633125 45.554867 \nL 69.163125 35.483754 \nL 88.693125 30.288218 \nL 108.223125 35.30092 \nL 127.753125 29.815897 \nL 147.283125 28.993143 \nL 166.813125 25.671657 \nL 186.343125 34.280096 \nL 205.873125 24.605124 \n\" clip-path=\"url(#p6bb2f3dd98)\" style=\"fill: none; stroke-dasharray: 9.6,2.4,1.5,2.4; stroke-dashoffset: 0; stroke: #2ca02c; stroke-width: 1.5\"/>\n   </g>\n   <g id=\"line2d_116\">\n    <path d=\"M 34.954394 13.526236 \nL 44.698573 85.476093 \nL 54.442752 102.857628 \nL 64.186931 109.639025 \nL 73.93111 116.61126 \nL 83.675289 118.284928 \nL 93.419468 122.790538 \nL 103.163647 123.897541 \nL 112.907826 126.911183 \nL 122.652006 127.59953 \nL 132.396185 130.287116 \nL 142.140364 129.389711 \nL 151.884543 133.610854 \nL 161.628722 132.026493 \nL 171.372901 135.202495 \nL 181.11708 134.992667 \nL 190.861259 136.805013 \nL 200.605438 137.413934 \nL 210.349618 139.526236 \n\" clip-path=\"url(#p6bb2f3dd98)\" style=\"fill: none; stroke: #1f77b4; stroke-width: 1.5; stroke-linecap: square\"/>\n   </g>\n   <g id=\"line2d_117\">\n    <path d=\"M 49.633125 63.067417 \nL 69.163125 99.133931 \nL 88.693125 114.077399 \nL 108.223125 101.686031 \nL 127.753125 113.151083 \nL 147.283125 115.412717 \nL 166.813125 123.971019 \nL 186.343125 95.799752 \nL 205.873125 127.026209 \n\" clip-path=\"url(#p6bb2f3dd98)\" style=\"fill: none; stroke-dasharray: 5.55,2.4; stroke-dashoffset: 0; stroke: #ff7f0e; stroke-width: 1.5\"/>\n   </g>\n   <g id=\"line2d_118\">\n    <path d=\"M 49.633125 45.554867 \nL 69.163125 35.483754 \nL 88.693125 30.288218 \nL 108.223125 35.30092 \nL 127.753125 29.815897 \nL 147.283125 28.993143 \nL 166.813125 25.671657 \nL 186.343125 34.280096 \nL 205.873125 24.605124 \n\" clip-path=\"url(#p6bb2f3dd98)\" style=\"fill: none; stroke-dasharray: 9.6,2.4,1.5,2.4; stroke-dashoffset: 0; stroke: #2ca02c; stroke-width: 1.5\"/>\n   </g>\n   <g id=\"line2d_119\">\n    <path d=\"M 34.954394 13.526236 \nL 44.698573 85.476093 \nL 54.442752 102.857628 \nL 64.186931 109.639025 \nL 73.93111 116.61126 \nL 83.675289 118.284928 \nL 93.419468 122.790538 \nL 103.163647 123.897541 \nL 112.907826 126.911183 \nL 122.652006 127.59953 \nL 132.396185 130.287116 \nL 142.140364 129.389711 \nL 151.884543 133.610854 \nL 161.628722 132.026493 \nL 171.372901 135.202495 \nL 181.11708 134.992667 \nL 190.861259 136.805013 \nL 200.605438 137.413934 \nL 210.349618 139.526236 \nL 220.093797 137.838451 \n\" clip-path=\"url(#p6bb2f3dd98)\" style=\"fill: none; stroke: #1f77b4; stroke-width: 1.5; stroke-linecap: square\"/>\n   </g>\n   <g id=\"line2d_120\">\n    <path d=\"M 49.633125 63.067417 \nL 69.163125 99.133931 \nL 88.693125 114.077399 \nL 108.223125 101.686031 \nL 127.753125 113.151083 \nL 147.283125 115.412717 \nL 166.813125 123.971019 \nL 186.343125 95.799752 \nL 205.873125 127.026209 \n\" clip-path=\"url(#p6bb2f3dd98)\" style=\"fill: none; stroke-dasharray: 5.55,2.4; stroke-dashoffset: 0; stroke: #ff7f0e; stroke-width: 1.5\"/>\n   </g>\n   <g id=\"line2d_121\">\n    <path d=\"M 49.633125 45.554867 \nL 69.163125 35.483754 \nL 88.693125 30.288218 \nL 108.223125 35.30092 \nL 127.753125 29.815897 \nL 147.283125 28.993143 \nL 166.813125 25.671657 \nL 186.343125 34.280096 \nL 205.873125 24.605124 \n\" clip-path=\"url(#p6bb2f3dd98)\" style=\"fill: none; stroke-dasharray: 9.6,2.4,1.5,2.4; stroke-dashoffset: 0; stroke: #2ca02c; stroke-width: 1.5\"/>\n   </g>\n   <g id=\"line2d_122\">\n    <path d=\"M 34.954394 13.526236 \nL 44.698573 85.476093 \nL 54.442752 102.857628 \nL 64.186931 109.639025 \nL 73.93111 116.61126 \nL 83.675289 118.284928 \nL 93.419468 122.790538 \nL 103.163647 123.897541 \nL 112.907826 126.911183 \nL 122.652006 127.59953 \nL 132.396185 130.287116 \nL 142.140364 129.389711 \nL 151.884543 133.610854 \nL 161.628722 132.026493 \nL 171.372901 135.202495 \nL 181.11708 134.992667 \nL 190.861259 136.805013 \nL 200.605438 137.413934 \nL 210.349618 139.526236 \nL 220.093797 137.838451 \n\" clip-path=\"url(#p6bb2f3dd98)\" style=\"fill: none; stroke: #1f77b4; stroke-width: 1.5; stroke-linecap: square\"/>\n   </g>\n   <g id=\"line2d_123\">\n    <path d=\"M 49.633125 63.067417 \nL 69.163125 99.133931 \nL 88.693125 114.077399 \nL 108.223125 101.686031 \nL 127.753125 113.151083 \nL 147.283125 115.412717 \nL 166.813125 123.971019 \nL 186.343125 95.799752 \nL 205.873125 127.026209 \nL 225.403125 123.545088 \n\" clip-path=\"url(#p6bb2f3dd98)\" style=\"fill: none; stroke-dasharray: 5.55,2.4; stroke-dashoffset: 0; stroke: #ff7f0e; stroke-width: 1.5\"/>\n   </g>\n   <g id=\"line2d_124\">\n    <path d=\"M 49.633125 45.554867 \nL 69.163125 35.483754 \nL 88.693125 30.288218 \nL 108.223125 35.30092 \nL 127.753125 29.815897 \nL 147.283125 28.993143 \nL 166.813125 25.671657 \nL 186.343125 34.280096 \nL 205.873125 24.605124 \n\" clip-path=\"url(#p6bb2f3dd98)\" style=\"fill: none; stroke-dasharray: 9.6,2.4,1.5,2.4; stroke-dashoffset: 0; stroke: #2ca02c; stroke-width: 1.5\"/>\n   </g>\n   <g id=\"line2d_125\">\n    <path d=\"M 34.954394 13.526236 \nL 44.698573 85.476093 \nL 54.442752 102.857628 \nL 64.186931 109.639025 \nL 73.93111 116.61126 \nL 83.675289 118.284928 \nL 93.419468 122.790538 \nL 103.163647 123.897541 \nL 112.907826 126.911183 \nL 122.652006 127.59953 \nL 132.396185 130.287116 \nL 142.140364 129.389711 \nL 151.884543 133.610854 \nL 161.628722 132.026493 \nL 171.372901 135.202495 \nL 181.11708 134.992667 \nL 190.861259 136.805013 \nL 200.605438 137.413934 \nL 210.349618 139.526236 \nL 220.093797 137.838451 \n\" clip-path=\"url(#p6bb2f3dd98)\" style=\"fill: none; stroke: #1f77b4; stroke-width: 1.5; stroke-linecap: square\"/>\n   </g>\n   <g id=\"line2d_126\">\n    <path d=\"M 49.633125 63.067417 \nL 69.163125 99.133931 \nL 88.693125 114.077399 \nL 108.223125 101.686031 \nL 127.753125 113.151083 \nL 147.283125 115.412717 \nL 166.813125 123.971019 \nL 186.343125 95.799752 \nL 205.873125 127.026209 \nL 225.403125 123.545088 \n\" clip-path=\"url(#p6bb2f3dd98)\" style=\"fill: none; stroke-dasharray: 5.55,2.4; stroke-dashoffset: 0; stroke: #ff7f0e; stroke-width: 1.5\"/>\n   </g>\n   <g id=\"line2d_127\">\n    <path d=\"M 49.633125 45.554867 \nL 69.163125 35.483754 \nL 88.693125 30.288218 \nL 108.223125 35.30092 \nL 127.753125 29.815897 \nL 147.283125 28.993143 \nL 166.813125 25.671657 \nL 186.343125 34.280096 \nL 205.873125 24.605124 \nL 225.403125 25.473586 \n\" clip-path=\"url(#p6bb2f3dd98)\" style=\"fill: none; stroke-dasharray: 9.6,2.4,1.5,2.4; stroke-dashoffset: 0; stroke: #2ca02c; stroke-width: 1.5\"/>\n   </g>\n   <g id=\"patch_3\">\n    <path d=\"M 30.103125 145.826236 \nL 30.103125 7.226236 \n\" style=\"fill: none; stroke: #000000; stroke-width: 0.8; stroke-linejoin: miter; stroke-linecap: square\"/>\n   </g>\n   <g id=\"patch_4\">\n    <path d=\"M 225.403125 145.826236 \nL 225.403125 7.226236 \n\" style=\"fill: none; stroke: #000000; stroke-width: 0.8; stroke-linejoin: miter; stroke-linecap: square\"/>\n   </g>\n   <g id=\"patch_5\">\n    <path d=\"M 30.103125 145.826236 \nL 225.403125 145.826236 \n\" style=\"fill: none; stroke: #000000; stroke-width: 0.8; stroke-linejoin: miter; stroke-linecap: square\"/>\n   </g>\n   <g id=\"patch_6\">\n    <path d=\"M 30.103125 7.226236 \nL 225.403125 7.226236 \n\" style=\"fill: none; stroke: #000000; stroke-width: 0.8; stroke-linejoin: miter; stroke-linecap: square\"/>\n   </g>\n   <g id=\"legend_1\">\n    <g id=\"patch_7\">\n     <path d=\"M 87.957813 100.460611 \nL 167.548438 100.460611 \nQ 169.548438 100.460611 169.548438 98.460611 \nL 169.548438 54.591861 \nQ 169.548438 52.591861 167.548438 52.591861 \nL 87.957813 52.591861 \nQ 85.957813 52.591861 85.957813 54.591861 \nL 85.957813 98.460611 \nQ 85.957813 100.460611 87.957813 100.460611 \nz\n\" style=\"fill: #ffffff; opacity: 0.8; stroke: #cccccc; stroke-linejoin: miter\"/>\n    </g>\n    <g id=\"line2d_128\">\n     <path d=\"M 89.957813 60.690299 \nL 99.957813 60.690299 \nL 109.957813 60.690299 \n\" style=\"fill: none; stroke: #1f77b4; stroke-width: 1.5; stroke-linecap: square\"/>\n    </g>\n    <g id=\"text_13\">\n     <!-- train_loss -->\n     <g transform=\"translate(117.957813 64.190299) scale(0.1 -0.1)\">\n      <defs>\n       <path id=\"DejaVuSans-74\" d=\"M 1172 4494 \nL 1172 3500 \nL 2356 3500 \nL 2356 3053 \nL 1172 3053 \nL 1172 1153 \nQ 1172 725 1289 603 \nQ 1406 481 1766 481 \nL 2356 481 \nL 2356 0 \nL 1766 0 \nQ 1100 0 847 248 \nQ 594 497 594 1153 \nL 594 3053 \nL 172 3053 \nL 172 3500 \nL 594 3500 \nL 594 4494 \nL 1172 4494 \nz\n\" transform=\"scale(0.015625)\"/>\n       <path id=\"DejaVuSans-72\" d=\"M 2631 2963 \nQ 2534 3019 2420 3045 \nQ 2306 3072 2169 3072 \nQ 1681 3072 1420 2755 \nQ 1159 2438 1159 1844 \nL 1159 0 \nL 581 0 \nL 581 3500 \nL 1159 3500 \nL 1159 2956 \nQ 1341 3275 1631 3429 \nQ 1922 3584 2338 3584 \nQ 2397 3584 2469 3576 \nQ 2541 3569 2628 3553 \nL 2631 2963 \nz\n\" transform=\"scale(0.015625)\"/>\n       <path id=\"DejaVuSans-61\" d=\"M 2194 1759 \nQ 1497 1759 1228 1600 \nQ 959 1441 959 1056 \nQ 959 750 1161 570 \nQ 1363 391 1709 391 \nQ 2188 391 2477 730 \nQ 2766 1069 2766 1631 \nL 2766 1759 \nL 2194 1759 \nz\nM 3341 1997 \nL 3341 0 \nL 2766 0 \nL 2766 531 \nQ 2569 213 2275 61 \nQ 1981 -91 1556 -91 \nQ 1019 -91 701 211 \nQ 384 513 384 1019 \nQ 384 1609 779 1909 \nQ 1175 2209 1959 2209 \nL 2766 2209 \nL 2766 2266 \nQ 2766 2663 2505 2880 \nQ 2244 3097 1772 3097 \nQ 1472 3097 1187 3025 \nQ 903 2953 641 2809 \nL 641 3341 \nQ 956 3463 1253 3523 \nQ 1550 3584 1831 3584 \nQ 2591 3584 2966 3190 \nQ 3341 2797 3341 1997 \nz\n\" transform=\"scale(0.015625)\"/>\n       <path id=\"DejaVuSans-69\" d=\"M 603 3500 \nL 1178 3500 \nL 1178 0 \nL 603 0 \nL 603 3500 \nz\nM 603 4863 \nL 1178 4863 \nL 1178 4134 \nL 603 4134 \nL 603 4863 \nz\n\" transform=\"scale(0.015625)\"/>\n       <path id=\"DejaVuSans-6e\" d=\"M 3513 2113 \nL 3513 0 \nL 2938 0 \nL 2938 2094 \nQ 2938 2591 2744 2837 \nQ 2550 3084 2163 3084 \nQ 1697 3084 1428 2787 \nQ 1159 2491 1159 1978 \nL 1159 0 \nL 581 0 \nL 581 3500 \nL 1159 3500 \nL 1159 2956 \nQ 1366 3272 1645 3428 \nQ 1925 3584 2291 3584 \nQ 2894 3584 3203 3211 \nQ 3513 2838 3513 2113 \nz\n\" transform=\"scale(0.015625)\"/>\n       <path id=\"DejaVuSans-5f\" d=\"M 3263 -1063 \nL 3263 -1509 \nL -63 -1509 \nL -63 -1063 \nL 3263 -1063 \nz\n\" transform=\"scale(0.015625)\"/>\n       <path id=\"DejaVuSans-6c\" d=\"M 603 4863 \nL 1178 4863 \nL 1178 0 \nL 603 0 \nL 603 4863 \nz\n\" transform=\"scale(0.015625)\"/>\n       <path id=\"DejaVuSans-73\" d=\"M 2834 3397 \nL 2834 2853 \nQ 2591 2978 2328 3040 \nQ 2066 3103 1784 3103 \nQ 1356 3103 1142 2972 \nQ 928 2841 928 2578 \nQ 928 2378 1081 2264 \nQ 1234 2150 1697 2047 \nL 1894 2003 \nQ 2506 1872 2764 1633 \nQ 3022 1394 3022 966 \nQ 3022 478 2636 193 \nQ 2250 -91 1575 -91 \nQ 1294 -91 989 -36 \nQ 684 19 347 128 \nL 347 722 \nQ 666 556 975 473 \nQ 1284 391 1588 391 \nQ 1994 391 2212 530 \nQ 2431 669 2431 922 \nQ 2431 1156 2273 1281 \nQ 2116 1406 1581 1522 \nL 1381 1569 \nQ 847 1681 609 1914 \nQ 372 2147 372 2553 \nQ 372 3047 722 3315 \nQ 1072 3584 1716 3584 \nQ 2034 3584 2315 3537 \nQ 2597 3491 2834 3397 \nz\n\" transform=\"scale(0.015625)\"/>\n      </defs>\n      <use xlink:href=\"#DejaVuSans-74\"/>\n      <use xlink:href=\"#DejaVuSans-72\" x=\"39.208984\"/>\n      <use xlink:href=\"#DejaVuSans-61\" x=\"80.322266\"/>\n      <use xlink:href=\"#DejaVuSans-69\" x=\"141.601562\"/>\n      <use xlink:href=\"#DejaVuSans-6e\" x=\"169.384766\"/>\n      <use xlink:href=\"#DejaVuSans-5f\" x=\"232.763672\"/>\n      <use xlink:href=\"#DejaVuSans-6c\" x=\"282.763672\"/>\n      <use xlink:href=\"#DejaVuSans-6f\" x=\"310.546875\"/>\n      <use xlink:href=\"#DejaVuSans-73\" x=\"371.728516\"/>\n      <use xlink:href=\"#DejaVuSans-73\" x=\"423.828125\"/>\n     </g>\n    </g>\n    <g id=\"line2d_129\">\n     <path d=\"M 89.957813 75.646549 \nL 99.957813 75.646549 \nL 109.957813 75.646549 \n\" style=\"fill: none; stroke-dasharray: 5.55,2.4; stroke-dashoffset: 0; stroke: #ff7f0e; stroke-width: 1.5\"/>\n    </g>\n    <g id=\"text_14\">\n     <!-- val_loss -->\n     <g transform=\"translate(117.957813 79.146549) scale(0.1 -0.1)\">\n      <defs>\n       <path id=\"DejaVuSans-76\" d=\"M 191 3500 \nL 800 3500 \nL 1894 563 \nL 2988 3500 \nL 3597 3500 \nL 2284 0 \nL 1503 0 \nL 191 3500 \nz\n\" transform=\"scale(0.015625)\"/>\n      </defs>\n      <use xlink:href=\"#DejaVuSans-76\"/>\n      <use xlink:href=\"#DejaVuSans-61\" x=\"59.179688\"/>\n      <use xlink:href=\"#DejaVuSans-6c\" x=\"120.458984\"/>\n      <use xlink:href=\"#DejaVuSans-5f\" x=\"148.242188\"/>\n      <use xlink:href=\"#DejaVuSans-6c\" x=\"198.242188\"/>\n      <use xlink:href=\"#DejaVuSans-6f\" x=\"226.025391\"/>\n      <use xlink:href=\"#DejaVuSans-73\" x=\"287.207031\"/>\n      <use xlink:href=\"#DejaVuSans-73\" x=\"339.306641\"/>\n     </g>\n    </g>\n    <g id=\"line2d_130\">\n     <path d=\"M 89.957813 90.602799 \nL 99.957813 90.602799 \nL 109.957813 90.602799 \n\" style=\"fill: none; stroke-dasharray: 9.6,2.4,1.5,2.4; stroke-dashoffset: 0; stroke: #2ca02c; stroke-width: 1.5\"/>\n    </g>\n    <g id=\"text_15\">\n     <!-- val_acc -->\n     <g transform=\"translate(117.957813 94.102799) scale(0.1 -0.1)\">\n      <use xlink:href=\"#DejaVuSans-76\"/>\n      <use xlink:href=\"#DejaVuSans-61\" x=\"59.179688\"/>\n      <use xlink:href=\"#DejaVuSans-6c\" x=\"120.458984\"/>\n      <use xlink:href=\"#DejaVuSans-5f\" x=\"148.242188\"/>\n      <use xlink:href=\"#DejaVuSans-61\" x=\"198.242188\"/>\n      <use xlink:href=\"#DejaVuSans-63\" x=\"259.521484\"/>\n      <use xlink:href=\"#DejaVuSans-63\" x=\"314.501953\"/>\n     </g>\n    </g>\n   </g>\n  </g>\n </g>\n <defs>\n  <clipPath id=\"p6bb2f3dd98\">\n   <rect x=\"30.103125\" y=\"7.226236\" width=\"195.3\" height=\"138.6\"/>\n  </clipPath>\n </defs>\n</svg>\n"
          },
          "metadata": {}
        }
      ]
    },
    {
      "cell_type": "markdown",
      "source": [
        "## EXERCISE"
      ],
      "metadata": {
        "id": "QjH-tDwjL4FR"
      }
    },
    {
      "cell_type": "markdown",
      "source": [
        "### 1. Increase the number of stages to four. Can you design a deeper RegNetX that performs better?"
      ],
      "metadata": {
        "id": "fDmQYAetL5vw"
      }
    },
    {
      "cell_type": "code",
      "source": [
        "import torch\n",
        "import torch.nn as nn\n",
        "from torch.nn import functional as F\n",
        "import sys\n",
        "sys.path.append('/home/jovyan/work/d2l_solutions/notebooks/exercises/d2l_utils/')\n",
        "import d2l\n",
        "from torchsummary import summary\n",
        "\n",
        "class AnyNet(d2l.Classifier):\n",
        "    def stem(self, num_channels):\n",
        "        return nn.Sequential(\n",
        "            nn.LazyConv2d(num_channels, kernel_size=3, stride=2, padding=1),\n",
        "            nn.LazyBatchNorm2d(), nn.ReLU())\n",
        "    def stage(self, depth, num_channels, groups, bot_mul):\n",
        "        blk = []\n",
        "        for i in range(depth):\n",
        "            if i == 0:\n",
        "                blk.append(d2l.ResNeXtBlock(num_channels, groups, bot_mul,\n",
        "                    use_1x1conv=True, strides=2))\n",
        "            else:\n",
        "                blk.append(d2l.ResNeXtBlock(num_channels, groups, bot_mul))\n",
        "        return nn.Sequential(*blk)\n",
        "\n",
        "    def __init__(self, arch, stem_channels, lr=0.1, num_classes=10):\n",
        "        super(AnyNet, self).__init__()\n",
        "        self.save_hyperparameters()\n",
        "        self.net = nn.Sequential(self.stem(stem_channels))\n",
        "        for i, s in enumerate(arch):\n",
        "            self.net.add_module(f'stage{i+1}', self.stage(*s))\n",
        "        self.net.add_module('head', nn.Sequential(\n",
        "            nn.AdaptiveAvgPool2d((1, 1)), nn.Flatten(),\n",
        "            nn.LazyLinear(num_classes)))\n",
        "        self.net.apply(d2l.init_cnn)\n",
        "\n",
        "class RegNetX32(AnyNet):\n",
        "    def __init__(self, lr=0.1, num_classes=10):\n",
        "        stem_channels, groups, bot_mul = 32, 16, 1\n",
        "        depths, channels = (4, 6, 8, 16), (32, 80, 128, 256)\n",
        "        super().__init__(\n",
        "            # ((depths[0], channels[0], groups, bot_mul),\n",
        "            #  (depths[1], channels[1], groups, bot_mul)),\n",
        "            [(depths[i], channels[i], groups, bot_mul) for i in range(len(depths))],\n",
        "            stem_channels, lr, num_classes)"
      ],
      "metadata": {
        "id": "XI-S0272uv9B"
      },
      "execution_count": null,
      "outputs": []
    },
    {
      "cell_type": "code",
      "source": [
        "model = RegNetX32(lr=0.05)\n",
        "# summary(model,(1,224,224))\n",
        "trainer = d2l.Trainer(max_epochs=10, num_gpus=1)\n",
        "data = d2l.FashionMNIST(batch_size=128, resize=(224, 224))\n",
        "trainer.fit(model, data)"
      ],
      "metadata": {
        "id": "G2a0WD2tuwkl"
      },
      "execution_count": null,
      "outputs": []
    },
    {
      "cell_type": "markdown",
      "source": [
        "### 2. De-ResNeXt-ify RegNets by replacing the ResNeXt block with the ResNet block. How does your new model perform?"
      ],
      "metadata": {
        "id": "VA_IOZ6KMAnh"
      }
    },
    {
      "cell_type": "code",
      "source": [
        "class DeAnyNet(d2l.Classifier):\n",
        "    def stem(self, num_channels):\n",
        "        return nn.Sequential(\n",
        "            nn.LazyConv2d(num_channels, kernel_size=3, stride=2, padding=1),\n",
        "            nn.LazyBatchNorm2d(), nn.ReLU())\n",
        "    def stage(self, depth, num_channels):\n",
        "        blk = []\n",
        "        for i in range(depth):\n",
        "            if i == 0:\n",
        "                blk.append(d2l.Residual(num_channels, use_1x1conv=True, strides=2))\n",
        "            else:\n",
        "                blk.append(d2l.Residual(num_channels))\n",
        "        return nn.Sequential(*blk)\n",
        "\n",
        "    def __init__(self, arch, stem_channels, lr=0.1, num_classes=10):\n",
        "        super().__init__()\n",
        "        self.save_hyperparameters()\n",
        "        self.net = nn.Sequential(self.stem(stem_channels))\n",
        "        for i, s in enumerate(arch):\n",
        "            self.net.add_module(f'stage{i+1}', self.stage(*s))\n",
        "        self.net.add_module('head', nn.Sequential(\n",
        "            nn.AdaptiveAvgPool2d((1, 1)), nn.Flatten(),\n",
        "            nn.LazyLinear(num_classes)))\n",
        "        self.net.apply(d2l.init_cnn)\n",
        "\n",
        "class DeResNeXt(DeAnyNet):\n",
        "    def __init__(self, lr=0.1, num_classes=10):\n",
        "        stem_channels, groups, bot_mul = 32, 16, 1\n",
        "        depths, channels = (5, 6), (32, 80)\n",
        "        super().__init__(\n",
        "            ((depths[0], channels[0]),\n",
        "             (depths[1], channels[1])),\n",
        "            stem_channels, lr, num_classes)"
      ],
      "metadata": {
        "id": "vJ7FW8SFu3hN"
      },
      "execution_count": null,
      "outputs": []
    },
    {
      "cell_type": "code",
      "source": [
        "model = DeResNeXt(lr=0.05)\n",
        "trainer = d2l.Trainer(max_epochs=10, num_gpus=1)\n",
        "trainer.fit(model, data)"
      ],
      "metadata": {
        "id": "rAk6sL1ou4IR"
      },
      "execution_count": null,
      "outputs": []
    },
    {
      "cell_type": "markdown",
      "source": [
        "### 3. Implement multiple instances of a “VioNet” family by violating the design principles of RegNetX. How do they perform? Which of $(c_i, d_i, g_i, b_i)$ is the most important factor?"
      ],
      "metadata": {
        "id": "lyqDH59kMDGd"
      }
    },
    {
      "cell_type": "code",
      "source": [
        "class VioNet(AnyNet):\n",
        "    def __init__(self, lr=0.1, num_classes=10, depths=(4, 6), channels=(32, 80),\n",
        "                 stem_channels=32, groups=(16, 16), bot_mul=(1, 1)):\n",
        "        super().__init__(\n",
        "            [(depths[i], channels[i], groups[i], bot_mul[i]) for i in range(len(depths))],\n",
        "            stem_channels, lr, num_classes)"
      ],
      "metadata": {
        "id": "qMSBguMAu8pP"
      },
      "execution_count": null,
      "outputs": []
    },
    {
      "cell_type": "code",
      "source": [
        "VioNet_d = VioNet(depths=(6, 4))\n",
        "trainer = d2l.Trainer(max_epochs=10, num_gpus=1)\n",
        "trainer.fit(VioNet_d, data)\n",
        "\n",
        "VioNet_c = VioNet(channels=(80, 32))\n",
        "trainer = d2l.Trainer(max_epochs=10, num_gpus=1)\n",
        "trainer.fit(VioNet_c, data)\n",
        "\n",
        "VioNet_g = VioNet(groups=(16, 32))\n",
        "trainer = d2l.Trainer(max_epochs=10, num_gpus=1)\n",
        "trainer.fit(VioNet_g, data)\n",
        "\n",
        "VioNet_b = VioNet(bot_mul=(1, 2))\n",
        "trainer = d2l.Trainer(max_epochs=10, num_gpus=1)\n",
        "trainer.fit(VioNet_b, data)"
      ],
      "metadata": {
        "id": "gU8CLZjqu9So"
      },
      "execution_count": null,
      "outputs": []
    },
    {
      "cell_type": "markdown",
      "source": [
        "### 4. Your goal is to design the “perfect” MLP. Can you use the design principles introduced above to find good architectures? Is it possible to extrapolate from small to large networks?\n",
        "\n",
        "Untuk merancang MLP yang \"sempurna,\" dapat digunakan prinsip desain yang telah diperkenalkan sebelumnya untuk menemukan arsitektur yang baik.\n",
        "\n",
        "Beberapa langkah yang dapat diambil meliputi:\n",
        "- Penggunaan Regularisasi: Terapkan teknik regulasi seperti dropout dan batch normalization untuk mencegah overfitting dan mempercepat konvergensi.\n",
        "- Optimasi Arsitektur: Uji berbagai jumlah lapisan dan neuron di setiap lapisan untuk menemukan kombinasi yang optimal.\n",
        "- Pemilihan Fungsi Aktivasi: Gunakan fungsi aktivasi yang sesuai (seperti ReLU atau Leaky ReLU) untuk mempercepat pembelajaran.\n",
        "- Penggunaan Sparsitas: Pertimbangkan sparsitas untuk mengurangi kompleksitas model dan meningkatkan efisiensi.\n",
        "- Transfer Pembelajaran: Manfaatkan pembelajaran transfer dari model kecil ke model besar, yaitu dengan menerapkan pengetahuan yang diperoleh dari model kecil ke dalam model yang lebih besar.\n"
      ],
      "metadata": {
        "id": "l99T1pqpMOpP"
      }
    }
  ]
}